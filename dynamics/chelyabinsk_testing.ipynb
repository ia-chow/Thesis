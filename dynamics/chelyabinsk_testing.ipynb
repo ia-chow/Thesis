{
 "cells": [
  {
   "cell_type": "code",
   "execution_count": 1,
   "id": "a205483f-10b2-4699-85f0-7cb12d0de896",
   "metadata": {},
   "outputs": [],
   "source": [
    "import numpy as np\n",
    "\n",
    "# earth\n",
    "a1 = 1.0\n",
    "e1 = 0.01671022\n",
    "i1 = np.deg2rad(5e-5)\n",
    "Omega1 = 3.04258634035543\n",
    "omega1 = 5.039693830215871\n",
    "tp1 = 2.9521957017761773# 2459948.5 # BJD\n",
    "nu1 = 3.3248242685119127# np.deg2rad(44.42)  # convert from degrees to radians\n",
    "\n",
    "# chelyabinsk\n",
    "a2 = 1.72  # AU\n",
    "e2 = 0.571\n",
    "i2 = np.deg2rad(4.98)  # degrees to radians\n",
    "Omega2 = np.deg2rad(326.459)  # degrees to radians\n",
    "omega2 = np.deg2rad(107.67)  # degrees to radians\n",
    "tp2 = 2456292.89# 3.1807667707132743  # bjd\n",
    "nu2 = 3.5506969127835046"
   ]
  },
  {
   "cell_type": "code",
   "execution_count": 2,
   "id": "12b91c88-9c3d-408f-802a-84bd808bf91c",
   "metadata": {},
   "outputs": [
    {
     "data": {
      "text/plain": [
       "3.3248242685119127"
      ]
     },
     "execution_count": 2,
     "metadata": {},
     "output_type": "execute_result"
    }
   ],
   "source": [
    "nu1"
   ]
  },
  {
   "cell_type": "markdown",
   "id": "67005e11-2adf-4f9b-b915-54fb932802b0",
   "metadata": {},
   "source": [
    "Semimajor axis, a (AU) 1.72 6 0.02 1.759621064 6 6 3 1029 Perihelion distance, q (AU) 0.738 6 0.002 0.7403896 6 1 3 1027 Eccentricity, e 0.571 6 0.006 0.57923346 6 6 3 1028 Inclination, i (u) 4.98 6 0.12 7.12312 6 1 3 1025 Longitude of the ascending node, V (u) 326.459 6 0.001 311.81880 6 5 3 1025 Argument of perihelion, v (u) 107.67 6 0.17 120.55894 6 5 3 1025"
   ]
  },
  {
   "cell_type": "code",
   "execution_count": 3,
   "id": "dc35821d-64d4-45d9-8cd6-b4a9a6e3d1b8",
   "metadata": {},
   "outputs": [],
   "source": [
    "import rebound as rb\n",
    "\n",
    "a = 1.72\n",
    "e = 0.571\n",
    "i = 4.98\n",
    "Omega = 326.459\n",
    "omega = 107.67\n",
    "tp = 2456292.89"
   ]
  },
  {
   "cell_type": "code",
   "execution_count": 4,
   "id": "5c1e8b6f-5909-4f66-a590-863f85a0e724",
   "metadata": {},
   "outputs": [
    {
     "name": "stdout",
     "output_type": "stream",
     "text": [
      "Searching NASA Horizons for 'Sun'... \n",
      "Found: Sun (10) \n"
     ]
    },
    {
     "data": {
      "text/plain": [
       "3.3248242685119127"
      ]
     },
     "execution_count": 4,
     "metadata": {},
     "output_type": "execute_result"
    }
   ],
   "source": [
    "sim = rb.Simulation()\n",
    "sim.add('Sun')\n",
    "\n",
    "sim.add(a=a1, e=e1, inc=i1, Omega=omega1, omega=omega1, T=tp1)\n",
    "\n",
    "sim.particles[1].f"
   ]
  },
  {
   "cell_type": "code",
   "execution_count": 5,
   "id": "3a2e86ea-3029-4210-8f27-fcd8ff22decb",
   "metadata": {},
   "outputs": [
    {
     "name": "stdout",
     "output_type": "stream",
     "text": [
      "Searching NASA Horizons for 'Sun'... \n",
      "Found: Sun (10) \n",
      "Searching NASA Horizons for 'Earth'... \n",
      "Found: Earth-Moon Barycenter (3) (chosen from query 'Earth')\n"
     ]
    },
    {
     "data": {
      "text/plain": [
       "0.9999916622797376"
      ]
     },
     "execution_count": 5,
     "metadata": {},
     "output_type": "execute_result"
    }
   ],
   "source": [
    "sim = rb.Simulation()\n",
    "sim.add('Sun')\n",
    "sim.add('Earth')\n",
    "sim.particles[1].a"
   ]
  },
  {
   "cell_type": "code",
   "execution_count": 6,
   "id": "a7d8f8f5-8e65-4778-82ae-dc8ff57c2c13",
   "metadata": {},
   "outputs": [
    {
     "data": {
      "text/plain": [
       "-51.509252753937204"
      ]
     },
     "execution_count": 6,
     "metadata": {},
     "output_type": "execute_result"
    }
   ],
   "source": [
    "testomega2 = 1/2 * (a2 * (1 - e2 ** 2) * (1 + e1 * np.cos(np.mod(Omega1 + omega1 + nu1, 2 * np.pi)))/(a1 * (1 - e1 ** 2)) \n",
    "                    - np.mod(Omega2 + nu2, 2 * np.pi))\n",
    "np.rad2deg(testomega2)"
   ]
  },
  {
   "cell_type": "code",
   "execution_count": null,
   "id": "5d7b2ac5-f26e-4744-a3cf-17a207a6dbc1",
   "metadata": {},
   "outputs": [],
   "source": []
  }
 ],
 "metadata": {
  "kernelspec": {
   "display_name": "Python 3 (ipykernel)",
   "language": "python",
   "name": "python3"
  },
  "language_info": {
   "codemirror_mode": {
    "name": "ipython",
    "version": 3
   },
   "file_extension": ".py",
   "mimetype": "text/x-python",
   "name": "python",
   "nbconvert_exporter": "python",
   "pygments_lexer": "ipython3",
   "version": "3.10.12"
  }
 },
 "nbformat": 4,
 "nbformat_minor": 5
}
