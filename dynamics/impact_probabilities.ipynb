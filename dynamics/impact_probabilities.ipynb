{
 "cells": [
  {
   "cell_type": "code",
   "execution_count": 1,
   "id": "165e93d8-cb9a-4d68-a798-845baae800e5",
   "metadata": {},
   "outputs": [],
   "source": [
    "from tqdm import tqdm\n",
    "import numpy as np\n",
    "import pandas as pd\n",
    "import scipy\n",
    "import matplotlib.pyplot as plt\n",
    "import matplotlib.ticker as ticker\n",
    "import multiprocessing\n",
    "import os\n",
    "import subprocess"
   ]
  },
  {
   "cell_type": "markdown",
   "id": "5f6c737e-9e9a-4e86-a042-12a61f93cb05",
   "metadata": {},
   "source": [
    "### Impact probability code:"
   ]
  },
  {
   "cell_type": "code",
   "execution_count": 2,
   "id": "e2ad0511-9cf5-4a02-a22e-f3de7330a43e",
   "metadata": {},
   "outputs": [],
   "source": [
    "# constants for earth and sun\n",
    "a0 = 1.  # semi-major axis of earth in au\n",
    "m = 5.97e24  # mass of earth in kg\n",
    "R = 4.259e-5  # radius of earth in au\n",
    "M = 1.988e30  # mass of sun in kg\n",
    "\n",
    "compiler = 'gfortran'  # name of fortran compiler to use\n",
    "# compile fortran code if it hasn't been already\n",
    "subprocess.run([compiler, './Pokorny_et_al_2013/PROB_KOZAI_V001.f90', '-o', './Pokorny_et_al_2013/CODE', '-O3'])\n",
    "\n",
    "# define function\n",
    "def get_pokorny_annual_P_packed(aeiperi, a_earth=1.0, e_earth=0.01671123, R_earth=R):\n",
    "    \"\"\"\n",
    "    Get the collisional probability using Petr Pokorny's 2013 code with a, e, i, peri packed as a tuple\n",
    "    Takes in a given a, e, i and argument of pericenter of the projectile and returns the annual collisional probability\n",
    "\n",
    "    a is in units of AU, i is in units of degrees, argument of pericenter is in degrees\n",
    "    \"\"\"\n",
    "    a, e, i, peri = aeiperi  # unpack\n",
    "    # run fortran code\n",
    "    output = subprocess.run(['./Pokorny_et_al_2013/CODE', '<'], \n",
    "                            input=f'{a},{e},{i},{peri}\\n{a_earth}\\n{e_earth}'.encode('utf-8'), \n",
    "                            capture_output=True)\n",
    "    # print(output)\n",
    "    col_prob = np.float64(output.stdout.decode('utf-8').split()[-1]) * (R_earth ** 2)\n",
    "    return col_prob"
   ]
  },
  {
   "cell_type": "markdown",
   "id": "30007ebe-7c14-41bf-903a-52a9bef2c05b",
   "metadata": {},
   "source": [
    "#### NEOPOP:"
   ]
  },
  {
   "cell_type": "markdown",
   "id": "2c848ef2-2ed4-4256-8a1e-344998746b76",
   "metadata": {},
   "source": [
    "Compute the proportion of Atiras, Atens, Apollos and Amors when generating fictitious NEO data using NEOPOP:"
   ]
  },
  {
   "cell_type": "code",
   "execution_count": 3,
   "id": "9a832d69-b539-4016-87ae-cc39e9e7108b",
   "metadata": {},
   "outputs": [
    {
     "data": {
      "text/plain": [
       "(0, 123, 152, 20, 295)"
      ]
     },
     "execution_count": 3,
     "metadata": {},
     "output_type": "execute_result"
    }
   ],
   "source": [
    "telescopic_dm_neos = pd.read_csv('telescopic_decameter_neos.csv')\n",
    "# get a, q, Q\n",
    "telescopic_dm_as = telescopic_dm_neos.a\n",
    "telescopic_dm_qs = telescopic_dm_as * (1. - telescopic_dm_neos.e)\n",
    "telescopic_dm_Qs = telescopic_dm_as * (1. + telescopic_dm_neos.e)\n",
    "# compute number of atiras, atens, apollos and amors for the proportion of fictitious NEOs\n",
    "n_atiras = np.sum(telescopic_dm_Qs < 0.983)  # atiras have Q < 0.983 (entirely inside Earth's orbit)\n",
    "n_atens = np.sum((telescopic_dm_Qs > 0.983) & (telescopic_dm_as < 1.0))  # atens have Q > 0.983, a < 1.0 (cross Earth's orbit with less than 1 AU SMA\n",
    "n_apollos = np.sum((telescopic_dm_qs < 1.017) & (telescopic_dm_as > 1.0))  # apollos have q < 1.017, a > 1.0 (cross Earth's orbit with more than 1 AU SMA\n",
    "n_amors = np.sum(telescopic_dm_qs > 1.017)  # amors have q > 1.017 (entirely outside Earth's orbit)\n",
    "\n",
    "n_atiras, n_atens, n_apollos, n_amors, len(telescopic_dm_neos)"
   ]
  },
  {
   "cell_type": "markdown",
   "id": "fe3996a6-c3ed-4e84-8217-4a42b7d7223c",
   "metadata": {},
   "source": [
    "Read `.csv` of fictitious NEO data generated using NEOPOP:"
   ]
  },
  {
   "cell_type": "code",
   "execution_count": 4,
   "id": "94805cf6-e78a-4edb-a5f8-88c2c4536a79",
   "metadata": {},
   "outputs": [],
   "source": [
    "fictitious_neos = pd.read_fwf('neopop_ANA.res', skiprows=91, header=None).dropna()\n",
    "fictitious_neos.columns = [['num', 'type', 'er', 'sma', 'phd', 'ahd', \n",
    "                            'ecc', 'inc', 'raan', 'aop', 'mano', 'h', \n",
    "                            'moid', 'collprob', 'diameter', 'sun dist', 'earth idst', \n",
    "                            'epoch', 'albedo', 'caa epoch', 'caa dist', \n",
    "                            'x', 'y', 'z']]\n",
    "# get the a, e, i and agrument of pericenter\n",
    "fictitious_aeiperis_raw = np.array(fictitious_neos[['sma', 'ecc', 'inc', 'aop']], dtype=np.float64)  # inc, peri already in degrees\n",
    "fictitious_qs_raw = np.array(fictitious_neos.phd, dtype=np.float64).flatten()\n",
    "# remove objects with q > 1.017 since these cannot collide with Earth at all\n",
    "q_mask = fictitious_qs_raw < 1.017\n",
    "fictitious_aeiperis = fictitious_aeiperis_raw[q_mask]\n",
    "fictitious_qs_raw = fictitious_qs_raw[q_mask]"
   ]
  },
  {
   "cell_type": "markdown",
   "id": "337936b2-984a-4b7a-ac38-03a9b26d7108",
   "metadata": {},
   "source": [
    "Optional: Compute and save the impact probabilities for these fictitious NEOs:"
   ]
  },
  {
   "cell_type": "code",
   "execution_count": 5,
   "id": "02f4dffc-0d15-4db0-84f0-0c8c1a85a273",
   "metadata": {},
   "outputs": [],
   "source": [
    "# pool = multiprocessing.Pool()\n",
    "# # compute probabilities\n",
    "# fictitious_pts = np.array(list(tqdm(pool.imap(get_pokorny_annual_P_packed, fictitious_aeiperis), total=len(fictitious_aeiperis))))\n",
    "# # close and join\n",
    "# pool.close()\n",
    "# pool.join()\n",
    "# # save if necessary\n",
    "# np.save('fictitious_pts.npy', fictitious_pts)"
   ]
  },
  {
   "cell_type": "markdown",
   "id": "37b5e4b1-c475-4382-a667-4da50452adf5",
   "metadata": {},
   "source": [
    "Optional: Load the computed fictitious impact probabilities and also remove 0s and nans:"
   ]
  },
  {
   "cell_type": "code",
   "execution_count": 6,
   "id": "90fa00c8-210b-4647-8370-323168e771b4",
   "metadata": {},
   "outputs": [],
   "source": [
    "fictitious_pts_raw = np.load('fictitious_pts.npy')\n",
    "# remove 0s and nans\n",
    "nan_zero_mask = (fictitious_pts_raw != 0.) & ~np.isnan(fictitious_pts_raw) \n",
    "# apply mask\n",
    "fictitious_pts = fictitious_pts_raw[nan_zero_mask]\n",
    "fictitious_qs = fictitious_qs_raw[nan_zero_mask]"
   ]
  },
  {
   "cell_type": "markdown",
   "id": "ae2d3447-4820-45bc-8d3f-9e6672ba52fc",
   "metadata": {},
   "source": [
    "#### NEOMOD:"
   ]
  },
  {
   "cell_type": "markdown",
   "id": "bc67ece1-c407-423e-9f62-a9875022b905",
   "metadata": {},
   "source": [
    "Generate NEOMOD objects"
   ]
  },
  {
   "cell_type": "code",
   "execution_count": 7,
   "id": "6ae6f991-c6e7-42a3-b4cd-fb1cfb4cc614",
   "metadata": {},
   "outputs": [],
   "source": [
    "# compile the NEOMOD2 and 3 models\n",
    "neomod2_filename = './NEOMOD2_CODE'\n",
    "neomod3_filename = './NEOMOD3_CODE'\n",
    "subprocess.run([compiler, './neomod2_simulator.f', '-o', neomod2_filename, '-O3'])\n",
    "subprocess.run([compiler, './neomod3_simulator.f', '-o', neomod3_filename, '-O3'])\n",
    "\n",
    "# generate debiased steady-state orbital distribution for both\n",
    "H_min = 26.5  # minimum H magnitude NEOMOD 2\n",
    "H_max = 28.  # maximum H magniutde NEOMOD 2\n",
    "size_min = 0.0079  # minimum size NEOMOD 3, km\n",
    "size_max = 0.016  # maximum size NEOMOD 3, km\n",
    "n_objs = 10000  # number of objects to generate\n",
    "seed = -50202002  # seed to use\n",
    "\n",
    "# generate output for neomod2 and 3\n",
    "neomod2_output = np.array(subprocess.run([neomod2_filename, '<'], \n",
    "                                input=f'input_neomod2.dat\\n{seed}\\n{n_objs}\\n{H_min} {H_max}'.encode('utf-8'), \n",
    "                                capture_output=True).stdout.decode('utf-8').split(), dtype=np.float64).reshape(n_objs, 4)  # 4 parameters\n",
    "neomod3_output = np.array(subprocess.run([neomod3_filename, '<'], \n",
    "                                input=f'input_neomod3.dat\\n{seed}\\n{n_objs}\\n{size_min} {size_max}'.encode('utf-8'), \n",
    "                                capture_output=True).stdout.decode('utf-8').split(), dtype=np.float64).reshape(n_objs, 6)  # 6 parameters"
   ]
  },
  {
   "cell_type": "markdown",
   "id": "32ea498c-4dee-4b82-a781-bb009177128f",
   "metadata": {},
   "source": [
    "Optional: Now compute the impact probability of all of these objects, randomly drawing argument of pericenter between $0$ and $360$ degrees, and save:"
   ]
  },
  {
   "cell_type": "markdown",
   "id": "065b3956-5739-4688-a78e-55147523a6cd",
   "metadata": {},
   "source": [
    "Neomod 2 returns h, a, e, i\n",
    "\n",
    "Neomod 3 returns h, a, e, i, size, albedo"
   ]
  },
  {
   "cell_type": "code",
   "execution_count": 8,
   "id": "9cc64c9b-1a41-4165-98d8-084f4b06a8f2",
   "metadata": {},
   "outputs": [],
   "source": [
    "# # unpack values if needed later\n",
    "# neomod2_h, neomod2_a, neomod2_e, neomod2_i = neomod2_output.T\n",
    "# neomod3_h, neomod3_a, neomod3_e, neomod3_i, neomod3_size, neomod3_alb = neomod3_output.T\n",
    "\n",
    "# # generate random arguments of pericenter\n",
    "# random_peris = np.random.uniform(low=0., high=360., size=n_objs)  # pokorny annual P takes in degrees\n",
    "# # compute impact probabilities\n",
    "# neomod2_aeiperis = np.c_[neomod2_a, neomod2_e, neomod2_i, random_peris]\n",
    "# neomod3_aeiperis = np.c_[neomod3_a, neomod3_e, neomod3_i, random_peris]\n",
    "# # multiprocess, computing for neomod2 and 3\n",
    "# pool = multiprocessing.Pool()\n",
    "# neomod2_pts = np.array(list(tqdm(pool.imap(get_pokorny_annual_P_packed, neomod2_aeiperis), total = len(neomod2_aeiperis))))\n",
    "# neomod3_pts = np.array(list(tqdm(pool.imap(get_pokorny_annual_P_packed, neomod3_aeiperis), total = len(neomod3_aeiperis))))\n",
    "# # join and close\n",
    "# pool.close()\n",
    "# pool.join()\n",
    "# # save\n",
    "# np.save('neomod2_pts.npy', neomod2_pts)\n",
    "# np.save('neomod3_pts.npy', neomod3_pts)"
   ]
  },
  {
   "cell_type": "markdown",
   "id": "1484b97b-99a6-4842-a5e1-3b6f4a35df75",
   "metadata": {},
   "source": [
    "Optional: Load neomod impact probabilities:"
   ]
  },
  {
   "cell_type": "code",
   "execution_count": 9,
   "id": "1aaef1bb-84af-4cfa-90b8-a4331d7004a7",
   "metadata": {},
   "outputs": [],
   "source": [
    "neomod2_pts = np.load('neomod2_pts.npy')\n",
    "neomod3_pts = np.load('neomod3_pts.npy')"
   ]
  },
  {
   "cell_type": "markdown",
   "id": "42e655f9-710d-4142-ae51-71b2ef61a458",
   "metadata": {},
   "source": [
    "#### Telescopic:"
   ]
  },
  {
   "cell_type": "markdown",
   "id": "07a51cd3-86c4-414b-b2b8-5863c30e4522",
   "metadata": {},
   "source": [
    "Compute impact probabilities of telescopically observed NEOs:"
   ]
  },
  {
   "cell_type": "code",
   "execution_count": 10,
   "id": "5b84f621-f926-41b4-956b-2338ba407680",
   "metadata": {},
   "outputs": [
    {
     "name": "stderr",
     "output_type": "stream",
     "text": [
      "100%|██████████████████████████████████████████████████████████████████████████████████████████████████████████████████████████████████████████████████████████████████████████████| 295/295 [00:07<00:00, 39.27it/s]\n"
     ]
    }
   ],
   "source": [
    "telescopic_aeiperis = np.array(telescopic_dm_neos[['a', 'e', 'i', 'w']])\n",
    "pool = multiprocessing.Pool()\n",
    "# compute probabilities\n",
    "telescopic_pts = np.array(list(tqdm(pool.imap(get_pokorny_annual_P_packed, telescopic_aeiperis), total = len(telescopic_aeiperis))))\n",
    "# close and join\n",
    "pool.close()\n",
    "pool.join()"
   ]
  },
  {
   "cell_type": "markdown",
   "id": "fad2a4b5-cc56-4041-afd9-0660259ea63a",
   "metadata": {},
   "source": [
    "#### Decameter nominal and clones:"
   ]
  },
  {
   "cell_type": "code",
   "execution_count": 11,
   "id": "a58f7785-ab94-471a-b9cd-cd6461bbe053",
   "metadata": {},
   "outputs": [],
   "source": [
    "orb_param_array_all_events = np.load('orb_params_all_events_mc.npy')  # get the orbital parameters for the clones\n",
    "orb_param_array_true = np.load('true_impactor_aeis.npy')  # and for the true 14 impactors\n",
    "orb_param_variables = ['a', 'e', 'i', 'peri', 'node', 'M']  \n",
    "\n",
    "# get orbital param variables from the numpy files\n",
    "impactor_as, impactor_es, impactor_is, impactor_peris, impactor_nodes, impactor_Ms = orb_param_array_all_events.T\n",
    "true_as, true_es, true_is, true_peris, true_nodes, true_Ms = orb_param_array_true.T\n",
    "\n",
    "# compute impact probabilities for nominal\n",
    "# and load preexisting probabilities generated in the tidal_disruption notebook:\n",
    "true_pts = np.array([get_pokorny_annual_P_packed(aeiperi) for aeiperi in zip(true_as, true_es, true_is, true_peris)])\n",
    "impactor_pts = np.load('impactor_pp_pts.npy')"
   ]
  },
  {
   "cell_type": "markdown",
   "id": "1d07419c-ce75-4fa2-b192-4e825c5994d3",
   "metadata": {},
   "source": [
    "#### CNEOS nominal:"
   ]
  },
  {
   "cell_type": "code",
   "execution_count": 12,
   "id": "00487ce5-b2e7-4a99-ab01-68b0751611d8",
   "metadata": {},
   "outputs": [
    {
     "name": "stderr",
     "output_type": "stream",
     "text": [
      "/tmp/ipykernel_16933/3919203949.py:51: SettingWithCopyWarning: \n",
      "A value is trying to be set on a copy of a slice from a DataFrame.\n",
      "Try using .loc[row_indexer,col_indexer] = value instead\n",
      "\n",
      "See the caveats in the documentation: https://pandas.pydata.org/pandas-docs/stable/user_guide/indexing.html#returning-a-view-versus-a-copy\n",
      "  decameter_impactors['converted_time'] = pd.to_datetime(decameter_impactors['Time'], format='mixed', dayfirst=True).dt.strftime('%Y-%m-%d')\n"
     ]
    }
   ],
   "source": [
    "# we define decameter impactors to be between 7.5 and 25 meters in diameter\n",
    "# range of sizes (diameter in meters) we consider to be in the decameter regime\n",
    "decameter_lb = 7.5  # lower bound\n",
    "decameter_ub = 25.  # upper bound\n",
    "\n",
    "# read file containing all impactors, no need to define columns since pandas reads this fine\n",
    "all_impactors = pd.read_csv('../JPL-website-Oct19-2022-ORBITS-radiants-wspeeds-decameter-impactors-GOOD (1)_EDITED.csv', header='infer')\n",
    "# filtering to only include those of decameter size (diameter is within some size range)\n",
    "decameter_impactors = all_impactors.loc[(decameter_lb < all_impactors['Diameter (rho = 1500 kgm-3)']) & \n",
    "                                        (all_impactors['Diameter (rho = 1500 kgm-3)'] < decameter_ub)]\n",
    "\n",
    "# read in cneos fireballs, dropping row if any of time, latitude, longitude, altitude, vx, vy or vz are nan\n",
    "cneos_fireballs_raw = pd.read_csv('cneos_fireball_data.csv').dropna(subset=['Peak Brightness Date/Time (UT)', \n",
    "                                                                            'Latitude (deg.)', 'Longitude (deg.)', \n",
    "                                                                            'Altitude (km)', 'vx', 'vy', 'vz']).reset_index(drop=True)\n",
    "# rtd is constant\n",
    "rtd = np.pi/180  # rad/deg\n",
    "# get time, converting to the format used by pylig: '%Y%m%d-%H%M%S.%f'\n",
    "cneos_t = pd.to_datetime(cneos_fireballs_raw['Peak Brightness Date/Time (UT)'], format='mixed').dt.strftime('%Y%m%d-%H%M%S.%f')\n",
    "# get elevation\n",
    "cneos_elevation = cneos_fireballs_raw['Altitude (km)']\n",
    "\n",
    "# get x, y, z velocities, dropping nans\n",
    "cneos_vx, cneos_vy, cneos_vz = cneos_fireballs_raw.vx, cneos_fireballs_raw.vy, cneos_fireballs_raw.vz\n",
    "# convert to numerical long, lat, dropping nans\n",
    "cneos_latitude = (cneos_fireballs_raw['Latitude (deg.)'].str[:-1].astype(float) * (2 * (cneos_fireballs_raw['Latitude (deg.)'].str[-1:] == 'N') - 1))\n",
    "cneos_longitude = (cneos_fireballs_raw['Longitude (deg.)'].str[:-1].astype(float) * (2 * (cneos_fireballs_raw['Longitude (deg.)'].str[-1:] == 'E') - 1))\n",
    "\n",
    "# cneos_vx, cneos_vy, cneos_vz = -10.8, 1.2, -12.8\n",
    "# cneos_latitude = 59.8\n",
    "# cneos_longitude = 16.8\n",
    "\n",
    "# should get 242.771 azim, 16.6202 zen, 16.7905 speed\n",
    "\n",
    "# get vn, ve, vd from vx, vy, vz and lat, long\n",
    "cneos_vn = -cneos_vx * np.sin(cneos_latitude * rtd) * np.cos(cneos_longitude * rtd) - cneos_vy * np.sin(cneos_longitude * rtd) * np.sin(cneos_latitude * rtd) + cneos_vz * np.cos(cneos_latitude * rtd)\n",
    "cneos_ve = -cneos_vx * np.sin(cneos_longitude * rtd) + cneos_vy * np.cos(cneos_longitude * rtd)\n",
    "cneos_vd = -cneos_vx * np.cos(cneos_latitude * rtd) * np.cos(cneos_longitude * rtd) - cneos_vy * np.cos(cneos_latitude * rtd) * np.sin(cneos_longitude * rtd) - cneos_vz * np.sin(cneos_latitude * rtd)\n",
    "# get azimuth and zenith\n",
    "cneos_azim = np.arctan2(cneos_ve, cneos_vn)/rtd + 180.  # NOTE that arctan2 in excel is (x, y) but arctan2 in numpy is (y, x)!\n",
    "cneos_zen = np.arctan(np.sqrt(cneos_vn ** 2 + cneos_ve ** 2)/cneos_vd)/rtd\n",
    "# get total velocity\n",
    "cneos_v = np.sqrt(cneos_vx ** 2 + cneos_vy ** 2 + cneos_vz ** 2)\n",
    "\n",
    "# filter for events with unphysical zeniths\n",
    "zen_mask = (0. < cneos_zen) & (cneos_zen < 90.)  # create mask for zenith between 0 and 90 degrees\n",
    "# filtering\n",
    "cneos_fireballs_raw = cneos_fireballs_raw[zen_mask]\n",
    "\n",
    "# convert both to the same datetime format\n",
    "decameter_impactors['converted_time'] = pd.to_datetime(decameter_impactors['Time'], format='mixed', dayfirst=True).dt.strftime('%Y-%m-%d')\n",
    "cneos_fireballs_raw['converted_time'] = pd.to_datetime(cneos_fireballs_raw['Peak Brightness Date/Time (UT)'], format='mixed', dayfirst=True).dt.strftime('%Y-%m-%d')\n",
    "\n",
    "# all decameter events except the February 1, 1994, September 3, 2004 and January 14, 1999 fireballs are in the cneos file as well\n",
    "# so these events do NOT need to be excised because they have already been filtered from the CNEOS file (due to having missing data in CNEOS),\n",
    "# but we still have data for these events from other sources\n",
    "\n",
    "# so we create an array of indices for all the overlapping decameter objects in the CNEOS data\n",
    "decameter_indices = np.array(cneos_fireballs_raw.converted_time[cneos_fireballs_raw.converted_time.isin(decameter_impactors.converted_time)].index).astype(int)\n",
    "\n",
    "# and then filter them out of the CNEOS data\n",
    "cneos_v_filtered = np.delete(cneos_v[zen_mask], decameter_indices)\n",
    "cneos_t_filtered = np.delete(cneos_t[zen_mask], decameter_indices)\n",
    "cneos_latitude_filtered = np.delete(cneos_latitude[zen_mask], decameter_indices)\n",
    "cneos_longitude_filtered = np.delete(cneos_longitude[zen_mask], decameter_indices)\n",
    "cneos_elevation_filtered = np.delete(cneos_elevation[zen_mask], decameter_indices)\n",
    "cneos_zen_filtered = np.delete(cneos_zen[zen_mask], decameter_indices)\n",
    "cneos_azim_filtered = np.delete(cneos_azim[zen_mask], decameter_indices)\n",
    "# combine\n",
    "cneos_params_filtered = np.c_[cneos_v_filtered, cneos_t_filtered, cneos_latitude_filtered, cneos_longitude_filtered, cneos_elevation_filtered, cneos_zen_filtered, cneos_azim_filtered]"
   ]
  },
  {
   "cell_type": "markdown",
   "id": "5392b477-e50e-41fa-abe0-e36a1fe6a90c",
   "metadata": {},
   "source": [
    "Optional: Compute nominal orbits of all $297$ physical USG impactors and save:"
   ]
  },
  {
   "cell_type": "code",
   "execution_count": 13,
   "id": "9c923d84-55eb-42a7-a6a8-df85efe6d5cb",
   "metadata": {},
   "outputs": [],
   "source": [
    "# # get aeis\n",
    "# def get_orbit(event):\n",
    "#     \"\"\"\n",
    "#     Get orbit from state vector using wmpl/pylig\n",
    "#     \"\"\"\n",
    "#     v, t, a, o, e, zen, azim = event  # since it should be in that order in impactor_state_vectors table\n",
    "#     # zenith is 90 - alt\n",
    "#     alt = 90 - zen\n",
    "#     # run wmpl\n",
    "#     output = subprocess.run(['python3', '-m', 'wmpl.Trajectory.Orbit', '-v', f'{v}', '-t', f'{t}', '-a', f'{a}', \n",
    "#                              '-o', f'{o}', '-e', f'{e}', '--azim', f'{azim}', '--alt', f'{alt}', \n",
    "#                              '--vrotcorr', '--statfixed'], capture_output=True)\n",
    "#     # get orbital parameters from the output in the order of orb_param_variables\n",
    "#     # print(output)\n",
    "#     parsed_output = np.array([np.float64(string) for param in [elem for elem in \n",
    "#                                                               list(map(str.strip, output.stdout.decode('utf-8').split('\\n'))) \n",
    "#                                                               if elem.startswith(tuple(orb_param_variables))] \n",
    "#                              for string in param.split() if string.lstrip('-').replace('.', '').isdigit() or string =='nan'])\n",
    "#     # return output if it works, otherwise return nans to say that wmpl failed\n",
    "#     if parsed_output.size:\n",
    "#         return parsed_output\n",
    "#     else:\n",
    "#         return np.repeat(np.nan, len(orb_param_variables))\n",
    "\n",
    "# # now multiprocess\n",
    "# pool = multiprocessing.Pool(16)  # 16 threads seems to work better since it crashes on saturn with too many threads??\n",
    "# # multiprocess\n",
    "# cneos_aeis = np.array(list(tqdm(pool.imap(get_orbit, cneos_params_filtered))))\n",
    "# # close and join pool\n",
    "# pool.close()\n",
    "# pool.join()\n",
    "\n",
    "# # save\n",
    "# np.save('cneos_aeis.npy', cneos_aeis)"
   ]
  },
  {
   "cell_type": "markdown",
   "id": "7bb7ed84-82aa-455c-adaa-9a3176c6eefd",
   "metadata": {},
   "source": [
    "Optional: Load nominal orbits of all $297$ physical USG impactors and filter them by tisserand/Borovicka asteroidal criteria:"
   ]
  },
  {
   "cell_type": "code",
   "execution_count": 14,
   "id": "d99c1af3-6c53-458f-837b-beb0af57af8a",
   "metadata": {},
   "outputs": [],
   "source": [
    "cneos_aeis = np.load('cneos_aeis.npy')\n",
    "\n",
    "# get a, e, i, q for CNEOS fireballs and flatten\n",
    "cneos_as_raw, cneos_es_raw, cneos_is_raw, cneos_peris_raw, cneos_nodes_raw, cneos_Ms_raw = cneos_aeis.T\n",
    "cneos_qs_raw = (cneos_as_raw * (1. - cneos_es_raw)).T\n",
    "cneos_Qs_raw = cneos_as_raw * (1. + cneos_es_raw)\n",
    "\n",
    "# filter\n",
    "sma_jupiter = 5.20336301\n",
    "tisserand_cutoff = 'borovicka'  # either a number to filter by tisserand parameter or 'borovicka' to use the borovicka criteria\n",
    "# tisserand_cutoff = 3.0\n",
    "# compute tj\n",
    "cneos_tjs_raw = (sma_jupiter/cneos_as_raw) + 2. * np.cos(np.deg2rad(cneos_is_raw)) * np.sqrt((cneos_as_raw/sma_jupiter) * (1. - cneos_es_raw ** 2))\n",
    "# mask based on criteria of borovicka et al 2022 or based on tj and Q < 4.9 AU\n",
    "cneos_tisserand_mask = (cneos_Qs_raw.T < 4.9) | (cneos_is_raw.T > 40.) | (cneos_es_raw.T > 0.9) if tisserand_cutoff == 'borovicka' else (cneos_tjs_raw.T > tisserand_cutoff) | (cneos_Qs_raw.T < 4.9)\n",
    "# filter by the tisserand mask, no need to filter by sporadics since these are all sporadic\n",
    "cneos_aeis_filtered = cneos_aeis[cneos_tisserand_mask]\n",
    "# cneos_aeis_filtered = cneos_aeis_filtered[~np.isnan(cneos_aeis_filtered)]\n",
    "cneos_aeis_filtered = cneos_aeis_filtered[np.all(~np.isnan(cneos_aeis_filtered), axis=1)]"
   ]
  },
  {
   "cell_type": "markdown",
   "id": "5525963c-04d6-428d-adac-da2ce85ea6c8",
   "metadata": {},
   "source": [
    "Compute the nominal impact probability:"
   ]
  },
  {
   "cell_type": "code",
   "execution_count": 15,
   "id": "02c82c07-da03-4c37-8478-81ebbde5a1f1",
   "metadata": {},
   "outputs": [
    {
     "name": "stderr",
     "output_type": "stream",
     "text": [
      "100%|██████████████████████████████████████████████████████████████████████████████████████████████████████████████████████████████████████████████████████████████████████████████| 264/264 [00:07<00:00, 36.34it/s]\n"
     ]
    }
   ],
   "source": [
    "# compute nominal impact probabilities\n",
    "cneos_nom_aeiperis = cneos_aeis_filtered[:,:4]  # since it's a, e, i, peri, node, M in that order take the first 4\n",
    "# multiprocess\n",
    "pool = multiprocessing.Pool()\n",
    "cneos_nom_pts = np.array(list(tqdm(pool.imap(get_pokorny_annual_P_packed, cneos_nom_aeiperis), total = len(cneos_nom_aeiperis))))\n",
    "# join and close\n",
    "pool.close()\n",
    "pool.join()\n",
    "# save\n",
    "np.save('cneos_nom_pts.npy', cneos_nom_pts)"
   ]
  },
  {
   "cell_type": "markdown",
   "id": "e3ed3fe5-1edc-4cbd-b997-361be19bb7f2",
   "metadata": {},
   "source": [
    "**Note: the number of nominal CNEOS objects and the number of clones doesn't match (264 - 249)**"
   ]
  },
  {
   "cell_type": "markdown",
   "id": "6ea8a342-232e-49c4-94d3-43e9245f4256",
   "metadata": {},
   "source": [
    "### CNEOS clones:"
   ]
  },
  {
   "cell_type": "code",
   "execution_count": 16,
   "id": "5b63c0de-d0de-455c-b169-85ce5b8b5a94",
   "metadata": {},
   "outputs": [],
   "source": [
    "n_cneos_events = 249  # number of cneos events after borovicka filtering\n",
    "n_monte_carlo_samples = 1000\n",
    "\n",
    "# load preexisting probabilities generated in the tidal_disruption notebook, this should have the same length as the nominal:\n",
    "cneos_pts_raw = np.load('cneos_pp_pts.npy')\n",
    "\n",
    "cneos_pts_reshaped = cneos_pts_raw.reshape(249, n_monte_carlo_samples)# [cneos_tisserand_mask]\n",
    "\n",
    "cneos_pts_nonnan = list()\n",
    "cneos_qs_nonnan = list()\n",
    "\n",
    "for i in range(len(cneos_pts_reshaped)):\n",
    "    non_nan_mask_cneos = ~np.isnan(cneos_pts_reshaped[i]) # mask of non nan impact probabilities for that cneos\n",
    "    # filter out nan impact probabilities for that cneos\n",
    "    cneos_pts_nonnan_i = cneos_pts_reshaped[i][non_nan_mask_cneos]\n",
    "    # filter out 0 impact probabilities too since pokorny returns a bunch of those\n",
    "    impact_cneos_prob_mask_i = cneos_pts_nonnan_i > 0.\n",
    "    cneos_pts_nonnan_i = cneos_pts_nonnan_i[impact_cneos_prob_mask_i]\n",
    "    # and append to the list\n",
    "    cneos_pts_nonnan.append(cneos_pts_nonnan_i)\n",
    "\n",
    "# convert to array\n",
    "cneos_pts = np.array([cneos_pt for cneos_pt_list in cneos_pts_nonnan for cneos_pt in cneos_pt_list])"
   ]
  },
  {
   "cell_type": "markdown",
   "id": "f16aa13b-09f5-46ac-830a-69cd5a42cf88",
   "metadata": {},
   "source": [
    "#### EFN and EMCCD nominal (no clones):"
   ]
  },
  {
   "cell_type": "markdown",
   "id": "59b5fa4b-f630-43ee-b91f-12368c2698d3",
   "metadata": {},
   "source": [
    "Load EFN and EMCCD data for filtering:"
   ]
  },
  {
   "cell_type": "code",
   "execution_count": 17,
   "id": "11b8bac5-8a86-4f6e-adfb-fe7910535065",
   "metadata": {},
   "outputs": [],
   "source": [
    "# Read in EFN fireballs\n",
    "\n",
    "efn_fireballs_raw = pd.read_fwf('catalog.dat', header=None).drop(columns=[81, 85]) # drop column 81 as well since it's having trouble reading phaethon\n",
    "efn_fireballs_raw.columns = ['code', 'obs_date', 'obs_time', 'e_obs_time', 'jd', \n",
    "                        'lsun', 'lam-beg', 'phi-beg', 'h-beg', 'lam-end', \n",
    "                        'phi-end', 'h-end', 'lam-avg', 'phi-avg', 'h-avg', \n",
    "                        'lam-max', 'phi-max', 'h-max', 'length', 'dur', \n",
    "                        'azim', 'zendis', 'radeg', 'e_radeg', 'dedeg', \n",
    "                        'e_dedeg', 'vinf', 'e_vinf', 'vmax', 'vter', \n",
    "                        'hvter', 'rageo', 'e_rageo', 'degeo', 'e_degeo', \n",
    "                        'lgeo-lsun', 'bgeo', 'vgeo', 'e_vgeo', 'lhel', \n",
    "                        'e_lhel', 'bhel', 'e_bhel', 'vhel', 'e_vhel', \n",
    "                        'ax', 'e_ax', 'ecc', 'e_ecc', 'perih', \n",
    "                        'e_perih', 'aph', 'e_aph', 'inc', 'e_inc', \n",
    "                        'omg', 'e_omg', 'nod', 'e_nod', 'lper', \n",
    "                        'e_lper', 'tyear', 'tmonth', 'tday', 'e_tday', \n",
    "                        'per', 'e_per', 'tiss', 'e_tiss', 'mag', \n",
    "                        'energy', 'mass', 'termass', 'pe', 'type', \n",
    "                        'pres', 'hpres', 'pf', 'pf-class', 'shower', \n",
    "                        'object', 'ncam', 'mindist', 'spectrum']\n",
    "\n",
    "# filter out rows with e > 0.98 or q less than radius of sun\n",
    "r_sun=0.00465\n",
    "efn_fireballs_all = efn_fireballs_raw[~(efn_fireballs_raw.ecc > 0.98) | (efn_fireballs_raw.perih < r_sun)]\n",
    "\n",
    "# Read in EMCCD data\n",
    "\n",
    "# import kb_and_kc_calc\n",
    "# emccd_meteors = kb_and_kc_calc.extract_from_table()\n",
    "emccd_meteors_raw = pd.read_json('solution_table.json')\n",
    "\n",
    "\n",
    "# generate sporadic masks\n",
    "efn_sporadic_mask = efn_fireballs_all.shower.isna()  # coompute this since we also need to select only the sporadic clones as well\n",
    "efn_fireballs_sporadic = efn_fireballs_all[efn_sporadic_mask]  # not associated with a shower\n",
    "\n",
    "emccd_sporadic_mask = emccd_meteors_raw.shower_no == -1  # compute this since we also need to filter impact probabilities by this\n",
    "emccd_meteors_sporadic = emccd_meteors_raw[emccd_sporadic_mask]  # not associated with a shower\n",
    "\n",
    "# for EMCCD fireballs\n",
    "emccd_as_raw, emccd_es_raw, emccd_is_raw, emccd_omegas_raw, emccd_nodes_raw, emccd_ms_raw, emccd_qs_raw = np.array(emccd_meteors_sporadic[['a', 'e', 'i', 'omega', 'asc_node', 'mean_anomaly', 'q']]).T\n",
    "\n",
    "orb_param_array_efn_raw = np.load('orb_params_efn_mc.npy')\n",
    "efn_as_raw, efn_es_raw, efn_is_raw, efn_peris_raw, efn_nodes_raw, _ = orb_param_array_efn_raw[efn_sporadic_mask].T\n",
    "\n",
    "sma_jupiter = 5.20336301\n",
    "tisserand_cutoff = 'borovicka'  # either a number to filter by tisserand parameter or 'borovicka' to use the borovicka criteria\n",
    "# tisserand_cutoff = 3.0\n",
    "\n",
    "#### EFN:\n",
    "\n",
    "efn_Qs_raw = efn_as_raw * (1. + (efn_es_raw))\n",
    "# compute tj\n",
    "efn_tjs_raw = (sma_jupiter/efn_as_raw) + 2. * np.cos(np.deg2rad(efn_is_raw)) * np.sqrt((efn_as_raw/sma_jupiter) * (1. - efn_es_raw ** 2))\n",
    "# mask based on criteria of borovicka et al 2022 or based on tj and Q < 4.9 AU\n",
    "efn_tisserand_mask = (efn_Qs_raw.T[:, 0] < 4.9) | (efn_is_raw.T[:, 0] > 40.) | (efn_es_raw.T[:, 0] > 0.9) if tisserand_cutoff == 'borovicka' else (efn_tjs_raw.T[:, 0] > tisserand_cutoff) | (efn_Qs_raw.T[:, 0] < 4.9)\n",
    "# filter by the mask\n",
    "orb_param_array_efn = orb_param_array_efn_raw[efn_sporadic_mask][efn_tisserand_mask]\n",
    "efn_as, efn_es, efn_is, efn_peris, efn_nodes, _ = orb_param_array_efn.T\n",
    "# define efn qs\n",
    "efn_qs = (efn_as * (1. - efn_es)).T# .reshape(-1)\n",
    "\n",
    "#### EMCCD:\n",
    "\n",
    "emccd_Qs_raw = emccd_as_raw * (1. + (emccd_es_raw))\n",
    "emccd_tjs_raw = (sma_jupiter/emccd_as_raw) + 2. * np.cos(np.deg2rad(emccd_is_raw)) * np.sqrt((emccd_as_raw/sma_jupiter) * (1. - emccd_es_raw ** 2))\n",
    "# mask based on criteria of borovicka et al 2022\n",
    "emccd_tisserand_mask = (emccd_Qs_raw.T < 4.9) | (emccd_is_raw.T > 40.) | (emccd_es_raw.T > 0.9) if tisserand_cutoff == 'borovicka' else (emccd_tjs_raw > tisserand_cutoff) | (emccd_Qs_raw.T < 4.9)\n",
    "# filter by the mask\n",
    "emccd_meteors = emccd_meteors_sporadic[emccd_tisserand_mask]\n",
    "emccd_as, emccd_es, emccd_is, emccd_omegas, emccd_nodes, emccd_ms, emccd_qs = np.array(emccd_meteors[['a', 'e', 'i', 'omega', 'asc_node', 'mean_anomaly', 'q']]).T"
   ]
  },
  {
   "cell_type": "code",
   "execution_count": 18,
   "id": "1aab3fb3-8b84-49fb-902e-033863cf438e",
   "metadata": {},
   "outputs": [],
   "source": [
    "# load preexisting probabilities generated in the tidal_disruption notebook:\n",
    "emccd_pts_raw = np.load('emccd_pp_pts.npy')\n",
    "efn_pts_raw = np.load('efn_pp_pts.npy')\n",
    "\n",
    "n_monte_carlo_samples = 1000\n",
    "\n",
    "efn_pts_unfiltered = efn_pts_raw.reshape(len(orb_param_array_efn_raw), n_monte_carlo_samples)[efn_sporadic_mask][efn_tisserand_mask]\n",
    "emccd_pts_unfiltered = emccd_pts_raw[emccd_sporadic_mask][emccd_tisserand_mask]\n",
    "\n",
    "efn_pts = list()\n",
    "for i in range(len(efn_pts_unfiltered)):\n",
    "    non_nan_mask_efn = ~np.isnan(efn_pts_unfiltered[i])  # mask of all non-nan impact probabilities for that efn\n",
    "    # filte rout nan impact probabilities for that efn\n",
    "    efn_pts_nonnan_i = efn_pts_unfiltered[i][non_nan_mask_efn]\n",
    "    # filter out 0 impact probabilities too since pokorny returns a bunch of those\n",
    "    impact_efn_prob_mask_i = efn_pts_nonnan_i > 0.\n",
    "    efn_pts_nonnan_i = efn_pts_nonnan_i[impact_efn_prob_mask_i]\n",
    "    # and append to the list\n",
    "    efn_pts.append(efn_pts_nonnan_i)\n",
    "\n",
    "# convert to array\n",
    "efn_pts = np.array([efn_pt for efn_pts_list in efn_pts for efn_pt in efn_pts_list])\n",
    "\n",
    "emccd_non_nan_mask = ~np.isnan(emccd_pts_unfiltered)\n",
    "emccd_pts_nonnan = emccd_pts_unfiltered[emccd_non_nan_mask]\n",
    "\n",
    "impact_prob_mask_emccd = emccd_pts_nonnan > 0.\n",
    "emccd_pts = emccd_pts_nonnan[impact_prob_mask_emccd] # already array"
   ]
  },
  {
   "cell_type": "markdown",
   "id": "ab09dbd3-f83d-40d0-bba9-4f79629c9917",
   "metadata": {},
   "source": [
    "### Plotting:"
   ]
  },
  {
   "cell_type": "code",
   "execution_count": 19,
   "id": "b61b4ad3-c8f3-44e8-a7a0-f43cf2e42b3a",
   "metadata": {},
   "outputs": [
    {
     "data": {
      "image/png": "[encoded data removed]",
      "text/plain": [
       "<Figure size 1600x900 with 1 Axes>"
      ]
     },
     "metadata": {},
     "output_type": "display_data"
    }
   ],
   "source": [
    "logbins = np.logspace(-11, -5, 50)  # plot from 10^-11 to 10^-5 yr^-1 impact probability\n",
    "\n",
    "# truncation threshold for cutting the neopop/neomod2/3 models\n",
    "truncation_threshold = 2e-8\n",
    "# neopop\n",
    "truncation_neopop_mask = fictitious_pts < truncation_threshold\n",
    "truncated_neopop_pts = fictitious_pts[truncation_neopop_mask]\n",
    "# neomod\n",
    "\n",
    "plt.rc('font', size=14)\n",
    "plt.figure(figsize = (16, 9))\n",
    "# NEOPOP\n",
    "plt.hist(fictitious_pts, weights=None, bins = logbins, density=True, cumulative=True, histtype='step', color = 'dodgerblue', label = 'neopop')\n",
    "plt.hist(fictitious_pts, weights=fictitious_pts, bins = logbins, density=True, cumulative=True, color = 'darkorange', histtype='step', label = 'neopop IP weighted')\n",
    "plt.hist(truncated_neopop_pts, weights = truncated_neopop_pts, bins=logbins, density=True, cumulative=True, color = 'purple', histtype='step', label = f'IP < {truncation_threshold} neopop weighted')\n",
    "# NEOMOD2\n",
    "plt.hist(neomod2_pts, weights=None, bins=logbins, density=True, cumulative=True, histtype='step', color = 'brown', label = 'NEOMOD2')\n",
    "plt.hist(neomod2_pts, weights=neomod2_pts, bins=logbins, density=True, cumulative=True, histtype='step', color = 'fuchsia', label = 'NEOMOD2 weighted')\n",
    "# NEOMOD3\n",
    "plt.hist(neomod3_pts, weights=None, bins=logbins, density=True, cumulative=True, histtype='step', color = 'gold', label = 'NEOMOD3')\n",
    "plt.hist(neomod3_pts, weights=neomod3_pts, bins=logbins, density=True, cumulative=True, histtype='step', color = 'darkblue', label = 'NEOMOD3 weighted')\n",
    "# Decameter\n",
    "plt.hist(true_pts, weights=None, bins=logbins, density=True, cumulative=True, histtype='step', color='red', label = 'observed DM')  # nominal\n",
    "plt.hist(impactor_pts.flatten(), weights=None, bins=logbins, density=True, cumulative=True, histtype='step', color='black', label = 'observed DM clones')  # impactor points\n",
    "# Telescopic\n",
    "plt.hist(telescopic_pts, weights=None, bins=logbins, density=True, cumulative=True, histtype='step', color='darkgreen', label = 'tele unweighted')\n",
    "plt.hist(telescopic_pts, weights=telescopic_pts, bins=logbins, density=True, cumulative=True, histtype='step', color='pink', label = 'tele weighted')\n",
    "# CNEOS\n",
    "plt.hist(cneos_nom_pts, weights=None, bins=logbins, density=True, cumulative=True, histtype='step', color='darkgrey', label = 'CNEOS nominal')\n",
    "plt.hist(cneos_pts, weights=None, bins=logbins, density=True, cumulative=True, histtype='step', color='darkred', label = 'CNEOS clones')\n",
    "# EFN\n",
    "plt.hist(efn_pts, weights=None, bins=logbins, density=True, cumulative=True, histtype='step', color = 'olive', label = 'EFN')\n",
    "# EMCCD\n",
    "plt.hist(emccd_pts, weights=None, bins=logbins, density=True, cumulative=True, histtype='step', color = 'lime', label = 'EMCCD')\n",
    "# housekeeping\n",
    "plt.xscale('log')\n",
    "plt.xlabel('Impact probability'), plt.ylabel('Cumulative Fraction')\n",
    "plt.legend()\n",
    "plt.savefig('dda_talk_plots/impact_probability_cdfs.png')"
   ]
  },
  {
   "cell_type": "code",
   "execution_count": null,
   "id": "2a19090c-9275-42ad-9a15-1679c97dc75f",
   "metadata": {},
   "outputs": [],
   "source": []
  }
 ],
 "metadata": {
  "kernelspec": {
   "display_name": "Python 3 (ipykernel)",
   "language": "python",
   "name": "python3"
  },
  "language_info": {
   "codemirror_mode": {
    "name": "ipython",
    "version": 3
   },
   "file_extension": ".py",
   "mimetype": "text/x-python",
   "name": "python",
   "nbconvert_exporter": "python",
   "pygments_lexer": "ipython3",
   "version": "3.10.15"
  }
 },
 "nbformat": 4,
 "nbformat_minor": 5
}
