{
 "cells": [
  {
   "cell_type": "code",
   "execution_count": 1,
   "id": "8e7f6a0e-c3e2-410b-ac5e-0bbac8f1975c",
   "metadata": {},
   "outputs": [],
   "source": [
    "import numpy as np\n",
    "import pandas as pd\n",
    "import scipy\n",
    "import multiprocessing\n",
    "import matplotlib.pyplot as plt\n",
    "import os\n",
    "import subprocess\n",
    "from tqdm import tqdm"
   ]
  },
  {
   "cell_type": "markdown",
   "id": "ca979115-1c5f-458f-9cc0-f144ef6170bb",
   "metadata": {},
   "source": [
    "Constants and functions for generating and computing NEOMOD3 orbits and their impact probabilities:"
   ]
  },
  {
   "cell_type": "code",
   "execution_count": 2,
   "id": "47f68a67-1852-4bad-9c69-73f1a7a5a77a",
   "metadata": {},
   "outputs": [],
   "source": [
    "# constants for earth and sun\n",
    "a0 = 1.  # semi-major axis of earth in au\n",
    "m = 5.97e24  # mass of earth in kg\n",
    "R = 4.259e-5  # radius of earth in au\n",
    "M = 1.988e30  # mass of sun in kg\n",
    "e0 = 0.01671123  # eccentricitiy of earth\n",
    "\n",
    "compiler = 'gfortran'  # name of fortran compiler to use\n",
    "# compile fortran code if it hasn't been already\n",
    "subprocess.run([compiler, './Pokorny_et_al_2013/PROB_KOZAI_V001.f90', '-o', './Pokorny_et_al_2013/CODE', '-O3'])\n",
    "\n",
    "# define function\n",
    "def get_pokorny_annual_P_packed(aeiperi, a_earth=a0, e_earth=e0, R_earth=R):\n",
    "    \"\"\"\n",
    "    Get the collisional probability using Petr Pokorny's 2013 code with a, e, i, peri packed as a tuple\n",
    "    Takes in a given a, e, i and argument of pericenter of the projectile and returns the annual collisional probability\n",
    "\n",
    "    a is in units of AU, i is in units of degrees, argument of pericenter is in degrees\n",
    "    \"\"\"\n",
    "    a, e, i, peri = aeiperi  # unpack\n",
    "    # run fortran code\n",
    "    output = subprocess.run(['./Pokorny_et_al_2013/CODE', '<'], \n",
    "                            input=f'{a},{e},{i},{peri}\\n{a_earth}\\n{e_earth}'.encode('utf-8'), \n",
    "                            capture_output=True)\n",
    "    # print(output)\n",
    "    col_prob = np.float64(output.stdout.decode('utf-8').split()[-1]) * (R_earth ** 2)\n",
    "    return col_prob\n",
    "\n",
    "# compile the NEOMOD3 model\n",
    "neomod3_filename = './NEOMOD3_CODE'\n",
    "# compile neomod3 fortran code\n",
    "subprocess.run([compiler, './neomod3_simulator.f', '-o', neomod3_filename, '-O3'])\n",
    "\n",
    "# generate debiased steady-state orbital distribution for both\n",
    "size_min = 0.0079  # minimum size NEOMOD 3, km\n",
    "size_max = 0.016  # maximum size NEOMOD 3, km\n",
    "n_objs = 10000  # number of objects to generate\n",
    "seed = -50202002  # seed to use"
   ]
  },
  {
   "cell_type": "markdown",
   "id": "32810918-d1eb-41c5-9279-874e6ffd6bfb",
   "metadata": {},
   "source": [
    "Perform the generation and IP calculation:"
   ]
  },
  {
   "cell_type": "code",
   "execution_count": 3,
   "id": "909a51f5-ec90-44b7-9853-613f9639e937",
   "metadata": {},
   "outputs": [
    {
     "name": "stderr",
     "output_type": "stream",
     "text": [
      "100%|█████████████████████████████████████████████████████████████████████████████████████████████████████████████████████████████████████████████████████████████████████| 10000/10000 [01:16<00:00, 130.17it/s]\n"
     ]
    }
   ],
   "source": [
    "# generate neomod3 output:\n",
    "# Returns H, a (AU), e, i (degrees), diameter (km), albedo\n",
    "neomod3_output = np.array(subprocess.run([neomod3_filename, '<'], \n",
    "                                input=f'input_neomod3.dat\\n{seed}\\n{n_objs}\\n{size_min} {size_max}'.encode('utf-8'), \n",
    "                                capture_output=True).stdout.decode('utf-8').split(), dtype=np.float64).reshape(n_objs, 6)  # 6 parameters\n",
    "\n",
    "# unpack values\n",
    "neomod3_h, neomod3_a, neomod3_e, neomod3_i, neomod3_size, neomod3_alb = neomod3_output.T\n",
    "# generate random arguments of pericenter\n",
    "random_peris = np.random.uniform(low=0., high=360., size=n_objs)  # pokorny annual P takes in degrees\n",
    "\n",
    "# compute impact probabilities:\n",
    "neomod3_aeiperis = np.c_[neomod3_a, neomod3_e, neomod3_i, random_peris]\n",
    "# multiprocess, computing for neomod2 and 3\n",
    "pool = multiprocessing.Pool()\n",
    "neomod3_pts = np.array(list(tqdm(pool.imap(get_pokorny_annual_P_packed, neomod3_aeiperis), total = len(neomod3_aeiperis))))\n",
    "# join and close\n",
    "pool.close()\n",
    "pool.join()"
   ]
  },
  {
   "cell_type": "code",
   "execution_count": 4,
   "id": "d86dfb75-ec56-424c-95a6-1aa50c35d75b",
   "metadata": {},
   "outputs": [
    {
     "data": {
      "text/plain": [
       "(array([[2.6782e+01, 1.6610e+00, 3.7840e-01, 9.3000e+00, 9.6000e-03,\n",
       "         3.7500e-01],\n",
       "        [2.6575e+01, 2.3040e+00, 5.5390e-01, 5.9300e+00, 1.1100e-02,\n",
       "         3.3750e-01],\n",
       "        [2.6082e+01, 9.2100e-01, 5.4010e-01, 2.4050e+01, 1.1100e-02,\n",
       "         5.2600e-01],\n",
       "        ...,\n",
       "        [2.9835e+01, 1.3460e+00, 3.9680e-01, 4.4600e+00, 1.1600e-02,\n",
       "         1.5300e-02],\n",
       "        [2.7296e+01, 2.4060e+00, 7.0410e-01, 6.8800e+00, 1.1200e-02,\n",
       "         1.6890e-01],\n",
       "        [2.7793e+01, 1.6550e+00, 6.9760e-01, 7.9700e+00, 7.9000e-03,\n",
       "         2.1540e-01]]),\n",
       " array([0.00000000e+00, 0.00000000e+00, 1.89186615e-09, ...,\n",
       "        4.23293861e-09, 1.33582756e-09, 2.00313773e-09]))"
      ]
     },
     "execution_count": 4,
     "metadata": {},
     "output_type": "execute_result"
    }
   ],
   "source": [
    "neomod3_output, neomod3_pts"
   ]
  },
  {
   "cell_type": "markdown",
   "id": "8d8a46df-9b3e-471e-85ef-17f98c0864a1",
   "metadata": {},
   "source": [
    "NEOMOD3 impact energies computed using the actual (simulated) velocity at time of impact rather than a fixed 20 km/s"
   ]
  }
 ],
 "metadata": {
  "kernelspec": {
   "display_name": "Python 3 (ipykernel)",
   "language": "python",
   "name": "python3"
  },
  "language_info": {
   "codemirror_mode": {
    "name": "ipython",
    "version": 3
   },
   "file_extension": ".py",
   "mimetype": "text/x-python",
   "name": "python",
   "nbconvert_exporter": "python",
   "pygments_lexer": "ipython3",
   "version": "3.10.12"
  }
 },
 "nbformat": 4,
 "nbformat_minor": 5
}
