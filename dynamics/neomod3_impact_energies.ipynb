{
 "cells": [
  {
   "cell_type": "code",
   "execution_count": 1,
   "id": "8e7f6a0e-c3e2-410b-ac5e-0bbac8f1975c",
   "metadata": {},
   "outputs": [],
   "source": [
    "import numpy as np\n",
    "import pandas as pd\n",
    "import scipy\n",
    "import multiprocessing\n",
    "import matplotlib.pyplot as plt\n",
    "import os\n",
    "import subprocess\n",
    "import rebound as rb\n",
    "from tqdm import tqdm"
   ]
  },
  {
   "cell_type": "markdown",
   "id": "ca979115-1c5f-458f-9cc0-f144ef6170bb",
   "metadata": {},
   "source": [
    "Constants and functions for generating and computing NEOMOD3 orbits and their impact probabilities:"
   ]
  },
  {
   "cell_type": "code",
   "execution_count": 2,
   "id": "47f68a67-1852-4bad-9c69-73f1a7a5a77a",
   "metadata": {},
   "outputs": [],
   "source": [
    "# constants for earth and sun\n",
    "a0 = 1.  # semi-major axis of earth in au\n",
    "m = 5.97e24  # mass of earth in kg\n",
    "R = 4.259e-5  # radius of earth in au\n",
    "M = 1.988e30  # mass of sun in kg\n",
    "e0 = 0.01671123  # eccentricitiy of earth\n",
    "\n",
    "compiler = 'gfortran'  # name of fortran compiler to use\n",
    "# compile fortran code if it hasn't been already\n",
    "subprocess.run([compiler, './Pokorny_et_al_2013/PROB_KOZAI_V001.f90', '-o', './Pokorny_et_al_2013/CODE', '-O3'])\n",
    "\n",
    "# OPIK PROBABILITY PER REVOLUTION\n",
    "def get_opik_annual_P_packed(aei, a0=a0, m=m, R=R, M=M):\n",
    "    \"\"\"\n",
    "    Get the collision probability per revolution P for an object with semi-major axis a in AU, eccentricity e, and inclination i in degrees\n",
    "    and a target (Earth) on a circular orbit with constant semi-major axis a0 in AU, mass m in kg, and radius R in AU, \n",
    "    both orbiting a star with mass M in kg\n",
    "\n",
    "    return: P, the collision probability per revolution\n",
    "    \"\"\"\n",
    "    a, e, i = aei\n",
    "    Q = R/a0  # Q\n",
    "    Ux = np.sqrt(2 - (1/a) - (a * (1 - (e ** 2))))  # Ux\n",
    "    U = np.sqrt(3 - (1/a) - ((2 * np.sqrt(a * (1 - e ** 2))) * np.cos(np.deg2rad(i))))  # U\n",
    "    tau = Q * np.sqrt(1 + ((2 * m)/(M * Q * (U ** 2))))  # tau\n",
    "    # tau = R * np.sqrt(1 + R/Q)\n",
    "    # compute P\n",
    "    P = ((tau ** 2) * U)/(np.pi * np.sin(np.deg2rad(i)) * np.abs(Ux))\n",
    "    # return\n",
    "    return P\n",
    "\n",
    "\n",
    "# define function\n",
    "def get_pokorny_annual_P_packed(aeiperi, a_earth=a0, e_earth=e0, R_earth=R):\n",
    "    \"\"\"\n",
    "    Get the collisional probability using Petr Pokorny's 2013 code with a, e, i, peri packed as a tuple\n",
    "    Takes in a given a, e, i and argument of pericenter of the projectile and returns the annual collisional probability\n",
    "\n",
    "    a is in units of AU, i is in units of degrees, argument of pericenter is in degrees\n",
    "    \"\"\"\n",
    "    a, e, i, peri = aeiperi  # unpack\n",
    "    # run fortran code\n",
    "    output = subprocess.run(['./Pokorny_et_al_2013/CODE', '<'], \n",
    "                            input=f'{a},{e},{i},{peri}\\n{a_earth}\\n{e_earth}'.encode('utf-8'), \n",
    "                            capture_output=True)\n",
    "    # print(output)\n",
    "    col_prob = np.float64(output.stdout.decode('utf-8').split()[-1]) * (R_earth ** 2)\n",
    "    return col_prob\n",
    "\n",
    "# compile the NEOMOD3 model\n",
    "neomod3_filename = './NEOMOD3_CODE'\n",
    "# compile neomod3 fortran code\n",
    "subprocess.run([compiler, './neomod3_simulator.f', '-o', neomod3_filename, '-O3'])\n",
    "\n",
    "# generate debiased steady-state orbital distribution for both\n",
    "size_min = 0.0079  # minimum size NEOMOD 3, km\n",
    "size_max = 0.016  # maximum size NEOMOD 3, km\n",
    "n_objs = 10000  # number of objects to generate\n",
    "seed = -50202002  # seed to use"
   ]
  },
  {
   "cell_type": "markdown",
   "id": "32810918-d1eb-41c5-9279-874e6ffd6bfb",
   "metadata": {},
   "source": [
    "Generate NEOMOD3 objects:"
   ]
  },
  {
   "cell_type": "code",
   "execution_count": 3,
   "id": "f7b80378-80e5-4aa4-978b-934433f7ec99",
   "metadata": {},
   "outputs": [],
   "source": [
    "# generate neomod3 output:\n",
    "# Returns H, a (AU), e, i (degrees), diameter (km), albedo\n",
    "neomod3_output = np.array(subprocess.run([neomod3_filename, '<'], \n",
    "                                input=f'input_neomod3.dat\\n{seed}\\n{n_objs}\\n{size_min} {size_max}'.encode('utf-8'), \n",
    "                                capture_output=True).stdout.decode('utf-8').split(), dtype=np.float64).reshape(n_objs, 6)  # 6 parameters\n",
    "\n",
    "# unpack values\n",
    "neomod3_hs, neomod3_as, neomod3_es, neomod3_is, neomod3_sizes, neomod3_albs = neomod3_output.T"
   ]
  },
  {
   "cell_type": "markdown",
   "id": "cb28dcf8-aaac-4c5f-aff5-469bd64ba43a",
   "metadata": {},
   "source": [
    "Compute the arguments of pericenter of each one required to make its orbit intersect that of a circular Earth with $a = 1$ AU:"
   ]
  },
  {
   "cell_type": "code",
   "execution_count": 4,
   "id": "f1b13459-59c7-4749-a61e-a2b7f3b2e3a6",
   "metadata": {},
   "outputs": [
    {
     "name": "stderr",
     "output_type": "stream",
     "text": [
      "/tmp/ipykernel_265974/2197404127.py:8: RuntimeWarning: invalid value encountered in arccos\n",
      "  base = np.arccos((a * (1. - e ** 2) - r_t)/(e * r_t))\n"
     ]
    }
   ],
   "source": [
    "def peri_intersect(a, e, r_t=a0):\n",
    "    \"\"\"\n",
    "    Computes the two possible arguments of pericenter required for an object with a given a, e to \n",
    "    intersect the orbit of a planet on a circular orbit with semi-major axis r_t and randomly picks one.\n",
    "    Returns argument of pericenter in degrees\n",
    "    \"\"\"\n",
    "    # compute base case\n",
    "    base = np.arccos((a * (1. - e ** 2) - r_t)/(e * r_t))\n",
    "    # other case is offset by 180 degrees, randomly pick one of them and convert to degrees\n",
    "    return np.rad2deg(np.c_[0. - base, np.pi - base][np.arange(len(base)), np.random.randint(0, 2, size=len(base))])\n",
    "\n",
    "neomod3_peris = peri_intersect(neomod3_as, neomod3_es)"
   ]
  },
  {
   "cell_type": "markdown",
   "id": "38b31bd6-bb78-448b-91ce-a3b28687fdd8",
   "metadata": {},
   "source": [
    "Plot distribution of $\\omega$ required to intersect Earth's orbit:"
   ]
  },
  {
   "cell_type": "code",
   "execution_count": 5,
   "id": "b71e804c-64b3-4fe7-a27a-6f6ef486b11f",
   "metadata": {},
   "outputs": [
    {
     "data": {
      "image/png": "[encoded data removed]",
      "text/plain": [
       "<Figure size 640x480 with 1 Axes>"
      ]
     },
     "metadata": {},
     "output_type": "display_data"
    }
   ],
   "source": [
    "plt.hist(neomod3_peris, bins='auto')\n",
    "plt.show()"
   ]
  },
  {
   "cell_type": "markdown",
   "id": "7f1902e4-382f-45c7-86ca-202b8140a384",
   "metadata": {},
   "source": [
    "Compute impact probability using Opik/Pokorny formalism:"
   ]
  },
  {
   "cell_type": "code",
   "execution_count": 6,
   "id": "2c4a39c1-3f0d-44b0-beb1-818d28a83cc4",
   "metadata": {
    "scrolled": true
   },
   "outputs": [
    {
     "name": "stderr",
     "output_type": "stream",
     "text": [
      "  0%|                                                                                                                                                                                  | 0/10000 [00:00<?, ?it/s]/tmp/ipykernel_265974/3878177103.py:23: RuntimeWarning: invalid value encountered in sqrt\n",
      "  Ux = np.sqrt(2 - (1/a) - (a * (1 - (e ** 2))))  # Ux\n",
      "/tmp/ipykernel_265974/3878177103.py:23: RuntimeWarning: invalid value encountered in sqrt\n",
      "  Ux = np.sqrt(2 - (1/a) - (a * (1 - (e ** 2))))  # Ux\n",
      "/tmp/ipykernel_265974/3878177103.py:23: RuntimeWarning: invalid value encountered in sqrt\n",
      "  Ux = np.sqrt(2 - (1/a) - (a * (1 - (e ** 2))))  # Ux\n",
      "/tmp/ipykernel_265974/3878177103.py:23: RuntimeWarning: invalid value encountered in sqrt\n",
      "  Ux = np.sqrt(2 - (1/a) - (a * (1 - (e ** 2))))  # Ux\n",
      "/tmp/ipykernel_265974/3878177103.py:23: RuntimeWarning: invalid value encountered in sqrt\n",
      "  Ux = np.sqrt(2 - (1/a) - (a * (1 - (e ** 2))))  # Ux\n",
      "/tmp/ipykernel_265974/3878177103.py:23: RuntimeWarning: invalid value encountered in sqrt\n",
      "  Ux = np.sqrt(2 - (1/a) - (a * (1 - (e ** 2))))  # Ux\n",
      "/tmp/ipykernel_265974/3878177103.py:23: RuntimeWarning: invalid value encountered in sqrt\n",
      "  Ux = np.sqrt(2 - (1/a) - (a * (1 - (e ** 2))))  # Ux\n",
      "/tmp/ipykernel_265974/3878177103.py:23: RuntimeWarning: invalid value encountered in sqrt\n",
      "  Ux = np.sqrt(2 - (1/a) - (a * (1 - (e ** 2))))  # Ux\n",
      "/tmp/ipykernel_265974/3878177103.py:23: RuntimeWarning: invalid value encountered in sqrt\n",
      "  Ux = np.sqrt(2 - (1/a) - (a * (1 - (e ** 2))))  # Ux\n",
      "/tmp/ipykernel_265974/3878177103.py:23: RuntimeWarning: invalid value encountered in sqrt\n",
      "  Ux = np.sqrt(2 - (1/a) - (a * (1 - (e ** 2))))  # Ux\n",
      "/tmp/ipykernel_265974/3878177103.py:23: RuntimeWarning: invalid value encountered in sqrt\n",
      "  Ux = np.sqrt(2 - (1/a) - (a * (1 - (e ** 2))))  # Ux\n",
      "/tmp/ipykernel_265974/3878177103.py:23: RuntimeWarning: invalid value encountered in sqrt\n",
      "  Ux = np.sqrt(2 - (1/a) - (a * (1 - (e ** 2))))  # Ux\n",
      "/tmp/ipykernel_265974/3878177103.py:24: RuntimeWarning: invalid value encountered in sqrt\n",
      "  U = np.sqrt(3 - (1/a) - ((2 * np.sqrt(a * (1 - e ** 2))) * np.cos(np.deg2rad(i))))  # U\n",
      "/tmp/ipykernel_265974/3878177103.py:23: RuntimeWarning: invalid value encountered in sqrt\n",
      "  Ux = np.sqrt(2 - (1/a) - (a * (1 - (e ** 2))))  # Ux\n",
      "/tmp/ipykernel_265974/3878177103.py:24: RuntimeWarning: invalid value encountered in sqrt\n",
      "  U = np.sqrt(3 - (1/a) - ((2 * np.sqrt(a * (1 - e ** 2))) * np.cos(np.deg2rad(i))))  # U\n",
      "/tmp/ipykernel_265974/3878177103.py:24: RuntimeWarning: invalid value encountered in sqrt\n",
      "  U = np.sqrt(3 - (1/a) - ((2 * np.sqrt(a * (1 - e ** 2))) * np.cos(np.deg2rad(i))))  # U\n",
      "/tmp/ipykernel_265974/3878177103.py:24: RuntimeWarning: invalid value encountered in sqrt\n",
      "  U = np.sqrt(3 - (1/a) - ((2 * np.sqrt(a * (1 - e ** 2))) * np.cos(np.deg2rad(i))))  # U\n",
      "/tmp/ipykernel_265974/3878177103.py:23: RuntimeWarning: invalid value encountered in sqrt\n",
      "  Ux = np.sqrt(2 - (1/a) - (a * (1 - (e ** 2))))  # Ux\n",
      "/tmp/ipykernel_265974/3878177103.py:23: RuntimeWarning: invalid value encountered in sqrt\n",
      "  Ux = np.sqrt(2 - (1/a) - (a * (1 - (e ** 2))))  # Ux\n",
      "/tmp/ipykernel_265974/3878177103.py:23: RuntimeWarning: invalid value encountered in sqrt\n",
      "  Ux = np.sqrt(2 - (1/a) - (a * (1 - (e ** 2))))  # Ux\n",
      "/tmp/ipykernel_265974/3878177103.py:23: RuntimeWarning: invalid value encountered in sqrt\n",
      "  Ux = np.sqrt(2 - (1/a) - (a * (1 - (e ** 2))))  # Ux\n",
      "/tmp/ipykernel_265974/3878177103.py:23: RuntimeWarning: invalid value encountered in sqrt\n",
      "  Ux = np.sqrt(2 - (1/a) - (a * (1 - (e ** 2))))  # Ux\n",
      "/tmp/ipykernel_265974/3878177103.py:23: RuntimeWarning: invalid value encountered in sqrt\n",
      "  Ux = np.sqrt(2 - (1/a) - (a * (1 - (e ** 2))))  # Ux\n",
      "/tmp/ipykernel_265974/3878177103.py:24: RuntimeWarning: invalid value encountered in sqrt\n",
      "  U = np.sqrt(3 - (1/a) - ((2 * np.sqrt(a * (1 - e ** 2))) * np.cos(np.deg2rad(i))))  # U\n",
      "/tmp/ipykernel_265974/3878177103.py:23: RuntimeWarning: invalid value encountered in sqrt\n",
      "  Ux = np.sqrt(2 - (1/a) - (a * (1 - (e ** 2))))  # Ux\n",
      "/tmp/ipykernel_265974/3878177103.py:23: RuntimeWarning: invalid value encountered in sqrt\n",
      "  Ux = np.sqrt(2 - (1/a) - (a * (1 - (e ** 2))))  # Ux\n",
      "/tmp/ipykernel_265974/3878177103.py:24: RuntimeWarning: invalid value encountered in sqrt\n",
      "  U = np.sqrt(3 - (1/a) - ((2 * np.sqrt(a * (1 - e ** 2))) * np.cos(np.deg2rad(i))))  # U\n",
      "/tmp/ipykernel_265974/3878177103.py:23: RuntimeWarning: invalid value encountered in sqrt\n",
      "  Ux = np.sqrt(2 - (1/a) - (a * (1 - (e ** 2))))  # Ux\n",
      "/tmp/ipykernel_265974/3878177103.py:23: RuntimeWarning: invalid value encountered in sqrt\n",
      "  Ux = np.sqrt(2 - (1/a) - (a * (1 - (e ** 2))))  # Ux\n",
      "/tmp/ipykernel_265974/3878177103.py:23: RuntimeWarning: invalid value encountered in sqrt\n",
      "  Ux = np.sqrt(2 - (1/a) - (a * (1 - (e ** 2))))  # Ux\n",
      "/tmp/ipykernel_265974/3878177103.py:24: RuntimeWarning: invalid value encountered in sqrt\n",
      "  U = np.sqrt(3 - (1/a) - ((2 * np.sqrt(a * (1 - e ** 2))) * np.cos(np.deg2rad(i))))  # U\n",
      "/tmp/ipykernel_265974/3878177103.py:23: RuntimeWarning: invalid value encountered in sqrt\n",
      "  Ux = np.sqrt(2 - (1/a) - (a * (1 - (e ** 2))))  # Ux\n",
      "/tmp/ipykernel_265974/3878177103.py:24: RuntimeWarning: invalid value encountered in sqrt\n",
      "  U = np.sqrt(3 - (1/a) - ((2 * np.sqrt(a * (1 - e ** 2))) * np.cos(np.deg2rad(i))))  # U\n",
      "/tmp/ipykernel_265974/3878177103.py:23: RuntimeWarning: invalid value encountered in sqrt\n",
      "  Ux = np.sqrt(2 - (1/a) - (a * (1 - (e ** 2))))  # Ux\n",
      "/tmp/ipykernel_265974/3878177103.py:23: RuntimeWarning: invalid value encountered in sqrt\n",
      "  Ux = np.sqrt(2 - (1/a) - (a * (1 - (e ** 2))))  # Ux\n",
      "/tmp/ipykernel_265974/3878177103.py:24: RuntimeWarning: invalid value encountered in sqrt\n",
      "  U = np.sqrt(3 - (1/a) - ((2 * np.sqrt(a * (1 - e ** 2))) * np.cos(np.deg2rad(i))))  # U\n",
      "/tmp/ipykernel_265974/3878177103.py:23: RuntimeWarning: invalid value encountered in sqrt\n",
      "  Ux = np.sqrt(2 - (1/a) - (a * (1 - (e ** 2))))  # Ux\n",
      "/tmp/ipykernel_265974/3878177103.py:24: RuntimeWarning: invalid value encountered in sqrt\n",
      "  U = np.sqrt(3 - (1/a) - ((2 * np.sqrt(a * (1 - e ** 2))) * np.cos(np.deg2rad(i))))  # U\n",
      "/tmp/ipykernel_265974/3878177103.py:23: RuntimeWarning: invalid value encountered in sqrt\n",
      "  Ux = np.sqrt(2 - (1/a) - (a * (1 - (e ** 2))))  # Ux\n",
      "/tmp/ipykernel_265974/3878177103.py:23: RuntimeWarning: invalid value encountered in sqrt\n",
      "  Ux = np.sqrt(2 - (1/a) - (a * (1 - (e ** 2))))  # Ux\n",
      "/tmp/ipykernel_265974/3878177103.py:23: RuntimeWarning: invalid value encountered in sqrt\n",
      "  Ux = np.sqrt(2 - (1/a) - (a * (1 - (e ** 2))))  # Ux\n",
      "/tmp/ipykernel_265974/3878177103.py:24: RuntimeWarning: invalid value encountered in sqrt\n",
      "  U = np.sqrt(3 - (1/a) - ((2 * np.sqrt(a * (1 - e ** 2))) * np.cos(np.deg2rad(i))))  # U\n",
      "/tmp/ipykernel_265974/3878177103.py:23: RuntimeWarning: invalid value encountered in sqrt\n",
      "  Ux = np.sqrt(2 - (1/a) - (a * (1 - (e ** 2))))  # Ux\n",
      "/tmp/ipykernel_265974/3878177103.py:23: RuntimeWarning: invalid value encountered in sqrt\n",
      "  Ux = np.sqrt(2 - (1/a) - (a * (1 - (e ** 2))))  # Ux\n",
      "/tmp/ipykernel_265974/3878177103.py:24: RuntimeWarning: invalid value encountered in sqrt\n",
      "  U = np.sqrt(3 - (1/a) - ((2 * np.sqrt(a * (1 - e ** 2))) * np.cos(np.deg2rad(i))))  # U\n",
      "/tmp/ipykernel_265974/3878177103.py:23: RuntimeWarning: invalid value encountered in sqrt\n",
      "  Ux = np.sqrt(2 - (1/a) - (a * (1 - (e ** 2))))  # Ux\n",
      "/tmp/ipykernel_265974/3878177103.py:23: RuntimeWarning: invalid value encountered in sqrt\n",
      "  Ux = np.sqrt(2 - (1/a) - (a * (1 - (e ** 2))))  # Ux\n",
      "/tmp/ipykernel_265974/3878177103.py:23: RuntimeWarning: invalid value encountered in sqrt\n",
      "  Ux = np.sqrt(2 - (1/a) - (a * (1 - (e ** 2))))  # Ux\n",
      "/tmp/ipykernel_265974/3878177103.py:23: RuntimeWarning: invalid value encountered in sqrt\n",
      "  Ux = np.sqrt(2 - (1/a) - (a * (1 - (e ** 2))))  # Ux\n",
      "/tmp/ipykernel_265974/3878177103.py:24: RuntimeWarning: invalid value encountered in sqrt\n",
      "  U = np.sqrt(3 - (1/a) - ((2 * np.sqrt(a * (1 - e ** 2))) * np.cos(np.deg2rad(i))))  # U\n",
      "/tmp/ipykernel_265974/3878177103.py:24: RuntimeWarning: invalid value encountered in sqrt\n",
      "  U = np.sqrt(3 - (1/a) - ((2 * np.sqrt(a * (1 - e ** 2))) * np.cos(np.deg2rad(i))))  # U\n",
      "/tmp/ipykernel_265974/3878177103.py:24: RuntimeWarning: invalid value encountered in sqrt\n",
      "  U = np.sqrt(3 - (1/a) - ((2 * np.sqrt(a * (1 - e ** 2))) * np.cos(np.deg2rad(i))))  # U\n",
      "/tmp/ipykernel_265974/3878177103.py:23: RuntimeWarning: invalid value encountered in sqrt\n",
      "  Ux = np.sqrt(2 - (1/a) - (a * (1 - (e ** 2))))  # Ux\n",
      "/tmp/ipykernel_265974/3878177103.py:23: RuntimeWarning: invalid value encountered in sqrt\n",
      "  Ux = np.sqrt(2 - (1/a) - (a * (1 - (e ** 2))))  # Ux\n",
      "/tmp/ipykernel_265974/3878177103.py:24: RuntimeWarning: invalid value encountered in sqrt\n",
      "  U = np.sqrt(3 - (1/a) - ((2 * np.sqrt(a * (1 - e ** 2))) * np.cos(np.deg2rad(i))))  # U\n",
      "/tmp/ipykernel_265974/3878177103.py:23: RuntimeWarning: invalid value encountered in sqrt\n",
      "  Ux = np.sqrt(2 - (1/a) - (a * (1 - (e ** 2))))  # Ux\n",
      "/tmp/ipykernel_265974/3878177103.py:23: RuntimeWarning: invalid value encountered in sqrt\n",
      "  Ux = np.sqrt(2 - (1/a) - (a * (1 - (e ** 2))))  # Ux\n",
      "/tmp/ipykernel_265974/3878177103.py:23: RuntimeWarning: invalid value encountered in sqrt\n",
      "  Ux = np.sqrt(2 - (1/a) - (a * (1 - (e ** 2))))  # Ux\n",
      "  6%|██████████▏                                                                                                                                                           | 617/10000 [00:00<00:01, 5060.41it/s]/tmp/ipykernel_265974/3878177103.py:23: RuntimeWarning: invalid value encountered in sqrt\n",
      "  Ux = np.sqrt(2 - (1/a) - (a * (1 - (e ** 2))))  # Ux\n",
      "/tmp/ipykernel_265974/3878177103.py:24: RuntimeWarning: invalid value encountered in sqrt\n",
      "  U = np.sqrt(3 - (1/a) - ((2 * np.sqrt(a * (1 - e ** 2))) * np.cos(np.deg2rad(i))))  # U\n",
      "/tmp/ipykernel_265974/3878177103.py:23: RuntimeWarning: invalid value encountered in sqrt\n",
      "  Ux = np.sqrt(2 - (1/a) - (a * (1 - (e ** 2))))  # Ux\n",
      "/tmp/ipykernel_265974/3878177103.py:24: RuntimeWarning: invalid value encountered in sqrt\n",
      "  U = np.sqrt(3 - (1/a) - ((2 * np.sqrt(a * (1 - e ** 2))) * np.cos(np.deg2rad(i))))  # U\n",
      "/tmp/ipykernel_265974/3878177103.py:24: RuntimeWarning: invalid value encountered in sqrt\n",
      "  U = np.sqrt(3 - (1/a) - ((2 * np.sqrt(a * (1 - e ** 2))) * np.cos(np.deg2rad(i))))  # U\n",
      "/tmp/ipykernel_265974/3878177103.py:24: RuntimeWarning: invalid value encountered in sqrt\n",
      "  U = np.sqrt(3 - (1/a) - ((2 * np.sqrt(a * (1 - e ** 2))) * np.cos(np.deg2rad(i))))  # U\n",
      "/tmp/ipykernel_265974/3878177103.py:23: RuntimeWarning: invalid value encountered in sqrt\n",
      "  Ux = np.sqrt(2 - (1/a) - (a * (1 - (e ** 2))))  # Ux\n",
      "/tmp/ipykernel_265974/3878177103.py:23: RuntimeWarning: invalid value encountered in sqrt\n",
      "  Ux = np.sqrt(2 - (1/a) - (a * (1 - (e ** 2))))  # Ux\n",
      "/tmp/ipykernel_265974/3878177103.py:23: RuntimeWarning: invalid value encountered in sqrt\n",
      "  Ux = np.sqrt(2 - (1/a) - (a * (1 - (e ** 2))))  # Ux\n",
      "/tmp/ipykernel_265974/3878177103.py:23: RuntimeWarning: invalid value encountered in sqrt\n",
      "  Ux = np.sqrt(2 - (1/a) - (a * (1 - (e ** 2))))  # Ux\n",
      "/tmp/ipykernel_265974/3878177103.py:23: RuntimeWarning: invalid value encountered in sqrt\n",
      "  Ux = np.sqrt(2 - (1/a) - (a * (1 - (e ** 2))))  # Ux\n",
      "/tmp/ipykernel_265974/3878177103.py:23: RuntimeWarning: invalid value encountered in sqrt\n",
      "  Ux = np.sqrt(2 - (1/a) - (a * (1 - (e ** 2))))  # Ux\n",
      "/tmp/ipykernel_265974/3878177103.py:23: RuntimeWarning: invalid value encountered in sqrt\n",
      "  Ux = np.sqrt(2 - (1/a) - (a * (1 - (e ** 2))))  # Ux\n",
      "/tmp/ipykernel_265974/3878177103.py:23: RuntimeWarning: invalid value encountered in sqrt\n",
      "  Ux = np.sqrt(2 - (1/a) - (a * (1 - (e ** 2))))  # Ux\n",
      "/tmp/ipykernel_265974/3878177103.py:23: RuntimeWarning: invalid value encountered in sqrt\n",
      "  Ux = np.sqrt(2 - (1/a) - (a * (1 - (e ** 2))))  # Ux\n",
      "/tmp/ipykernel_265974/3878177103.py:23: RuntimeWarning: invalid value encountered in sqrt\n",
      "  Ux = np.sqrt(2 - (1/a) - (a * (1 - (e ** 2))))  # Ux\n",
      "/tmp/ipykernel_265974/3878177103.py:23: RuntimeWarning: invalid value encountered in sqrt\n",
      "  Ux = np.sqrt(2 - (1/a) - (a * (1 - (e ** 2))))  # Ux\n",
      "/tmp/ipykernel_265974/3878177103.py:23: RuntimeWarning: invalid value encountered in sqrt\n",
      "  Ux = np.sqrt(2 - (1/a) - (a * (1 - (e ** 2))))  # Ux\n",
      "/tmp/ipykernel_265974/3878177103.py:23: RuntimeWarning: invalid value encountered in sqrt\n",
      "  Ux = np.sqrt(2 - (1/a) - (a * (1 - (e ** 2))))  # Ux\n",
      "/tmp/ipykernel_265974/3878177103.py:23: RuntimeWarning: invalid value encountered in sqrt\n",
      "  Ux = np.sqrt(2 - (1/a) - (a * (1 - (e ** 2))))  # Ux\n",
      "/tmp/ipykernel_265974/3878177103.py:23: RuntimeWarning: invalid value encountered in sqrt\n",
      "  Ux = np.sqrt(2 - (1/a) - (a * (1 - (e ** 2))))  # Ux\n",
      "/tmp/ipykernel_265974/3878177103.py:24: RuntimeWarning: invalid value encountered in sqrt\n",
      "  U = np.sqrt(3 - (1/a) - ((2 * np.sqrt(a * (1 - e ** 2))) * np.cos(np.deg2rad(i))))  # U\n",
      "/tmp/ipykernel_265974/3878177103.py:23: RuntimeWarning: invalid value encountered in sqrt\n",
      "  Ux = np.sqrt(2 - (1/a) - (a * (1 - (e ** 2))))  # Ux\n",
      "/tmp/ipykernel_265974/3878177103.py:23: RuntimeWarning: invalid value encountered in sqrt\n",
      "  Ux = np.sqrt(2 - (1/a) - (a * (1 - (e ** 2))))  # Ux\n",
      "/tmp/ipykernel_265974/3878177103.py:24: RuntimeWarning: invalid value encountered in sqrt\n",
      "  U = np.sqrt(3 - (1/a) - ((2 * np.sqrt(a * (1 - e ** 2))) * np.cos(np.deg2rad(i))))  # U\n",
      "/tmp/ipykernel_265974/3878177103.py:24: RuntimeWarning: invalid value encountered in sqrt\n",
      "  U = np.sqrt(3 - (1/a) - ((2 * np.sqrt(a * (1 - e ** 2))) * np.cos(np.deg2rad(i))))  # U\n",
      "/tmp/ipykernel_265974/3878177103.py:23: RuntimeWarning: invalid value encountered in sqrt\n",
      "  Ux = np.sqrt(2 - (1/a) - (a * (1 - (e ** 2))))  # Ux\n",
      "/tmp/ipykernel_265974/3878177103.py:23: RuntimeWarning: invalid value encountered in sqrt\n",
      "  Ux = np.sqrt(2 - (1/a) - (a * (1 - (e ** 2))))  # Ux\n",
      "/tmp/ipykernel_265974/3878177103.py:23: RuntimeWarning: invalid value encountered in sqrt\n",
      "  Ux = np.sqrt(2 - (1/a) - (a * (1 - (e ** 2))))  # Ux\n",
      "/tmp/ipykernel_265974/3878177103.py:24: RuntimeWarning: invalid value encountered in sqrt\n",
      "  U = np.sqrt(3 - (1/a) - ((2 * np.sqrt(a * (1 - e ** 2))) * np.cos(np.deg2rad(i))))  # U\n",
      "/tmp/ipykernel_265974/3878177103.py:23: RuntimeWarning: invalid value encountered in sqrt\n",
      "  Ux = np.sqrt(2 - (1/a) - (a * (1 - (e ** 2))))  # Ux\n",
      "/tmp/ipykernel_265974/3878177103.py:24: RuntimeWarning: invalid value encountered in sqrt\n",
      "  U = np.sqrt(3 - (1/a) - ((2 * np.sqrt(a * (1 - e ** 2))) * np.cos(np.deg2rad(i))))  # U\n",
      "/tmp/ipykernel_265974/3878177103.py:23: RuntimeWarning: invalid value encountered in sqrt\n",
      "  Ux = np.sqrt(2 - (1/a) - (a * (1 - (e ** 2))))  # Ux\n",
      "/tmp/ipykernel_265974/3878177103.py:24: RuntimeWarning: invalid value encountered in sqrt\n",
      "  U = np.sqrt(3 - (1/a) - ((2 * np.sqrt(a * (1 - e ** 2))) * np.cos(np.deg2rad(i))))  # U\n",
      "/tmp/ipykernel_265974/3878177103.py:23: RuntimeWarning: invalid value encountered in sqrt\n",
      "  Ux = np.sqrt(2 - (1/a) - (a * (1 - (e ** 2))))  # Ux\n",
      "/tmp/ipykernel_265974/3878177103.py:24: RuntimeWarning: invalid value encountered in sqrt\n",
      "  U = np.sqrt(3 - (1/a) - ((2 * np.sqrt(a * (1 - e ** 2))) * np.cos(np.deg2rad(i))))  # U\n",
      "/tmp/ipykernel_265974/3878177103.py:23: RuntimeWarning: invalid value encountered in sqrt\n",
      "  Ux = np.sqrt(2 - (1/a) - (a * (1 - (e ** 2))))  # Ux\n",
      "/tmp/ipykernel_265974/3878177103.py:23: RuntimeWarning: invalid value encountered in sqrt\n",
      "  Ux = np.sqrt(2 - (1/a) - (a * (1 - (e ** 2))))  # Ux\n",
      "/tmp/ipykernel_265974/3878177103.py:23: RuntimeWarning: invalid value encountered in sqrt\n",
      "  Ux = np.sqrt(2 - (1/a) - (a * (1 - (e ** 2))))  # Ux\n",
      "/tmp/ipykernel_265974/3878177103.py:23: RuntimeWarning: invalid value encountered in sqrt\n",
      "  Ux = np.sqrt(2 - (1/a) - (a * (1 - (e ** 2))))  # Ux\n",
      "/tmp/ipykernel_265974/3878177103.py:24: RuntimeWarning: invalid value encountered in sqrt\n",
      "  U = np.sqrt(3 - (1/a) - ((2 * np.sqrt(a * (1 - e ** 2))) * np.cos(np.deg2rad(i))))  # U\n",
      "/tmp/ipykernel_265974/3878177103.py:24: RuntimeWarning: invalid value encountered in sqrt\n",
      "  U = np.sqrt(3 - (1/a) - ((2 * np.sqrt(a * (1 - e ** 2))) * np.cos(np.deg2rad(i))))  # U\n",
      "/tmp/ipykernel_265974/3878177103.py:24: RuntimeWarning: invalid value encountered in sqrt\n",
      "  U = np.sqrt(3 - (1/a) - ((2 * np.sqrt(a * (1 - e ** 2))) * np.cos(np.deg2rad(i))))  # U\n",
      "/tmp/ipykernel_265974/3878177103.py:24: RuntimeWarning: invalid value encountered in sqrt\n",
      "  U = np.sqrt(3 - (1/a) - ((2 * np.sqrt(a * (1 - e ** 2))) * np.cos(np.deg2rad(i))))  # U\n",
      "/tmp/ipykernel_265974/3878177103.py:23: RuntimeWarning: invalid value encountered in sqrt\n",
      "  Ux = np.sqrt(2 - (1/a) - (a * (1 - (e ** 2))))  # Ux\n",
      "/tmp/ipykernel_265974/3878177103.py:24: RuntimeWarning: invalid value encountered in sqrt\n",
      "  U = np.sqrt(3 - (1/a) - ((2 * np.sqrt(a * (1 - e ** 2))) * np.cos(np.deg2rad(i))))  # U\n",
      "/tmp/ipykernel_265974/3878177103.py:24: RuntimeWarning: invalid value encountered in sqrt\n",
      "  U = np.sqrt(3 - (1/a) - ((2 * np.sqrt(a * (1 - e ** 2))) * np.cos(np.deg2rad(i))))  # U\n",
      "/tmp/ipykernel_265974/3878177103.py:24: RuntimeWarning: invalid value encountered in sqrt\n",
      "  U = np.sqrt(3 - (1/a) - ((2 * np.sqrt(a * (1 - e ** 2))) * np.cos(np.deg2rad(i))))  # U\n",
      "/tmp/ipykernel_265974/3878177103.py:23: RuntimeWarning: invalid value encountered in sqrt\n",
      "  Ux = np.sqrt(2 - (1/a) - (a * (1 - (e ** 2))))  # Ux\n",
      "/tmp/ipykernel_265974/3878177103.py:23: RuntimeWarning: invalid value encountered in sqrt\n",
      "  Ux = np.sqrt(2 - (1/a) - (a * (1 - (e ** 2))))  # Ux\n",
      "/tmp/ipykernel_265974/3878177103.py:23: RuntimeWarning: invalid value encountered in sqrt\n",
      "  Ux = np.sqrt(2 - (1/a) - (a * (1 - (e ** 2))))  # Ux\n",
      "/tmp/ipykernel_265974/3878177103.py:23: RuntimeWarning: invalid value encountered in sqrt\n",
      "  Ux = np.sqrt(2 - (1/a) - (a * (1 - (e ** 2))))  # Ux\n",
      "/tmp/ipykernel_265974/3878177103.py:23: RuntimeWarning: invalid value encountered in sqrt\n",
      "  Ux = np.sqrt(2 - (1/a) - (a * (1 - (e ** 2))))  # Ux\n",
      "/tmp/ipykernel_265974/3878177103.py:24: RuntimeWarning: invalid value encountered in sqrt\n",
      "  U = np.sqrt(3 - (1/a) - ((2 * np.sqrt(a * (1 - e ** 2))) * np.cos(np.deg2rad(i))))  # U\n",
      "/tmp/ipykernel_265974/3878177103.py:23: RuntimeWarning: invalid value encountered in sqrt\n",
      "  Ux = np.sqrt(2 - (1/a) - (a * (1 - (e ** 2))))  # Ux\n",
      "/tmp/ipykernel_265974/3878177103.py:24: RuntimeWarning: invalid value encountered in sqrt\n",
      "  U = np.sqrt(3 - (1/a) - ((2 * np.sqrt(a * (1 - e ** 2))) * np.cos(np.deg2rad(i))))  # U\n",
      "/tmp/ipykernel_265974/3878177103.py:23: RuntimeWarning: invalid value encountered in sqrt\n",
      "  Ux = np.sqrt(2 - (1/a) - (a * (1 - (e ** 2))))  # Ux\n",
      "/tmp/ipykernel_265974/3878177103.py:23: RuntimeWarning: invalid value encountered in sqrt\n",
      "  Ux = np.sqrt(2 - (1/a) - (a * (1 - (e ** 2))))  # Ux\n",
      "/tmp/ipykernel_265974/3878177103.py:24: RuntimeWarning: invalid value encountered in sqrt\n",
      "  U = np.sqrt(3 - (1/a) - ((2 * np.sqrt(a * (1 - e ** 2))) * np.cos(np.deg2rad(i))))  # U\n",
      "/tmp/ipykernel_265974/3878177103.py:24: RuntimeWarning: invalid value encountered in sqrt\n",
      "  U = np.sqrt(3 - (1/a) - ((2 * np.sqrt(a * (1 - e ** 2))) * np.cos(np.deg2rad(i))))  # U\n",
      "/tmp/ipykernel_265974/3878177103.py:23: RuntimeWarning: invalid value encountered in sqrt\n",
      "  Ux = np.sqrt(2 - (1/a) - (a * (1 - (e ** 2))))  # Ux\n",
      "/tmp/ipykernel_265974/3878177103.py:23: RuntimeWarning: invalid value encountered in sqrt\n",
      "  Ux = np.sqrt(2 - (1/a) - (a * (1 - (e ** 2))))  # Ux\n",
      "/tmp/ipykernel_265974/3878177103.py:24: RuntimeWarning: invalid value encountered in sqrt\n",
      "  U = np.sqrt(3 - (1/a) - ((2 * np.sqrt(a * (1 - e ** 2))) * np.cos(np.deg2rad(i))))  # U\n",
      "/tmp/ipykernel_265974/3878177103.py:24: RuntimeWarning: invalid value encountered in sqrt\n",
      "  U = np.sqrt(3 - (1/a) - ((2 * np.sqrt(a * (1 - e ** 2))) * np.cos(np.deg2rad(i))))  # U\n",
      "/tmp/ipykernel_265974/3878177103.py:24: RuntimeWarning: invalid value encountered in sqrt\n",
      "  U = np.sqrt(3 - (1/a) - ((2 * np.sqrt(a * (1 - e ** 2))) * np.cos(np.deg2rad(i))))  # U\n",
      "/tmp/ipykernel_265974/3878177103.py:24: RuntimeWarning: invalid value encountered in sqrt\n",
      "  U = np.sqrt(3 - (1/a) - ((2 * np.sqrt(a * (1 - e ** 2))) * np.cos(np.deg2rad(i))))  # U\n",
      "/tmp/ipykernel_265974/3878177103.py:24: RuntimeWarning: invalid value encountered in sqrt\n",
      "  U = np.sqrt(3 - (1/a) - ((2 * np.sqrt(a * (1 - e ** 2))) * np.cos(np.deg2rad(i))))  # U\n",
      "/tmp/ipykernel_265974/3878177103.py:24: RuntimeWarning: invalid value encountered in sqrt\n",
      "  U = np.sqrt(3 - (1/a) - ((2 * np.sqrt(a * (1 - e ** 2))) * np.cos(np.deg2rad(i))))  # U\n",
      "/tmp/ipykernel_265974/3878177103.py:23: RuntimeWarning: invalid value encountered in sqrt\n",
      "  Ux = np.sqrt(2 - (1/a) - (a * (1 - (e ** 2))))  # Ux\n",
      "/tmp/ipykernel_265974/3878177103.py:24: RuntimeWarning: invalid value encountered in sqrt\n",
      "  U = np.sqrt(3 - (1/a) - ((2 * np.sqrt(a * (1 - e ** 2))) * np.cos(np.deg2rad(i))))  # U\n",
      "/tmp/ipykernel_265974/3878177103.py:23: RuntimeWarning: invalid value encountered in sqrt\n",
      "  Ux = np.sqrt(2 - (1/a) - (a * (1 - (e ** 2))))  # Ux\n",
      "/tmp/ipykernel_265974/3878177103.py:24: RuntimeWarning: invalid value encountered in sqrt\n",
      "  U = np.sqrt(3 - (1/a) - ((2 * np.sqrt(a * (1 - e ** 2))) * np.cos(np.deg2rad(i))))  # U\n",
      "/tmp/ipykernel_265974/3878177103.py:23: RuntimeWarning: invalid value encountered in sqrt\n",
      "  Ux = np.sqrt(2 - (1/a) - (a * (1 - (e ** 2))))  # Ux\n",
      "/tmp/ipykernel_265974/3878177103.py:23: RuntimeWarning: invalid value encountered in sqrt\n",
      "  Ux = np.sqrt(2 - (1/a) - (a * (1 - (e ** 2))))  # Ux\n",
      "/tmp/ipykernel_265974/3878177103.py:24: RuntimeWarning: invalid value encountered in sqrt\n",
      "  U = np.sqrt(3 - (1/a) - ((2 * np.sqrt(a * (1 - e ** 2))) * np.cos(np.deg2rad(i))))  # U\n",
      "/tmp/ipykernel_265974/3878177103.py:23: RuntimeWarning: invalid value encountered in sqrt\n",
      "  Ux = np.sqrt(2 - (1/a) - (a * (1 - (e ** 2))))  # Ux\n",
      " 18%|████████████████████████████▉                                                                                                                                        | 1751/10000 [00:00<00:00, 8446.59it/s]/tmp/ipykernel_265974/3878177103.py:24: RuntimeWarning: invalid value encountered in sqrt\n",
      "  U = np.sqrt(3 - (1/a) - ((2 * np.sqrt(a * (1 - e ** 2))) * np.cos(np.deg2rad(i))))  # U\n",
      "/tmp/ipykernel_265974/3878177103.py:23: RuntimeWarning: invalid value encountered in sqrt\n",
      "  Ux = np.sqrt(2 - (1/a) - (a * (1 - (e ** 2))))  # Ux\n",
      "/tmp/ipykernel_265974/3878177103.py:24: RuntimeWarning: invalid value encountered in sqrt\n",
      "  U = np.sqrt(3 - (1/a) - ((2 * np.sqrt(a * (1 - e ** 2))) * np.cos(np.deg2rad(i))))  # U\n",
      "/tmp/ipykernel_265974/3878177103.py:24: RuntimeWarning: invalid value encountered in sqrt\n",
      "  U = np.sqrt(3 - (1/a) - ((2 * np.sqrt(a * (1 - e ** 2))) * np.cos(np.deg2rad(i))))  # U\n",
      "/tmp/ipykernel_265974/3878177103.py:24: RuntimeWarning: invalid value encountered in sqrt\n",
      "  U = np.sqrt(3 - (1/a) - ((2 * np.sqrt(a * (1 - e ** 2))) * np.cos(np.deg2rad(i))))  # U\n",
      "/tmp/ipykernel_265974/3878177103.py:24: RuntimeWarning: invalid value encountered in sqrt\n",
      "  U = np.sqrt(3 - (1/a) - ((2 * np.sqrt(a * (1 - e ** 2))) * np.cos(np.deg2rad(i))))  # U\n",
      "/tmp/ipykernel_265974/3878177103.py:24: RuntimeWarning: invalid value encountered in sqrt\n",
      "  U = np.sqrt(3 - (1/a) - ((2 * np.sqrt(a * (1 - e ** 2))) * np.cos(np.deg2rad(i))))  # U\n",
      "/tmp/ipykernel_265974/3878177103.py:24: RuntimeWarning: invalid value encountered in sqrt\n",
      "  U = np.sqrt(3 - (1/a) - ((2 * np.sqrt(a * (1 - e ** 2))) * np.cos(np.deg2rad(i))))  # U\n",
      "/tmp/ipykernel_265974/3878177103.py:24: RuntimeWarning: invalid value encountered in sqrt\n",
      "  U = np.sqrt(3 - (1/a) - ((2 * np.sqrt(a * (1 - e ** 2))) * np.cos(np.deg2rad(i))))  # U\n",
      "/tmp/ipykernel_265974/3878177103.py:23: RuntimeWarning: invalid value encountered in sqrt\n",
      "  Ux = np.sqrt(2 - (1/a) - (a * (1 - (e ** 2))))  # Ux\n",
      "/tmp/ipykernel_265974/3878177103.py:24: RuntimeWarning: invalid value encountered in sqrt\n",
      "  U = np.sqrt(3 - (1/a) - ((2 * np.sqrt(a * (1 - e ** 2))) * np.cos(np.deg2rad(i))))  # U\n",
      "/tmp/ipykernel_265974/3878177103.py:24: RuntimeWarning: invalid value encountered in sqrt\n",
      "  U = np.sqrt(3 - (1/a) - ((2 * np.sqrt(a * (1 - e ** 2))) * np.cos(np.deg2rad(i))))  # U\n",
      "/tmp/ipykernel_265974/3878177103.py:24: RuntimeWarning: invalid value encountered in sqrt\n",
      "  U = np.sqrt(3 - (1/a) - ((2 * np.sqrt(a * (1 - e ** 2))) * np.cos(np.deg2rad(i))))  # U\n",
      "/tmp/ipykernel_265974/3878177103.py:24: RuntimeWarning: invalid value encountered in sqrt\n",
      "  U = np.sqrt(3 - (1/a) - ((2 * np.sqrt(a * (1 - e ** 2))) * np.cos(np.deg2rad(i))))  # U\n",
      "/tmp/ipykernel_265974/3878177103.py:24: RuntimeWarning: invalid value encountered in sqrt\n",
      "  U = np.sqrt(3 - (1/a) - ((2 * np.sqrt(a * (1 - e ** 2))) * np.cos(np.deg2rad(i))))  # U\n",
      "/tmp/ipykernel_265974/3878177103.py:24: RuntimeWarning: invalid value encountered in sqrt\n",
      "  U = np.sqrt(3 - (1/a) - ((2 * np.sqrt(a * (1 - e ** 2))) * np.cos(np.deg2rad(i))))  # U\n",
      "/tmp/ipykernel_265974/3878177103.py:23: RuntimeWarning: invalid value encountered in sqrt\n",
      "  Ux = np.sqrt(2 - (1/a) - (a * (1 - (e ** 2))))  # Ux\n",
      "/tmp/ipykernel_265974/3878177103.py:24: RuntimeWarning: invalid value encountered in sqrt\n",
      "  U = np.sqrt(3 - (1/a) - ((2 * np.sqrt(a * (1 - e ** 2))) * np.cos(np.deg2rad(i))))  # U\n",
      "/tmp/ipykernel_265974/3878177103.py:24: RuntimeWarning: invalid value encountered in sqrt\n",
      "  U = np.sqrt(3 - (1/a) - ((2 * np.sqrt(a * (1 - e ** 2))) * np.cos(np.deg2rad(i))))  # U\n",
      "/tmp/ipykernel_265974/3878177103.py:24: RuntimeWarning: invalid value encountered in sqrt\n",
      "  U = np.sqrt(3 - (1/a) - ((2 * np.sqrt(a * (1 - e ** 2))) * np.cos(np.deg2rad(i))))  # U\n",
      "/tmp/ipykernel_265974/3878177103.py:24: RuntimeWarning: invalid value encountered in sqrt\n",
      "  U = np.sqrt(3 - (1/a) - ((2 * np.sqrt(a * (1 - e ** 2))) * np.cos(np.deg2rad(i))))  # U\n",
      "/tmp/ipykernel_265974/3878177103.py:23: RuntimeWarning: invalid value encountered in sqrt\n",
      "  Ux = np.sqrt(2 - (1/a) - (a * (1 - (e ** 2))))  # Ux\n",
      "/tmp/ipykernel_265974/3878177103.py:23: RuntimeWarning: invalid value encountered in sqrt\n",
      "  Ux = np.sqrt(2 - (1/a) - (a * (1 - (e ** 2))))  # Ux\n",
      "/tmp/ipykernel_265974/3878177103.py:24: RuntimeWarning: invalid value encountered in sqrt\n",
      "  U = np.sqrt(3 - (1/a) - ((2 * np.sqrt(a * (1 - e ** 2))) * np.cos(np.deg2rad(i))))  # U\n",
      "/tmp/ipykernel_265974/3878177103.py:24: RuntimeWarning: invalid value encountered in sqrt\n",
      "  U = np.sqrt(3 - (1/a) - ((2 * np.sqrt(a * (1 - e ** 2))) * np.cos(np.deg2rad(i))))  # U\n",
      "/tmp/ipykernel_265974/3878177103.py:24: RuntimeWarning: invalid value encountered in sqrt\n",
      "  U = np.sqrt(3 - (1/a) - ((2 * np.sqrt(a * (1 - e ** 2))) * np.cos(np.deg2rad(i))))  # U\n",
      "/tmp/ipykernel_265974/3878177103.py:23: RuntimeWarning: invalid value encountered in sqrt\n",
      "  Ux = np.sqrt(2 - (1/a) - (a * (1 - (e ** 2))))  # Ux\n",
      "/tmp/ipykernel_265974/3878177103.py:23: RuntimeWarning: invalid value encountered in sqrt\n",
      "  Ux = np.sqrt(2 - (1/a) - (a * (1 - (e ** 2))))  # Ux\n",
      "/tmp/ipykernel_265974/3878177103.py:24: RuntimeWarning: invalid value encountered in sqrt\n",
      "  U = np.sqrt(3 - (1/a) - ((2 * np.sqrt(a * (1 - e ** 2))) * np.cos(np.deg2rad(i))))  # U\n",
      "/tmp/ipykernel_265974/3878177103.py:24: RuntimeWarning: invalid value encountered in sqrt\n",
      "  U = np.sqrt(3 - (1/a) - ((2 * np.sqrt(a * (1 - e ** 2))) * np.cos(np.deg2rad(i))))  # U\n",
      "/tmp/ipykernel_265974/3878177103.py:24: RuntimeWarning: invalid value encountered in sqrt\n",
      "  U = np.sqrt(3 - (1/a) - ((2 * np.sqrt(a * (1 - e ** 2))) * np.cos(np.deg2rad(i))))  # U\n",
      "/tmp/ipykernel_265974/3878177103.py:24: RuntimeWarning: invalid value encountered in sqrt\n",
      "  U = np.sqrt(3 - (1/a) - ((2 * np.sqrt(a * (1 - e ** 2))) * np.cos(np.deg2rad(i))))  # U\n",
      "/tmp/ipykernel_265974/3878177103.py:24: RuntimeWarning: invalid value encountered in sqrt\n",
      "  U = np.sqrt(3 - (1/a) - ((2 * np.sqrt(a * (1 - e ** 2))) * np.cos(np.deg2rad(i))))  # U\n",
      "/tmp/ipykernel_265974/3878177103.py:23: RuntimeWarning: invalid value encountered in sqrt\n",
      "  Ux = np.sqrt(2 - (1/a) - (a * (1 - (e ** 2))))  # Ux\n",
      "/tmp/ipykernel_265974/3878177103.py:24: RuntimeWarning: invalid value encountered in sqrt\n",
      "  U = np.sqrt(3 - (1/a) - ((2 * np.sqrt(a * (1 - e ** 2))) * np.cos(np.deg2rad(i))))  # U\n",
      "/tmp/ipykernel_265974/3878177103.py:24: RuntimeWarning: invalid value encountered in sqrt\n",
      "  U = np.sqrt(3 - (1/a) - ((2 * np.sqrt(a * (1 - e ** 2))) * np.cos(np.deg2rad(i))))  # U\n",
      "/tmp/ipykernel_265974/3878177103.py:24: RuntimeWarning: invalid value encountered in sqrt\n",
      "  U = np.sqrt(3 - (1/a) - ((2 * np.sqrt(a * (1 - e ** 2))) * np.cos(np.deg2rad(i))))  # U\n",
      "/tmp/ipykernel_265974/3878177103.py:24: RuntimeWarning: invalid value encountered in sqrt\n",
      "  U = np.sqrt(3 - (1/a) - ((2 * np.sqrt(a * (1 - e ** 2))) * np.cos(np.deg2rad(i))))  # U\n",
      "/tmp/ipykernel_265974/3878177103.py:24: RuntimeWarning: invalid value encountered in sqrt\n",
      "  U = np.sqrt(3 - (1/a) - ((2 * np.sqrt(a * (1 - e ** 2))) * np.cos(np.deg2rad(i))))  # U\n",
      "/tmp/ipykernel_265974/3878177103.py:24: RuntimeWarning: invalid value encountered in sqrt\n",
      "  U = np.sqrt(3 - (1/a) - ((2 * np.sqrt(a * (1 - e ** 2))) * np.cos(np.deg2rad(i))))  # U\n",
      " 29%|███████████████████████████████████████████████▏                                                                                                                     | 2860/10000 [00:00<00:00, 9587.39it/s]/tmp/ipykernel_265974/3878177103.py:23: RuntimeWarning: invalid value encountered in sqrt\n",
      "  Ux = np.sqrt(2 - (1/a) - (a * (1 - (e ** 2))))  # Ux\n",
      "/tmp/ipykernel_265974/3878177103.py:24: RuntimeWarning: invalid value encountered in sqrt\n",
      "  U = np.sqrt(3 - (1/a) - ((2 * np.sqrt(a * (1 - e ** 2))) * np.cos(np.deg2rad(i))))  # U\n",
      "/tmp/ipykernel_265974/3878177103.py:24: RuntimeWarning: invalid value encountered in sqrt\n",
      "  U = np.sqrt(3 - (1/a) - ((2 * np.sqrt(a * (1 - e ** 2))) * np.cos(np.deg2rad(i))))  # U\n",
      "/tmp/ipykernel_265974/3878177103.py:24: RuntimeWarning: invalid value encountered in sqrt\n",
      "  U = np.sqrt(3 - (1/a) - ((2 * np.sqrt(a * (1 - e ** 2))) * np.cos(np.deg2rad(i))))  # U\n",
      "/tmp/ipykernel_265974/3878177103.py:24: RuntimeWarning: invalid value encountered in sqrt\n",
      "  U = np.sqrt(3 - (1/a) - ((2 * np.sqrt(a * (1 - e ** 2))) * np.cos(np.deg2rad(i))))  # U\n",
      "/tmp/ipykernel_265974/3878177103.py:24: RuntimeWarning: invalid value encountered in sqrt\n",
      "  U = np.sqrt(3 - (1/a) - ((2 * np.sqrt(a * (1 - e ** 2))) * np.cos(np.deg2rad(i))))  # U\n",
      "/tmp/ipykernel_265974/3878177103.py:24: RuntimeWarning: invalid value encountered in sqrt\n",
      "  U = np.sqrt(3 - (1/a) - ((2 * np.sqrt(a * (1 - e ** 2))) * np.cos(np.deg2rad(i))))  # U\n",
      "/tmp/ipykernel_265974/3878177103.py:24: RuntimeWarning: invalid value encountered in sqrt\n",
      "  U = np.sqrt(3 - (1/a) - ((2 * np.sqrt(a * (1 - e ** 2))) * np.cos(np.deg2rad(i))))  # U\n",
      "/tmp/ipykernel_265974/3878177103.py:24: RuntimeWarning: invalid value encountered in sqrt\n",
      "  U = np.sqrt(3 - (1/a) - ((2 * np.sqrt(a * (1 - e ** 2))) * np.cos(np.deg2rad(i))))  # U\n",
      "/tmp/ipykernel_265974/3878177103.py:24: RuntimeWarning: invalid value encountered in sqrt\n",
      "  U = np.sqrt(3 - (1/a) - ((2 * np.sqrt(a * (1 - e ** 2))) * np.cos(np.deg2rad(i))))  # U\n",
      "/tmp/ipykernel_265974/3878177103.py:24: RuntimeWarning: invalid value encountered in sqrt\n",
      "  U = np.sqrt(3 - (1/a) - ((2 * np.sqrt(a * (1 - e ** 2))) * np.cos(np.deg2rad(i))))  # U\n",
      "/tmp/ipykernel_265974/3878177103.py:24: RuntimeWarning: invalid value encountered in sqrt\n",
      "  U = np.sqrt(3 - (1/a) - ((2 * np.sqrt(a * (1 - e ** 2))) * np.cos(np.deg2rad(i))))  # U\n",
      "/tmp/ipykernel_265974/3878177103.py:24: RuntimeWarning: invalid value encountered in sqrt\n",
      "  U = np.sqrt(3 - (1/a) - ((2 * np.sqrt(a * (1 - e ** 2))) * np.cos(np.deg2rad(i))))  # U\n",
      "/tmp/ipykernel_265974/3878177103.py:24: RuntimeWarning: invalid value encountered in sqrt\n",
      "  U = np.sqrt(3 - (1/a) - ((2 * np.sqrt(a * (1 - e ** 2))) * np.cos(np.deg2rad(i))))  # U\n",
      "/tmp/ipykernel_265974/3878177103.py:24: RuntimeWarning: invalid value encountered in sqrt\n",
      "  U = np.sqrt(3 - (1/a) - ((2 * np.sqrt(a * (1 - e ** 2))) * np.cos(np.deg2rad(i))))  # U\n",
      "/tmp/ipykernel_265974/3878177103.py:24: RuntimeWarning: invalid value encountered in sqrt\n",
      "  U = np.sqrt(3 - (1/a) - ((2 * np.sqrt(a * (1 - e ** 2))) * np.cos(np.deg2rad(i))))  # U\n",
      "/tmp/ipykernel_265974/3878177103.py:24: RuntimeWarning: invalid value encountered in sqrt\n",
      "  U = np.sqrt(3 - (1/a) - ((2 * np.sqrt(a * (1 - e ** 2))) * np.cos(np.deg2rad(i))))  # U\n",
      "/tmp/ipykernel_265974/3878177103.py:24: RuntimeWarning: invalid value encountered in sqrt\n",
      "  U = np.sqrt(3 - (1/a) - ((2 * np.sqrt(a * (1 - e ** 2))) * np.cos(np.deg2rad(i))))  # U\n",
      " 68%|███████████████████████████████████████████████████████████████████████████████████████████████████████████████▊                                                    | 6817/10000 [00:00<00:00, 12290.51it/s]/tmp/ipykernel_265974/3878177103.py:28: RuntimeWarning: divide by zero encountered in scalar divide\n",
      "  P = ((tau ** 2) * U)/(np.pi * np.sin(np.deg2rad(i)) * np.abs(Ux))\n",
      "100%|███████████████████████████████████████████████████████████████████████████████████████████████████████████████████████████████████████████████████████████████████| 10000/10000 [00:00<00:00, 11587.29it/s]\n"
     ]
    }
   ],
   "source": [
    "# compute impact probabilities:\n",
    "neomod3_aeis = np.c_[neomod3_as, neomod3_es, neomod3_is]\n",
    "neomod3_aeiperis = np.c_[neomod3_as, neomod3_es, neomod3_is, neomod3_peris]\n",
    "# multiprocess, computing for neomod2 and 3\n",
    "pool = multiprocessing.Pool()\n",
    "# neomod3_pts_pokorny = np.array(list(tqdm(pool.imap(get_pokorny_annual_P_packed, neomod3_aeiperis), total = len(neomod3_aeiperis))))\n",
    "neomod3_pts = np.array(list(tqdm(pool.imap(get_opik_annual_P_packed, neomod3_aeis), total = len(neomod3_aeis))))\n",
    "# join and close\n",
    "pool.close()\n",
    "pool.join()"
   ]
  },
  {
   "cell_type": "markdown",
   "id": "6f6f3504-eb10-4c44-a3c3-e0a13814a9da",
   "metadata": {},
   "source": [
    "Truncate them at $f_\\mathrm{imp} = 5\\times 10^{-8}$ yr$^{-1}$, remove $0$ and nan values and remove objects that do not cross Earth's orbit (Atens/Amors). Here we assume Earth's orbit is a perfect circle with radius $1$ AU:"
   ]
  },
  {
   "cell_type": "code",
   "execution_count": 7,
   "id": "0e57244e-162e-468f-bb9c-48520b2c4964",
   "metadata": {},
   "outputs": [],
   "source": [
    "def filter_obj_mask(pts, qs, Qs, ip_threshold=5.e-8, target_a = 1.):\n",
    "    \"\"\"\n",
    "    Return mask to truncate objects at ip threshold ip_threshold, remove 0 and nan values, \n",
    "    and remove objects that do not cross trarget's orbit\n",
    "    \"\"\"\n",
    "    # mask\n",
    "    return (0. < pts) & (pts < ip_threshold) & ~np.isnan(pts) & (qs < target_a) & (Qs > target_a)\n",
    "\n",
    "\n",
    "neomod3_qs = neomod3_as * (1. - neomod3_es)\n",
    "neomod3_Qs = neomod3_as * (1. + neomod3_es)\n",
    "# mask for 0, nan, impact probability, q and Q\n",
    "mask = filter_obj_mask(neomod3_pts, neomod3_qs, neomod3_Qs)\n",
    "# apply to pts and qs\n",
    "m_neomod3_pts = neomod3_pts[mask]\n",
    "m_neomod3_qs = neomod3_qs[mask]"
   ]
  },
  {
   "cell_type": "markdown",
   "id": "a5395e92-7c6b-4533-958f-02a0c25bd6e1",
   "metadata": {},
   "source": [
    "Plot $f_\\mathrm{imp}$ against $q$:"
   ]
  },
  {
   "cell_type": "code",
   "execution_count": 8,
   "id": "3c283a3e-9a86-4e91-adb9-9e2a3bb7e408",
   "metadata": {},
   "outputs": [
    {
     "data": {
      "text/plain": [
       "(Text(0.5, 0, 'Annual impact probability'), Text(0, 0.5, 'q (AU)'))"
      ]
     },
     "execution_count": 8,
     "metadata": {},
     "output_type": "execute_result"
    },
    {
     "data": {
      "image/png": "[encoded data removed]",
      "text/plain": [
       "<Figure size 1200x800 with 1 Axes>"
      ]
     },
     "metadata": {},
     "output_type": "display_data"
    }
   ],
   "source": [
    "plt.figure(figsize = (12, 8))\n",
    "plt.scatter(m_neomod3_pts, m_neomod3_qs, s=0.1, c='k')\n",
    "plt.xscale('log')\n",
    "plt.xlabel('Annual impact probability'), plt.ylabel('q (AU)')"
   ]
  },
  {
   "cell_type": "markdown",
   "id": "f616bbf0-16b8-4934-86c6-48b1930c5278",
   "metadata": {},
   "source": [
    "Use REBOUND to manually integrate each NEOMOD object until it collides with Earth and then record the velocity, position, etc."
   ]
  },
  {
   "cell_type": "markdown",
   "id": "2fee7319-22bf-4f14-9f26-bffff141a937",
   "metadata": {},
   "source": [
    "Now filter all the NEOMOD3 output and assemble all the required orbital parameters for REBOUND simulation into an array:"
   ]
  },
  {
   "cell_type": "code",
   "execution_count": 9,
   "id": "a78f3e4b-fada-43fe-9620-eb12f6e982c2",
   "metadata": {},
   "outputs": [],
   "source": [
    "m_neomod3_output = neomod3_output[mask]  # filter neomod3 output\n",
    "m_neomod3_hs, m_neomod3_as, m_neomod3_es, m_neomod3_is, m_neomod3_sizes, m_neomod3_albs = m_neomod3_output.T\n",
    "m_neomod3_peris = neomod3_peris[mask]\n",
    "# Randomly generate ascending node between 0 and 360 degrees?\n",
    "m_neomod3_Omegas = np.random.uniform(0., 360., len(m_neomod3_output)) \n",
    "# assemble required parameters into an array\n",
    "m_neomod3_params = np.c_[m_neomod3_as, m_neomod3_es, m_neomod3_is, m_neomod3_peris, m_neomod3_Omegas, m_neomod3_sizes * 1000.]  # convert sizes to m"
   ]
  },
  {
   "cell_type": "markdown",
   "id": "d66543f6-7ac2-4dc1-8796-3fe0090ac30c",
   "metadata": {},
   "source": [
    "Load rebound simulations:"
   ]
  },
  {
   "cell_type": "code",
   "execution_count": 85,
   "id": "c0ca253f-fc94-42c6-8aa6-54b700b74672",
   "metadata": {},
   "outputs": [
    {
     "data": {
      "text/plain": [
       "(5435, 6)"
      ]
     },
     "execution_count": 85,
     "metadata": {},
     "output_type": "execute_result"
    }
   ],
   "source": [
    "archive_sim = rb.Simulation(\"rebound_archive_walltime.bin\", snapshot=-1)  # periodically load the last snapshot to see if things are getting removed\n",
    "# should be number of asteroids plus 9 to start\n",
    "len(m_neomod3_params) + 9, archive_sim.N_active"
   ]
  },
  {
   "cell_type": "code",
   "execution_count": 86,
   "id": "a5324f32-430a-4ce7-a3d0-da282487007a",
   "metadata": {},
   "outputs": [],
   "source": [
    "sun, mercury, venus, earth, mars, jupiter = archive_sim.particles[0:6]"
   ]
  },
  {
   "cell_type": "code",
   "execution_count": 89,
   "id": "2b977df8-e872-4df4-95d6-77b5d39e9a6a",
   "metadata": {},
   "outputs": [
    {
     "data": {
      "text/plain": [
       "5.0"
      ]
     },
     "execution_count": 89,
     "metadata": {},
     "output_type": "execute_result"
    }
   ],
   "source": [
    "archive_sim.ri_trace.r_crit_hill"
   ]
  },
  {
   "cell_type": "markdown",
   "id": "0bb783ec-97ad-47bd-8fcd-6aa0dcd1fb72",
   "metadata": {
    "jp-MarkdownHeadingCollapsed": true
   },
   "source": [
    "### Testing:"
   ]
  },
  {
   "cell_type": "markdown",
   "id": "b9c91a51-e00f-48c9-8a7d-c1b0290b9ed0",
   "metadata": {},
   "source": [
    "Now assume each filtered object's argument of pericenter is aligned in such a way that it collides with Earth, and compute the Cartesian velocity vectors of the object and the Earth at the intersection of their orbit: "
   ]
  },
  {
   "cell_type": "markdown",
   "id": "882e3b19-5ce2-49a7-be89-6059411f0f84",
   "metadata": {},
   "source": [
    "Add all of them to a REBOUND simulation and record positions/velocities every time there's a collision:"
   ]
  },
  {
   "cell_type": "code",
   "execution_count": null,
   "id": "84d553f4-95d7-464d-a66a-c68f12728b02",
   "metadata": {},
   "outputs": [],
   "source": [
    "# initialize arrays to record cartesian positions and velocities at impact\n",
    "earth_cart_positions = np.array((len(m_neomod3_output), 3))  # 3 cartesian positions/vels\n",
    "earth_cart_vels = np.array((len(m_neomod3_output), 3))\n",
    "ast_cart_positions = np.array((len(m_neomod3_output), 3))  # 3 cartesian positions/vels\n",
    "ast_cart_vels = np.array((len(m_neomod3_output), 3))\n",
    "\n",
    "def my_merge(sim_pointer, collided_particles_index):\n",
    "    sim = sim_pointer.contents # retreive the standard simulation object\n",
    "    ps = sim.particles # easy access to list of particles\n",
    "    i = collided_particles_index.p1   # Note that p1 < p2 is not guaranteed.    \n",
    "    j = collided_particles_index.p2\n",
    "    # record positions and velocities and remove\n",
    "    print(i, j)\n",
    "    if i == 1:  # if i is the earth\n",
    "        earth = ps[i]\n",
    "        ast = ps[j]\n",
    "        earth_cart_positions[i] = earth.xyz\n",
    "        earth_cart_vels[i] = earth.vxyz\n",
    "        ast_cart_positions[i] = ast.xyz\n",
    "        ast_cart_vels[i] = ast.vxyz\n",
    "        return 2  # remove particles with index j\n",
    "    elif j == 1:  # if j is the earth\n",
    "        earth = ps[j]\n",
    "        ast = ps[i]\n",
    "        earth_cart_positions[i] = earth.xyz\n",
    "        earth_cart_vels[i] = earth.vxyz\n",
    "        ast_cart_positions[i] = ast.xyz\n",
    "        ast_cart_vels[i] = ast.vxyz\n",
    "        return 1  # remove particles with index i\n",
    "    else:  # if neither is the earth, continue simulation\n",
    "        return 0  # continue simulation\n",
    "\n",
    "# constant bulk density\n",
    "rho = 1500.\n",
    "\n",
    "# initialize simulation\n",
    "sim = rb.Simulation()\n",
    "sim.integrator = 'whfast'  # whfast since this is basically a restricted 3bp so hamiltonian is fast\n",
    "sim.units = ('AU', 'kg', 'yr')  # units of distance, mass, time\n",
    "sim.collision = 'line'\n",
    "sim.collision_resolve = my_merge\n",
    "sim.collision_resolve_keep_sorted = 1\n",
    "sim.dt = 1./20. * 1.0  # 1/20 of a year for whfast timestep\n",
    "sim.t = 0.  # reset to 0\n",
    "# Add Sun and Earth\n",
    "sim.add(m = 1.988e30, r = 0.00465)  # Sun\n",
    "sim.add(m = 5.97e24, a = 1.0, e = 0.01671123, inc = 9.e-7, omega = 1.9933, Omega = -0.1965352, r=4.258756e-5)  # Earth, angles in radians\n",
    "sim.N_active = sim.N  # 2 active particles\n",
    "# define earth\n",
    "earth = sim.particles[1]\n",
    "# asteroids are test particles\n",
    "sim.testparticle_type = 1\n",
    "# add all the asteroids as non active particles so they don't take up so much processing power\n",
    "for params in m_neomod3_params:\n",
    "    a_a, e_a, i_a_deg, omega_a_deg, Omega_a_deg, size_a = params\n",
    "    i_a, omega_a, Omega_a = map(np.radians, [i_a_deg, omega_a_deg, Omega_a_deg])  # convert to radians\n",
    "    m_a = 4. * rho * (size_a/2.) ** 3  # assume bulk density of rho, size is in meters so this is units of kg\n",
    "    sim.add(m = m_a, a = a_a, e = e_a, omega = omega_a, inc = i_a, Omega = Omega_a, r=(size_a * 6.685e-12)) \n",
    "# move to com\n",
    "sim.move_to_com()\n",
    "\n",
    "# integrate until there is a collision and keep recording positions and velocities\n",
    "sim.integrate(1.e10, exact_finish_time=0)  # arbitrarily large number, 0 for symplectic integrator\n",
    "# print the total number of particles remaining that haven't collided with the earth (should be quite small?)\n",
    "print(sim.N)\n",
    "\n",
    "# save\n",
    "np.save('earth_cart_positions', earth_cart_positions)\n",
    "np.save('earth_cart_vels', earth_cart_vels)\n",
    "np.save('ast_cart_positions', ast_cart_positions)\n",
    "np.save('ast_cart_vels', ast_cart_vels)"
   ]
  },
  {
   "cell_type": "markdown",
   "id": "a39d3e0f-1da1-479c-8e8a-26216348815d",
   "metadata": {},
   "source": [
    "Test the rebound integration to make sure it's working"
   ]
  },
  {
   "cell_type": "code",
   "execution_count": null,
   "id": "0471e42a-5ba5-40fd-899d-a1e2bd1e69ee",
   "metadata": {},
   "outputs": [],
   "source": [
    "a0 = 1.  # semi-major axis of earth in au\n",
    "m_earth = 5.97e24  # mass of earth in kg\n",
    "R = 4.259e-5  # radius of earth in au\n",
    "M_sun = 1.988e30  # mass of sun in kg\n",
    "e0 = 0.01671123  # eccentricitiy of earth\n",
    "\n",
    "a_a = 2  # Asteroid's semi-major axis (AU)\n",
    "e_a = 0.6  # Asteroid's eccentricity\n",
    "# all in radians\n",
    "i_a, omega_a, Omega_a = map(np.radians, [10., 117.81813928, 75.])  # inclination, pericenter arg, long. of ascending node\n",
    "size_a = 10./1000.\n",
    "m_a = 4. * rho * (size_a * 1000./2.) ** 3  # 10m asteroid\n",
    "\n",
    "earth_cart_positions = np.array((len(m_neomod3_output), 3))  # 3 cartesian positions/vels\n",
    "earth_cart_vels = np.array((len(m_neomod3_output), 3))\n",
    "ast_cart_positions = np.array((len(m_neomod3_output), 3))  # 3 cartesian positions/vels\n",
    "ast_cart_vels = np.array((len(m_neomod3_output), 3))\n",
    "\n",
    "sim = rb.Simulation()\n",
    "sim.integrator = 'trace'\n",
    "sim.units = ('AU', 'kg', 'yr')\n",
    "sim.collision = 'line'\n",
    "sim.t = 0.\n",
    "# Add Sun and Earth\n",
    "sim.add(m = M, r=0.00465)  # Sun\n",
    "sim.add(m = m, a = 1.0, e = 0.01671123, inc = 9.e-7, omega = 1.9933, Omega = -0.1965352, r=4.258756e-5)  # Earth, angles in radians\n",
    "sim.N_active = sim.N  # 2 active particles\n",
    "# add asteroid\n",
    "sim.add(m = m_a, a = a_a, e = e_a, omega = omega_a, inc = i_a, Omega = Omega_a, r=6.685e-11)\n",
    "# define earth and asteroid\n",
    "earth = sim.particles[1]\n",
    "obj = sim.particles[2]\n",
    "\n",
    "try:\n",
    "    sim.integrate(1.e10)\n",
    "except rb.Collision:\n",
    "    earth_cart_positions[i] = earth.xyz\n",
    "    earth_cart_vels[i] = earth.vxyz\n",
    "    ast_cart_positions[i] = obj.xyz\n",
    "    ast_cart_vels[i] = obj.vxyz\n",
    "    pass\n",
    "\n",
    "# for i, t in tqdm(enumerate(times)):\n",
    "#     sim.integrate(t, exact_finish_time = 1)"
   ]
  },
  {
   "cell_type": "markdown",
   "id": "2b6c1927-95ed-4333-8d06-faeac09992d6",
   "metadata": {},
   "source": [
    "#### Alternate approach:"
   ]
  },
  {
   "cell_type": "markdown",
   "id": "b130079f-6cf1-41e7-a02f-1e571e6be1f0",
   "metadata": {},
   "source": [
    "Define a function to perform the integrations and multiprocess:"
   ]
  },
  {
   "cell_type": "code",
   "execution_count": null,
   "id": "299e5358-9249-4f57-a8de-3141114de04a",
   "metadata": {},
   "outputs": [],
   "source": [
    "def sim_until_col(params, rho=1500.):\n",
    "    \"\"\"\n",
    "    Simulate until reaching collision\n",
    "\n",
    "    params is tuple of (a_a, e_a, i_a, omega_a, Omega_a, size_a)\n",
    "    a_a in units of AU\n",
    "    e_a is dimensionless\n",
    "    i_a in units of degrees\n",
    "    omega_a in units of degrees\n",
    "    Omega_a in units of degrees\n",
    "    size_a in units of m\n",
    "    \"\"\"\n",
    "    # unpack parameters\n",
    "    a_a, e_a, i_a_deg, omega_a_deg, Omega_a_deg, size_a = params\n",
    "    i_a, omega_a, Omega_a = map(np.radians, [i_a_deg, omega_a_deg, Omega_a_deg])  # convert to radians\n",
    "    m_a = 4. * rho * (size_a/2.) ** 3  # assume bulk density of rho, size is in meters so this is units of kg\n",
    "    \n",
    "    sim = rb.Simulation()\n",
    "    sim.integrator = 'whfast'  # whfast since this is basically a restricted 3bp so hamiltonian is fast\n",
    "    sim.units = ('AU', 'kg', 'yr')\n",
    "    sim.collision = 'line'\n",
    "    sim.dt = 1./20. * 1.0  # 1/20 of a year for whfast timestep\n",
    "    sim.t = 0.  # reset to 0\n",
    "    # Add Sun and Earth\n",
    "    sim.add(m = 1.988e30, r= 0.00465)  # Sun\n",
    "    sim.add(m = 5.97e24, a = 1.0, e = 0.01671123, inc = 9.e-7, omega = 1.9933, Omega = -0.1965352, r=4.258756e-5)  # Earth, angles in radians\n",
    "    sim.N_active = sim.N  # 2 active particles\n",
    "    # add asteroid\n",
    "    sim.add(m = m_a, a = a_a, e = e_a, omega = omega_a, inc = i_a, Omega = Omega_a, r=(size_a * 6.685e-12))  # convert from meters to AU for size\n",
    "    # define earth and asteroid\n",
    "    earth = sim.particles[1]\n",
    "    obj = sim.particles[2]\n",
    "    # integrate until there is a collision and then record positions and velocities\n",
    "    try:\n",
    "        sim.integrate(1.e13)  # arbitrarily large number\n",
    "    except rb.Collision:\n",
    "        pass\n",
    "    # return earth and object positions and velocities\n",
    "    return earth.xyz, earth.vxyz, obj.xyz, obj.vxyz\n",
    "\n",
    "# perform integrations\n",
    "pool = multiprocessing.Pool()\n",
    "cols = np.array(list(tqdm(pool.imap(sim_until_col, m_neomod3_params), total = len(m_neomod3_params))))\n",
    "pool.close()\n",
    "pool.join()"
   ]
  },
  {
   "cell_type": "markdown",
   "id": "9f6297fc-8846-4d5a-b7fd-63299f16ddb7",
   "metadata": {},
   "source": [
    "Constants and data:"
   ]
  },
  {
   "cell_type": "code",
   "execution_count": 10,
   "id": "df8503b8-150d-467b-b37c-9a9b1fbe9ed1",
   "metadata": {},
   "outputs": [],
   "source": [
    "from kep2cart import orbital_elements_to_cart_helio  # import this using code from Paul's course\n",
    "\n",
    "# Solve for the true anomaly of the asteroid at intersection\n",
    "def true_anomaly_asteroid(a_a, e_a):\n",
    "    cos_nu_a = (a_a * (1 - e_a**2) - 1) / e_a\n",
    "    if abs(cos_nu_a) > 1:\n",
    "        raise ValueError(\"No real intersection: the asteroid does not reach the planet's radius.\")\n",
    "    nu_a1 = np.arccos(cos_nu_a)  # First solution\n",
    "    nu_a2 = -nu_a1  # Second solution\n",
    "    return nu_a1, nu_a2\n",
    "\n",
    "# code to compute true anomaly as intersection point\n",
    "def compute_intersection_for_circular_planet(a_a, e_a, i_a, omega_a, Omega_a):\n",
    "    # Convert angles from degrees to radians\n",
    "    omega_a, Omega_a = map(np.radians, [omega_a, Omega_a])\n",
    "\n",
    "    # Compute the asteroid's true anomalies at intersection\n",
    "    nu_a1, nu_a2 = true_anomaly_asteroid(a_a, e_a)\n",
    "\n",
    "    # Compute the planet's true anomalies at the same positions\n",
    "    nu_p1 = (Omega_a + nu_a1 - omega_a) % (2 * np.pi)\n",
    "    nu_p2 = (Omega_a + nu_a2 - omega_a) % (2 * np.pi)\n",
    "\n",
    "    # Keep as radians for output\n",
    "    return nu_p1, nu_p2, nu_a1, nu_a2"
   ]
  },
  {
   "cell_type": "markdown",
   "id": "c8738eed-634e-4981-9c3f-1275b8957af7",
   "metadata": {},
   "source": [
    "Use a random test case to make sure everything works:"
   ]
  },
  {
   "cell_type": "code",
   "execution_count": 18,
   "id": "591c1c46-9f26-44b6-a2f8-88424a01ded5",
   "metadata": {},
   "outputs": [
    {
     "data": {
      "text/plain": [
       "3.138361873206153e-07"
      ]
     },
     "execution_count": 18,
     "metadata": {},
     "output_type": "execute_result"
    }
   ],
   "source": [
    "get_opik_annual_P_packed([a_a, e_a, i_a])"
   ]
  },
  {
   "cell_type": "code",
   "execution_count": 15,
   "id": "a4ccb962-29a9-4e0c-81e6-2f68af96e525",
   "metadata": {},
   "outputs": [
    {
     "data": {
      "text/plain": [
       "(([-0.24968659179467903, -0.9611071342443482, 0.11802407543621646],\n",
       "  [1.9202174428472435e-07, -1.4920943682579284e-07, -1.7667848878165843e-08]),\n",
       " ([0.4781624414774696, 0.8782714156570879, 0.0],\n",
       "  [-1.7484460893955288e-07, 9.519167264160673e-08, 0.0]))"
      ]
     },
     "execution_count": 15,
     "metadata": {},
     "output_type": "execute_result"
    }
   ],
   "source": [
    "# Updated example inputs for the asteroid\n",
    "a_a = 2  # Asteroid's semi-major axis (AU)\n",
    "e_a = 0.6  # Asteroid's eccentricity\n",
    "# all in radians\n",
    "i_a, omega_a, Omega_a = map(np.radians, [10., 117.81813928, 75.])  # inclination, pericenter arg, long. of ascending node\n",
    "\n",
    "size_a = 10./1000.\n",
    "m_a = 4. * rho * (size_a * 1000./2.) ** 3  # 10m asteroid\n",
    "G = 1.99356e-44  # units of kg^-1 AU^3 s^-2\n",
    "\n",
    "# Compute true anomalies for planet (p) and asteroid (a)\n",
    "# all in radians\n",
    "nu_p1, nu_p2, nu_a1, nu_a2 = compute_intersection_for_circular_planet(a_a, e_a, i_a, omega_a, Omega_a)\n",
    "\n",
    "mu_a = G * (M + m_a)  # units of AU^3 s^-2\n",
    "mu_p = G * (M + m)  # same units\n",
    "\n",
    "cart_a = orbital_elements_to_cart_helio(mu_a, a_a, e_a, i_a, omega_a, Omega_a, nu_a1)\n",
    "cart_p = orbital_elements_to_cart_helio(mu_p, 1., 0., 0., 0., 0., nu_p1)\n",
    "\n",
    "cart_a, cart_p"
   ]
  },
  {
   "cell_type": "markdown",
   "id": "8b58702e-7d44-4645-ae86-171f4fe2df43",
   "metadata": {},
   "source": [
    "**TODO: THIS DOESN'T WORK FIGURE OUT WHY!**"
   ]
  },
  {
   "cell_type": "markdown",
   "id": "8d8a46df-9b3e-471e-85ef-17f98c0864a1",
   "metadata": {},
   "source": [
    "NEOMOD3 impact energies computed using the actual (simulated) velocity at time of impact rather than a fixed 20 km/s"
   ]
  }
 ],
 "metadata": {
  "kernelspec": {
   "display_name": "Python 3 (ipykernel)",
   "language": "python",
   "name": "python3"
  },
  "language_info": {
   "codemirror_mode": {
    "name": "ipython",
    "version": 3
   },
   "file_extension": ".py",
   "mimetype": "text/x-python",
   "name": "python",
   "nbconvert_exporter": "python",
   "pygments_lexer": "ipython3",
   "version": "3.10.15"
  }
 },
 "nbformat": 4,
 "nbformat_minor": 5
}
