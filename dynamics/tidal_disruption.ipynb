{
 "cells": [
  {
   "cell_type": "code",
   "execution_count": 1,
   "id": "2acff0a0-25b7-44f5-97c9-70353fe3f971",
   "metadata": {},
   "outputs": [],
   "source": [
    "from tqdm import tqdm\n",
    "import numpy as np\n",
    "import pandas as pd\n",
    "import scipy\n",
    "import matplotlib.pyplot as plt\n",
    "import matplotlib.ticker as ticker\n",
    "import seaborn as sns\n",
    "from sklearn.neighbors import KernelDensity  # kernel density estimation\n",
    "from mpmath import jtheta  # jacobi elliptic theta function"
   ]
  },
  {
   "cell_type": "markdown",
   "id": "c6b94157-0cc0-4149-9032-be3636f8446e",
   "metadata": {},
   "source": [
    "Import list of all minor planet discoveries from MPC and list of all NEOs with $17 < H < 25$ from the NASA SBDB, using the same data set as Granvik 2016, 2017, 2018:"
   ]
  },
  {
   "cell_type": "code",
   "execution_count": 2,
   "id": "f2a87eda-f10e-47f1-b829-0d3adfb6f9cf",
   "metadata": {},
   "outputs": [],
   "source": [
    "# list of minor planet discoveries from the MPC\n",
    "discovery_data = pd.read_json('numberedmps.json').T\n",
    "# list of all NEOs with 17 < H < 25 from NASA SBDB:\n",
    "all_neos = pd.read_csv('all_17_25_neos.csv')"
   ]
  },
  {
   "cell_type": "markdown",
   "id": "8b6ed253-9c7c-42d9-95d3-1c2f2c5c5436",
   "metadata": {},
   "source": [
    "Filtering list of minor planet discoveries to only consider discoveries made by CSS between $2005$ and $2012$:"
   ]
  },
  {
   "cell_type": "code",
   "execution_count": 3,
   "id": "1059633d-dc89-4e0a-8d11-d45eb504ba97",
   "metadata": {},
   "outputs": [
    {
     "name": "stderr",
     "output_type": "stream",
     "text": [
      "/tmp/ipykernel_234387/4109132552.py:5: SettingWithCopyWarning: \n",
      "A value is trying to be set on a copy of a slice from a DataFrame.\n",
      "Try using .loc[row_indexer,col_indexer] = value instead\n",
      "\n",
      "See the caveats in the documentation: https://pandas.pydata.org/pandas-docs/stable/user_guide/indexing.html#returning-a-view-versus-a-copy\n",
      "  css_discoveries['mp_number'] = css_discoveries.index.astype(str)\n"
     ]
    }
   ],
   "source": [
    "# Discoverers are 'CSS' or 'Catalina Sky Survey' and discovery date is between January 1, 2005 and December 31, 2012\n",
    "css_discoveries = discovery_data[((discovery_data.Discoverers == 'CSS') | (discovery_data.Discoverers == 'Catalina Sky Survey')) \n",
    "& ('2005-01-01' < discovery_data.Discovery_date) & (discovery_data.Discovery_date < '2012-12-31')]\n",
    "# reset index since it's actually the minor planet number\n",
    "css_discoveries['mp_number'] = css_discoveries.index.astype(str)\n",
    "css_discoveries.reset_index(drop=True, inplace=True)\n",
    "# convert Name from nan to empty string\n",
    "css_discoveries = css_discoveries.fillna('')\n",
    "# make full name column by combining the number, name (if it has one) and principal designation\n",
    "css_discoveries['full_name'] = css_discoveries.mp_number + css_discoveries.Name + ' (' + css_discoveries.Principal_desig + ')'"
   ]
  },
  {
   "cell_type": "code",
   "execution_count": 4,
   "id": "86ebee55-a119-4989-8666-ed5b420c4045",
   "metadata": {},
   "outputs": [
    {
     "data": {
      "text/plain": [
       "('2005-01-06', '2012-12-21')"
      ]
     },
     "execution_count": 4,
     "metadata": {},
     "output_type": "execute_result"
    }
   ],
   "source": [
    "np.min(css_discoveries.Discovery_date), np.max(css_discoveries.Discovery_date)"
   ]
  },
  {
   "cell_type": "markdown",
   "id": "4aae48c6-7369-496e-af7a-8bc6e5baae05",
   "metadata": {},
   "source": [
    "Now filtering list of NEOs with $17 < H < 25$ to only include the ones discovered by CSS, and getting their $q$ values:"
   ]
  },
  {
   "cell_type": "code",
   "execution_count": 5,
   "id": "12cff9f6-42a6-4cbb-a283-6d1b112c252c",
   "metadata": {},
   "outputs": [],
   "source": [
    "# all NEOs discovered by CSS:\n",
    "css_neos = all_neos[all_neos.full_name.isin(css_discoveries.full_name)]\n",
    "# css_neos[css_neos.full_name == '(2006 JY26)']\n",
    "css_qs = css_neos.q"
   ]
  },
  {
   "cell_type": "markdown",
   "id": "1498fc8a-3018-4bdf-921b-d7cf23c6d8da",
   "metadata": {},
   "source": [
    "Importing the Monte Carlo cloned impactors and computing their $q$ (perihelion distance) values from $a$ and $e$:"
   ]
  },
  {
   "cell_type": "markdown",
   "id": "b6c63a6f-5354-486f-853f-e2ce91d2e0f0",
   "metadata": {},
   "source": [
    "$q = a\\left(1 - e\\right)$"
   ]
  },
  {
   "cell_type": "code",
   "execution_count": 6,
   "id": "82b6911e-5f3f-4768-b470-aed833cedae2",
   "metadata": {},
   "outputs": [],
   "source": [
    "orb_param_array_all_events = np.load('orb_params_all_events_mc.npy')  # get the orbital parameters\n",
    "orb_param_variables = ['a', 'e', 'i', 'peri', 'node', 'M']  \n",
    "\n",
    "# get orbital param variables from the numpy file\n",
    "a, e, i, peri, node, M = orb_param_array_all_events.T\n",
    "# compute q from q = a * (1. - e)\n",
    "impactor_qs = (a * (1. - e)).reshape(-1)"
   ]
  },
  {
   "cell_type": "markdown",
   "id": "eeedce28-4369-4913-8d10-9a675a02c2a8",
   "metadata": {},
   "source": [
    "Plotting normalized histograms for the $q$ values of the cloned impactors and the CSS NEOs:"
   ]
  },
  {
   "cell_type": "code",
   "execution_count": 7,
   "id": "423bbdb6-3d93-45fb-9162-c1c8ff908736",
   "metadata": {},
   "outputs": [
    {
     "data": {
      "text/plain": [
       "<matplotlib.legend.Legend at 0x7fa015b63e20>"
      ]
     },
     "execution_count": 7,
     "metadata": {},
     "output_type": "execute_result"
    },
    {
     "data": {
      "image/png": "[encoded data removed]",
      "text/plain": [
       "<Figure size 1200x800 with 1 Axes>"
      ]
     },
     "metadata": {},
     "output_type": "display_data"
    }
   ],
   "source": [
    "# semi major axes of earth and venus\n",
    "a_earth = 1.\n",
    "a_venus = 0.72333199\n",
    "\n",
    "plt.figure(figsize = (12, 8))\n",
    "plt.hist(impactor_qs, bins='auto', color = 'orange', label = 'Impactor', density=True, alpha=0.9)\n",
    "plt.hist(css_qs, bins='auto', color='dodgerblue', label = 'CSS', density=True, alpha=0.7)\n",
    "plt.axvline(a_earth, color = 'k')\n",
    "plt.axvline(a_venus, color = 'k')\n",
    "plt.xlim(left=0., right=1.3)\n",
    "plt.legend()"
   ]
  },
  {
   "cell_type": "markdown",
   "id": "cbe1b085-87a2-40bf-8f42-d2b859f7b732",
   "metadata": {},
   "source": [
    "Compare using a K-S test and find the $p$-value:"
   ]
  },
  {
   "cell_type": "code",
   "execution_count": 8,
   "id": "d38cebad-bea6-4884-9968-462f37f61616",
   "metadata": {},
   "outputs": [
    {
     "data": {
      "text/plain": [
       "3.194889573917717e-34"
      ]
     },
     "execution_count": 8,
     "metadata": {},
     "output_type": "execute_result"
    }
   ],
   "source": [
    "import scipy.stats\n",
    "scipy.stats.ks_2samp(impactor_qs, css_qs).pvalue"
   ]
  },
  {
   "cell_type": "markdown",
   "id": "a74e76d1-85fb-4b7c-bc13-b3425360ab05",
   "metadata": {},
   "source": [
    "Impactors do not appear to show the same bias as the CSS objects..."
   ]
  }
 ],
 "metadata": {
  "kernelspec": {
   "display_name": "Python 3 (ipykernel)",
   "language": "python",
   "name": "python3"
  },
  "language_info": {
   "codemirror_mode": {
    "name": "ipython",
    "version": 3
   },
   "file_extension": ".py",
   "mimetype": "text/x-python",
   "name": "python",
   "nbconvert_exporter": "python",
   "pygments_lexer": "ipython3",
   "version": "3.10.12"
  }
 },
 "nbformat": 4,
 "nbformat_minor": 5
}
