{
 "cells": [
  {
   "cell_type": "code",
   "execution_count": 1,
   "id": "2acff0a0-25b7-44f5-97c9-70353fe3f971",
   "metadata": {},
   "outputs": [],
   "source": [
    "from tqdm import tqdm\n",
    "import numpy as np\n",
    "import pandas as pd\n",
    "import scipy\n",
    "import matplotlib.pyplot as plt\n",
    "import matplotlib.ticker as ticker\n",
    "import seaborn as sns\n",
    "from sklearn.neighbors import KernelDensity  # kernel density estimation\n",
    "from mpmath import jtheta  # jacobi elliptic theta function"
   ]
  },
  {
   "cell_type": "markdown",
   "id": "c6b94157-0cc0-4149-9032-be3636f8446e",
   "metadata": {},
   "source": [
    "Import list of all minor planet discoveries from MPC and list of all minor planets from the MPC `MPCORB.DAT` file, using the same data set as Granvik 2016, 2017, 2018:"
   ]
  },
  {
   "cell_type": "code",
   "execution_count": 2,
   "id": "f2a87eda-f10e-47f1-b829-0d3adfb6f9cf",
   "metadata": {},
   "outputs": [],
   "source": [
    "# list of minor planet discoveries from the MPC\n",
    "discovery_data = pd.read_json('numberedmps.json').T\n",
    "# list of all minor planets from the MPC:\n",
    "all_mps = pd.read_json('mpcorb_extended.json')\n",
    "\n",
    "# all_neos = pd.read_csv('all_17_25_neos.csv')"
   ]
  },
  {
   "cell_type": "markdown",
   "id": "8b6ed253-9c7c-42d9-95d3-1c2f2c5c5436",
   "metadata": {},
   "source": [
    "Filtering list of minor planet discoveries to only consider discoveries made by CSS between $2005$ and $2012$:"
   ]
  },
  {
   "cell_type": "code",
   "execution_count": 3,
   "id": "1059633d-dc89-4e0a-8d11-d45eb504ba97",
   "metadata": {},
   "outputs": [
    {
     "name": "stderr",
     "output_type": "stream",
     "text": [
      "/tmp/ipykernel_31782/1264834492.py:5: SettingWithCopyWarning: \n",
      "A value is trying to be set on a copy of a slice from a DataFrame.\n",
      "Try using .loc[row_indexer,col_indexer] = value instead\n",
      "\n",
      "See the caveats in the documentation: https://pandas.pydata.org/pandas-docs/stable/user_guide/indexing.html#returning-a-view-versus-a-copy\n",
      "  css_discoveries['mp_number'] = css_discoveries.index.astype(str)\n"
     ]
    }
   ],
   "source": [
    "# Discoverers are 'CSS' or 'Catalina Sky Survey' and discovery date is between January 1, 2005 and December 31, 2012\n",
    "css_discoveries = discovery_data[((discovery_data.Discoverers == 'CSS') | (discovery_data.Discoverers == 'Catalina Sky Survey')) \n",
    "& ('2005-01-01' < discovery_data.Discovery_date) & (discovery_data.Discovery_date < '2012-12-31')]\n",
    "# reset index since it's actually the minor planet number\n",
    "css_discoveries['mp_number'] = css_discoveries.index.astype(str)\n",
    "css_discoveries.reset_index(drop=True, inplace=True)\n",
    "# convert Name from nan to empty string\n",
    "css_discoveries = css_discoveries.fillna('')\n",
    "# make full name column by combining the number, name (if it has one) and principal designation\n",
    "css_discoveries['full_name'] = css_discoveries.mp_number + css_discoveries.Name + ' (' + css_discoveries.Principal_desig + ')'\n",
    "css_discoveries['mp_number'] = '(' + css_discoveries.mp_number + ')'"
   ]
  },
  {
   "cell_type": "code",
   "execution_count": 4,
   "id": "86ebee55-a119-4989-8666-ed5b420c4045",
   "metadata": {},
   "outputs": [
    {
     "data": {
      "text/plain": [
       "('2005-01-06', '2012-12-21')"
      ]
     },
     "execution_count": 4,
     "metadata": {},
     "output_type": "execute_result"
    }
   ],
   "source": [
    "np.min(css_discoveries.Discovery_date), np.max(css_discoveries.Discovery_date)"
   ]
  },
  {
   "cell_type": "markdown",
   "id": "cd6ca7c3-2e5a-4dde-b48b-7769fb2ce0b8",
   "metadata": {},
   "source": [
    "Now filter list of minor planets to only include the ones discovered by CSS and be NEOs ($q < 1.3$ AU):"
   ]
  },
  {
   "cell_type": "code",
   "execution_count": 5,
   "id": "140b229b-04ff-4e33-a340-170b30e51c94",
   "metadata": {},
   "outputs": [],
   "source": [
    "all_mps['q'] = (all_mps.a * (1. - all_mps.e))\n",
    "# filter for NEOs\n",
    "all_neos = all_mps[all_mps.q < 1.3]\n",
    "# filter for CSS neos\n",
    "css_neos = all_neos[all_neos.Number.isin(css_discoveries.mp_number)]"
   ]
  },
  {
   "cell_type": "markdown",
   "id": "4aae48c6-7369-496e-af7a-8bc6e5baae05",
   "metadata": {},
   "source": [
    "Now filter list of NEOs to only include ones with $17 < H < 25$ and get their $q$s:"
   ]
  },
  {
   "cell_type": "code",
   "execution_count": 6,
   "id": "1866d287-bb13-407b-aae6-70caa2b147e9",
   "metadata": {},
   "outputs": [],
   "source": [
    "# filter for 17 < H < 25:\n",
    "mag_limited_neos = css_neos[(17. < css_neos.H) & (css_neos.H < 25.)]\n",
    "mag_limited_qs = mag_limited_neos.q"
   ]
  },
  {
   "cell_type": "code",
   "execution_count": 7,
   "id": "9170017b-043c-4b69-a652-13fbf9e9c20c",
   "metadata": {},
   "outputs": [
    {
     "data": {
      "text/html": [
       "<div>\n",
       "<style scoped>\n",
       "    .dataframe tbody tr th:only-of-type {\n",
       "        vertical-align: middle;\n",
       "    }\n",
       "\n",
       "    .dataframe tbody tr th {\n",
       "        vertical-align: top;\n",
       "    }\n",
       "\n",
       "    .dataframe thead th {\n",
       "        text-align: right;\n",
       "    }\n",
       "</style>\n",
       "<table border=\"1\" class=\"dataframe\">\n",
       "  <thead>\n",
       "    <tr style=\"text-align: right;\">\n",
       "      <th></th>\n",
       "      <th>Critical_list_numbered_object_flag</th>\n",
       "      <th>H</th>\n",
       "      <th>G</th>\n",
       "      <th>Num_obs</th>\n",
       "      <th>rms</th>\n",
       "      <th>U</th>\n",
       "      <th>Arc_years</th>\n",
       "      <th>Perturbers</th>\n",
       "      <th>Perturbers_2</th>\n",
       "      <th>Number</th>\n",
       "      <th>...</th>\n",
       "      <th>Aphelion_dist</th>\n",
       "      <th>Semilatus_rectum</th>\n",
       "      <th>Synodic_period</th>\n",
       "      <th>Orbit_type</th>\n",
       "      <th>NEO_flag</th>\n",
       "      <th>One_km_NEO_flag</th>\n",
       "      <th>PHA_flag</th>\n",
       "      <th>One_opposition_object_flag</th>\n",
       "      <th>Arc_length</th>\n",
       "      <th>q</th>\n",
       "    </tr>\n",
       "  </thead>\n",
       "  <tbody>\n",
       "    <tr>\n",
       "      <th>155109</th>\n",
       "      <td>NaN</td>\n",
       "      <td>17.49</td>\n",
       "      <td>0.15</td>\n",
       "      <td>866.0</td>\n",
       "      <td>0.63</td>\n",
       "      <td>0</td>\n",
       "      <td>1998-2022</td>\n",
       "      <td>M-v</td>\n",
       "      <td>3El</td>\n",
       "      <td>(155110)</td>\n",
       "      <td>...</td>\n",
       "      <td>1.701011</td>\n",
       "      <td>0.554138</td>\n",
       "      <td>3.399326</td>\n",
       "      <td>Apollo</td>\n",
       "      <td>1.0</td>\n",
       "      <td>1.0</td>\n",
       "      <td>NaN</td>\n",
       "      <td>NaN</td>\n",
       "      <td>NaN</td>\n",
       "      <td>0.821883</td>\n",
       "    </tr>\n",
       "    <tr>\n",
       "      <th>155139</th>\n",
       "      <td>NaN</td>\n",
       "      <td>17.47</td>\n",
       "      <td>0.15</td>\n",
       "      <td>902.0</td>\n",
       "      <td>0.52</td>\n",
       "      <td>0</td>\n",
       "      <td>1982-2024</td>\n",
       "      <td>M-v</td>\n",
       "      <td>3Ek</td>\n",
       "      <td>(155140)</td>\n",
       "      <td>...</td>\n",
       "      <td>2.386879</td>\n",
       "      <td>0.152041</td>\n",
       "      <td>3.277624</td>\n",
       "      <td>Apollo</td>\n",
       "      <td>1.0</td>\n",
       "      <td>1.0</td>\n",
       "      <td>NaN</td>\n",
       "      <td>NaN</td>\n",
       "      <td>NaN</td>\n",
       "      <td>0.162385</td>\n",
       "    </tr>\n",
       "    <tr>\n",
       "      <th>155337</th>\n",
       "      <td>NaN</td>\n",
       "      <td>20.40</td>\n",
       "      <td>0.15</td>\n",
       "      <td>126.0</td>\n",
       "      <td>0.69</td>\n",
       "      <td>1</td>\n",
       "      <td>2002-2007</td>\n",
       "      <td>M-v</td>\n",
       "      <td>3Ek</td>\n",
       "      <td>(155338)</td>\n",
       "      <td>...</td>\n",
       "      <td>2.326453</td>\n",
       "      <td>0.601886</td>\n",
       "      <td>2.035515</td>\n",
       "      <td>Apollo</td>\n",
       "      <td>1.0</td>\n",
       "      <td>NaN</td>\n",
       "      <td>1.0</td>\n",
       "      <td>NaN</td>\n",
       "      <td>NaN</td>\n",
       "      <td>0.811949</td>\n",
       "    </tr>\n",
       "    <tr>\n",
       "      <th>172973</th>\n",
       "      <td>NaN</td>\n",
       "      <td>19.42</td>\n",
       "      <td>0.15</td>\n",
       "      <td>194.0</td>\n",
       "      <td>0.70</td>\n",
       "      <td>0</td>\n",
       "      <td>2002-2019</td>\n",
       "      <td>M-v</td>\n",
       "      <td>3Ek</td>\n",
       "      <td>(172974)</td>\n",
       "      <td>...</td>\n",
       "      <td>2.040517</td>\n",
       "      <td>0.768668</td>\n",
       "      <td>1.913892</td>\n",
       "      <td>Amor</td>\n",
       "      <td>1.0</td>\n",
       "      <td>NaN</td>\n",
       "      <td>NaN</td>\n",
       "      <td>NaN</td>\n",
       "      <td>NaN</td>\n",
       "      <td>1.233228</td>\n",
       "    </tr>\n",
       "    <tr>\n",
       "      <th>212545</th>\n",
       "      <td>NaN</td>\n",
       "      <td>17.72</td>\n",
       "      <td>0.15</td>\n",
       "      <td>360.0</td>\n",
       "      <td>0.76</td>\n",
       "      <td>0</td>\n",
       "      <td>2003-2024</td>\n",
       "      <td>M-v</td>\n",
       "      <td>3Ek</td>\n",
       "      <td>(212546)</td>\n",
       "      <td>...</td>\n",
       "      <td>3.231145</td>\n",
       "      <td>0.783130</td>\n",
       "      <td>1.473061</td>\n",
       "      <td>Amor</td>\n",
       "      <td>1.0</td>\n",
       "      <td>1.0</td>\n",
       "      <td>1.0</td>\n",
       "      <td>NaN</td>\n",
       "      <td>NaN</td>\n",
       "      <td>1.033657</td>\n",
       "    </tr>\n",
       "    <tr>\n",
       "      <th>...</th>\n",
       "      <td>...</td>\n",
       "      <td>...</td>\n",
       "      <td>...</td>\n",
       "      <td>...</td>\n",
       "      <td>...</td>\n",
       "      <td>...</td>\n",
       "      <td>...</td>\n",
       "      <td>...</td>\n",
       "      <td>...</td>\n",
       "      <td>...</td>\n",
       "      <td>...</td>\n",
       "      <td>...</td>\n",
       "      <td>...</td>\n",
       "      <td>...</td>\n",
       "      <td>...</td>\n",
       "      <td>...</td>\n",
       "      <td>...</td>\n",
       "      <td>...</td>\n",
       "      <td>...</td>\n",
       "      <td>...</td>\n",
       "      <td>...</td>\n",
       "    </tr>\n",
       "    <tr>\n",
       "      <th>620069</th>\n",
       "      <td>NaN</td>\n",
       "      <td>18.62</td>\n",
       "      <td>0.15</td>\n",
       "      <td>569.0</td>\n",
       "      <td>0.72</td>\n",
       "      <td>0</td>\n",
       "      <td>2004-2018</td>\n",
       "      <td>M-v</td>\n",
       "      <td>3Ek</td>\n",
       "      <td>(620070)</td>\n",
       "      <td>...</td>\n",
       "      <td>3.546653</td>\n",
       "      <td>0.801738</td>\n",
       "      <td>1.405136</td>\n",
       "      <td>Amor</td>\n",
       "      <td>1.0</td>\n",
       "      <td>NaN</td>\n",
       "      <td>NaN</td>\n",
       "      <td>NaN</td>\n",
       "      <td>NaN</td>\n",
       "      <td>1.035911</td>\n",
       "    </tr>\n",
       "    <tr>\n",
       "      <th>620070</th>\n",
       "      <td>NaN</td>\n",
       "      <td>19.64</td>\n",
       "      <td>0.15</td>\n",
       "      <td>325.0</td>\n",
       "      <td>0.60</td>\n",
       "      <td>0</td>\n",
       "      <td>2011-2020</td>\n",
       "      <td>M-v</td>\n",
       "      <td>3Ek</td>\n",
       "      <td>(620071)</td>\n",
       "      <td>...</td>\n",
       "      <td>2.260772</td>\n",
       "      <td>0.160631</td>\n",
       "      <td>3.921331</td>\n",
       "      <td>Apollo</td>\n",
       "      <td>1.0</td>\n",
       "      <td>NaN</td>\n",
       "      <td>1.0</td>\n",
       "      <td>NaN</td>\n",
       "      <td>NaN</td>\n",
       "      <td>0.172917</td>\n",
       "    </tr>\n",
       "    <tr>\n",
       "      <th>625787</th>\n",
       "      <td>NaN</td>\n",
       "      <td>19.35</td>\n",
       "      <td>0.15</td>\n",
       "      <td>115.0</td>\n",
       "      <td>0.69</td>\n",
       "      <td>0</td>\n",
       "      <td>2006-2020</td>\n",
       "      <td>M-v</td>\n",
       "      <td>3Ek</td>\n",
       "      <td>(625788)</td>\n",
       "      <td>...</td>\n",
       "      <td>4.505407</td>\n",
       "      <td>0.841059</td>\n",
       "      <td>1.277040</td>\n",
       "      <td>Amor</td>\n",
       "      <td>1.0</td>\n",
       "      <td>NaN</td>\n",
       "      <td>NaN</td>\n",
       "      <td>NaN</td>\n",
       "      <td>NaN</td>\n",
       "      <td>1.034103</td>\n",
       "    </tr>\n",
       "    <tr>\n",
       "      <th>625990</th>\n",
       "      <td>NaN</td>\n",
       "      <td>21.41</td>\n",
       "      <td>0.15</td>\n",
       "      <td>108.0</td>\n",
       "      <td>0.83</td>\n",
       "      <td>0</td>\n",
       "      <td>2006-2023</td>\n",
       "      <td>M-v</td>\n",
       "      <td>3Ek</td>\n",
       "      <td>(625991)</td>\n",
       "      <td>...</td>\n",
       "      <td>1.267671</td>\n",
       "      <td>0.315688</td>\n",
       "      <td>3.452523</td>\n",
       "      <td>Aten</td>\n",
       "      <td>1.0</td>\n",
       "      <td>NaN</td>\n",
       "      <td>NaN</td>\n",
       "      <td>NaN</td>\n",
       "      <td>NaN</td>\n",
       "      <td>0.420373</td>\n",
       "    </tr>\n",
       "    <tr>\n",
       "      <th>627522</th>\n",
       "      <td>NaN</td>\n",
       "      <td>19.25</td>\n",
       "      <td>0.15</td>\n",
       "      <td>332.0</td>\n",
       "      <td>0.71</td>\n",
       "      <td>0</td>\n",
       "      <td>2008-2021</td>\n",
       "      <td>M-v</td>\n",
       "      <td>3Ek</td>\n",
       "      <td>(627523)</td>\n",
       "      <td>...</td>\n",
       "      <td>3.832807</td>\n",
       "      <td>0.945507</td>\n",
       "      <td>1.327055</td>\n",
       "      <td>Amor</td>\n",
       "      <td>1.0</td>\n",
       "      <td>NaN</td>\n",
       "      <td>NaN</td>\n",
       "      <td>NaN</td>\n",
       "      <td>NaN</td>\n",
       "      <td>1.255133</td>\n",
       "    </tr>\n",
       "  </tbody>\n",
       "</table>\n",
       "<p>259 rows × 39 columns</p>\n",
       "</div>"
      ],
      "text/plain": [
       "        Critical_list_numbered_object_flag      H     G  Num_obs   rms  U  \\\n",
       "155109                                 NaN  17.49  0.15    866.0  0.63  0   \n",
       "155139                                 NaN  17.47  0.15    902.0  0.52  0   \n",
       "155337                                 NaN  20.40  0.15    126.0  0.69  1   \n",
       "172973                                 NaN  19.42  0.15    194.0  0.70  0   \n",
       "212545                                 NaN  17.72  0.15    360.0  0.76  0   \n",
       "...                                    ...    ...   ...      ...   ... ..   \n",
       "620069                                 NaN  18.62  0.15    569.0  0.72  0   \n",
       "620070                                 NaN  19.64  0.15    325.0  0.60  0   \n",
       "625787                                 NaN  19.35  0.15    115.0  0.69  0   \n",
       "625990                                 NaN  21.41  0.15    108.0  0.83  0   \n",
       "627522                                 NaN  19.25  0.15    332.0  0.71  0   \n",
       "\n",
       "        Arc_years Perturbers Perturbers_2    Number  ... Aphelion_dist  \\\n",
       "155109  1998-2022        M-v          3El  (155110)  ...      1.701011   \n",
       "155139  1982-2024        M-v          3Ek  (155140)  ...      2.386879   \n",
       "155337  2002-2007        M-v          3Ek  (155338)  ...      2.326453   \n",
       "172973  2002-2019        M-v          3Ek  (172974)  ...      2.040517   \n",
       "212545  2003-2024        M-v          3Ek  (212546)  ...      3.231145   \n",
       "...           ...        ...          ...       ...  ...           ...   \n",
       "620069  2004-2018        M-v          3Ek  (620070)  ...      3.546653   \n",
       "620070  2011-2020        M-v          3Ek  (620071)  ...      2.260772   \n",
       "625787  2006-2020        M-v          3Ek  (625788)  ...      4.505407   \n",
       "625990  2006-2023        M-v          3Ek  (625991)  ...      1.267671   \n",
       "627522  2008-2021        M-v          3Ek  (627523)  ...      3.832807   \n",
       "\n",
       "       Semilatus_rectum Synodic_period  Orbit_type  NEO_flag  One_km_NEO_flag  \\\n",
       "155109         0.554138       3.399326      Apollo       1.0              1.0   \n",
       "155139         0.152041       3.277624      Apollo       1.0              1.0   \n",
       "155337         0.601886       2.035515      Apollo       1.0              NaN   \n",
       "172973         0.768668       1.913892        Amor       1.0              NaN   \n",
       "212545         0.783130       1.473061        Amor       1.0              1.0   \n",
       "...                 ...            ...         ...       ...              ...   \n",
       "620069         0.801738       1.405136        Amor       1.0              NaN   \n",
       "620070         0.160631       3.921331      Apollo       1.0              NaN   \n",
       "625787         0.841059       1.277040        Amor       1.0              NaN   \n",
       "625990         0.315688       3.452523        Aten       1.0              NaN   \n",
       "627522         0.945507       1.327055        Amor       1.0              NaN   \n",
       "\n",
       "        PHA_flag  One_opposition_object_flag  Arc_length         q  \n",
       "155109       NaN                         NaN         NaN  0.821883  \n",
       "155139       NaN                         NaN         NaN  0.162385  \n",
       "155337       1.0                         NaN         NaN  0.811949  \n",
       "172973       NaN                         NaN         NaN  1.233228  \n",
       "212545       1.0                         NaN         NaN  1.033657  \n",
       "...          ...                         ...         ...       ...  \n",
       "620069       NaN                         NaN         NaN  1.035911  \n",
       "620070       1.0                         NaN         NaN  0.172917  \n",
       "625787       NaN                         NaN         NaN  1.034103  \n",
       "625990       NaN                         NaN         NaN  0.420373  \n",
       "627522       NaN                         NaN         NaN  1.255133  \n",
       "\n",
       "[259 rows x 39 columns]"
      ]
     },
     "execution_count": 7,
     "metadata": {},
     "output_type": "execute_result"
    }
   ],
   "source": [
    "mag_limited_neos"
   ]
  },
  {
   "cell_type": "markdown",
   "id": "1498fc8a-3018-4bdf-921b-d7cf23c6d8da",
   "metadata": {},
   "source": [
    "Importing the Monte Carlo cloned impactors and computing their $q$ (perihelion distance) values from $a$ and $e$:"
   ]
  },
  {
   "cell_type": "markdown",
   "id": "b6c63a6f-5354-486f-853f-e2ce91d2e0f0",
   "metadata": {},
   "source": [
    "$q = a\\left(1 - e\\right)$"
   ]
  },
  {
   "cell_type": "code",
   "execution_count": 8,
   "id": "82b6911e-5f3f-4768-b470-aed833cedae2",
   "metadata": {},
   "outputs": [],
   "source": [
    "orb_param_array_all_events = np.load('orb_params_all_events_mc.npy')  # get the orbital parameters\n",
    "orb_param_variables = ['a', 'e', 'i', 'peri', 'node', 'M']  \n",
    "\n",
    "# get orbital param variables from the numpy file\n",
    "a, e, i, peri, node, M = orb_param_array_all_events.T\n",
    "# compute q from q = a * (1. - e)\n",
    "impactor_qs = (a * (1. - e)).reshape(-1)"
   ]
  },
  {
   "cell_type": "markdown",
   "id": "eeedce28-4369-4913-8d10-9a675a02c2a8",
   "metadata": {},
   "source": [
    "Plotting normalized histograms for the $q$ values of the cloned impactors and the CSS NEOs:"
   ]
  },
  {
   "cell_type": "code",
   "execution_count": 10,
   "id": "423bbdb6-3d93-45fb-9162-c1c8ff908736",
   "metadata": {},
   "outputs": [
    {
     "data": {
      "text/plain": [
       "<matplotlib.legend.Legend at 0x7fdf2be92620>"
      ]
     },
     "execution_count": 10,
     "metadata": {},
     "output_type": "execute_result"
    },
    {
     "data": {
      "image/png": "[encoded data removed]",
      "text/plain": [
       "<Figure size 1200x800 with 1 Axes>"
      ]
     },
     "metadata": {},
     "output_type": "display_data"
    }
   ],
   "source": [
    "# semi major axes of earth and venus\n",
    "a_earth = 1.\n",
    "a_venus = 0.72333199\n",
    "\n",
    "plt.figure(figsize = (12, 8))\n",
    "plt.hist(impactor_qs, bins='auto', color = 'orange', label = 'Impactor', density=True, alpha=0.9)\n",
    "plt.hist(mag_limited_qs, bins='auto', color='dodgerblue', label = 'CSS', density=True, alpha=0.7)\n",
    "plt.axvline(a_earth, color = 'k')\n",
    "plt.axvline(a_venus, color = 'k')\n",
    "plt.xlim(left=0., right=1.3)\n",
    "plt.legend()"
   ]
  },
  {
   "cell_type": "markdown",
   "id": "cbe1b085-87a2-40bf-8f42-d2b859f7b732",
   "metadata": {},
   "source": [
    "Compare using a K-S test and find the $p$-value:"
   ]
  },
  {
   "cell_type": "code",
   "execution_count": 12,
   "id": "d38cebad-bea6-4884-9968-462f37f61616",
   "metadata": {},
   "outputs": [
    {
     "data": {
      "text/plain": [
       "3.940264020924297e-34"
      ]
     },
     "execution_count": 12,
     "metadata": {},
     "output_type": "execute_result"
    }
   ],
   "source": [
    "import scipy.stats\n",
    "scipy.stats.ks_2samp(impactor_qs, mag_limited_qs).pvalue"
   ]
  },
  {
   "cell_type": "markdown",
   "id": "a74e76d1-85fb-4b7c-bc13-b3425360ab05",
   "metadata": {},
   "source": [
    "Impactors do not appear to show the same bias as the CSS objects..."
   ]
  }
 ],
 "metadata": {
  "kernelspec": {
   "display_name": "Python 3 (ipykernel)",
   "language": "python",
   "name": "python3"
  },
  "language_info": {
   "codemirror_mode": {
    "name": "ipython",
    "version": 3
   },
   "file_extension": ".py",
   "mimetype": "text/x-python",
   "name": "python",
   "nbconvert_exporter": "python",
   "pygments_lexer": "ipython3",
   "version": "3.10.12"
  }
 },
 "nbformat": 4,
 "nbformat_minor": 5
}
