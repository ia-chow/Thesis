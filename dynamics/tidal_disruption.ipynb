{
 "cells": [
  {
   "cell_type": "code",
   "execution_count": 1,
   "id": "2acff0a0-25b7-44f5-97c9-70353fe3f971",
   "metadata": {},
   "outputs": [],
   "source": [
    "from tqdm import tqdm\n",
    "import numpy as np\n",
    "import pandas as pd\n",
    "import scipy\n",
    "import matplotlib.pyplot as plt\n",
    "import matplotlib.ticker as ticker\n",
    "import seaborn as sns\n",
    "from sklearn.neighbors import KernelDensity  # kernel density estimation\n",
    "from mpmath import jtheta  # jacobi elliptic theta function\n",
    "import multiprocessing"
   ]
  },
  {
   "cell_type": "markdown",
   "id": "c6b94157-0cc0-4149-9032-be3636f8446e",
   "metadata": {},
   "source": [
    "Import list of all minor planet discoveries from MPC and list of all minor planets from the MPC `MPCORB` `.json` file, using the same data set as Granvik 2016, 2017, 2018:\n",
    "\n",
    "Note that the `.json` files need to be gotten from the MPC for local use"
   ]
  },
  {
   "cell_type": "code",
   "execution_count": null,
   "id": "f2a87eda-f10e-47f1-b829-0d3adfb6f9cf",
   "metadata": {},
   "outputs": [],
   "source": [
    "# list of minor planet discoveries from the MPC\n",
    "discovery_data = pd.read_json('numberedmps.json').T\n",
    "# list of all minor planets from the MPC:\n",
    "all_mps = pd.read_json('mpcorb_extended.json')\n",
    "\n",
    "# all_neos = pd.read_csv('all_17_25_neos.csv')"
   ]
  },
  {
   "cell_type": "markdown",
   "id": "8b6ed253-9c7c-42d9-95d3-1c2f2c5c5436",
   "metadata": {},
   "source": [
    "Filtering list of minor planet discoveries to only consider discoveries made by CSS between $2005$ and $2012$:"
   ]
  },
  {
   "cell_type": "code",
   "execution_count": null,
   "id": "1059633d-dc89-4e0a-8d11-d45eb504ba97",
   "metadata": {},
   "outputs": [],
   "source": [
    "# Discoverers are 'CSS' or 'Catalina Sky Survey' and discovery date is between January 1, 2005 and December 31, 2012\n",
    "css_discoveries = discovery_data[((discovery_data.Discoverers == 'CSS') | (discovery_data.Discoverers == 'Catalina Sky Survey')) \n",
    "& ('2005-01-01' < discovery_data.Discovery_date) & (discovery_data.Discovery_date < '2012-12-31')]\n",
    "# reset index since it's actually the minor planet number\n",
    "css_discoveries['mp_number'] = css_discoveries.index.astype(str)\n",
    "css_discoveries.reset_index(drop=True, inplace=True)\n",
    "# convert Name from nan to empty string\n",
    "css_discoveries = css_discoveries.fillna('')\n",
    "# make full name column by combining the number, name (if it has one) and principal designation\n",
    "css_discoveries['full_name'] = css_discoveries.mp_number + css_discoveries.Name + ' (' + css_discoveries.Principal_desig + ')'\n",
    "css_discoveries['mp_number'] = '(' + css_discoveries.mp_number + ')'"
   ]
  },
  {
   "cell_type": "code",
   "execution_count": null,
   "id": "86ebee55-a119-4989-8666-ed5b420c4045",
   "metadata": {},
   "outputs": [],
   "source": [
    "np.min(css_discoveries.Discovery_date), np.max(css_discoveries.Discovery_date)"
   ]
  },
  {
   "cell_type": "code",
   "execution_count": null,
   "id": "8df96deb-15ac-4dd7-854b-d0ea730176c6",
   "metadata": {},
   "outputs": [],
   "source": [
    "css_discoveries"
   ]
  },
  {
   "cell_type": "markdown",
   "id": "cd6ca7c3-2e5a-4dde-b48b-7769fb2ce0b8",
   "metadata": {},
   "source": [
    "Now filter list of minor planets to only include the ones discovered by CSS and be NEOs ($q < 1.3$ AU):"
   ]
  },
  {
   "cell_type": "code",
   "execution_count": null,
   "id": "140b229b-04ff-4e33-a340-170b30e51c94",
   "metadata": {},
   "outputs": [],
   "source": [
    "all_mps['q'] = (all_mps.a * (1. - all_mps.e))\n",
    "# filter for NEOs\n",
    "all_neos = all_mps[all_mps.q < 1.3]\n",
    "# filter for CSS neos\n",
    "css_neos = all_neos[all_neos.Number.isin(css_discoveries.mp_number)]"
   ]
  },
  {
   "cell_type": "markdown",
   "id": "4aae48c6-7369-496e-af7a-8bc6e5baae05",
   "metadata": {},
   "source": [
    "Now filter list of NEOs to only include ones with $17 < H < 25$ and get their $q$s:"
   ]
  },
  {
   "cell_type": "code",
   "execution_count": null,
   "id": "1866d287-bb13-407b-aae6-70caa2b147e9",
   "metadata": {},
   "outputs": [],
   "source": [
    "# filter for 17 < H < 25:\n",
    "mag_limited_neos = css_neos[(17. < css_neos.H) & (css_neos.H < 25.)]\n",
    "mag_limited_qs = mag_limited_neos.q"
   ]
  },
  {
   "cell_type": "code",
   "execution_count": null,
   "id": "9170017b-043c-4b69-a652-13fbf9e9c20c",
   "metadata": {},
   "outputs": [],
   "source": [
    "mag_limited_neos"
   ]
  },
  {
   "cell_type": "markdown",
   "id": "1f377b2e-d4dd-4db3-bb52-a2344fc14848",
   "metadata": {},
   "source": [
    "259 NEOs when using both the MPCORB.json file and when querying NASA's SBDB... seems to be less than what Granvik et al. 2016 and 2018 suggest though"
   ]
  },
  {
   "cell_type": "markdown",
   "id": "1498fc8a-3018-4bdf-921b-d7cf23c6d8da",
   "metadata": {},
   "source": [
    "Importing the Monte Carlo cloned impactors and computing their $q$ (perihelion distance) values from $a$ and $e$:"
   ]
  },
  {
   "cell_type": "markdown",
   "id": "b6c63a6f-5354-486f-853f-e2ce91d2e0f0",
   "metadata": {},
   "source": [
    "$q = a\\left(1 - e\\right)$"
   ]
  },
  {
   "cell_type": "code",
   "execution_count": null,
   "id": "82b6911e-5f3f-4768-b470-aed833cedae2",
   "metadata": {},
   "outputs": [],
   "source": [
    "orb_param_array_all_events = np.load('orb_params_all_events_mc.npy')  # get the orbital parameters for the clones\n",
    "orb_param_array_true = np.load('true_impactor_aeis.npy')  # and for the true 14 impactors\n",
    "orb_param_variables = ['a', 'e', 'i', 'peri', 'node', 'M']  \n",
    "\n",
    "# get orbital param variables from the numpy files\n",
    "impactor_as, impactor_es, impactor_is, impactor_peris, impactor_nodes, impactor_Ms = orb_param_array_all_events.T\n",
    "true_as, true_es, true_is, true_peris, true_nodes, true_Ms = orb_param_array_true.T\n",
    "\n",
    "# compute q from q = a * (1. - e)\n",
    "impactor_qs = (impactor_as * (1. - impactor_es))\n",
    "impactor_qs_flat = impactor_qs.reshape(-1)"
   ]
  },
  {
   "cell_type": "markdown",
   "id": "eeedce28-4369-4913-8d10-9a675a02c2a8",
   "metadata": {},
   "source": [
    "Plotting un-weighted normalized histograms for the $q$ values of the cloned impactors and the CSS NEOs:"
   ]
  },
  {
   "cell_type": "code",
   "execution_count": null,
   "id": "423bbdb6-3d93-45fb-9162-c1c8ff908736",
   "metadata": {},
   "outputs": [],
   "source": [
    "# semi major axes of earth and venus\n",
    "a_earth = 1.\n",
    "a_venus = 0.72333199\n",
    "\n",
    "plt.figure(figsize = (12, 8))\n",
    "plt.hist(impactor_qs_flat, bins='auto', color = 'orange', label = 'Unweighted Impactor', density=True, alpha=0.9)\n",
    "plt.hist(mag_limited_qs, bins='auto', color='dodgerblue', label = 'CSS', density=True, alpha=0.7)\n",
    "# plt.yscale('log')\n",
    "plt.axvline(a_earth, color = 'k')\n",
    "plt.axvline(a_venus, color = 'k')\n",
    "plt.xlim(left=0., right=1.3)\n",
    "plt.legend()"
   ]
  },
  {
   "cell_type": "markdown",
   "id": "cbe1b085-87a2-40bf-8f42-d2b859f7b732",
   "metadata": {},
   "source": [
    "Compare using a K-S test and find the $p$-value:"
   ]
  },
  {
   "cell_type": "code",
   "execution_count": null,
   "id": "d38cebad-bea6-4884-9968-462f37f61616",
   "metadata": {},
   "outputs": [],
   "source": [
    "import scipy.stats\n",
    "scipy.stats.ks_2samp(impactor_qs_flat, mag_limited_qs).pvalue"
   ]
  },
  {
   "cell_type": "markdown",
   "id": "375e656a-335b-4747-be2f-a6988a7d6aa4",
   "metadata": {},
   "source": [
    "Now compute weights for each of the impactors from their Opik impact probability, given $a$, $e$ and $i$:"
   ]
  },
  {
   "cell_type": "markdown",
   "id": "e7d611bb-dcfc-42bf-a452-cbf67c103bd2",
   "metadata": {},
   "source": [
    "Use the same function for collision probability per revolution in the `monte_carlo_granvik_model.ipynb` notebook:"
   ]
  },
  {
   "cell_type": "code",
   "execution_count": null,
   "id": "23d35eb1-b640-45c7-815f-7265f9adc21f",
   "metadata": {},
   "outputs": [],
   "source": [
    "# constants for earth and sun\n",
    "a0 = 1.  # semi-major axis of earth in au\n",
    "m = 5.97e24  # mass of earth in kg\n",
    "R = 4.259e-5  # radius of earth in au\n",
    "M = 1.988e30  # mass of sun in kg\n",
    "\n",
    "# get the probability per revolution P\n",
    "def get_P(a, e, i, a0=a0, m=m, R=R, M=M):\n",
    "    \"\"\"\n",
    "    Get the collision probability per revolution P for an object with semi-major axis a in AU, eccentricity e, and inclination i in degrees\n",
    "    and a target on a circular orbit with constant semi-major axis a0 in AU, mass m in kg, and radius R in AU, \n",
    "    both orbiting a star with mass M in kg\n",
    "\n",
    "    return: P, the collision probability per revolution\n",
    "    \"\"\"\n",
    "    Q = R/a0  # Q\n",
    "    Ux = np.sqrt(2 - (1/a) - (a * (1 - (e ** 2))))  # Ux\n",
    "    U = np.sqrt(3 - (1/a) - ((2 * np.sqrt(a * (1 - e ** 2))) * np.cos(np.deg2rad(i))))  # U\n",
    "    tau = Q * np.sqrt(1 + ((2 * m)/(M * Q * (U ** 2))))  # tau\n",
    "    # tau = R * np.sqrt(1 + R/Q)\n",
    "    # compute P\n",
    "    P = ((tau ** 2) * U)/(np.pi * np.sin(np.deg2rad(i)) * np.abs(Ux))\n",
    "    # return\n",
    "    return P"
   ]
  },
  {
   "cell_type": "markdown",
   "id": "291148e0-a0db-424a-8538-1cdeb2f32546",
   "metadata": {},
   "source": [
    "Convert the impact probability per revolution $P$ into an impact probability per year $P_t$:"
   ]
  },
  {
   "cell_type": "code",
   "execution_count": null,
   "id": "06dbc5e9-a0ff-4710-b687-55f7fe3b187a",
   "metadata": {},
   "outputs": [],
   "source": [
    "impactor_pts = np.array([get_P(a, e, i)/(a ** (3./2.)) for a, e, i in zip(impactor_as, impactor_es, impactor_is)])\n",
    "true_pts = np.array([get_P(a, e, i)/(a ** (3./2.)) for a, e, i in zip(true_as, true_es, true_is)])\n",
    "\n",
    "impactor_pts_flat = impactor_pts.reshape(-1)"
   ]
  },
  {
   "cell_type": "markdown",
   "id": "0f9ce0cb-d9a4-4d18-ba22-3f59d7e3a9c2",
   "metadata": {},
   "source": [
    "Plot a histogram of the $\\log_{10}$ annual impact probability:"
   ]
  },
  {
   "cell_type": "code",
   "execution_count": null,
   "id": "e82e054a-23c9-4136-ad93-32f3012e36b9",
   "metadata": {},
   "outputs": [],
   "source": [
    "plt.rc('font', size=15)\n",
    "# convert to lgo to make more readable\n",
    "plt.figure(figsize = (12, 8))\n",
    "# plot histogram\n",
    "plt.hist(np.log10(impactor_pts_flat), bins='auto', density=True)\n",
    "# label axes\n",
    "plt.xlabel(r'$\\log_{10}\\,$impact probability per year'), plt.ylabel('Density')"
   ]
  },
  {
   "cell_type": "markdown",
   "id": "1a9010bd-a245-407d-9ab9-e07777571352",
   "metadata": {},
   "source": [
    "Eliminate all clones with `nan` annual impact probabilities:"
   ]
  },
  {
   "cell_type": "code",
   "execution_count": null,
   "id": "61dcdb56-5aa6-4f07-b002-312ab027780b",
   "metadata": {},
   "outputs": [],
   "source": [
    "non_nan_mask = ~np.isnan(impactor_pts_flat)  # mask of all non-nan impact probabilities\n",
    "# filter out nan impact probabilities\n",
    "impactor_pts_flat_filtered = impactor_pts_flat[non_nan_mask]\n",
    "impactor_qs_flat_filtered = impactor_qs_flat[non_nan_mask]\n",
    "\n",
    "# filter out points with too high impact probability (say above 1e-4)\n",
    "high_impact_prob_mask = impactor_pts_flat_filtered < 1e-4\n",
    "impactor_pts_flat_filtered = impactor_pts_flat_filtered[high_impact_prob_mask]\n",
    "impactor_qs_flat_filtered = impactor_qs_flat_filtered[high_impact_prob_mask]"
   ]
  },
  {
   "cell_type": "code",
   "execution_count": null,
   "id": "6021f2fb-462a-4143-a25e-71f43993f8d2",
   "metadata": {},
   "outputs": [],
   "source": [
    "plt.figure(figsize = (12, 8))\n",
    "plt.scatter(impactor_pts_flat_filtered, impactor_qs_flat_filtered, s=0.07, c='k')\n",
    "plt.xscale('log')\n",
    "plt.xlabel('Annual impact probability'), plt.ylabel('q')"
   ]
  },
  {
   "cell_type": "markdown",
   "id": "4d31ecd7-fc0c-44a1-8e90-eff3808145fd",
   "metadata": {},
   "source": [
    "Then plot a histogram comparing the weighted and unweighted $q$ values for the cloned impactors as well as a histogram of the $q$ values for the cloned impactors, weighting by impact probability:"
   ]
  },
  {
   "cell_type": "code",
   "execution_count": null,
   "id": "838320b4-5c4e-492d-b77f-78ac7611ff63",
   "metadata": {},
   "outputs": [],
   "source": [
    "plt.figure(figsize = (12, 8))\n",
    "plt.hist(impactor_qs_flat_filtered, bins=25, color = 'red', label = 'Weighted Impactor', density=True, \n",
    "         weights=1./impactor_pts_flat_filtered, alpha=0.9)\n",
    "plt.hist(impactor_qs_flat_filtered, bins=25, color = 'orange', label = 'Unweighted Impactor', density=True, \n",
    "         weights=None, alpha=0.7)\n",
    "# plt.yscale('log')\n",
    "plt.legend()"
   ]
  },
  {
   "cell_type": "code",
   "execution_count": null,
   "id": "1e906e8d-f7bd-4b64-8d7a-32abcc117ee0",
   "metadata": {},
   "outputs": [],
   "source": [
    "# semi major axes of earth and venus\n",
    "a_earth = 1.\n",
    "a_venus = 0.72333199\n",
    "\n",
    "plt.figure(figsize = (12, 8))\n",
    "plt.hist(impactor_qs_flat_filtered, bins=25, color = 'red', label = 'Weighted Impactor', density=True, \n",
    "         weights=1./impactor_pts_flat_filtered, alpha=0.9)\n",
    "plt.hist(mag_limited_qs, bins=25, color='dodgerblue', label = 'CSS', density=True, \n",
    "         weights=None, alpha=0.7)\n",
    "# plt.yscale('log')\n",
    "plt.axvline(a_earth, color = 'k')\n",
    "plt.axvline(a_venus, color = 'k')\n",
    "plt.xlim(left=0., right=1.3)\n",
    "plt.legend()"
   ]
  },
  {
   "cell_type": "markdown",
   "id": "fcca53b2-65c7-4789-a013-b81641f6b6f4",
   "metadata": {},
   "source": [
    "Weighted K-S test:"
   ]
  },
  {
   "cell_type": "code",
   "execution_count": null,
   "id": "4d065499-52f8-472e-9e7c-5a8292a354fe",
   "metadata": {},
   "outputs": [],
   "source": [
    "from scipy.stats import distributions\n",
    "\n",
    "def ks_weighted(data1, data2, wei1, wei2, alternative='two-sided'):\n",
    "    ix1 = np.argsort(data1)\n",
    "    ix2 = np.argsort(data2)\n",
    "    data1 = data1[ix1]\n",
    "    data2 = data2[ix2]\n",
    "    wei1 = wei1[ix1]\n",
    "    wei2 = wei2[ix2]\n",
    "    data = np.concatenate([data1, data2])\n",
    "    cwei1 = np.hstack([0, np.cumsum(wei1)/sum(wei1)])\n",
    "    cwei2 = np.hstack([0, np.cumsum(wei2)/sum(wei2)])\n",
    "    cdf1we = cwei1[np.searchsorted(data1, data, side='right')]\n",
    "    cdf2we = cwei2[np.searchsorted(data2, data, side='right')]\n",
    "    d = np.max(np.abs(cdf1we - cdf2we))\n",
    "    # calculate p-value\n",
    "    n1 = data1.shape[0]\n",
    "    n2 = data2.shape[0]\n",
    "    m, n = sorted([float(n1), float(n2)], reverse=True)\n",
    "    en = m * n / (m + n)\n",
    "    if alternative == 'two-sided':\n",
    "        prob = distributions.kstwo.sf(d, np.round(en))\n",
    "    else:\n",
    "        z = np.sqrt(en) * d\n",
    "        # Use Hodges' suggested approximation Eqn 5.3\n",
    "        # Requires m to be the larger of (n1, n2)\n",
    "        expt = -2 * z**2 - 2 * z * (m + 2*n)/np.sqrt(m*n*(m+n))/3.0\n",
    "        prob = np.exp(expt)\n",
    "    return d, prob"
   ]
  },
  {
   "cell_type": "markdown",
   "id": "9f9c7bcc-1a92-4a2e-b312-d163086dc3ad",
   "metadata": {},
   "source": [
    "Computing 1-D K-S test for unweighted and weighted $q$ values and compare unweighted result to default `scipy` K-S test implementation:"
   ]
  },
  {
   "cell_type": "code",
   "execution_count": null,
   "id": "b05541c2-9218-478e-90b1-869e89600d81",
   "metadata": {},
   "outputs": [],
   "source": [
    "print('Unweighted:', ks_weighted(impactor_qs_flat_filtered, np.array(mag_limited_qs), \n",
    "                  np.ones(len(impactor_qs_flat_filtered)), np.ones(len(np.array(mag_limited_qs))))) \n",
    "print('Weighted:', ks_weighted(impactor_qs_flat_filtered, np.array(mag_limited_qs), \n",
    "                  1./impactor_pts_flat_filtered, np.ones(len(np.array(mag_limited_qs)))))"
   ]
  },
  {
   "cell_type": "code",
   "execution_count": null,
   "id": "75c43cb1-7402-43c4-a77c-5c5defab790b",
   "metadata": {},
   "outputs": [],
   "source": [
    "scipy.stats.ks_2samp(impactor_qs_flat_filtered, mag_limited_qs).statistic, scipy.stats.ks_2samp(impactor_qs_flat_filtered, mag_limited_qs).pvalue"
   ]
  },
  {
   "cell_type": "markdown",
   "id": "250b9064-83ae-4ef6-b0c4-446899ea9bd1",
   "metadata": {},
   "source": [
    "### Comparing to 824 EN fireballs and the EMCCD Meteors:"
   ]
  },
  {
   "cell_type": "markdown",
   "id": "b1b6d82b-47be-4342-ae45-cc3f0f8decc9",
   "metadata": {},
   "source": [
    "Read in the $824$ EN fireballs from Borovicka et al. 2022"
   ]
  },
  {
   "cell_type": "code",
   "execution_count": null,
   "id": "cdb955e8-5836-40df-b95f-e200eb45578c",
   "metadata": {},
   "outputs": [],
   "source": [
    "en_fireballs = pd.read_fwf('catalog.dat', header=None).drop(columns=[81, 85]) # drop column 81 as well since it's having trouble reading phaethon\n",
    "en_fireballs.columns = ['code', 'obs_date', 'obs_time', 'e_obs_time', 'jd', \n",
    "                        'lsun', 'lam-beg', 'phi-beg', 'h-beg', 'lam-end', \n",
    "                        'phi-end', 'h-end', 'lam-avg', 'phi-avg', 'h-avg', \n",
    "                        'lam-max', 'phi-max', 'h-max', 'length', 'dur', \n",
    "                        'azim', 'zendis', 'radeg', 'e_radeg', 'dedeg', \n",
    "                        'e_dedeg', 'vinf', 'e_vinf', 'vmax', 'vter', \n",
    "                        'hvter', 'rageo', 'e_rageo', 'degeo', 'e_degeo', \n",
    "                        'lgeo-lsun', 'bgeo', 'vgeo', 'e_vgeo', 'lhel', \n",
    "                        'e_lhel', 'bhel', 'e_bhel', 'vhel', 'e_vhel', \n",
    "                        'ax', 'e_ax', 'ecc', 'e_ecc', 'perih', \n",
    "                        'e_perih', 'aph', 'e_aph', 'inc', 'e_inc', \n",
    "                        'omg', 'e_omg', 'nod', 'e_nod', 'lper', \n",
    "                        'e_lper', 'tyear', 'tmonth', 'tday', 'e_tday', \n",
    "                        'per', 'e_per', 'tiss', 'e_tiss', 'mag', \n",
    "                        'energy', 'mass', 'termass', 'pe', 'type', \n",
    "                        'pres', 'hpres', 'pf', 'pf-class', 'shower', \n",
    "                        'object', 'ncam', 'mindist', 'spectrum']"
   ]
  },
  {
   "cell_type": "markdown",
   "id": "9c145bfd-20bd-4c09-a987-7bf52b1dfea3",
   "metadata": {},
   "source": [
    "Read in the EMCCD data:"
   ]
  },
  {
   "cell_type": "code",
   "execution_count": null,
   "id": "4a406d7f-60d5-45d3-b302-8239edba4908",
   "metadata": {},
   "outputs": [],
   "source": [
    "import kb_and_kc_calc\n",
    "emccd_meteors = kb_and_kc_calc.extract_from_table()\n",
    "\n",
    "# emccd_meteors = pd.read_json('solution_table.json')"
   ]
  },
  {
   "cell_type": "markdown",
   "id": "ae6387b9-2990-49e3-bd7b-9142f04f5e41",
   "metadata": {},
   "source": [
    "Perform the same impact probability weighting for the EN fireballs and the EMCCD data:"
   ]
  },
  {
   "cell_type": "code",
   "execution_count": null,
   "id": "b0532cde-30ca-43ae-b34c-a20293aa5503",
   "metadata": {},
   "outputs": [],
   "source": [
    "# get a, e, i, q for en fireballs\n",
    "en_as, en_es, en_is, en_qs = np.array(en_fireballs[['ax', 'ecc', 'inc', 'perih']]).T\n",
    "emccd_as, emccd_es, emccd_is, emccd_qs = np.array(emccd_meteors[['a', 'e', 'i', 'q']]).T\n",
    "\n",
    "# and get the EN annual impact probabilities\n",
    "en_pts = np.array([get_P(a, e, i)/(a ** (3./2.)) for a, e, i in zip(en_as, en_es, en_is)])\n",
    "emccd_pts = np.array([get_P(a, e, i)/(a ** (3./2.)) for a, e, i in zip(emccd_as, emccd_es, emccd_is)])"
   ]
  },
  {
   "cell_type": "markdown",
   "id": "7a716e8b-015f-4b63-9660-5b6a45b7a84c",
   "metadata": {},
   "source": [
    "Plot probabilities:"
   ]
  },
  {
   "cell_type": "code",
   "execution_count": null,
   "id": "b7cb68ae-a67c-4aa4-a575-f6e473a86b06",
   "metadata": {},
   "outputs": [],
   "source": [
    "i = 0\n",
    "en_as[i] * (1. - (en_es[i])), en_as[i], en_es[i], en_is[i], en_qs[i]"
   ]
  },
  {
   "cell_type": "code",
   "execution_count": null,
   "id": "3d50af6b-3ff2-491f-886e-36c03546dc49",
   "metadata": {},
   "outputs": [],
   "source": [
    "emccd_as[i] * (1. - (emccd_es[i])), emccd_as[i], emccd_es[i], emccd_is[i], emccd_qs[i]"
   ]
  },
  {
   "cell_type": "code",
   "execution_count": null,
   "id": "c785873b-709d-4496-b4e4-d6608d3be7f7",
   "metadata": {},
   "outputs": [],
   "source": [
    "plt.rc('font', size=15)\n",
    "# convert to lgo to make more readable\n",
    "plt.figure(figsize = (12, 8))\n",
    "# plot histogram\n",
    "plt.hist(np.log10(en_pts), bins='auto', density=True, label = 'EN', color='orange', alpha=0.9)\n",
    "plt.hist(np.log10(emccd_pts), bins='auto', density=True, label = 'EMCCD', color='dodgerblue', alpha=0.7)\n",
    "# label axes\n",
    "plt.xlabel(r'$\\log_{10}\\,$impact probability per year'), plt.ylabel('Density')\n",
    "plt.legend()"
   ]
  },
  {
   "cell_type": "code",
   "execution_count": null,
   "id": "74e0719a-c678-4f35-ad6e-dd06b1801b0a",
   "metadata": {},
   "outputs": [],
   "source": [
    "plt.figure(figsize = (12, 8))\n",
    "plt.scatter(en_pts, en_qs, s=5, c='orange', label = 'EN')\n",
    "plt.scatter(emccd_pts, emccd_qs, s=0.07, c='dodgerblue', label = 'EMCCD', alpha=0.7)\n",
    "plt.xscale('log')\n",
    "plt.xlabel('Annual impact probability'), plt.ylabel('q')\n",
    "plt.legend()"
   ]
  },
  {
   "cell_type": "markdown",
   "id": "c46f2e4b-d7a1-4f96-b29e-ac485a425d81",
   "metadata": {},
   "source": [
    "Filter `nan`s:"
   ]
  },
  {
   "cell_type": "code",
   "execution_count": null,
   "id": "c5186aa7-edf3-42e6-9a9e-1061f52a44be",
   "metadata": {},
   "outputs": [],
   "source": [
    "en_non_nan_mask = ~np.isnan(en_pts)  # mask of all non-nan impact probabilities\n",
    "emccd_non_nan_mask = ~np.isnan(emccd_pts)\n",
    "\n",
    "# filter out nan impact probabilities\n",
    "en_pts_filtered = en_pts[en_non_nan_mask]\n",
    "en_qs_filtered = en_qs[en_non_nan_mask]\n",
    "\n",
    "emccd_pts_filtered = emccd_pts[emccd_non_nan_mask]\n",
    "emccd_qs_filtered = emccd_qs[emccd_non_nan_mask]"
   ]
  },
  {
   "cell_type": "markdown",
   "id": "6bf8bd3d-7294-480e-861a-47df3331d903",
   "metadata": {},
   "source": [
    "And plot a histogram of the weighted decameter impactors against the weighted EN fireballs and the weighted EMCCD meteors:"
   ]
  },
  {
   "cell_type": "code",
   "execution_count": null,
   "id": "dbab3efe-537f-4597-a6bc-2a9197c978d3",
   "metadata": {},
   "outputs": [],
   "source": [
    "plt.figure(figsize = (12, 8))\n",
    "plt.hist(impactor_qs_flat_filtered, bins=25, color = 'red', label = 'Weighted Impactor', density=True, \n",
    "         weights=1./impactor_pts_flat_filtered, alpha=0.9)\n",
    "# plt.hist(en_qs[en_non_nan_mask], bins=25, color='green', label = 'Unweighted EN Fireballs', density=True, alpha=0.7)\n",
    "plt.hist(en_qs_filtered, bins=25, color = 'orange', label = 'Weighted EN Fireballs', density=True, \n",
    "         weights=1./en_pts_filtered, alpha=0.7)\n",
    "# plt.hist(emccd_qs[emccd_non_nan_mask], bins=25, color='green', label = 'Unweighted EMCCD Meteors', density=True)\n",
    "plt.hist(emccd_qs_filtered, bins=25, color = 'dodgerblue', label = 'Weighted EMCCD Meteors', density=True, \n",
    "         weights=1./emccd_pts_filtered, alpha=0.7)\n",
    "\n",
    "# plt.yscale('log')\n",
    "plt.legend()\n",
    "plt.axvline(a_earth, color = 'k')\n",
    "plt.axvline(a_venus, color = 'k')"
   ]
  },
  {
   "cell_type": "markdown",
   "id": "8e709009-0a50-4733-9b89-ce591f5084c1",
   "metadata": {},
   "source": [
    "Read in all the `.csv` files generated from the `mpc_process.py` script:"
   ]
  },
  {
   "cell_type": "code",
   "execution_count": 77,
   "id": "0b05fd0d-fdbe-4a7b-96c3-1cf82895a04f",
   "metadata": {},
   "outputs": [
    {
     "name": "stderr",
     "output_type": "stream",
     "text": [
      "100%|███████████████████████████████████████████████████████████████████████████████████████████████████████████████████████████████████████████████████████████████████████████████| 65/65 [00:00<00:00, 136.37it/s]\n"
     ]
    }
   ],
   "source": [
    "import pandas as pd\n",
    "import numpy as np\n",
    "from tqdm import tqdm\n",
    "\n",
    "n_lines = 425059248  # counted using sed -n '$=' NumObs.txt\n",
    "chunksize = 10 ** 6  # chunksize for reading in pandas\n",
    "\n",
    "all_css_mpcs = set()\n",
    "\n",
    "# all files\n",
    "# n_lines//chunksize\n",
    "\n",
    "for i in tqdm(range(0, 65)):\n",
    "    processed_csv = pd.read_csv(f'mpc_data/mpc_processed_{i}.csv')\n",
    "    all_css_mpcs.update(processed_csv.packed_desig)"
   ]
  },
  {
   "cell_type": "code",
   "execution_count": 78,
   "id": "f9c1b8e1-f4fa-4e2e-9e6e-62eaa6db7c3f",
   "metadata": {},
   "outputs": [
    {
     "data": {
      "text/plain": [
       "11880"
      ]
     },
     "execution_count": 78,
     "metadata": {},
     "output_type": "execute_result"
    }
   ],
   "source": [
    "len(all_css_mpcs)"
   ]
  },
  {
   "cell_type": "code",
   "execution_count": 36,
   "id": "285dad77-27b1-4c27-8c60-9c94eb43be61",
   "metadata": {},
   "outputs": [],
   "source": [
    "# all_mpcs = pd.read_fwf('MPCORB.DAT', skiprows=43, header=None)"
   ]
  },
  {
   "cell_type": "code",
   "execution_count": 51,
   "id": "6721cca7-72cc-4ed5-ae64-1ac1a6008d9a",
   "metadata": {},
   "outputs": [
    {
     "data": {
      "text/plain": [
       "Number\n",
       "5500)    70\n",
       "6666)    70\n",
       "6659)    70\n",
       "6660)    70\n",
       "6661)    70\n",
       "         ..\n",
       "(664)     1\n",
       "(663)     1\n",
       "(662)     1\n",
       "(661)     1\n",
       "(1)       1\n",
       "Name: count, Length: 10999, dtype: int64"
      ]
     },
     "execution_count": 51,
     "metadata": {},
     "output_type": "execute_result"
    }
   ],
   "source": [
    "all_mpcs.columns = ['Desn', 'H', 'G', 'Epoch', 'M', 'Peri', 'Node', 'Incl', 'e', 'n', 'a', '',\n",
    "                   'Reference', 'nObs', 'nOpp', 'Arc', 'rms', 'Perts1', 'Perts2', 'Computer', '', 'Number', 'Name', 'Date']\n",
    "\n",
    "all_mpcs.Number.value_counts()"
   ]
  }
 ],
 "metadata": {
  "kernelspec": {
   "display_name": "Python 3 (ipykernel)",
   "language": "python",
   "name": "python3"
  },
  "language_info": {
   "codemirror_mode": {
    "name": "ipython",
    "version": 3
   },
   "file_extension": ".py",
   "mimetype": "text/x-python",
   "name": "python",
   "nbconvert_exporter": "python",
   "pygments_lexer": "ipython3",
   "version": "3.8.18"
  }
 },
 "nbformat": 4,
 "nbformat_minor": 5
}
