{
 "cells": [
  {
   "cell_type": "code",
   "execution_count": 1,
   "id": "ee77b12f-16c4-4b24-b6a9-7f33d5c67b81",
   "metadata": {},
   "outputs": [],
   "source": [
    "import numpy as np\n",
    "import pandas as pd\n",
    "import sys\n",
    "import json\n",
    "import os\n",
    "import copy\n",
    "import matplotlib.pyplot as plt\n",
    "import scipy\n",
    "import multiprocessing\n",
    "import h5py\n",
    "import corner\n",
    "import dynesty\n",
    "from tqdm import tqdm"
   ]
  },
  {
   "cell_type": "markdown",
   "id": "9812580e-4ec0-4f22-936f-cbdb853ee907",
   "metadata": {},
   "source": [
    "Import saved NS run:"
   ]
  },
  {
   "cell_type": "code",
   "execution_count": 2,
   "id": "4a8c3796-e7c2-43cf-a226-148a43f104dd",
   "metadata": {},
   "outputs": [
    {
     "name": "stdout",
     "output_type": "stream",
     "text": [
      "Summary\n",
      "=======\n",
      "niter: 25510\n",
      "ncall: 906444\n",
      "eff(%):  2.591\n",
      "logz: -83.844 +/-  0.152\n"
     ]
    }
   ],
   "source": [
    "# run to import\n",
    "dsampler = dynesty.DynamicNestedSampler.restore('dynesty_saves/2006_12_09_restricted_heights.save')  # CHANGE\n",
    "results = dsampler.results\n",
    "samples = results.samples\n",
    "ndim = len(samples.T)\n",
    "results.summary()"
   ]
  },
  {
   "cell_type": "markdown",
   "id": "5b35891f-abba-45a7-8623-303dafde4ab0",
   "metadata": {},
   "source": [
    "Generate marginalized distributions of derived parameters from NS -- total initial mass, mass pcts and dynamic pressure of fragments, peak dynamic pressure, and mass remaining at peak dynamic pressure"
   ]
  },
  {
   "cell_type": "code",
   "execution_count": 3,
   "id": "8caff391-2978-401b-b19b-5cf14e5eb080",
   "metadata": {
    "jupyter": {
     "source_hidden": true
    }
   },
   "outputs": [],
   "source": [
    "sys.path.append('../../')\n",
    "\n",
    "import source.WesternMeteorPyLib.wmpl.MetSim.MetSim as metsim\n",
    "import source.WesternMeteorPyLib.wmpl.MetSim.FitSim as fitsim\n",
    "import source.WesternMeteorPyLib.wmpl.MetSim.GUI as gui\n",
    "import source.WesternMeteorPyLib.wmpl.MetSim.MetSimErosion as erosion\n",
    "\n",
    "class MetSimObj():\n",
    "    def __init__(self, traj_path, const_json_file, fixed_frag_indices, free_frag_indices, er_frag_indices):\n",
    "        # Init an axis for the electron line density\n",
    "        # self.electronDensityPlot = self.magnitudePlot.canvas.axes.twiny()\n",
    "        self.electron_density_plot_show = False\n",
    "        ### Wake parameters ###\n",
    "        self.wake_on = False\n",
    "        self.wake_show_mass_bins = False\n",
    "        self.wake_ht_current_index = 0\n",
    "        self.current_wake_container = None\n",
    "        # if self.wake_heights is not None:\n",
    "        #     self.wake_plot_ht, self.current_wake_container = self.wake_heights[self.wake_ht_current_index]\n",
    "        # else:\n",
    "        #     self.wake_plot_ht = self.traj.rbeg_ele # m\n",
    "        self.wake_normalization_method = 'area'\n",
    "        self.wake_align_method = 'none'\n",
    "        self.magnitudePlotWakeLines = None\n",
    "        self.magnitudePlotWakeLineLabels = None\n",
    "        self.velocityPlotWakeLines = None\n",
    "        self.lagPlotWakeLines = None\n",
    "        self.usg_data, self.traj = gui.loadUSGInputFile(*os.path.split(traj_path))\n",
    "        self.dir_path = os.path.dirname(traj_path)\n",
    "        # Disable different density after erosion change\n",
    "        self.erosion_different_rho = False\n",
    "        # Disable different ablation coeff after erosion change\n",
    "        self.erosion_different_sigma = False\n",
    "        # Disable different erosion coeff after disruption at the beginning\n",
    "        self.disruption_different_erosion_coeff = False\n",
    "        # Fragmentation object\n",
    "        self.fragmentation = None\n",
    "        self.simulation_results = None\n",
    "        self.const_prev = None\n",
    "        self.simulation_results_prev = None\n",
    "        self.const = erosion.Constants()  # initialize this, these will be replaced later\n",
    "        self.const.P_0m = self.usg_data.P_0m_bolo\n",
    "        # If a JSON file with constant was given, load them instead of initing from scratch\n",
    "        if const_json_file is not None:\n",
    "            # Load the constants from the JSON files\n",
    "            self.const, const_json = gui.loadConstants(const_json_file)\n",
    "            # Init the fragmentation container for the GUI\n",
    "            if len(self.const.fragmentation_entries):\n",
    "                self.fragmentation = gui.FragmentationContainer(self, \\\n",
    "                    os.path.join(self.dir_path, self.const.fragmentation_file_name))\n",
    "                self.fragmentation.fragmentation_entries = self.const.fragmentation_entries\n",
    "                # Overwrite the existing fragmentatinon file\n",
    "                # self.fragmentation.writeFragmentationFile()\n",
    "            # Check if the disruption erosion coefficient is different than the main erosion coeff\n",
    "            if const_json['disruption_erosion_coeff'] != const_json['erosion_coeff']:\n",
    "                self.disruption_different_erosion_coeff = True\n",
    "            # Check if the density is changed after Hchange\n",
    "            if 'erosion_rho_change' in const_json:\n",
    "                if const_json['erosion_rho_change'] != const_json['rho']:\n",
    "                    self.erosion_different_rho = True\n",
    "            # Check if the ablation coeff is changed after Hchange\n",
    "            if 'erosion_sigma_change' in const_json:\n",
    "                if const_json['erosion_sigma_change'] != const_json['sigma']:\n",
    "                    self.erosion_different_sigma = True\n",
    "        else:\n",
    "            raise('no json file!')\n",
    "\n",
    "        ### Calculate atmosphere density coeffs (down to the bottom observed height, limit to 15 km) ###\n",
    "\n",
    "        # Determine the height range for fitting the density\n",
    "        self.dens_fit_ht_beg = self.const.h_init\n",
    "        self.dens_fit_ht_end = self.traj.rend_ele - 5000\n",
    "        if self.dens_fit_ht_end < 14000:\n",
    "            self.dens_fit_ht_end = 14000\n",
    "\n",
    "        # Fit the polynomail describing the density\n",
    "        dens_co = gui.MetSimGUI.fitAtmosphereDensity(self, self.dens_fit_ht_beg, self.dens_fit_ht_end)\n",
    "        self.const.dens_co = dens_co\n",
    "\n",
    "        # get global parameters from json file, everything other than params marked \"free\" are fixed\n",
    "        dt = const_json.get('dt')\n",
    "        P_0m = const_json.get('P_0m')\n",
    "        h_init = const_json.get('h_init')\n",
    "        m_kill = const_json.get('m_kill')\n",
    "        v_kill = const_json.get('v_kill')\n",
    "        h_kill = const_json.get('h_kill')\n",
    "        len_kill = const_json.get('len_kill') \n",
    "        rho = const_json.get('rho')  # free\n",
    "        rho_grain = const_json.get('rho_grain')  # free\n",
    "        m_init = const_json.get('m_init')  # free\n",
    "        sigma = const_json.get('sigma')  # free\n",
    "        v_init = const_json.get('v_init')\n",
    "        shape_factor = const_json.get('shape_factor')\n",
    "        gamma = const_json.get('gamma')\n",
    "        zenith_angle = const_json.get('zenith_angle')\n",
    "        lum_eff = const_json.get('lum_eff')\n",
    "        lum_eff_type = const_json.get('lum_eff_type')\n",
    "        erosion_height_start = const_json.get('erosion_height_start')\n",
    "        erosion_bins_per_10mass = const_json.get('erosion_bins_per_10mass')\n",
    "        erosion_coeff = const_json.get('erosion_coeff')\n",
    "        erosion_height_change = const_json.get('erosion_height_change')\n",
    "        erosion_coeff_change = const_json.get('erosion_coeff_change')\n",
    "        erosion_mass_index = const_json.get('erosion_mass_index')\n",
    "        erosion_mass_min = const_json.get('erosion_mass_min')\n",
    "        erosion_mass_max = const_json.get('erosion_mass_max')\n",
    "        erosion_rho_change = const_json.get('rho')\n",
    "        erosion_sigma_change = const_json.get('sigma')\n",
    "        compressive_strength = const_json.get('compressive_strength')\n",
    "        disruption_erosion_coeff = const_json.get('erosion_coeff')\n",
    "        disruption_mass_grain_ratio = const_json.get('disruption_mass_grain_ratio')\n",
    "        disruption_mass_index = const_json.get('disruption_mass_index')\n",
    "        disruption_mass_min_ratio = const_json.get('disruption_mass_min_ratio')\n",
    "        disruption_mass_max_ratio = const_json.get('disruption_mass_max_ratio')\n",
    "\n",
    "        # get fragmentation parameters from json file\n",
    "        # type, height, number, gamma, mass index are fixed, \n",
    "        # mass, ablation coefficient, erosion coefficient, grain min, grain max are not fixed\n",
    "        num_frags = len(const_json.get('fragmentation_entries'))\n",
    "        # fixed\n",
    "        frag_types = []\n",
    "        frag_numbers = []\n",
    "        frag_ab_coeffs = []\n",
    "        frag_gammas = []\n",
    "        frag_mis = []\n",
    "        # free\n",
    "        frag_masses = []\n",
    "        frag_er_coeffs = []\n",
    "        frag_grain_mins = []\n",
    "        frag_grain_maxs = []\n",
    "        frag_heights = []\n",
    "\n",
    "        # set free and fixed params\n",
    "        #### CHANGE THESE LINES TO TEST DIFFERENT COMBINATIONS OF FREE PARAMETERS\n",
    "        self.fixed_frag_indices = fixed_frag_indices\n",
    "        self.free_frag_indices = free_frag_indices\n",
    "        self.er_frag_indices = er_frag_indices\n",
    "        # set up masks for free and fixed indices\n",
    "        # free\n",
    "        free_frag_mask = np.zeros(num_frags, bool)\n",
    "        free_frag_mask[free_frag_indices] = True  # only free frags\n",
    "        # fixed\n",
    "        fixed_frag_mask = np.ones(num_frags, bool)\n",
    "        fixed_frag_mask[free_frag_indices] = False  # everything EXCEPT free frags (i.e. fixed frags)\n",
    "        # erosion\n",
    "        er_frag_mask = np.zeros(num_frags, bool)\n",
    "        er_frag_mask[er_frag_indices] = True  # only frags that have erosion coefficients (i.e. all free fragments excluding dust)\n",
    "        \n",
    "        for i, frag in enumerate(const_json.get('fragmentation_entries')):\n",
    "            ### If sigma, gamma and erosiion coefficient are none, convert to whatever the default value is \n",
    "            # fixed\n",
    "            frag_types.append(frag['frag_type'])\n",
    "            frag_numbers.append(frag['number'])\n",
    "            if frag['gamma'] == None:\n",
    "                frag_gammas.append(gamma)\n",
    "            else:\n",
    "                frag_gammas.append(frag['gamma'])\n",
    "            frag_mis.append(frag['mass_index'])\n",
    "            if frag['sigma'] == None:\n",
    "                frag_ab_coeffs.append(sigma) \n",
    "            else:\n",
    "                frag_ab_coeffs.append(frag['sigma'])\n",
    "            # free\n",
    "            frag_masses.append(frag['mass_percent'])\n",
    "            if frag['erosion_coeff'] == None:  # this means that the fragment is dust\n",
    "                frag_er_coeffs.append(0.)  # erosion coefficient of zero\n",
    "            else:\n",
    "                frag_er_coeffs.append(frag['erosion_coeff'])\n",
    "            frag_grain_mins.append(frag['grain_mass_min'])\n",
    "            frag_grain_maxs.append(frag['grain_mass_max'])\n",
    "            frag_heights.append(frag['height'])\n",
    "\n",
    "        # fixed_frag_mask = np.argsort(fixed_frag_mask)\n",
    "        # assign free fixed parameters to object\n",
    "        self.free_params = [m_init, \n",
    "                            list(np.array(frag_masses)[free_frag_mask]), \n",
    "                            list(np.array(frag_er_coeffs)[er_frag_mask]),  # use er frag mask for this one! \n",
    "                            list(np.array(frag_grain_mins)[free_frag_mask]), \n",
    "                            list(np.array(frag_grain_maxs)[free_frag_mask]),\n",
    "                            list(np.array(frag_heights)[free_frag_mask])  # heights\n",
    "                           ]\n",
    "        self.fixed_params = [dt, P_0m, h_init, m_kill, v_kill, h_kill, len_kill, rho, rho_grain, sigma, \n",
    "                             v_init, shape_factor, \n",
    "                            gamma, zenith_angle, lum_eff, lum_eff_type, erosion_height_start, \n",
    "                            erosion_bins_per_10mass, erosion_coeff, erosion_height_change, \n",
    "                            erosion_coeff_change, erosion_mass_index, erosion_mass_min, erosion_mass_max, \n",
    "                            erosion_rho_change, erosion_sigma_change, compressive_strength, \n",
    "                            disruption_erosion_coeff, disruption_mass_grain_ratio, disruption_mass_index, \n",
    "                            disruption_mass_min_ratio, disruption_mass_max_ratio, \n",
    "                            frag_types, frag_numbers, \n",
    "                            frag_ab_coeffs, frag_gammas, frag_mis,\n",
    "                            list(np.array(frag_masses)[fixed_frag_mask]), \n",
    "                            list(np.array(frag_er_coeffs)[~er_frag_mask]),  # and inverse of er frag mask \n",
    "                            list(np.array(frag_grain_mins)[fixed_frag_mask]), \n",
    "                            list(np.array(frag_grain_maxs)[fixed_frag_mask]),\n",
    "                            list(np.array(frag_heights)[fixed_frag_mask])\n",
    "                            ]\n",
    "        \n",
    "        # load all the global parameters into the object\n",
    "        consts = dt, P_0m, h_init, m_kill, v_kill, h_kill, len_kill, rho, rho_grain, m_init, sigma, v_init, shape_factor, gamma, zenith_angle, lum_eff, lum_eff_type, erosion_height_start, erosion_bins_per_10mass, erosion_coeff, erosion_height_change, erosion_coeff_change, erosion_mass_index, erosion_mass_min, erosion_mass_max, erosion_rho_change, erosion_sigma_change, compressive_strength, disruption_erosion_coeff, disruption_mass_grain_ratio, disruption_mass_index, disruption_mass_min_ratio, disruption_mass_max_ratio\n",
    "        self.loadGlobalParameters(consts)\n",
    "\n",
    "        # get all parameters\n",
    "        self.all_params = (self.free_params, self.fixed_params)\n",
    "        \n",
    "        # self.initializeSimulation(all_params)\n",
    "        # self.initializeSimulation(const_json)\n",
    "    \n",
    "    def loadGlobalParameters(self, consts):\n",
    "            \"\"\"\n",
    "            Loads the global parameters (constants) into the object\n",
    "            \"\"\"\n",
    "            dt, P_0m, h_init, m_kill, v_kill, h_kill, len_kill, rho, rho_grain, m_init, sigma, v_init, shape_factor, gamma, zenith_angle, lum_eff, lum_eff_type, erosion_height_start, erosion_bins_per_10mass, erosion_coeff, erosion_height_change, erosion_coeff_change, erosion_mass_index, erosion_mass_min, erosion_mass_max, erosion_rho_change, erosion_sigma_change, compressive_strength, disruption_erosion_coeff, disruption_mass_grain_ratio, disruption_mass_index, disruption_mass_min_ratio, disruption_mass_max_ratio = consts\n",
    "            # load all the non-fragmentation parameters into the object\n",
    "            # 33 parameters\n",
    "            self.const.dt = dt\n",
    "            self.const.P_0m = P_0m\n",
    "            self.const.h_init = h_init\n",
    "            self.const.m_kill = m_kill\n",
    "            self.const.v_kill = v_kill\n",
    "            self.const.h_kill = h_kill\n",
    "            self.const.len_kill = len_kill\n",
    "            self.const.rho = rho\n",
    "            self.const.rho_grain = rho_grain\n",
    "            self.const.m_init = m_init\n",
    "            self.const.sigma = sigma\n",
    "            self.const.v_init = v_init\n",
    "            self.const.shape_factor = shape_factor\n",
    "            self.const.gamma = gamma\n",
    "            self.const.zenith_angle = zenith_angle\n",
    "            self.const.lum_eff = lum_eff\n",
    "            self.const.lum_eff_type = lum_eff_type\n",
    "            self.const.erosion_height_start = erosion_height_start\n",
    "            self.const.erosion_bins_per_10mass = erosion_bins_per_10mass\n",
    "            self.const.erosion_coeff = erosion_coeff\n",
    "            self.const.erosion_height_change = erosion_height_change\n",
    "            self.const.erosion_coeff_change = erosion_coeff_change\n",
    "            self.const.erosion_mass_index = erosion_mass_index\n",
    "            self.const.erosion_mass_min = erosion_mass_min\n",
    "            self.const.erosion_mass_max = erosion_mass_max\n",
    "            self.const.erosion_rho_change = erosion_rho_change\n",
    "            self.const.erosion_sigma_change = erosion_sigma_change\n",
    "            self.const.compressive_strength = compressive_strength\n",
    "            self.const.disruption_erosion_coeff = disruption_erosion_coeff\n",
    "            self.const.disruption_mass_grain_ratio = disruption_mass_grain_ratio\n",
    "            self.const.disruption_mass_index = disruption_mass_index\n",
    "            self.const.disruption_mass_min_ratio = disruption_mass_min_ratio\n",
    "            self.const.disruption_mass_max_ratio = disruption_mass_max_ratio\n",
    "\n",
    "    def initializeSimulation(self, all_params):\n",
    "            \"\"\" Run the simulation and show the results. \"\"\"\n",
    "            # If the fragmentation is turned on and no fragmentation data is given, notify the user\n",
    "            # if self.const.fragmentation_on and (self.fragmentation is None):\n",
    "            #     frag_error_message = QMessageBox(QMessageBox.Critical, \"Fragmentation file error\", \\\n",
    "            #         \"Fragmentation is enabled but no fragmentation file is set.\")\n",
    "            #     frag_error_message.setInformativeText(\"Either load an existing fragmentation file or create a new one.\")\n",
    "            #     frag_error_message.exec_()\n",
    "            #     return None   \n",
    "\n",
    "            # unpack all params\n",
    "            free_params, fixed_params = all_params\n",
    "            # unpack again\n",
    "            #### CHANGE THESE NEXT TWO LINES TO TEST DIFFERENT COMBINATIONS OF FREE PARAMETERS\n",
    "            m_init, frag_masses_free, frag_er_coeffs_free, frag_grain_mins_free, frag_grain_maxs_free, frag_heights_free = free_params \n",
    "            dt, P_0m, h_init, m_kill, v_kill, h_kill, len_kill, rho, rho_grain, sigma, v_init, shape_factor, gamma, zenith_angle, lum_eff, lum_eff_type, erosion_height_start, erosion_bins_per_10mass, erosion_coeff, erosion_height_change, erosion_coeff_change, erosion_mass_index, erosion_mass_min, erosion_mass_max, erosion_rho_change, erosion_sigma_change, compressive_strength, disruption_erosion_coeff, disruption_mass_grain_ratio, disruption_mass_index, disruption_mass_min_ratio, disruption_mass_max_ratio, frag_types, frag_numbers, frag_ab_coeffs, frag_gammas, frag_mis, frag_masses_fixed, frag_er_coeffs_fixed, frag_grain_mins_fixed, frag_grain_maxs_fixed, frag_heights_fixed = fixed_params\n",
    "            # load all the global parameters into the object\n",
    "            consts = dt, P_0m, h_init, m_kill, v_kill, h_kill, len_kill, rho, rho_grain, m_init, sigma, v_init, shape_factor, gamma, zenith_angle, lum_eff, lum_eff_type, erosion_height_start, erosion_bins_per_10mass, erosion_coeff, erosion_height_change, erosion_coeff_change, erosion_mass_index, erosion_mass_min, erosion_mass_max, erosion_rho_change, erosion_sigma_change, compressive_strength, disruption_erosion_coeff, disruption_mass_grain_ratio, disruption_mass_index, disruption_mass_min_ratio, disruption_mass_max_ratio\n",
    "            self.loadGlobalParameters(consts)\n",
    "            # combine free fixed fragmentation parameters\n",
    "            frag_order = np.argsort(self.fixed_frag_indices + self.free_frag_indices)\n",
    "            frag_masses = np.concatenate((frag_masses_fixed, frag_masses_free))[frag_order]\n",
    "            frag_er_coeffs = np.zeros(len(frag_masses))  # number of fragments\n",
    "            frag_er_coeffs[self.er_frag_indices] = frag_er_coeffs_free  # set all erosion fragments to their values, everything else is zero\n",
    "            frag_grain_mins = np.concatenate((frag_grain_mins_fixed, frag_grain_mins_free))[frag_order]\n",
    "            frag_grain_maxs = np.concatenate((frag_grain_maxs_fixed, frag_grain_maxs_free))[frag_order]\n",
    "            frag_heights = np.concatenate((frag_heights_fixed, frag_heights_free))[frag_order]\n",
    "\n",
    "            # print(frag_order, np.concatenate((frag_masses_fixed, frag_masses_free)), frag_masses)\n",
    "            \n",
    "            # Load fragmentation entries\n",
    "            self.fragmentation_entries = []\n",
    "            for i in range(0, len(frag_masses)):  # pick any frag entry to iterate over\n",
    "                frag_entry = gui.FragmentationEntry(frag_types[i], frag_heights[i], frag_numbers[i], frag_masses[i], \n",
    "                                                    frag_ab_coeffs[i], frag_gammas[i], frag_er_coeffs[i], frag_grain_mins[i], frag_grain_maxs[i], frag_mis[i])\n",
    "                self.fragmentation_entries.append(frag_entry)\n",
    "            # set the fragmentation entries to constants\n",
    "            self.const.fragmentation_entries = self.fragmentation_entries\n",
    "    \n",
    "            # Sort entries by height\n",
    "            self.fragmentation.sortByHeight()\n",
    "\n",
    "            # Reset the status of all fragmentations\n",
    "            self.fragmentation.resetAll()\n",
    "        \n",
    "            # fragmentation\n",
    "            self.const.fragmentation_on = True\n",
    "\n",
    "            # print(self.const.fragmentation_on)\n",
    "    \n",
    "            # Run the simulation\n",
    "            frag_main, results_list, wake_results = erosion.runSimulation(self.const, compute_wake=self.wake_on)\n",
    "            # print(results_list)\n",
    "\n",
    "            # Store simulation results\n",
    "            self.simulation_results = gui.SimulationResults(self.const, frag_main, results_list, wake_results)       "
   ]
  },
  {
   "cell_type": "code",
   "execution_count": 4,
   "id": "ab316f44-d5da-4e3b-b8cc-f180792b1529",
   "metadata": {},
   "outputs": [
    {
     "name": "stderr",
     "output_type": "stream",
     "text": [
      "/home/ichow9/Thesis/physical/../../source/WesternMeteorPyLib/wmpl/MetSim/GUI.py:1563: RuntimeWarning: invalid value encountered in log10\n",
      "  data.absolute_magnitudes = -2.5*np.log10(data.usg_intensity_data[:, 1]/248)\n",
      "/home/ichow9/Thesis/physical/../../source/WesternMeteorPyLib/wmpl/MetSim/GUI.py:95: RuntimeWarning: divide by zero encountered in log10\n",
      "  self.abs_magnitude_main = -2.5*np.log10(self.luminosity_main_arr/self.const.P_0m)\n",
      "/home/ichow9/Thesis/physical/../../source/WesternMeteorPyLib/wmpl/MetSim/GUI.py:99: RuntimeWarning: divide by zero encountered in log10\n",
      "  self.abs_magnitude_eroded = -2.5*np.log10(self.luminosity_eroded_arr/self.const.P_0m)\n"
     ]
    }
   ],
   "source": [
    "event_path = '../usg_metsim_files/2006-12-09/usg_input_dec_2006' # CHANGE\n",
    "event = event_path.rsplit('/')[2] # + '_constant_tau'  # CHANGE, add constant tau here if using a constant tau run\n",
    "\n",
    "# CHANGE\n",
    "FIXED_FRAG_INDICES = []\n",
    "FREE_FRAG_INDICES = [0, 1, 2, 3]#, 4]#, 5, 6]#, 6, 7, 8]  # fragments with free parameters\n",
    "ER_FRAG_INDICES = [0, 1, 3]# 2, 3, 4]#, 5, 6]#, 2, 3, 4]  # free fragments that have erosion coefficients (i.e. all free fragments excluding dust)\n",
    "\n",
    "metsim_obj = MetSimObj(traj_path=event_path + '.txt', \n",
    "                       const_json_file=event_path + '_sim_fit_latest.json',\n",
    "                       fixed_frag_indices = FIXED_FRAG_INDICES,\n",
    "                       free_frag_indices = FREE_FRAG_INDICES,\n",
    "                       er_frag_indices = ER_FRAG_INDICES\n",
    "                      )\n",
    "# initialize simulation, run with all parameters\n",
    "metsim_obj.initializeSimulation(metsim_obj.all_params)"
   ]
  },
  {
   "cell_type": "code",
   "execution_count": 5,
   "id": "b3e84f4d-ed91-4650-a700-a57e9e8aa6c5",
   "metadata": {
    "jupyter": {
     "source_hidden": true
    }
   },
   "outputs": [],
   "source": [
    "def flatten_list(nested_list):\n",
    "    def flatten(lst):\n",
    "        for item in lst:\n",
    "            if isinstance(item, list):\n",
    "                flatten(item)\n",
    "            else:\n",
    "                flat_list.append(item)\n",
    "\n",
    "    flat_list = []\n",
    "    flatten(nested_list)\n",
    "    return flat_list\n",
    "\n",
    "# helper function to unflatten the list\n",
    "#### CHANGE THE NUMBER OF GLOBAL/FRAGMENT PARAMETERS TO TEST DIFFERENT COMBINATIONS\n",
    "def unflatten_list(lst, num_global_params=1, num_frag_params=5, er_frag_indices=ER_FRAG_INDICES):\n",
    "    \"\"\"\n",
    "    change number of global parameters and frag parameters based on the structure of the free parameters object\n",
    "    passed into the get_lc_cost_function() function\n",
    "    \"\"\"\n",
    "    # print(lst[:num_global_params], list(zip(*[iter(lst[num_global_params:])]*(len(lst[num_global_params:])//num_frag_params))))\n",
    "    num_frag_params = max(1, num_frag_params)\n",
    "    sizes = list(np.repeat('k', num_frag_params - 1))\n",
    "    sizes.insert(0, int(num_global_params))\n",
    "    sizes.insert(2, int(len(er_frag_indices)))  # CHANGE THESE INDICES IF STRUCTURE CHANGES\n",
    "    k = (len(lst) - sum(s for s in sizes if s != 'k')) // sizes.count('k') if 'k' in sizes else 0\n",
    "    result, index = [], 0\n",
    "    for size in sizes:\n",
    "        group_size = k if size == 'k' else size\n",
    "        if group_size == 1:\n",
    "            result.append(lst[index])\n",
    "        else:\n",
    "            result.append(lst[index:index + group_size])\n",
    "        index += group_size\n",
    "    return result"
   ]
  },
  {
   "cell_type": "markdown",
   "id": "a396e6ff-aafc-4e4f-9c4a-d63d14387f57",
   "metadata": {},
   "source": [
    "Run MetSim and get all derived parameters using multiprocessing if haven't already:"
   ]
  },
  {
   "cell_type": "code",
   "execution_count": null,
   "id": "19067f78-4627-46d1-b9a5-99ae583de90f",
   "metadata": {},
   "outputs": [
    {
     "name": "stderr",
     "output_type": "stream",
     "text": [
      " 46%|██████████████████████████████████████████████████████████████████████████████                                                                                            | 11707/25510 [06:57<09:20, 24.63it/s]"
     ]
    }
   ],
   "source": [
    "def get_derived_params(sample, metsim_obj=metsim_obj):\n",
    "    \"\"\"\n",
    "    Gets the initial mass, mass percents and dynamic pressures of fragments, peak dynamic pressure, \n",
    "    and mass remaining at peak dynamic pressure for a given sample and MetSim object:\n",
    "    \"\"\"\n",
    "    free_params = unflatten_list(list(sample))\n",
    "    all_params = (free_params, metsim_obj.fixed_params)\n",
    "    # run simulation\n",
    "    metsim_obj.initializeSimulation(all_params)\n",
    "    # Get the parameters:\n",
    "    # get initial mass\n",
    "    initial_mass = metsim_obj.const.m_init\n",
    "    # fragment mass percentages and dynamic pressures\n",
    "    mass_pcts, dyn_pressures = np.array([(np.float64(entry.mass)/initial_mass, entry.dyn_pressure) for entry in metsim_obj.fragmentation_entries]).T\n",
    "    # peak dynamic pressure and mass remaining at peak dynamic pressure\n",
    "    peak_dyn_pressure = np.nanmax(metsim_obj.simulation_results.leading_frag_dyn_press_arr)\n",
    "    peak_dyn_mass = metsim_obj.simulation_results.mass_total_active_arr[np.nanargmax(metsim_obj.simulation_results.leading_frag_dyn_press_arr)]/initial_mass\n",
    "    # return all of them as tuple\n",
    "    return initial_mass, mass_pcts, dyn_pressures, peak_dyn_pressure, peak_dyn_mass\n",
    "\n",
    "# run using multiprocessing:\n",
    "pool = multiprocessing.Pool(processes=multiprocessing.cpu_count() - 1)\n",
    "# run\n",
    "derived_params = list(tqdm(pool.imap(get_derived_params, samples), total = len(samples)))\n",
    "# join and close\n",
    "pool.close()\n",
    "pool.join()\n",
    "\n",
    "# save all the derived parameters\n",
    "initial_masses, peak_dyn_pressures, peak_dyn_masses = np.zeros((3, len(samples)))\n",
    "mass_pcts, dyn_pressures = np.zeros((2, len(samples), len(FREE_FRAG_INDICES)))\n",
    "\n",
    "for i, sample in enumerate(derived_params):\n",
    "    initial_masses[i], mass_pcts[i], dyn_pressures[i], peak_dyn_pressures[i], peak_dyn_masses[i] = sample\n",
    "\n",
    "# save\n",
    "np.save(f'./derived_params/initial_masses_{event}', initial_masses)\n",
    "np.save(f'./derived_params/mass_pcts_{event}', mass_pcts)\n",
    "np.save(f'./derived_params/dyn_pressures_{event}', dyn_pressures)\n",
    "np.save(f'./derived_params/peak_dyn_pressures_{event}', peak_dyn_pressures)\n",
    "np.save(f'./derived_params/peak_dyn_masses_{event}', peak_dyn_masses)"
   ]
  },
  {
   "cell_type": "markdown",
   "id": "cb087778-69bc-444f-ac85-8bcab92d3e92",
   "metadata": {},
   "source": [
    "Load saved derived parameters:"
   ]
  },
  {
   "cell_type": "code",
   "execution_count": null,
   "id": "fc517ddc-c436-4eb1-ae03-94b9bc9a18f4",
   "metadata": {},
   "outputs": [],
   "source": [
    "initial_masses = np.load(f'./derived_params/initial_masses_{event}.npy')\n",
    "mass_pcts = np.load(f'./derived_params/mass_pcts_{event}.npy')\n",
    "dyn_pressures = np.load(f'./derived_params/dyn_pressures_{event}.npy')\n",
    "peak_dyn_pressures = np.load(f'./derived_params/peak_dyn_pressures_{event}.npy')\n",
    "peak_dyn_masses = np.load(f'./derived_params/peak_dyn_masses_{event}.npy')"
   ]
  },
  {
   "cell_type": "markdown",
   "id": "81c26dc7-db5a-4b40-b94b-c91ca773ea45",
   "metadata": {},
   "source": [
    "Plot and save:"
   ]
  },
  {
   "cell_type": "code",
   "execution_count": null,
   "id": "48e3ca9b-22eb-43fe-a712-81fa93c838c8",
   "metadata": {},
   "outputs": [],
   "source": [
    "fig, ax = plt.subplots(nrows=3, ncols=2, figsize = (16, 10), dpi=400)\n",
    "# plt.rc('font', size=20)\n",
    "# plot initial mass\n",
    "ax[0, 0].hist(initial_masses, bins='auto')\n",
    "# ax[0, 0].set_xlim(1.e6, 4.e6)\n",
    "ax[0, 0].set_xlabel('initial mass', fontsize=20)\n",
    "ax[0, 0].tick_params(axis='both', labelsize=20)\n",
    "# fragment mass percentages and dynamic pressures\n",
    "for i, frag in enumerate(mass_pcts.T):\n",
    "    ax[1, 0].hist(frag, bins='auto', label = f'frag{i + 1}', alpha=1.)\n",
    "ax[1, 0].set_xlabel('frag mass pct', fontsize=20)\n",
    "ax[1, 0].tick_params(axis='both', labelsize=20)\n",
    "# fragment dynamic pressures\n",
    "for i, frag in enumerate(dyn_pressures.T):\n",
    "    ax[2, 0].hist(frag, bins='auto', label = f'frag{i + 1}')\n",
    "ax[2, 0].set_xlabel('frag dynamic pressure', fontsize=20)\n",
    "ax[2, 0].tick_params(axis='both', labelsize=20)\n",
    "# peak dynamic pressure\n",
    "ax[0, 1].hist(np.log10(peak_dyn_pressures), bins='auto')\n",
    "ax[0, 1].set_xlabel('log10 peak dynamic pressure', fontsize=20)\n",
    "ax[0, 1].tick_params(axis='both', labelsize=20)\n",
    "# mass at peak dynamic pressure\n",
    "ax[1, 1].hist(peak_dyn_masses, bins='auto')\n",
    "ax[1, 1].set_xlabel('mass pct at peak dyn pressure', fontsize=20)\n",
    "ax[1, 1].tick_params(axis='both', labelsize=20)\n",
    "# legend\n",
    "ax[1, 0].legend(loc='upper right', fontsize=16)\n",
    "ax[2, 0].legend(loc='upper right', fontsize=16)\n",
    "# make labels bigger\n",
    "# tight layout\n",
    "plt.tight_layout()\n",
    "plt.savefig(f'./derived_params/derived_param_hists_{event}.png')"
   ]
  },
  {
   "cell_type": "markdown",
   "id": "84a230cd-4ee6-4592-b178-cf78bd531eb8",
   "metadata": {
    "jp-MarkdownHeadingCollapsed": true
   },
   "source": [
    "#### Testing:"
   ]
  },
  {
   "cell_type": "code",
   "execution_count": null,
   "id": "4c755fba-223e-410f-87fc-ca419a3e7ec1",
   "metadata": {},
   "outputs": [],
   "source": [
    "np.mean(initial_masses), np.median(initial_masses)"
   ]
  },
  {
   "cell_type": "code",
   "execution_count": 12,
   "id": "3f1d9023-e401-412c-bda3-d123a830f120",
   "metadata": {},
   "outputs": [
    {
     "data": {
      "text/plain": [
       "(14638659.37640018, 4883403.152849406)"
      ]
     },
     "execution_count": 12,
     "metadata": {},
     "output_type": "execute_result"
    }
   ],
   "source": [
    "np.mean(peak_dyn_pressures), np.median(peak_dyn_pressures)"
   ]
  },
  {
   "cell_type": "code",
   "execution_count": 13,
   "id": "81e3763e-9d2a-46c3-9ae7-9e18c726d891",
   "metadata": {},
   "outputs": [
    {
     "data": {
      "text/plain": [
       "(30410.843328271425, 413.2479736275125)"
      ]
     },
     "execution_count": 13,
     "metadata": {},
     "output_type": "execute_result"
    }
   ],
   "source": [
    "np.mean(peak_dyn_masses), np.median(peak_dyn_masses)"
   ]
  },
  {
   "cell_type": "code",
   "execution_count": 14,
   "id": "79738022-83ab-44b7-98ae-347a35bed94a",
   "metadata": {},
   "outputs": [],
   "source": [
    "event = event_path.rsplit('/')[2]\n",
    "\n",
    "initial_masses = np.load(f'./derived_params/initial_masses_{event}.npy')\n",
    "mass_pcts = np.load(f'./derived_params/mass_pcts_{event}.npy')\n",
    "dyn_pressures = np.load(f'./derived_params/dyn_pressures_{event}.npy')\n",
    "peak_dyn_pressures = np.load(f'./derived_params/peak_dyn_pressures_{event}.npy')\n",
    "peak_dyn_masses = np.load(f'./derived_params/peak_dyn_masses_{event}.npy')"
   ]
  },
  {
   "cell_type": "code",
   "execution_count": 15,
   "id": "79dc26ed-2100-45a7-b585-c64e4a70bda9",
   "metadata": {},
   "outputs": [
    {
     "data": {
      "text/plain": [
       "(2433006.3510087514, 2311431.626225291)"
      ]
     },
     "execution_count": 15,
     "metadata": {},
     "output_type": "execute_result"
    }
   ],
   "source": [
    "np.mean(initial_masses), np.median(initial_masses)"
   ]
  },
  {
   "cell_type": "code",
   "execution_count": 16,
   "id": "269619af-e8fc-4b14-8d32-7b40fb163d1d",
   "metadata": {},
   "outputs": [
    {
     "data": {
      "text/plain": [
       "(34369986.25620599, 31068022.776032448)"
      ]
     },
     "execution_count": 16,
     "metadata": {},
     "output_type": "execute_result"
    }
   ],
   "source": [
    "np.mean(peak_dyn_pressures), np.median(peak_dyn_pressures)"
   ]
  },
  {
   "cell_type": "code",
   "execution_count": 17,
   "id": "c02c17c2-1dc6-4331-847e-9082747f0f88",
   "metadata": {},
   "outputs": [
    {
     "data": {
      "text/plain": [
       "(94892.79087310995, 28195.365243492233)"
      ]
     },
     "execution_count": 17,
     "metadata": {},
     "output_type": "execute_result"
    }
   ],
   "source": [
    "np.mean(peak_dyn_masses), np.median(peak_dyn_masses)"
   ]
  },
  {
   "cell_type": "code",
   "execution_count": null,
   "id": "282c13c9-6be9-4751-9acc-df0cf9fb9ee7",
   "metadata": {},
   "outputs": [],
   "source": []
  }
 ],
 "metadata": {
  "kernelspec": {
   "display_name": "Python 3 (ipykernel)",
   "language": "python",
   "name": "python3"
  },
  "language_info": {
   "codemirror_mode": {
    "name": "ipython",
    "version": 3
   },
   "file_extension": ".py",
   "mimetype": "text/x-python",
   "name": "python",
   "nbconvert_exporter": "python",
   "pygments_lexer": "ipython3",
   "version": "3.10.15"
  }
 },
 "nbformat": 4,
 "nbformat_minor": 5
}
