{
 "cells": [
  {
   "cell_type": "code",
   "execution_count": 1,
   "id": "21fdbff0-60f0-4af4-a602-1ead544f7909",
   "metadata": {},
   "outputs": [],
   "source": [
    "import numpy as np\n",
    "import pandas as pd\n",
    "import sys\n",
    "import json\n",
    "import os\n",
    "import copy\n",
    "import matplotlib.pyplot as plt"
   ]
  },
  {
   "cell_type": "markdown",
   "id": "885fe6f0-35f7-4afc-b904-e2144eac389b",
   "metadata": {},
   "source": [
    "Make `WMPL` directory visible:"
   ]
  },
  {
   "cell_type": "code",
   "execution_count": 2,
   "id": "fe6406fd-08fe-417b-a641-b49809b493cf",
   "metadata": {},
   "outputs": [],
   "source": [
    "sys.path.append('../../')"
   ]
  },
  {
   "cell_type": "markdown",
   "id": "ca075672-9085-4975-b81c-dc4a6a243d4e",
   "metadata": {},
   "source": [
    "Import WMPL files:"
   ]
  },
  {
   "cell_type": "code",
   "execution_count": 3,
   "id": "0c521053-823a-4a65-97d0-5da495985d60",
   "metadata": {},
   "outputs": [],
   "source": [
    "import source.WesternMeteorPyLib.wmpl.MetSim.MetSim as metsim\n",
    "import source.WesternMeteorPyLib.wmpl.MetSim.FitSim as fitsim\n",
    "import source.WesternMeteorPyLib.wmpl.MetSim.GUI as gui\n",
    "import source.WesternMeteorPyLib.wmpl.MetSim.MetSimErosion as erosion"
   ]
  },
  {
   "cell_type": "code",
   "execution_count": 4,
   "id": "1c3f4c62-6cfb-4693-9518-f16974c2c0f0",
   "metadata": {},
   "outputs": [],
   "source": [
    "class MetSimObj():\n",
    "    def __init__(self, traj_path, const_json_file):\n",
    "        # Init an axis for the electron line density\n",
    "        # self.electronDensityPlot = self.magnitudePlot.canvas.axes.twiny()\n",
    "        self.electron_density_plot_show = False\n",
    "        ### Wake parameters ###\n",
    "        self.wake_on = False\n",
    "        self.wake_show_mass_bins = False\n",
    "        self.wake_ht_current_index = 0\n",
    "        self.current_wake_container = None\n",
    "        # if self.wake_heights is not None:\n",
    "        #     self.wake_plot_ht, self.current_wake_container = self.wake_heights[self.wake_ht_current_index]\n",
    "        # else:\n",
    "        #     self.wake_plot_ht = self.traj.rbeg_ele # m\n",
    "        self.wake_normalization_method = 'area'\n",
    "        self.wake_align_method = 'none'\n",
    "        self.magnitudePlotWakeLines = None\n",
    "        self.magnitudePlotWakeLineLabels = None\n",
    "        self.velocityPlotWakeLines = None\n",
    "        self.lagPlotWakeLines = None\n",
    "        self.usg_data, self.traj = gui.loadUSGInputFile(*os.path.split(traj_path))\n",
    "        self.dir_path = os.path.dirname(traj_path)\n",
    "        # Disable different density after erosion change\n",
    "        self.erosion_different_rho = False\n",
    "        # Disable different ablation coeff after erosion change\n",
    "        self.erosion_different_sigma = False\n",
    "        # Disable different erosion coeff after disruption at the beginning\n",
    "        self.disruption_different_erosion_coeff = False\n",
    "        # Fragmentation object\n",
    "        self.fragmentation = None\n",
    "        self.simulation_results = None\n",
    "        self.const_prev = None\n",
    "        self.simulation_results_prev = None\n",
    "        self.const = erosion.Constants()\n",
    "        self.const.P_0m = self.usg_data.P_0m_bolo\n",
    "        # If a JSON file with constant was given, load them instead of initing from scratch\n",
    "        if const_json_file is not None:\n",
    "            # Load the constants from the JSON files\n",
    "            self.const, const_json = gui.loadConstants(const_json_file)\n",
    "            # Init the fragmentation container for the GUI\n",
    "            if len(self.const.fragmentation_entries):\n",
    "                self.fragmentation = gui.FragmentationContainer(self, \\\n",
    "                    os.path.join(self.dir_path, self.const.fragmentation_file_name))\n",
    "                self.fragmentation.fragmentation_entries = self.const.fragmentation_entries\n",
    "                # Overwrite the existing fragmentatinon file\n",
    "                # self.fragmentation.writeFragmentationFile()\n",
    "            # Check if the disruption erosion coefficient is different than the main erosion coeff\n",
    "            if const_json['disruption_erosion_coeff'] != const_json['erosion_coeff']:\n",
    "                self.disruption_different_erosion_coeff = True\n",
    "            # Check if the density is changed after Hchange\n",
    "            if 'erosion_rho_change' in const_json:\n",
    "                if const_json['erosion_rho_change'] != const_json['rho']:\n",
    "                    self.erosion_different_rho = True\n",
    "            # Check if the ablation coeff is changed after Hchange\n",
    "            if 'erosion_sigma_change' in const_json:\n",
    "                if const_json['erosion_sigma_change'] != const_json['sigma']:\n",
    "                    self.erosion_different_sigma = True\n",
    "        else:\n",
    "            raise('no json file!')\n",
    "\n",
    "        ### Calculate atmosphere density coeffs (down to the bottom observed height, limit to 15 km) ###\n",
    "\n",
    "        # Determine the height range for fitting the density\n",
    "        self.dens_fit_ht_beg = self.const.h_init\n",
    "        self.dens_fit_ht_end = self.traj.rend_ele - 5000\n",
    "        if self.dens_fit_ht_end < 14000:\n",
    "            self.dens_fit_ht_end = 14000\n",
    "\n",
    "        # Fit the polynomail describing the density\n",
    "        dens_co = gui.MetSimGUI.fitAtmosphereDensity(self, self.dens_fit_ht_beg, self.dens_fit_ht_end)\n",
    "        self.const.dens_co = dens_co\n",
    "\n",
    "        # run the simulation\n",
    "        self.runSimulationGUI(const_json)\n",
    "\n",
    "\n",
    "    def runSimulationGUI(self, const_json):\n",
    "            \"\"\" Run the simulation and show the results. \"\"\"\n",
    "            # If the fragmentation is turned on and no fragmentation data is given, notify the user\n",
    "            if self.const.fragmentation_on and (self.fragmentation is None):\n",
    "                frag_error_message = QMessageBox(QMessageBox.Critical, \"Fragmentation file error\", \\\n",
    "                    \"Fragmentation is enabled but no fragmentation file is set.\")\n",
    "                frag_error_message.setInformativeText(\"Either load an existing fragmentation file or create a new one.\")\n",
    "                frag_error_message.exec_()\n",
    "                return None   \n",
    "            # Load fragmentation entries if fragmentation is enabled\n",
    "            if self.const.fragmentation_on:\n",
    "    \n",
    "                # Load the file\n",
    "                self.fragmentation.loadFragmentationFile()\n",
    "    \n",
    "                # Sort entries by height\n",
    "                self.fragmentation.sortByHeight()\n",
    "    \n",
    "                # Reset the status of all fragmentations\n",
    "                self.fragmentation.resetAll()\n",
    "    \n",
    "                # Write the fragmentation file\n",
    "                # self.fragmentation.writeFragmentationFile()\n",
    "            # Store previous run results\n",
    "            # self.const_prev = copy.deepcopy(self.const)\n",
    "            # self.simulation_results_prev = copy.deepcopy(self.simulation_results)\n",
    "\n",
    "            #### TODO: replace readinputboxes with reading the values from the json\n",
    "\n",
    "            self.const.dt = const_json.get('dt')\n",
    "            self.const.P_0m = const_json.get('P_0m')\n",
    "            self.const.h_init = const_json.get('h_init')\n",
    "            self.const.m_kill = const_json.get('m_kill')\n",
    "            self.const.v_kill = const_json.get('v_kill')\n",
    "            self.const.h_kill = const_json.get('h_kill')\n",
    "            self.const.len_kill = const_json.get('len_kill')\n",
    "            self.const.rho = const_json.get('rho')\n",
    "            self.const.rho_grain = const_json.get('rho_grain')\n",
    "            self.const.m_init = const_json.get('m_init')\n",
    "            self.const.sigma = const_json.get('sigma')\n",
    "            self.const.v_init = const_json.get('v_init')\n",
    "            self.const.shape_factor = const_json.get('shape_factor')\n",
    "            self.const.gamma = const_json.get('gamma')\n",
    "            self.const.zenith_angle = const_json.get('zenith_angle')\n",
    "            self.const.lum_eff = const_json.get('lum_eff')\n",
    "            self.const.lum_eff_type = const_json.get('lum_eff_type')\n",
    "            self.const.erosion_height_start = const_json.get('erosion_height_start')\n",
    "            self.const.erosion_bins_per_10mass = const_json.get('erosion_bins_per_10mass')\n",
    "            self.const.erosion_coeff = const_json.get('erosion_coeff')\n",
    "            self.const.erosion_height_change = const_json.get('erosion_height_change')\n",
    "            self.const.erosion_coeff_change = const_json.get('erosion_coeff_change')\n",
    "            self.const.erosion_mass_index = const_json.get('erosion_mass_index')\n",
    "            self.const.erosion_mass_min = const_json.get('erosion_mass_min')\n",
    "            self.const.erosion_mass_max = const_json.get('erosion_mass_max')\n",
    "            self.const.erosion_rho_change = const_json.get('rho')\n",
    "            self.const.erosion_sigma_change = const_json.get('sigma')\n",
    "            self.const.compressive_strength = const_json.get('compressive_strength')\n",
    "            self.const.disruption_erosion_coeff = const_json.get('erosion_coeff')\n",
    "            self.const.disruption_mass_grain_ratio = const_json.get('disruption_mass_grain_ratio')\n",
    "            self.const.disruption_mass_index = const_json.get('disruption_mass_index')\n",
    "            self.const.disruption_mass_min_ratio = const_json.get('disruption_mass_min_ratio')\n",
    "            self.const.disruption_mass_max_ratio = const_json.get('disruption_mass_max_ratio')\n",
    "            # fragmentation\n",
    "            self.const.fragmentation_on = const_json.get('fragmentation_on')\n",
    "    \n",
    "            # # Disable the simulation button (have to force update by calling \"repaint\")\n",
    "            # self.runSimButton.setStyleSheet(\"background-color: red\")\n",
    "            # self.runSimButton.setDisabled(True)\n",
    "            # self.repaint()\n",
    "            # print('Running simulation...')\n",
    "            # t1 = time.time()\n",
    "    \n",
    "            # Run the simulation\n",
    "            frag_main, results_list, wake_results = erosion.runSimulation(self.const, compute_wake=self.wake_on)\n",
    "\n",
    "            # Store simulation results\n",
    "            self.simulation_results = gui.SimulationResults(self.const, frag_main, results_list, wake_results)\n",
    "    \n",
    "            # # Save simulated parametrs to file\n",
    "            # self.simulation_results.writeCSV(self.dir_path, SIM_RESULTS_CSV)\n",
    "            # print(\"Saved simulation results to:\", os.path.join(self.dir_path, SIM_RESULTS_CSV))\n",
    "    \n",
    "            # # Toggle lum eff button to only be available if lum eff was computed\n",
    "            # self.plotLumEffButton.setDisabled(not self.const.fragmentation_show_individual_lcs)\n",
    "    \n",
    "            # # Write results in the fragmentation file\n",
    "            # if self.const.fragmentation_on:\n",
    "            #     self.fragmentation.writeFragmentationFile()\n",
    "    \n",
    "            # # Update the plots\n",
    "            # self.showCurrentResults()\n",
    "    \n",
    "            # # Save the latest run parameters\n",
    "            # self.saveFitParameters(False, suffix=\"_latest\")\n",
    "    \n",
    "            # # Enable the simulation button\n",
    "            # self.runSimButton.setDisabled(False)\n",
    "            # self.runSimButton.setStyleSheet(\"background-color: #b1eea6\")"
   ]
  },
  {
   "cell_type": "markdown",
   "id": "7e464e84-5ada-4cab-bb54-41d6de7d00f3",
   "metadata": {},
   "source": [
    "Test with 1999 event:"
   ]
  },
  {
   "cell_type": "code",
   "execution_count": 5,
   "id": "f0419014-bad4-4c19-88ef-fba92567369f",
   "metadata": {},
   "outputs": [
    {
     "name": "stderr",
     "output_type": "stream",
     "text": [
      "/home/chowi/Thesis/physical/../../source/WesternMeteorPyLib/wmpl/MetSim/GUI.py:1559: RuntimeWarning: invalid value encountered in log10\n",
      "  data.absolute_magnitudes = -2.5*np.log10(data.usg_intensity_data[:, 1]/248)\n",
      "/home/chowi/Thesis/physical/../../source/WesternMeteorPyLib/wmpl/MetSim/GUI.py:95: RuntimeWarning: divide by zero encountered in log10\n",
      "  self.abs_magnitude_main = -2.5*np.log10(self.luminosity_main_arr/self.const.P_0m)\n",
      "/home/chowi/Thesis/physical/../../source/WesternMeteorPyLib/wmpl/MetSim/GUI.py:99: RuntimeWarning: divide by zero encountered in log10\n",
      "  self.abs_magnitude_eroded = -2.5*np.log10(self.luminosity_eroded_arr/self.const.P_0m)\n"
     ]
    }
   ],
   "source": [
    "metsim_obj = MetSimObj(traj_path='../usg_metsim_files/1999-01-14/usg_input_jan_1999.txt', \n",
    "                       const_json_file='../usg_metsim_files/1999-01-14/usg_input_jan_1999_sim_fit.json')"
   ]
  },
  {
   "cell_type": "code",
   "execution_count": 6,
   "id": "88019a79-f964-427d-a91a-59651ad49b31",
   "metadata": {},
   "outputs": [],
   "source": [
    "obs_data, obs_traj = gui.loadUSGInputFile('../usg_metsim_files/1999-01-14/', 'usg_input_jan_1999.txt')\n"
   ]
  },
  {
   "cell_type": "code",
   "execution_count": 7,
   "id": "27d01c8f-5768-4078-bc8a-2894d02f7543",
   "metadata": {},
   "outputs": [
    {
     "data": {
      "text/plain": [
       "<matplotlib.legend.Legend at 0x7f552c0451f0>"
      ]
     },
     "execution_count": 7,
     "metadata": {},
     "output_type": "execute_result"
    },
    {
     "data": {
      "image/png": "[encoded data removed]",
      "text/plain": [
       "<Figure size 1200x800 with 1 Axes>"
      ]
     },
     "metadata": {},
     "output_type": "display_data"
    }
   ],
   "source": [
    "plt.figure(figsize = (12, 8))\n",
    "plt.plot(metsim_obj.usg_data.time_data + 11.9, metsim_obj.usg_data.absolute_magnitudes, label = 'observed')\n",
    "plt.plot(metsim_obj.simulation_results.time_arr, metsim_obj.simulation_results.abs_magnitude, label = 'metsim modelled')\n",
    "plt.legend()"
   ]
  },
  {
   "cell_type": "code",
   "execution_count": 8,
   "id": "c152462c-d59d-4728-ab6f-ea461007d836",
   "metadata": {},
   "outputs": [],
   "source": [
    "# gui.MetSimGUI.loadFragmentationFile()\n",
    "\n",
    "# self.fragmentation=None"
   ]
  },
  {
   "cell_type": "code",
   "execution_count": 9,
   "id": "54b7ccc8-b7bc-43d8-a61b-1db6bd3939a2",
   "metadata": {},
   "outputs": [],
   "source": [
    "# gui.FragmentationContainer(gui.MetSimGUI('../usg_metsim_files/1999-01-14/usg_input_jan_1999.txt', usg_input=True), \n",
    "#                            '../usg_metsim_files/1999-01-14/metsim_fragmentation.txt')"
   ]
  },
  {
   "cell_type": "code",
   "execution_count": 10,
   "id": "b5ed77c9-be11-4214-ab13-d5e1f001f070",
   "metadata": {},
   "outputs": [],
   "source": [
    "# gui.MetSimGUI('../usg_metsim_files/1999-01-14/usg_input_jan_1999.txt', usg_input=True)"
   ]
  }
 ],
 "metadata": {
  "kernelspec": {
   "display_name": "Python 3 (ipykernel)",
   "language": "python",
   "name": "python3"
  },
  "language_info": {
   "codemirror_mode": {
    "name": "ipython",
    "version": 3
   },
   "file_extension": ".py",
   "mimetype": "text/x-python",
   "name": "python",
   "nbconvert_exporter": "python",
   "pygments_lexer": "ipython3",
   "version": "3.8.18"
  }
 },
 "nbformat": 4,
 "nbformat_minor": 5
}
