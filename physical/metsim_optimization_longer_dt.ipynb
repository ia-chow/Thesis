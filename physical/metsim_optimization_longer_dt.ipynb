{
 "cells": [
  {
   "cell_type": "code",
   "execution_count": 1,
   "id": "21fdbff0-60f0-4af4-a602-1ead544f7909",
   "metadata": {},
   "outputs": [],
   "source": [
    "import numpy as np\n",
    "import pandas as pd\n",
    "import sys\n",
    "import json\n",
    "import os\n",
    "import copy\n",
    "import matplotlib.pyplot as plt\n",
    "import scipy"
   ]
  },
  {
   "cell_type": "markdown",
   "id": "885fe6f0-35f7-4afc-b904-e2144eac389b",
   "metadata": {},
   "source": [
    "Make `WMPL` directory visible:"
   ]
  },
  {
   "cell_type": "code",
   "execution_count": 2,
   "id": "fe6406fd-08fe-417b-a641-b49809b493cf",
   "metadata": {},
   "outputs": [],
   "source": [
    "sys.path.append('../../')"
   ]
  },
  {
   "cell_type": "markdown",
   "id": "ca075672-9085-4975-b81c-dc4a6a243d4e",
   "metadata": {},
   "source": [
    "Import WMPL files:"
   ]
  },
  {
   "cell_type": "code",
   "execution_count": 3,
   "id": "0c521053-823a-4a65-97d0-5da495985d60",
   "metadata": {},
   "outputs": [],
   "source": [
    "import source.WesternMeteorPyLib.wmpl.MetSim.MetSim as metsim\n",
    "import source.WesternMeteorPyLib.wmpl.MetSim.FitSim as fitsim\n",
    "import source.WesternMeteorPyLib.wmpl.MetSim.GUI as gui\n",
    "import source.WesternMeteorPyLib.wmpl.MetSim.MetSimErosion as erosion"
   ]
  },
  {
   "cell_type": "markdown",
   "id": "3627ba89-9fc1-4933-acf4-457c3f9b8f21",
   "metadata": {},
   "source": [
    "Old `MetSimObj_old()` class that works for processing data using the `wmpl` functions:"
   ]
  },
  {
   "cell_type": "code",
   "execution_count": 4,
   "id": "c4653e47-2442-4a78-9d7b-9bb3474208e6",
   "metadata": {},
   "outputs": [],
   "source": [
    "class MetSimObj_old():\n",
    "    def __init__(self, traj_path, const_json_file):\n",
    "        # Init an axis for the electron line density\n",
    "        # self.electronDensityPlot = self.magnitudePlot.canvas.axes.twiny()\n",
    "        self.electron_density_plot_show = False\n",
    "        ### Wake parameters ###\n",
    "        self.wake_on = False\n",
    "        self.wake_show_mass_bins = False\n",
    "        self.wake_ht_current_index = 0\n",
    "        self.current_wake_container = None\n",
    "        # if self.wake_heights is not None:\n",
    "        #     self.wake_plot_ht, self.current_wake_container = self.wake_heights[self.wake_ht_current_index]\n",
    "        # else:\n",
    "        #     self.wake_plot_ht = self.traj.rbeg_ele # m\n",
    "        self.wake_normalization_method = 'area'\n",
    "        self.wake_align_method = 'none'\n",
    "        self.magnitudePlotWakeLines = None\n",
    "        self.magnitudePlotWakeLineLabels = None\n",
    "        self.velocityPlotWakeLines = None\n",
    "        self.lagPlotWakeLines = None\n",
    "        self.usg_data, self.traj = gui.loadUSGInputFile(*os.path.split(traj_path))\n",
    "        self.dir_path = os.path.dirname(traj_path)\n",
    "        # Disable different density after erosion change\n",
    "        self.erosion_different_rho = False\n",
    "        # Disable different ablation coeff after erosion change\n",
    "        self.erosion_different_sigma = False\n",
    "        # Disable different erosion coeff after disruption at the beginning\n",
    "        self.disruption_different_erosion_coeff = False\n",
    "        # Fragmentation object\n",
    "        self.fragmentation = None\n",
    "        self.simulation_results = None\n",
    "        self.const_prev = None\n",
    "        self.simulation_results_prev = None\n",
    "        self.const = erosion.Constants()\n",
    "        self.const.P_0m = self.usg_data.P_0m_bolo\n",
    "        # If a JSON file with constant was given, load them instead of initing from scratch\n",
    "        if const_json_file is not None:\n",
    "            # Load the constants from the JSON files\n",
    "            self.const, const_json = gui.loadConstants(const_json_file)\n",
    "            # Init the fragmentation container for the GUI\n",
    "            if len(self.const.fragmentation_entries):\n",
    "                self.fragmentation = gui.FragmentationContainer(self, \\\n",
    "                    os.path.join(self.dir_path, self.const.fragmentation_file_name))\n",
    "                self.fragmentation.fragmentation_entries = self.const.fragmentation_entries\n",
    "                # Overwrite the existing fragmentatinon file\n",
    "                # self.fragmentation.writeFragmentationFile()\n",
    "            # Check if the disruption erosion coefficient is different than the main erosion coeff\n",
    "            if const_json['disruption_erosion_coeff'] != const_json['erosion_coeff']:\n",
    "                self.disruption_different_erosion_coeff = True\n",
    "            # Check if the density is changed after Hchange\n",
    "            if 'erosion_rho_change' in const_json:\n",
    "                if const_json['erosion_rho_change'] != const_json['rho']:\n",
    "                    self.erosion_different_rho = True\n",
    "            # Check if the ablation coeff is changed after Hchange\n",
    "            if 'erosion_sigma_change' in const_json:\n",
    "                if const_json['erosion_sigma_change'] != const_json['sigma']:\n",
    "                    self.erosion_different_sigma = True\n",
    "        else:\n",
    "            raise('no json file!')\n",
    "\n",
    "        ### Calculate atmosphere density coeffs (down to the bottom observed height, limit to 15 km) ###\n",
    "\n",
    "        # Determine the height range for fitting the density\n",
    "        self.dens_fit_ht_beg = self.const.h_init\n",
    "        self.dens_fit_ht_end = self.traj.rend_ele - 5000\n",
    "        if self.dens_fit_ht_end < 14000:\n",
    "            self.dens_fit_ht_end = 14000\n",
    "\n",
    "        # Fit the polynomail describing the density\n",
    "        dens_co = gui.MetSimGUI.fitAtmosphereDensity(self, self.dens_fit_ht_beg, self.dens_fit_ht_end)\n",
    "        self.const.dens_co = dens_co\n",
    "\n",
    "        # run the simulation\n",
    "        self.runSimulationGUI(const_json)\n",
    "\n",
    "\n",
    "    def runSimulationGUI(self, const_json):\n",
    "            \"\"\" Run the simulation and show the results. \"\"\"\n",
    "            # If the fragmentation is turned on and no fragmentation data is given, notify the user\n",
    "            if self.const.fragmentation_on and (self.fragmentation is None):\n",
    "                frag_error_message = QMessageBox(QMessageBox.Critical, \"Fragmentation file error\", \\\n",
    "                    \"Fragmentation is enabled but no fragmentation file is set.\")\n",
    "                frag_error_message.setInformativeText(\"Either load an existing fragmentation file or create a new one.\")\n",
    "                frag_error_message.exec_()\n",
    "                return None   \n",
    "            # Load fragmentation entries if fragmentation is enabled\n",
    "            if self.const.fragmentation_on:\n",
    "    \n",
    "                # Load the file\n",
    "                self.fragmentation.loadFragmentationFile()\n",
    "    \n",
    "                # Sort entries by height\n",
    "                self.fragmentation.sortByHeight()\n",
    "    \n",
    "                # Reset the status of all fragmentations\n",
    "                self.fragmentation.resetAll()\n",
    "    \n",
    "                # Write the fragmentation file\n",
    "                # self.fragmentation.writeFragmentationFile()\n",
    "            # Store previous run results\n",
    "            # self.const_prev = copy.deepcopy(self.const)\n",
    "            # self.simulation_results_prev = copy.deepcopy(self.simulation_results)\n",
    "\n",
    "            #### TODO: replace readinputboxes with reading the values from the json\n",
    "\n",
    "            self.const.dt = const_json.get('dt')\n",
    "            self.const.P_0m = const_json.get('P_0m')\n",
    "            self.const.h_init = const_json.get('h_init')\n",
    "            self.const.m_kill = const_json.get('m_kill')\n",
    "            self.const.v_kill = const_json.get('v_kill')\n",
    "            self.const.h_kill = const_json.get('h_kill')\n",
    "            self.const.len_kill = const_json.get('len_kill')\n",
    "            self.const.rho = const_json.get('rho')\n",
    "            self.const.rho_grain = const_json.get('rho_grain')\n",
    "            self.const.m_init = const_json.get('m_init')\n",
    "            self.const.sigma = const_json.get('sigma')\n",
    "            self.const.v_init = const_json.get('v_init')\n",
    "            self.const.shape_factor = const_json.get('shape_factor')\n",
    "            self.const.gamma = const_json.get('gamma')\n",
    "            self.const.zenith_angle = const_json.get('zenith_angle')\n",
    "            self.const.lum_eff = const_json.get('lum_eff')\n",
    "            self.const.lum_eff_type = const_json.get('lum_eff_type')\n",
    "            self.const.erosion_height_start = const_json.get('erosion_height_start')\n",
    "            self.const.erosion_bins_per_10mass = const_json.get('erosion_bins_per_10mass')\n",
    "            self.const.erosion_coeff = const_json.get('erosion_coeff')\n",
    "            self.const.erosion_height_change = const_json.get('erosion_height_change')\n",
    "            self.const.erosion_coeff_change = const_json.get('erosion_coeff_change')\n",
    "            self.const.erosion_mass_index = const_json.get('erosion_mass_index')\n",
    "            self.const.erosion_mass_min = const_json.get('erosion_mass_min')\n",
    "            self.const.erosion_mass_max = const_json.get('erosion_mass_max')\n",
    "            self.const.erosion_rho_change = const_json.get('rho')\n",
    "            self.const.erosion_sigma_change = const_json.get('sigma')\n",
    "            self.const.compressive_strength = const_json.get('compressive_strength')\n",
    "            self.const.disruption_erosion_coeff = const_json.get('erosion_coeff')\n",
    "            self.const.disruption_mass_grain_ratio = const_json.get('disruption_mass_grain_ratio')\n",
    "            self.const.disruption_mass_index = const_json.get('disruption_mass_index')\n",
    "            self.const.disruption_mass_min_ratio = const_json.get('disruption_mass_min_ratio')\n",
    "            self.const.disruption_mass_max_ratio = const_json.get('disruption_mass_max_ratio')\n",
    "            # fragmentation\n",
    "            self.const.fragmentation_on = const_json.get('fragmentation_on')\n",
    "    \n",
    "            # # Disable the simulation button (have to force update by calling \"repaint\")\n",
    "            # self.runSimButton.setStyleSheet(\"background-color: red\")\n",
    "            # self.runSimButton.setDisabled(True)\n",
    "            # self.repaint()\n",
    "            # print('Running simulation...')\n",
    "            # t1 = time.time()\n",
    "    \n",
    "            # Run the simulation\n",
    "            frag_main, results_list, wake_results = erosion.runSimulation(self.const, compute_wake=self.wake_on)\n",
    "\n",
    "            # print(self.const.fragmentation_on)\n",
    "\n",
    "            # Store simulation results\n",
    "            self.simulation_results = gui.SimulationResults(self.const, frag_main, results_list, wake_results)\n",
    "    \n",
    "            # # Save simulated parametrs to file\n",
    "            # self.simulation_results.writeCSV(self.dir_path, SIM_RESULTS_CSV)\n",
    "            # print(\"Saved simulation results to:\", os.path.join(self.dir_path, SIM_RESULTS_CSV))\n",
    "    \n",
    "            # # Toggle lum eff button to only be available if lum eff was computed\n",
    "            # self.plotLumEffButton.setDisabled(not self.const.fragmentation_show_individual_lcs)\n",
    "    \n",
    "            # # Write results in the fragmentation file\n",
    "            # if self.const.fragmentation_on:\n",
    "            #     self.fragmentation.writeFragmentationFile()\n",
    "    \n",
    "            # # Update the plots\n",
    "            # self.showCurrentResults()\n",
    "    \n",
    "            # # Save the latest run parameters\n",
    "            # self.saveFitParameters(False, suffix=\"_latest\")\n",
    "    \n",
    "            # # Enable the simulation button\n",
    "            # self.runSimButton.setDisabled(False)\n",
    "            # self.runSimButton.setStyleSheet(\"background-color: #b1eea6\")"
   ]
  },
  {
   "cell_type": "markdown",
   "id": "72670f9e-b782-45db-aaa1-6c4319b44d0a",
   "metadata": {},
   "source": [
    "Modified version to run with the optimization routine:"
   ]
  },
  {
   "cell_type": "code",
   "execution_count": 5,
   "id": "9ae450a2-8934-4606-b0b0-cb54ab147538",
   "metadata": {},
   "outputs": [],
   "source": [
    "class MetSimObj():\n",
    "    def __init__(self, traj_path, const_json_file):\n",
    "        # Init an axis for the electron line density\n",
    "        # self.electronDensityPlot = self.magnitudePlot.canvas.axes.twiny()\n",
    "        self.electron_density_plot_show = False\n",
    "        ### Wake parameters ###\n",
    "        self.wake_on = False\n",
    "        self.wake_show_mass_bins = False\n",
    "        self.wake_ht_current_index = 0\n",
    "        self.current_wake_container = None\n",
    "        # if self.wake_heights is not None:\n",
    "        #     self.wake_plot_ht, self.current_wake_container = self.wake_heights[self.wake_ht_current_index]\n",
    "        # else:\n",
    "        #     self.wake_plot_ht = self.traj.rbeg_ele # m\n",
    "        self.wake_normalization_method = 'area'\n",
    "        self.wake_align_method = 'none'\n",
    "        self.magnitudePlotWakeLines = None\n",
    "        self.magnitudePlotWakeLineLabels = None\n",
    "        self.velocityPlotWakeLines = None\n",
    "        self.lagPlotWakeLines = None\n",
    "        self.usg_data, self.traj = gui.loadUSGInputFile(*os.path.split(traj_path))\n",
    "        self.dir_path = os.path.dirname(traj_path)\n",
    "        # Disable different density after erosion change\n",
    "        self.erosion_different_rho = False\n",
    "        # Disable different ablation coeff after erosion change\n",
    "        self.erosion_different_sigma = False\n",
    "        # Disable different erosion coeff after disruption at the beginning\n",
    "        self.disruption_different_erosion_coeff = False\n",
    "        # Fragmentation object\n",
    "        self.fragmentation = None\n",
    "        self.simulation_results = None\n",
    "        self.const_prev = None\n",
    "        self.simulation_results_prev = None\n",
    "        self.const = erosion.Constants()  # initialize this, these will be replaced later\n",
    "        self.const.P_0m = self.usg_data.P_0m_bolo\n",
    "        # If a JSON file with constant was given, load them instead of initing from scratch\n",
    "        if const_json_file is not None:\n",
    "            # Load the constants from the JSON files\n",
    "            self.const, const_json = gui.loadConstants(const_json_file)\n",
    "            # Init the fragmentation container for the GUI\n",
    "            if len(self.const.fragmentation_entries):\n",
    "                self.fragmentation = gui.FragmentationContainer(self, \\\n",
    "                    os.path.join(self.dir_path, self.const.fragmentation_file_name))\n",
    "                self.fragmentation.fragmentation_entries = self.const.fragmentation_entries\n",
    "                # Overwrite the existing fragmentatinon file\n",
    "                # self.fragmentation.writeFragmentationFile()\n",
    "            # Check if the disruption erosion coefficient is different than the main erosion coeff\n",
    "            if const_json['disruption_erosion_coeff'] != const_json['erosion_coeff']:\n",
    "                self.disruption_different_erosion_coeff = True\n",
    "            # Check if the density is changed after Hchange\n",
    "            if 'erosion_rho_change' in const_json:\n",
    "                if const_json['erosion_rho_change'] != const_json['rho']:\n",
    "                    self.erosion_different_rho = True\n",
    "            # Check if the ablation coeff is changed after Hchange\n",
    "            if 'erosion_sigma_change' in const_json:\n",
    "                if const_json['erosion_sigma_change'] != const_json['sigma']:\n",
    "                    self.erosion_different_sigma = True\n",
    "        else:\n",
    "            raise('no json file!')\n",
    "\n",
    "        ### Calculate atmosphere density coeffs (down to the bottom observed height, limit to 15 km) ###\n",
    "\n",
    "        # Determine the height range for fitting the density\n",
    "        self.dens_fit_ht_beg = self.const.h_init\n",
    "        self.dens_fit_ht_end = self.traj.rend_ele - 5000\n",
    "        if self.dens_fit_ht_end < 14000:\n",
    "            self.dens_fit_ht_end = 14000\n",
    "\n",
    "        # Fit the polynomail describing the density\n",
    "        dens_co = gui.MetSimGUI.fitAtmosphereDensity(self, self.dens_fit_ht_beg, self.dens_fit_ht_end)\n",
    "        self.const.dens_co = dens_co\n",
    "\n",
    "        # get global parameters from json file, everything other than params marked \"free\" are fixed\n",
    "        dt = const_json.get('dt')\n",
    "        P_0m = const_json.get('P_0m')\n",
    "        h_init = const_json.get('h_init')\n",
    "        m_kill = const_json.get('m_kill')\n",
    "        v_kill = const_json.get('v_kill')\n",
    "        h_kill = const_json.get('h_kill')\n",
    "        len_kill = const_json.get('len_kill') \n",
    "        rho = const_json.get('rho')  # free\n",
    "        rho_grain = const_json.get('rho_grain')  # free\n",
    "        m_init = const_json.get('m_init')  # free\n",
    "        sigma = const_json.get('sigma')  # free\n",
    "        v_init = const_json.get('v_init')\n",
    "        shape_factor = const_json.get('shape_factor')\n",
    "        gamma = const_json.get('gamma')\n",
    "        zenith_angle = const_json.get('zenith_angle')\n",
    "        lum_eff = const_json.get('lum_eff')\n",
    "        lum_eff_type = const_json.get('lum_eff_type')\n",
    "        erosion_height_start = const_json.get('erosion_height_start')\n",
    "        erosion_bins_per_10mass = const_json.get('erosion_bins_per_10mass')\n",
    "        erosion_coeff = const_json.get('erosion_coeff')\n",
    "        erosion_height_change = const_json.get('erosion_height_change')\n",
    "        erosion_coeff_change = const_json.get('erosion_coeff_change')\n",
    "        erosion_mass_index = const_json.get('erosion_mass_index')\n",
    "        erosion_mass_min = const_json.get('erosion_mass_min')\n",
    "        erosion_mass_max = const_json.get('erosion_mass_max')\n",
    "        erosion_rho_change = const_json.get('rho')\n",
    "        erosion_sigma_change = const_json.get('sigma')\n",
    "        compressive_strength = const_json.get('compressive_strength')\n",
    "        disruption_erosion_coeff = const_json.get('erosion_coeff')\n",
    "        disruption_mass_grain_ratio = const_json.get('disruption_mass_grain_ratio')\n",
    "        disruption_mass_index = const_json.get('disruption_mass_index')\n",
    "        disruption_mass_min_ratio = const_json.get('disruption_mass_min_ratio')\n",
    "        disruption_mass_max_ratio = const_json.get('disruption_mass_max_ratio')\n",
    "\n",
    "        # get fragmentation parameters from json file\n",
    "        # type, height, number, gamma, mass index are fixed, \n",
    "        # mass, ablation coefficient, erosion coefficient, grain min, grain max are not fixed\n",
    "        num_frags = len(const_json.get('fragmentation_entries'))\n",
    "        # fixed\n",
    "        frag_types = []\n",
    "        frag_heights = []\n",
    "        frag_numbers = []\n",
    "        frag_gammas = []\n",
    "        # free\n",
    "        frag_mis = []\n",
    "        frag_masses = []\n",
    "        frag_ab_coeffs = []\n",
    "        frag_er_coeffs = []\n",
    "        frag_grain_mins = []\n",
    "        frag_grain_maxs = []\n",
    "\n",
    "        for i, frag in enumerate(const_json.get('fragmentation_entries')):\n",
    "            ### If sigma, gamma and erosiion coefficient are none, convert to whatever the default value is \n",
    "            # fixed\n",
    "            frag_types.append(frag['frag_type'])\n",
    "            frag_heights.append(frag['height'])\n",
    "            frag_numbers.append(frag['number'])\n",
    "            if frag['gamma'] == None:\n",
    "                frag_gammas.append(gamma)\n",
    "            else:\n",
    "                frag_gammas.append(frag['gamma'])\n",
    "            frag_mis.append(frag['mass_index'])\n",
    "            # free\n",
    "            frag_masses.append(frag['mass_percent'])\n",
    "            if frag['sigma'] == None: \n",
    "                frag_ab_coeffs.append(sigma) \n",
    "            else:\n",
    "                frag_ab_coeffs.append(frag['sigma'])\n",
    "            if frag['erosion_coeff'] == None:\n",
    "                frag_er_coeffs.append(0.)  # erosion coefficient of zero\n",
    "            else:\n",
    "                frag_er_coeffs.append(frag['erosion_coeff'])\n",
    "            frag_grain_mins.append(frag['grain_mass_min'])\n",
    "            frag_grain_maxs.append(frag['grain_mass_max'])\n",
    "            \n",
    "        # set free and fixed params\n",
    "        self.free_params = [rho, rho_grain, m_init, sigma, frag_masses, frag_ab_coeffs, frag_er_coeffs, frag_grain_mins, frag_grain_maxs]\n",
    "        self.fixed_params = [dt, P_0m, h_init, m_kill, v_kill, h_kill, len_kill, v_init, shape_factor, \n",
    "                        gamma, zenith_angle, lum_eff, lum_eff_type, erosion_height_start, \n",
    "                        erosion_bins_per_10mass, erosion_coeff, erosion_height_change, \n",
    "                        erosion_coeff_change, erosion_mass_index, erosion_mass_min, erosion_mass_max, \n",
    "                        erosion_rho_change, erosion_sigma_change, compressive_strength, \n",
    "                        disruption_erosion_coeff, disruption_mass_grain_ratio, disruption_mass_index, \n",
    "                        disruption_mass_min_ratio, disruption_mass_max_ratio, \n",
    "                        frag_types, frag_heights, frag_numbers, frag_gammas, frag_mis]\n",
    "        \n",
    "        # load all the global parameters into the object\n",
    "        consts = dt, P_0m, h_init, m_kill, v_kill, h_kill, len_kill, rho, rho_grain, m_init, sigma, v_init, shape_factor, gamma, zenith_angle, lum_eff, lum_eff_type, erosion_height_start, erosion_bins_per_10mass, erosion_coeff, erosion_height_change, erosion_coeff_change, erosion_mass_index, erosion_mass_min, erosion_mass_max, erosion_rho_change, erosion_sigma_change, compressive_strength, disruption_erosion_coeff, disruption_mass_grain_ratio, disruption_mass_index, disruption_mass_min_ratio, disruption_mass_max_ratio\n",
    "        self.loadGlobalParameters(consts)\n",
    "\n",
    "        # get all parameters\n",
    "        self.all_params = (self.free_params, self.fixed_params)\n",
    "        \n",
    "        # self.initializeSimulation(all_params)\n",
    "        # self.initializeSimulation(const_json)\n",
    "    \n",
    "    def loadGlobalParameters(self, consts):\n",
    "            \"\"\"\n",
    "            Loads the global parameters (constants) into the object\n",
    "            \"\"\"\n",
    "            dt, P_0m, h_init, m_kill, v_kill, h_kill, len_kill, rho, rho_grain, m_init, sigma, v_init, shape_factor, gamma, zenith_angle, lum_eff, lum_eff_type, erosion_height_start, erosion_bins_per_10mass, erosion_coeff, erosion_height_change, erosion_coeff_change, erosion_mass_index, erosion_mass_min, erosion_mass_max, erosion_rho_change, erosion_sigma_change, compressive_strength, disruption_erosion_coeff, disruption_mass_grain_ratio, disruption_mass_index, disruption_mass_min_ratio, disruption_mass_max_ratio = consts\n",
    "            # load all the non-fragmentation parameters into the object\n",
    "            # 33 parameters\n",
    "            self.const.dt = dt\n",
    "            self.const.P_0m = P_0m\n",
    "            self.const.h_init = h_init\n",
    "            self.const.m_kill = m_kill\n",
    "            self.const.v_kill = v_kill\n",
    "            self.const.h_kill = h_kill\n",
    "            self.const.len_kill = len_kill\n",
    "            self.const.rho = rho\n",
    "            self.const.rho_grain = rho_grain\n",
    "            self.const.m_init = m_init\n",
    "            self.const.sigma = sigma\n",
    "            self.const.v_init = v_init\n",
    "            self.const.shape_factor = shape_factor\n",
    "            self.const.gamma = gamma\n",
    "            self.const.zenith_angle = zenith_angle\n",
    "            self.const.lum_eff = lum_eff\n",
    "            self.const.lum_eff_type = lum_eff_type\n",
    "            self.const.erosion_height_start = erosion_height_start\n",
    "            self.const.erosion_bins_per_10mass = erosion_bins_per_10mass\n",
    "            self.const.erosion_coeff = erosion_coeff\n",
    "            self.const.erosion_height_change = erosion_height_change\n",
    "            self.const.erosion_coeff_change = erosion_coeff_change\n",
    "            self.const.erosion_mass_index = erosion_mass_index\n",
    "            self.const.erosion_mass_min = erosion_mass_min\n",
    "            self.const.erosion_mass_max = erosion_mass_max\n",
    "            self.const.erosion_rho_change = erosion_rho_change\n",
    "            self.const.erosion_sigma_change = erosion_sigma_change\n",
    "            self.const.compressive_strength = compressive_strength\n",
    "            self.const.disruption_erosion_coeff = disruption_erosion_coeff\n",
    "            self.const.disruption_mass_grain_ratio = disruption_mass_grain_ratio\n",
    "            self.const.disruption_mass_index = disruption_mass_index\n",
    "            self.const.disruption_mass_min_ratio = disruption_mass_min_ratio\n",
    "            self.const.disruption_mass_max_ratio = disruption_mass_max_ratio\n",
    "\n",
    "    def initializeSimulation(self, all_params):\n",
    "            \"\"\" Run the simulation and show the results. \"\"\"\n",
    "            # If the fragmentation is turned on and no fragmentation data is given, notify the user\n",
    "            # if self.const.fragmentation_on and (self.fragmentation is None):\n",
    "            #     frag_error_message = QMessageBox(QMessageBox.Critical, \"Fragmentation file error\", \\\n",
    "            #         \"Fragmentation is enabled but no fragmentation file is set.\")\n",
    "            #     frag_error_message.setInformativeText(\"Either load an existing fragmentation file or create a new one.\")\n",
    "            #     frag_error_message.exec_()\n",
    "            #     return None   \n",
    "\n",
    "            # unpack all params\n",
    "            free_params, fixed_params = all_params\n",
    "            # unpack again\n",
    "            rho, rho_grain, m_init, sigma, frag_masses, frag_ab_coeffs, frag_er_coeffs, frag_grain_mins, frag_grain_maxs = free_params\n",
    "            dt, P_0m, h_init, m_kill, v_kill, h_kill, len_kill, v_init, shape_factor, gamma, zenith_angle, lum_eff, lum_eff_type, erosion_height_start, erosion_bins_per_10mass, erosion_coeff, erosion_height_change, erosion_coeff_change, erosion_mass_index, erosion_mass_min, erosion_mass_max, erosion_rho_change, erosion_sigma_change, compressive_strength, disruption_erosion_coeff, disruption_mass_grain_ratio, disruption_mass_index, disruption_mass_min_ratio, disruption_mass_max_ratio, frag_types, frag_heights, frag_numbers, frag_gammas, frag_mis = fixed_params\n",
    "            # load all the global parameters into the object\n",
    "            consts = dt, P_0m, h_init, m_kill, v_kill, h_kill, len_kill, rho, rho_grain, m_init, sigma, v_init, shape_factor, gamma, zenith_angle, lum_eff, lum_eff_type, erosion_height_start, erosion_bins_per_10mass, erosion_coeff, erosion_height_change, erosion_coeff_change, erosion_mass_index, erosion_mass_min, erosion_mass_max, erosion_rho_change, erosion_sigma_change, compressive_strength, disruption_erosion_coeff, disruption_mass_grain_ratio, disruption_mass_index, disruption_mass_min_ratio, disruption_mass_max_ratio\n",
    "            self.loadGlobalParameters(consts)\n",
    "            \n",
    "            # Load fragmentation entries\n",
    "            self.fragmentation_entries = []\n",
    "            for i in range(0, len(frag_masses)):  # pick any frag entry to iterate over\n",
    "                frag_entry = gui.FragmentationEntry(frag_types[i], frag_heights[i], frag_numbers[i], frag_masses[i], \n",
    "                                                    frag_ab_coeffs[i], frag_gammas[i], frag_er_coeffs[i], frag_grain_mins[i], frag_grain_maxs[i], frag_mis[i])\n",
    "                self.fragmentation_entries.append(frag_entry)\n",
    "            # set the fragmentation entries to constants\n",
    "            self.const.fragmentation_entries = self.fragmentation_entries\n",
    "    \n",
    "            # Sort entries by height\n",
    "            self.fragmentation.sortByHeight()\n",
    "\n",
    "            # Reset the status of all fragmentations\n",
    "            self.fragmentation.resetAll()\n",
    "        \n",
    "            # fragmentation\n",
    "            self.const.fragmentation_on = True\n",
    "\n",
    "            # print(self.const.fragmentation_on)\n",
    "    \n",
    "            # Run the simulation\n",
    "            frag_main, results_list, wake_results = erosion.runSimulation(self.const, compute_wake=self.wake_on)\n",
    "            # print(results_list)\n",
    "\n",
    "            # Store simulation results\n",
    "            self.simulation_results = gui.SimulationResults(self.const, frag_main, results_list, wake_results)\n"
   ]
  },
  {
   "cell_type": "markdown",
   "id": "7e464e84-5ada-4cab-bb54-41d6de7d00f3",
   "metadata": {},
   "source": [
    "Test with 1999 event:"
   ]
  },
  {
   "cell_type": "code",
   "execution_count": 6,
   "id": "f0419014-bad4-4c19-88ef-fba92567369f",
   "metadata": {},
   "outputs": [],
   "source": [
    "# metsim_obj_old = MetSimObj_old(traj_path='../usg_metsim_files/1999-01-14/usg_input_jan_1999.txt', \n",
    "#                        const_json_file='../usg_metsim_files/1999-01-14/usg_input_jan_1999_sim_fit_latest.json')"
   ]
  },
  {
   "cell_type": "code",
   "execution_count": 8,
   "id": "bf0e98e1-3262-489a-b8a5-002e7595cb1b",
   "metadata": {},
   "outputs": [
    {
     "name": "stderr",
     "output_type": "stream",
     "text": [
      "/home/chowi/Thesis/physical/../../source/WesternMeteorPyLib/wmpl/MetSim/GUI.py:1559: RuntimeWarning: invalid value encountered in log10\n",
      "  data.absolute_magnitudes = -2.5*np.log10(data.usg_intensity_data[:, 1]/248)\n"
     ]
    }
   ],
   "source": [
    "metsim_obj = MetSimObj(traj_path='../usg_metsim_files/1994-02-01/usg_input_feb_1994.txt', \n",
    "                       const_json_file='../usg_metsim_files/1994-02-01/usg_input_feb_1994_sim_fit_latest.json')"
   ]
  },
  {
   "cell_type": "code",
   "execution_count": 9,
   "id": "938f4644-2e97-4845-81f9-627053a86bfa",
   "metadata": {},
   "outputs": [],
   "source": [
    "# metsim_obj.initializeSimulation(metsim_obj.all_params)"
   ]
  },
  {
   "cell_type": "code",
   "execution_count": 10,
   "id": "4ace06e0-1f43-4e19-8ad4-522d6b099bdc",
   "metadata": {},
   "outputs": [
    {
     "ename": "AttributeError",
     "evalue": "'NoneType' object has no attribute 'time_arr'",
     "output_type": "error",
     "traceback": [
      "\u001b[0;31m---------------------------------------------------------------------------\u001b[0m",
      "\u001b[0;31mAttributeError\u001b[0m                            Traceback (most recent call last)",
      "Cell \u001b[0;32mIn[10], line 3\u001b[0m\n\u001b[1;32m      1\u001b[0m plt\u001b[38;5;241m.\u001b[39mfigure(figsize \u001b[38;5;241m=\u001b[39m (\u001b[38;5;241m12\u001b[39m, \u001b[38;5;241m8\u001b[39m))\n\u001b[1;32m      2\u001b[0m plt\u001b[38;5;241m.\u001b[39mplot(metsim_obj\u001b[38;5;241m.\u001b[39musg_data\u001b[38;5;241m.\u001b[39mtime_data \u001b[38;5;241m+\u001b[39m \u001b[38;5;241m11.9\u001b[39m, metsim_obj\u001b[38;5;241m.\u001b[39musg_data\u001b[38;5;241m.\u001b[39mabsolute_magnitudes, label \u001b[38;5;241m=\u001b[39m \u001b[38;5;124m'\u001b[39m\u001b[38;5;124mobserved\u001b[39m\u001b[38;5;124m'\u001b[39m)\n\u001b[0;32m----> 3\u001b[0m plt\u001b[38;5;241m.\u001b[39mplot(\u001b[43mmetsim_obj\u001b[49m\u001b[38;5;241;43m.\u001b[39;49m\u001b[43msimulation_results\u001b[49m\u001b[38;5;241;43m.\u001b[39;49m\u001b[43mtime_arr\u001b[49m, metsim_obj\u001b[38;5;241m.\u001b[39msimulation_results\u001b[38;5;241m.\u001b[39mabs_magnitude, label \u001b[38;5;241m=\u001b[39m \u001b[38;5;124m'\u001b[39m\u001b[38;5;124msimulated\u001b[39m\u001b[38;5;124m'\u001b[39m)\n\u001b[1;32m      4\u001b[0m plt\u001b[38;5;241m.\u001b[39maxhline(\u001b[38;5;241m-\u001b[39m\u001b[38;5;241m18\u001b[39m)\n\u001b[1;32m      5\u001b[0m plt\u001b[38;5;241m.\u001b[39mlegend()\n",
      "\u001b[0;31mAttributeError\u001b[0m: 'NoneType' object has no attribute 'time_arr'"
     ]
    },
    {
     "data": {
      "image/png": "[encoded data removed]",
      "text/plain": [
       "<Figure size 1200x800 with 1 Axes>"
      ]
     },
     "metadata": {},
     "output_type": "display_data"
    }
   ],
   "source": [
    "plt.figure(figsize = (12, 8))\n",
    "plt.plot(metsim_obj.usg_data.time_data + 11.9, metsim_obj.usg_data.absolute_magnitudes, label = 'observed')\n",
    "plt.plot(metsim_obj.simulation_results.time_arr, metsim_obj.simulation_results.abs_magnitude, label = 'simulated')\n",
    "plt.axhline(-18)\n",
    "plt.legend()"
   ]
  },
  {
   "cell_type": "code",
   "execution_count": null,
   "id": "b4ec2950-bcb9-4f46-aa46-c263479194e2",
   "metadata": {},
   "outputs": [],
   "source": [
    "plt.figure(figsize = (12, 8))\n",
    "plt.plot(metsim_obj_old.usg_data.time_data + 11.9, metsim_obj_old.usg_data.absolute_magnitudes, label = 'observed')\n",
    "plt.plot(metsim_obj_old.simulation_results.time_arr, metsim_obj_old.simulation_results.abs_magnitude, label = 'simulated')\n",
    "plt.legend()"
   ]
  },
  {
   "cell_type": "code",
   "execution_count": 11,
   "id": "27d01c8f-5768-4078-bc8a-2894d02f7543",
   "metadata": {},
   "outputs": [
    {
     "ename": "NameError",
     "evalue": "name 'metsim_obj_old' is not defined",
     "output_type": "error",
     "traceback": [
      "\u001b[0;31m---------------------------------------------------------------------------\u001b[0m",
      "\u001b[0;31mNameError\u001b[0m                                 Traceback (most recent call last)",
      "Cell \u001b[0;32mIn[11], line 2\u001b[0m\n\u001b[1;32m      1\u001b[0m plt\u001b[38;5;241m.\u001b[39mfigure(figsize \u001b[38;5;241m=\u001b[39m (\u001b[38;5;241m12\u001b[39m, \u001b[38;5;241m8\u001b[39m))\n\u001b[0;32m----> 2\u001b[0m plt\u001b[38;5;241m.\u001b[39mplot(\u001b[43mmetsim_obj_old\u001b[49m\u001b[38;5;241m.\u001b[39musg_data\u001b[38;5;241m.\u001b[39mtime_data \u001b[38;5;241m+\u001b[39m \u001b[38;5;241m11.9\u001b[39m, \u001b[38;5;241m3030\u001b[39m \u001b[38;5;241m*\u001b[39m (\u001b[38;5;241m10\u001b[39m \u001b[38;5;241m*\u001b[39m\u001b[38;5;241m*\u001b[39m (metsim_obj_old\u001b[38;5;241m.\u001b[39musg_data\u001b[38;5;241m.\u001b[39mabsolute_magnitudes\u001b[38;5;241m/\u001b[39m(\u001b[38;5;241m-\u001b[39m\u001b[38;5;241m2.5\u001b[39m))), label \u001b[38;5;241m=\u001b[39m \u001b[38;5;124m'\u001b[39m\u001b[38;5;124mobserved\u001b[39m\u001b[38;5;124m'\u001b[39m)\n\u001b[1;32m      3\u001b[0m plt\u001b[38;5;241m.\u001b[39mplot(metsim_obj_old\u001b[38;5;241m.\u001b[39msimulation_results\u001b[38;5;241m.\u001b[39mtime_arr, metsim_obj_old\u001b[38;5;241m.\u001b[39msimulation_results\u001b[38;5;241m.\u001b[39mluminosity_arr, label \u001b[38;5;241m=\u001b[39m \u001b[38;5;124m'\u001b[39m\u001b[38;5;124msimulated\u001b[39m\u001b[38;5;124m'\u001b[39m)\n\u001b[1;32m      4\u001b[0m plt\u001b[38;5;241m.\u001b[39mlegend()\n",
      "\u001b[0;31mNameError\u001b[0m: name 'metsim_obj_old' is not defined"
     ]
    },
    {
     "data": {
      "text/plain": [
       "<Figure size 1200x800 with 0 Axes>"
      ]
     },
     "metadata": {},
     "output_type": "display_data"
    }
   ],
   "source": [
    "plt.figure(figsize = (12, 8))\n",
    "plt.plot(metsim_obj_old.usg_data.time_data + 11.9, 3030 * (10 ** (metsim_obj_old.usg_data.absolute_magnitudes/(-2.5))), label = 'observed')\n",
    "plt.plot(metsim_obj_old.simulation_results.time_arr, metsim_obj_old.simulation_results.luminosity_arr, label = 'simulated')\n",
    "plt.legend()\n",
    "plt.plot()"
   ]
  },
  {
   "cell_type": "code",
   "execution_count": null,
   "id": "db086e6a-7fae-45a5-93f1-0ff12951cc33",
   "metadata": {},
   "outputs": [],
   "source": [
    "# check observed - simulated integrated intensity\n",
    "\n",
    "obs_integrated_intensity = np.nansum(np.diff(metsim_obj.usg_data.time_data) * 3030 * (10 ** (metsim_obj.usg_data.absolute_magnitudes/(-2.5)))[1:])\n",
    "sim_integrated_intensity = np.nansum(np.diff(metsim_obj.simulation_results.time_arr) * metsim_obj.simulation_results.luminosity_arr[1:])\n",
    "\n",
    "obs_integrated_intensity, sim_integrated_intensity"
   ]
  },
  {
   "cell_type": "code",
   "execution_count": null,
   "id": "2bdefafc-1088-472e-8e04-9cbce3cea734",
   "metadata": {},
   "outputs": [],
   "source": [
    "obs_integrated_intensity - sim_integrated_intensity"
   ]
  },
  {
   "cell_type": "markdown",
   "id": "62355110-10f1-40ae-be7f-1f3888ec3576",
   "metadata": {},
   "source": [
    "### Optimization:"
   ]
  },
  {
   "cell_type": "markdown",
   "id": "912dc6c4-08dd-404a-a083-64212d69a1ed",
   "metadata": {},
   "source": [
    "Note that sometimes MetSim returns a simulated LC in which the height of the leading fragment increases after the end of the LC"
   ]
  },
  {
   "cell_type": "code",
   "execution_count": 12,
   "id": "e33ed660-4811-4466-bfee-5b1a65b93fa3",
   "metadata": {},
   "outputs": [],
   "source": [
    "# helper nested function to flatten a list\n",
    "\n",
    "def flatten_list(nested_list):\n",
    "    def flatten(lst):\n",
    "        for item in lst:\n",
    "            if isinstance(item, list):\n",
    "                flatten(item)\n",
    "            else:\n",
    "                flat_list.append(item)\n",
    "\n",
    "    flat_list = []\n",
    "    flatten(nested_list)\n",
    "    return flat_list\n",
    "\n",
    "# helper function to unflatten the list\n",
    "def unflatten_list(lst, num_global_params=4, num_frag_params=5):\n",
    "    \"\"\"\n",
    "    change number of global parameters and frag parameters based on the structure of the free parameters object\n",
    "    passed into the get_lc_cost_function() function\n",
    "    \"\"\"\n",
    "    # print(lst[:num_global_params], list(zip(*[iter(lst[num_global_params:])]*(len(lst[num_global_params:])//num_frag_params))))\n",
    "    return list(lst[:num_global_params]) + list(zip(*[iter(lst[num_global_params:])]*(len(lst[num_global_params:])//num_frag_params)))\n",
    "\n",
    "\n",
    "### define residuals for the optimization routine\n",
    "# TODO: make sure the two are the same size\n",
    "\n",
    "\n",
    "# def get_lc_residuals(free_params_flattened, metsim_obj):\n",
    "#     \"\"\"\n",
    "#     Gets the residuals for the integrated intensity given a flattened list of free parameters and a metsim object\n",
    "\n",
    "#     Flattened list of free parameters has the form\n",
    "#     free_params = [rho, rho_grain, m_init, sigma, *frag_masses, *frag_ab_coeffs, *frag_er_coeffs, *frag_grain_mins, *frag_grain_maxs]\n",
    "\n",
    "#     Global parameters:\n",
    "#     rho: float\n",
    "#     rho_grain: float\n",
    "#     m_init: float\n",
    "#     sigma: float\n",
    "\n",
    "#     Fragment parameters (for n total fragments):\n",
    "#     *frag_masses: n fragment masses\n",
    "#     *frag_ab_coeffs: n ablation coefficients\n",
    "#     *frag_er_coeffs: n erosion coefficients\n",
    "#     *frag_grain_mins: n grain mins\n",
    "#     *frag_grain_maxs: n grain maxs\n",
    "#     \"\"\"\n",
    "#     # observed integrated intensity, this doesn't change\n",
    "#     obs_integrated_intensity = np.nansum(np.diff(metsim_obj.usg_data.time_data) * \n",
    "#                                          3030 * (10 ** (metsim_obj.usg_data.absolute_magnitudes/(-2.5)))[1:])\n",
    "#     # compute the simulated integrated intensity for the given set of free parameters\n",
    "#     # unflatten the list of free parameters to pass into the initializeSimulation() function\n",
    "#     free_params = unflatten_list(free_params_flattened)\n",
    "#     # construct all params to pass into intiializeSimulation function\n",
    "#     all_params = (free_params, metsim_obj.fixed_params)  # set of all params to use\n",
    "#     # run simulation\n",
    "#     metsim_obj.initializeSimulation(all_params)\n",
    "    \n",
    "#     # get simulated integrated intensity\n",
    "#     sim_integrated_intensity = np.nansum(np.diff(metsim_obj.simulation_results.time_arr) * \n",
    "#                                          metsim_obj.simulation_results.luminosity_arr[1:])\n",
    "#     # return the difference between the two\n",
    "#     return (obs_integrated_intensity - sim_integrated_intensity)\n",
    "\n",
    "### get the simulated light curve for a given set of free parameters and metsim object\n",
    "\n",
    "def sim_lc(flattened_free_params, metsim_obj):\n",
    "    \"\"\"\n",
    "    Same format as function below\n",
    "    \"\"\"\n",
    "    # compute the simulated integrated intensity for the given set of free parameters\n",
    "    # unflatten the list of free parameters to pass into the initializeSimulation() function\n",
    "    free_params = unflatten_list(flattened_free_params)\n",
    "    # construct all params to pass into intiializeSimulation function\n",
    "    all_params = (free_params, metsim_obj.fixed_params)  # set of all params to use\n",
    "    # run simulation on the object, copying it\n",
    "    # obj_copy = copy.copy(metsim_obj)\n",
    "    # obj_copy.initializeSimulation(all_params)\n",
    "    metsim_obj.initializeSimulation(all_params)\n",
    "    # return the simulation results\n",
    "    # return obj_copy.simulation_results\n",
    "    return metsim_obj.simulation_results\n",
    "\n",
    "\n",
    "### define cost function for the opitmization routine\n",
    "\n",
    "def get_lc_cost_function(flattened_free_params, metsim_obj):\n",
    "    \"\"\"\n",
    "    Gets the residuals for the integrated intensity given\n",
    "    a metsim object and a list/tuple of an initial guess of free parameters\n",
    "    \n",
    "    metsim_obj is an MetSim() object\n",
    "    \n",
    "    flattened_free_params is an initial guess flattened list of free parameters with the form\n",
    "    flattened_free_params = [rho, rho_grain, m_init, sigma, *frag_masses, \n",
    "    *frag_ab_coeffs, *frag_er_coeffs, *frag_grain_mins, *frag_grain_maxs]\n",
    "\n",
    "    Global parameters:\n",
    "    rho: float\n",
    "    rho_grain: float\n",
    "    m_init: float\n",
    "    sigma: float\n",
    "\n",
    "    Fragment parameters (for n total fragments):\n",
    "    *frag_masses: n fragment masses\n",
    "    *frag_ab_coeffs: n ablation coefficients\n",
    "    *frag_er_coeffs: n - nd erosion coefficients where nd is the number of dust fragments\n",
    "    (as dust fragments do not have a nassociated erosion coefficient)\n",
    "    *frag_grain_mins: n grain mins\n",
    "    *frag_grain_maxs: n grain maxs\n",
    "    \"\"\"\n",
    "    # observed LC intensity, this doesn't change\n",
    "    obs_lc_intensity = 3030 * (10 ** (metsim_obj.usg_data.absolute_magnitudes/(-2.5)))\n",
    "\n",
    "    # get simulated LC intensity onthe object\n",
    "    simulation_results = sim_lc(flattened_free_params, metsim_obj)\n",
    "    # compute simulated LC intensity\n",
    "    # find where height starts increasing if it does at any point\n",
    "    # print(np.diff(simulation_results.leading_frag_height_arr))\n",
    "    if np.sum(np.diff(simulation_results.leading_frag_height_arr) > 0) > 0:\n",
    "        first_increasing_height_arr = np.where(np.diff(simulation_results.leading_frag_height_arr) > 0)[0][0] - 1\n",
    "    else:\n",
    "        first_increasing_height_arr = -1\n",
    "    # interpolate to make sure they are the same length and discard points after height starts increasing if it does at any point\n",
    "    simulated_lc_intensity = np.interp(metsim_obj.traj.observations[0].model_ht, \n",
    "                                       np.flip(simulation_results.leading_frag_height_arr[:first_increasing_height_arr]), \n",
    "                                       np.flip(simulation_results.luminosity_arr[:first_increasing_height_arr]))\n",
    "    # return the negative log-likelihood (negative residual sum of square difference between the two)\n",
    "    # assuming there is no error for the observed LC data\n",
    "    log_likelihood = (-1/2 * np.nansum((obs_lc_intensity - simulated_lc_intensity) ** 2))/1e24  # scale this\n",
    "    print(f'negative logL: {-log_likelihood}')\n",
    "    # negative log lieklihood\n",
    "    return -log_likelihood"
   ]
  },
  {
   "cell_type": "markdown",
   "id": "89868ec0-f438-46a1-877a-fe388fe3e85c",
   "metadata": {},
   "source": [
    "Also need to make sure that the loss function to minimize (currently computed as the **negative** log-likelihood equivalent to negative RSS/$\\chi^2$) is correct, since if there are errors then these need to be accounted for in the computation of the loss function\n",
    "\n",
    "Also probably want to make `sim_lc` returns the interpolated LC:"
   ]
  },
  {
   "cell_type": "markdown",
   "id": "72731301-b213-4ab4-a9c8-26e6d90a003b",
   "metadata": {},
   "source": [
    "Test to make sure changing the parameters affects the logL and the LCs:"
   ]
  },
  {
   "cell_type": "code",
   "execution_count": 13,
   "id": "04c43c1e-24d5-40ec-8bbb-e767b830e27c",
   "metadata": {},
   "outputs": [
    {
     "name": "stdout",
     "output_type": "stream",
     "text": [
      "negative logL: 166.08079157154498\n"
     ]
    },
    {
     "name": "stderr",
     "output_type": "stream",
     "text": [
      "/home/chowi/Thesis/physical/../../source/WesternMeteorPyLib/wmpl/MetSim/GUI.py:95: RuntimeWarning: divide by zero encountered in log10\n",
      "  self.abs_magnitude_main = -2.5*np.log10(self.luminosity_main_arr/self.const.P_0m)\n",
      "/home/chowi/Thesis/physical/../../source/WesternMeteorPyLib/wmpl/MetSim/GUI.py:99: RuntimeWarning: divide by zero encountered in log10\n",
      "  self.abs_magnitude_eroded = -2.5*np.log10(self.luminosity_eroded_arr/self.const.P_0m)\n"
     ]
    },
    {
     "data": {
      "text/plain": [
       "166.08079157154498"
      ]
     },
     "execution_count": 13,
     "metadata": {},
     "output_type": "execute_result"
    }
   ],
   "source": [
    "initial_guess = np.load('initial_guess_1994.npy')  # initial pre-saved guess\n",
    "# initial_guess\n",
    "\n",
    "lamb_func = lambda free_params_flattened: get_lc_cost_function(free_params_flattened, metsim_obj=metsim_obj)\n",
    "lamb_func(initial_guess)"
   ]
  },
  {
   "cell_type": "code",
   "execution_count": 14,
   "id": "c6ad4661-2de7-48bc-90f0-b3cda7787719",
   "metadata": {},
   "outputs": [],
   "source": [
    "initial_guess_mod = initial_guess.copy()\n",
    "initial_guess_mod[0] = 3200."
   ]
  },
  {
   "cell_type": "code",
   "execution_count": 15,
   "id": "65dd59af-3098-4463-bf1d-4606eb5b9782",
   "metadata": {},
   "outputs": [
    {
     "name": "stdout",
     "output_type": "stream",
     "text": [
      "negative logL: 1.793313281593084e+68\n"
     ]
    },
    {
     "name": "stderr",
     "output_type": "stream",
     "text": [
      "/home/chowi/Thesis/physical/../../source/WesternMeteorPyLib/wmpl/MetSim/MetSimErosion.py:1182: RuntimeWarning: invalid value encountered in double_scalars\n",
      "  tau_total /= luminosity_total\n"
     ]
    },
    {
     "data": {
      "text/plain": [
       "1.793313281593084e+68"
      ]
     },
     "execution_count": 15,
     "metadata": {},
     "output_type": "execute_result"
    }
   ],
   "source": [
    "lamb_func(initial_guess_mod)"
   ]
  },
  {
   "cell_type": "code",
   "execution_count": 16,
   "id": "0a2b6056-b3b2-4f68-9575-96c3dc07e31c",
   "metadata": {},
   "outputs": [],
   "source": [
    "results_initial = sim_lc(initial_guess, metsim_obj)\n",
    "results_initial_mod = sim_lc(initial_guess_mod, metsim_obj)"
   ]
  },
  {
   "cell_type": "code",
   "execution_count": 17,
   "id": "1a2ad309-e1b0-4f7c-94da-3a5bfe29b49a",
   "metadata": {},
   "outputs": [
    {
     "data": {
      "text/plain": [
       "<matplotlib.legend.Legend at 0x7fcd3d19c970>"
      ]
     },
     "execution_count": 17,
     "metadata": {},
     "output_type": "execute_result"
    },
    {
     "data": {
      "image/png": "[encoded data removed]",
      "text/plain": [
       "<Figure size 1200x800 with 1 Axes>"
      ]
     },
     "metadata": {},
     "output_type": "display_data"
    }
   ],
   "source": [
    "plt.figure(figsize = (12, 8))\n",
    "plt.plot(results_initial.luminosity_arr, results_initial.leading_frag_height_arr/1000., label = 'leading simulated')\n",
    "# plt.plot(results_initial_mod.luminosity_arr, results_initial_mod.leading_frag_height_arr/1000., label = 'leading simulated mod')\n",
    "plt.ylim(10., 80.)\n",
    "plt.legend()"
   ]
  },
  {
   "cell_type": "markdown",
   "id": "057fa4a0-49f2-46ab-abfe-78a84936b058",
   "metadata": {},
   "source": [
    "Compute observed LC and simulated initial guess:"
   ]
  },
  {
   "cell_type": "code",
   "execution_count": 18,
   "id": "4695d136-8e69-48cb-9d7c-3b6c360c5b19",
   "metadata": {},
   "outputs": [],
   "source": [
    "# observed LC intensity\n",
    "obs_lc_intensity = 3030 * (10 ** (metsim_obj.usg_data.absolute_magnitudes/(-2.5)))\n",
    "# simulated LC intensities\n",
    "# initial\n",
    "results_initial = sim_lc(initial_guess, metsim_obj)"
   ]
  },
  {
   "cell_type": "markdown",
   "id": "cfe3cce5-230f-4540-93d0-412c953d50d4",
   "metadata": {},
   "source": [
    "Plot simulated initial guess versus observed magnitudes and intensities:"
   ]
  },
  {
   "cell_type": "code",
   "execution_count": 19,
   "id": "9313bf8b-3013-4db5-83b5-a4ca0315ba04",
   "metadata": {},
   "outputs": [
    {
     "data": {
      "text/plain": [
       "<matplotlib.legend.Legend at 0x7fccf1a6c8e0>"
      ]
     },
     "execution_count": 19,
     "metadata": {},
     "output_type": "execute_result"
    },
    {
     "data": {
      "image/png": "[encoded data removed]",
      "text/plain": [
       "<Figure size 1200x800 with 1 Axes>"
      ]
     },
     "metadata": {},
     "output_type": "display_data"
    }
   ],
   "source": [
    "plt.figure(figsize = (12, 8))\n",
    "plt.plot(results_initial.abs_magnitude, results_initial.leading_frag_height_arr/1000., label = 'leading simulated')\n",
    "plt.plot(metsim_obj.usg_data.absolute_magnitudes, metsim_obj.traj.observations[0].model_ht/1000., label = 'observed')\n",
    "plt.ylim(10., 80.)\n",
    "plt.legend()"
   ]
  },
  {
   "cell_type": "code",
   "execution_count": 20,
   "id": "61ed54fc-059f-4440-9ddb-46879940c677",
   "metadata": {},
   "outputs": [
    {
     "data": {
      "text/plain": [
       "<matplotlib.legend.Legend at 0x7fcd2cf48610>"
      ]
     },
     "execution_count": 20,
     "metadata": {},
     "output_type": "execute_result"
    },
    {
     "data": {
      "image/png": "[encoded data removed]",
      "text/plain": [
       "<Figure size 1200x800 with 1 Axes>"
      ]
     },
     "metadata": {},
     "output_type": "display_data"
    }
   ],
   "source": [
    "plt.figure(figsize = (12, 8))\n",
    "# plt.plot(results_initial.luminosity_arr, results_initial.main_height_arr/1000., label = 'main')\n",
    "# plt.plot(results_initial.luminosity_arr, results_initial.brightest_height_arr/1000., label = 'brightest')\n",
    "plt.plot(results_initial.luminosity_arr, results_initial.leading_frag_height_arr/1000., label = 'leading simulated')\n",
    "plt.plot(obs_lc_intensity, metsim_obj.traj.observations[0].model_ht/1000., label = 'observed')\n",
    "plt.ylim(10., 80.)\n",
    "plt.legend()"
   ]
  },
  {
   "cell_type": "markdown",
   "id": "f2c59f91-3f57-4e55-82a8-d57da92affad",
   "metadata": {},
   "source": [
    "Run optimization:"
   ]
  },
  {
   "cell_type": "markdown",
   "id": "e9b4aa8a-f3b5-4b40-92d0-fb63ba59a592",
   "metadata": {},
   "source": [
    "    flattened_free_params is an initial guess flattened list of free parameters with the form\n",
    "    flattened_free_params = [rho, rho_grain, m_init, sigma, *frag_masses, \n",
    "    *frag_ab_coeffs, *frag_er_coeffs, *frag_grain_mins, *frag_grain_maxs]\n",
    "\n",
    "    Global parameters:\n",
    "    rho: float -> (1500, 3400)\n",
    "    rho_grain: float --> (3000, 3500)\n",
    "    m_init: float --> (1e4, 1e7) # wide range for initialm ass\n",
    "    sigma: float --> (0.002, 0.025) kg/MJ\n",
    "\n",
    "    Fragment parameters (for n total fragments):\n",
    "    *frag_masses: n fragment masses --> (0, 100) %\n",
    "    *frag_ab_coeffs: n ablation coefficients --> (0.002, 0.025) kg/MJ for eroding fragment, same as global\n",
    "                                                 0.01 for dust based on danielle's cases\n",
    "    *frag_er_coeffs: n erosion coefficients --> (0.23, 6) for eroding fragments based on danielle's cases\n",
    "                                                 0 for dust also based on danielle\n",
    "    *frag_grain_mins: n grain mins --> (1e-8, 1e-2) for eroding fragments (use same for dust) based on danielle\n",
    "    *frag_grain_maxs: n grain maxs --> (5e-7, 5e0) for eroding fragments (use same for dust) based on danielle"
   ]
  },
  {
   "cell_type": "code",
   "execution_count": 36,
   "id": "93e29fcf-8b66-483d-98d6-93460f7dac95",
   "metadata": {},
   "outputs": [],
   "source": [
    "# Generate the tuples based on the length of fragmentation_entries\n",
    "fragmentation_count = len(metsim_obj.fragmentation_entries)\n",
    "# Fragment mass percents\n",
    "frag_mass_percents = tuple((0., 100.) for _ in range(fragmentation_count))\n",
    "# Frag ablation coeffs\n",
    "# these are 0.01 for dust and between (0.002 * 1e-6, 0.025 * 1e-6) for eroding fragments\n",
    "# frag_ablation_coeffs = tuple((0.002 * 1e-6, 0.025 * 1e-6) for _ in range(fragmentation_count))\n",
    "frag_ablation_coeffs = tuple([(0.01 * 1e-6, 0.01 * 1e-6) if entry.frag_type == 'D'\n",
    "                              else (0.002 * 1e-6, 0.025 * 1e-6) for entry in metsim_obj.fragmentation_entries])\n",
    "# Frag erosion coeffs\n",
    "# these are fixed at zero for dust and between (0.23 * 1e-6, 6.0 * 1e-6) for eroding fragments\n",
    "# frag_erosion_coeffs = tuple([(0., 0.) if entry.frag_type == 'D' \n",
    "#                              else (0.23 * 1e-6, 6.0 * 1e-6) for entry in metsim_obj.fragmentation_entries])\n",
    "frag_erosion_coeffs = tuple([(0., 0.) if entry.frag_type == 'D' \n",
    "                             else (0.01 * 1e-6, 6.0 * 1e-6) for entry in metsim_obj.fragmentation_entries])\n",
    "# frag_erosion_coeffs = tuple((0.23 * 1e-6, 6.0 * 1e-6) for _ in range(fragmentation_count))\n",
    "# Frag grain mins\n",
    "# frag_grain_mins = tuple((1e-8, 1e-2) for _ in range(fragmentation_count))\n",
    "frag_grain_mins = tuple((1e-8, 1e1) for _ in range(fragmentation_count))\n",
    "# Frag grain maxs\n",
    "frag_grain_maxs = tuple((5e-7, 5e0) for _ in range(fragmentation_count))\n",
    "# Combine them into a single flat tuple\n",
    "result = frag_mass_percents + frag_ablation_coeffs + frag_erosion_coeffs + frag_grain_mins + frag_grain_maxs\n",
    "# Print the result to check the output\n",
    "bounds = ((1500, 3400), (3000, 3500), (10 ** 4, 10 ** 7), (0.002 * 1e-6, 0.025 * 1e-6)) + result\n",
    "\n",
    "# run optimization routine\n",
    "\n",
    "# constraints\n",
    "# def apply_mass_constraint(flattened_free_params):\n",
    "#     \"\"\"\n",
    "#     Restrict grain max to be greater than grain min, otherwise MetSim crashes\n",
    "#     \"\"\"\n",
    "#     unflattened_list = unflatten_list(flattened_free_params)\n",
    "#     frag_grain_mins = unflattened_list[-2]  # get grain mins\n",
    "#     frag_grain_maxs = unflattened_list[-1]   # get grain maxs\n",
    "#     ## EQUALITY\n",
    "#     # return 0 if optimizer should accept as valid value, return 1 if it should reject\n",
    "#     return np.sum(list(map(lambda min, max: min > max, frag_grain_mins, frag_grain_maxs)))\n",
    "#     ## INEQUALITY\n",
    "#     # return -np.sum(list(map(lambda min, max: min > max, frag_grain_mins, frag_grain_maxs)))\n",
    "\n",
    "# mass_constraint = ({'type': 'eq', \"fun\": lambda flattened_free_params[})\n",
    "\n",
    "\n",
    "# generate mass constraints\n",
    "mass_constraints = []\n",
    "# for each fragment, impose constraint that the fragment grain min must be less than the fragment grain max\n",
    "for i in range(len(unflatten_list(initial_guess)[-1])):\n",
    "    mass_constraints.append({'type': 'eq', \n",
    "                             \"fun\": lambda free_params_flattened: \n",
    "                             int(unflatten_list(free_params_flattened)[-2][i] > unflatten_list(free_params_flattened)[-1][i])})"
   ]
  },
  {
   "cell_type": "code",
   "execution_count": 37,
   "id": "f6718b9f-82ff-409c-a18c-338b3ae6ede6",
   "metadata": {},
   "outputs": [
    {
     "data": {
      "text/plain": [
       "[{'type': 'eq', 'fun': <function __main__.<lambda>(free_params_flattened)>},\n",
       " {'type': 'eq', 'fun': <function __main__.<lambda>(free_params_flattened)>},\n",
       " {'type': 'eq', 'fun': <function __main__.<lambda>(free_params_flattened)>},\n",
       " {'type': 'eq', 'fun': <function __main__.<lambda>(free_params_flattened)>},\n",
       " {'type': 'eq', 'fun': <function __main__.<lambda>(free_params_flattened)>},\n",
       " {'type': 'eq', 'fun': <function __main__.<lambda>(free_params_flattened)>},\n",
       " {'type': 'eq', 'fun': <function __main__.<lambda>(free_params_flattened)>},\n",
       " {'type': 'eq', 'fun': <function __main__.<lambda>(free_params_flattened)>},\n",
       " {'type': 'eq', 'fun': <function __main__.<lambda>(free_params_flattened)>}]"
      ]
     },
     "execution_count": 37,
     "metadata": {},
     "output_type": "execute_result"
    }
   ],
   "source": [
    "mass_constraints"
   ]
  },
  {
   "cell_type": "markdown",
   "id": "b72a6682-ef18-4ade-9699-f15078fc4947",
   "metadata": {},
   "source": [
    "Run optimization:"
   ]
  },
  {
   "cell_type": "code",
   "execution_count": 55,
   "id": "8b8ca7d6-00ac-4258-921a-d950b7333a7a",
   "metadata": {},
   "outputs": [
    {
     "name": "stdout",
     "output_type": "stream",
     "text": [
      "negative logL: 166.08079157154498\n",
      "negative logL: 166.0807915722829\n",
      "negative logL: 166.080791572164\n",
      "negative logL: 166.08079157154285\n",
      "negative logL: 2442.1033608795533\n",
      "negative logL: 166.08079160398717\n",
      "negative logL: 166.08079160636237\n",
      "negative logL: 166.08079160678705\n",
      "negative logL: 166.0807916031278\n",
      "negative logL: 166.08079160889557\n",
      "negative logL: 166.08079159163702\n",
      "negative logL: 166.08079157225725\n",
      "negative logL: 166.08079156783114\n",
      "negative logL: 166.16653468836856\n",
      "negative logL: 168.36769804346767\n",
      "negative logL: 243.28569687379922\n",
      "negative logL: 175.01292916798252\n",
      "negative logL: 187.65983763988143\n",
      "negative logL: 715.5700967913137\n",
      "negative logL: 1094.5708098874054\n",
      "negative logL: 740.6726083728119\n",
      "negative logL: 1377.4511875854193\n",
      "negative logL: 166.01717694461817\n",
      "negative logL: 166.17151802449112\n",
      "negative logL: 165.97683787404856\n",
      "negative logL: 165.93684370660924\n",
      "negative logL: 232.37618737753434\n",
      "negative logL: 193.10457143865605\n",
      "negative logL: 190.73680903831732\n",
      "negative logL: 221.2298914836615\n",
      "negative logL: 166.08079157154498\n",
      "negative logL: 166.08079157154498\n",
      "negative logL: 166.08079157154498\n",
      "negative logL: 166.08079157154498\n",
      "negative logL: 166.08079157154498\n",
      "negative logL: 166.08079157154498\n",
      "negative logL: 166.08079157154498\n",
      "negative logL: 166.08079157154498\n",
      "negative logL: 166.08079157154498\n",
      "negative logL: 166.08079153735994\n",
      "negative logL: 166.0807914331921\n",
      "negative logL: 166.0807920581914\n",
      "negative logL: 166.08079227902726\n",
      "negative logL: 166.08079149914414\n",
      "negative logL: 166.08071912985318\n",
      "negative logL: 166.08079233479074\n",
      "negative logL: 166.0807916281557\n",
      "negative logL: 166.08078623209562\n",
      "Singular matrix C in LSQ subproblem    (Exit mode 6)\n",
      "            Current function value: 166.08079157154498\n",
      "            Iterations: 1\n",
      "            Function evaluations: 48\n",
      "            Gradient evaluations: 1\n"
     ]
    }
   ],
   "source": [
    "best_fit = scipy.optimize.minimize(fun=lambda free_params_flattened: \n",
    "                                   get_lc_cost_function(free_params_flattened, metsim_obj=metsim_obj),\n",
    "                                   x0=initial_guess, \n",
    "                                   # method='trust-constr',\n",
    "                                   # method='L-BFGS-B',\n",
    "                                   method='SLSQP',\n",
    "                                   bounds=bounds, \n",
    "                                   options={'disp': True},\n",
    "                                   constraints=mass_constraints)#, options={'maxiter': 1e5})"
   ]
  },
  {
   "cell_type": "code",
   "execution_count": 56,
   "id": "e8e94f4b-b93a-434f-a857-a2367a7162ca",
   "metadata": {},
   "outputs": [
    {
     "data": {
      "text/plain": [
       " message: Singular matrix C in LSQ subproblem\n",
       " success: False\n",
       "  status: 6\n",
       "     fun: 166.08079157154498\n",
       "       x: [ 1.500e+03  3.500e+03 ...  5.000e+00  5.000e-02]\n",
       "     nit: 1\n",
       "     jac: [ 4.952e-02 -4.154e-02 ... -3.799e+00 -3.583e+02]\n",
       "    nfev: 48\n",
       "    njev: 1"
      ]
     },
     "execution_count": 56,
     "metadata": {},
     "output_type": "execute_result"
    }
   ],
   "source": [
    "best_fit"
   ]
  },
  {
   "cell_type": "code",
   "execution_count": 57,
   "id": "06ee38a4-eacc-4311-97ab-1933112cffb9",
   "metadata": {},
   "outputs": [],
   "source": [
    "# np.save('best_fit_1999.npy', best_fit)"
   ]
  },
  {
   "cell_type": "markdown",
   "id": "e25bca29-413f-4376-aaa6-5d0ca2fd60b8",
   "metadata": {},
   "source": [
    "Compare original LC to simulated LCs with the initial guess and the best-fit guess:"
   ]
  },
  {
   "cell_type": "code",
   "execution_count": 58,
   "id": "320b0ec7-6b24-42f5-a72c-c6a03d55a380",
   "metadata": {},
   "outputs": [],
   "source": [
    "results_initial = sim_lc(initial_guess, metsim_obj)"
   ]
  },
  {
   "cell_type": "code",
   "execution_count": 59,
   "id": "617fa7d8-fcbb-40d0-8c14-fe1101756a55",
   "metadata": {},
   "outputs": [],
   "source": [
    "# best fit\n",
    "results_bf = sim_lc(best_fit.x, metsim_obj)"
   ]
  },
  {
   "cell_type": "markdown",
   "id": "ffeec9ad-c406-4689-ab56-7db1c48431e2",
   "metadata": {},
   "source": [
    "Plot:"
   ]
  },
  {
   "cell_type": "code",
   "execution_count": 60,
   "id": "5a72af40-e012-40d6-b878-bfc7af20b368",
   "metadata": {},
   "outputs": [
    {
     "data": {
      "text/plain": [
       "<matplotlib.legend.Legend at 0x7fccf22f6ee0>"
      ]
     },
     "execution_count": 60,
     "metadata": {},
     "output_type": "execute_result"
    },
    {
     "data": {
      "image/png": "[encoded data removed]",
      "text/plain": [
       "<Figure size 1200x800 with 1 Axes>"
      ]
     },
     "metadata": {},
     "output_type": "display_data"
    }
   ],
   "source": [
    "plt.figure(figsize = (12, 8))\n",
    "# plt.plot(obs_lc_intensity, metsim_obj.traj.observations[0].model_ht/1000., label = 'observed')\n",
    "# interpolate the results initial and results leading frag heights\n",
    "if np.sum(np.diff(results_initial.leading_frag_height_arr) > 0) > 0:\n",
    "    first_increasing_height_arr = np.where(np.diff(results_initial.leading_frag_height_arr) > 0)[0][0] - 1\n",
    "else:\n",
    "    first_increasing_height_arr = -1\n",
    "interpolated_initial_int = np.interp(metsim_obj.traj.observations[0].model_ht, \n",
    "          np.flip(results_initial.leading_frag_height_arr[:first_increasing_height_arr]), \n",
    "          np.flip(results_initial.luminosity_arr[:first_increasing_height_arr]))\n",
    "interpolated_bf_int = np.interp(metsim_obj.traj.observations[0].model_ht, \n",
    "          np.flip(results_bf.leading_frag_height_arr[:first_increasing_height_arr]), \n",
    "          np.flip(results_bf.luminosity_arr[:first_increasing_height_arr]))\n",
    "\n",
    "plt.plot(interpolated_initial_int, metsim_obj.traj.observations[0].model_ht/1000., label = 'leading initial guess')\n",
    "plt.plot(interpolated_bf_int, metsim_obj.traj.observations[0].model_ht/1000., label = 'leading best fit')\n",
    "# plt.plot(results_initial.luminosity_arr, results_initial.leading_frag_height_arr/1000., label = 'leading initial guess')\n",
    "# plt.plot(results_bf.luminosity_arr, results_bf.leading_frag_height_arr/1000., label = 'leading best fit')\n",
    "plt.ylim(10., 80.)\n",
    "plt.legend()"
   ]
  },
  {
   "cell_type": "markdown",
   "id": "1d341dae-e342-445f-a9aa-4b6ba36651d2",
   "metadata": {},
   "source": [
    "Compare the cost function (RSS):"
   ]
  },
  {
   "cell_type": "code",
   "execution_count": 61,
   "id": "8228dbe1-cf69-405b-84fd-64dfc835b87b",
   "metadata": {},
   "outputs": [
    {
     "name": "stdout",
     "output_type": "stream",
     "text": [
      "negative logL: 166.08079157154498\n",
      "negative logL: 166.08079157154498\n"
     ]
    },
    {
     "data": {
      "text/plain": [
       "(166.08079157154498, 166.08079157154498)"
      ]
     },
     "execution_count": 61,
     "metadata": {},
     "output_type": "execute_result"
    }
   ],
   "source": [
    "get_lc_cost_function(best_fit.x, metsim_obj), get_lc_cost_function(initial_guess, metsim_obj)"
   ]
  },
  {
   "cell_type": "markdown",
   "id": "d270fdb7-51fd-44fd-b655-316786b26efc",
   "metadata": {},
   "source": [
    "Height of leading fragment:"
   ]
  }
 ],
 "metadata": {
  "kernelspec": {
   "display_name": "Python 3 (ipykernel)",
   "language": "python",
   "name": "python3"
  },
  "language_info": {
   "codemirror_mode": {
    "name": "ipython",
    "version": 3
   },
   "file_extension": ".py",
   "mimetype": "text/x-python",
   "name": "python",
   "nbconvert_exporter": "python",
   "pygments_lexer": "ipython3",
   "version": "3.8.18"
  }
 },
 "nbformat": 4,
 "nbformat_minor": 5
}
