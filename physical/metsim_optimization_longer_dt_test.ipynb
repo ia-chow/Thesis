{
 "cells": [
  {
   "cell_type": "code",
   "execution_count": 1,
   "id": "21fdbff0-60f0-4af4-a602-1ead544f7909",
   "metadata": {},
   "outputs": [],
   "source": [
    "import numpy as np\n",
    "import pandas as pd\n",
    "import sys\n",
    "import json\n",
    "import os\n",
    "import copy\n",
    "import matplotlib.pyplot as plt\n",
    "import scipy\n",
    "import multiprocessing"
   ]
  },
  {
   "cell_type": "markdown",
   "id": "885fe6f0-35f7-4afc-b904-e2144eac389b",
   "metadata": {},
   "source": [
    "Make `WMPL` directory visible:"
   ]
  },
  {
   "cell_type": "code",
   "execution_count": 2,
   "id": "fe6406fd-08fe-417b-a641-b49809b493cf",
   "metadata": {},
   "outputs": [],
   "source": [
    "sys.path.append('../../')"
   ]
  },
  {
   "cell_type": "markdown",
   "id": "ca075672-9085-4975-b81c-dc4a6a243d4e",
   "metadata": {},
   "source": [
    "Import WMPL files:"
   ]
  },
  {
   "cell_type": "code",
   "execution_count": 3,
   "id": "0c521053-823a-4a65-97d0-5da495985d60",
   "metadata": {},
   "outputs": [],
   "source": [
    "import source.WesternMeteorPyLib.wmpl.MetSim.MetSim as metsim\n",
    "import source.WesternMeteorPyLib.wmpl.MetSim.FitSim as fitsim\n",
    "import source.WesternMeteorPyLib.wmpl.MetSim.GUI as gui\n",
    "import source.WesternMeteorPyLib.wmpl.MetSim.MetSimErosion as erosion"
   ]
  },
  {
   "cell_type": "markdown",
   "id": "72670f9e-b782-45db-aaa1-6c4319b44d0a",
   "metadata": {},
   "source": [
    "Modified version to run with the optimization routine:"
   ]
  },
  {
   "cell_type": "code",
   "execution_count": 4,
   "id": "9ae450a2-8934-4606-b0b0-cb54ab147538",
   "metadata": {},
   "outputs": [],
   "source": [
    "class MetSimObj():\n",
    "    def __init__(self, traj_path, const_json_file, fixed_frag_indices, free_frag_indices):\n",
    "        # Init an axis for the electron line density\n",
    "        # self.electronDensityPlot = self.magnitudePlot.canvas.axes.twiny()\n",
    "        self.electron_density_plot_show = False\n",
    "        ### Wake parameters ###\n",
    "        self.wake_on = False\n",
    "        self.wake_show_mass_bins = False\n",
    "        self.wake_ht_current_index = 0\n",
    "        self.current_wake_container = None\n",
    "        # if self.wake_heights is not None:\n",
    "        #     self.wake_plot_ht, self.current_wake_container = self.wake_heights[self.wake_ht_current_index]\n",
    "        # else:\n",
    "        #     self.wake_plot_ht = self.traj.rbeg_ele # m\n",
    "        self.wake_normalization_method = 'area'\n",
    "        self.wake_align_method = 'none'\n",
    "        self.magnitudePlotWakeLines = None\n",
    "        self.magnitudePlotWakeLineLabels = None\n",
    "        self.velocityPlotWakeLines = None\n",
    "        self.lagPlotWakeLines = None\n",
    "        self.usg_data, self.traj = gui.loadUSGInputFile(*os.path.split(traj_path))\n",
    "        self.dir_path = os.path.dirname(traj_path)\n",
    "        # Disable different density after erosion change\n",
    "        self.erosion_different_rho = False\n",
    "        # Disable different ablation coeff after erosion change\n",
    "        self.erosion_different_sigma = False\n",
    "        # Disable different erosion coeff after disruption at the beginning\n",
    "        self.disruption_different_erosion_coeff = False\n",
    "        # Fragmentation object\n",
    "        self.fragmentation = None\n",
    "        self.simulation_results = None\n",
    "        self.const_prev = None\n",
    "        self.simulation_results_prev = None\n",
    "        self.const = erosion.Constants()  # initialize this, these will be replaced later\n",
    "        self.const.P_0m = self.usg_data.P_0m_bolo\n",
    "        # If a JSON file with constant was given, load them instead of initing from scratch\n",
    "        if const_json_file is not None:\n",
    "            # Load the constants from the JSON files\n",
    "            self.const, const_json = gui.loadConstants(const_json_file)\n",
    "            # Init the fragmentation container for the GUI\n",
    "            if len(self.const.fragmentation_entries):\n",
    "                self.fragmentation = gui.FragmentationContainer(self, \\\n",
    "                    os.path.join(self.dir_path, self.const.fragmentation_file_name))\n",
    "                self.fragmentation.fragmentation_entries = self.const.fragmentation_entries\n",
    "                # Overwrite the existing fragmentatinon file\n",
    "                # self.fragmentation.writeFragmentationFile()\n",
    "            # Check if the disruption erosion coefficient is different than the main erosion coeff\n",
    "            if const_json['disruption_erosion_coeff'] != const_json['erosion_coeff']:\n",
    "                self.disruption_different_erosion_coeff = True\n",
    "            # Check if the density is changed after Hchange\n",
    "            if 'erosion_rho_change' in const_json:\n",
    "                if const_json['erosion_rho_change'] != const_json['rho']:\n",
    "                    self.erosion_different_rho = True\n",
    "            # Check if the ablation coeff is changed after Hchange\n",
    "            if 'erosion_sigma_change' in const_json:\n",
    "                if const_json['erosion_sigma_change'] != const_json['sigma']:\n",
    "                    self.erosion_different_sigma = True\n",
    "        else:\n",
    "            raise('no json file!')\n",
    "\n",
    "        ### Calculate atmosphere density coeffs (down to the bottom observed height, limit to 15 km) ###\n",
    "\n",
    "        # Determine the height range for fitting the density\n",
    "        self.dens_fit_ht_beg = self.const.h_init\n",
    "        self.dens_fit_ht_end = self.traj.rend_ele - 5000\n",
    "        if self.dens_fit_ht_end < 14000:\n",
    "            self.dens_fit_ht_end = 14000\n",
    "\n",
    "        # Fit the polynomail describing the density\n",
    "        dens_co = gui.MetSimGUI.fitAtmosphereDensity(self, self.dens_fit_ht_beg, self.dens_fit_ht_end)\n",
    "        self.const.dens_co = dens_co\n",
    "\n",
    "        # get global parameters from json file, everything other than params marked \"free\" are fixed\n",
    "        dt = const_json.get('dt')\n",
    "        P_0m = const_json.get('P_0m')\n",
    "        h_init = const_json.get('h_init')\n",
    "        m_kill = const_json.get('m_kill')\n",
    "        v_kill = const_json.get('v_kill')\n",
    "        h_kill = const_json.get('h_kill')\n",
    "        len_kill = const_json.get('len_kill') \n",
    "        rho = const_json.get('rho')  # free\n",
    "        rho_grain = const_json.get('rho_grain')  # free\n",
    "        m_init = const_json.get('m_init')  # free\n",
    "        sigma = const_json.get('sigma')  # free\n",
    "        v_init = const_json.get('v_init')\n",
    "        shape_factor = const_json.get('shape_factor')\n",
    "        gamma = const_json.get('gamma')\n",
    "        zenith_angle = const_json.get('zenith_angle')\n",
    "        lum_eff = const_json.get('lum_eff')\n",
    "        lum_eff_type = const_json.get('lum_eff_type')\n",
    "        erosion_height_start = const_json.get('erosion_height_start')\n",
    "        erosion_bins_per_10mass = const_json.get('erosion_bins_per_10mass')\n",
    "        erosion_coeff = const_json.get('erosion_coeff')\n",
    "        erosion_height_change = const_json.get('erosion_height_change')\n",
    "        erosion_coeff_change = const_json.get('erosion_coeff_change')\n",
    "        erosion_mass_index = const_json.get('erosion_mass_index')\n",
    "        erosion_mass_min = const_json.get('erosion_mass_min')\n",
    "        erosion_mass_max = const_json.get('erosion_mass_max')\n",
    "        erosion_rho_change = const_json.get('rho')\n",
    "        erosion_sigma_change = const_json.get('sigma')\n",
    "        compressive_strength = const_json.get('compressive_strength')\n",
    "        disruption_erosion_coeff = const_json.get('erosion_coeff')\n",
    "        disruption_mass_grain_ratio = const_json.get('disruption_mass_grain_ratio')\n",
    "        disruption_mass_index = const_json.get('disruption_mass_index')\n",
    "        disruption_mass_min_ratio = const_json.get('disruption_mass_min_ratio')\n",
    "        disruption_mass_max_ratio = const_json.get('disruption_mass_max_ratio')\n",
    "\n",
    "        # get fragmentation parameters from json file\n",
    "        # type, height, number, gamma, mass index are fixed, \n",
    "        # mass, ablation coefficient, erosion coefficient, grain min, grain max are not fixed\n",
    "        num_frags = len(const_json.get('fragmentation_entries'))\n",
    "        # fixed\n",
    "        frag_types = []\n",
    "        frag_heights = []\n",
    "        frag_numbers = []\n",
    "        frag_ab_coeffs = []\n",
    "        frag_gammas = []\n",
    "        frag_mis = []\n",
    "        # free\n",
    "        frag_masses = []\n",
    "        frag_er_coeffs = []\n",
    "        frag_grain_mins = []\n",
    "        frag_grain_maxs = []\n",
    "\n",
    "        for i, frag in enumerate(const_json.get('fragmentation_entries')):\n",
    "            ### If sigma, gamma and erosiion coefficient are none, convert to whatever the default value is \n",
    "            # fixed\n",
    "            frag_types.append(frag['frag_type'])\n",
    "            frag_heights.append(frag['height'])\n",
    "            frag_numbers.append(frag['number'])\n",
    "            if frag['gamma'] == None:\n",
    "                frag_gammas.append(gamma)\n",
    "            else:\n",
    "                frag_gammas.append(frag['gamma'])\n",
    "            frag_mis.append(frag['mass_index'])\n",
    "            if frag['sigma'] == None: \n",
    "                frag_ab_coeffs.append(sigma) \n",
    "            else:\n",
    "                frag_ab_coeffs.append(frag['sigma'])\n",
    "            # free\n",
    "            frag_masses.append(frag['mass_percent'])\n",
    "            if frag['erosion_coeff'] == None:\n",
    "                frag_er_coeffs.append(0.)  # erosion coefficient of zero\n",
    "            else:\n",
    "                frag_er_coeffs.append(frag['erosion_coeff'])\n",
    "            frag_grain_mins.append(frag['grain_mass_min'])\n",
    "            frag_grain_maxs.append(frag['grain_mass_max'])\n",
    "            \n",
    "        # set free and fixed params\n",
    "        #### CHANGE THESE LINES TO TEST DIFFERENT COMBINATIONS OF FREE PARAMETERS\n",
    "        self.fixed_frag_indices = fixed_frag_indices\n",
    "        self.free_frag_indices = free_frag_indices\n",
    "        # set up masks for free and fixed indices\n",
    "        free_frag_mask = np.zeros(num_frags, bool)\n",
    "        free_frag_mask[free_frag_indices] = True  # only free frags\n",
    "        fixed_frag_mask = np.ones(num_frags, bool)\n",
    "        fixed_frag_mask[free_frag_indices] = False  # everything EXCEPT free frags (i.e. fixed frags)\n",
    "        # assign free fixed parameters to object\n",
    "        self.free_params = [m_init, \n",
    "                            list(np.array(frag_masses)[free_frag_mask]), \n",
    "                            list(np.array(frag_er_coeffs)[free_frag_mask]), \n",
    "                            list(np.array(frag_grain_mins)[free_frag_mask]), \n",
    "                            list(np.array(frag_grain_maxs)[free_frag_mask])\n",
    "                           ]\n",
    "        self.fixed_params = [dt, P_0m, h_init, m_kill, v_kill, h_kill, len_kill, rho, rho_grain, sigma, \n",
    "                             v_init, shape_factor, \n",
    "                            gamma, zenith_angle, lum_eff, lum_eff_type, erosion_height_start, \n",
    "                            erosion_bins_per_10mass, erosion_coeff, erosion_height_change, \n",
    "                            erosion_coeff_change, erosion_mass_index, erosion_mass_min, erosion_mass_max, \n",
    "                            erosion_rho_change, erosion_sigma_change, compressive_strength, \n",
    "                            disruption_erosion_coeff, disruption_mass_grain_ratio, disruption_mass_index, \n",
    "                            disruption_mass_min_ratio, disruption_mass_max_ratio, \n",
    "                            frag_types, frag_heights, frag_numbers, \n",
    "                            frag_ab_coeffs, frag_gammas, frag_mis,\n",
    "                            list(np.array(frag_masses)[fixed_frag_indices]), \n",
    "                            list(np.array(frag_er_coeffs)[fixed_frag_indices]), \n",
    "                            list(np.array(frag_grain_mins)[fixed_frag_indices]), \n",
    "                            list(np.array(frag_grain_maxs)[fixed_frag_indices])\n",
    "                            ]\n",
    "        \n",
    "        # load all the global parameters into the object\n",
    "        consts = dt, P_0m, h_init, m_kill, v_kill, h_kill, len_kill, rho, rho_grain, m_init, sigma, v_init, shape_factor, gamma, zenith_angle, lum_eff, lum_eff_type, erosion_height_start, erosion_bins_per_10mass, erosion_coeff, erosion_height_change, erosion_coeff_change, erosion_mass_index, erosion_mass_min, erosion_mass_max, erosion_rho_change, erosion_sigma_change, compressive_strength, disruption_erosion_coeff, disruption_mass_grain_ratio, disruption_mass_index, disruption_mass_min_ratio, disruption_mass_max_ratio\n",
    "        self.loadGlobalParameters(consts)\n",
    "\n",
    "        # get all parameters\n",
    "        self.all_params = (self.free_params, self.fixed_params)\n",
    "        \n",
    "        # self.initializeSimulation(all_params)\n",
    "        # self.initializeSimulation(const_json)\n",
    "    \n",
    "    def loadGlobalParameters(self, consts):\n",
    "            \"\"\"\n",
    "            Loads the global parameters (constants) into the object\n",
    "            \"\"\"\n",
    "            dt, P_0m, h_init, m_kill, v_kill, h_kill, len_kill, rho, rho_grain, m_init, sigma, v_init, shape_factor, gamma, zenith_angle, lum_eff, lum_eff_type, erosion_height_start, erosion_bins_per_10mass, erosion_coeff, erosion_height_change, erosion_coeff_change, erosion_mass_index, erosion_mass_min, erosion_mass_max, erosion_rho_change, erosion_sigma_change, compressive_strength, disruption_erosion_coeff, disruption_mass_grain_ratio, disruption_mass_index, disruption_mass_min_ratio, disruption_mass_max_ratio = consts\n",
    "            # load all the non-fragmentation parameters into the object\n",
    "            # 33 parameters\n",
    "            self.const.dt = dt\n",
    "            self.const.P_0m = P_0m\n",
    "            self.const.h_init = h_init\n",
    "            self.const.m_kill = m_kill\n",
    "            self.const.v_kill = v_kill\n",
    "            self.const.h_kill = h_kill\n",
    "            self.const.len_kill = len_kill\n",
    "            self.const.rho = rho\n",
    "            self.const.rho_grain = rho_grain\n",
    "            self.const.m_init = m_init\n",
    "            self.const.sigma = sigma\n",
    "            self.const.v_init = v_init\n",
    "            self.const.shape_factor = shape_factor\n",
    "            self.const.gamma = gamma\n",
    "            self.const.zenith_angle = zenith_angle\n",
    "            self.const.lum_eff = lum_eff\n",
    "            self.const.lum_eff_type = lum_eff_type\n",
    "            self.const.erosion_height_start = erosion_height_start\n",
    "            self.const.erosion_bins_per_10mass = erosion_bins_per_10mass\n",
    "            self.const.erosion_coeff = erosion_coeff\n",
    "            self.const.erosion_height_change = erosion_height_change\n",
    "            self.const.erosion_coeff_change = erosion_coeff_change\n",
    "            self.const.erosion_mass_index = erosion_mass_index\n",
    "            self.const.erosion_mass_min = erosion_mass_min\n",
    "            self.const.erosion_mass_max = erosion_mass_max\n",
    "            self.const.erosion_rho_change = erosion_rho_change\n",
    "            self.const.erosion_sigma_change = erosion_sigma_change\n",
    "            self.const.compressive_strength = compressive_strength\n",
    "            self.const.disruption_erosion_coeff = disruption_erosion_coeff\n",
    "            self.const.disruption_mass_grain_ratio = disruption_mass_grain_ratio\n",
    "            self.const.disruption_mass_index = disruption_mass_index\n",
    "            self.const.disruption_mass_min_ratio = disruption_mass_min_ratio\n",
    "            self.const.disruption_mass_max_ratio = disruption_mass_max_ratio\n",
    "\n",
    "    def initializeSimulation(self, all_params):\n",
    "            \"\"\" Run the simulation and show the results. \"\"\"\n",
    "            # If the fragmentation is turned on and no fragmentation data is given, notify the user\n",
    "            # if self.const.fragmentation_on and (self.fragmentation is None):\n",
    "            #     frag_error_message = QMessageBox(QMessageBox.Critical, \"Fragmentation file error\", \\\n",
    "            #         \"Fragmentation is enabled but no fragmentation file is set.\")\n",
    "            #     frag_error_message.setInformativeText(\"Either load an existing fragmentation file or create a new one.\")\n",
    "            #     frag_error_message.exec_()\n",
    "            #     return None   \n",
    "\n",
    "            # unpack all params\n",
    "            free_params, fixed_params = all_params\n",
    "            # unpack again\n",
    "            #### CHANGE THESE NEXT TWO LINES TO TEST DIFFERENT COMBINATIONS OF FREE PARAMETERS\n",
    "            m_init, frag_masses_free, frag_er_coeffs_free, frag_grain_mins_free, frag_grain_maxs_free = free_params \n",
    "            dt, P_0m, h_init, m_kill, v_kill, h_kill, len_kill, rho, rho_grain, sigma, v_init, shape_factor, gamma, zenith_angle, lum_eff, lum_eff_type, erosion_height_start, erosion_bins_per_10mass, erosion_coeff, erosion_height_change, erosion_coeff_change, erosion_mass_index, erosion_mass_min, erosion_mass_max, erosion_rho_change, erosion_sigma_change, compressive_strength, disruption_erosion_coeff, disruption_mass_grain_ratio, disruption_mass_index, disruption_mass_min_ratio, disruption_mass_max_ratio, frag_types, frag_heights, frag_numbers, frag_ab_coeffs, frag_gammas, frag_mis, frag_masses_fixed, frag_er_coeffs_fixed, frag_grain_mins_fixed, frag_grain_maxs_fixed = fixed_params\n",
    "            # load all the global parameters into the object\n",
    "            consts = dt, P_0m, h_init, m_kill, v_kill, h_kill, len_kill, rho, rho_grain, m_init, sigma, v_init, shape_factor, gamma, zenith_angle, lum_eff, lum_eff_type, erosion_height_start, erosion_bins_per_10mass, erosion_coeff, erosion_height_change, erosion_coeff_change, erosion_mass_index, erosion_mass_min, erosion_mass_max, erosion_rho_change, erosion_sigma_change, compressive_strength, disruption_erosion_coeff, disruption_mass_grain_ratio, disruption_mass_index, disruption_mass_min_ratio, disruption_mass_max_ratio\n",
    "            self.loadGlobalParameters(consts)\n",
    "            # combine free fixed fragmentation parameters\n",
    "            frag_order = self.fixed_frag_indices + self.free_frag_indices\n",
    "            frag_masses = np.concatenate((frag_masses_fixed, frag_masses_free))[frag_order]\n",
    "            frag_er_coeffs = np.concatenate((frag_er_coeffs_fixed, frag_er_coeffs_free))[frag_order]\n",
    "            frag_grain_mins = np.concatenate((frag_grain_mins_fixed, frag_grain_mins_free))[frag_order]\n",
    "            frag_grain_maxs = np.concatenate((frag_grain_maxs_fixed, frag_grain_maxs_free))[frag_order]\n",
    "            \n",
    "            # Load fragmentation entries\n",
    "            self.fragmentation_entries = []\n",
    "            for i in range(0, len(frag_masses)):  # pick any frag entry to iterate over\n",
    "                frag_entry = gui.FragmentationEntry(frag_types[i], frag_heights[i], frag_numbers[i], frag_masses[i], \n",
    "                                                    frag_ab_coeffs[i], frag_gammas[i], frag_er_coeffs[i], frag_grain_mins[i], frag_grain_maxs[i], frag_mis[i])\n",
    "                self.fragmentation_entries.append(frag_entry)\n",
    "            # set the fragmentation entries to constants\n",
    "            self.const.fragmentation_entries = self.fragmentation_entries\n",
    "    \n",
    "            # Sort entries by height\n",
    "            self.fragmentation.sortByHeight()\n",
    "\n",
    "            # Reset the status of all fragmentations\n",
    "            self.fragmentation.resetAll()\n",
    "        \n",
    "            # fragmentation\n",
    "            self.const.fragmentation_on = True\n",
    "\n",
    "            # print(self.const.fragmentation_on)\n",
    "    \n",
    "            # Run the simulation\n",
    "            frag_main, results_list, wake_results = erosion.runSimulation(self.const, compute_wake=self.wake_on)\n",
    "            # print(results_list)\n",
    "\n",
    "            # Store simulation results\n",
    "            self.simulation_results = gui.SimulationResults(self.const, frag_main, results_list, wake_results)\n"
   ]
  },
  {
   "cell_type": "markdown",
   "id": "7e464e84-5ada-4cab-bb54-41d6de7d00f3",
   "metadata": {},
   "source": [
    "Test with 1999 event:"
   ]
  },
  {
   "cell_type": "code",
   "execution_count": 5,
   "id": "f0419014-bad4-4c19-88ef-fba92567369f",
   "metadata": {},
   "outputs": [],
   "source": [
    "# metsim_obj_old = MetSimObj_old(traj_path='../usg_metsim_files/1999-01-14/usg_input_jan_1999.txt', \n",
    "#                        const_json_file='../usg_metsim_files/1999-01-14/usg_input_jan_1999_sim_fit_latest.json')"
   ]
  },
  {
   "cell_type": "code",
   "execution_count": 6,
   "id": "bf0e98e1-3262-489a-b8a5-002e7595cb1b",
   "metadata": {},
   "outputs": [
    {
     "name": "stderr",
     "output_type": "stream",
     "text": [
      "/home/chowi/Thesis/physical/../../source/WesternMeteorPyLib/wmpl/MetSim/GUI.py:1559: RuntimeWarning: invalid value encountered in log10\n",
      "  data.absolute_magnitudes = -2.5*np.log10(data.usg_intensity_data[:, 1]/248)\n"
     ]
    }
   ],
   "source": [
    "FIXED_FRAG_INDICES = [0, 1, 2, 3, 4, 5, 6, 8]\n",
    "FREE_FRAG_INDICES = [7]  # fragments with free parameters\n",
    "\n",
    "metsim_obj = MetSimObj(traj_path='../usg_metsim_files/1994-02-01/usg_input_feb_1994.txt', \n",
    "                       const_json_file='../usg_metsim_files/1994-02-01/usg_input_feb_1994_sim_fit_latest.json',\n",
    "                       fixed_frag_indices = FIXED_FRAG_INDICES,\n",
    "                       free_frag_indices = FREE_FRAG_INDICES\n",
    "                      )"
   ]
  },
  {
   "cell_type": "code",
   "execution_count": 7,
   "id": "938f4644-2e97-4845-81f9-627053a86bfa",
   "metadata": {},
   "outputs": [
    {
     "name": "stderr",
     "output_type": "stream",
     "text": [
      "/home/chowi/Thesis/physical/../../source/WesternMeteorPyLib/wmpl/MetSim/GUI.py:95: RuntimeWarning: divide by zero encountered in log10\n",
      "  self.abs_magnitude_main = -2.5*np.log10(self.luminosity_main_arr/self.const.P_0m)\n",
      "/home/chowi/Thesis/physical/../../source/WesternMeteorPyLib/wmpl/MetSim/GUI.py:99: RuntimeWarning: divide by zero encountered in log10\n",
      "  self.abs_magnitude_eroded = -2.5*np.log10(self.luminosity_eroded_arr/self.const.P_0m)\n"
     ]
    }
   ],
   "source": [
    "metsim_obj.initializeSimulation(metsim_obj.all_params)"
   ]
  },
  {
   "cell_type": "code",
   "execution_count": 8,
   "id": "4ace06e0-1f43-4e19-8ad4-522d6b099bdc",
   "metadata": {},
   "outputs": [
    {
     "data": {
      "text/plain": [
       "(10.0, 80.0)"
      ]
     },
     "execution_count": 8,
     "metadata": {},
     "output_type": "execute_result"
    },
    {
     "data": {
      "image/png": "[encoded data removed]",
      "text/plain": [
       "<Figure size 1200x800 with 1 Axes>"
      ]
     },
     "metadata": {},
     "output_type": "display_data"
    }
   ],
   "source": [
    "plt.figure(figsize = (12, 8))\n",
    "plt.plot(3030 * (10 ** (metsim_obj.usg_data.absolute_magnitudes/(-2.5))), metsim_obj.traj.observations[0].model_ht/1000., label = 'observed')\n",
    "plt.plot(metsim_obj.simulation_results.luminosity_arr, metsim_obj.simulation_results.leading_frag_height_arr/1000., label = 'simulated')\n",
    "plt.legend()\n",
    "plt.ylim(10., 80.)"
   ]
  },
  {
   "cell_type": "code",
   "execution_count": 9,
   "id": "b4ec2950-bcb9-4f46-aa46-c263479194e2",
   "metadata": {},
   "outputs": [],
   "source": [
    "# plt.figure(figsize = (12, 8))\n",
    "# plt.plot(metsim_obj_old.usg_data.time_data + 11.9, metsim_obj_old.usg_data.absolute_magnitudes, label = 'observed')\n",
    "# plt.plot(metsim_obj_old.simulation_results.time_arr, metsim_obj_old.simulation_results.abs_magnitude, label = 'simulated')\n",
    "# plt.legend()"
   ]
  },
  {
   "cell_type": "code",
   "execution_count": 10,
   "id": "27d01c8f-5768-4078-bc8a-2894d02f7543",
   "metadata": {},
   "outputs": [],
   "source": [
    "# plt.figure(figsize = (12, 8))\n",
    "# plt.plot(metsim_obj_old.usg_data.time_data + 11.9, 3030 * (10 ** (metsim_obj_old.usg_data.absolute_magnitudes/(-2.5))), label = 'observed')\n",
    "# plt.plot(metsim_obj_old.simulation_results.time_arr, metsim_obj_old.simulation_results.luminosity_arr, label = 'simulated')\n",
    "# plt.legend()\n",
    "# plt.plot()"
   ]
  },
  {
   "cell_type": "code",
   "execution_count": 11,
   "id": "db086e6a-7fae-45a5-93f1-0ff12951cc33",
   "metadata": {},
   "outputs": [
    {
     "data": {
      "text/plain": [
       "(16731252519886.074, 18190275205937.734)"
      ]
     },
     "execution_count": 11,
     "metadata": {},
     "output_type": "execute_result"
    }
   ],
   "source": [
    "# check observed - simulated integrated intensity\n",
    "\n",
    "obs_integrated_intensity = np.nansum(np.diff(metsim_obj.usg_data.time_data) * 3030 * (10 ** (metsim_obj.usg_data.absolute_magnitudes/(-2.5)))[1:])\n",
    "sim_integrated_intensity = np.nansum(np.diff(metsim_obj.simulation_results.time_arr) * metsim_obj.simulation_results.luminosity_arr[1:])\n",
    "\n",
    "obs_integrated_intensity, sim_integrated_intensity"
   ]
  },
  {
   "cell_type": "code",
   "execution_count": 12,
   "id": "2bdefafc-1088-472e-8e04-9cbce3cea734",
   "metadata": {},
   "outputs": [
    {
     "data": {
      "text/plain": [
       "-1459022686051.6602"
      ]
     },
     "execution_count": 12,
     "metadata": {},
     "output_type": "execute_result"
    }
   ],
   "source": [
    "obs_integrated_intensity - sim_integrated_intensity"
   ]
  },
  {
   "cell_type": "markdown",
   "id": "62355110-10f1-40ae-be7f-1f3888ec3576",
   "metadata": {},
   "source": [
    "### Optimization:"
   ]
  },
  {
   "cell_type": "markdown",
   "id": "912dc6c4-08dd-404a-a083-64212d69a1ed",
   "metadata": {},
   "source": [
    "Note that sometimes MetSim returns a simulated LC in which the height of the leading fragment increases after the end of the LC"
   ]
  },
  {
   "cell_type": "code",
   "execution_count": 13,
   "id": "e33ed660-4811-4466-bfee-5b1a65b93fa3",
   "metadata": {},
   "outputs": [],
   "source": [
    "# helper nested function to flatten a list\n",
    "\n",
    "def flatten_list(nested_list):\n",
    "    def flatten(lst):\n",
    "        for item in lst:\n",
    "            if isinstance(item, list):\n",
    "                flatten(item)\n",
    "            else:\n",
    "                flat_list.append(item)\n",
    "\n",
    "    flat_list = []\n",
    "    flatten(nested_list)\n",
    "    return flat_list\n",
    "\n",
    "# helper function to unflatten the list\n",
    "#### CHANGE THE NUMBER OF GLOBAL/FRAGMENT PARAMETERS TO TEST DIFFERENT COMBINATIONS\n",
    "def unflatten_list(lst, num_global_params=1, num_frag_params=4):\n",
    "    \"\"\"\n",
    "    change number of global parameters and frag parameters based on the structure of the free parameters object\n",
    "    passed into the get_lc_cost_function() function\n",
    "    \"\"\"\n",
    "    # print(lst[:num_global_params], list(zip(*[iter(lst[num_global_params:])]*(len(lst[num_global_params:])//num_frag_params))))\n",
    "    num_frag_params = max(1, num_frag_params)\n",
    "    return list(lst[:num_global_params]) + list(zip(*[iter(lst[num_global_params:])]*(len(lst[num_global_params:])//num_frag_params)))\n",
    "\n",
    "\n",
    "### define residuals for the optimization routine\n",
    "# TODO: make sure the two are the same size\n",
    "\n",
    "\n",
    "# def get_lc_residuals(free_params_flattened, metsim_obj):\n",
    "#     \"\"\"\n",
    "#     Gets the residuals for the integrated intensity given a flattened list of free parameters and a metsim object\n",
    "\n",
    "#     Flattened list of free parameters has the form\n",
    "#     free_params = [rho, rho_grain, m_init, sigma, *frag_masses, *frag_ab_coeffs, *frag_er_coeffs, *frag_grain_mins, *frag_grain_maxs]\n",
    "\n",
    "#     Global parameters:\n",
    "#     rho: float\n",
    "#     rho_grain: float\n",
    "#     m_init: float\n",
    "#     sigma: float\n",
    "\n",
    "#     Fragment parameters (for n total fragments):\n",
    "#     *frag_masses: n fragment masses\n",
    "#     *frag_ab_coeffs: n ablation coefficients\n",
    "#     *frag_er_coeffs: n erosion coefficients\n",
    "#     *frag_grain_mins: n grain mins\n",
    "#     *frag_grain_maxs: n grain maxs\n",
    "#     \"\"\"\n",
    "#     # observed integrated intensity, this doesn't change\n",
    "#     obs_integrated_intensity = np.nansum(np.diff(metsim_obj.usg_data.time_data) * \n",
    "#                                          3030 * (10 ** (metsim_obj.usg_data.absolute_magnitudes/(-2.5)))[1:])\n",
    "#     # compute the simulated integrated intensity for the given set of free parameters\n",
    "#     # unflatten the list of free parameters to pass into the initializeSimulation() function\n",
    "#     free_params = unflatten_list(free_params_flattened)\n",
    "#     # construct all params to pass into intiializeSimulation function\n",
    "#     all_params = (free_params, metsim_obj.fixed_params)  # set of all params to use\n",
    "#     # run simulation\n",
    "#     metsim_obj.initializeSimulation(all_params)\n",
    "    \n",
    "#     # get simulated integrated intensity\n",
    "#     sim_integrated_intensity = np.nansum(np.diff(metsim_obj.simulation_results.time_arr) * \n",
    "#                                          metsim_obj.simulation_results.luminosity_arr[1:])\n",
    "#     # return the difference between the two\n",
    "#     return (obs_integrated_intensity - sim_integrated_intensity)\n",
    "\n",
    "### get the simulated light curve for a given set of free parameters and metsim object\n",
    "\n",
    "def sim_lc(flattened_free_params, metsim_obj):\n",
    "    \"\"\"\n",
    "    Same format as function below\n",
    "    \"\"\"\n",
    "    # compute the simulated integrated intensity for the given set of free parameters\n",
    "    # unflatten the list of free parameters to pass into the initializeSimulation() function\n",
    "    free_params = unflatten_list(flattened_free_params)\n",
    "    # construct all params to pass into intiializeSimulation function\n",
    "    # print(free_params)\n",
    "    all_params = (free_params, metsim_obj.fixed_params)  # set of all params to use\n",
    "    # run simulation on the object, copying it\n",
    "    # obj_copy = copy.copy(metsim_obj)\n",
    "    # obj_copy.initializeSimulation(all_params)\n",
    "    metsim_obj.initializeSimulation(all_params)\n",
    "    # return the simulation results\n",
    "    # return obj_copy.simulation_results\n",
    "    return metsim_obj.simulation_results\n",
    "\n",
    "\n",
    "### define cost function for the opitmization routine\n",
    "\n",
    "def get_lc_cost_function(flattened_free_params, metsim_obj, pso):\n",
    "    \"\"\"\n",
    "    Gets the residuals for the integrated intensity given\n",
    "    a metsim object and a list/tuple of an initial guess of free parameters\n",
    "    \n",
    "    metsim_obj is an MetSim() object\n",
    "    flattened_free_params is an initial guess flattened list of free parameters with the form\n",
    "    flattened_free_params = [rho, rho_grain, m_init, sigma, *frag_masses, \n",
    "    *frag_ab_coeffs, *frag_er_coeffs, *frag_grain_mins, *frag_grain_maxs]\n",
    "    pso is a boolean for if pso is being used\n",
    "\n",
    "    Global parameters:\n",
    "    rho: float\n",
    "    rho_grain: float\n",
    "    m_init: float\n",
    "    sigma: float\n",
    "\n",
    "    Fragment parameters (for n total fragments):\n",
    "    *frag_masses: n fragment masses\n",
    "    *frag_ab_coeffs: n ablation coefficients\n",
    "    *frag_er_coeffs: n - nd erosion coefficients where nd is the number of dust fragments\n",
    "    (as dust fragments do not have a nassociated erosion coefficient)\n",
    "    *frag_grain_mins: n grain mins\n",
    "    *frag_grain_maxs: n grain maxs\n",
    "    \"\"\"\n",
    "    # observed LC intensity, this doesn't change\n",
    "    obs_lc_intensity = 3030 * (10 ** (metsim_obj.usg_data.absolute_magnitudes/(-2.5)))\n",
    "\n",
    "    # get simulated LC intensity onthe object\n",
    "    # flatten if pso is being used\n",
    "    if pso:\n",
    "        flattened_free_params = flattened_free_params.flatten()\n",
    "    simulation_results = sim_lc(flattened_free_params, metsim_obj)\n",
    "    # compute simulated LC intensity\n",
    "    # find where height starts increasing if it does at any point\n",
    "    # print(np.diff(simulation_results.leading_frag_height_arr))\n",
    "    if np.sum(np.diff(simulation_results.leading_frag_height_arr) > 0) > 0:\n",
    "        first_increasing_height_arr = np.where(np.diff(simulation_results.leading_frag_height_arr) > 0)[0][0] - 1\n",
    "        print('increasing height')\n",
    "    else:\n",
    "        first_increasing_height_arr = -1\n",
    "    # interpolate to make sure they are the same length and discard points after height starts increasing if it does at any point\n",
    "    simulated_lc_intensity = np.interp(metsim_obj.traj.observations[0].model_ht, \n",
    "                                       np.flip(simulation_results.leading_frag_height_arr[:first_increasing_height_arr]), \n",
    "                                       np.flip(simulation_results.luminosity_arr[:first_increasing_height_arr]))\n",
    "    # return the negative log-likelihood (negative residual sum of square difference between the two)\n",
    "    # assuming there is no error for the observed LC data\n",
    "    log_likelihood = (-1/2 * np.nansum((obs_lc_intensity - simulated_lc_intensity) ** 2))/1e24  # scale this\n",
    "    # print(f'negative logL: {-log_likelihood}')\n",
    "    # negative log lieklihood\n",
    "    return -log_likelihood"
   ]
  },
  {
   "cell_type": "markdown",
   "id": "89868ec0-f438-46a1-877a-fe388fe3e85c",
   "metadata": {},
   "source": [
    "Also need to make sure that the loss function to minimize (currently computed as the **negative** log-likelihood equivalent to negative RSS/$\\chi^2$) is correct, since if there are errors then these need to be accounted for in the computation of the loss function\n",
    "\n",
    "Also probably want to make `sim_lc` returns the interpolated LC:"
   ]
  },
  {
   "cell_type": "markdown",
   "id": "72731301-b213-4ab4-a9c8-26e6d90a003b",
   "metadata": {},
   "source": [
    "Test to make sure changing the parameters affects the logL and the LCs:"
   ]
  },
  {
   "cell_type": "code",
   "execution_count": 14,
   "id": "cdd4a37a-ffd6-4e03-a883-15a3450e203d",
   "metadata": {},
   "outputs": [],
   "source": [
    "### USE FOLLOWING LINE TO SAVE NEW SET OF TEST PARAMETERS WHEN TESTING DIFFERENT COMBINATIONS OF PARAMETERS\n",
    "np.save('initial_guess_1994_TEST.npy', np.array(flatten_list(metsim_obj.free_params)))"
   ]
  },
  {
   "cell_type": "code",
   "execution_count": 15,
   "id": "04c43c1e-24d5-40ec-8bbb-e767b830e27c",
   "metadata": {},
   "outputs": [
    {
     "data": {
      "text/plain": [
       "166.08079157154498"
      ]
     },
     "execution_count": 15,
     "metadata": {},
     "output_type": "execute_result"
    }
   ],
   "source": [
    "initial_guess = np.load('initial_guess_1994_TEST.npy')  # initial pre-saved guess\n",
    "# initial_guess\n",
    "\n",
    "lamb_func = lambda free_params_flattened: get_lc_cost_function(free_params_flattened, metsim_obj=metsim_obj, pso=False)\n",
    "lamb_func(initial_guess)"
   ]
  },
  {
   "cell_type": "code",
   "execution_count": 16,
   "id": "c6ad4661-2de7-48bc-90f0-b3cda7787719",
   "metadata": {},
   "outputs": [],
   "source": [
    "#### USE THIS TO TEST DIFFERENT COMBINATIONS OF TEST PARAMETERS\n",
    "\n",
    "initial_guess_mod = initial_guess.copy()\n",
    "# fiddle with global mass\n",
    "initial_guess_mod[0] = initial_guess[0] + 0.\n",
    "# fiddle with frag masses\n",
    "initial_guess_mod = initial_guess + [0., # total mass\n",
    "                                     0.,  # frag mass pcts\n",
    "                                     1.e-7, # erosion coeffs\n",
    "                                     0., # grain mins\n",
    "                                     0.  # grain maxs\n",
    "                                    ] "
   ]
  },
  {
   "cell_type": "code",
   "execution_count": 17,
   "id": "65dd59af-3098-4463-bf1d-4606eb5b9782",
   "metadata": {},
   "outputs": [
    {
     "data": {
      "text/plain": [
       "498.4193100892263"
      ]
     },
     "execution_count": 17,
     "metadata": {},
     "output_type": "execute_result"
    }
   ],
   "source": [
    "lamb_func(initial_guess_mod)"
   ]
  },
  {
   "cell_type": "code",
   "execution_count": 18,
   "id": "27e90498-bc66-4753-bf0e-218eb9adcefa",
   "metadata": {},
   "outputs": [
    {
     "data": {
      "text/plain": [
       "(array([1.5e+06, 3.5e+01, 1.0e-07, 1.0e+00, 5.0e+00]),\n",
       " array([1.5e+06, 3.5e+01, 2.0e-07, 1.0e+00, 5.0e+00]))"
      ]
     },
     "execution_count": 18,
     "metadata": {},
     "output_type": "execute_result"
    }
   ],
   "source": [
    "initial_guess, initial_guess_mod"
   ]
  },
  {
   "cell_type": "code",
   "execution_count": 19,
   "id": "0a2b6056-b3b2-4f68-9575-96c3dc07e31c",
   "metadata": {},
   "outputs": [],
   "source": [
    "results_initial = sim_lc(initial_guess, metsim_obj)\n",
    "results_initial_mod = sim_lc(initial_guess_mod, metsim_obj)"
   ]
  },
  {
   "cell_type": "code",
   "execution_count": 20,
   "id": "1a2ad309-e1b0-4f7c-94da-3a5bfe29b49a",
   "metadata": {},
   "outputs": [
    {
     "data": {
      "text/plain": [
       "<matplotlib.legend.Legend at 0x7effb043caf0>"
      ]
     },
     "execution_count": 20,
     "metadata": {},
     "output_type": "execute_result"
    },
    {
     "data": {
      "image/png": "[encoded data removed]",
      "text/plain": [
       "<Figure size 1200x800 with 1 Axes>"
      ]
     },
     "metadata": {},
     "output_type": "display_data"
    }
   ],
   "source": [
    "plt.figure(figsize = (12, 8))\n",
    "plt.plot(results_initial.luminosity_arr, results_initial.leading_frag_height_arr/1000., label = 'leading simulated')\n",
    "plt.plot(results_initial_mod.luminosity_arr, results_initial_mod.leading_frag_height_arr/1000., label = 'leading simulated mod')\n",
    "plt.ylim(10., 80.)\n",
    "plt.legend()"
   ]
  },
  {
   "cell_type": "markdown",
   "id": "057fa4a0-49f2-46ab-abfe-78a84936b058",
   "metadata": {},
   "source": [
    "Compute observed LC and simulated initial guess:"
   ]
  },
  {
   "cell_type": "code",
   "execution_count": 21,
   "id": "4695d136-8e69-48cb-9d7c-3b6c360c5b19",
   "metadata": {},
   "outputs": [],
   "source": [
    "# observed LC intensity\n",
    "obs_lc_intensity = 3030 * (10 ** (metsim_obj.usg_data.absolute_magnitudes/(-2.5)))\n",
    "# simulated LC intensities\n",
    "# initial\n",
    "results_initial = sim_lc(initial_guess, metsim_obj)"
   ]
  },
  {
   "cell_type": "markdown",
   "id": "cfe3cce5-230f-4540-93d0-412c953d50d4",
   "metadata": {},
   "source": [
    "Plot simulated initial guess versus observed magnitudes and intensities:"
   ]
  },
  {
   "cell_type": "code",
   "execution_count": 22,
   "id": "9313bf8b-3013-4db5-83b5-a4ca0315ba04",
   "metadata": {},
   "outputs": [
    {
     "data": {
      "text/plain": [
       "<matplotlib.legend.Legend at 0x7effc06995b0>"
      ]
     },
     "execution_count": 22,
     "metadata": {},
     "output_type": "execute_result"
    },
    {
     "data": {
      "image/png": "[encoded data removed]",
      "text/plain": [
       "<Figure size 1200x800 with 1 Axes>"
      ]
     },
     "metadata": {},
     "output_type": "display_data"
    }
   ],
   "source": [
    "plt.figure(figsize = (12, 8))\n",
    "plt.plot(results_initial.abs_magnitude, results_initial.leading_frag_height_arr/1000., label = 'leading simulated')\n",
    "plt.plot(metsim_obj.usg_data.absolute_magnitudes, metsim_obj.traj.observations[0].model_ht/1000., label = 'observed')\n",
    "plt.ylim(10., 80.)\n",
    "plt.legend()"
   ]
  },
  {
   "cell_type": "code",
   "execution_count": 23,
   "id": "61ed54fc-059f-4440-9ddb-46879940c677",
   "metadata": {},
   "outputs": [
    {
     "data": {
      "text/plain": [
       "<matplotlib.legend.Legend at 0x7effcd033760>"
      ]
     },
     "execution_count": 23,
     "metadata": {},
     "output_type": "execute_result"
    },
    {
     "data": {
      "image/png": "[encoded data removed]",
      "text/plain": [
       "<Figure size 1200x800 with 1 Axes>"
      ]
     },
     "metadata": {},
     "output_type": "display_data"
    }
   ],
   "source": [
    "plt.figure(figsize = (12, 8))\n",
    "# plt.plot(results_initial.luminosity_arr, results_initial.main_height_arr/1000., label = 'main')\n",
    "# plt.plot(results_initial.luminosity_arr, results_initial.brightest_height_arr/1000., label = 'brightest')\n",
    "plt.plot(results_initial.luminosity_arr, results_initial.leading_frag_height_arr/1000., label = 'leading simulated')\n",
    "plt.plot(obs_lc_intensity, metsim_obj.traj.observations[0].model_ht/1000., label = 'observed')\n",
    "plt.ylim(10., 80.)\n",
    "plt.legend()"
   ]
  },
  {
   "cell_type": "markdown",
   "id": "f2c59f91-3f57-4e55-82a8-d57da92affad",
   "metadata": {},
   "source": [
    "Run optimization:"
   ]
  },
  {
   "cell_type": "markdown",
   "id": "e9b4aa8a-f3b5-4b40-92d0-fb63ba59a592",
   "metadata": {},
   "source": [
    "    flattened_free_params is an initial guess flattened list of free parameters with the form\n",
    "    flattened_free_params = [m_init, *frag_masses, *frag_er_coeffs, *frag_grain_mins, *frag_grain_maxs]\n",
    "\n",
    "    Global parameters:\n",
    "    m_init: float --> (1e4, 1e7) # wide range for initialm ass\n",
    "\n",
    "    Fragment parameters (for n total fragments):\n",
    "    *frag_masses: n fragment masses --> (0, 100) %\n",
    "    *frag_er_coeffs: n erosion coefficients --> (0.23, 6) for eroding fragments based on danielle's cases\n",
    "                                                 0 for dust also based on danielle\n",
    "    *frag_grain_mins: n grain mins --> (1e-8, 1e-2) for eroding fragments (use same for dust) based on danielle\n",
    "    *frag_grain_maxs: n grain maxs --> (5e-7, 5e0) for eroding fragments (use same for dust) based on danielle"
   ]
  },
  {
   "cell_type": "code",
   "execution_count": 24,
   "id": "93e29fcf-8b66-483d-98d6-93460f7dac95",
   "metadata": {},
   "outputs": [],
   "source": [
    "# Generate the tuples based on the length of free fragments\n",
    "fragmentation_count = len(FREE_FRAG_INDICES)\n",
    "# Fragment mass percents\n",
    "frag_mass_percents = tuple((0., 100.) for _ in range(fragmentation_count))\n",
    "# Frag ablation coeffs\n",
    "# these are 0.01 for dust and between (0.002 * 1e-6, 0.025 * 1e-6) for eroding fragments\n",
    "# frag_ablation_coeffs = tuple((0.002 * 1e-6, 0.025 * 1e-6) for _ in range(fragmentation_count))\n",
    "# frag_ablation_coeffs = tuple([(0.01 * 1e-6, 0.01 * 1e-6) if entry.frag_type == 'D'\n",
    "#                               else (0.002 * 1e-6, 0.025 * 1e-6) for entry in metsim_obj.fragmentation_entries])\n",
    "# Frag erosion coeffs\n",
    "# these are fixed at zero for dust and between (0.23 * 1e-6, 6.0 * 1e-6) for eroding fragments\n",
    "# frag_erosion_coeffs = tuple([(0., 0.) if entry.frag_type == 'D' \n",
    "#                              else (0.23 * 1e-6, 6.0 * 1e-6) for entry in metsim_obj.fragmentation_entries])\n",
    "frag_erosion_coeffs = tuple([(0., 0.) if entry.frag_type == 'D' \n",
    "                             else (0.01 * 1e-6, 6.0 * 1e-6) for entry in \n",
    "                             [metsim_obj.fragmentation_entries[i] for i in FREE_FRAG_INDICES]])\n",
    "# frag_erosion_coeffs = tuple((0.23 * 1e-6, 6.0 * 1e-6) for _ in range(fragmentation_count))\n",
    "# Frag grain mins\n",
    "# frag_grain_mins = tuple((1e-8, 1e-2) for _ in range(fragmentation_count))\n",
    "frag_grain_mins = tuple((1e-4, 1e1) for _ in range(fragmentation_count))\n",
    "# Frag grain maxs\n",
    "frag_grain_maxs = tuple((1e-3, 1e2) for _ in range(fragmentation_count))\n",
    "# Combine them into a single flat tuple\n",
    "#### CHANGE THE RESULTS/BOUNDS DEPENDING ON WHAT COMBINATION IS BEING USED!\n",
    "result = frag_mass_percents + frag_erosion_coeffs + frag_grain_mins + frag_grain_maxs\n",
    "# Print the result to check the output\n",
    "bounds = ((10 ** 4, 10 ** 7), ) + result\n",
    "\n",
    "# run optimization routine\n",
    "\n",
    "# constraints\n",
    "# def apply_mass_constraint(flattened_free_params):\n",
    "#     \"\"\"\n",
    "#     Restrict grain max to be greater than grain min, otherwise MetSim crashes\n",
    "#     \"\"\"\n",
    "#     unflattened_list = unflatten_list(flattened_free_params)\n",
    "#     frag_grain_mins = unflattened_list[-2]  # get grain mins\n",
    "#     frag_grain_maxs = unflattened_list[-1]   # get grain maxs\n",
    "#     ## EQUALITY\n",
    "#     # return 0 if optimizer should accept as valid value, return 1 if it should reject\n",
    "#     return np.sum(list(map(lambda min, max: min > max, frag_grain_mins, frag_grain_maxs)))\n",
    "#     ## INEQUALITY\n",
    "#     # return -np.sum(list(map(lambda min, max: min > max, frag_grain_mins, frag_grain_maxs)))\n",
    "\n",
    "# mass_constraint = ({'type': 'eq', \"fun\": lambda flattened_free_params[})\n",
    "\n",
    "#### ADD MASS CONSTRAINTS IF GRAIN MIN/MAX IS BEING USED IN THE COMBINATIONS!\n",
    "# generate mass constraints\n",
    "mass_constraints = []\n",
    "# for each fragment, impose constraint that the fragment grain min (position -2) must be less than the fragment grain max (position -1)\n",
    "for i in range(len(unflatten_list(initial_guess)[-1])):\n",
    "    mass_constraints.append({'type': 'eq', \n",
    "                             \"fun\": lambda free_params_flattened: \n",
    "                             int(unflatten_list(free_params_flattened)[-2][i] > unflatten_list(free_params_flattened)[-1][i])})"
   ]
  },
  {
   "cell_type": "markdown",
   "id": "b72a6682-ef18-4ade-9699-f15078fc4947",
   "metadata": {},
   "source": [
    "Run optimization:"
   ]
  },
  {
   "cell_type": "markdown",
   "id": "02dcf8d5-d220-4476-ac10-9d90ab573418",
   "metadata": {},
   "source": [
    "$\\sim 90$ minutes for $200$ iterations\n",
    "\n",
    "Seems to stabilize after $\\sim 35$ iterations at whatever value..."
   ]
  },
  {
   "cell_type": "code",
   "execution_count": 25,
   "id": "d28702c3-8f0c-4811-a798-348b1dc9c90a",
   "metadata": {},
   "outputs": [
    {
     "name": "stdout",
     "output_type": "stream",
     "text": [
      "286.07652658701727\n",
      "392.2528495093509\n",
      "176.43711795457457\n",
      "364.76929210597956\n",
      "170.05497910006076\n",
      "162.42438164053237\n",
      "206.50253292384932\n",
      "197.22004835573176\n",
      "335.79753099323494\n",
      "232.72257392074457\n",
      "102937358843844.6\n",
      "178.16574936139256\n",
      "170.50801146831543\n",
      "208.67590584995767\n"
     ]
    },
    {
     "ename": "KeyboardInterrupt",
     "evalue": "",
     "output_type": "error",
     "traceback": [
      "\u001b[0;31m---------------------------------------------------------------------------\u001b[0m",
      "\u001b[0;31mKeyboardInterrupt\u001b[0m                         Traceback (most recent call last)",
      "Cell \u001b[0;32mIn[25], line 30\u001b[0m\n\u001b[1;32m     28\u001b[0m \u001b[38;5;66;03m# check cost function on all the initial particles\u001b[39;00m\n\u001b[1;32m     29\u001b[0m \u001b[38;5;28;01mfor\u001b[39;00m pos \u001b[38;5;129;01min\u001b[39;00m init_pos:\n\u001b[0;32m---> 30\u001b[0m     \u001b[38;5;28mprint\u001b[39m(\u001b[43mget_lc_cost_function_pso\u001b[49m\u001b[43m(\u001b[49m\u001b[43mpos\u001b[49m\u001b[43m)\u001b[49m)\n\u001b[1;32m     32\u001b[0m \u001b[38;5;66;03m# ### HOW METSIM DOES IT:\u001b[39;00m\n\u001b[1;32m     33\u001b[0m \u001b[38;5;66;03m# # Normalize the fit parameters to the [0, 1] range\u001b[39;00m\n\u001b[1;32m     34\u001b[0m \u001b[38;5;66;03m# mini_norm_handle = gui.MinimizationParameterNormalization(initial_guess)\u001b[39;00m\n\u001b[0;32m   (...)\u001b[0m\n\u001b[1;32m     46\u001b[0m \u001b[38;5;66;03m# # Add manual fit to initial positions\u001b[39;00m\n\u001b[1;32m     47\u001b[0m \u001b[38;5;66;03m# init_pos = np.append(init_pos, np.array([p0_normed]), axis=0)\u001b[39;00m\n",
      "Cell \u001b[0;32mIn[25], line 7\u001b[0m, in \u001b[0;36mget_lc_cost_function_pso\u001b[0;34m(free_params_flattened, metsim_obj, pso)\u001b[0m\n\u001b[1;32m      6\u001b[0m \u001b[38;5;28;01mdef\u001b[39;00m \u001b[38;5;21mget_lc_cost_function_pso\u001b[39m(free_params_flattened, metsim_obj\u001b[38;5;241m=\u001b[39mmetsim_obj, pso\u001b[38;5;241m=\u001b[39m\u001b[38;5;28;01mTrue\u001b[39;00m):\n\u001b[0;32m----> 7\u001b[0m     \u001b[38;5;28;01mreturn\u001b[39;00m \u001b[43mget_lc_cost_function\u001b[49m\u001b[43m(\u001b[49m\u001b[43mfree_params_flattened\u001b[49m\u001b[43m,\u001b[49m\u001b[43m \u001b[49m\u001b[43mmetsim_obj\u001b[49m\u001b[43m,\u001b[49m\u001b[43m \u001b[49m\u001b[43mpso\u001b[49m\u001b[43m)\u001b[49m\n",
      "Cell \u001b[0;32mIn[13], line 123\u001b[0m, in \u001b[0;36mget_lc_cost_function\u001b[0;34m(flattened_free_params, metsim_obj, pso)\u001b[0m\n\u001b[1;32m    121\u001b[0m \u001b[38;5;28;01mif\u001b[39;00m pso:\n\u001b[1;32m    122\u001b[0m     flattened_free_params \u001b[38;5;241m=\u001b[39m flattened_free_params\u001b[38;5;241m.\u001b[39mflatten()\n\u001b[0;32m--> 123\u001b[0m simulation_results \u001b[38;5;241m=\u001b[39m \u001b[43msim_lc\u001b[49m\u001b[43m(\u001b[49m\u001b[43mflattened_free_params\u001b[49m\u001b[43m,\u001b[49m\u001b[43m \u001b[49m\u001b[43mmetsim_obj\u001b[49m\u001b[43m)\u001b[49m\n\u001b[1;32m    124\u001b[0m \u001b[38;5;66;03m# compute simulated LC intensity\u001b[39;00m\n\u001b[1;32m    125\u001b[0m \u001b[38;5;66;03m# find where height starts increasing if it does at any point\u001b[39;00m\n\u001b[1;32m    126\u001b[0m \u001b[38;5;66;03m# print(np.diff(simulation_results.leading_frag_height_arr))\u001b[39;00m\n\u001b[1;32m    127\u001b[0m \u001b[38;5;28;01mif\u001b[39;00m np\u001b[38;5;241m.\u001b[39msum(np\u001b[38;5;241m.\u001b[39mdiff(simulation_results\u001b[38;5;241m.\u001b[39mleading_frag_height_arr) \u001b[38;5;241m>\u001b[39m \u001b[38;5;241m0\u001b[39m) \u001b[38;5;241m>\u001b[39m \u001b[38;5;241m0\u001b[39m:\n",
      "Cell \u001b[0;32mIn[13], line 83\u001b[0m, in \u001b[0;36msim_lc\u001b[0;34m(flattened_free_params, metsim_obj)\u001b[0m\n\u001b[1;32m     79\u001b[0m all_params \u001b[38;5;241m=\u001b[39m (free_params, metsim_obj\u001b[38;5;241m.\u001b[39mfixed_params)  \u001b[38;5;66;03m# set of all params to use\u001b[39;00m\n\u001b[1;32m     80\u001b[0m \u001b[38;5;66;03m# run simulation on the object, copying it\u001b[39;00m\n\u001b[1;32m     81\u001b[0m \u001b[38;5;66;03m# obj_copy = copy.copy(metsim_obj)\u001b[39;00m\n\u001b[1;32m     82\u001b[0m \u001b[38;5;66;03m# obj_copy.initializeSimulation(all_params)\u001b[39;00m\n\u001b[0;32m---> 83\u001b[0m \u001b[43mmetsim_obj\u001b[49m\u001b[38;5;241;43m.\u001b[39;49m\u001b[43minitializeSimulation\u001b[49m\u001b[43m(\u001b[49m\u001b[43mall_params\u001b[49m\u001b[43m)\u001b[49m\n\u001b[1;32m     84\u001b[0m \u001b[38;5;66;03m# return the simulation results\u001b[39;00m\n\u001b[1;32m     85\u001b[0m \u001b[38;5;66;03m# return obj_copy.simulation_results\u001b[39;00m\n\u001b[1;32m     86\u001b[0m \u001b[38;5;28;01mreturn\u001b[39;00m metsim_obj\u001b[38;5;241m.\u001b[39msimulation_results\n",
      "Cell \u001b[0;32mIn[4], line 279\u001b[0m, in \u001b[0;36mMetSimObj.initializeSimulation\u001b[0;34m(self, all_params)\u001b[0m\n\u001b[1;32m    274\u001b[0m \u001b[38;5;28mself\u001b[39m\u001b[38;5;241m.\u001b[39mconst\u001b[38;5;241m.\u001b[39mfragmentation_on \u001b[38;5;241m=\u001b[39m \u001b[38;5;28;01mTrue\u001b[39;00m\n\u001b[1;32m    276\u001b[0m \u001b[38;5;66;03m# print(self.const.fragmentation_on)\u001b[39;00m\n\u001b[1;32m    277\u001b[0m \n\u001b[1;32m    278\u001b[0m \u001b[38;5;66;03m# Run the simulation\u001b[39;00m\n\u001b[0;32m--> 279\u001b[0m frag_main, results_list, wake_results \u001b[38;5;241m=\u001b[39m \u001b[43merosion\u001b[49m\u001b[38;5;241;43m.\u001b[39;49m\u001b[43mrunSimulation\u001b[49m\u001b[43m(\u001b[49m\u001b[38;5;28;43mself\u001b[39;49m\u001b[38;5;241;43m.\u001b[39;49m\u001b[43mconst\u001b[49m\u001b[43m,\u001b[49m\u001b[43m \u001b[49m\u001b[43mcompute_wake\u001b[49m\u001b[38;5;241;43m=\u001b[39;49m\u001b[38;5;28;43mself\u001b[39;49m\u001b[38;5;241;43m.\u001b[39;49m\u001b[43mwake_on\u001b[49m\u001b[43m)\u001b[49m\n\u001b[1;32m    280\u001b[0m \u001b[38;5;66;03m# print(results_list)\u001b[39;00m\n\u001b[1;32m    281\u001b[0m \n\u001b[1;32m    282\u001b[0m \u001b[38;5;66;03m# Store simulation results\u001b[39;00m\n\u001b[1;32m    283\u001b[0m \u001b[38;5;28mself\u001b[39m\u001b[38;5;241m.\u001b[39msimulation_results \u001b[38;5;241m=\u001b[39m gui\u001b[38;5;241m.\u001b[39mSimulationResults(\u001b[38;5;28mself\u001b[39m\u001b[38;5;241m.\u001b[39mconst, frag_main, results_list, wake_results)\n",
      "File \u001b[0;32m~/Thesis/physical/../../source/WesternMeteorPyLib/wmpl/MetSim/MetSimErosion.py:1264\u001b[0m, in \u001b[0;36mrunSimulation\u001b[0;34m(const, compute_wake)\u001b[0m\n\u001b[1;32m   1256\u001b[0m wake_results \u001b[38;5;241m=\u001b[39m []\n\u001b[1;32m   1257\u001b[0m \u001b[38;5;28;01mwhile\u001b[39;00m const\u001b[38;5;241m.\u001b[39mn_active \u001b[38;5;241m>\u001b[39m \u001b[38;5;241m0\u001b[39m:\n\u001b[1;32m   1258\u001b[0m \n\u001b[1;32m   1259\u001b[0m     \u001b[38;5;66;03m# Ablate the fragments\u001b[39;00m\n\u001b[1;32m   1260\u001b[0m     fragments, const, luminosity_total, luminosity_main, luminosity_eroded, electron_density_total, \\\n\u001b[1;32m   1261\u001b[0m         tau_total, tau_main, tau_eroded, brightest_height, brightest_length, brightest_vel, \\\n\u001b[1;32m   1262\u001b[0m         leading_frag_height, leading_frag_length, leading_frag_vel, leading_frag_dyn_press, \\\n\u001b[1;32m   1263\u001b[0m         mass_total_active, main_mass, main_height, main_length, main_vel, main_dyn_press, \\\n\u001b[0;32m-> 1264\u001b[0m         wake \u001b[38;5;241m=\u001b[39m \u001b[43mablateAll\u001b[49m\u001b[43m(\u001b[49m\u001b[43mfragments\u001b[49m\u001b[43m,\u001b[49m\u001b[43m \u001b[49m\u001b[43mconst\u001b[49m\u001b[43m,\u001b[49m\u001b[43m \u001b[49m\u001b[43mcompute_wake\u001b[49m\u001b[38;5;241;43m=\u001b[39;49m\u001b[43mcompute_wake\u001b[49m\u001b[43m)\u001b[49m\n\u001b[1;32m   1266\u001b[0m     \u001b[38;5;66;03m# Track the bottom height of the main fragment\u001b[39;00m\n\u001b[1;32m   1267\u001b[0m     \u001b[38;5;28;01mif\u001b[39;00m main_height \u001b[38;5;241m>\u001b[39m \u001b[38;5;241m0\u001b[39m:\n",
      "File \u001b[0;32m~/Thesis/physical/../../source/WesternMeteorPyLib/wmpl/MetSim/MetSimErosion.py:896\u001b[0m, in \u001b[0;36mablateAll\u001b[0;34m(fragments, const, compute_wake)\u001b[0m\n\u001b[1;32m    891\u001b[0m \u001b[38;5;28;01mif\u001b[39;00m frag\u001b[38;5;241m.\u001b[39merosion_enabled:\n\u001b[1;32m    892\u001b[0m \n\u001b[1;32m    893\u001b[0m     \u001b[38;5;66;03m# Generate new grains if there is some mass to distribute\u001b[39;00m\n\u001b[1;32m    894\u001b[0m     \u001b[38;5;28;01mif\u001b[39;00m \u001b[38;5;28mabs\u001b[39m(mass_loss_erosion) \u001b[38;5;241m>\u001b[39m \u001b[38;5;241m0\u001b[39m:\n\u001b[0;32m--> 896\u001b[0m         grain_children, const \u001b[38;5;241m=\u001b[39m \u001b[43mgenerateFragments\u001b[49m\u001b[43m(\u001b[49m\u001b[43mconst\u001b[49m\u001b[43m,\u001b[49m\u001b[43m \u001b[49m\u001b[43mfrag\u001b[49m\u001b[43m,\u001b[49m\u001b[43m \u001b[49m\u001b[38;5;28;43mabs\u001b[39;49m\u001b[43m(\u001b[49m\u001b[43mmass_loss_erosion\u001b[49m\u001b[43m)\u001b[49m\u001b[43m,\u001b[49m\u001b[43m \u001b[49m\u001b[43m\\\u001b[49m\n\u001b[1;32m    897\u001b[0m \u001b[43m            \u001b[49m\u001b[43mfrag\u001b[49m\u001b[38;5;241;43m.\u001b[39;49m\u001b[43merosion_mass_index\u001b[49m\u001b[43m,\u001b[49m\u001b[43m \u001b[49m\u001b[43mfrag\u001b[49m\u001b[38;5;241;43m.\u001b[39;49m\u001b[43merosion_mass_min\u001b[49m\u001b[43m,\u001b[49m\u001b[43m \u001b[49m\u001b[43mfrag\u001b[49m\u001b[38;5;241;43m.\u001b[39;49m\u001b[43merosion_mass_max\u001b[49m\u001b[43m,\u001b[49m\u001b[43m \u001b[49m\u001b[43m\\\u001b[49m\n\u001b[1;32m    898\u001b[0m \u001b[43m            \u001b[49m\u001b[43mkeep_eroding\u001b[49m\u001b[38;5;241;43m=\u001b[39;49m\u001b[38;5;28;43;01mFalse\u001b[39;49;00m\u001b[43m)\u001b[49m\n\u001b[1;32m    900\u001b[0m         const\u001b[38;5;241m.\u001b[39mn_active \u001b[38;5;241m+\u001b[39m\u001b[38;5;241m=\u001b[39m \u001b[38;5;28mlen\u001b[39m(grain_children)\n\u001b[1;32m    901\u001b[0m         frag_children_all \u001b[38;5;241m+\u001b[39m\u001b[38;5;241m=\u001b[39m grain_children\n",
      "File \u001b[0;32m~/Thesis/physical/../../source/WesternMeteorPyLib/wmpl/MetSim/MetSimErosion.py:511\u001b[0m, in \u001b[0;36mgenerateFragments\u001b[0;34m(const, frag_parent, eroded_mass, mass_index, mass_min, mass_max, keep_eroding, disruption)\u001b[0m\n\u001b[1;32m    507\u001b[0m \u001b[38;5;66;03m# If there are any grains to erode, erode them\u001b[39;00m\n\u001b[1;32m    508\u001b[0m \u001b[38;5;28;01mif\u001b[39;00m n_grains_bin_round \u001b[38;5;241m>\u001b[39m \u001b[38;5;241m0\u001b[39m:\n\u001b[1;32m    509\u001b[0m \n\u001b[1;32m    510\u001b[0m     \u001b[38;5;66;03m# Init the new fragment with params of the parent\u001b[39;00m\n\u001b[0;32m--> 511\u001b[0m     frag_child \u001b[38;5;241m=\u001b[39m \u001b[43mcopy\u001b[49m\u001b[38;5;241;43m.\u001b[39;49m\u001b[43mdeepcopy\u001b[49m\u001b[43m(\u001b[49m\u001b[43mfrag_parent\u001b[49m\u001b[43m)\u001b[49m\n\u001b[1;32m    513\u001b[0m     \u001b[38;5;66;03m# Assign the number of grains this fragment stands for (make sure to preserve the previous value\u001b[39;00m\n\u001b[1;32m    514\u001b[0m     \u001b[38;5;66;03m#   if erosion is done for more fragments)\u001b[39;00m\n\u001b[1;32m    515\u001b[0m     frag_child\u001b[38;5;241m.\u001b[39mn_grains \u001b[38;5;241m*\u001b[39m\u001b[38;5;241m=\u001b[39m n_grains_bin_round\n",
      "File \u001b[0;32m~/miniconda3/envs/wmpl/lib/python3.8/copy.py:172\u001b[0m, in \u001b[0;36mdeepcopy\u001b[0;34m(x, memo, _nil)\u001b[0m\n\u001b[1;32m    170\u001b[0m                 y \u001b[38;5;241m=\u001b[39m x\n\u001b[1;32m    171\u001b[0m             \u001b[38;5;28;01melse\u001b[39;00m:\n\u001b[0;32m--> 172\u001b[0m                 y \u001b[38;5;241m=\u001b[39m \u001b[43m_reconstruct\u001b[49m\u001b[43m(\u001b[49m\u001b[43mx\u001b[49m\u001b[43m,\u001b[49m\u001b[43m \u001b[49m\u001b[43mmemo\u001b[49m\u001b[43m,\u001b[49m\u001b[43m \u001b[49m\u001b[38;5;241;43m*\u001b[39;49m\u001b[43mrv\u001b[49m\u001b[43m)\u001b[49m\n\u001b[1;32m    174\u001b[0m \u001b[38;5;66;03m# If is its own copy, don't memoize.\u001b[39;00m\n\u001b[1;32m    175\u001b[0m \u001b[38;5;28;01mif\u001b[39;00m y \u001b[38;5;129;01mis\u001b[39;00m \u001b[38;5;129;01mnot\u001b[39;00m x:\n",
      "File \u001b[0;32m~/miniconda3/envs/wmpl/lib/python3.8/copy.py:270\u001b[0m, in \u001b[0;36m_reconstruct\u001b[0;34m(x, memo, func, args, state, listiter, dictiter, deepcopy)\u001b[0m\n\u001b[1;32m    268\u001b[0m \u001b[38;5;28;01mif\u001b[39;00m state \u001b[38;5;129;01mis\u001b[39;00m \u001b[38;5;129;01mnot\u001b[39;00m \u001b[38;5;28;01mNone\u001b[39;00m:\n\u001b[1;32m    269\u001b[0m     \u001b[38;5;28;01mif\u001b[39;00m deep:\n\u001b[0;32m--> 270\u001b[0m         state \u001b[38;5;241m=\u001b[39m \u001b[43mdeepcopy\u001b[49m\u001b[43m(\u001b[49m\u001b[43mstate\u001b[49m\u001b[43m,\u001b[49m\u001b[43m \u001b[49m\u001b[43mmemo\u001b[49m\u001b[43m)\u001b[49m\n\u001b[1;32m    271\u001b[0m     \u001b[38;5;28;01mif\u001b[39;00m \u001b[38;5;28mhasattr\u001b[39m(y, \u001b[38;5;124m'\u001b[39m\u001b[38;5;124m__setstate__\u001b[39m\u001b[38;5;124m'\u001b[39m):\n\u001b[1;32m    272\u001b[0m         y\u001b[38;5;241m.\u001b[39m__setstate__(state)\n",
      "File \u001b[0;32m~/miniconda3/envs/wmpl/lib/python3.8/copy.py:146\u001b[0m, in \u001b[0;36mdeepcopy\u001b[0;34m(x, memo, _nil)\u001b[0m\n\u001b[1;32m    144\u001b[0m copier \u001b[38;5;241m=\u001b[39m _deepcopy_dispatch\u001b[38;5;241m.\u001b[39mget(\u001b[38;5;28mcls\u001b[39m)\n\u001b[1;32m    145\u001b[0m \u001b[38;5;28;01mif\u001b[39;00m copier \u001b[38;5;129;01mis\u001b[39;00m \u001b[38;5;129;01mnot\u001b[39;00m \u001b[38;5;28;01mNone\u001b[39;00m:\n\u001b[0;32m--> 146\u001b[0m     y \u001b[38;5;241m=\u001b[39m \u001b[43mcopier\u001b[49m\u001b[43m(\u001b[49m\u001b[43mx\u001b[49m\u001b[43m,\u001b[49m\u001b[43m \u001b[49m\u001b[43mmemo\u001b[49m\u001b[43m)\u001b[49m\n\u001b[1;32m    147\u001b[0m \u001b[38;5;28;01melse\u001b[39;00m:\n\u001b[1;32m    148\u001b[0m     \u001b[38;5;28;01mif\u001b[39;00m \u001b[38;5;28missubclass\u001b[39m(\u001b[38;5;28mcls\u001b[39m, \u001b[38;5;28mtype\u001b[39m):\n",
      "File \u001b[0;32m~/miniconda3/envs/wmpl/lib/python3.8/copy.py:230\u001b[0m, in \u001b[0;36m_deepcopy_dict\u001b[0;34m(x, memo, deepcopy)\u001b[0m\n\u001b[1;32m    228\u001b[0m memo[\u001b[38;5;28mid\u001b[39m(x)] \u001b[38;5;241m=\u001b[39m y\n\u001b[1;32m    229\u001b[0m \u001b[38;5;28;01mfor\u001b[39;00m key, value \u001b[38;5;129;01min\u001b[39;00m x\u001b[38;5;241m.\u001b[39mitems():\n\u001b[0;32m--> 230\u001b[0m     y[deepcopy(key, memo)] \u001b[38;5;241m=\u001b[39m \u001b[43mdeepcopy\u001b[49m\u001b[43m(\u001b[49m\u001b[43mvalue\u001b[49m\u001b[43m,\u001b[49m\u001b[43m \u001b[49m\u001b[43mmemo\u001b[49m\u001b[43m)\u001b[49m\n\u001b[1;32m    231\u001b[0m \u001b[38;5;28;01mreturn\u001b[39;00m y\n",
      "File \u001b[0;32m~/miniconda3/envs/wmpl/lib/python3.8/copy.py:172\u001b[0m, in \u001b[0;36mdeepcopy\u001b[0;34m(x, memo, _nil)\u001b[0m\n\u001b[1;32m    170\u001b[0m                 y \u001b[38;5;241m=\u001b[39m x\n\u001b[1;32m    171\u001b[0m             \u001b[38;5;28;01melse\u001b[39;00m:\n\u001b[0;32m--> 172\u001b[0m                 y \u001b[38;5;241m=\u001b[39m \u001b[43m_reconstruct\u001b[49m\u001b[43m(\u001b[49m\u001b[43mx\u001b[49m\u001b[43m,\u001b[49m\u001b[43m \u001b[49m\u001b[43mmemo\u001b[49m\u001b[43m,\u001b[49m\u001b[43m \u001b[49m\u001b[38;5;241;43m*\u001b[39;49m\u001b[43mrv\u001b[49m\u001b[43m)\u001b[49m\n\u001b[1;32m    174\u001b[0m \u001b[38;5;66;03m# If is its own copy, don't memoize.\u001b[39;00m\n\u001b[1;32m    175\u001b[0m \u001b[38;5;28;01mif\u001b[39;00m y \u001b[38;5;129;01mis\u001b[39;00m \u001b[38;5;129;01mnot\u001b[39;00m x:\n",
      "File \u001b[0;32m~/miniconda3/envs/wmpl/lib/python3.8/copy.py:270\u001b[0m, in \u001b[0;36m_reconstruct\u001b[0;34m(x, memo, func, args, state, listiter, dictiter, deepcopy)\u001b[0m\n\u001b[1;32m    268\u001b[0m \u001b[38;5;28;01mif\u001b[39;00m state \u001b[38;5;129;01mis\u001b[39;00m \u001b[38;5;129;01mnot\u001b[39;00m \u001b[38;5;28;01mNone\u001b[39;00m:\n\u001b[1;32m    269\u001b[0m     \u001b[38;5;28;01mif\u001b[39;00m deep:\n\u001b[0;32m--> 270\u001b[0m         state \u001b[38;5;241m=\u001b[39m \u001b[43mdeepcopy\u001b[49m\u001b[43m(\u001b[49m\u001b[43mstate\u001b[49m\u001b[43m,\u001b[49m\u001b[43m \u001b[49m\u001b[43mmemo\u001b[49m\u001b[43m)\u001b[49m\n\u001b[1;32m    271\u001b[0m     \u001b[38;5;28;01mif\u001b[39;00m \u001b[38;5;28mhasattr\u001b[39m(y, \u001b[38;5;124m'\u001b[39m\u001b[38;5;124m__setstate__\u001b[39m\u001b[38;5;124m'\u001b[39m):\n\u001b[1;32m    272\u001b[0m         y\u001b[38;5;241m.\u001b[39m__setstate__(state)\n",
      "File \u001b[0;32m~/miniconda3/envs/wmpl/lib/python3.8/copy.py:146\u001b[0m, in \u001b[0;36mdeepcopy\u001b[0;34m(x, memo, _nil)\u001b[0m\n\u001b[1;32m    144\u001b[0m copier \u001b[38;5;241m=\u001b[39m _deepcopy_dispatch\u001b[38;5;241m.\u001b[39mget(\u001b[38;5;28mcls\u001b[39m)\n\u001b[1;32m    145\u001b[0m \u001b[38;5;28;01mif\u001b[39;00m copier \u001b[38;5;129;01mis\u001b[39;00m \u001b[38;5;129;01mnot\u001b[39;00m \u001b[38;5;28;01mNone\u001b[39;00m:\n\u001b[0;32m--> 146\u001b[0m     y \u001b[38;5;241m=\u001b[39m \u001b[43mcopier\u001b[49m\u001b[43m(\u001b[49m\u001b[43mx\u001b[49m\u001b[43m,\u001b[49m\u001b[43m \u001b[49m\u001b[43mmemo\u001b[49m\u001b[43m)\u001b[49m\n\u001b[1;32m    147\u001b[0m \u001b[38;5;28;01melse\u001b[39;00m:\n\u001b[1;32m    148\u001b[0m     \u001b[38;5;28;01mif\u001b[39;00m \u001b[38;5;28missubclass\u001b[39m(\u001b[38;5;28mcls\u001b[39m, \u001b[38;5;28mtype\u001b[39m):\n",
      "File \u001b[0;32m~/miniconda3/envs/wmpl/lib/python3.8/copy.py:230\u001b[0m, in \u001b[0;36m_deepcopy_dict\u001b[0;34m(x, memo, deepcopy)\u001b[0m\n\u001b[1;32m    228\u001b[0m memo[\u001b[38;5;28mid\u001b[39m(x)] \u001b[38;5;241m=\u001b[39m y\n\u001b[1;32m    229\u001b[0m \u001b[38;5;28;01mfor\u001b[39;00m key, value \u001b[38;5;129;01min\u001b[39;00m x\u001b[38;5;241m.\u001b[39mitems():\n\u001b[0;32m--> 230\u001b[0m     y[deepcopy(key, memo)] \u001b[38;5;241m=\u001b[39m \u001b[43mdeepcopy\u001b[49m\u001b[43m(\u001b[49m\u001b[43mvalue\u001b[49m\u001b[43m,\u001b[49m\u001b[43m \u001b[49m\u001b[43mmemo\u001b[49m\u001b[43m)\u001b[49m\n\u001b[1;32m    231\u001b[0m \u001b[38;5;28;01mreturn\u001b[39;00m y\n",
      "File \u001b[0;32m~/miniconda3/envs/wmpl/lib/python3.8/copy.py:146\u001b[0m, in \u001b[0;36mdeepcopy\u001b[0;34m(x, memo, _nil)\u001b[0m\n\u001b[1;32m    144\u001b[0m copier \u001b[38;5;241m=\u001b[39m _deepcopy_dispatch\u001b[38;5;241m.\u001b[39mget(\u001b[38;5;28mcls\u001b[39m)\n\u001b[1;32m    145\u001b[0m \u001b[38;5;28;01mif\u001b[39;00m copier \u001b[38;5;129;01mis\u001b[39;00m \u001b[38;5;129;01mnot\u001b[39;00m \u001b[38;5;28;01mNone\u001b[39;00m:\n\u001b[0;32m--> 146\u001b[0m     y \u001b[38;5;241m=\u001b[39m \u001b[43mcopier\u001b[49m\u001b[43m(\u001b[49m\u001b[43mx\u001b[49m\u001b[43m,\u001b[49m\u001b[43m \u001b[49m\u001b[43mmemo\u001b[49m\u001b[43m)\u001b[49m\n\u001b[1;32m    147\u001b[0m \u001b[38;5;28;01melse\u001b[39;00m:\n\u001b[1;32m    148\u001b[0m     \u001b[38;5;28;01mif\u001b[39;00m \u001b[38;5;28missubclass\u001b[39m(\u001b[38;5;28mcls\u001b[39m, \u001b[38;5;28mtype\u001b[39m):\n",
      "File \u001b[0;32m~/miniconda3/envs/wmpl/lib/python3.8/copy.py:205\u001b[0m, in \u001b[0;36m_deepcopy_list\u001b[0;34m(x, memo, deepcopy)\u001b[0m\n\u001b[1;32m    203\u001b[0m append \u001b[38;5;241m=\u001b[39m y\u001b[38;5;241m.\u001b[39mappend\n\u001b[1;32m    204\u001b[0m \u001b[38;5;28;01mfor\u001b[39;00m a \u001b[38;5;129;01min\u001b[39;00m x:\n\u001b[0;32m--> 205\u001b[0m     append(\u001b[43mdeepcopy\u001b[49m\u001b[43m(\u001b[49m\u001b[43ma\u001b[49m\u001b[43m,\u001b[49m\u001b[43m \u001b[49m\u001b[43mmemo\u001b[49m\u001b[43m)\u001b[49m)\n\u001b[1;32m    206\u001b[0m \u001b[38;5;28;01mreturn\u001b[39;00m y\n",
      "File \u001b[0;32m~/miniconda3/envs/wmpl/lib/python3.8/copy.py:172\u001b[0m, in \u001b[0;36mdeepcopy\u001b[0;34m(x, memo, _nil)\u001b[0m\n\u001b[1;32m    170\u001b[0m                 y \u001b[38;5;241m=\u001b[39m x\n\u001b[1;32m    171\u001b[0m             \u001b[38;5;28;01melse\u001b[39;00m:\n\u001b[0;32m--> 172\u001b[0m                 y \u001b[38;5;241m=\u001b[39m \u001b[43m_reconstruct\u001b[49m\u001b[43m(\u001b[49m\u001b[43mx\u001b[49m\u001b[43m,\u001b[49m\u001b[43m \u001b[49m\u001b[43mmemo\u001b[49m\u001b[43m,\u001b[49m\u001b[43m \u001b[49m\u001b[38;5;241;43m*\u001b[39;49m\u001b[43mrv\u001b[49m\u001b[43m)\u001b[49m\n\u001b[1;32m    174\u001b[0m \u001b[38;5;66;03m# If is its own copy, don't memoize.\u001b[39;00m\n\u001b[1;32m    175\u001b[0m \u001b[38;5;28;01mif\u001b[39;00m y \u001b[38;5;129;01mis\u001b[39;00m \u001b[38;5;129;01mnot\u001b[39;00m x:\n",
      "File \u001b[0;32m~/miniconda3/envs/wmpl/lib/python3.8/copy.py:270\u001b[0m, in \u001b[0;36m_reconstruct\u001b[0;34m(x, memo, func, args, state, listiter, dictiter, deepcopy)\u001b[0m\n\u001b[1;32m    268\u001b[0m \u001b[38;5;28;01mif\u001b[39;00m state \u001b[38;5;129;01mis\u001b[39;00m \u001b[38;5;129;01mnot\u001b[39;00m \u001b[38;5;28;01mNone\u001b[39;00m:\n\u001b[1;32m    269\u001b[0m     \u001b[38;5;28;01mif\u001b[39;00m deep:\n\u001b[0;32m--> 270\u001b[0m         state \u001b[38;5;241m=\u001b[39m \u001b[43mdeepcopy\u001b[49m\u001b[43m(\u001b[49m\u001b[43mstate\u001b[49m\u001b[43m,\u001b[49m\u001b[43m \u001b[49m\u001b[43mmemo\u001b[49m\u001b[43m)\u001b[49m\n\u001b[1;32m    271\u001b[0m     \u001b[38;5;28;01mif\u001b[39;00m \u001b[38;5;28mhasattr\u001b[39m(y, \u001b[38;5;124m'\u001b[39m\u001b[38;5;124m__setstate__\u001b[39m\u001b[38;5;124m'\u001b[39m):\n\u001b[1;32m    272\u001b[0m         y\u001b[38;5;241m.\u001b[39m__setstate__(state)\n",
      "File \u001b[0;32m~/miniconda3/envs/wmpl/lib/python3.8/copy.py:146\u001b[0m, in \u001b[0;36mdeepcopy\u001b[0;34m(x, memo, _nil)\u001b[0m\n\u001b[1;32m    144\u001b[0m copier \u001b[38;5;241m=\u001b[39m _deepcopy_dispatch\u001b[38;5;241m.\u001b[39mget(\u001b[38;5;28mcls\u001b[39m)\n\u001b[1;32m    145\u001b[0m \u001b[38;5;28;01mif\u001b[39;00m copier \u001b[38;5;129;01mis\u001b[39;00m \u001b[38;5;129;01mnot\u001b[39;00m \u001b[38;5;28;01mNone\u001b[39;00m:\n\u001b[0;32m--> 146\u001b[0m     y \u001b[38;5;241m=\u001b[39m \u001b[43mcopier\u001b[49m\u001b[43m(\u001b[49m\u001b[43mx\u001b[49m\u001b[43m,\u001b[49m\u001b[43m \u001b[49m\u001b[43mmemo\u001b[49m\u001b[43m)\u001b[49m\n\u001b[1;32m    147\u001b[0m \u001b[38;5;28;01melse\u001b[39;00m:\n\u001b[1;32m    148\u001b[0m     \u001b[38;5;28;01mif\u001b[39;00m \u001b[38;5;28missubclass\u001b[39m(\u001b[38;5;28mcls\u001b[39m, \u001b[38;5;28mtype\u001b[39m):\n",
      "File \u001b[0;32m~/miniconda3/envs/wmpl/lib/python3.8/copy.py:230\u001b[0m, in \u001b[0;36m_deepcopy_dict\u001b[0;34m(x, memo, deepcopy)\u001b[0m\n\u001b[1;32m    228\u001b[0m memo[\u001b[38;5;28mid\u001b[39m(x)] \u001b[38;5;241m=\u001b[39m y\n\u001b[1;32m    229\u001b[0m \u001b[38;5;28;01mfor\u001b[39;00m key, value \u001b[38;5;129;01min\u001b[39;00m x\u001b[38;5;241m.\u001b[39mitems():\n\u001b[0;32m--> 230\u001b[0m     y[deepcopy(key, memo)] \u001b[38;5;241m=\u001b[39m \u001b[43mdeepcopy\u001b[49m\u001b[43m(\u001b[49m\u001b[43mvalue\u001b[49m\u001b[43m,\u001b[49m\u001b[43m \u001b[49m\u001b[43mmemo\u001b[49m\u001b[43m)\u001b[49m\n\u001b[1;32m    231\u001b[0m \u001b[38;5;28;01mreturn\u001b[39;00m y\n",
      "File \u001b[0;32m~/miniconda3/envs/wmpl/lib/python3.8/copy.py:146\u001b[0m, in \u001b[0;36mdeepcopy\u001b[0;34m(x, memo, _nil)\u001b[0m\n\u001b[1;32m    144\u001b[0m copier \u001b[38;5;241m=\u001b[39m _deepcopy_dispatch\u001b[38;5;241m.\u001b[39mget(\u001b[38;5;28mcls\u001b[39m)\n\u001b[1;32m    145\u001b[0m \u001b[38;5;28;01mif\u001b[39;00m copier \u001b[38;5;129;01mis\u001b[39;00m \u001b[38;5;129;01mnot\u001b[39;00m \u001b[38;5;28;01mNone\u001b[39;00m:\n\u001b[0;32m--> 146\u001b[0m     y \u001b[38;5;241m=\u001b[39m \u001b[43mcopier\u001b[49m\u001b[43m(\u001b[49m\u001b[43mx\u001b[49m\u001b[43m,\u001b[49m\u001b[43m \u001b[49m\u001b[43mmemo\u001b[49m\u001b[43m)\u001b[49m\n\u001b[1;32m    147\u001b[0m \u001b[38;5;28;01melse\u001b[39;00m:\n\u001b[1;32m    148\u001b[0m     \u001b[38;5;28;01mif\u001b[39;00m \u001b[38;5;28missubclass\u001b[39m(\u001b[38;5;28mcls\u001b[39m, \u001b[38;5;28mtype\u001b[39m):\n",
      "File \u001b[0;32m~/miniconda3/envs/wmpl/lib/python3.8/copy.py:205\u001b[0m, in \u001b[0;36m_deepcopy_list\u001b[0;34m(x, memo, deepcopy)\u001b[0m\n\u001b[1;32m    203\u001b[0m append \u001b[38;5;241m=\u001b[39m y\u001b[38;5;241m.\u001b[39mappend\n\u001b[1;32m    204\u001b[0m \u001b[38;5;28;01mfor\u001b[39;00m a \u001b[38;5;129;01min\u001b[39;00m x:\n\u001b[0;32m--> 205\u001b[0m     append(\u001b[43mdeepcopy\u001b[49m\u001b[43m(\u001b[49m\u001b[43ma\u001b[49m\u001b[43m,\u001b[49m\u001b[43m \u001b[49m\u001b[43mmemo\u001b[49m\u001b[43m)\u001b[49m)\n\u001b[1;32m    206\u001b[0m \u001b[38;5;28;01mreturn\u001b[39;00m y\n",
      "File \u001b[0;32m~/miniconda3/envs/wmpl/lib/python3.8/copy.py:134\u001b[0m, in \u001b[0;36mdeepcopy\u001b[0;34m(x, memo, _nil)\u001b[0m\n\u001b[1;32m    128\u001b[0m \u001b[38;5;28;01mdef\u001b[39;00m \u001b[38;5;21mdeepcopy\u001b[39m(x, memo\u001b[38;5;241m=\u001b[39m\u001b[38;5;28;01mNone\u001b[39;00m, _nil\u001b[38;5;241m=\u001b[39m[]):\n\u001b[1;32m    129\u001b[0m \u001b[38;5;250m    \u001b[39m\u001b[38;5;124;03m\"\"\"Deep copy operation on arbitrary Python objects.\u001b[39;00m\n\u001b[1;32m    130\u001b[0m \n\u001b[1;32m    131\u001b[0m \u001b[38;5;124;03m    See the module's __doc__ string for more info.\u001b[39;00m\n\u001b[1;32m    132\u001b[0m \u001b[38;5;124;03m    \"\"\"\u001b[39;00m\n\u001b[0;32m--> 134\u001b[0m     \u001b[38;5;28;01mif\u001b[39;00m \u001b[43mmemo\u001b[49m\u001b[43m \u001b[49m\u001b[38;5;129;43;01mis\u001b[39;49;00m\u001b[43m \u001b[49m\u001b[38;5;28;43;01mNone\u001b[39;49;00m:\n\u001b[1;32m    135\u001b[0m         memo \u001b[38;5;241m=\u001b[39m {}\n\u001b[1;32m    137\u001b[0m     d \u001b[38;5;241m=\u001b[39m \u001b[38;5;28mid\u001b[39m(x)\n",
      "\u001b[0;31mKeyboardInterrupt\u001b[0m: "
     ]
    }
   ],
   "source": [
    "#### PSO OPTIMIZATION:\n",
    "import pyswarms as ps\n",
    "import signal\n",
    "from pyswarms.utils.plotters import plot_cost_history\n",
    "\n",
    "def get_lc_cost_function_pso(free_params_flattened, metsim_obj=metsim_obj, pso=True):\n",
    "    return get_lc_cost_function(free_params_flattened, metsim_obj, pso)\n",
    "\n",
    "### Only fit parameters of fragmentation processes which are used ###\n",
    "# bounds = []\n",
    "param_string = 'm'\n",
    "\n",
    "pso_iterations = 10\n",
    "pso_particles = 100\n",
    "\n",
    "# # Set up hyperparameters\n",
    "options = {'c1': 0.6, 'c2': 0.3, 'w': 0.9}\n",
    "bounds_pso = tuple(np.array(bounds).T)\n",
    "initial_guess_pso = initial_guess.reshape(1, len(initial_guess))\n",
    "\n",
    "# generate particles in a gaussian ball around the initial guess\n",
    "cov_factor = 1e-3\n",
    "\n",
    "cov = np.diag(np.ones(len(initial_guess_pso.T)) * (initial_guess ** 2))\n",
    "rng = np.random.default_rng(seed=1234)\n",
    "init_pos = rng.multivariate_normal(initial_guess_pso.flatten(), cov * cov_factor, size = pso_particles)\n",
    "\n",
    "# check cost function on all the initial particles\n",
    "# for pos in init_pos:\n",
    "#     print(get_lc_cost_function_pso(pos))\n",
    "\n",
    "# ### HOW METSIM DOES IT:\n",
    "# # Normalize the fit parameters to the [0, 1] range\n",
    "# mini_norm_handle = gui.MinimizationParameterNormalization(initial_guess)\n",
    "# p0_normed, bounds_normed = mini_norm_handle.normalizeBounds(bounds)\n",
    "\n",
    "# # Set up bounds (min, max) are (0, 1)\n",
    "# pso_bounds = (np.zeros(len(p0_normed)), np.ones(len(p0_normed)))\n",
    "\n",
    "# # Create particles in a tight Gaussian around the initial parameters\n",
    "# init_pos = np.random.normal(loc=p0_normed, scale=0.2 + np.zeros_like(p0_normed), \n",
    "#                             size=(pso_particles - 1, len(p0_normed)))\n",
    "# init_pos[init_pos < 0] = abs(init_pos[init_pos < 0])\n",
    "# init_pos[init_pos > 1] = 1 - init_pos[init_pos > 1] + 1\n",
    "\n",
    "# # Add manual fit to initial positions\n",
    "# init_pos = np.append(init_pos, np.array([p0_normed]), axis=0)"
   ]
  },
  {
   "cell_type": "code",
   "execution_count": 26,
   "id": "53c31d67-7aa2-4c02-ae5f-e3f8c2500b54",
   "metadata": {},
   "outputs": [
    {
     "data": {
      "text/plain": [
       "(10000.0, 10000000.0)"
      ]
     },
     "execution_count": 26,
     "metadata": {},
     "output_type": "execute_result"
    },
    {
     "data": {
      "image/png": "[encoded data removed]",
      "text/plain": [
       "<Figure size 640x480 with 1 Axes>"
      ]
     },
     "metadata": {},
     "output_type": "display_data"
    }
   ],
   "source": [
    "ind=0\n",
    "\n",
    "plt.hist(init_pos[:, ind])\n",
    "plt.xlim(bounds[ind][0], bounds[ind][1])"
   ]
  },
  {
   "cell_type": "code",
   "execution_count": 30,
   "id": "404dae77-5bd4-4bc7-9163-1a62483777ca",
   "metadata": {},
   "outputs": [
    {
     "data": {
      "text/plain": [
       "array([1.5e+06, 3.5e+01, 1.0e-07, 1.0e+00, 5.0e+00])"
      ]
     },
     "execution_count": 30,
     "metadata": {},
     "output_type": "execute_result"
    }
   ],
   "source": [
    "initial_guess"
   ]
  },
  {
   "cell_type": "code",
   "execution_count": 28,
   "id": "ac61e663-3f09-4acf-a05a-b213d81ff99f",
   "metadata": {},
   "outputs": [
    {
     "data": {
      "text/plain": [
       "(array([1.e+04, 0.e+00, 1.e-08, 1.e-04, 1.e-03]),\n",
       " array([1.e+07, 1.e+02, 6.e-06, 1.e+01, 1.e+02]))"
      ]
     },
     "execution_count": 28,
     "metadata": {},
     "output_type": "execute_result"
    }
   ],
   "source": [
    "bounds_pso"
   ]
  },
  {
   "cell_type": "code",
   "execution_count": 27,
   "id": "76fcb982-fb91-4fc3-8add-28779b8b10f5",
   "metadata": {},
   "outputs": [
    {
     "name": "stderr",
     "output_type": "stream",
     "text": [
      "2024-10-29 17:19:05,505 - pyswarms.single.global_best - INFO - Optimize for 1000 iters with {'c1': 0.6, 'c2': 0.3, 'w': 0.9}\n",
      "pyswarms.single.global_best:   0%|                                                                                                                                                                            |0/1000"
     ]
    },
    {
     "name": "stdout",
     "output_type": "stream",
     "text": [
      "5.009057643903969 0.9801036574646238 0.31622776601683794 2.5 0\n"
     ]
    },
    {
     "name": "stderr",
     "output_type": "stream",
     "text": [
      "\n"
     ]
    },
    {
     "ename": "ValueError",
     "evalue": "error",
     "output_type": "error",
     "traceback": [
      "\u001b[0;31m---------------------------------------------------------------------------\u001b[0m",
      "\u001b[0;31mZeroDivisionError\u001b[0m                         Traceback (most recent call last)",
      "File \u001b[0;32m~/Thesis/physical/../../source/WesternMeteorPyLib/wmpl/MetSim/MetSimErosion.py:486\u001b[0m, in \u001b[0;36mgenerateFragments\u001b[0;34m(const, frag_parent, eroded_mass, mass_index, mass_min, mass_max, keep_eroding, disruption)\u001b[0m\n\u001b[1;32m    485\u001b[0m \u001b[38;5;28;01mtry\u001b[39;00m:\n\u001b[0;32m--> 486\u001b[0m     n0 \u001b[38;5;241m=\u001b[39m \u001b[38;5;28mabs\u001b[39m(\u001b[43m(\u001b[49m\u001b[43meroded_mass\u001b[49m\u001b[38;5;241;43m/\u001b[39;49m\u001b[43mmass_max\u001b[49m\u001b[43m)\u001b[49m\u001b[38;5;241;43m*\u001b[39;49m\u001b[43m(\u001b[49m\u001b[38;5;241;43m1\u001b[39;49m\u001b[43m \u001b[49m\u001b[38;5;241;43m-\u001b[39;49m\u001b[43m \u001b[49m\u001b[43mmass_bin_coeff\u001b[49m\u001b[38;5;241;43m*\u001b[39;49m\u001b[38;5;241;43m*\u001b[39;49m\u001b[43m(\u001b[49m\u001b[38;5;241;43m2\u001b[39;49m\u001b[43m \u001b[49m\u001b[38;5;241;43m-\u001b[39;49m\u001b[43m \u001b[49m\u001b[43mmass_index\u001b[49m\u001b[43m)\u001b[49m\u001b[43m)\u001b[49m\u001b[38;5;241;43m/\u001b[39;49m\u001b[43m(\u001b[49m\u001b[38;5;241;43m1\u001b[39;49m\u001b[43m \u001b[49m\u001b[38;5;241;43m-\u001b[39;49m\u001b[43m \u001b[49m\u001b[43mmass_bin_coeff\u001b[49m\u001b[38;5;241;43m*\u001b[39;49m\u001b[38;5;241;43m*\u001b[39;49m\u001b[43m(\u001b[49m\u001b[43m(\u001b[49m\u001b[38;5;241;43m2\u001b[39;49m\u001b[43m \u001b[49m\u001b[38;5;241;43m-\u001b[39;49m\u001b[43m \u001b[49m\u001b[43mmass_index\u001b[49m\u001b[43m)\u001b[49m\u001b[38;5;241;43m*\u001b[39;49m\u001b[43mk\u001b[49m\u001b[43m)\u001b[49m\u001b[43m)\u001b[49m)\n\u001b[1;32m    487\u001b[0m \u001b[38;5;28;01mexcept\u001b[39;00m:\n",
      "\u001b[0;31mZeroDivisionError\u001b[0m: float division by zero",
      "\nDuring handling of the above exception, another exception occurred:\n",
      "\u001b[0;31mValueError\u001b[0m                                Traceback (most recent call last)",
      "Cell \u001b[0;32mIn[27], line 8\u001b[0m\n\u001b[1;32m      1\u001b[0m optimizer \u001b[38;5;241m=\u001b[39m ps\u001b[38;5;241m.\u001b[39msingle\u001b[38;5;241m.\u001b[39mGlobalBestPSO(n_particles\u001b[38;5;241m=\u001b[39mpso_particles, \n\u001b[1;32m      2\u001b[0m                                     dimensions\u001b[38;5;241m=\u001b[39m\u001b[38;5;28mlen\u001b[39m(initial_guess), \n\u001b[1;32m      3\u001b[0m                                     options\u001b[38;5;241m=\u001b[39moptions, \n\u001b[1;32m      4\u001b[0m                                     bounds\u001b[38;5;241m=\u001b[39mbounds_pso, \n\u001b[1;32m      5\u001b[0m                                     init_pos\u001b[38;5;241m=\u001b[39minit_pos\n\u001b[1;32m      6\u001b[0m                                    )\n\u001b[0;32m----> 8\u001b[0m cost, pos \u001b[38;5;241m=\u001b[39m \u001b[43moptimizer\u001b[49m\u001b[38;5;241;43m.\u001b[39;49m\u001b[43moptimize\u001b[49m\u001b[43m(\u001b[49m\u001b[43mget_lc_cost_function_pso\u001b[49m\u001b[43m,\u001b[49m\u001b[43m \u001b[49m\n\u001b[1;32m      9\u001b[0m \u001b[43m                               \u001b[49m\u001b[43miters\u001b[49m\u001b[38;5;241;43m=\u001b[39;49m\u001b[38;5;241;43m1000\u001b[39;49m\u001b[43m,\u001b[49m\u001b[43m \u001b[49m\n\u001b[1;32m     10\u001b[0m \u001b[43m                               \u001b[49m\u001b[38;5;66;43;03m# n_processes = multiprocessing.cpu_count() - 1\u001b[39;49;00m\n\u001b[1;32m     11\u001b[0m \u001b[43m                              \u001b[49m\u001b[43m)\u001b[49m\n",
      "File \u001b[0;32m~/miniconda3/envs/wmpl/lib/python3.8/site-packages/pyswarms/single/global_best.py:209\u001b[0m, in \u001b[0;36mGlobalBestPSO.optimize\u001b[0;34m(self, objective_func, iters, n_processes, verbose, **kwargs)\u001b[0m\n\u001b[1;32m    205\u001b[0m ftol_history \u001b[38;5;241m=\u001b[39m deque(maxlen\u001b[38;5;241m=\u001b[39m\u001b[38;5;28mself\u001b[39m\u001b[38;5;241m.\u001b[39mftol_iter)\n\u001b[1;32m    206\u001b[0m \u001b[38;5;28;01mfor\u001b[39;00m i \u001b[38;5;129;01min\u001b[39;00m \u001b[38;5;28mself\u001b[39m\u001b[38;5;241m.\u001b[39mrep\u001b[38;5;241m.\u001b[39mpbar(iters, \u001b[38;5;28mself\u001b[39m\u001b[38;5;241m.\u001b[39mname) \u001b[38;5;28;01mif\u001b[39;00m verbose \u001b[38;5;28;01melse\u001b[39;00m \u001b[38;5;28mrange\u001b[39m(iters):\n\u001b[1;32m    207\u001b[0m     \u001b[38;5;66;03m# Compute cost for current position and personal best\u001b[39;00m\n\u001b[1;32m    208\u001b[0m     \u001b[38;5;66;03m# fmt: off\u001b[39;00m\n\u001b[0;32m--> 209\u001b[0m     \u001b[38;5;28mself\u001b[39m\u001b[38;5;241m.\u001b[39mswarm\u001b[38;5;241m.\u001b[39mcurrent_cost \u001b[38;5;241m=\u001b[39m \u001b[43mcompute_objective_function\u001b[49m\u001b[43m(\u001b[49m\u001b[38;5;28;43mself\u001b[39;49m\u001b[38;5;241;43m.\u001b[39;49m\u001b[43mswarm\u001b[49m\u001b[43m,\u001b[49m\u001b[43m \u001b[49m\u001b[43mobjective_func\u001b[49m\u001b[43m,\u001b[49m\u001b[43m \u001b[49m\u001b[43mpool\u001b[49m\u001b[38;5;241;43m=\u001b[39;49m\u001b[43mpool\u001b[49m\u001b[43m,\u001b[49m\u001b[43m \u001b[49m\u001b[38;5;241;43m*\u001b[39;49m\u001b[38;5;241;43m*\u001b[39;49m\u001b[43mkwargs\u001b[49m\u001b[43m)\u001b[49m\n\u001b[1;32m    210\u001b[0m     \u001b[38;5;28mself\u001b[39m\u001b[38;5;241m.\u001b[39mswarm\u001b[38;5;241m.\u001b[39mpbest_pos, \u001b[38;5;28mself\u001b[39m\u001b[38;5;241m.\u001b[39mswarm\u001b[38;5;241m.\u001b[39mpbest_cost \u001b[38;5;241m=\u001b[39m compute_pbest(\u001b[38;5;28mself\u001b[39m\u001b[38;5;241m.\u001b[39mswarm)\n\u001b[1;32m    211\u001b[0m     \u001b[38;5;66;03m# Set best_cost_yet_found for ftol\u001b[39;00m\n",
      "File \u001b[0;32m~/miniconda3/envs/wmpl/lib/python3.8/site-packages/pyswarms/backend/operators.py:239\u001b[0m, in \u001b[0;36mcompute_objective_function\u001b[0;34m(swarm, objective_func, pool, **kwargs)\u001b[0m\n\u001b[1;32m    214\u001b[0m \u001b[38;5;250m\u001b[39m\u001b[38;5;124;03m\"\"\"Evaluate particles using the objective function\u001b[39;00m\n\u001b[1;32m    215\u001b[0m \n\u001b[1;32m    216\u001b[0m \u001b[38;5;124;03mThis method evaluates each particle in the swarm according to the objective\u001b[39;00m\n\u001b[0;32m   (...)\u001b[0m\n\u001b[1;32m    236\u001b[0m \u001b[38;5;124;03m    Cost-matrix for the given swarm\u001b[39;00m\n\u001b[1;32m    237\u001b[0m \u001b[38;5;124;03m\"\"\"\u001b[39;00m\n\u001b[1;32m    238\u001b[0m \u001b[38;5;28;01mif\u001b[39;00m pool \u001b[38;5;129;01mis\u001b[39;00m \u001b[38;5;28;01mNone\u001b[39;00m:\n\u001b[0;32m--> 239\u001b[0m     \u001b[38;5;28;01mreturn\u001b[39;00m \u001b[43mobjective_func\u001b[49m\u001b[43m(\u001b[49m\u001b[43mswarm\u001b[49m\u001b[38;5;241;43m.\u001b[39;49m\u001b[43mposition\u001b[49m\u001b[43m,\u001b[49m\u001b[43m \u001b[49m\u001b[38;5;241;43m*\u001b[39;49m\u001b[38;5;241;43m*\u001b[39;49m\u001b[43mkwargs\u001b[49m\u001b[43m)\u001b[49m\n\u001b[1;32m    240\u001b[0m \u001b[38;5;28;01melse\u001b[39;00m:\n\u001b[1;32m    241\u001b[0m     results \u001b[38;5;241m=\u001b[39m pool\u001b[38;5;241m.\u001b[39mmap(\n\u001b[1;32m    242\u001b[0m         partial(objective_func, \u001b[38;5;241m*\u001b[39m\u001b[38;5;241m*\u001b[39mkwargs),\n\u001b[1;32m    243\u001b[0m         np\u001b[38;5;241m.\u001b[39marray_split(swarm\u001b[38;5;241m.\u001b[39mposition, pool\u001b[38;5;241m.\u001b[39m_processes),\n\u001b[1;32m    244\u001b[0m     )\n",
      "Cell \u001b[0;32mIn[25], line 7\u001b[0m, in \u001b[0;36mget_lc_cost_function_pso\u001b[0;34m(free_params_flattened, metsim_obj, pso)\u001b[0m\n\u001b[1;32m      6\u001b[0m \u001b[38;5;28;01mdef\u001b[39;00m \u001b[38;5;21mget_lc_cost_function_pso\u001b[39m(free_params_flattened, metsim_obj\u001b[38;5;241m=\u001b[39mmetsim_obj, pso\u001b[38;5;241m=\u001b[39m\u001b[38;5;28;01mTrue\u001b[39;00m):\n\u001b[0;32m----> 7\u001b[0m     \u001b[38;5;28;01mreturn\u001b[39;00m \u001b[43mget_lc_cost_function\u001b[49m\u001b[43m(\u001b[49m\u001b[43mfree_params_flattened\u001b[49m\u001b[43m,\u001b[49m\u001b[43m \u001b[49m\u001b[43mmetsim_obj\u001b[49m\u001b[43m,\u001b[49m\u001b[43m \u001b[49m\u001b[43mpso\u001b[49m\u001b[43m)\u001b[49m\n",
      "Cell \u001b[0;32mIn[13], line 123\u001b[0m, in \u001b[0;36mget_lc_cost_function\u001b[0;34m(flattened_free_params, metsim_obj, pso)\u001b[0m\n\u001b[1;32m    121\u001b[0m \u001b[38;5;28;01mif\u001b[39;00m pso:\n\u001b[1;32m    122\u001b[0m     flattened_free_params \u001b[38;5;241m=\u001b[39m flattened_free_params\u001b[38;5;241m.\u001b[39mflatten()\n\u001b[0;32m--> 123\u001b[0m simulation_results \u001b[38;5;241m=\u001b[39m \u001b[43msim_lc\u001b[49m\u001b[43m(\u001b[49m\u001b[43mflattened_free_params\u001b[49m\u001b[43m,\u001b[49m\u001b[43m \u001b[49m\u001b[43mmetsim_obj\u001b[49m\u001b[43m)\u001b[49m\n\u001b[1;32m    124\u001b[0m \u001b[38;5;66;03m# compute simulated LC intensity\u001b[39;00m\n\u001b[1;32m    125\u001b[0m \u001b[38;5;66;03m# find where height starts increasing if it does at any point\u001b[39;00m\n\u001b[1;32m    126\u001b[0m \u001b[38;5;66;03m# print(np.diff(simulation_results.leading_frag_height_arr))\u001b[39;00m\n\u001b[1;32m    127\u001b[0m \u001b[38;5;28;01mif\u001b[39;00m np\u001b[38;5;241m.\u001b[39msum(np\u001b[38;5;241m.\u001b[39mdiff(simulation_results\u001b[38;5;241m.\u001b[39mleading_frag_height_arr) \u001b[38;5;241m>\u001b[39m \u001b[38;5;241m0\u001b[39m) \u001b[38;5;241m>\u001b[39m \u001b[38;5;241m0\u001b[39m:\n",
      "Cell \u001b[0;32mIn[13], line 83\u001b[0m, in \u001b[0;36msim_lc\u001b[0;34m(flattened_free_params, metsim_obj)\u001b[0m\n\u001b[1;32m     79\u001b[0m all_params \u001b[38;5;241m=\u001b[39m (free_params, metsim_obj\u001b[38;5;241m.\u001b[39mfixed_params)  \u001b[38;5;66;03m# set of all params to use\u001b[39;00m\n\u001b[1;32m     80\u001b[0m \u001b[38;5;66;03m# run simulation on the object, copying it\u001b[39;00m\n\u001b[1;32m     81\u001b[0m \u001b[38;5;66;03m# obj_copy = copy.copy(metsim_obj)\u001b[39;00m\n\u001b[1;32m     82\u001b[0m \u001b[38;5;66;03m# obj_copy.initializeSimulation(all_params)\u001b[39;00m\n\u001b[0;32m---> 83\u001b[0m \u001b[43mmetsim_obj\u001b[49m\u001b[38;5;241;43m.\u001b[39;49m\u001b[43minitializeSimulation\u001b[49m\u001b[43m(\u001b[49m\u001b[43mall_params\u001b[49m\u001b[43m)\u001b[49m\n\u001b[1;32m     84\u001b[0m \u001b[38;5;66;03m# return the simulation results\u001b[39;00m\n\u001b[1;32m     85\u001b[0m \u001b[38;5;66;03m# return obj_copy.simulation_results\u001b[39;00m\n\u001b[1;32m     86\u001b[0m \u001b[38;5;28;01mreturn\u001b[39;00m metsim_obj\u001b[38;5;241m.\u001b[39msimulation_results\n",
      "Cell \u001b[0;32mIn[4], line 279\u001b[0m, in \u001b[0;36mMetSimObj.initializeSimulation\u001b[0;34m(self, all_params)\u001b[0m\n\u001b[1;32m    274\u001b[0m \u001b[38;5;28mself\u001b[39m\u001b[38;5;241m.\u001b[39mconst\u001b[38;5;241m.\u001b[39mfragmentation_on \u001b[38;5;241m=\u001b[39m \u001b[38;5;28;01mTrue\u001b[39;00m\n\u001b[1;32m    276\u001b[0m \u001b[38;5;66;03m# print(self.const.fragmentation_on)\u001b[39;00m\n\u001b[1;32m    277\u001b[0m \n\u001b[1;32m    278\u001b[0m \u001b[38;5;66;03m# Run the simulation\u001b[39;00m\n\u001b[0;32m--> 279\u001b[0m frag_main, results_list, wake_results \u001b[38;5;241m=\u001b[39m \u001b[43merosion\u001b[49m\u001b[38;5;241;43m.\u001b[39;49m\u001b[43mrunSimulation\u001b[49m\u001b[43m(\u001b[49m\u001b[38;5;28;43mself\u001b[39;49m\u001b[38;5;241;43m.\u001b[39;49m\u001b[43mconst\u001b[49m\u001b[43m,\u001b[49m\u001b[43m \u001b[49m\u001b[43mcompute_wake\u001b[49m\u001b[38;5;241;43m=\u001b[39;49m\u001b[38;5;28;43mself\u001b[39;49m\u001b[38;5;241;43m.\u001b[39;49m\u001b[43mwake_on\u001b[49m\u001b[43m)\u001b[49m\n\u001b[1;32m    280\u001b[0m \u001b[38;5;66;03m# print(results_list)\u001b[39;00m\n\u001b[1;32m    281\u001b[0m \n\u001b[1;32m    282\u001b[0m \u001b[38;5;66;03m# Store simulation results\u001b[39;00m\n\u001b[1;32m    283\u001b[0m \u001b[38;5;28mself\u001b[39m\u001b[38;5;241m.\u001b[39msimulation_results \u001b[38;5;241m=\u001b[39m gui\u001b[38;5;241m.\u001b[39mSimulationResults(\u001b[38;5;28mself\u001b[39m\u001b[38;5;241m.\u001b[39mconst, frag_main, results_list, wake_results)\n",
      "File \u001b[0;32m~/Thesis/physical/../../source/WesternMeteorPyLib/wmpl/MetSim/MetSimErosion.py:1264\u001b[0m, in \u001b[0;36mrunSimulation\u001b[0;34m(const, compute_wake)\u001b[0m\n\u001b[1;32m   1256\u001b[0m wake_results \u001b[38;5;241m=\u001b[39m []\n\u001b[1;32m   1257\u001b[0m \u001b[38;5;28;01mwhile\u001b[39;00m const\u001b[38;5;241m.\u001b[39mn_active \u001b[38;5;241m>\u001b[39m \u001b[38;5;241m0\u001b[39m:\n\u001b[1;32m   1258\u001b[0m \n\u001b[1;32m   1259\u001b[0m     \u001b[38;5;66;03m# Ablate the fragments\u001b[39;00m\n\u001b[1;32m   1260\u001b[0m     fragments, const, luminosity_total, luminosity_main, luminosity_eroded, electron_density_total, \\\n\u001b[1;32m   1261\u001b[0m         tau_total, tau_main, tau_eroded, brightest_height, brightest_length, brightest_vel, \\\n\u001b[1;32m   1262\u001b[0m         leading_frag_height, leading_frag_length, leading_frag_vel, leading_frag_dyn_press, \\\n\u001b[1;32m   1263\u001b[0m         mass_total_active, main_mass, main_height, main_length, main_vel, main_dyn_press, \\\n\u001b[0;32m-> 1264\u001b[0m         wake \u001b[38;5;241m=\u001b[39m \u001b[43mablateAll\u001b[49m\u001b[43m(\u001b[49m\u001b[43mfragments\u001b[49m\u001b[43m,\u001b[49m\u001b[43m \u001b[49m\u001b[43mconst\u001b[49m\u001b[43m,\u001b[49m\u001b[43m \u001b[49m\u001b[43mcompute_wake\u001b[49m\u001b[38;5;241;43m=\u001b[39;49m\u001b[43mcompute_wake\u001b[49m\u001b[43m)\u001b[49m\n\u001b[1;32m   1266\u001b[0m     \u001b[38;5;66;03m# Track the bottom height of the main fragment\u001b[39;00m\n\u001b[1;32m   1267\u001b[0m     \u001b[38;5;28;01mif\u001b[39;00m main_height \u001b[38;5;241m>\u001b[39m \u001b[38;5;241m0\u001b[39m:\n",
      "File \u001b[0;32m~/Thesis/physical/../../source/WesternMeteorPyLib/wmpl/MetSim/MetSimErosion.py:896\u001b[0m, in \u001b[0;36mablateAll\u001b[0;34m(fragments, const, compute_wake)\u001b[0m\n\u001b[1;32m    891\u001b[0m \u001b[38;5;28;01mif\u001b[39;00m frag\u001b[38;5;241m.\u001b[39merosion_enabled:\n\u001b[1;32m    892\u001b[0m \n\u001b[1;32m    893\u001b[0m     \u001b[38;5;66;03m# Generate new grains if there is some mass to distribute\u001b[39;00m\n\u001b[1;32m    894\u001b[0m     \u001b[38;5;28;01mif\u001b[39;00m \u001b[38;5;28mabs\u001b[39m(mass_loss_erosion) \u001b[38;5;241m>\u001b[39m \u001b[38;5;241m0\u001b[39m:\n\u001b[0;32m--> 896\u001b[0m         grain_children, const \u001b[38;5;241m=\u001b[39m \u001b[43mgenerateFragments\u001b[49m\u001b[43m(\u001b[49m\u001b[43mconst\u001b[49m\u001b[43m,\u001b[49m\u001b[43m \u001b[49m\u001b[43mfrag\u001b[49m\u001b[43m,\u001b[49m\u001b[43m \u001b[49m\u001b[38;5;28;43mabs\u001b[39;49m\u001b[43m(\u001b[49m\u001b[43mmass_loss_erosion\u001b[49m\u001b[43m)\u001b[49m\u001b[43m,\u001b[49m\u001b[43m \u001b[49m\u001b[43m\\\u001b[49m\n\u001b[1;32m    897\u001b[0m \u001b[43m            \u001b[49m\u001b[43mfrag\u001b[49m\u001b[38;5;241;43m.\u001b[39;49m\u001b[43merosion_mass_index\u001b[49m\u001b[43m,\u001b[49m\u001b[43m \u001b[49m\u001b[43mfrag\u001b[49m\u001b[38;5;241;43m.\u001b[39;49m\u001b[43merosion_mass_min\u001b[49m\u001b[43m,\u001b[49m\u001b[43m \u001b[49m\u001b[43mfrag\u001b[49m\u001b[38;5;241;43m.\u001b[39;49m\u001b[43merosion_mass_max\u001b[49m\u001b[43m,\u001b[49m\u001b[43m \u001b[49m\u001b[43m\\\u001b[49m\n\u001b[1;32m    898\u001b[0m \u001b[43m            \u001b[49m\u001b[43mkeep_eroding\u001b[49m\u001b[38;5;241;43m=\u001b[39;49m\u001b[38;5;28;43;01mFalse\u001b[39;49;00m\u001b[43m)\u001b[49m\n\u001b[1;32m    900\u001b[0m         const\u001b[38;5;241m.\u001b[39mn_active \u001b[38;5;241m+\u001b[39m\u001b[38;5;241m=\u001b[39m \u001b[38;5;28mlen\u001b[39m(grain_children)\n\u001b[1;32m    901\u001b[0m         frag_children_all \u001b[38;5;241m+\u001b[39m\u001b[38;5;241m=\u001b[39m grain_children\n",
      "File \u001b[0;32m~/Thesis/physical/../../source/WesternMeteorPyLib/wmpl/MetSim/MetSimErosion.py:489\u001b[0m, in \u001b[0;36mgenerateFragments\u001b[0;34m(const, frag_parent, eroded_mass, mass_index, mass_min, mass_max, keep_eroding, disruption)\u001b[0m\n\u001b[1;32m    487\u001b[0m     \u001b[38;5;28;01mexcept\u001b[39;00m:\n\u001b[1;32m    488\u001b[0m         \u001b[38;5;28mprint\u001b[39m(mass_min, mass_max, mass_bin_coeff, mass_index, k)\n\u001b[0;32m--> 489\u001b[0m         \u001b[38;5;28;01mraise\u001b[39;00m \u001b[38;5;167;01mValueError\u001b[39;00m(\u001b[38;5;124m'\u001b[39m\u001b[38;5;124merror\u001b[39m\u001b[38;5;124m'\u001b[39m)\n\u001b[1;32m    492\u001b[0m \u001b[38;5;66;03m# Go though every mass bin\u001b[39;00m\n\u001b[1;32m    493\u001b[0m frag_children \u001b[38;5;241m=\u001b[39m []\n",
      "\u001b[0;31mValueError\u001b[0m: error"
     ]
    }
   ],
   "source": [
    "optimizer = ps.single.GlobalBestPSO(n_particles=pso_particles, \n",
    "                                    dimensions=len(initial_guess), \n",
    "                                    options=options, \n",
    "                                    bounds=bounds_pso, \n",
    "                                    init_pos=init_pos\n",
    "                                   )\n",
    "\n",
    "cost, pos = optimizer.optimize(get_lc_cost_function_pso, \n",
    "                               iters=1000, \n",
    "                               # n_processes = multiprocessing.cpu_count() - 1\n",
    "                              )"
   ]
  },
  {
   "cell_type": "code",
   "execution_count": null,
   "id": "017c327f-7a4d-4c54-a63f-a4968d2630ef",
   "metadata": {},
   "outputs": [],
   "source": [
    "# # Call instance of PSO with bounds argument\n",
    "# optimizer = ps.single.LocalBestPSO(n_particles=pso_particles, dimensions=len(p0_normed), \\\n",
    "#     options=options, bounds=pso_bounds, bh_strategy='reflective', vh_strategy='invert', \\\n",
    "#     init_pos=init_pos)"
   ]
  },
  {
   "cell_type": "code",
   "execution_count": null,
   "id": "ee4dfca3-2b6e-43d6-a953-8043ce73ba17",
   "metadata": {},
   "outputs": [],
   "source": [
    "# # Run PSO\n",
    "# cost, pos = optimizer.optimize(gui.fitResidualsListArguments, iters=pso_iterations, \\\n",
    "#     n_processes=multiprocessing.cpu_count() - 1, fit_input_data=fit_input_data, param_string=param_string, \\\n",
    "#     const_original=const, traj=self.traj, mini_norm_handle=mini_norm_handle, \\\n",
    "#     mag_weight=self.autofit_mag_weight, lag_weights=self.autofit_lag_weights, \\\n",
    "#     lag_weight_ht_change=self.autofit_lag_weight_ht_change, verbose=False)\n",
    "\n",
    "# print(cost, pos)"
   ]
  },
  {
   "cell_type": "code",
   "execution_count": 25,
   "id": "8b8ca7d6-00ac-4258-921a-d950b7333a7a",
   "metadata": {
    "scrolled": true
   },
   "outputs": [
    {
     "name": "stdout",
     "output_type": "stream",
     "text": [
      "negative logL: 498.4193100892263\n",
      "negative logL: 498.41930738228723\n",
      "negative logL: 498.4193127640782\n",
      "negative logL: 557.723725382352\n",
      "negative logL: 498.4193100892263\n",
      "negative logL: 498.41931660756495\n",
      "| niter |f evals|CG iter|  obj func   |tr radius |   opt    |  c viol  |\n",
      "|-------|-------|-------|-------------|----------|----------|----------|\n",
      "|   1   |   6   |   0   | +4.9842e+02 | 1.00e+00 | 1.33e+09 | 0.00e+00 |\n"
     ]
    },
    {
     "name": "stderr",
     "output_type": "stream",
     "text": [
      "/home/chowi/miniconda3/envs/wmpl/lib/python3.8/site-packages/scipy/optimize/_trustregion_constr/projections.py:181: UserWarning: Singular Jacobian matrix. Using SVD decomposition to perform the factorizations.\n",
      "  warn('Singular Jacobian matrix. Using SVD decomposition to ' +\n"
     ]
    },
    {
     "name": "stdout",
     "output_type": "stream",
     "text": [
      "negative logL: 1654.1789806653142\n",
      "negative logL: 1654.178939902585\n",
      "negative logL: 1654.1789802384562\n",
      "negative logL: 1654.1789806653142\n",
      "negative logL: 1654.1789806653142\n",
      "negative logL: 1654.1789806653142\n",
      "|   2   |  12   |   1   | +1.6542e+03 | 1.00e+00 | 8.19e-01 | 3.46e-01 |\n"
     ]
    },
    {
     "name": "stderr",
     "output_type": "stream",
     "text": [
      "/home/chowi/miniconda3/envs/wmpl/lib/python3.8/site-packages/scipy/optimize/_hessian_update_strategy.py:182: UserWarning: delta_grad == 0.0. Check if the approximated function is linear. If the function is linear better results can be obtained by defining the Hessian as zero instead of using quasi-Newton approximations.\n",
      "  warn('delta_grad == 0.0. Check if the approximated '\n"
     ]
    },
    {
     "name": "stdout",
     "output_type": "stream",
     "text": [
      "negative logL: 1654.1865885634868\n",
      "negative logL: 1654.1865478009522\n",
      "negative logL: 1654.186588136609\n",
      "negative logL: 1654.1865885634868\n",
      "negative logL: 1654.1865885634868\n",
      "negative logL: 1654.1865885634868\n",
      "|   3   |  18   |   4   | +1.6542e+03 | 7.00e+00 | 8.19e-01 | 2.94e-01 |\n",
      "negative logL: 1654.1598290166364\n",
      "negative logL: 1654.1597882526532\n",
      "negative logL: 1654.1598285886785\n",
      "negative logL: 1654.1598290166364\n",
      "negative logL: 1654.1598290166364\n",
      "negative logL: 1654.1598290166364\n",
      "|   4   |  24   |   8   | +1.6542e+03 | 7.81e+00 | 8.21e-01 | 1.66e-01 |\n",
      "negative logL: 1654.1595006571813\n",
      "negative logL: 1654.1594598934569\n",
      "negative logL: 1654.1595002290735\n",
      "negative logL: 1654.1595006571813\n",
      "negative logL: 1654.1595006571813\n",
      "negative logL: 1654.1595006571813\n",
      "|   5   |  30   |  12   | +1.6542e+03 | 7.84e+00 | 8.21e-01 | 8.34e-02 |\n",
      "negative logL: 1654.159125485429\n",
      "negative logL: 1654.15908472234\n",
      "negative logL: 1654.1591231127018\n",
      "negative logL: 1654.159125485429\n",
      "negative logL: 1654.159125485429\n",
      "negative logL: 1654.159125485429\n",
      "|   6   |  36   |  15   | +1.6542e+03 | 7.84e+00 | 4.55e+00 | 4.19e-02 |\n",
      "negative logL: 1654.1577418781562\n",
      "negative logL: 1654.1577011497134\n",
      "negative logL: 1654.157741450075\n",
      "negative logL: 1654.1577418781562\n",
      "negative logL: 1654.1577418781562\n",
      "negative logL: 1654.1577418781562\n",
      "|   7   |  42   |  18   | +1.6542e+03 | 7.84e+00 | 8.21e-01 | 2.11e-02 |\n",
      "negative logL: 1654.1578068539586\n",
      "negative logL: 1654.1577660908094\n",
      "negative logL: 1654.1578064261337\n",
      "negative logL: 1654.1578068539586\n",
      "negative logL: 1654.1578068539586\n",
      "negative logL: 1654.1578068539586\n",
      "|   8   |  48   |  21   | +1.6542e+03 | 7.84e+00 | 8.21e-01 | 1.06e-02 |\n",
      "negative logL: 1654.1578453129107\n",
      "negative logL: 1654.1578045492986\n",
      "negative logL: 1654.1578448845185\n",
      "negative logL: 1654.1578453129107\n",
      "negative logL: 1654.1578453129107\n",
      "negative logL: 1654.1578453129107\n",
      "|   9   |  54   |  24   | +1.6542e+03 | 7.84e+00 | 8.22e-01 | 5.31e-03 |\n",
      "negative logL: 1654.1578647189517\n",
      "negative logL: 1654.157823955782\n",
      "negative logL: 1654.157864290658\n",
      "negative logL: 1654.1578647189517\n",
      "negative logL: 1654.1578647189517\n",
      "negative logL: 1654.1578647189517\n",
      "|  10   |  60   |  27   | +1.6542e+03 | 7.84e+00 | 8.22e-01 | 2.67e-03 |\n",
      "negative logL: 1654.157839489644\n",
      "negative logL: 1654.1577987266958\n",
      "negative logL: 1654.1578390613522\n",
      "negative logL: 1654.157839489644\n",
      "negative logL: 1654.157839489644\n",
      "negative logL: 1654.157839489644\n",
      "|  11   |  66   |  30   | +1.6542e+03 | 7.84e+00 | 8.22e-01 | 1.34e-03 |\n",
      "negative logL: 1654.1578415193583\n",
      "negative logL: 1654.1578007563303\n",
      "negative logL: 1654.1578410917489\n",
      "negative logL: 1654.1578415193583\n",
      "negative logL: 1654.1578415193583\n",
      "negative logL: 1654.1578415193583\n",
      "|  12   |  72   |  33   | +1.6542e+03 | 7.84e+00 | 8.20e-01 | 6.71e-04 |\n",
      "negative logL: 1654.1578425395908\n",
      "negative logL: 1654.1578132247682\n",
      "negative logL: 1654.157842111175\n",
      "negative logL: 1654.1578425395908\n",
      "negative logL: 1654.1578425395908\n",
      "negative logL: 1654.1578425395908\n",
      "|  13   |  78   |  36   | +1.6542e+03 | 7.84e+00 | 8.22e-01 | 3.36e-04 |\n",
      "negative logL: 1654.157843052287\n",
      "negative logL: 1654.1578137369804\n",
      "negative logL: 1654.157842623776\n",
      "negative logL: 1654.157843052287\n",
      "negative logL: 1654.157843052287\n",
      "negative logL: 1654.157843052287\n",
      "|  14   |  84   |  39   | +1.6542e+03 | 7.84e+00 | 8.22e-01 | 1.67e-04 |\n",
      "negative logL: 1654.1578547579286\n",
      "negative logL: 1654.1578139941023\n",
      "negative logL: 1654.1578428814707\n",
      "negative logL: 1654.1578547579286\n",
      "negative logL: 1654.1578547579286\n",
      "negative logL: 1654.1578547579286\n",
      "|  15   |  90   |  42   | +1.6542e+03 | 7.84e+00 | 2.28e+01 | 8.23e-05 |\n",
      "negative logL: 1654.1578548851196\n",
      "negative logL: 1654.1578141215089\n",
      "negative logL: 1654.15784300861\n",
      "negative logL: 1654.1578548851196\n",
      "negative logL: 1654.1578548851196\n",
      "negative logL: 1654.1578548851196\n",
      "|  16   |  96   |  45   | +1.6542e+03 | 7.84e+00 | 2.28e+01 | 3.98e-05 |\n",
      "negative logL: 1654.1578549470792\n",
      "negative logL: 1654.1578141833022\n",
      "negative logL: 1654.1578545189855\n",
      "negative logL: 1654.1578549470792\n",
      "negative logL: 1654.1578549470792\n",
      "negative logL: 1654.1578549470792\n",
      "|  17   |  102  |  48   | +1.6542e+03 | 7.84e+00 | 8.21e-01 | 1.84e-05 |\n",
      "negative logL: 1654.1578549792032\n",
      "negative logL: 1654.1578142158621\n",
      "negative logL: 1654.1578545508933\n",
      "negative logL: 1654.1578549792032\n",
      "negative logL: 1654.1578549792032\n",
      "negative logL: 1654.1578549792032\n",
      "|  18   |  108  |  51   | +1.6542e+03 | 7.84e+00 | 8.22e-01 | 7.61e-06 |\n",
      "negative logL: 1654.1578549912638\n",
      "negative logL: 1654.157814227615\n",
      "negative logL: 1654.1578545634459\n",
      "negative logL: 1654.1578549912638\n",
      "negative logL: 1654.1578549912638\n",
      "negative logL: 1654.1578549912638\n",
      "|  19   |  114  |  54   | +1.6542e+03 | 7.84e+00 | 8.21e-01 | 2.21e-06 |\n",
      "negative logL: 1951.9218704726252\n",
      "negative logL: 1951.921860336575\n",
      "negative logL: 1951.9218761706502\n",
      "negative logL: 1993.5313779052296\n",
      "negative logL: 1951.9218704726252\n",
      "negative logL: 1951.9218985529526\n",
      "|  20   |  120  |  57   | +1.6542e+03 | 7.84e-01 | 8.21e-01 | 2.21e-06 |\n",
      "negative logL: 646.8185118522855\n",
      "negative logL: 646.8185073942572\n",
      "negative logL: 646.8185161221538\n",
      "negative logL: 706.7983882497754\n",
      "negative logL: 646.8185118522855\n",
      "negative logL: 646.8185190750777\n",
      "|  21   |  126  |  60   | +6.4682e+02 | 5.49e+00 | 9.26e+01 | 0.00e+00 |\n",
      "negative logL: 177.81730500582555\n",
      "negative logL: 177.8173026897265\n",
      "negative logL: 177.81730514455424\n",
      "negative logL: 212.51549636019408\n",
      "negative logL: 177.81730500582555\n",
      "negative logL: 177.81730573921084\n",
      "|  22   |  132  |  64   | +1.7782e+02 | 6.73e+00 | 9.39e+00 | 0.00e+00 |\n",
      "negative logL: 170.9572460110288\n",
      "negative logL: 170.9572433977908\n",
      "negative logL: 170.95725579109305\n",
      "negative logL: 200.8040315685973\n",
      "negative logL: 170.9572460110288\n",
      "negative logL: 170.95724623266278\n",
      "|  23   |  138  |  68   | +1.7096e+02 | 6.73e+00 | 1.87e+01 | 0.00e+00 |\n",
      "negative logL: 170.92787178528036\n",
      "negative logL: 170.92786915243994\n",
      "negative logL: 170.92787178434503\n",
      "negative logL: 200.72959259516358\n",
      "negative logL: 170.92787178528036\n",
      "negative logL: 170.92787198314127\n",
      "|  24   |  144  |  72   | +1.7093e+02 | 6.73e+00 | 2.52e+00 | 0.00e+00 |\n",
      "negative logL: 166.55177184258693\n",
      "negative logL: 166.55176892546757\n",
      "negative logL: 166.55177172298608\n",
      "negative logL: 191.6607089207137\n",
      "negative logL: 166.55177184258693\n",
      "negative logL: 166.55177159829867\n",
      "|  25   |  150  |  76   | +1.6655e+02 | 6.73e+00 | 3.15e+00 | 0.00e+00 |\n",
      "negative logL: 166.54769399929293\n",
      "negative logL: 166.54769108477353\n",
      "negative logL: 166.54769387954607\n",
      "negative logL: 191.66737232803143\n",
      "negative logL: 166.54769399929293\n",
      "negative logL: 166.54769375802468\n",
      "|  26   |  156  |  80   | +1.6655e+02 | 6.73e+00 | 3.11e+00 | 0.00e+00 |\n",
      "negative logL: 166.54600931721592\n",
      "negative logL: 166.54600640317952\n",
      "negative logL: 166.54600919755265\n",
      "negative logL: 191.6615534293348\n",
      "negative logL: 166.54600931721592\n",
      "negative logL: 166.5460090763552\n",
      "|  27   |  162  |  84   | +1.6655e+02 | 6.73e+00 | 3.11e+00 | 0.00e+00 |\n",
      "negative logL: 165.88639553208378\n",
      "negative logL: 165.8863930329775\n",
      "negative logL: 165.88639539591796\n",
      "negative logL: 191.36690638587316\n",
      "negative logL: 165.88639553208378\n",
      "negative logL: 165.88639576937\n",
      "|  28   |  168  |  88   | +1.6589e+02 | 6.73e+00 | 3.02e+00 | 0.00e+00 |\n",
      "negative logL: 165.84568013171278\n",
      "negative logL: 165.84567781347118\n",
      "negative logL: 165.8456799939569\n",
      "negative logL: 191.72594351524125\n",
      "negative logL: 165.84568013171278\n",
      "negative logL: 165.84568058429664\n",
      "negative logL: 165.8456800932356\n",
      "negative logL: 165.84567777499694\n",
      "negative logL: 165.84567995547982\n",
      "negative logL: 191.7259435459318\n",
      "negative logL: 165.8456800932356\n",
      "negative logL: 165.84568054581948\n",
      "|  29   |  180  |  92   | +1.6585e+02 | 6.73e+00 | 5.78e+00 | 0.00e+00 |\n",
      "negative logL: 165.84568009007117\n",
      "negative logL: 165.84567777183435\n",
      "negative logL: 165.8456799523214\n",
      "negative logL: 191.72594353054697\n",
      "negative logL: 165.84568009007117\n",
      "negative logL: 165.84568054265512\n",
      "negative logL: 165.84568009007117\n",
      "negative logL: 165.84567777183435\n",
      "negative logL: 165.8456799523214\n",
      "negative logL: 191.72594353054697\n",
      "negative logL: 165.84568009007117\n",
      "negative logL: 165.84568054265512\n",
      "|  30   |  192  |  93   | +1.6585e+02 | 6.73e+00 | 5.78e+00 | 0.00e+00 |\n",
      "negative logL: 165.8456800869087\n",
      "negative logL: 165.84567776867263\n",
      "negative logL: 165.84567994917793\n",
      "negative logL: 191.72594351516804\n",
      "negative logL: 165.8456800869087\n",
      "negative logL: 165.84568053949081\n",
      "|  31   |  198  |  94   | +1.6585e+02 | 6.73e+00 | 5.78e+00 | 0.00e+00 |\n",
      "negative logL: 186.47785652938913\n",
      "negative logL: 186.4778488669048\n",
      "negative logL: 186.4778566884395\n",
      "negative logL: 214.00212663899248\n",
      "negative logL: 186.47785652938913\n",
      "negative logL: 186.4778514570321\n",
      "negative logL: 186.48524150325326\n",
      "negative logL: 186.4852338387289\n",
      "negative logL: 186.48524166230325\n",
      "negative logL: 213.999711238893\n",
      "negative logL: 186.48524150325326\n",
      "negative logL: 186.48523642890024\n",
      "|  32   |  210  |  98   | +1.6585e+02 | 1.25e+00 | 5.78e+00 | 0.00e+00 |\n",
      "negative logL: 165.84430225104276\n",
      "negative logL: 165.8442999287395\n",
      "negative logL: 165.84430211362405\n",
      "negative logL: 191.72073731795615\n",
      "negative logL: 165.84430225104276\n",
      "negative logL: 165.84430269870523\n",
      "|  33   |  216  |  102  | +1.6584e+02 | 1.25e+00 | 5.71e+00 | 0.00e+00 |\n",
      "negative logL: 165.98816564061053\n",
      "negative logL: 165.98816308631578\n",
      "negative logL: 165.9881655208634\n",
      "negative logL: 191.9501855383634\n",
      "negative logL: 165.98816564061053\n",
      "negative logL: 165.98816583115766\n",
      "negative logL: 165.9881656309366\n",
      "negative logL: 165.98816307664057\n",
      "negative logL: 165.98816551118324\n",
      "negative logL: 191.95018553964846\n",
      "negative logL: 165.9881656309366\n",
      "negative logL: 165.98816582148336\n",
      "|  34   |  228  |  106  | +1.6584e+02 | 1.25e-01 | 5.71e+00 | 0.00e+00 |\n",
      "negative logL: 166.00543020151383\n",
      "negative logL: 166.00542762186774\n",
      "negative logL: 166.0054302110227\n",
      "negative logL: 191.98861833809838\n",
      "negative logL: 166.00543020151383\n",
      "negative logL: 166.00543036379756\n",
      "negative logL: 166.0054302316807\n",
      "negative logL: 166.00542765203687\n",
      "negative logL: 166.00543024118664\n",
      "negative logL: 191.98861833524933\n",
      "negative logL: 166.0054302316807\n",
      "negative logL: 166.00543039396146\n",
      "|  35   |  240  |  110  | +1.6584e+02 | 2.34e-02 | 5.71e+00 | 0.00e+00 |\n",
      "negative logL: 165.86605798487082\n",
      "negative logL: 165.86605561580438\n",
      "negative logL: 165.86606839153234\n",
      "negative logL: 191.76375267697813\n",
      "negative logL: 165.86605798487082\n",
      "negative logL: 165.8660583804967\n",
      "negative logL: 165.86605798827415\n",
      "negative logL: 165.86605561920692\n",
      "negative logL: 165.86606839494266\n",
      "negative logL: 191.7637526749677\n",
      "negative logL: 165.86605798827415\n",
      "negative logL: 165.86605838390065\n",
      "|  36   |  252  |  114  | +1.6584e+02 | 6.91e-03 | 5.71e+00 | 0.00e+00 |\n",
      "negative logL: 165.84751945268522\n",
      "negative logL: 165.8475171175934\n",
      "negative logL: 165.84751931608506\n",
      "negative logL: 191.7264181444573\n",
      "negative logL: 165.84751945268522\n",
      "negative logL: 165.84751988612385\n",
      "negative logL: 165.8475194671043\n",
      "negative logL: 165.84751713201456\n",
      "negative logL: 165.84751933050387\n",
      "negative logL: 191.72641813404488\n",
      "negative logL: 165.8475194671043\n",
      "negative logL: 165.84751990054295\n",
      "|  37   |  264  |  118  | +1.6584e+02 | 1.62e-03 | 5.71e+00 | 0.00e+00 |\n",
      "negative logL: 165.84677610057025\n",
      "negative logL: 165.8467737752648\n",
      "negative logL: 165.84677596329266\n",
      "negative logL: 191.727855670351\n",
      "negative logL: 165.84677610057025\n",
      "negative logL: 165.8467765452277\n",
      "negative logL: 165.84677610369033\n",
      "negative logL: 165.84677377838526\n",
      "negative logL: 165.84677596641387\n",
      "negative logL: 191.72785566794911\n",
      "negative logL: 165.84677610369033\n",
      "negative logL: 165.8467765483469\n",
      "|  38   |  276  |  122  | +1.6584e+02 | 8.10e-04 | 5.71e+00 | 0.00e+00 |\n",
      "negative logL: 165.84859298231228\n",
      "negative logL: 165.84859199018646\n",
      "negative logL: 165.84859240509638\n",
      "negative logL: 191.7267193710076\n",
      "negative logL: 165.84859298231228\n",
      "negative logL: 165.84859342970233\n",
      "negative logL: 165.84859298374622\n",
      "negative logL: 165.84859199162202\n",
      "negative logL: 165.84859240652773\n",
      "negative logL: 191.72671936989127\n",
      "negative logL: 165.84859298374622\n",
      "negative logL: 165.8485934311374\n",
      "|  39   |  288  |  126  | +1.6584e+02 | 8.10e-05 | 5.71e+00 | 0.00e+00 |\n",
      "negative logL: 165.8447434762806\n",
      "negative logL: 165.8447411541172\n",
      "negative logL: 165.84474333888306\n",
      "negative logL: 191.7265661166125\n",
      "negative logL: 165.8447434762806\n",
      "negative logL: 165.84474392409186\n",
      "negative logL: 165.84474347628014\n",
      "negative logL: 165.84474115411686\n",
      "negative logL: 165.84474333888286\n",
      "negative logL: 191.72656611661316\n",
      "negative logL: 165.84474347628014\n",
      "negative logL: 165.84474392409192\n",
      "|  40   |  300  |  127  | +1.6584e+02 | 3.61e-05 | 5.71e+00 | 0.00e+00 |\n",
      "negative logL: 165.84409102485836\n",
      "negative logL: 165.84408870202853\n",
      "negative logL: 165.8440908874931\n",
      "negative logL: 191.72292746320946\n",
      "negative logL: 165.84409102485836\n",
      "negative logL: 165.84409147195882\n",
      "|  41   |  306  |  128  | +1.6584e+02 | 2.52e-04 | 5.71e+00 | 0.00e+00 |\n",
      "negative logL: 165.85204077426954\n",
      "negative logL: 165.85203845309593\n",
      "negative logL: 165.85204063673888\n",
      "negative logL: 191.72252886070885\n",
      "negative logL: 165.85204077426954\n",
      "negative logL: 165.85204122378198\n",
      "negative logL: 165.85204077426934\n",
      "negative logL: 165.85203845309536\n",
      "negative logL: 165.852040636738\n",
      "negative logL: 191.72252886070973\n",
      "negative logL: 165.85204077426934\n",
      "negative logL: 165.85204122378164\n",
      "|  42   |  318  |  129  | +1.6584e+02 | 3.69e-05 | 5.71e+00 | 0.00e+00 |\n",
      "negative logL: 165.8443698653214\n",
      "negative logL: 165.8443675426602\n",
      "negative logL: 165.84436972789263\n",
      "negative logL: 191.72181278198804\n",
      "negative logL: 165.8443698653214\n",
      "negative logL: 165.84437031271509\n",
      "negative logL: 165.8443698653212\n",
      "negative logL: 165.8443675426602\n",
      "negative logL: 165.8443697278927\n",
      "negative logL: 191.72181278198823\n",
      "negative logL: 165.8443698653212\n",
      "negative logL: 165.844370312715\n",
      "|  43   |  330  |  130  | +1.6584e+02 | 1.60e-05 | 5.71e+00 | 0.00e+00 |\n",
      "negative logL: 165.84449229313694\n",
      "negative logL: 165.84448997055384\n",
      "negative logL: 165.84449215551496\n",
      "negative logL: 191.7224691318163\n",
      "negative logL: 165.84449229313694\n",
      "negative logL: 165.8444927408549\n",
      "negative logL: 165.8444922931369\n",
      "negative logL: 165.84448997055398\n",
      "negative logL: 165.84449215551496\n",
      "negative logL: 191.72246913181635\n",
      "negative logL: 165.8444922931369\n",
      "negative logL: 165.84449274085486\n",
      "|  44   |  342  |  131  | +1.6584e+02 | 3.00e-06 | 5.71e+00 | 0.00e+00 |\n",
      "negative logL: 165.84407347485538\n",
      "negative logL: 165.84407115196794\n",
      "negative logL: 165.8440733374632\n",
      "negative logL: 191.72284121610113\n",
      "negative logL: 165.84407347485538\n",
      "negative logL: 165.84407392190903\n",
      "|  45   |  348  |  132  | +1.6584e+02 | 2.10e-05 | 5.71e+00 | 0.00e+00 |\n",
      "negative logL: 165.84444510003962\n",
      "negative logL: 165.84444277749233\n",
      "negative logL: 165.84444496246027\n",
      "negative logL: 191.72550608170965\n",
      "negative logL: 165.84444510003962\n",
      "negative logL: 165.84444554763272\n",
      "negative logL: 165.84444510003942\n",
      "negative logL: 165.84444277749185\n",
      "negative logL: 165.84444496246016\n",
      "negative logL: 191.72550608170982\n",
      "negative logL: 165.84444510003942\n",
      "negative logL: 165.8444455476325\n",
      "|  46   |  360  |  133  | +1.6584e+02 | 5.21e-06 | 5.71e+00 | 0.00e+00 |\n",
      "negative logL: 165.84404305802508\n",
      "negative logL: 165.8440407349393\n",
      "negative logL: 165.84404292062\n",
      "negative logL: 191.72269172044216\n",
      "negative logL: 165.84404305802508\n",
      "negative logL: 165.84404350500017\n",
      "|  47   |  366  |  134  | +1.6584e+02 | 3.65e-05 | 5.70e+00 | 0.00e+00 |\n",
      "negative logL: 165.84474519675393\n",
      "negative logL: 165.84474287458903\n",
      "negative logL: 165.84474505941697\n",
      "negative logL: 191.72657456492254\n",
      "negative logL: 165.84474519675393\n",
      "negative logL: 165.84474564456937\n",
      "negative logL: 165.84474519675453\n",
      "negative logL: 165.84474287458926\n",
      "negative logL: 165.84474505941708\n",
      "negative logL: 191.726574564922\n",
      "negative logL: 165.84474519675453\n",
      "negative logL: 165.84474564456957\n",
      "|  48   |  378  |  135  | +1.6584e+02 | 8.47e-06 | 5.70e+00 | 0.00e+00 |\n",
      "negative logL: 165.84448813636965\n",
      "negative logL: 165.8444858138912\n",
      "negative logL: 165.8444879988165\n",
      "negative logL: 191.7224487359764\n",
      "negative logL: 165.84448813636965\n",
      "negative logL: 165.84448858407936\n",
      "negative logL: 165.84448813636956\n",
      "negative logL: 165.84448581389128\n",
      "negative logL: 165.84448799881662\n",
      "negative logL: 191.72244873597623\n",
      "negative logL: 165.84448813636956\n",
      "negative logL: 165.84448858407936\n",
      "|  49   |  390  |  136  | +1.6584e+02 | 8.50e-07 | 5.70e+00 | 0.00e+00 |\n",
      "negative logL: 165.84403809716656\n",
      "negative logL: 165.84403577416126\n",
      "negative logL: 165.84403795974566\n",
      "negative logL: 191.7226673364782\n",
      "negative logL: 165.84403809716656\n",
      "negative logL: 165.84403854412616\n",
      "|  50   |  396  |  137  | +1.6584e+02 | 5.95e-06 | 5.70e+00 | 0.00e+00 |\n",
      "\n",
      "The maximum number of function evaluations is exceeded.\n",
      "Number of iterations: 50, function evaluations: 396, CG iterations: 137, optimality: 5.70e+00, constraint violation: 0.00e+00, execution time: 1.1e+03 s.\n"
     ]
    }
   ],
   "source": [
    "best_fit = scipy.optimize.minimize(fun=lambda free_params_flattened: \n",
    "                                   get_lc_cost_function(free_params_flattened, metsim_obj=metsim_obj),\n",
    "                                   x0=initial_guess_mod, \n",
    "                                   method='trust-constr',\n",
    "                                   # method='L-BFGS-B',\n",
    "                                   # method='SLSQP',\n",
    "                                   # method='BFGS',\n",
    "                                   # method='Nelder-Mead',\n",
    "                                   bounds=bounds, \n",
    "                                   options={'verbose': 2, \n",
    "                                            'maxiter': 50, \n",
    "                                            # 'gtol': 9e-1\n",
    "                                            # 'return_all': True,\n",
    "                                           },\n",
    "                                   constraints=mass_constraints, \n",
    "                                   # callback=MinimizeStopper()\n",
    "                                  )#, options={'maxiter': 1e5})"
   ]
  },
  {
   "cell_type": "code",
   "execution_count": 26,
   "id": "e8e94f4b-b93a-434f-a857-a2367a7162ca",
   "metadata": {},
   "outputs": [
    {
     "data": {
      "text/plain": [
       "           message: The maximum number of function evaluations is exceeded.\n",
       "           success: False\n",
       "            status: 0\n",
       "               fun: 165.84403809716656\n",
       "                 x: [ 1.500e+06  3.541e+01  1.001e-07  1.019e+00  5.043e+00]\n",
       "               nit: 50\n",
       "              nfev: 396\n",
       "              njev: 66\n",
       "              nhev: 0\n",
       "          cg_niter: 137\n",
       "      cg_stop_cond: 2\n",
       "              grad: [-1.039e-04 -2.604e-01  1.737e+09  0.000e+00  5.948e+00]\n",
       "   lagrangian_grad: [-1.040e-04 -2.614e-01 -4.768e-07 -4.404e-02  5.704e+00]\n",
       "            constr: [array([0]), array([ 1.500e+06,  3.541e+01,  1.001e-07,  1.019e+00,\n",
       "                            5.043e+00])]\n",
       "               jac: [array([[ 0.000e+00,  0.000e+00,  0.000e+00,\n",
       "                             0.000e+00,  0.000e+00]]), array([[ 1.000e+00,  0.000e+00, ...,  0.000e+00,\n",
       "                             0.000e+00],\n",
       "                           [ 0.000e+00,  1.000e+00, ...,  0.000e+00,\n",
       "                             0.000e+00],\n",
       "                           ...,\n",
       "                           [ 0.000e+00,  0.000e+00, ...,  1.000e+00,\n",
       "                             0.000e+00],\n",
       "                           [ 0.000e+00,  0.000e+00, ...,  0.000e+00,\n",
       "                             1.000e+00]])]\n",
       "       constr_nfev: [396, 0]\n",
       "       constr_njev: [0, 0]\n",
       "       constr_nhev: [0, 0]\n",
       "                 v: [array([0]), array([-5.535e-08, -1.005e-03, -1.737e+09, -4.404e-02,\n",
       "                           -2.438e-01])]\n",
       "            method: tr_interior_point\n",
       "        optimality: 5.704322315015843\n",
       "  constr_violation: 0.0\n",
       "    execution_time: 1052.6032438278198\n",
       "         tr_radius: 5.946754963686659e-06\n",
       "    constr_penalty: 24697733.530263275\n",
       " barrier_parameter: 0.1\n",
       " barrier_tolerance: 0.1\n",
       "             niter: 50"
      ]
     },
     "execution_count": 26,
     "metadata": {},
     "output_type": "execute_result"
    }
   ],
   "source": [
    "best_fit"
   ]
  },
  {
   "cell_type": "code",
   "execution_count": 27,
   "id": "e8e43ec0-5b54-42cb-bb62-ca01baa1fcb3",
   "metadata": {},
   "outputs": [
    {
     "data": {
      "text/plain": [
       "(array([1.5e+06, 3.5e+01, 1.0e-07, 1.0e+00, 5.0e+00]),\n",
       " array([1.50000000e+06, 3.54094205e+01, 1.00093718e-07, 1.01876964e+00,\n",
       "        5.04273887e+00]))"
      ]
     },
     "execution_count": 27,
     "metadata": {},
     "output_type": "execute_result"
    }
   ],
   "source": [
    "initial_guess, best_fit.x"
   ]
  },
  {
   "cell_type": "code",
   "execution_count": 33,
   "id": "06ee38a4-eacc-4311-97ab-1933112cffb9",
   "metadata": {},
   "outputs": [],
   "source": [
    "np.save('best_fit_1994_mod_start.npy', best_fit)"
   ]
  },
  {
   "cell_type": "markdown",
   "id": "e25bca29-413f-4376-aaa6-5d0ca2fd60b8",
   "metadata": {},
   "source": [
    "Compare original LC to simulated LCs with the initial guess and the best-fit guess:"
   ]
  },
  {
   "cell_type": "code",
   "execution_count": 29,
   "id": "320b0ec7-6b24-42f5-a72c-c6a03d55a380",
   "metadata": {},
   "outputs": [],
   "source": [
    "results_initial = sim_lc(initial_guess, metsim_obj)"
   ]
  },
  {
   "cell_type": "code",
   "execution_count": 30,
   "id": "617fa7d8-fcbb-40d0-8c14-fe1101756a55",
   "metadata": {},
   "outputs": [],
   "source": [
    "# best fit\n",
    "results_bf = sim_lc(best_fit.x, metsim_obj)"
   ]
  },
  {
   "cell_type": "markdown",
   "id": "ffeec9ad-c406-4689-ab56-7db1c48431e2",
   "metadata": {},
   "source": [
    "Plot:"
   ]
  },
  {
   "cell_type": "code",
   "execution_count": 31,
   "id": "5a72af40-e012-40d6-b878-bfc7af20b368",
   "metadata": {},
   "outputs": [
    {
     "data": {
      "text/plain": [
       "<matplotlib.legend.Legend at 0x7f8a41817d90>"
      ]
     },
     "execution_count": 31,
     "metadata": {},
     "output_type": "execute_result"
    },
    {
     "data": {
      "image/png": "[encoded data removed]",
      "text/plain": [
       "<Figure size 1200x800 with 1 Axes>"
      ]
     },
     "metadata": {},
     "output_type": "display_data"
    }
   ],
   "source": [
    "plt.figure(figsize = (12, 8))\n",
    "# plt.plot(obs_lc_intensity, metsim_obj.traj.observations[0].model_ht/1000., label = 'observed')\n",
    "# interpolate the results initial and results leading frag heights\n",
    "if np.sum(np.diff(results_initial.leading_frag_height_arr) > 0) > 0:\n",
    "    first_increasing_height_arr = np.where(np.diff(results_initial.leading_frag_height_arr) > 0)[0][0] - 1\n",
    "else:\n",
    "    first_increasing_height_arr = -1\n",
    "interpolated_initial_int = np.interp(metsim_obj.traj.observations[0].model_ht, \n",
    "          np.flip(results_initial.leading_frag_height_arr[:first_increasing_height_arr]), \n",
    "          np.flip(results_initial.luminosity_arr[:first_increasing_height_arr]))\n",
    "interpolated_bf_int = np.interp(metsim_obj.traj.observations[0].model_ht, \n",
    "          np.flip(results_bf.leading_frag_height_arr[:first_increasing_height_arr]), \n",
    "          np.flip(results_bf.luminosity_arr[:first_increasing_height_arr]))\n",
    "\n",
    "plt.plot(interpolated_initial_int, metsim_obj.traj.observations[0].model_ht/1000., label = 'leading initial guess')\n",
    "plt.plot(interpolated_bf_int, metsim_obj.traj.observations[0].model_ht/1000., label = 'leading best fit')\n",
    "# plt.plot(results_initial.luminosity_arr, results_initial.leading_frag_height_arr/1000., label = 'leading initial guess')\n",
    "# plt.plot(results_bf.luminosity_arr, results_bf.leading_frag_height_arr/1000., label = 'leading best fit')\n",
    "plt.ylim(10., 80.)\n",
    "plt.legend()"
   ]
  },
  {
   "cell_type": "markdown",
   "id": "1d341dae-e342-445f-a9aa-4b6ba36651d2",
   "metadata": {},
   "source": [
    "Compare the cost function (RSS):"
   ]
  },
  {
   "cell_type": "code",
   "execution_count": 32,
   "id": "8228dbe1-cf69-405b-84fd-64dfc835b87b",
   "metadata": {},
   "outputs": [
    {
     "name": "stdout",
     "output_type": "stream",
     "text": [
      "negative logL: 165.84403809716656\n",
      "negative logL: 166.08079157154498\n"
     ]
    },
    {
     "data": {
      "text/plain": [
       "(165.84403809716656, 166.08079157154498)"
      ]
     },
     "execution_count": 32,
     "metadata": {},
     "output_type": "execute_result"
    }
   ],
   "source": [
    "get_lc_cost_function(best_fit.x, metsim_obj), get_lc_cost_function(initial_guess, metsim_obj)"
   ]
  },
  {
   "cell_type": "markdown",
   "id": "d270fdb7-51fd-44fd-b655-316786b26efc",
   "metadata": {},
   "source": [
    "Height of leading fragment:"
   ]
  }
 ],
 "metadata": {
  "kernelspec": {
   "display_name": "Python 3 (ipykernel)",
   "language": "python",
   "name": "python3"
  },
  "language_info": {
   "codemirror_mode": {
    "name": "ipython",
    "version": 3
   },
   "file_extension": ".py",
   "mimetype": "text/x-python",
   "name": "python",
   "nbconvert_exporter": "python",
   "pygments_lexer": "ipython3",
   "version": "3.8.18"
  }
 },
 "nbformat": 4,
 "nbformat_minor": 5
}
