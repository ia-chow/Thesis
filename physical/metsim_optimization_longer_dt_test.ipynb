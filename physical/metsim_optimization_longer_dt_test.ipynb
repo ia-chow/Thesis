{
 "cells": [
  {
   "cell_type": "code",
   "execution_count": 1,
   "id": "21fdbff0-60f0-4af4-a602-1ead544f7909",
   "metadata": {},
   "outputs": [],
   "source": [
    "import numpy as np\n",
    "import pandas as pd\n",
    "import sys\n",
    "import json\n",
    "import os\n",
    "import copy\n",
    "import matplotlib.pyplot as plt\n",
    "import scipy"
   ]
  },
  {
   "cell_type": "markdown",
   "id": "885fe6f0-35f7-4afc-b904-e2144eac389b",
   "metadata": {},
   "source": [
    "Make `WMPL` directory visible:"
   ]
  },
  {
   "cell_type": "code",
   "execution_count": 2,
   "id": "fe6406fd-08fe-417b-a641-b49809b493cf",
   "metadata": {},
   "outputs": [],
   "source": [
    "sys.path.append('../../')"
   ]
  },
  {
   "cell_type": "markdown",
   "id": "ca075672-9085-4975-b81c-dc4a6a243d4e",
   "metadata": {},
   "source": [
    "Import WMPL files:"
   ]
  },
  {
   "cell_type": "code",
   "execution_count": 3,
   "id": "0c521053-823a-4a65-97d0-5da495985d60",
   "metadata": {},
   "outputs": [],
   "source": [
    "import source.WesternMeteorPyLib.wmpl.MetSim.MetSim as metsim\n",
    "import source.WesternMeteorPyLib.wmpl.MetSim.FitSim as fitsim\n",
    "import source.WesternMeteorPyLib.wmpl.MetSim.GUI as gui\n",
    "import source.WesternMeteorPyLib.wmpl.MetSim.MetSimErosion as erosion"
   ]
  },
  {
   "cell_type": "markdown",
   "id": "72670f9e-b782-45db-aaa1-6c4319b44d0a",
   "metadata": {},
   "source": [
    "Modified version to run with the optimization routine:"
   ]
  },
  {
   "cell_type": "code",
   "execution_count": 4,
   "id": "9ae450a2-8934-4606-b0b0-cb54ab147538",
   "metadata": {},
   "outputs": [],
   "source": [
    "class MetSimObj():\n",
    "    def __init__(self, traj_path, const_json_file, fixed_frag_indices, free_frag_indices):\n",
    "        # Init an axis for the electron line density\n",
    "        # self.electronDensityPlot = self.magnitudePlot.canvas.axes.twiny()\n",
    "        self.electron_density_plot_show = False\n",
    "        ### Wake parameters ###\n",
    "        self.wake_on = False\n",
    "        self.wake_show_mass_bins = False\n",
    "        self.wake_ht_current_index = 0\n",
    "        self.current_wake_container = None\n",
    "        # if self.wake_heights is not None:\n",
    "        #     self.wake_plot_ht, self.current_wake_container = self.wake_heights[self.wake_ht_current_index]\n",
    "        # else:\n",
    "        #     self.wake_plot_ht = self.traj.rbeg_ele # m\n",
    "        self.wake_normalization_method = 'area'\n",
    "        self.wake_align_method = 'none'\n",
    "        self.magnitudePlotWakeLines = None\n",
    "        self.magnitudePlotWakeLineLabels = None\n",
    "        self.velocityPlotWakeLines = None\n",
    "        self.lagPlotWakeLines = None\n",
    "        self.usg_data, self.traj = gui.loadUSGInputFile(*os.path.split(traj_path))\n",
    "        self.dir_path = os.path.dirname(traj_path)\n",
    "        # Disable different density after erosion change\n",
    "        self.erosion_different_rho = False\n",
    "        # Disable different ablation coeff after erosion change\n",
    "        self.erosion_different_sigma = False\n",
    "        # Disable different erosion coeff after disruption at the beginning\n",
    "        self.disruption_different_erosion_coeff = False\n",
    "        # Fragmentation object\n",
    "        self.fragmentation = None\n",
    "        self.simulation_results = None\n",
    "        self.const_prev = None\n",
    "        self.simulation_results_prev = None\n",
    "        self.const = erosion.Constants()  # initialize this, these will be replaced later\n",
    "        self.const.P_0m = self.usg_data.P_0m_bolo\n",
    "        # If a JSON file with constant was given, load them instead of initing from scratch\n",
    "        if const_json_file is not None:\n",
    "            # Load the constants from the JSON files\n",
    "            self.const, const_json = gui.loadConstants(const_json_file)\n",
    "            # Init the fragmentation container for the GUI\n",
    "            if len(self.const.fragmentation_entries):\n",
    "                self.fragmentation = gui.FragmentationContainer(self, \\\n",
    "                    os.path.join(self.dir_path, self.const.fragmentation_file_name))\n",
    "                self.fragmentation.fragmentation_entries = self.const.fragmentation_entries\n",
    "                # Overwrite the existing fragmentatinon file\n",
    "                # self.fragmentation.writeFragmentationFile()\n",
    "            # Check if the disruption erosion coefficient is different than the main erosion coeff\n",
    "            if const_json['disruption_erosion_coeff'] != const_json['erosion_coeff']:\n",
    "                self.disruption_different_erosion_coeff = True\n",
    "            # Check if the density is changed after Hchange\n",
    "            if 'erosion_rho_change' in const_json:\n",
    "                if const_json['erosion_rho_change'] != const_json['rho']:\n",
    "                    self.erosion_different_rho = True\n",
    "            # Check if the ablation coeff is changed after Hchange\n",
    "            if 'erosion_sigma_change' in const_json:\n",
    "                if const_json['erosion_sigma_change'] != const_json['sigma']:\n",
    "                    self.erosion_different_sigma = True\n",
    "        else:\n",
    "            raise('no json file!')\n",
    "\n",
    "        ### Calculate atmosphere density coeffs (down to the bottom observed height, limit to 15 km) ###\n",
    "\n",
    "        # Determine the height range for fitting the density\n",
    "        self.dens_fit_ht_beg = self.const.h_init\n",
    "        self.dens_fit_ht_end = self.traj.rend_ele - 5000\n",
    "        if self.dens_fit_ht_end < 14000:\n",
    "            self.dens_fit_ht_end = 14000\n",
    "\n",
    "        # Fit the polynomail describing the density\n",
    "        dens_co = gui.MetSimGUI.fitAtmosphereDensity(self, self.dens_fit_ht_beg, self.dens_fit_ht_end)\n",
    "        self.const.dens_co = dens_co\n",
    "\n",
    "        # get global parameters from json file, everything other than params marked \"free\" are fixed\n",
    "        dt = const_json.get('dt')\n",
    "        P_0m = const_json.get('P_0m')\n",
    "        h_init = const_json.get('h_init')\n",
    "        m_kill = const_json.get('m_kill')\n",
    "        v_kill = const_json.get('v_kill')\n",
    "        h_kill = const_json.get('h_kill')\n",
    "        len_kill = const_json.get('len_kill') \n",
    "        rho = const_json.get('rho')  # free\n",
    "        rho_grain = const_json.get('rho_grain')  # free\n",
    "        m_init = const_json.get('m_init')  # free\n",
    "        sigma = const_json.get('sigma')  # free\n",
    "        v_init = const_json.get('v_init')\n",
    "        shape_factor = const_json.get('shape_factor')\n",
    "        gamma = const_json.get('gamma')\n",
    "        zenith_angle = const_json.get('zenith_angle')\n",
    "        lum_eff = const_json.get('lum_eff')\n",
    "        lum_eff_type = const_json.get('lum_eff_type')\n",
    "        erosion_height_start = const_json.get('erosion_height_start')\n",
    "        erosion_bins_per_10mass = const_json.get('erosion_bins_per_10mass')\n",
    "        erosion_coeff = const_json.get('erosion_coeff')\n",
    "        erosion_height_change = const_json.get('erosion_height_change')\n",
    "        erosion_coeff_change = const_json.get('erosion_coeff_change')\n",
    "        erosion_mass_index = const_json.get('erosion_mass_index')\n",
    "        erosion_mass_min = const_json.get('erosion_mass_min')\n",
    "        erosion_mass_max = const_json.get('erosion_mass_max')\n",
    "        erosion_rho_change = const_json.get('rho')\n",
    "        erosion_sigma_change = const_json.get('sigma')\n",
    "        compressive_strength = const_json.get('compressive_strength')\n",
    "        disruption_erosion_coeff = const_json.get('erosion_coeff')\n",
    "        disruption_mass_grain_ratio = const_json.get('disruption_mass_grain_ratio')\n",
    "        disruption_mass_index = const_json.get('disruption_mass_index')\n",
    "        disruption_mass_min_ratio = const_json.get('disruption_mass_min_ratio')\n",
    "        disruption_mass_max_ratio = const_json.get('disruption_mass_max_ratio')\n",
    "\n",
    "        # get fragmentation parameters from json file\n",
    "        # type, height, number, gamma, mass index are fixed, \n",
    "        # mass, ablation coefficient, erosion coefficient, grain min, grain max are not fixed\n",
    "        num_frags = len(const_json.get('fragmentation_entries'))\n",
    "        # fixed\n",
    "        frag_types = []\n",
    "        frag_heights = []\n",
    "        frag_numbers = []\n",
    "        frag_ab_coeffs = []\n",
    "        frag_gammas = []\n",
    "        frag_mis = []\n",
    "        # free\n",
    "        frag_masses = []\n",
    "        frag_er_coeffs = []\n",
    "        frag_grain_mins = []\n",
    "        frag_grain_maxs = []\n",
    "\n",
    "        for i, frag in enumerate(const_json.get('fragmentation_entries')):\n",
    "            ### If sigma, gamma and erosiion coefficient are none, convert to whatever the default value is \n",
    "            # fixed\n",
    "            frag_types.append(frag['frag_type'])\n",
    "            frag_heights.append(frag['height'])\n",
    "            frag_numbers.append(frag['number'])\n",
    "            if frag['gamma'] == None:\n",
    "                frag_gammas.append(gamma)\n",
    "            else:\n",
    "                frag_gammas.append(frag['gamma'])\n",
    "            frag_mis.append(frag['mass_index'])\n",
    "            if frag['sigma'] == None: \n",
    "                frag_ab_coeffs.append(sigma) \n",
    "            else:\n",
    "                frag_ab_coeffs.append(frag['sigma'])\n",
    "            # free\n",
    "            frag_masses.append(frag['mass_percent'])\n",
    "            if frag['erosion_coeff'] == None:\n",
    "                frag_er_coeffs.append(0.)  # erosion coefficient of zero\n",
    "            else:\n",
    "                frag_er_coeffs.append(frag['erosion_coeff'])\n",
    "            frag_grain_mins.append(frag['grain_mass_min'])\n",
    "            frag_grain_maxs.append(frag['grain_mass_max'])\n",
    "            \n",
    "        # set free and fixed params\n",
    "        #### CHANGE THESE LINES TO TEST DIFFERENT COMBINATIONS OF FREE PARAMETERS\n",
    "        self.fixed_frag_indices = fixed_frag_indices\n",
    "        self.free_frag_indices = free_frag_indices\n",
    "        # set up masks for free and fixed indices\n",
    "        free_frag_mask = np.zeros(num_frags, bool)\n",
    "        free_frag_mask[free_frag_indices] = True  # only free frags\n",
    "        fixed_frag_mask = np.ones(num_frags, bool)\n",
    "        fixed_frag_mask[free_frag_indices] = False  # everything EXCEPT free frags (i.e. fixed frags)\n",
    "        # assign free fixed parameters to object\n",
    "        self.free_params = [m_init, \n",
    "                            list(np.array(frag_masses)[free_frag_mask]), \n",
    "                            list(np.array(frag_er_coeffs)[free_frag_mask]), \n",
    "                            list(np.array(frag_grain_mins)[free_frag_mask]), \n",
    "                            list(np.array(frag_grain_maxs)[free_frag_mask])\n",
    "                           ]\n",
    "        self.fixed_params = [dt, P_0m, h_init, m_kill, v_kill, h_kill, len_kill, rho, rho_grain, sigma, \n",
    "                             v_init, shape_factor, \n",
    "                            gamma, zenith_angle, lum_eff, lum_eff_type, erosion_height_start, \n",
    "                            erosion_bins_per_10mass, erosion_coeff, erosion_height_change, \n",
    "                            erosion_coeff_change, erosion_mass_index, erosion_mass_min, erosion_mass_max, \n",
    "                            erosion_rho_change, erosion_sigma_change, compressive_strength, \n",
    "                            disruption_erosion_coeff, disruption_mass_grain_ratio, disruption_mass_index, \n",
    "                            disruption_mass_min_ratio, disruption_mass_max_ratio, \n",
    "                            frag_types, frag_heights, frag_numbers, \n",
    "                            frag_ab_coeffs, frag_gammas, frag_mis,\n",
    "                            list(np.array(frag_masses)[fixed_frag_indices]), \n",
    "                            list(np.array(frag_er_coeffs)[fixed_frag_indices]), \n",
    "                            list(np.array(frag_grain_mins)[fixed_frag_indices]), \n",
    "                            list(np.array(frag_grain_maxs)[fixed_frag_indices])\n",
    "                            ]\n",
    "        \n",
    "        # load all the global parameters into the object\n",
    "        consts = dt, P_0m, h_init, m_kill, v_kill, h_kill, len_kill, rho, rho_grain, m_init, sigma, v_init, shape_factor, gamma, zenith_angle, lum_eff, lum_eff_type, erosion_height_start, erosion_bins_per_10mass, erosion_coeff, erosion_height_change, erosion_coeff_change, erosion_mass_index, erosion_mass_min, erosion_mass_max, erosion_rho_change, erosion_sigma_change, compressive_strength, disruption_erosion_coeff, disruption_mass_grain_ratio, disruption_mass_index, disruption_mass_min_ratio, disruption_mass_max_ratio\n",
    "        self.loadGlobalParameters(consts)\n",
    "\n",
    "        # get all parameters\n",
    "        self.all_params = (self.free_params, self.fixed_params)\n",
    "        \n",
    "        # self.initializeSimulation(all_params)\n",
    "        # self.initializeSimulation(const_json)\n",
    "    \n",
    "    def loadGlobalParameters(self, consts):\n",
    "            \"\"\"\n",
    "            Loads the global parameters (constants) into the object\n",
    "            \"\"\"\n",
    "            dt, P_0m, h_init, m_kill, v_kill, h_kill, len_kill, rho, rho_grain, m_init, sigma, v_init, shape_factor, gamma, zenith_angle, lum_eff, lum_eff_type, erosion_height_start, erosion_bins_per_10mass, erosion_coeff, erosion_height_change, erosion_coeff_change, erosion_mass_index, erosion_mass_min, erosion_mass_max, erosion_rho_change, erosion_sigma_change, compressive_strength, disruption_erosion_coeff, disruption_mass_grain_ratio, disruption_mass_index, disruption_mass_min_ratio, disruption_mass_max_ratio = consts\n",
    "            # load all the non-fragmentation parameters into the object\n",
    "            # 33 parameters\n",
    "            self.const.dt = dt\n",
    "            self.const.P_0m = P_0m\n",
    "            self.const.h_init = h_init\n",
    "            self.const.m_kill = m_kill\n",
    "            self.const.v_kill = v_kill\n",
    "            self.const.h_kill = h_kill\n",
    "            self.const.len_kill = len_kill\n",
    "            self.const.rho = rho\n",
    "            self.const.rho_grain = rho_grain\n",
    "            self.const.m_init = m_init\n",
    "            self.const.sigma = sigma\n",
    "            self.const.v_init = v_init\n",
    "            self.const.shape_factor = shape_factor\n",
    "            self.const.gamma = gamma\n",
    "            self.const.zenith_angle = zenith_angle\n",
    "            self.const.lum_eff = lum_eff\n",
    "            self.const.lum_eff_type = lum_eff_type\n",
    "            self.const.erosion_height_start = erosion_height_start\n",
    "            self.const.erosion_bins_per_10mass = erosion_bins_per_10mass\n",
    "            self.const.erosion_coeff = erosion_coeff\n",
    "            self.const.erosion_height_change = erosion_height_change\n",
    "            self.const.erosion_coeff_change = erosion_coeff_change\n",
    "            self.const.erosion_mass_index = erosion_mass_index\n",
    "            self.const.erosion_mass_min = erosion_mass_min\n",
    "            self.const.erosion_mass_max = erosion_mass_max\n",
    "            self.const.erosion_rho_change = erosion_rho_change\n",
    "            self.const.erosion_sigma_change = erosion_sigma_change\n",
    "            self.const.compressive_strength = compressive_strength\n",
    "            self.const.disruption_erosion_coeff = disruption_erosion_coeff\n",
    "            self.const.disruption_mass_grain_ratio = disruption_mass_grain_ratio\n",
    "            self.const.disruption_mass_index = disruption_mass_index\n",
    "            self.const.disruption_mass_min_ratio = disruption_mass_min_ratio\n",
    "            self.const.disruption_mass_max_ratio = disruption_mass_max_ratio\n",
    "\n",
    "    def initializeSimulation(self, all_params):\n",
    "            \"\"\" Run the simulation and show the results. \"\"\"\n",
    "            # If the fragmentation is turned on and no fragmentation data is given, notify the user\n",
    "            # if self.const.fragmentation_on and (self.fragmentation is None):\n",
    "            #     frag_error_message = QMessageBox(QMessageBox.Critical, \"Fragmentation file error\", \\\n",
    "            #         \"Fragmentation is enabled but no fragmentation file is set.\")\n",
    "            #     frag_error_message.setInformativeText(\"Either load an existing fragmentation file or create a new one.\")\n",
    "            #     frag_error_message.exec_()\n",
    "            #     return None   \n",
    "\n",
    "            # unpack all params\n",
    "            free_params, fixed_params = all_params\n",
    "            # unpack again\n",
    "            #### CHANGE THESE NEXT TWO LINES TO TEST DIFFERENT COMBINATIONS OF FREE PARAMETERS\n",
    "            m_init, frag_masses_free, frag_er_coeffs_free, frag_grain_mins_free, frag_grain_maxs_free = free_params \n",
    "            dt, P_0m, h_init, m_kill, v_kill, h_kill, len_kill, rho, rho_grain, sigma, v_init, shape_factor, gamma, zenith_angle, lum_eff, lum_eff_type, erosion_height_start, erosion_bins_per_10mass, erosion_coeff, erosion_height_change, erosion_coeff_change, erosion_mass_index, erosion_mass_min, erosion_mass_max, erosion_rho_change, erosion_sigma_change, compressive_strength, disruption_erosion_coeff, disruption_mass_grain_ratio, disruption_mass_index, disruption_mass_min_ratio, disruption_mass_max_ratio, frag_types, frag_heights, frag_numbers, frag_ab_coeffs, frag_gammas, frag_mis, frag_masses_fixed, frag_er_coeffs_fixed, frag_grain_mins_fixed, frag_grain_maxs_fixed = fixed_params\n",
    "            # load all the global parameters into the object\n",
    "            consts = dt, P_0m, h_init, m_kill, v_kill, h_kill, len_kill, rho, rho_grain, m_init, sigma, v_init, shape_factor, gamma, zenith_angle, lum_eff, lum_eff_type, erosion_height_start, erosion_bins_per_10mass, erosion_coeff, erosion_height_change, erosion_coeff_change, erosion_mass_index, erosion_mass_min, erosion_mass_max, erosion_rho_change, erosion_sigma_change, compressive_strength, disruption_erosion_coeff, disruption_mass_grain_ratio, disruption_mass_index, disruption_mass_min_ratio, disruption_mass_max_ratio\n",
    "            self.loadGlobalParameters(consts)\n",
    "            # combine free fixed fragmentation parameters\n",
    "            frag_order = self.fixed_frag_indices + self.free_frag_indices\n",
    "            frag_masses = np.concatenate((frag_masses_fixed, frag_masses_free))[frag_order]\n",
    "            frag_er_coeffs = np.concatenate((frag_er_coeffs_fixed, frag_er_coeffs_free))[frag_order]\n",
    "            frag_grain_mins = np.concatenate((frag_grain_mins_fixed, frag_grain_mins_free))[frag_order]\n",
    "            frag_grain_maxs = np.concatenate((frag_grain_maxs_fixed, frag_grain_maxs_free))[frag_order]\n",
    "            \n",
    "            # Load fragmentation entries\n",
    "            self.fragmentation_entries = []\n",
    "            for i in range(0, len(frag_masses)):  # pick any frag entry to iterate over\n",
    "                frag_entry = gui.FragmentationEntry(frag_types[i], frag_heights[i], frag_numbers[i], frag_masses[i], \n",
    "                                                    frag_ab_coeffs[i], frag_gammas[i], frag_er_coeffs[i], frag_grain_mins[i], frag_grain_maxs[i], frag_mis[i])\n",
    "                self.fragmentation_entries.append(frag_entry)\n",
    "            # set the fragmentation entries to constants\n",
    "            self.const.fragmentation_entries = self.fragmentation_entries\n",
    "    \n",
    "            # Sort entries by height\n",
    "            self.fragmentation.sortByHeight()\n",
    "\n",
    "            # Reset the status of all fragmentations\n",
    "            self.fragmentation.resetAll()\n",
    "        \n",
    "            # fragmentation\n",
    "            self.const.fragmentation_on = True\n",
    "\n",
    "            # print(self.const.fragmentation_on)\n",
    "    \n",
    "            # Run the simulation\n",
    "            frag_main, results_list, wake_results = erosion.runSimulation(self.const, compute_wake=self.wake_on)\n",
    "            # print(results_list)\n",
    "\n",
    "            # Store simulation results\n",
    "            self.simulation_results = gui.SimulationResults(self.const, frag_main, results_list, wake_results)\n"
   ]
  },
  {
   "cell_type": "markdown",
   "id": "7e464e84-5ada-4cab-bb54-41d6de7d00f3",
   "metadata": {},
   "source": [
    "Test with 1999 event:"
   ]
  },
  {
   "cell_type": "code",
   "execution_count": 5,
   "id": "f0419014-bad4-4c19-88ef-fba92567369f",
   "metadata": {},
   "outputs": [],
   "source": [
    "# metsim_obj_old = MetSimObj_old(traj_path='../usg_metsim_files/1999-01-14/usg_input_jan_1999.txt', \n",
    "#                        const_json_file='../usg_metsim_files/1999-01-14/usg_input_jan_1999_sim_fit_latest.json')"
   ]
  },
  {
   "cell_type": "code",
   "execution_count": 6,
   "id": "bf0e98e1-3262-489a-b8a5-002e7595cb1b",
   "metadata": {},
   "outputs": [
    {
     "name": "stderr",
     "output_type": "stream",
     "text": [
      "/home/chowi/Thesis/physical/../../source/WesternMeteorPyLib/wmpl/MetSim/GUI.py:1559: RuntimeWarning: invalid value encountered in log10\n",
      "  data.absolute_magnitudes = -2.5*np.log10(data.usg_intensity_data[:, 1]/248)\n"
     ]
    }
   ],
   "source": [
    "FIXED_FRAG_INDICES = [0, 1, 2, 3, 4, 5, 6, 8]\n",
    "FREE_FRAG_INDICES = [7]  # fragments with free parameters\n",
    "\n",
    "metsim_obj = MetSimObj(traj_path='../usg_metsim_files/1994-02-01/usg_input_feb_1994.txt', \n",
    "                       const_json_file='../usg_metsim_files/1994-02-01/usg_input_feb_1994_sim_fit_latest.json',\n",
    "                       fixed_frag_indices = FIXED_FRAG_INDICES,\n",
    "                       free_frag_indices = FREE_FRAG_INDICES\n",
    "                      )"
   ]
  },
  {
   "cell_type": "code",
   "execution_count": 7,
   "id": "938f4644-2e97-4845-81f9-627053a86bfa",
   "metadata": {},
   "outputs": [
    {
     "name": "stderr",
     "output_type": "stream",
     "text": [
      "/home/chowi/Thesis/physical/../../source/WesternMeteorPyLib/wmpl/MetSim/GUI.py:95: RuntimeWarning: divide by zero encountered in log10\n",
      "  self.abs_magnitude_main = -2.5*np.log10(self.luminosity_main_arr/self.const.P_0m)\n",
      "/home/chowi/Thesis/physical/../../source/WesternMeteorPyLib/wmpl/MetSim/GUI.py:99: RuntimeWarning: divide by zero encountered in log10\n",
      "  self.abs_magnitude_eroded = -2.5*np.log10(self.luminosity_eroded_arr/self.const.P_0m)\n"
     ]
    }
   ],
   "source": [
    "metsim_obj.initializeSimulation(metsim_obj.all_params)"
   ]
  },
  {
   "cell_type": "code",
   "execution_count": 8,
   "id": "4ace06e0-1f43-4e19-8ad4-522d6b099bdc",
   "metadata": {},
   "outputs": [
    {
     "data": {
      "text/plain": [
       "(10.0, 80.0)"
      ]
     },
     "execution_count": 8,
     "metadata": {},
     "output_type": "execute_result"
    },
    {
     "data": {
      "image/png": "[encoded data removed]",
      "text/plain": [
       "<Figure size 1200x800 with 1 Axes>"
      ]
     },
     "metadata": {},
     "output_type": "display_data"
    }
   ],
   "source": [
    "plt.figure(figsize = (12, 8))\n",
    "plt.plot(3030 * (10 ** (metsim_obj.usg_data.absolute_magnitudes/(-2.5))), metsim_obj.traj.observations[0].model_ht/1000., label = 'observed')\n",
    "plt.plot(metsim_obj.simulation_results.luminosity_arr, metsim_obj.simulation_results.leading_frag_height_arr/1000., label = 'simulated')\n",
    "plt.legend()\n",
    "plt.ylim(10., 80.)"
   ]
  },
  {
   "cell_type": "code",
   "execution_count": 9,
   "id": "b4ec2950-bcb9-4f46-aa46-c263479194e2",
   "metadata": {},
   "outputs": [],
   "source": [
    "# plt.figure(figsize = (12, 8))\n",
    "# plt.plot(metsim_obj_old.usg_data.time_data + 11.9, metsim_obj_old.usg_data.absolute_magnitudes, label = 'observed')\n",
    "# plt.plot(metsim_obj_old.simulation_results.time_arr, metsim_obj_old.simulation_results.abs_magnitude, label = 'simulated')\n",
    "# plt.legend()"
   ]
  },
  {
   "cell_type": "code",
   "execution_count": 10,
   "id": "27d01c8f-5768-4078-bc8a-2894d02f7543",
   "metadata": {},
   "outputs": [],
   "source": [
    "# plt.figure(figsize = (12, 8))\n",
    "# plt.plot(metsim_obj_old.usg_data.time_data + 11.9, 3030 * (10 ** (metsim_obj_old.usg_data.absolute_magnitudes/(-2.5))), label = 'observed')\n",
    "# plt.plot(metsim_obj_old.simulation_results.time_arr, metsim_obj_old.simulation_results.luminosity_arr, label = 'simulated')\n",
    "# plt.legend()\n",
    "# plt.plot()"
   ]
  },
  {
   "cell_type": "code",
   "execution_count": 11,
   "id": "db086e6a-7fae-45a5-93f1-0ff12951cc33",
   "metadata": {},
   "outputs": [
    {
     "data": {
      "text/plain": [
       "(16731252519886.074, 18190275205937.734)"
      ]
     },
     "execution_count": 11,
     "metadata": {},
     "output_type": "execute_result"
    }
   ],
   "source": [
    "# check observed - simulated integrated intensity\n",
    "\n",
    "obs_integrated_intensity = np.nansum(np.diff(metsim_obj.usg_data.time_data) * 3030 * (10 ** (metsim_obj.usg_data.absolute_magnitudes/(-2.5)))[1:])\n",
    "sim_integrated_intensity = np.nansum(np.diff(metsim_obj.simulation_results.time_arr) * metsim_obj.simulation_results.luminosity_arr[1:])\n",
    "\n",
    "obs_integrated_intensity, sim_integrated_intensity"
   ]
  },
  {
   "cell_type": "code",
   "execution_count": 12,
   "id": "2bdefafc-1088-472e-8e04-9cbce3cea734",
   "metadata": {},
   "outputs": [
    {
     "data": {
      "text/plain": [
       "-1459022686051.6602"
      ]
     },
     "execution_count": 12,
     "metadata": {},
     "output_type": "execute_result"
    }
   ],
   "source": [
    "obs_integrated_intensity - sim_integrated_intensity"
   ]
  },
  {
   "cell_type": "markdown",
   "id": "62355110-10f1-40ae-be7f-1f3888ec3576",
   "metadata": {},
   "source": [
    "### Optimization:"
   ]
  },
  {
   "cell_type": "markdown",
   "id": "912dc6c4-08dd-404a-a083-64212d69a1ed",
   "metadata": {},
   "source": [
    "Note that sometimes MetSim returns a simulated LC in which the height of the leading fragment increases after the end of the LC"
   ]
  },
  {
   "cell_type": "code",
   "execution_count": 13,
   "id": "e33ed660-4811-4466-bfee-5b1a65b93fa3",
   "metadata": {},
   "outputs": [],
   "source": [
    "# helper nested function to flatten a list\n",
    "\n",
    "def flatten_list(nested_list):\n",
    "    def flatten(lst):\n",
    "        for item in lst:\n",
    "            if isinstance(item, list):\n",
    "                flatten(item)\n",
    "            else:\n",
    "                flat_list.append(item)\n",
    "\n",
    "    flat_list = []\n",
    "    flatten(nested_list)\n",
    "    return flat_list\n",
    "\n",
    "# helper function to unflatten the list\n",
    "#### CHANGE THE NUMBER OF GLOBAL/FRAGMENT PARAMETERS TO TEST DIFFERENT COMBINATIONS\n",
    "def unflatten_list(lst, num_global_params=1, num_frag_params=4):\n",
    "    \"\"\"\n",
    "    change number of global parameters and frag parameters based on the structure of the free parameters object\n",
    "    passed into the get_lc_cost_function() function\n",
    "    \"\"\"\n",
    "    # print(lst[:num_global_params], list(zip(*[iter(lst[num_global_params:])]*(len(lst[num_global_params:])//num_frag_params))))\n",
    "    num_frag_params = max(1, num_frag_params)\n",
    "    return list(lst[:num_global_params]) + list(zip(*[iter(lst[num_global_params:])]*(len(lst[num_global_params:])//num_frag_params)))\n",
    "\n",
    "\n",
    "### define residuals for the optimization routine\n",
    "# TODO: make sure the two are the same size\n",
    "\n",
    "\n",
    "# def get_lc_residuals(free_params_flattened, metsim_obj):\n",
    "#     \"\"\"\n",
    "#     Gets the residuals for the integrated intensity given a flattened list of free parameters and a metsim object\n",
    "\n",
    "#     Flattened list of free parameters has the form\n",
    "#     free_params = [rho, rho_grain, m_init, sigma, *frag_masses, *frag_ab_coeffs, *frag_er_coeffs, *frag_grain_mins, *frag_grain_maxs]\n",
    "\n",
    "#     Global parameters:\n",
    "#     rho: float\n",
    "#     rho_grain: float\n",
    "#     m_init: float\n",
    "#     sigma: float\n",
    "\n",
    "#     Fragment parameters (for n total fragments):\n",
    "#     *frag_masses: n fragment masses\n",
    "#     *frag_ab_coeffs: n ablation coefficients\n",
    "#     *frag_er_coeffs: n erosion coefficients\n",
    "#     *frag_grain_mins: n grain mins\n",
    "#     *frag_grain_maxs: n grain maxs\n",
    "#     \"\"\"\n",
    "#     # observed integrated intensity, this doesn't change\n",
    "#     obs_integrated_intensity = np.nansum(np.diff(metsim_obj.usg_data.time_data) * \n",
    "#                                          3030 * (10 ** (metsim_obj.usg_data.absolute_magnitudes/(-2.5)))[1:])\n",
    "#     # compute the simulated integrated intensity for the given set of free parameters\n",
    "#     # unflatten the list of free parameters to pass into the initializeSimulation() function\n",
    "#     free_params = unflatten_list(free_params_flattened)\n",
    "#     # construct all params to pass into intiializeSimulation function\n",
    "#     all_params = (free_params, metsim_obj.fixed_params)  # set of all params to use\n",
    "#     # run simulation\n",
    "#     metsim_obj.initializeSimulation(all_params)\n",
    "    \n",
    "#     # get simulated integrated intensity\n",
    "#     sim_integrated_intensity = np.nansum(np.diff(metsim_obj.simulation_results.time_arr) * \n",
    "#                                          metsim_obj.simulation_results.luminosity_arr[1:])\n",
    "#     # return the difference between the two\n",
    "#     return (obs_integrated_intensity - sim_integrated_intensity)\n",
    "\n",
    "### get the simulated light curve for a given set of free parameters and metsim object\n",
    "\n",
    "def sim_lc(flattened_free_params, metsim_obj):\n",
    "    \"\"\"\n",
    "    Same format as function below\n",
    "    \"\"\"\n",
    "    # compute the simulated integrated intensity for the given set of free parameters\n",
    "    # unflatten the list of free parameters to pass into the initializeSimulation() function\n",
    "    free_params = unflatten_list(flattened_free_params)\n",
    "    # construct all params to pass into intiializeSimulation function\n",
    "    # print(free_params)\n",
    "    all_params = (free_params, metsim_obj.fixed_params)  # set of all params to use\n",
    "    # run simulation on the object, copying it\n",
    "    # obj_copy = copy.copy(metsim_obj)\n",
    "    # obj_copy.initializeSimulation(all_params)\n",
    "    metsim_obj.initializeSimulation(all_params)\n",
    "    # return the simulation results\n",
    "    # return obj_copy.simulation_results\n",
    "    return metsim_obj.simulation_results\n",
    "\n",
    "\n",
    "### define cost function for the opitmization routine\n",
    "\n",
    "def get_lc_cost_function(flattened_free_params, metsim_obj):\n",
    "    \"\"\"\n",
    "    Gets the residuals for the integrated intensity given\n",
    "    a metsim object and a list/tuple of an initial guess of free parameters\n",
    "    \n",
    "    metsim_obj is an MetSim() object\n",
    "    \n",
    "    flattened_free_params is an initial guess flattened list of free parameters with the form\n",
    "    flattened_free_params = [rho, rho_grain, m_init, sigma, *frag_masses, \n",
    "    *frag_ab_coeffs, *frag_er_coeffs, *frag_grain_mins, *frag_grain_maxs]\n",
    "\n",
    "    Global parameters:\n",
    "    rho: float\n",
    "    rho_grain: float\n",
    "    m_init: float\n",
    "    sigma: float\n",
    "\n",
    "    Fragment parameters (for n total fragments):\n",
    "    *frag_masses: n fragment masses\n",
    "    *frag_ab_coeffs: n ablation coefficients\n",
    "    *frag_er_coeffs: n - nd erosion coefficients where nd is the number of dust fragments\n",
    "    (as dust fragments do not have a nassociated erosion coefficient)\n",
    "    *frag_grain_mins: n grain mins\n",
    "    *frag_grain_maxs: n grain maxs\n",
    "    \"\"\"\n",
    "    # observed LC intensity, this doesn't change\n",
    "    obs_lc_intensity = 3030 * (10 ** (metsim_obj.usg_data.absolute_magnitudes/(-2.5)))\n",
    "\n",
    "    # get simulated LC intensity onthe object\n",
    "    simulation_results = sim_lc(flattened_free_params, metsim_obj)\n",
    "    # compute simulated LC intensity\n",
    "    # find where height starts increasing if it does at any point\n",
    "    # print(np.diff(simulation_results.leading_frag_height_arr))\n",
    "    if np.sum(np.diff(simulation_results.leading_frag_height_arr) > 0) > 0:\n",
    "        first_increasing_height_arr = np.where(np.diff(simulation_results.leading_frag_height_arr) > 0)[0][0] - 1\n",
    "        print('increasing height')\n",
    "    else:\n",
    "        first_increasing_height_arr = -1\n",
    "    # interpolate to make sure they are the same length and discard points after height starts increasing if it does at any point\n",
    "    simulated_lc_intensity = np.interp(metsim_obj.traj.observations[0].model_ht, \n",
    "                                       np.flip(simulation_results.leading_frag_height_arr[:first_increasing_height_arr]), \n",
    "                                       np.flip(simulation_results.luminosity_arr[:first_increasing_height_arr]))\n",
    "    # return the negative log-likelihood (negative residual sum of square difference between the two)\n",
    "    # assuming there is no error for the observed LC data\n",
    "    log_likelihood = (-1/2 * np.nansum((obs_lc_intensity - simulated_lc_intensity) ** 2))/1e24  # scale this\n",
    "    print(f'negative logL: {-log_likelihood}')\n",
    "    # negative log lieklihood\n",
    "    return -log_likelihood"
   ]
  },
  {
   "cell_type": "markdown",
   "id": "89868ec0-f438-46a1-877a-fe388fe3e85c",
   "metadata": {},
   "source": [
    "Also need to make sure that the loss function to minimize (currently computed as the **negative** log-likelihood equivalent to negative RSS/$\\chi^2$) is correct, since if there are errors then these need to be accounted for in the computation of the loss function\n",
    "\n",
    "Also probably want to make `sim_lc` returns the interpolated LC:"
   ]
  },
  {
   "cell_type": "markdown",
   "id": "72731301-b213-4ab4-a9c8-26e6d90a003b",
   "metadata": {},
   "source": [
    "Test to make sure changing the parameters affects the logL and the LCs:"
   ]
  },
  {
   "cell_type": "code",
   "execution_count": 14,
   "id": "cdd4a37a-ffd6-4e03-a883-15a3450e203d",
   "metadata": {},
   "outputs": [],
   "source": [
    "### USE FOLLOWING LINE TO SAVE NEW SET OF TEST PARAMETERS WHEN TESTING DIFFERENT COMBINATIONS OF PARAMETERS\n",
    "np.save('initial_guess_1994_TEST.npy', np.array(flatten_list(metsim_obj.free_params)))"
   ]
  },
  {
   "cell_type": "code",
   "execution_count": 15,
   "id": "04c43c1e-24d5-40ec-8bbb-e767b830e27c",
   "metadata": {},
   "outputs": [
    {
     "name": "stdout",
     "output_type": "stream",
     "text": [
      "negative logL: 166.08079157154498\n"
     ]
    },
    {
     "data": {
      "text/plain": [
       "166.08079157154498"
      ]
     },
     "execution_count": 15,
     "metadata": {},
     "output_type": "execute_result"
    }
   ],
   "source": [
    "initial_guess = np.load('initial_guess_1994_TEST.npy')  # initial pre-saved guess\n",
    "# initial_guess\n",
    "\n",
    "lamb_func = lambda free_params_flattened: get_lc_cost_function(free_params_flattened, metsim_obj=metsim_obj)\n",
    "lamb_func(initial_guess)"
   ]
  },
  {
   "cell_type": "code",
   "execution_count": 16,
   "id": "c6ad4661-2de7-48bc-90f0-b3cda7787719",
   "metadata": {},
   "outputs": [],
   "source": [
    "#### USE THIS TO TEST DIFFERENT COMBINATIONS OF TEST PARAMETERS\n",
    "\n",
    "initial_guess_mod = initial_guess.copy()\n",
    "# fiddle with global mass\n",
    "initial_guess_mod[0] = initial_guess[0] + 0.\n",
    "# fiddle with frag masses\n",
    "initial_guess_mod = initial_guess + [0., # total mass\n",
    "                                     10.,  # frag mass pcts\n",
    "                                     0., # erosion coeffs\n",
    "                                     0., # grain mins\n",
    "                                     0.  # grain maxs\n",
    "                                    ] "
   ]
  },
  {
   "cell_type": "code",
   "execution_count": 17,
   "id": "65dd59af-3098-4463-bf1d-4606eb5b9782",
   "metadata": {},
   "outputs": [
    {
     "name": "stdout",
     "output_type": "stream",
     "text": [
      "negative logL: 261.2332923591171\n"
     ]
    },
    {
     "data": {
      "text/plain": [
       "261.2332923591171"
      ]
     },
     "execution_count": 17,
     "metadata": {},
     "output_type": "execute_result"
    }
   ],
   "source": [
    "lamb_func(initial_guess_mod)"
   ]
  },
  {
   "cell_type": "code",
   "execution_count": 18,
   "id": "0a2b6056-b3b2-4f68-9575-96c3dc07e31c",
   "metadata": {},
   "outputs": [],
   "source": [
    "results_initial = sim_lc(initial_guess, metsim_obj)\n",
    "results_initial_mod = sim_lc(initial_guess_mod, metsim_obj)"
   ]
  },
  {
   "cell_type": "code",
   "execution_count": 19,
   "id": "1a2ad309-e1b0-4f7c-94da-3a5bfe29b49a",
   "metadata": {},
   "outputs": [
    {
     "data": {
      "text/plain": [
       "<matplotlib.legend.Legend at 0x7f33652392e0>"
      ]
     },
     "execution_count": 19,
     "metadata": {},
     "output_type": "execute_result"
    },
    {
     "data": {
      "image/png": "[encoded data removed]",
      "text/plain": [
       "<Figure size 1200x800 with 1 Axes>"
      ]
     },
     "metadata": {},
     "output_type": "display_data"
    }
   ],
   "source": [
    "plt.figure(figsize = (12, 8))\n",
    "plt.plot(results_initial.luminosity_arr, results_initial.leading_frag_height_arr/1000., label = 'leading simulated')\n",
    "plt.plot(results_initial_mod.luminosity_arr, results_initial_mod.leading_frag_height_arr/1000., label = 'leading simulated mod')\n",
    "plt.ylim(10., 80.)\n",
    "plt.legend()"
   ]
  },
  {
   "cell_type": "markdown",
   "id": "057fa4a0-49f2-46ab-abfe-78a84936b058",
   "metadata": {},
   "source": [
    "Compute observed LC and simulated initial guess:"
   ]
  },
  {
   "cell_type": "code",
   "execution_count": 20,
   "id": "4695d136-8e69-48cb-9d7c-3b6c360c5b19",
   "metadata": {},
   "outputs": [],
   "source": [
    "# observed LC intensity\n",
    "obs_lc_intensity = 3030 * (10 ** (metsim_obj.usg_data.absolute_magnitudes/(-2.5)))\n",
    "# simulated LC intensities\n",
    "# initial\n",
    "results_initial = sim_lc(initial_guess, metsim_obj)"
   ]
  },
  {
   "cell_type": "markdown",
   "id": "cfe3cce5-230f-4540-93d0-412c953d50d4",
   "metadata": {},
   "source": [
    "Plot simulated initial guess versus observed magnitudes and intensities:"
   ]
  },
  {
   "cell_type": "code",
   "execution_count": 21,
   "id": "9313bf8b-3013-4db5-83b5-a4ca0315ba04",
   "metadata": {},
   "outputs": [
    {
     "data": {
      "text/plain": [
       "<matplotlib.legend.Legend at 0x7f339b9fc6a0>"
      ]
     },
     "execution_count": 21,
     "metadata": {},
     "output_type": "execute_result"
    },
    {
     "data": {
      "image/png": "[encoded data removed]",
      "text/plain": [
       "<Figure size 1200x800 with 1 Axes>"
      ]
     },
     "metadata": {},
     "output_type": "display_data"
    }
   ],
   "source": [
    "plt.figure(figsize = (12, 8))\n",
    "plt.plot(results_initial.abs_magnitude, results_initial.leading_frag_height_arr/1000., label = 'leading simulated')\n",
    "plt.plot(metsim_obj.usg_data.absolute_magnitudes, metsim_obj.traj.observations[0].model_ht/1000., label = 'observed')\n",
    "plt.ylim(10., 80.)\n",
    "plt.legend()"
   ]
  },
  {
   "cell_type": "code",
   "execution_count": 22,
   "id": "61ed54fc-059f-4440-9ddb-46879940c677",
   "metadata": {},
   "outputs": [
    {
     "data": {
      "text/plain": [
       "<matplotlib.legend.Legend at 0x7f33e804c8e0>"
      ]
     },
     "execution_count": 22,
     "metadata": {},
     "output_type": "execute_result"
    },
    {
     "data": {
      "image/png": "[encoded data removed]",
      "text/plain": [
       "<Figure size 1200x800 with 1 Axes>"
      ]
     },
     "metadata": {},
     "output_type": "display_data"
    }
   ],
   "source": [
    "plt.figure(figsize = (12, 8))\n",
    "# plt.plot(results_initial.luminosity_arr, results_initial.main_height_arr/1000., label = 'main')\n",
    "# plt.plot(results_initial.luminosity_arr, results_initial.brightest_height_arr/1000., label = 'brightest')\n",
    "plt.plot(results_initial.luminosity_arr, results_initial.leading_frag_height_arr/1000., label = 'leading simulated')\n",
    "plt.plot(obs_lc_intensity, metsim_obj.traj.observations[0].model_ht/1000., label = 'observed')\n",
    "plt.ylim(10., 80.)\n",
    "plt.legend()"
   ]
  },
  {
   "cell_type": "markdown",
   "id": "f2c59f91-3f57-4e55-82a8-d57da92affad",
   "metadata": {},
   "source": [
    "Run optimization:"
   ]
  },
  {
   "cell_type": "markdown",
   "id": "e9b4aa8a-f3b5-4b40-92d0-fb63ba59a592",
   "metadata": {},
   "source": [
    "    flattened_free_params is an initial guess flattened list of free parameters with the form\n",
    "    flattened_free_params = [m_init, *frag_masses, *frag_er_coeffs, *frag_grain_mins, *frag_grain_maxs]\n",
    "\n",
    "    Global parameters:\n",
    "    m_init: float --> (1e4, 1e7) # wide range for initialm ass\n",
    "\n",
    "    Fragment parameters (for n total fragments):\n",
    "    *frag_masses: n fragment masses --> (0, 100) %\n",
    "    *frag_er_coeffs: n erosion coefficients --> (0.23, 6) for eroding fragments based on danielle's cases\n",
    "                                                 0 for dust also based on danielle\n",
    "    *frag_grain_mins: n grain mins --> (1e-8, 1e-2) for eroding fragments (use same for dust) based on danielle\n",
    "    *frag_grain_maxs: n grain maxs --> (5e-7, 5e0) for eroding fragments (use same for dust) based on danielle"
   ]
  },
  {
   "cell_type": "code",
   "execution_count": 23,
   "id": "93e29fcf-8b66-483d-98d6-93460f7dac95",
   "metadata": {},
   "outputs": [],
   "source": [
    "# Generate the tuples based on the length of free fragments\n",
    "fragmentation_count = len(FREE_FRAG_INDICES)\n",
    "# Fragment mass percents\n",
    "frag_mass_percents = tuple((0., 100.) for _ in range(fragmentation_count))\n",
    "# Frag ablation coeffs\n",
    "# these are 0.01 for dust and between (0.002 * 1e-6, 0.025 * 1e-6) for eroding fragments\n",
    "# frag_ablation_coeffs = tuple((0.002 * 1e-6, 0.025 * 1e-6) for _ in range(fragmentation_count))\n",
    "# frag_ablation_coeffs = tuple([(0.01 * 1e-6, 0.01 * 1e-6) if entry.frag_type == 'D'\n",
    "#                               else (0.002 * 1e-6, 0.025 * 1e-6) for entry in metsim_obj.fragmentation_entries])\n",
    "# Frag erosion coeffs\n",
    "# these are fixed at zero for dust and between (0.23 * 1e-6, 6.0 * 1e-6) for eroding fragments\n",
    "# frag_erosion_coeffs = tuple([(0., 0.) if entry.frag_type == 'D' \n",
    "#                              else (0.23 * 1e-6, 6.0 * 1e-6) for entry in metsim_obj.fragmentation_entries])\n",
    "frag_erosion_coeffs = tuple([(0., 0.) if entry.frag_type == 'D' \n",
    "                             else (0.1 * 1e-6, 6.0 * 1e-6) for entry in \n",
    "                             [metsim_obj.fragmentation_entries[i] for i in FREE_FRAG_INDICES]])\n",
    "# frag_erosion_coeffs = tuple((0.23 * 1e-6, 6.0 * 1e-6) for _ in range(fragmentation_count))\n",
    "# Frag grain mins\n",
    "# frag_grain_mins = tuple((1e-8, 1e-2) for _ in range(fragmentation_count))\n",
    "frag_grain_mins = tuple((1e-4, 1e1) for _ in range(fragmentation_count))\n",
    "# Frag grain maxs\n",
    "frag_grain_maxs = tuple((1e-3, 1e2) for _ in range(fragmentation_count))\n",
    "# Combine them into a single flat tuple\n",
    "#### CHANGE THE RESULTS/BOUNDS DEPENDING ON WHAT COMBINATION IS BEING USED!\n",
    "result = frag_mass_percents + frag_erosion_coeffs + frag_grain_mins + frag_grain_maxs\n",
    "# Print the result to check the output\n",
    "bounds = ((10 ** 4, 10 ** 7), ) + result\n",
    "\n",
    "# run optimization routine\n",
    "\n",
    "# constraints\n",
    "# def apply_mass_constraint(flattened_free_params):\n",
    "#     \"\"\"\n",
    "#     Restrict grain max to be greater than grain min, otherwise MetSim crashes\n",
    "#     \"\"\"\n",
    "#     unflattened_list = unflatten_list(flattened_free_params)\n",
    "#     frag_grain_mins = unflattened_list[-2]  # get grain mins\n",
    "#     frag_grain_maxs = unflattened_list[-1]   # get grain maxs\n",
    "#     ## EQUALITY\n",
    "#     # return 0 if optimizer should accept as valid value, return 1 if it should reject\n",
    "#     return np.sum(list(map(lambda min, max: min > max, frag_grain_mins, frag_grain_maxs)))\n",
    "#     ## INEQUALITY\n",
    "#     # return -np.sum(list(map(lambda min, max: min > max, frag_grain_mins, frag_grain_maxs)))\n",
    "\n",
    "# mass_constraint = ({'type': 'eq', \"fun\": lambda flattened_free_params[})\n",
    "\n",
    "#### ADD MASS CONSTRAINTS IF GRAIN MIN/MAX IS BEING USED IN THE COMBINATIONS!\n",
    "# generate mass constraints\n",
    "mass_constraints = []\n",
    "# for each fragment, impose constraint that the fragment grain min (position -2) must be less than the fragment grain max (position -1)\n",
    "for i in range(len(unflatten_list(initial_guess)[-1])):\n",
    "    mass_constraints.append({'type': 'eq', \n",
    "                             \"fun\": lambda free_params_flattened: \n",
    "                             int(unflatten_list(free_params_flattened)[-2][i] > unflatten_list(free_params_flattened)[-1][i])})"
   ]
  },
  {
   "cell_type": "markdown",
   "id": "b72a6682-ef18-4ade-9699-f15078fc4947",
   "metadata": {},
   "source": [
    "Run optimization:"
   ]
  },
  {
   "cell_type": "markdown",
   "id": "02dcf8d5-d220-4476-ac10-9d90ab573418",
   "metadata": {},
   "source": [
    "$\\sim 90$ minutes for $200$ iterations\n",
    "\n",
    "Seems to stabilize after $\\sim 35$ iterations at whatever value..."
   ]
  },
  {
   "cell_type": "code",
   "execution_count": 25,
   "id": "8b8ca7d6-00ac-4258-921a-d950b7333a7a",
   "metadata": {},
   "outputs": [
    {
     "name": "stdout",
     "output_type": "stream",
     "text": [
      "negative logL: 261.2332923591171\n",
      "negative logL: 261.2333025761027\n",
      "negative logL: 261.2332918651992\n",
      "negative logL: 327.37863054843456\n",
      "negative logL: 261.2332923591171\n",
      "negative logL: 261.23331105806074\n",
      "| niter |f evals|CG iter|  obj func   |tr radius |   opt    |  c viol  |\n",
      "|-------|-------|-------|-------------|----------|----------|----------|\n",
      "|   1   |   6   |   0   | +2.6123e+02 | 1.00e+00 | 1.48e+09 | 0.00e+00 |\n",
      "negative logL: 1709.6024322558083\n",
      "negative logL: 1709.6024034719676\n",
      "negative logL: 1709.6024342564833\n",
      "negative logL: 1709.6024322558083\n",
      "negative logL: 1709.6024322558083\n",
      "negative logL: 1709.6024322558083\n",
      "|   2   |  12   |   1   | +1.7096e+03 | 1.00e+00 | 2.98e+00 | 3.46e-01 |\n"
     ]
    },
    {
     "name": "stderr",
     "output_type": "stream",
     "text": [
      "/home/chowi/miniconda3/envs/wmpl/lib/python3.8/site-packages/scipy/optimize/_hessian_update_strategy.py:182: UserWarning: delta_grad == 0.0. Check if the approximated function is linear. If the function is linear better results can be obtained by defining the Hessian as zero instead of using quasi-Newton approximations.\n",
      "  warn('delta_grad == 0.0. Check if the approximated '\n"
     ]
    },
    {
     "name": "stdout",
     "output_type": "stream",
     "text": [
      "negative logL: 1709.6073099703638\n",
      "negative logL: 1709.6071099771978\n",
      "negative logL: 1709.607311971504\n",
      "negative logL: 1709.6073099703638\n",
      "negative logL: 1709.6073099703638\n",
      "negative logL: 1709.6073099703638\n",
      "|   3   |  18   |   4   | +1.7096e+03 | 7.00e+00 | 2.98e+00 | 2.94e-01 |\n",
      "negative logL: 1709.5906553545797\n",
      "negative logL: 1709.5906191342774\n",
      "negative logL: 1709.5906569995916\n",
      "negative logL: 1709.5906553545797\n",
      "negative logL: 1709.5906553545797\n",
      "negative logL: 1709.5906553545797\n",
      "|   4   |  24   |   8   | +1.7096e+03 | 7.81e+00 | 2.45e+00 | 1.66e-01 |\n",
      "negative logL: 1709.5899959068993\n",
      "negative logL: 1709.5899557225273\n",
      "negative logL: 1709.589997907333\n",
      "negative logL: 1709.5899959068993\n",
      "negative logL: 1709.5899959068993\n",
      "negative logL: 1709.5899959068993\n",
      "|   5   |  30   |  12   | +1.7096e+03 | 7.84e+00 | 2.98e+00 | 8.34e-02 |\n",
      "negative logL: 1709.589603569145\n",
      "negative logL: 1709.58956338471\n",
      "negative logL: 1709.5896055693927\n",
      "negative logL: 1709.589603569145\n",
      "negative logL: 1709.589603569145\n",
      "negative logL: 1709.589603569145\n",
      "|   6   |  36   |  15   | +1.7096e+03 | 7.84e+00 | 2.98e+00 | 4.19e-02 |\n",
      "negative logL: 1709.5889574728942\n",
      "negative logL: 1709.5889172880716\n",
      "negative logL: 1709.588959472464\n",
      "negative logL: 1709.5889574728942\n",
      "negative logL: 1709.5889574728942\n",
      "negative logL: 1709.5889574728942\n",
      "|   7   |  42   |  18   | +1.7096e+03 | 7.84e+00 | 2.98e+00 | 2.11e-02 |\n",
      "negative logL: 1709.5888192406808\n",
      "negative logL: 1709.5887790552588\n",
      "negative logL: 1709.5888212401455\n",
      "negative logL: 1709.5888192406808\n",
      "negative logL: 1709.5888192406808\n",
      "negative logL: 1709.5888192406808\n",
      "|   8   |  48   |  21   | +1.7096e+03 | 7.84e+00 | 2.98e+00 | 1.06e-02 |\n",
      "negative logL: 1709.5888249406557\n",
      "negative logL: 1709.5887847558727\n",
      "negative logL: 1709.5888269408483\n",
      "negative logL: 1709.5888249406557\n",
      "negative logL: 1709.5888249406557\n",
      "negative logL: 1709.5888249406557\n",
      "|   9   |  54   |  24   | +1.7096e+03 | 7.84e+00 | 2.98e+00 | 5.31e-03 |\n",
      "negative logL: 1709.5888176951958\n",
      "negative logL: 1709.588777510059\n",
      "negative logL: 1709.5888196947471\n",
      "negative logL: 1709.5888176951958\n",
      "negative logL: 1709.5888176951958\n",
      "negative logL: 1709.5888176951958\n",
      "|  10   |  60   |  27   | +1.7096e+03 | 7.84e+00 | 2.98e+00 | 2.67e-03 |\n",
      "negative logL: 1709.5888131963895\n",
      "negative logL: 1709.5887730120412\n",
      "negative logL: 1709.588815196829\n",
      "negative logL: 1709.5888131963895\n",
      "negative logL: 1709.5888131963895\n",
      "negative logL: 1709.5888131963895\n",
      "|  11   |  66   |  30   | +1.7096e+03 | 7.84e+00 | 2.98e+00 | 1.34e-03 |\n",
      "negative logL: 1709.5888109360021\n",
      "negative logL: 1709.5887707510713\n",
      "negative logL: 1709.5888129359023\n",
      "negative logL: 1709.5888109360021\n",
      "negative logL: 1709.5888109360021\n",
      "negative logL: 1709.5888109360021\n",
      "|  12   |  72   |  33   | +1.7096e+03 | 7.84e+00 | 2.98e+00 | 6.71e-04 |\n",
      "negative logL: 1709.588809799348\n",
      "negative logL: 1709.5887696143589\n",
      "negative logL: 1709.5888117991615\n",
      "negative logL: 1709.588809799348\n",
      "negative logL: 1709.588809799348\n",
      "negative logL: 1709.588809799348\n",
      "|  13   |  78   |  36   | +1.7096e+03 | 7.84e+00 | 2.98e+00 | 3.36e-04 |\n",
      "negative logL: 1709.5888092280647\n",
      "negative logL: 1709.5887690435643\n",
      "negative logL: 1709.5888112281236\n",
      "negative logL: 1709.5888092280647\n",
      "negative logL: 1709.5888092280647\n",
      "negative logL: 1709.5888092280647\n",
      "|  14   |  84   |  39   | +1.7096e+03 | 7.84e+00 | 2.98e+00 | 1.67e-04 |\n",
      "negative logL: 1709.5888089404245\n",
      "negative logL: 1709.5887687560762\n",
      "negative logL: 1709.5888109407476\n",
      "negative logL: 1709.5888089404245\n",
      "negative logL: 1709.5888089404245\n",
      "negative logL: 1709.5888089404245\n",
      "|  15   |  90   |  42   | +1.7096e+03 | 7.84e+00 | 2.98e+00 | 8.23e-05 |\n",
      "negative logL: 1709.5888087955152\n",
      "negative logL: 1709.5887686111225\n",
      "negative logL: 1709.5888107961407\n",
      "negative logL: 1709.5888087955152\n",
      "negative logL: 1709.5888087955152\n",
      "negative logL: 1709.5888087955152\n",
      "|  16   |  96   |  45   | +1.7096e+03 | 7.84e+00 | 2.98e+00 | 3.98e-05 |\n",
      "negative logL: 1709.5888087223873\n",
      "negative logL: 1709.588768538165\n",
      "negative logL: 1709.588810722372\n",
      "negative logL: 1709.5888087223873\n",
      "negative logL: 1709.5888087223873\n",
      "negative logL: 1709.5888087223873\n",
      "|  17   |  102  |  48   | +1.7096e+03 | 7.84e+00 | 2.98e+00 | 1.84e-05 |\n",
      "negative logL: 1709.5888086896794\n",
      "negative logL: 1709.5887685046855\n",
      "negative logL: 1709.5888106905097\n",
      "negative logL: 1709.5888086896794\n",
      "negative logL: 1709.5888086896794\n",
      "negative logL: 1709.5888086896794\n",
      "|  18   |  108  |  50   | +1.7096e+03 | 7.84e+00 | 2.98e+00 | 7.61e-06 |\n",
      "negative logL: 1709.5888086730922\n",
      "negative logL: 1709.5887684884594\n",
      "negative logL: 1709.5888106732205\n",
      "negative logL: 1709.5888086730922\n",
      "negative logL: 1709.5888086730922\n",
      "negative logL: 1709.5888086730922\n",
      "|  19   |  114  |  52   | +1.7096e+03 | 7.84e+00 | 2.98e+00 | 2.21e-06 |\n",
      "negative logL: 2824.5467679576\n",
      "negative logL: 2824.5467675051364\n",
      "negative logL: 2824.546774665386\n",
      "negative logL: 2891.7011726271385\n",
      "negative logL: 2824.5467679576\n",
      "negative logL: 2824.5468317899267\n",
      "|  20   |  120  |  54   | +1.7096e+03 | 7.84e-01 | 2.98e+00 | 2.21e-06 |\n",
      "negative logL: 1001.3149654611428\n",
      "negative logL: 1001.3149758125148\n",
      "negative logL: 1001.3149687807537\n",
      "negative logL: 1074.1810002510767\n",
      "negative logL: 1001.3149654611428\n",
      "negative logL: 1001.3150025294364\n",
      "|  21   |  126  |  58   | +1.0013e+03 | 5.49e+00 | 4.75e+02 | 0.00e+00 |\n",
      "negative logL: 301.32245056803407\n",
      "negative logL: 301.3224619398758\n",
      "negative logL: 301.3224503429532\n",
      "negative logL: 376.7350638857135\n",
      "negative logL: 301.32245056803407\n",
      "negative logL: 301.3224720326849\n",
      "|  22   |  132  |  62   | +3.0132e+02 | 6.70e+00 | 2.75e+02 | 0.00e+00 |\n",
      "negative logL: 262.21765340163483\n",
      "negative logL: 262.217663690788\n",
      "negative logL: 262.2176528990806\n",
      "negative logL: 328.39239806365487\n",
      "negative logL: 262.21765340163483\n",
      "negative logL: 262.21767221073\n",
      "|  23   |  138  |  66   | +2.6222e+02 | 6.96e+00 | 2.41e+02 | 0.00e+00 |\n",
      "negative logL: 262.2176486171247\n",
      "negative logL: 262.2176589062405\n",
      "negative logL: 262.21764811455637\n",
      "negative logL: 328.3923921862068\n",
      "negative logL: 262.2176486171247\n",
      "negative logL: 262.2176674262187\n",
      "|  24   |  144  |  67   | +2.6222e+02 | 6.96e+00 | 2.41e+02 | 0.00e+00 |\n",
      "negative logL: 254.0177561492831\n",
      "negative logL: 254.01776574356094\n",
      "negative logL: 254.0177557556956\n",
      "negative logL: 320.4870608083264\n",
      "negative logL: 254.0177561492831\n",
      "negative logL: 254.0177739473981\n",
      "|  25   |  150  |  69   | +2.5402e+02 | 6.96e+00 | 2.43e+02 | 0.00e+00 |\n",
      "negative logL: 245.5735805230097\n",
      "negative logL: 245.57358934619592\n",
      "negative logL: 245.57358024740302\n",
      "negative logL: 312.3835174736008\n",
      "negative logL: 245.5735805230097\n",
      "negative logL: 245.57359720896403\n",
      "|  26   |  156  |  73   | +2.4557e+02 | 6.96e+00 | 2.44e+02 | 0.00e+00 |\n",
      "negative logL: 237.0341516089022\n",
      "negative logL: 237.03415958064664\n",
      "negative logL: 237.03415146121074\n",
      "negative logL: 304.22820037632715\n",
      "negative logL: 237.0341516089022\n",
      "negative logL: 237.03416708032574\n",
      "|  27   |  162  |  77   | +2.3703e+02 | 6.96e+00 | 2.43e+02 | 0.00e+00 |\n",
      "negative logL: 228.57558687955137\n",
      "negative logL: 228.57559391342153\n",
      "negative logL: 228.57558686980252\n",
      "negative logL: 296.1053598894878\n",
      "negative logL: 228.57558687955137\n",
      "negative logL: 228.57560102904003\n",
      "|  28   |  168  |  81   | +2.2858e+02 | 6.96e+00 | 2.40e+02 | 0.00e+00 |\n",
      "negative logL: 2421.3711635615805\n",
      "negative logL: 2421.3710975837557\n",
      "negative logL: 2421.3711712597446\n",
      "negative logL: 2528.3177988630578\n",
      "negative logL: 2421.3711635615805\n",
      "negative logL: 2421.3711635615805\n",
      "negative logL: 2421.371164928638\n",
      "negative logL: 2421.371098950788\n",
      "negative logL: 2421.371172626769\n",
      "negative logL: 2528.3178000642756\n",
      "negative logL: 2421.371164928638\n",
      "negative logL: 2421.371164928638\n",
      "|  29   |  180  |  83   | +2.2858e+02 | 6.96e-01 | 2.40e+02 | 0.00e+00 |\n",
      "negative logL: 306.7476121555022\n",
      "negative logL: 306.7476253423478\n",
      "negative logL: 306.74761131083324\n",
      "negative logL: 377.0649721342238\n",
      "negative logL: 306.7476121555022\n",
      "negative logL: 306.74763565299895\n",
      "negative logL: 306.7476122266154\n",
      "negative logL: 306.7476254134576\n",
      "negative logL: 306.74761138196396\n",
      "negative logL: 377.0649722010958\n",
      "negative logL: 306.7476122266154\n",
      "negative logL: 306.74763572411973\n",
      "|  30   |  192  |  85   | +2.2858e+02 | 3.48e-01 | 2.40e+02 | 0.00e+00 |\n",
      "negative logL: 228.57556369721917\n",
      "negative logL: 228.57557073109083\n",
      "negative logL: 228.57556368749056\n",
      "negative logL: 296.10533039759775\n",
      "negative logL: 228.57556369721917\n",
      "negative logL: 228.57557784671454\n",
      "|  31   |  198  |  87   | +2.2858e+02 | 3.48e-01 | 2.40e+02 | 0.00e+00 |\n",
      "negative logL: 228.57554049115683\n",
      "negative logL: 228.57554752507764\n",
      "negative logL: 228.5755404816523\n",
      "negative logL: 296.10530088244207\n",
      "negative logL: 228.57554049115683\n",
      "negative logL: 228.5755546406427\n",
      "|  32   |  204  |  89   | +2.2858e+02 | 3.48e-01 | 2.40e+02 | 0.00e+00 |\n",
      "negative logL: 225.45527752594762\n",
      "negative logL: 225.45528418173458\n",
      "negative logL: 225.45527756831115\n",
      "negative logL: 293.17040477807586\n",
      "negative logL: 225.45527752594762\n",
      "negative logL: 225.4552911485553\n",
      "|  33   |  210  |  93   | +2.2546e+02 | 3.48e-01 | 2.38e+02 | 0.00e+00 |\n",
      "negative logL: 217.64014721313174\n",
      "negative logL: 217.64015281653639\n",
      "negative logL: 217.6401474110623\n",
      "negative logL: 285.791009275169\n",
      "negative logL: 217.64014721313174\n",
      "negative logL: 217.6401593874997\n",
      "|  34   |  216  |  95   | +2.1764e+02 | 3.48e-01 | 2.31e+02 | 0.00e+00 |\n",
      "negative logL: 300.7653767331295\n",
      "negative logL: 300.7653895349268\n",
      "negative logL: 300.76537595631004\n",
      "negative logL: 371.3790047958515\n",
      "negative logL: 300.7653767331295\n",
      "negative logL: 300.7653996401852\n",
      "negative logL: 300.7653769966682\n",
      "negative logL: 300.765389798469\n",
      "negative logL: 300.76537621983897\n",
      "negative logL: 371.3790050442793\n",
      "negative logL: 300.7653769966682\n",
      "negative logL: 300.7653999037222\n",
      "|  35   |  228  |  97   | +2.1764e+02 | 1.71e-01 | 2.31e+02 | 0.00e+00 |\n",
      "negative logL: 217.64387417163454\n",
      "negative logL: 217.6438797755602\n",
      "negative logL: 217.64387436964324\n",
      "negative logL: 285.7973820335148\n",
      "negative logL: 217.64387417163454\n",
      "negative logL: 217.6438863467638\n",
      "|  36   |  234  |  99   | +2.1764e+02 | 1.71e-01 | 2.31e+02 | 0.00e+00 |\n",
      "negative logL: 217.645562491215\n",
      "negative logL: 217.6455680953146\n",
      "negative logL: 217.64556268951213\n",
      "negative logL: 285.78988306085625\n",
      "negative logL: 217.645562491215\n",
      "negative logL: 217.6455746665153\n",
      "negative logL: 217.64556249102583\n",
      "negative logL: 217.64556809512672\n",
      "negative logL: 217.64556268932515\n",
      "negative logL: 285.7898830606657\n",
      "negative logL: 217.64556249102583\n",
      "negative logL: 217.6455746663284\n",
      "|  37   |  246  |  101  | +2.1764e+02 | 1.71e-02 | 2.31e+02 | 0.00e+00 |\n",
      "negative logL: 217.645562491215\n",
      "negative logL: 217.6455680953146\n",
      "negative logL: 217.64556268951213\n",
      "negative logL: 285.78988306085625\n",
      "negative logL: 217.645562491215\n",
      "negative logL: 217.6455746665153\n",
      "negative logL: 217.64556249102583\n",
      "negative logL: 217.64556809512672\n",
      "negative logL: 217.64556268932515\n",
      "negative logL: 285.7898830606657\n",
      "negative logL: 217.64556249102583\n",
      "negative logL: 217.6455746663284\n",
      "|  38   |  258  |  103  | +2.1764e+02 | 1.71e-03 | 2.31e+02 | 0.00e+00 |\n",
      "negative logL: 217.645562491215\n",
      "negative logL: 217.6455680953146\n",
      "negative logL: 217.64556268951213\n",
      "negative logL: 285.78988306085625\n",
      "negative logL: 217.645562491215\n",
      "negative logL: 217.6455746665153\n",
      "negative logL: 217.64556249102583\n",
      "negative logL: 217.64556809512672\n",
      "negative logL: 217.64556268932515\n",
      "negative logL: 285.7898830606657\n",
      "negative logL: 217.64556249102583\n",
      "negative logL: 217.6455746663284\n",
      "|  39   |  270  |  105  | +2.1764e+02 | 1.71e-04 | 2.31e+02 | 0.00e+00 |\n",
      "negative logL: 217.645562491215\n",
      "negative logL: 217.6455680953146\n",
      "negative logL: 217.64556268951213\n",
      "negative logL: 285.78988306085625\n",
      "negative logL: 217.645562491215\n",
      "negative logL: 217.6455746665153\n",
      "negative logL: 217.64556249102583\n",
      "negative logL: 217.64556809512672\n",
      "negative logL: 217.64556268932515\n",
      "negative logL: 285.7898830606657\n",
      "negative logL: 217.64556249102583\n",
      "negative logL: 217.6455746663284\n",
      "|  40   |  282  |  107  | +2.1764e+02 | 1.71e-05 | 2.31e+02 | 0.00e+00 |\n",
      "negative logL: 217.64716327620218\n",
      "negative logL: 217.64716888037142\n",
      "negative logL: 217.64716347425647\n",
      "negative logL: 285.7919721923167\n",
      "negative logL: 217.64716327620218\n",
      "negative logL: 217.64717545175483\n",
      "negative logL: 217.6471632760955\n",
      "negative logL: 217.64716888026723\n",
      "negative logL: 217.647163474149\n",
      "negative logL: 285.7919721922074\n",
      "negative logL: 217.6471632760955\n",
      "negative logL: 217.64717545164598\n",
      "|  41   |  294  |  109  | +2.1764e+02 | 7.44e-06 | 2.31e+02 | 0.00e+00 |\n",
      "negative logL: 217.6495075529352\n",
      "negative logL: 217.64951315757452\n",
      "negative logL: 217.64950775074922\n",
      "negative logL: 285.7950316691142\n",
      "negative logL: 217.6495075529352\n",
      "negative logL: 217.64951972885103\n",
      "negative logL: 217.64950755293455\n",
      "negative logL: 217.64951315757403\n",
      "negative logL: 217.64950775074882\n",
      "negative logL: 285.79503166911377\n",
      "negative logL: 217.64950755293455\n",
      "negative logL: 217.6495197288507\n",
      "|  42   |  306  |  110  | +2.1764e+02 | 1.14e-06 | 2.31e+02 | 0.00e+00 |\n",
      "negative logL: 217.6438576866781\n",
      "negative logL: 217.6438632908043\n",
      "negative logL: 217.64385788493112\n",
      "negative logL: 285.79736139158985\n",
      "negative logL: 217.6438576866781\n",
      "negative logL: 217.64386986180318\n",
      "|  43   |  312  |  112  | +2.1764e+02 | 7.95e-06 | 2.31e+02 | 0.00e+00 |\n",
      "negative logL: 217.6438302097578\n",
      "negative logL: 217.64383581394364\n",
      "negative logL: 217.64383040797614\n",
      "negative logL: 285.7973269860024\n",
      "negative logL: 217.6438302097578\n",
      "negative logL: 217.64384238488006\n",
      "|  44   |  318  |  114  | +2.1764e+02 | 1.32e-05 | 2.31e+02 | 0.00e+00 |\n",
      "negative logL: 217.64380273313793\n",
      "negative logL: 217.64380833745292\n",
      "negative logL: 217.64380293125373\n",
      "negative logL: 285.79729258072\n",
      "negative logL: 217.64380273313793\n",
      "negative logL: 217.64381490825465\n",
      "|  45   |  324  |  116  | +2.1764e+02 | 1.32e-05 | 2.31e+02 | 0.00e+00 |\n",
      "negative logL: 217.64377525600068\n",
      "negative logL: 217.64378086024053\n",
      "negative logL: 217.64375450767153\n",
      "negative logL: 285.79725817472007\n",
      "negative logL: 217.64377525600068\n",
      "negative logL: 217.64378743111436\n",
      "|  46   |  330  |  118  | +2.1764e+02 | 1.32e-05 | 2.31e+02 | 0.00e+00 |\n",
      "negative logL: 217.64366764383985\n",
      "negative logL: 217.6436734725326\n",
      "negative logL: 217.64366784195582\n",
      "negative logL: 285.79711665245554\n",
      "negative logL: 217.64366764383985\n",
      "negative logL: 217.64367981893565\n",
      "|  47   |  336  |  120  | +2.1764e+02 | 1.32e-05 | 2.31e+02 | 0.00e+00 |\n",
      "negative logL: 217.6436273608103\n",
      "negative logL: 217.64363296474562\n",
      "negative logL: 217.64362680073657\n",
      "negative logL: 285.7970662114826\n",
      "negative logL: 217.6436273608103\n",
      "negative logL: 217.64363953589742\n",
      "|  48   |  342  |  122  | +2.1764e+02 | 1.94e-05 | 2.31e+02 | 0.00e+00 |\n",
      "negative logL: 217.64352695630348\n",
      "negative logL: 217.64353256017483\n",
      "negative logL: 217.64352715420927\n",
      "negative logL: 285.7969224987121\n",
      "negative logL: 217.64352695630348\n",
      "negative logL: 217.6435391313802\n",
      "|  49   |  348  |  124  | +2.1764e+02 | 2.09e-05 | 2.31e+02 | 0.00e+00 |\n",
      "negative logL: 217.65066241985667\n",
      "negative logL: 217.65066802448342\n",
      "negative logL: 217.65064485907953\n",
      "negative logL: 285.7965633193199\n",
      "negative logL: 217.65066241985667\n",
      "negative logL: 217.65067459593902\n",
      "negative logL: 217.65066242010022\n",
      "negative logL: 217.65066802472194\n",
      "negative logL: 217.65064485932103\n",
      "negative logL: 285.79656331956244\n",
      "negative logL: 217.65066242010022\n",
      "negative logL: 217.65067459617978\n",
      "|  50   |  360  |  126  | +2.1764e+02 | 2.09e-06 | 2.31e+02 | 0.00e+00 |\n",
      "\n",
      "The maximum number of function evaluations is exceeded.\n",
      "Number of iterations: 50, function evaluations: 360, CG iterations: 126, optimality: 2.31e+02, constraint violation: 0.00e+00, execution time: 9.5e+02 s.\n"
     ]
    }
   ],
   "source": [
    "import time\n",
    "import warnings\n",
    "\n",
    "class TookTooLong(Warning):\n",
    "    pass\n",
    "\n",
    "class MinimizeStopper(object):\n",
    "    def __init__(self, max_sec=60):\n",
    "        self.max_sec = max_sec\n",
    "        self.start = time.time()\n",
    "    def __call__(self, xk=None):\n",
    "        elapsed = time.time() - self.start\n",
    "        if elapsed > self.max_sec:\n",
    "            warnings.warn(\"Terminating optimization: time limit reached\",\n",
    "                          TookTooLong)\n",
    "        else:\n",
    "            # you might want to report other stuff here\n",
    "            print(\"Elapsed: %.3f sec\" % elapsed)\n",
    "\n",
    "best_fit = scipy.optimize.minimize(fun=lambda free_params_flattened: \n",
    "                                   get_lc_cost_function(free_params_flattened, metsim_obj=metsim_obj),\n",
    "                                   x0=initial_guess_mod, \n",
    "                                   method='trust-constr',\n",
    "                                   # method='L-BFGS-B',\n",
    "                                   # method='SLSQP',\n",
    "                                   # method='BFGS',\n",
    "                                   # method='Nelder-Mead',\n",
    "                                   bounds=bounds, \n",
    "                                   options={'verbose': 2, \n",
    "                                            'maxiter': 50, \n",
    "                                            # 'gtol': 9e-1\n",
    "                                            # 'return_all': True,\n",
    "                                           },\n",
    "                                   constraints=mass_constraints, \n",
    "                                   # callback=MinimizeStopper()\n",
    "                                  )#, options={'maxiter': 1e5})"
   ]
  },
  {
   "cell_type": "code",
   "execution_count": 26,
   "id": "e8e94f4b-b93a-434f-a857-a2367a7162ca",
   "metadata": {},
   "outputs": [
    {
     "data": {
      "text/plain": [
       "           message: The maximum number of function evaluations is exceeded.\n",
       "           success: False\n",
       "            status: 0\n",
       "               fun: 217.64352695630348\n",
       "                 x: [ 1.500e+06  4.502e+01  1.000e-07  9.721e-01  3.226e+00]\n",
       "               nit: 50\n",
       "              nfev: 360\n",
       "              njev: 60\n",
       "              nhev: 0\n",
       "          cg_niter: 126\n",
       "      cg_stop_cond: 2\n",
       "              grad: [ 2.507e-04  2.950e-01  4.574e+09  0.000e+00  2.532e+02]\n",
       "   lagrangian_grad: [ 2.507e-04  2.944e-01  0.000e+00 -4.433e-02  2.310e+02]\n",
       "            constr: [array([0]), array([ 1.500e+06,  4.502e+01,  1.000e-07,  9.721e-01,\n",
       "                            3.226e+00])]\n",
       "               jac: [array([[ 0.000e+00,  0.000e+00,  0.000e+00,\n",
       "                             0.000e+00,  0.000e+00]]), array([[ 1.000e+00,  0.000e+00, ...,  0.000e+00,\n",
       "                             0.000e+00],\n",
       "                           [ 0.000e+00,  1.000e+00, ...,  0.000e+00,\n",
       "                             0.000e+00],\n",
       "                           ...,\n",
       "                           [ 0.000e+00,  0.000e+00, ...,  1.000e+00,\n",
       "                             0.000e+00],\n",
       "                           [ 0.000e+00,  0.000e+00, ...,  0.000e+00,\n",
       "                             1.000e+00]])]\n",
       "       constr_nfev: [360, 0]\n",
       "       constr_njev: [0, 0]\n",
       "       constr_nhev: [0, 0]\n",
       "                 v: [array([0]), array([-5.535e-08, -6.450e-04, -4.574e+09, -4.433e-02,\n",
       "                           -2.226e+01])]\n",
       "            method: tr_interior_point\n",
       "        optimality: 230.98223353410262\n",
       "  constr_violation: 0.0\n",
       "    execution_time: 949.4231548309326\n",
       "         tr_radius: 2.0929608998281596e-06\n",
       "    constr_penalty: 40948959.72783016\n",
       " barrier_parameter: 0.1\n",
       " barrier_tolerance: 0.1\n",
       "             niter: 50"
      ]
     },
     "execution_count": 26,
     "metadata": {},
     "output_type": "execute_result"
    }
   ],
   "source": [
    "best_fit"
   ]
  },
  {
   "cell_type": "code",
   "execution_count": 27,
   "id": "e8e43ec0-5b54-42cb-bb62-ca01baa1fcb3",
   "metadata": {},
   "outputs": [
    {
     "data": {
      "text/plain": [
       "(array([1.5e+06, 3.5e+01, 1.0e-07, 1.0e+00, 5.0e+00]),\n",
       " array([1.50000000e+06, 4.50206262e+01, 1.00048064e-07, 9.72058568e-01,\n",
       "        3.22641196e+00]))"
      ]
     },
     "execution_count": 27,
     "metadata": {},
     "output_type": "execute_result"
    }
   ],
   "source": [
    "initial_guess, best_fit.x"
   ]
  },
  {
   "cell_type": "code",
   "execution_count": 28,
   "id": "06ee38a4-eacc-4311-97ab-1933112cffb9",
   "metadata": {},
   "outputs": [],
   "source": [
    "np.save('best_fit_1994_mod_start.npy', best_fit)"
   ]
  },
  {
   "cell_type": "markdown",
   "id": "e25bca29-413f-4376-aaa6-5d0ca2fd60b8",
   "metadata": {},
   "source": [
    "Compare original LC to simulated LCs with the initial guess and the best-fit guess:"
   ]
  },
  {
   "cell_type": "code",
   "execution_count": 29,
   "id": "320b0ec7-6b24-42f5-a72c-c6a03d55a380",
   "metadata": {},
   "outputs": [],
   "source": [
    "results_initial = sim_lc(initial_guess, metsim_obj)"
   ]
  },
  {
   "cell_type": "code",
   "execution_count": 30,
   "id": "617fa7d8-fcbb-40d0-8c14-fe1101756a55",
   "metadata": {},
   "outputs": [],
   "source": [
    "# best fit\n",
    "results_bf = sim_lc(best_fit.x, metsim_obj)"
   ]
  },
  {
   "cell_type": "markdown",
   "id": "ffeec9ad-c406-4689-ab56-7db1c48431e2",
   "metadata": {},
   "source": [
    "Plot:"
   ]
  },
  {
   "cell_type": "code",
   "execution_count": 31,
   "id": "5a72af40-e012-40d6-b878-bfc7af20b368",
   "metadata": {},
   "outputs": [
    {
     "data": {
      "text/plain": [
       "<matplotlib.legend.Legend at 0x7f33544933a0>"
      ]
     },
     "execution_count": 31,
     "metadata": {},
     "output_type": "execute_result"
    },
    {
     "data": {
      "image/png": "[encoded data removed]",
      "text/plain": [
       "<Figure size 1200x800 with 1 Axes>"
      ]
     },
     "metadata": {},
     "output_type": "display_data"
    }
   ],
   "source": [
    "plt.figure(figsize = (12, 8))\n",
    "# plt.plot(obs_lc_intensity, metsim_obj.traj.observations[0].model_ht/1000., label = 'observed')\n",
    "# interpolate the results initial and results leading frag heights\n",
    "if np.sum(np.diff(results_initial.leading_frag_height_arr) > 0) > 0:\n",
    "    first_increasing_height_arr = np.where(np.diff(results_initial.leading_frag_height_arr) > 0)[0][0] - 1\n",
    "else:\n",
    "    first_increasing_height_arr = -1\n",
    "interpolated_initial_int = np.interp(metsim_obj.traj.observations[0].model_ht, \n",
    "          np.flip(results_initial.leading_frag_height_arr[:first_increasing_height_arr]), \n",
    "          np.flip(results_initial.luminosity_arr[:first_increasing_height_arr]))\n",
    "interpolated_bf_int = np.interp(metsim_obj.traj.observations[0].model_ht, \n",
    "          np.flip(results_bf.leading_frag_height_arr[:first_increasing_height_arr]), \n",
    "          np.flip(results_bf.luminosity_arr[:first_increasing_height_arr]))\n",
    "\n",
    "plt.plot(interpolated_initial_int, metsim_obj.traj.observations[0].model_ht/1000., label = 'leading initial guess')\n",
    "plt.plot(interpolated_bf_int, metsim_obj.traj.observations[0].model_ht/1000., label = 'leading best fit')\n",
    "# plt.plot(results_initial.luminosity_arr, results_initial.leading_frag_height_arr/1000., label = 'leading initial guess')\n",
    "# plt.plot(results_bf.luminosity_arr, results_bf.leading_frag_height_arr/1000., label = 'leading best fit')\n",
    "plt.ylim(10., 80.)\n",
    "plt.legend()"
   ]
  },
  {
   "cell_type": "markdown",
   "id": "1d341dae-e342-445f-a9aa-4b6ba36651d2",
   "metadata": {},
   "source": [
    "Compare the cost function (RSS):"
   ]
  },
  {
   "cell_type": "code",
   "execution_count": 32,
   "id": "8228dbe1-cf69-405b-84fd-64dfc835b87b",
   "metadata": {},
   "outputs": [
    {
     "name": "stdout",
     "output_type": "stream",
     "text": [
      "negative logL: 217.64352695630348\n",
      "negative logL: 166.08079157154498\n"
     ]
    },
    {
     "data": {
      "text/plain": [
       "(217.64352695630348, 166.08079157154498)"
      ]
     },
     "execution_count": 32,
     "metadata": {},
     "output_type": "execute_result"
    }
   ],
   "source": [
    "get_lc_cost_function(best_fit.x, metsim_obj), get_lc_cost_function(initial_guess, metsim_obj)"
   ]
  },
  {
   "cell_type": "markdown",
   "id": "d270fdb7-51fd-44fd-b655-316786b26efc",
   "metadata": {},
   "source": [
    "Height of leading fragment:"
   ]
  }
 ],
 "metadata": {
  "kernelspec": {
   "display_name": "Python 3 (ipykernel)",
   "language": "python",
   "name": "python3"
  },
  "language_info": {
   "codemirror_mode": {
    "name": "ipython",
    "version": 3
   },
   "file_extension": ".py",
   "mimetype": "text/x-python",
   "name": "python",
   "nbconvert_exporter": "python",
   "pygments_lexer": "ipython3",
   "version": "3.8.18"
  }
 },
 "nbformat": 4,
 "nbformat_minor": 5
}
