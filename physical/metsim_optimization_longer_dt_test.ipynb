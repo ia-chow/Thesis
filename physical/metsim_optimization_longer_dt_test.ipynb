{
 "cells": [
  {
   "cell_type": "code",
   "execution_count": 1,
   "id": "21fdbff0-60f0-4af4-a602-1ead544f7909",
   "metadata": {},
   "outputs": [],
   "source": [
    "import numpy as np\n",
    "import pandas as pd\n",
    "import sys\n",
    "import json\n",
    "import os\n",
    "import copy\n",
    "import matplotlib.pyplot as plt\n",
    "import scipy\n",
    "import multiprocessing"
   ]
  },
  {
   "cell_type": "markdown",
   "id": "885fe6f0-35f7-4afc-b904-e2144eac389b",
   "metadata": {},
   "source": [
    "Make `WMPL` directory visible:"
   ]
  },
  {
   "cell_type": "code",
   "execution_count": 2,
   "id": "fe6406fd-08fe-417b-a641-b49809b493cf",
   "metadata": {},
   "outputs": [],
   "source": [
    "sys.path.append('../../')"
   ]
  },
  {
   "cell_type": "markdown",
   "id": "ca075672-9085-4975-b81c-dc4a6a243d4e",
   "metadata": {},
   "source": [
    "Import WMPL files:"
   ]
  },
  {
   "cell_type": "code",
   "execution_count": 3,
   "id": "0c521053-823a-4a65-97d0-5da495985d60",
   "metadata": {},
   "outputs": [],
   "source": [
    "import source.WesternMeteorPyLib.wmpl.MetSim.MetSim as metsim\n",
    "import source.WesternMeteorPyLib.wmpl.MetSim.FitSim as fitsim\n",
    "import source.WesternMeteorPyLib.wmpl.MetSim.GUI as gui\n",
    "import source.WesternMeteorPyLib.wmpl.MetSim.MetSimErosion as erosion"
   ]
  },
  {
   "cell_type": "markdown",
   "id": "72670f9e-b782-45db-aaa1-6c4319b44d0a",
   "metadata": {},
   "source": [
    "Modified version to run with the optimization routine:"
   ]
  },
  {
   "cell_type": "code",
   "execution_count": 4,
   "id": "9ae450a2-8934-4606-b0b0-cb54ab147538",
   "metadata": {},
   "outputs": [],
   "source": [
    "class MetSimObj():\n",
    "    def __init__(self, traj_path, const_json_file, fixed_frag_indices, free_frag_indices):\n",
    "        # Init an axis for the electron line density\n",
    "        # self.electronDensityPlot = self.magnitudePlot.canvas.axes.twiny()\n",
    "        self.electron_density_plot_show = False\n",
    "        ### Wake parameters ###\n",
    "        self.wake_on = False\n",
    "        self.wake_show_mass_bins = False\n",
    "        self.wake_ht_current_index = 0\n",
    "        self.current_wake_container = None\n",
    "        # if self.wake_heights is not None:\n",
    "        #     self.wake_plot_ht, self.current_wake_container = self.wake_heights[self.wake_ht_current_index]\n",
    "        # else:\n",
    "        #     self.wake_plot_ht = self.traj.rbeg_ele # m\n",
    "        self.wake_normalization_method = 'area'\n",
    "        self.wake_align_method = 'none'\n",
    "        self.magnitudePlotWakeLines = None\n",
    "        self.magnitudePlotWakeLineLabels = None\n",
    "        self.velocityPlotWakeLines = None\n",
    "        self.lagPlotWakeLines = None\n",
    "        self.usg_data, self.traj = gui.loadUSGInputFile(*os.path.split(traj_path))\n",
    "        self.dir_path = os.path.dirname(traj_path)\n",
    "        # Disable different density after erosion change\n",
    "        self.erosion_different_rho = False\n",
    "        # Disable different ablation coeff after erosion change\n",
    "        self.erosion_different_sigma = False\n",
    "        # Disable different erosion coeff after disruption at the beginning\n",
    "        self.disruption_different_erosion_coeff = False\n",
    "        # Fragmentation object\n",
    "        self.fragmentation = None\n",
    "        self.simulation_results = None\n",
    "        self.const_prev = None\n",
    "        self.simulation_results_prev = None\n",
    "        self.const = erosion.Constants()  # initialize this, these will be replaced later\n",
    "        self.const.P_0m = self.usg_data.P_0m_bolo\n",
    "        # If a JSON file with constant was given, load them instead of initing from scratch\n",
    "        if const_json_file is not None:\n",
    "            # Load the constants from the JSON files\n",
    "            self.const, const_json = gui.loadConstants(const_json_file)\n",
    "            # Init the fragmentation container for the GUI\n",
    "            if len(self.const.fragmentation_entries):\n",
    "                self.fragmentation = gui.FragmentationContainer(self, \\\n",
    "                    os.path.join(self.dir_path, self.const.fragmentation_file_name))\n",
    "                self.fragmentation.fragmentation_entries = self.const.fragmentation_entries\n",
    "                # Overwrite the existing fragmentatinon file\n",
    "                # self.fragmentation.writeFragmentationFile()\n",
    "            # Check if the disruption erosion coefficient is different than the main erosion coeff\n",
    "            if const_json['disruption_erosion_coeff'] != const_json['erosion_coeff']:\n",
    "                self.disruption_different_erosion_coeff = True\n",
    "            # Check if the density is changed after Hchange\n",
    "            if 'erosion_rho_change' in const_json:\n",
    "                if const_json['erosion_rho_change'] != const_json['rho']:\n",
    "                    self.erosion_different_rho = True\n",
    "            # Check if the ablation coeff is changed after Hchange\n",
    "            if 'erosion_sigma_change' in const_json:\n",
    "                if const_json['erosion_sigma_change'] != const_json['sigma']:\n",
    "                    self.erosion_different_sigma = True\n",
    "        else:\n",
    "            raise('no json file!')\n",
    "\n",
    "        ### Calculate atmosphere density coeffs (down to the bottom observed height, limit to 15 km) ###\n",
    "\n",
    "        # Determine the height range for fitting the density\n",
    "        self.dens_fit_ht_beg = self.const.h_init\n",
    "        self.dens_fit_ht_end = self.traj.rend_ele - 5000\n",
    "        if self.dens_fit_ht_end < 14000:\n",
    "            self.dens_fit_ht_end = 14000\n",
    "\n",
    "        # Fit the polynomail describing the density\n",
    "        dens_co = gui.MetSimGUI.fitAtmosphereDensity(self, self.dens_fit_ht_beg, self.dens_fit_ht_end)\n",
    "        self.const.dens_co = dens_co\n",
    "\n",
    "        # get global parameters from json file, everything other than params marked \"free\" are fixed\n",
    "        dt = const_json.get('dt')\n",
    "        P_0m = const_json.get('P_0m')\n",
    "        h_init = const_json.get('h_init')\n",
    "        m_kill = const_json.get('m_kill')\n",
    "        v_kill = const_json.get('v_kill')\n",
    "        h_kill = const_json.get('h_kill')\n",
    "        len_kill = const_json.get('len_kill') \n",
    "        rho = const_json.get('rho')  # free\n",
    "        rho_grain = const_json.get('rho_grain')  # free\n",
    "        m_init = const_json.get('m_init')  # free\n",
    "        sigma = const_json.get('sigma')  # free\n",
    "        v_init = const_json.get('v_init')\n",
    "        shape_factor = const_json.get('shape_factor')\n",
    "        gamma = const_json.get('gamma')\n",
    "        zenith_angle = const_json.get('zenith_angle')\n",
    "        lum_eff = const_json.get('lum_eff')\n",
    "        lum_eff_type = const_json.get('lum_eff_type')\n",
    "        erosion_height_start = const_json.get('erosion_height_start')\n",
    "        erosion_bins_per_10mass = const_json.get('erosion_bins_per_10mass')\n",
    "        erosion_coeff = const_json.get('erosion_coeff')\n",
    "        erosion_height_change = const_json.get('erosion_height_change')\n",
    "        erosion_coeff_change = const_json.get('erosion_coeff_change')\n",
    "        erosion_mass_index = const_json.get('erosion_mass_index')\n",
    "        erosion_mass_min = const_json.get('erosion_mass_min')\n",
    "        erosion_mass_max = const_json.get('erosion_mass_max')\n",
    "        erosion_rho_change = const_json.get('rho')\n",
    "        erosion_sigma_change = const_json.get('sigma')\n",
    "        compressive_strength = const_json.get('compressive_strength')\n",
    "        disruption_erosion_coeff = const_json.get('erosion_coeff')\n",
    "        disruption_mass_grain_ratio = const_json.get('disruption_mass_grain_ratio')\n",
    "        disruption_mass_index = const_json.get('disruption_mass_index')\n",
    "        disruption_mass_min_ratio = const_json.get('disruption_mass_min_ratio')\n",
    "        disruption_mass_max_ratio = const_json.get('disruption_mass_max_ratio')\n",
    "\n",
    "        # get fragmentation parameters from json file\n",
    "        # type, height, number, gamma, mass index are fixed, \n",
    "        # mass, ablation coefficient, erosion coefficient, grain min, grain max are not fixed\n",
    "        num_frags = len(const_json.get('fragmentation_entries'))\n",
    "        # fixed\n",
    "        frag_types = []\n",
    "        frag_heights = []\n",
    "        frag_numbers = []\n",
    "        frag_ab_coeffs = []\n",
    "        frag_gammas = []\n",
    "        frag_mis = []\n",
    "        # free\n",
    "        frag_masses = []\n",
    "        frag_er_coeffs = []\n",
    "        frag_grain_mins = []\n",
    "        frag_grain_maxs = []\n",
    "\n",
    "        for i, frag in enumerate(const_json.get('fragmentation_entries')):\n",
    "            ### If sigma, gamma and erosiion coefficient are none, convert to whatever the default value is \n",
    "            # fixed\n",
    "            frag_types.append(frag['frag_type'])\n",
    "            frag_heights.append(frag['height'])\n",
    "            frag_numbers.append(frag['number'])\n",
    "            if frag['gamma'] == None:\n",
    "                frag_gammas.append(gamma)\n",
    "            else:\n",
    "                frag_gammas.append(frag['gamma'])\n",
    "            frag_mis.append(frag['mass_index'])\n",
    "            if frag['sigma'] == None: \n",
    "                frag_ab_coeffs.append(sigma) \n",
    "            else:\n",
    "                frag_ab_coeffs.append(frag['sigma'])\n",
    "            # free\n",
    "            frag_masses.append(frag['mass_percent'])\n",
    "            if frag['erosion_coeff'] == None:\n",
    "                frag_er_coeffs.append(0.)  # erosion coefficient of zero\n",
    "            else:\n",
    "                frag_er_coeffs.append(frag['erosion_coeff'])\n",
    "            frag_grain_mins.append(frag['grain_mass_min'])\n",
    "            frag_grain_maxs.append(frag['grain_mass_max'])\n",
    "            \n",
    "        # set free and fixed params\n",
    "        #### CHANGE THESE LINES TO TEST DIFFERENT COMBINATIONS OF FREE PARAMETERS\n",
    "        self.fixed_frag_indices = fixed_frag_indices\n",
    "        self.free_frag_indices = free_frag_indices\n",
    "        # set up masks for free and fixed indices\n",
    "        free_frag_mask = np.zeros(num_frags, bool)\n",
    "        free_frag_mask[free_frag_indices] = True  # only free frags\n",
    "        # free_frag_mask = np.argsort(free_frag_mask)\n",
    "        fixed_frag_mask = np.ones(num_frags, bool)\n",
    "        fixed_frag_mask[free_frag_indices] = False  # everything EXCEPT free frags (i.e. fixed frags)\n",
    "        # fixed_frag_mask = np.argsort(fixed_frag_mask)\n",
    "        # assign free fixed parameters to object\n",
    "        self.free_params = [m_init, \n",
    "                            list(np.array(frag_masses)[free_frag_mask]), \n",
    "                            list(np.array(frag_er_coeffs)[free_frag_mask]), \n",
    "                            list(np.array(frag_grain_mins)[free_frag_mask]), \n",
    "                            list(np.array(frag_grain_maxs)[free_frag_mask])\n",
    "                           ]\n",
    "        self.fixed_params = [dt, P_0m, h_init, m_kill, v_kill, h_kill, len_kill, rho, rho_grain, sigma, \n",
    "                             v_init, shape_factor, \n",
    "                            gamma, zenith_angle, lum_eff, lum_eff_type, erosion_height_start, \n",
    "                            erosion_bins_per_10mass, erosion_coeff, erosion_height_change, \n",
    "                            erosion_coeff_change, erosion_mass_index, erosion_mass_min, erosion_mass_max, \n",
    "                            erosion_rho_change, erosion_sigma_change, compressive_strength, \n",
    "                            disruption_erosion_coeff, disruption_mass_grain_ratio, disruption_mass_index, \n",
    "                            disruption_mass_min_ratio, disruption_mass_max_ratio, \n",
    "                            frag_types, frag_heights, frag_numbers, \n",
    "                            frag_ab_coeffs, frag_gammas, frag_mis,\n",
    "                            list(np.array(frag_masses)[fixed_frag_indices]), \n",
    "                            list(np.array(frag_er_coeffs)[fixed_frag_indices]), \n",
    "                            list(np.array(frag_grain_mins)[fixed_frag_indices]), \n",
    "                            list(np.array(frag_grain_maxs)[fixed_frag_indices])\n",
    "                            ]\n",
    "        \n",
    "        # load all the global parameters into the object\n",
    "        consts = dt, P_0m, h_init, m_kill, v_kill, h_kill, len_kill, rho, rho_grain, m_init, sigma, v_init, shape_factor, gamma, zenith_angle, lum_eff, lum_eff_type, erosion_height_start, erosion_bins_per_10mass, erosion_coeff, erosion_height_change, erosion_coeff_change, erosion_mass_index, erosion_mass_min, erosion_mass_max, erosion_rho_change, erosion_sigma_change, compressive_strength, disruption_erosion_coeff, disruption_mass_grain_ratio, disruption_mass_index, disruption_mass_min_ratio, disruption_mass_max_ratio\n",
    "        self.loadGlobalParameters(consts)\n",
    "\n",
    "        # get all parameters\n",
    "        self.all_params = (self.free_params, self.fixed_params)\n",
    "        \n",
    "        # self.initializeSimulation(all_params)\n",
    "        # self.initializeSimulation(const_json)\n",
    "    \n",
    "    def loadGlobalParameters(self, consts):\n",
    "            \"\"\"\n",
    "            Loads the global parameters (constants) into the object\n",
    "            \"\"\"\n",
    "            dt, P_0m, h_init, m_kill, v_kill, h_kill, len_kill, rho, rho_grain, m_init, sigma, v_init, shape_factor, gamma, zenith_angle, lum_eff, lum_eff_type, erosion_height_start, erosion_bins_per_10mass, erosion_coeff, erosion_height_change, erosion_coeff_change, erosion_mass_index, erosion_mass_min, erosion_mass_max, erosion_rho_change, erosion_sigma_change, compressive_strength, disruption_erosion_coeff, disruption_mass_grain_ratio, disruption_mass_index, disruption_mass_min_ratio, disruption_mass_max_ratio = consts\n",
    "            # load all the non-fragmentation parameters into the object\n",
    "            # 33 parameters\n",
    "            self.const.dt = dt\n",
    "            self.const.P_0m = P_0m\n",
    "            self.const.h_init = h_init\n",
    "            self.const.m_kill = m_kill\n",
    "            self.const.v_kill = v_kill\n",
    "            self.const.h_kill = h_kill\n",
    "            self.const.len_kill = len_kill\n",
    "            self.const.rho = rho\n",
    "            self.const.rho_grain = rho_grain\n",
    "            self.const.m_init = m_init\n",
    "            self.const.sigma = sigma\n",
    "            self.const.v_init = v_init\n",
    "            self.const.shape_factor = shape_factor\n",
    "            self.const.gamma = gamma\n",
    "            self.const.zenith_angle = zenith_angle\n",
    "            self.const.lum_eff = lum_eff\n",
    "            self.const.lum_eff_type = lum_eff_type\n",
    "            self.const.erosion_height_start = erosion_height_start\n",
    "            self.const.erosion_bins_per_10mass = erosion_bins_per_10mass\n",
    "            self.const.erosion_coeff = erosion_coeff\n",
    "            self.const.erosion_height_change = erosion_height_change\n",
    "            self.const.erosion_coeff_change = erosion_coeff_change\n",
    "            self.const.erosion_mass_index = erosion_mass_index\n",
    "            self.const.erosion_mass_min = erosion_mass_min\n",
    "            self.const.erosion_mass_max = erosion_mass_max\n",
    "            self.const.erosion_rho_change = erosion_rho_change\n",
    "            self.const.erosion_sigma_change = erosion_sigma_change\n",
    "            self.const.compressive_strength = compressive_strength\n",
    "            self.const.disruption_erosion_coeff = disruption_erosion_coeff\n",
    "            self.const.disruption_mass_grain_ratio = disruption_mass_grain_ratio\n",
    "            self.const.disruption_mass_index = disruption_mass_index\n",
    "            self.const.disruption_mass_min_ratio = disruption_mass_min_ratio\n",
    "            self.const.disruption_mass_max_ratio = disruption_mass_max_ratio\n",
    "\n",
    "    def initializeSimulation(self, all_params):\n",
    "            \"\"\" Run the simulation and show the results. \"\"\"\n",
    "            # If the fragmentation is turned on and no fragmentation data is given, notify the user\n",
    "            # if self.const.fragmentation_on and (self.fragmentation is None):\n",
    "            #     frag_error_message = QMessageBox(QMessageBox.Critical, \"Fragmentation file error\", \\\n",
    "            #         \"Fragmentation is enabled but no fragmentation file is set.\")\n",
    "            #     frag_error_message.setInformativeText(\"Either load an existing fragmentation file or create a new one.\")\n",
    "            #     frag_error_message.exec_()\n",
    "            #     return None   \n",
    "\n",
    "            # unpack all params\n",
    "            free_params, fixed_params = all_params\n",
    "            # unpack again\n",
    "            #### CHANGE THESE NEXT TWO LINES TO TEST DIFFERENT COMBINATIONS OF FREE PARAMETERS\n",
    "            m_init, frag_masses_free, frag_er_coeffs_free, frag_grain_mins_free, frag_grain_maxs_free = free_params \n",
    "            dt, P_0m, h_init, m_kill, v_kill, h_kill, len_kill, rho, rho_grain, sigma, v_init, shape_factor, gamma, zenith_angle, lum_eff, lum_eff_type, erosion_height_start, erosion_bins_per_10mass, erosion_coeff, erosion_height_change, erosion_coeff_change, erosion_mass_index, erosion_mass_min, erosion_mass_max, erosion_rho_change, erosion_sigma_change, compressive_strength, disruption_erosion_coeff, disruption_mass_grain_ratio, disruption_mass_index, disruption_mass_min_ratio, disruption_mass_max_ratio, frag_types, frag_heights, frag_numbers, frag_ab_coeffs, frag_gammas, frag_mis, frag_masses_fixed, frag_er_coeffs_fixed, frag_grain_mins_fixed, frag_grain_maxs_fixed = fixed_params\n",
    "            # load all the global parameters into the object\n",
    "            consts = dt, P_0m, h_init, m_kill, v_kill, h_kill, len_kill, rho, rho_grain, m_init, sigma, v_init, shape_factor, gamma, zenith_angle, lum_eff, lum_eff_type, erosion_height_start, erosion_bins_per_10mass, erosion_coeff, erosion_height_change, erosion_coeff_change, erosion_mass_index, erosion_mass_min, erosion_mass_max, erosion_rho_change, erosion_sigma_change, compressive_strength, disruption_erosion_coeff, disruption_mass_grain_ratio, disruption_mass_index, disruption_mass_min_ratio, disruption_mass_max_ratio\n",
    "            self.loadGlobalParameters(consts)\n",
    "            # combine free fixed fragmentation parameters\n",
    "            frag_order = np.argsort(self.fixed_frag_indices + self.free_frag_indices)\n",
    "            frag_masses = np.concatenate((frag_masses_fixed, frag_masses_free))[frag_order]\n",
    "            frag_er_coeffs = np.concatenate((frag_er_coeffs_fixed, frag_er_coeffs_free))[frag_order]\n",
    "            frag_grain_mins = np.concatenate((frag_grain_mins_fixed, frag_grain_mins_free))[frag_order]\n",
    "            frag_grain_maxs = np.concatenate((frag_grain_maxs_fixed, frag_grain_maxs_free))[frag_order]\n",
    "\n",
    "            # print(frag_order, np.concatenate((frag_masses_fixed, frag_masses_free)), frag_masses)\n",
    "            \n",
    "            # Load fragmentation entries\n",
    "            self.fragmentation_entries = []\n",
    "            for i in range(0, len(frag_masses)):  # pick any frag entry to iterate over\n",
    "                frag_entry = gui.FragmentationEntry(frag_types[i], frag_heights[i], frag_numbers[i], frag_masses[i], \n",
    "                                                    frag_ab_coeffs[i], frag_gammas[i], frag_er_coeffs[i], frag_grain_mins[i], frag_grain_maxs[i], frag_mis[i])\n",
    "                self.fragmentation_entries.append(frag_entry)\n",
    "            # set the fragmentation entries to constants\n",
    "            self.const.fragmentation_entries = self.fragmentation_entries\n",
    "    \n",
    "            # Sort entries by height\n",
    "            self.fragmentation.sortByHeight()\n",
    "\n",
    "            # Reset the status of all fragmentations\n",
    "            self.fragmentation.resetAll()\n",
    "        \n",
    "            # fragmentation\n",
    "            self.const.fragmentation_on = True\n",
    "\n",
    "            # print(self.const.fragmentation_on)\n",
    "    \n",
    "            # Run the simulation\n",
    "            frag_main, results_list, wake_results = erosion.runSimulation(self.const, compute_wake=self.wake_on)\n",
    "            # print(results_list)\n",
    "\n",
    "            # Store simulation results\n",
    "            self.simulation_results = gui.SimulationResults(self.const, frag_main, results_list, wake_results)\n"
   ]
  },
  {
   "cell_type": "markdown",
   "id": "7e464e84-5ada-4cab-bb54-41d6de7d00f3",
   "metadata": {},
   "source": [
    "Test with 1999 event:"
   ]
  },
  {
   "cell_type": "code",
   "execution_count": 5,
   "id": "f0419014-bad4-4c19-88ef-fba92567369f",
   "metadata": {},
   "outputs": [],
   "source": [
    "# metsim_obj_old = MetSimObj_old(traj_path='../usg_metsim_files/1999-01-14/usg_input_jan_1999.txt', \n",
    "#                        const_json_file='../usg_metsim_files/1999-01-14/usg_input_jan_1999_sim_fit_latest.json')"
   ]
  },
  {
   "cell_type": "code",
   "execution_count": 6,
   "id": "bf0e98e1-3262-489a-b8a5-002e7595cb1b",
   "metadata": {},
   "outputs": [
    {
     "name": "stderr",
     "output_type": "stream",
     "text": [
      "/home/ichow9/Thesis/physical/../../source/WesternMeteorPyLib/wmpl/MetSim/GUI.py:1559: RuntimeWarning: invalid value encountered in log10\n",
      "  data.absolute_magnitudes = -2.5*np.log10(data.usg_intensity_data[:, 1]/248)\n",
      "/home/ichow9/Thesis/physical/../../source/WesternMeteorPyLib/wmpl/MetSim/GUI.py:95: RuntimeWarning: divide by zero encountered in log10\n",
      "  self.abs_magnitude_main = -2.5*np.log10(self.luminosity_main_arr/self.const.P_0m)\n",
      "/home/ichow9/Thesis/physical/../../source/WesternMeteorPyLib/wmpl/MetSim/GUI.py:99: RuntimeWarning: divide by zero encountered in log10\n",
      "  self.abs_magnitude_eroded = -2.5*np.log10(self.luminosity_eroded_arr/self.const.P_0m)\n"
     ]
    }
   ],
   "source": [
    "FIXED_FRAG_INDICES = []\n",
    "FREE_FRAG_INDICES = [0, 1, 2, 3, 4, 5, 6, 7, 8]  # fragments with free parameters\n",
    "\n",
    "metsim_obj = MetSimObj(traj_path='../usg_metsim_files/1994-02-01/usg_input_feb_1994.txt', \n",
    "                       const_json_file='../usg_metsim_files/1994-02-01/usg_input_feb_1994_sim_fit_latest.json',\n",
    "                       fixed_frag_indices = FIXED_FRAG_INDICES,\n",
    "                       free_frag_indices = FREE_FRAG_INDICES\n",
    "                      )\n",
    "# initialize simulation, run with all parameters\n",
    "metsim_obj.initializeSimulation(metsim_obj.all_params)"
   ]
  },
  {
   "cell_type": "code",
   "execution_count": 7,
   "id": "4ace06e0-1f43-4e19-8ad4-522d6b099bdc",
   "metadata": {},
   "outputs": [
    {
     "data": {
      "text/plain": [
       "(10.0, 80.0)"
      ]
     },
     "execution_count": 7,
     "metadata": {},
     "output_type": "execute_result"
    },
    {
     "data": {
      "image/png": "[encoded data removed]",
      "text/plain": [
       "<Figure size 1200x800 with 1 Axes>"
      ]
     },
     "metadata": {},
     "output_type": "display_data"
    }
   ],
   "source": [
    "plt.figure(figsize = (12, 8))\n",
    "plt.plot(3030 * (10 ** (metsim_obj.usg_data.absolute_magnitudes/(-2.5))), metsim_obj.traj.observations[0].model_ht/1000., label = 'observed')\n",
    "plt.plot(metsim_obj.simulation_results.luminosity_arr, metsim_obj.simulation_results.leading_frag_height_arr/1000., label = 'simulated')\n",
    "plt.legend()\n",
    "plt.ylim(10., 80.)"
   ]
  },
  {
   "cell_type": "code",
   "execution_count": 8,
   "id": "b4ec2950-bcb9-4f46-aa46-c263479194e2",
   "metadata": {},
   "outputs": [],
   "source": [
    "# plt.figure(figsize = (12, 8))\n",
    "# plt.plot(metsim_obj_old.usg_data.time_data + 11.9, metsim_obj_old.usg_data.absolute_magnitudes, label = 'observed')\n",
    "# plt.plot(metsim_obj_old.simulation_results.time_arr, metsim_obj_old.simulation_results.abs_magnitude, label = 'simulated')\n",
    "# plt.legend()"
   ]
  },
  {
   "cell_type": "code",
   "execution_count": 9,
   "id": "27d01c8f-5768-4078-bc8a-2894d02f7543",
   "metadata": {},
   "outputs": [],
   "source": [
    "# plt.figure(figsize = (12, 8))\n",
    "# plt.plot(metsim_obj_old.usg_data.time_data + 11.9, 3030 * (10 ** (metsim_obj_old.usg_data.absolute_magnitudes/(-2.5))), label = 'observed')\n",
    "# plt.plot(metsim_obj_old.simulation_results.time_arr, metsim_obj_old.simulation_results.luminosity_arr, label = 'simulated')\n",
    "# plt.legend()\n",
    "# plt.plot()"
   ]
  },
  {
   "cell_type": "code",
   "execution_count": 10,
   "id": "db086e6a-7fae-45a5-93f1-0ff12951cc33",
   "metadata": {},
   "outputs": [
    {
     "data": {
      "text/plain": [
       "(16731252519886.08, 18190277101605.273)"
      ]
     },
     "execution_count": 10,
     "metadata": {},
     "output_type": "execute_result"
    }
   ],
   "source": [
    "# check observed - simulated integrated intensity\n",
    "\n",
    "obs_integrated_intensity = np.nansum(np.diff(metsim_obj.usg_data.time_data) * 3030 * (10 ** (metsim_obj.usg_data.absolute_magnitudes/(-2.5)))[1:])\n",
    "sim_integrated_intensity = np.nansum(np.diff(metsim_obj.simulation_results.time_arr) * metsim_obj.simulation_results.luminosity_arr[1:])\n",
    "\n",
    "obs_integrated_intensity, sim_integrated_intensity"
   ]
  },
  {
   "cell_type": "code",
   "execution_count": 11,
   "id": "2bdefafc-1088-472e-8e04-9cbce3cea734",
   "metadata": {},
   "outputs": [
    {
     "data": {
      "text/plain": [
       "-1459024581719.1934"
      ]
     },
     "execution_count": 11,
     "metadata": {},
     "output_type": "execute_result"
    }
   ],
   "source": [
    "obs_integrated_intensity - sim_integrated_intensity"
   ]
  },
  {
   "cell_type": "markdown",
   "id": "62355110-10f1-40ae-be7f-1f3888ec3576",
   "metadata": {},
   "source": [
    "### Optimization:"
   ]
  },
  {
   "cell_type": "markdown",
   "id": "912dc6c4-08dd-404a-a083-64212d69a1ed",
   "metadata": {},
   "source": [
    "Note that sometimes MetSim returns a simulated LC in which the height of the leading fragment increases after the end of the LC"
   ]
  },
  {
   "cell_type": "code",
   "execution_count": 12,
   "id": "e33ed660-4811-4466-bfee-5b1a65b93fa3",
   "metadata": {},
   "outputs": [],
   "source": [
    "# helper nested function to flatten a list\n",
    "\n",
    "def flatten_list(nested_list):\n",
    "    def flatten(lst):\n",
    "        for item in lst:\n",
    "            if isinstance(item, list):\n",
    "                flatten(item)\n",
    "            else:\n",
    "                flat_list.append(item)\n",
    "\n",
    "    flat_list = []\n",
    "    flatten(nested_list)\n",
    "    return flat_list\n",
    "\n",
    "# helper function to unflatten the list\n",
    "#### CHANGE THE NUMBER OF GLOBAL/FRAGMENT PARAMETERS TO TEST DIFFERENT COMBINATIONS\n",
    "def unflatten_list(lst, num_global_params=1, num_frag_params=4):\n",
    "    \"\"\"\n",
    "    change number of global parameters and frag parameters based on the structure of the free parameters object\n",
    "    passed into the get_lc_cost_function() function\n",
    "    \"\"\"\n",
    "    # print(lst[:num_global_params], list(zip(*[iter(lst[num_global_params:])]*(len(lst[num_global_params:])//num_frag_params))))\n",
    "    num_frag_params = max(1, num_frag_params)\n",
    "    return list(lst[:num_global_params]) + list(zip(*[iter(lst[num_global_params:])]*(len(lst[num_global_params:])//num_frag_params)))\n",
    "\n",
    "\n",
    "### define residuals for the optimization routine\n",
    "# TODO: make sure the two are the same size\n",
    "\n",
    "\n",
    "# def get_lc_residuals(free_params_flattened, metsim_obj):\n",
    "#     \"\"\"\n",
    "#     Gets the residuals for the integrated intensity given a flattened list of free parameters and a metsim object\n",
    "\n",
    "#     Flattened list of free parameters has the form\n",
    "#     free_params = [rho, rho_grain, m_init, sigma, *frag_masses, *frag_ab_coeffs, *frag_er_coeffs, *frag_grain_mins, *frag_grain_maxs]\n",
    "\n",
    "#     Global parameters:\n",
    "#     rho: float\n",
    "#     rho_grain: float\n",
    "#     m_init: float\n",
    "#     sigma: float\n",
    "\n",
    "#     Fragment parameters (for n total fragments):\n",
    "#     *frag_masses: n fragment masses\n",
    "#     *frag_ab_coeffs: n ablation coefficients\n",
    "#     *frag_er_coeffs: n erosion coefficients\n",
    "#     *frag_grain_mins: n grain mins\n",
    "#     *frag_grain_maxs: n grain maxs\n",
    "#     \"\"\"\n",
    "#     # observed integrated intensity, this doesn't change\n",
    "#     obs_integrated_intensity = np.nansum(np.diff(metsim_obj.usg_data.time_data) * \n",
    "#                                          3030 * (10 ** (metsim_obj.usg_data.absolute_magnitudes/(-2.5)))[1:])\n",
    "#     # compute the simulated integrated intensity for the given set of free parameters\n",
    "#     # unflatten the list of free parameters to pass into the initializeSimulation() function\n",
    "#     free_params = unflatten_list(free_params_flattened)\n",
    "#     # construct all params to pass into intiializeSimulation function\n",
    "#     all_params = (free_params, metsim_obj.fixed_params)  # set of all params to use\n",
    "#     # run simulation\n",
    "#     metsim_obj.initializeSimulation(all_params)\n",
    "    \n",
    "#     # get simulated integrated intensity\n",
    "#     sim_integrated_intensity = np.nansum(np.diff(metsim_obj.simulation_results.time_arr) * \n",
    "#                                          metsim_obj.simulation_results.luminosity_arr[1:])\n",
    "#     # return the difference between the two\n",
    "#     return (obs_integrated_intensity - sim_integrated_intensity)\n",
    "\n",
    "### get the simulated light curve for a given set of free parameters and metsim object\n",
    "\n",
    "def sim_lc(flattened_free_params, metsim_obj):\n",
    "    \"\"\"\n",
    "    Same format as function below\n",
    "    \"\"\"\n",
    "    # compute the simulated integrated intensity for the given set of free parameters\n",
    "    # unflatten the list of free parameters to pass into the initializeSimulation() function\n",
    "    free_params = unflatten_list(flattened_free_params)\n",
    "    # construct all params to pass into intiializeSimulation function\n",
    "    # print(free_params)\n",
    "    all_params = (free_params, metsim_obj.fixed_params)  # set of all params to use\n",
    "    # run simulation on the object, copying it\n",
    "    # obj_copy = copy.copy(metsim_obj)\n",
    "    # obj_copy.initializeSimulation(all_params)\n",
    "    metsim_obj.initializeSimulation(all_params)\n",
    "    # return the simulation results\n",
    "    # return obj_copy.simulation_results\n",
    "    return metsim_obj.simulation_results\n",
    "\n",
    "\n",
    "### define cost function for the opitmization routine\n",
    "\n",
    "def get_lc_cost_function(flattened_free_params, metsim_obj, pso=False):\n",
    "    \"\"\"\n",
    "    Gets the residuals for the integrated intensity given\n",
    "    a metsim object and a list/tuple of an initial guess of free parameters\n",
    "    \n",
    "    metsim_obj is an MetSim() object\n",
    "    flattened_free_params is an initial guess flattened list of free parameters with the form\n",
    "    flattened_free_params = [rho, rho_grain, m_init, sigma, *frag_masses, \n",
    "    *frag_ab_coeffs, *frag_er_coeffs, *frag_grain_mins, *frag_grain_maxs]\n",
    "    pso is a boolean for if pso is being used\n",
    "\n",
    "    Global parameters:\n",
    "    rho: float\n",
    "    rho_grain: float\n",
    "    m_init: float\n",
    "    sigma: float\n",
    "\n",
    "    Fragment parameters (for n total fragments):\n",
    "    *frag_masses: n fragment masses\n",
    "    *frag_ab_coeffs: n ablation coefficients\n",
    "    *frag_er_coeffs: n - nd erosion coefficients where nd is the number of dust fragments\n",
    "    (as dust fragments do not have a nassociated erosion coefficient)\n",
    "    *frag_grain_mins: n grain mins\n",
    "    *frag_grain_maxs: n grain maxs\n",
    "    \"\"\"\n",
    "    # print(f'parameters: {flattened_free_params}')\n",
    "    # observed LC intensity, this doesn't change\n",
    "    obs_lc_intensity = 3030 * (10 ** (metsim_obj.usg_data.absolute_magnitudes/(-2.5)))\n",
    "\n",
    "    # get simulated LC intensity onthe object\n",
    "    # flatten if pso is being used\n",
    "    if pso:\n",
    "        flattened_free_params = flattened_free_params.flatten()\n",
    "    simulation_results = sim_lc(flattened_free_params, metsim_obj)\n",
    "    # compute simulated LC intensity\n",
    "    # find where height starts increasing if it does at any point\n",
    "    # print(np.diff(simulation_results.leading_frag_height_arr))\n",
    "    if np.sum(np.diff(simulation_results.leading_frag_height_arr) > 0) > 0:\n",
    "        first_increasing_height_arr = np.where(np.diff(simulation_results.leading_frag_height_arr) > 0)[0][0] - 1\n",
    "        # print('increasing height')\n",
    "    else:\n",
    "        first_increasing_height_arr = -1\n",
    "    # interpolate to make sure they are the same length and discard points after height starts increasing if it does at any point\n",
    "    simulated_lc_intensity = np.interp(metsim_obj.traj.observations[0].model_ht, \n",
    "                                       np.flip(simulation_results.leading_frag_height_arr[:first_increasing_height_arr]), \n",
    "                                       np.flip(simulation_results.luminosity_arr[:first_increasing_height_arr]))\n",
    "    # return the negative log-likelihood (negative residual sum of square difference between the two)\n",
    "    # assuming there is no error for the observed LC data\n",
    "    # print(len(obs_lc_intensity), len(simulated_lc_intensity))\n",
    "    log_likelihood = (-1/2 * np.nansum((obs_lc_intensity - simulated_lc_intensity) ** 2))/1e24  # scale this\n",
    "    # print(f'negative logL: {-log_likelihood}')\n",
    "    # negative log lieklihood\n",
    "    return -log_likelihood"
   ]
  },
  {
   "cell_type": "markdown",
   "id": "89868ec0-f438-46a1-877a-fe388fe3e85c",
   "metadata": {},
   "source": [
    "Also need to make sure that the loss function to minimize (currently computed as the **negative** log-likelihood equivalent to negative RSS/$\\chi^2$) is correct, since if there are errors then these need to be accounted for in the computation of the loss function\n",
    "\n",
    "Also probably want to make `sim_lc` returns the interpolated LC:"
   ]
  },
  {
   "cell_type": "markdown",
   "id": "72731301-b213-4ab4-a9c8-26e6d90a003b",
   "metadata": {},
   "source": [
    "Test to make sure changing the parameters affects the logL and the LCs:"
   ]
  },
  {
   "cell_type": "code",
   "execution_count": 13,
   "id": "cdd4a37a-ffd6-4e03-a883-15a3450e203d",
   "metadata": {},
   "outputs": [],
   "source": [
    "### USE FOLLOWING LINE TO SAVE NEW SET OF TEST PARAMETERS WHEN TESTING DIFFERENT COMBINATIONS OF PARAMETERS\n",
    "# np.save('initial_guess_1994_TEST.npy', np.array(flatten_list(metsim_obj.free_params)))\n",
    "### and to save\n",
    "# np.save('initial_guess_1994_TEST_edited.npy', pos)"
   ]
  },
  {
   "cell_type": "code",
   "execution_count": 14,
   "id": "04c43c1e-24d5-40ec-8bbb-e767b830e27c",
   "metadata": {},
   "outputs": [
    {
     "data": {
      "text/plain": [
       "207.21654466187798"
      ]
     },
     "execution_count": 14,
     "metadata": {},
     "output_type": "execute_result"
    }
   ],
   "source": [
    "initial_guess = np.load('initial_guess_1994_TEST_edited.npy')  # initial pre-saved guess\n",
    "# initial_guess\n",
    "\n",
    "lamb_func = lambda free_params_flattened: get_lc_cost_function(free_params_flattened, metsim_obj=metsim_obj, pso=False)\n",
    "lamb_func(initial_guess)"
   ]
  },
  {
   "cell_type": "code",
   "execution_count": 15,
   "id": "c6ad4661-2de7-48bc-90f0-b3cda7787719",
   "metadata": {},
   "outputs": [],
   "source": [
    "#### USE THIS TO TEST DIFFERENT COMBINATIONS OF TEST PARAMETERS\n",
    "\n",
    "initial_guess_mod = initial_guess.copy()\n",
    "# fiddle with global mass\n",
    "initial_guess_mod[0] = initial_guess[0]\n",
    "# fiddle with frag masses\n",
    "initial_guess_mod = initial_guess + [0., # total mass\n",
    "                                     0., 0., 0., 0., 0., 0., 0., 0., 0.,  # frag mass pcts\n",
    "                                     0., 0., 0., 0., 0., 0., 0., 0., 1.e-8, # erosion coeffs\n",
    "                                     0., 0., 0., 0., 0., 0., 0., 0., 0., # grain mins\n",
    "                                     0., 0., 0., 0., 0., 0., 0., 0., 0.  # grain maxs\n",
    "                                    ] \n",
    "# initial_guess_mod = initial_guess + np.zeros(1 + 4 * len(FREE_FRAG_INDICES))"
   ]
  },
  {
   "cell_type": "code",
   "execution_count": 16,
   "id": "c542e755-3e77-4b50-8884-fa71bb114d69",
   "metadata": {},
   "outputs": [
    {
     "data": {
      "text/plain": [
       "258.13287207015304"
      ]
     },
     "execution_count": 16,
     "metadata": {},
     "output_type": "execute_result"
    }
   ],
   "source": [
    "lamb_func(initial_guess_mod)"
   ]
  },
  {
   "cell_type": "code",
   "execution_count": 17,
   "id": "0a2b6056-b3b2-4f68-9575-96c3dc07e31c",
   "metadata": {},
   "outputs": [],
   "source": [
    "results_initial = sim_lc(initial_guess, metsim_obj)\n",
    "results_initial_mod = sim_lc(initial_guess_mod, metsim_obj)"
   ]
  },
  {
   "cell_type": "code",
   "execution_count": 18,
   "id": "1a2ad309-e1b0-4f7c-94da-3a5bfe29b49a",
   "metadata": {},
   "outputs": [
    {
     "data": {
      "text/plain": [
       "<matplotlib.legend.Legend at 0x7fba23b83910>"
      ]
     },
     "execution_count": 18,
     "metadata": {},
     "output_type": "execute_result"
    },
    {
     "data": {
      "image/png": "[encoded data removed]",
      "text/plain": [
       "<Figure size 1200x800 with 1 Axes>"
      ]
     },
     "metadata": {},
     "output_type": "display_data"
    }
   ],
   "source": [
    "plt.figure(figsize = (12, 8))\n",
    "plt.plot(results_initial.luminosity_arr, results_initial.leading_frag_height_arr/1000., label = 'leading simulated')\n",
    "# plt.plot(results_bf.luminosity_arr, results_bf.leading_frag_height_arr/1000., label = 'best fit')\n",
    "# plt.plot(interpolated_bf_intensity, metsim_obj.traj.observations[0].model_ht/1000., label = 'best fit')\n",
    "plt.plot(results_initial_mod.luminosity_arr, results_initial_mod.leading_frag_height_arr/1000., label = 'leading simulated mod')\n",
    "plt.ylim(10., 80.)\n",
    "plt.legend()"
   ]
  },
  {
   "cell_type": "markdown",
   "id": "057fa4a0-49f2-46ab-abfe-78a84936b058",
   "metadata": {},
   "source": [
    "Compute observed LC and simulated initial guess:"
   ]
  },
  {
   "cell_type": "code",
   "execution_count": 19,
   "id": "4695d136-8e69-48cb-9d7c-3b6c360c5b19",
   "metadata": {},
   "outputs": [],
   "source": [
    "# observed LC intensity\n",
    "obs_lc_intensity = 3030 * (10 ** (metsim_obj.usg_data.absolute_magnitudes/(-2.5)))\n",
    "# simulated LC intensities\n",
    "# initial\n",
    "results_initial = sim_lc(initial_guess, metsim_obj)"
   ]
  },
  {
   "cell_type": "markdown",
   "id": "cfe3cce5-230f-4540-93d0-412c953d50d4",
   "metadata": {},
   "source": [
    "Plot simulated initial guess versus observed magnitudes and intensities:"
   ]
  },
  {
   "cell_type": "code",
   "execution_count": 20,
   "id": "9313bf8b-3013-4db5-83b5-a4ca0315ba04",
   "metadata": {},
   "outputs": [
    {
     "data": {
      "text/plain": [
       "<matplotlib.legend.Legend at 0x7fba2e2fd390>"
      ]
     },
     "execution_count": 20,
     "metadata": {},
     "output_type": "execute_result"
    },
    {
     "data": {
      "image/png": "[encoded data removed]",
      "text/plain": [
       "<Figure size 1200x800 with 1 Axes>"
      ]
     },
     "metadata": {},
     "output_type": "display_data"
    }
   ],
   "source": [
    "plt.figure(figsize = (12, 8))\n",
    "plt.plot(results_initial.abs_magnitude, results_initial.leading_frag_height_arr/1000., label = 'leading simulated')\n",
    "plt.plot(metsim_obj.usg_data.absolute_magnitudes, metsim_obj.traj.observations[0].model_ht/1000., label = 'observed')\n",
    "plt.ylim(10., 80.)\n",
    "plt.legend()"
   ]
  },
  {
   "cell_type": "code",
   "execution_count": 21,
   "id": "61ed54fc-059f-4440-9ddb-46879940c677",
   "metadata": {},
   "outputs": [
    {
     "data": {
      "text/plain": [
       "<matplotlib.legend.Legend at 0x7fba233e3280>"
      ]
     },
     "execution_count": 21,
     "metadata": {},
     "output_type": "execute_result"
    },
    {
     "data": {
      "image/png": "[encoded data removed]",
      "text/plain": [
       "<Figure size 1200x800 with 1 Axes>"
      ]
     },
     "metadata": {},
     "output_type": "display_data"
    }
   ],
   "source": [
    "plt.figure(figsize = (12, 8))\n",
    "# plt.plot(results_initial.luminosity_arr, results_initial.main_height_arr/1000., label = 'main')\n",
    "# plt.plot(results_initial.luminosity_arr, results_initial.brightest_height_arr/1000., label = 'brightest')\n",
    "plt.plot(results_initial.luminosity_arr, results_initial.leading_frag_height_arr/1000., label = 'leading simulated')\n",
    "plt.plot(obs_lc_intensity, metsim_obj.traj.observations[0].model_ht/1000., label = 'observed')\n",
    "plt.ylim(10., 80.)\n",
    "plt.legend()"
   ]
  },
  {
   "cell_type": "markdown",
   "id": "f2c59f91-3f57-4e55-82a8-d57da92affad",
   "metadata": {},
   "source": [
    "Run optimization:"
   ]
  },
  {
   "cell_type": "markdown",
   "id": "e9b4aa8a-f3b5-4b40-92d0-fb63ba59a592",
   "metadata": {},
   "source": [
    "    flattened_free_params is an initial guess flattened list of free parameters with the form\n",
    "    flattened_free_params = [m_init, *frag_masses, *frag_er_coeffs, *frag_grain_mins, *frag_grain_maxs]\n",
    "\n",
    "    Global parameters:\n",
    "    m_init: float --> (1e4, 1e7) # wide range for initialm ass\n",
    "\n",
    "    Fragment parameters (for n total fragments):\n",
    "    *frag_masses: n fragment masses --> (0, 100) %\n",
    "    *frag_er_coeffs: n erosion coefficients --> (0.23, 6) for eroding fragments based on danielle's cases\n",
    "                                                 0 for dust also based on danielle\n",
    "    *frag_grain_mins: n grain mins --> (1e-8, 1e-2) for eroding fragments (use same for dust) based on danielle\n",
    "    *frag_grain_maxs: n grain maxs --> (5e-7, 5e0) for eroding fragments (use same for dust) based on danielle"
   ]
  },
  {
   "cell_type": "code",
   "execution_count": 22,
   "id": "93e29fcf-8b66-483d-98d6-93460f7dac95",
   "metadata": {},
   "outputs": [],
   "source": [
    "# Generate the tuples based on the length of free fragments\n",
    "fragmentation_count = len(FREE_FRAG_INDICES)\n",
    "# Fragment mass percents\n",
    "frag_mass_percents = tuple((0., 100.) for _ in range(fragmentation_count))\n",
    "# Frag ablation coeffs\n",
    "# these are 0.01 for dust and between (0.002 * 1e-6, 0.025 * 1e-6) for eroding fragments\n",
    "# frag_ablation_coeffs = tuple((0.002 * 1e-6, 0.025 * 1e-6) for _ in range(fragmentation_count))\n",
    "# frag_ablation_coeffs = tuple([(0.01 * 1e-6, 0.01 * 1e-6) if entry.frag_type == 'D'\n",
    "#                               else (0.002 * 1e-6, 0.025 * 1e-6) for entry in metsim_obj.fragmentation_entries])\n",
    "# Frag erosion coeffs\n",
    "# these are fixed at zero for dust and between (0.23 * 1e-6, 6.0 * 1e-6) for eroding fragments\n",
    "# frag_erosion_coeffs = tuple([(0., 0.) if entry.frag_type == 'D' \n",
    "#                              else (0.23 * 1e-6, 6.0 * 1e-6) for entry in metsim_obj.fragmentation_entries])\n",
    "# keep lower bound above 0.1e6 because that's where the initial guess is\n",
    "frag_erosion_coeffs = tuple([(0., 0.) if entry.frag_type == 'D' \n",
    "                             else (0.05 * 1e-6, 2.0 * 1e-6) for entry in \n",
    "                             [metsim_obj.fragmentation_entries[i] for i in FREE_FRAG_INDICES]])\n",
    "# frag_erosion_coeffs = tuple((0.23 * 1e-6, 6.0 * 1e-6) for _ in range(fragmentation_count))\n",
    "# Frag grain mins\n",
    "# frag_grain_mins = tuple((1e-8, 1e-2) for _ in range(fragmentation_count))\n",
    "frag_grain_mins = tuple((1e-3, 1e1) for _ in range(fragmentation_count))\n",
    "# Frag grain maxs\n",
    "frag_grain_maxs = tuple((1e-2, 1e2) for _ in range(fragmentation_count))\n",
    "# Combine them into a single flat tuple\n",
    "#### CHANGE THE RESULTS/BOUNDS DEPENDING ON WHAT COMBINATION IS BEING USED!\n",
    "result = frag_mass_percents + frag_erosion_coeffs + frag_grain_mins + frag_grain_maxs\n",
    "# Print the result to check the output\n",
    "bounds = ((1.e4, 1.e7), ) + result\n",
    "\n",
    "# run optimization routine\n",
    "\n",
    "# constraints\n",
    "# def apply_mass_constraint(flattened_free_params):\n",
    "#     \"\"\"\n",
    "#     Restrict grain max to be greater than grain min, otherwise MetSim crashes\n",
    "#     \"\"\"\n",
    "#     unflattened_list = unflatten_list(flattened_free_params)\n",
    "#     frag_grain_mins = unflattened_list[-2]  # get grain mins\n",
    "#     frag_grain_maxs = unflattened_list[-1]   # get grain maxs\n",
    "#     ## EQUALITY\n",
    "#     # return 0 if optimizer should accept as valid value, return 1 if it should reject\n",
    "#     return np.sum(list(map(lambda min, max: min > max, frag_grain_mins, frag_grain_maxs)))\n",
    "#     ## INEQUALITY\n",
    "#     # return -np.sum(list(map(lambda min, max: min > max, frag_grain_mins, frag_grain_maxs)))\n",
    "\n",
    "# mass_constraint = ({'type': 'eq', \"fun\": lambda flattened_free_params[})\n",
    "\n",
    "#### ADD MASS CONSTRAINTS IF GRAIN MIN/MAX IS BEING USED IN THE COMBINATIONS!\n",
    "# generate mass constraints\n",
    "mass_constraints = []\n",
    "# for each fragment, impose constraint that the fragment grain min (position -2) must be less than the fragment grain max (position -1)\n",
    "for i in range(len(unflatten_list(initial_guess)[-1])):\n",
    "    mass_constraints.append({'type': 'eq', \n",
    "                             \"fun\": lambda free_params_flattened: \n",
    "                             int(unflatten_list(free_params_flattened)[-2][i] > unflatten_list(free_params_flattened)[-1][i])})"
   ]
  },
  {
   "cell_type": "markdown",
   "id": "b72a6682-ef18-4ade-9699-f15078fc4947",
   "metadata": {},
   "source": [
    "Run optimization:"
   ]
  },
  {
   "cell_type": "code",
   "execution_count": 23,
   "id": "d28702c3-8f0c-4811-a798-348b1dc9c90a",
   "metadata": {},
   "outputs": [],
   "source": [
    "#### PSO OPTIMIZATION:\n",
    "import pyswarms as ps\n",
    "from pyswarms.utils.plotters import plot_cost_history\n",
    "import warnings\n",
    "\n",
    "def get_lc_cost_function_single_particle(particle, pso, metsim_obj=metsim_obj):\n",
    "    \"\"\"\n",
    "    hacky fix to ensure that grain min cannot be greater than grain max\n",
    "    \"\"\"\n",
    "    for i in range(len(FREE_FRAG_INDICES)):\n",
    "        # start indexing at -1 - n_frags * 2, which is the start of where the grain mins are stored\n",
    "        # and compare to the corresponding grain max\n",
    "        # since they are stored in \"particle\" as \n",
    "        # [..., min_1, min_2, .... min_n, max_1, max_2, .... max_n]\n",
    "        if particle[-len(FREE_FRAG_INDICES) * 2 - 1:][i] > particle[-len(FREE_FRAG_INDICES) * 2 - 1:][i + len(FREE_FRAG_INDICES)]:\n",
    "            # set grain min equal to grain max if it's too large\n",
    "            particle[-len(FREE_FRAG_INDICES) * 2 - 1:][i] = particle[-len(FREE_FRAG_INDICES) * 2 - 1:][i + len(FREE_FRAG_INDICES)]\n",
    "    # get cost function\n",
    "    return get_lc_cost_function(particle, metsim_obj, pso)\n",
    "\n",
    "def get_lc_cost_function_pso(free_params_flattened_all_particles, pso, timeout=10.):\n",
    "    n_particles = len(free_params_flattened_all_particles)\n",
    "    # # pool\n",
    "    # pool = multiprocessing.Pool()\n",
    "    # # multiprocess\n",
    "    # costs = np.array(pool.starmap(get_lc_cost_function_single_particle, \n",
    "    #                               zip(free_params_flattened_all_particles, \n",
    "    #                                   np.repeat(pso, n_particles),\n",
    "    #                                   # np.repeat(metsim_obj, n_particles)\n",
    "    #                                  )\n",
    "    #                              )\n",
    "    #                 )\n",
    "\n",
    "    costs = []\n",
    "    bad_inputs = []\n",
    "    # pool \n",
    "    inputs_list = list(zip(free_params_flattened_all_particles, np.repeat(pso, n_particles)))\n",
    "    with multiprocessing.Pool(processes=pso_particles) as pool:\n",
    "        async_results = [pool.apply_async(get_lc_cost_function_single_particle, args=inputs) \n",
    "                         for inputs in inputs_list]\n",
    "        for i, async_result in enumerate(async_results):\n",
    "            try:\n",
    "                result = async_result.get(timeout=timeout)\n",
    "            except multiprocessing.TimeoutError:\n",
    "                bad_inputs.append(inputs_list[i][0])  # record bad inputs\n",
    "                warnings.warn(f'Timed out for input {i}', RuntimeWarning)  # return warning\n",
    "                result = np.inf  # junk the input with np.inf\n",
    "            costs.append(result)\n",
    "    # save array of bad inputs\n",
    "    np.save('bad_inputs.npy', np.array(bad_inputs))\n",
    "    # return\n",
    "    return np.array(costs)\n",
    "    \n",
    "    # for particle in free_params_flattened_all_particles:\n",
    "    #     # hacky fix\n",
    "    #     if particle[-2] > particle[-1]:\n",
    "    #         costs.append(np.inf)\n",
    "    #     else:\n",
    "    #         costs.append(get_lc_cost_function(particle, metsim_obj, pso))\n",
    "    # # return\n",
    "    # return costs\n",
    "\n",
    "    # total_cost = 0\n",
    "    # for particle in free_params_flattened_all_particles:\n",
    "    #     # hacky fix to stop metsim from crashing if grain min > grain max\n",
    "    #     if particle[-2] > particle[-1]:\n",
    "    #         return np.inf\n",
    "    #     # total cost\n",
    "    #     else:\n",
    "    #         total_cost += get_lc_cost_function(particle, metsim_obj, pso)\n",
    "    # return total_cost\n",
    "\n",
    "### Only fit parameters of fragmentation processes which are used ###\n",
    "# bounds = []\n",
    "pso_iterations = 50\n",
    "pso_particles = multiprocessing.cpu_count() - 1\n",
    "\n",
    "# # Set up hyperparameters\n",
    "# options = {'c1': 0.6, 'c2': 0.3, 'w': 0.9}  # global\n",
    "options = {'c1': 0.6, 'c2': 0.3, 'w': 0.9, 'k': 10, 'p': 1}  # local\n",
    "bounds_pso = tuple(np.array(bounds).T)\n",
    "initial_guess_pso = initial_guess.reshape(1, len(initial_guess))\n",
    "\n",
    "# generate particles in a gaussian ball around the initial guess\n",
    "cov_factor = 1e-3\n",
    "\n",
    "cov = np.float64(np.diag(np.ones(len(initial_guess_pso.T)) * (initial_guess ** 2)))# + 1.e-16)\n",
    "rng = np.random.default_rng(seed=1234)\n",
    "### SVD DOESN'T WORK\n",
    "### cholesky also doesn't work with exactly zero eigenvalues but does when adding epsilon to the covariance matrix\n",
    "### eigendecomposition seems to always work here...\n",
    "init_pos = rng.multivariate_normal(initial_guess_pso.flatten(), cov * cov_factor, size = pso_particles, method='eigh')  # clip in case some of the starting positions are beyond the bounds\n",
    "init_pos = np.clip(init_pos, *bounds_pso)\n",
    "\n",
    "# check cost function on all the initial particles\n",
    "# for pos in init_pos:\n",
    "#     print(get_lc_cost_function_pso(pos, metsim_obj=metsim_obj, pso=False))\n",
    "\n",
    "# ### HOW METSIM DOES IT:\n",
    "# # Normalize the fit parameters to the [0, 1] range\n",
    "# mini_norm_handle = gui.MinimizationParameterNormalization(initial_guess)\n",
    "# p0_normed, bounds_normed = mini_norm_handle.normalizeBounds(bounds)\n",
    "\n",
    "# # Set up bounds (min, max) are (0, 1)\n",
    "# pso_bounds = (np.zeros(len(p0_normed)), np.ones(len(p0_normed)))\n",
    "\n",
    "# # Create particles in a tight Gaussian around the initial parameters\n",
    "# init_pos = np.random.normal(loc=p0_normed, scale=0.2 + np.zeros_like(p0_normed), \n",
    "#                             size=(pso_particles - 1, len(p0_normed)))\n",
    "# init_pos[init_pos < 0] = abs(init_pos[init_pos < 0])\n",
    "# init_pos[init_pos > 1] = 1 - init_pos[init_pos > 1] + 1\n",
    "\n",
    "# # Add manual fit to initial positions\n",
    "# init_pos = np.append(init_pos, np.array([p0_normed]), axis=0)"
   ]
  },
  {
   "cell_type": "code",
   "execution_count": 24,
   "id": "53c31d67-7aa2-4c02-ae5f-e3f8c2500b54",
   "metadata": {},
   "outputs": [
    {
     "data": {
      "text/plain": [
       "(5e-08, 2e-06)"
      ]
     },
     "execution_count": 24,
     "metadata": {},
     "output_type": "execute_result"
    },
    {
     "data": {
      "image/png": "[encoded data removed]",
      "text/plain": [
       "<Figure size 640x480 with 1 Axes>"
      ]
     },
     "metadata": {},
     "output_type": "display_data"
    }
   ],
   "source": [
    "ind=18\n",
    "\n",
    "plt.hist(init_pos[:, ind])\n",
    "# plt.axvline(bounds[ind][0], bounds[ind][1])\n",
    "plt.xlim(bounds[ind][0], bounds[ind][1])"
   ]
  },
  {
   "cell_type": "markdown",
   "id": "941eb513-aa8b-461d-b032-e49b1a71fb60",
   "metadata": {},
   "source": [
    "Note: MetSim sometimes crashes on the ablation `RK4` lines (ablation, erosion, deceleration) because frag.m, rho_atm, frag.v look like: 1.5729692216566772e-06 nan 2.690635176829898e+74... bypassing this using a try-except block setting ablation/erosion/deceleration to 0 in a hacky way so it times out eventually"
   ]
  },
  {
   "cell_type": "code",
   "execution_count": null,
   "id": "76fcb982-fb91-4fc3-8add-28779b8b10f5",
   "metadata": {},
   "outputs": [
    {
     "name": "stderr",
     "output_type": "stream",
     "text": [
      "2024-11-04 13:24:07,650 - pyswarms.single.local_best - INFO - Optimize for 50 iters with {'c1': 0.6, 'c2': 0.3, 'w': 0.9, 'k': 10, 'p': 1}\n",
      "pyswarms.single.local_best:   0%|                                                                                                                                                                           |0/50/tmp/ipykernel_234555/543080829.py:46: RuntimeWarning: Timed out for input 3\n",
      "  warnings.warn(f'Timed out for input {i}', RuntimeWarning)  # return warning\n",
      "/tmp/ipykernel_234555/543080829.py:46: RuntimeWarning: Timed out for input 43\n",
      "  warnings.warn(f'Timed out for input {i}', RuntimeWarning)  # return warning\n",
      "pyswarms.single.local_best:  50%|█████████████████████████████████████████████████████████████████████████████▌                                                                             |25/50, best_cost=208"
     ]
    }
   ],
   "source": [
    "optimizer = ps.single.LocalBestPSO(n_particles=pso_particles, \n",
    "                                    dimensions=len(initial_guess), \n",
    "                                    options=options, \n",
    "                                    bounds=bounds_pso,\n",
    "                                    bh_strategy='shrink',\n",
    "                                    vh_strategy='invert',\n",
    "                                    init_pos=init_pos\n",
    "                                   )\n",
    "\n",
    "cost, pos = optimizer.optimize(get_lc_cost_function_pso,\n",
    "                               iters=pso_iterations, \n",
    "                               # n_processes = multiprocessing.cpu_count() - 1,\n",
    "                               pso=True,\n",
    "                               # metsim_obj=metsim_obj\n",
    "                              )"
   ]
  },
  {
   "cell_type": "code",
   "execution_count": null,
   "id": "c748325b-fd4a-45b6-bd36-b0e6eae913cc",
   "metadata": {},
   "outputs": [],
   "source": [
    "initial_guess, pos"
   ]
  },
  {
   "cell_type": "code",
   "execution_count": null,
   "id": "653ce59e-854b-455b-991f-bb306ee77bbb",
   "metadata": {},
   "outputs": [],
   "source": [
    "lamb_func(initial_guess), get_lc_cost_function_single_particle(pos, True)"
   ]
  },
  {
   "cell_type": "code",
   "execution_count": null,
   "id": "017c327f-7a4d-4c54-a63f-a4968d2630ef",
   "metadata": {},
   "outputs": [],
   "source": [
    "# # Call instance of PSO with bounds argument\n",
    "# optimizer = ps.single.LocalBestPSO(n_particles=pso_particles, dimensions=len(p0_normed), \\\n",
    "#     options=options, bounds=pso_bounds, bh_strategy='reflective', vh_strategy='invert', \\\n",
    "#     init_pos=init_pos)"
   ]
  },
  {
   "cell_type": "code",
   "execution_count": null,
   "id": "ee4dfca3-2b6e-43d6-a953-8043ce73ba17",
   "metadata": {},
   "outputs": [],
   "source": [
    "# # Run PSO\n",
    "# cost, pos = optimizer.optimize(gui.fitResidualsListArguments, iters=pso_iterations, \\\n",
    "#     n_processes=multiprocessing.cpu_count() - 1, fit_input_data=fit_input_data, param_string=param_string, \\\n",
    "#     const_original=const, traj=self.traj, mini_norm_handle=mini_norm_handle, \\\n",
    "#     mag_weight=self.autofit_mag_weight, lag_weights=self.autofit_lag_weights, \\\n",
    "#     lag_weight_ht_change=self.autofit_lag_weight_ht_change, verbose=False)\n",
    "\n",
    "# print(cost, pos)"
   ]
  },
  {
   "cell_type": "code",
   "execution_count": null,
   "id": "8b8ca7d6-00ac-4258-921a-d950b7333a7a",
   "metadata": {},
   "outputs": [],
   "source": [
    "# best_fit = scipy.optimize.minimize(fun=lambda free_params_flattened: \n",
    "#                                    get_lc_cost_function(free_params_flattened, metsim_obj=metsim_obj, pso=False),\n",
    "#                                    x0=initial_guess_mod, \n",
    "#                                    method='trust-constr',\n",
    "#                                    # method='L-BFGS-B',\n",
    "#                                    # method='SLSQP',\n",
    "#                                    # method='BFGS',\n",
    "#                                    # method='Nelder-Mead',\n",
    "#                                    bounds=bounds, \n",
    "#                                    options={'verbose': 2, \n",
    "#                                             'maxiter': 50, \n",
    "#                                             # 'gtol': 9e-1\n",
    "#                                             # 'return_all': True,\n",
    "#                                            },\n",
    "#                                    constraints=mass_constraints, \n",
    "#                                    # callback=MinimizeStopper()\n",
    "#                                   )#, options={'maxiter': 1e5})"
   ]
  },
  {
   "cell_type": "code",
   "execution_count": null,
   "id": "e8e94f4b-b93a-434f-a857-a2367a7162ca",
   "metadata": {},
   "outputs": [],
   "source": [
    "# best_fit"
   ]
  },
  {
   "cell_type": "code",
   "execution_count": null,
   "id": "e8e43ec0-5b54-42cb-bb62-ca01baa1fcb3",
   "metadata": {},
   "outputs": [],
   "source": [
    "# initial_guess, initial_guess_mod, best_fit.x"
   ]
  },
  {
   "cell_type": "code",
   "execution_count": null,
   "id": "06ee38a4-eacc-4311-97ab-1933112cffb9",
   "metadata": {},
   "outputs": [],
   "source": [
    "# np.save('best_fit_1994_mod_start.npy', best_fit)"
   ]
  },
  {
   "cell_type": "markdown",
   "id": "e25bca29-413f-4376-aaa6-5d0ca2fd60b8",
   "metadata": {},
   "source": [
    "Compare original LC to simulated LCs with the initial guess and the best-fit guess:"
   ]
  },
  {
   "cell_type": "code",
   "execution_count": null,
   "id": "320b0ec7-6b24-42f5-a72c-c6a03d55a380",
   "metadata": {},
   "outputs": [],
   "source": [
    "results_initial = sim_lc(initial_guess, metsim_obj)"
   ]
  },
  {
   "cell_type": "code",
   "execution_count": null,
   "id": "617fa7d8-fcbb-40d0-8c14-fe1101756a55",
   "metadata": {},
   "outputs": [],
   "source": [
    "# best fit\n",
    "results_bf = sim_lc(pos, metsim_obj)"
   ]
  },
  {
   "cell_type": "markdown",
   "id": "ffeec9ad-c406-4689-ab56-7db1c48431e2",
   "metadata": {},
   "source": [
    "Plot:"
   ]
  },
  {
   "cell_type": "code",
   "execution_count": null,
   "id": "5a72af40-e012-40d6-b878-bfc7af20b368",
   "metadata": {},
   "outputs": [],
   "source": [
    "plt.figure(figsize = (12, 8))\n",
    "plt.plot(obs_lc_intensity, metsim_obj.traj.observations[0].model_ht/1000., label = 'observed', color='dodgerblue')\n",
    "# interpolate the results initial and results leading frag heights\n",
    "if np.sum(np.diff(results_initial.leading_frag_height_arr) > 0) > 0:\n",
    "    first_increasing_height_arr = np.where(np.diff(results_initial.leading_frag_height_arr) > 0)[0][0] - 1\n",
    "else:\n",
    "    first_increasing_height_arr = -1\n",
    "interpolated_initial_int = np.interp(metsim_obj.traj.observations[0].model_ht, \n",
    "          np.flip(results_initial.leading_frag_height_arr[:first_increasing_height_arr]), \n",
    "          np.flip(results_initial.luminosity_arr[:first_increasing_height_arr]))\n",
    "if np.sum(np.diff(results_bf.leading_frag_height_arr) > 0) > 0:\n",
    "    first_increasing_height_arr_bf = np.where(np.diff(results_bf.leading_frag_height_arr) > 0)[0][0] - 1\n",
    "    # print('increasing height')\n",
    "else:\n",
    "    first_increasing_height_arr_bf = -1\n",
    "interpolated_bf_int = np.interp(metsim_obj.traj.observations[0].model_ht, \n",
    "          np.flip(results_bf.leading_frag_height_arr[:first_increasing_height_arr_bf]), \n",
    "          np.flip(results_bf.luminosity_arr[:first_increasing_height_arr_bf]))\n",
    "plt.plot(interpolated_initial_int, metsim_obj.traj.observations[0].model_ht/1000., label = 'leading initial guess', color='darkorange')\n",
    "plt.plot(interpolated_bf_int, metsim_obj.traj.observations[0].model_ht/1000., label = 'leading best fit', color='red')\n",
    "# plt.plot(results_initial.luminosity_arr, results_initial.leading_frag_height_arr/1000., label = 'leading initial guess')\n",
    "# plt.plot(results_bf.luminosity_arr, results_bf.leading_frag_height_arr/1000., label = 'leading best fit')\n",
    "plt.ylim(10., 50.)\n",
    "plt.legend()"
   ]
  },
  {
   "cell_type": "code",
   "execution_count": null,
   "id": "b2d6e46c-5c87-4b16-bc0d-14cad2df03c9",
   "metadata": {},
   "outputs": [],
   "source": [
    "plt.plot(results_initial.abs_magnitude, results_initial.leading_frag_height_arr/1000.)\n",
    "plt.plot(results_bf.abs_magnitude, results_bf.leading_frag_height_arr/1000.)\n",
    "plt.ylim(10., 80.)"
   ]
  },
  {
   "cell_type": "markdown",
   "id": "1d341dae-e342-445f-a9aa-4b6ba36651d2",
   "metadata": {},
   "source": [
    "Compare the cost function (RSS):"
   ]
  },
  {
   "cell_type": "code",
   "execution_count": null,
   "id": "8228dbe1-cf69-405b-84fd-64dfc835b87b",
   "metadata": {},
   "outputs": [],
   "source": [
    "get_lc_cost_function(pos, metsim_obj), get_lc_cost_function(initial_guess, metsim_obj)"
   ]
  },
  {
   "cell_type": "markdown",
   "id": "b5423c37-a598-4f4b-9e56-e79a152f6391",
   "metadata": {},
   "source": [
    "Set up MCMC with a uniform log-prior over all parameters:"
   ]
  },
  {
   "cell_type": "code",
   "execution_count": null,
   "id": "9b5449a6-b01a-4009-990f-1a01da52eee4",
   "metadata": {},
   "outputs": [],
   "source": [
    "bounds"
   ]
  },
  {
   "cell_type": "code",
   "execution_count": null,
   "id": "385a7d47-ba6e-4545-8303-a26d535463bb",
   "metadata": {},
   "outputs": [],
   "source": [
    "# LOG PRIOR\n",
    "def log_prior(particle, bounds=bounds, metsim_obj=metsim_obj, n_frags=fragmentation_count):\n",
    "    \"\"\"\n",
    "    log prior\n",
    "    \"\"\"\n",
    "    # particle params\n",
    "    unflattened_particle = unflatten_list(particle)\n",
    "    mass = unflattened_particle[0]\n",
    "    frag_mass_pcts = unflattened_particle[1]\n",
    "    frag_er_coeffs = unflattened_particle[2]\n",
    "    frag_grain_mins = unflattened_particle[3]\n",
    "    frag_grain_maxs = unflattened_particle[4]\n",
    "    # bounds\n",
    "    mass_bnds = bounds[0]\n",
    "    frag_mass_pct_bnds = bounds[1:n_frags + 1]\n",
    "    frag_er_coeff_bnds = bounds[n_frags + 1: 2 * n_frags + 1]\n",
    "    frag_grain_min_bnds = bounds[2 * n_frags + 1: 3 * n_frags + 1]\n",
    "    frag_grain_max_bnds = bounds[3 * n_frags + 1: 4 * n_frags + 1]\n",
    "    # uniform log prior\n",
    "    # if outside bounds return -np.inf, otherwise return 0\n",
    "    # main mass\n",
    "    if not mass_bnds[0] <= mass <= mass_bnds[1]:\n",
    "        return -np.inf\n",
    "    # fragments\n",
    "    # print(mass, frag_mass_pcts, frag_er_coeffs, frag_grain_mins, frag_grain_maxs)\n",
    "    # print(mass_bnds, frag_mass_pct_bnds, frag_er_coeff_bnds, frag_grain_min_bnds, frag_grain_max_bnds)\n",
    "    for i in range(n_frags):\n",
    "        if not (frag_mass_pct_bnds[i][0] <= frag_mass_pcts[i] <= frag_mass_pct_bnds[i][1] and frag_er_coeff_bnds[i][0] <= frag_er_coeffs[i] <= frag_er_coeff_bnds[i][1] and frag_grain_min_bnds[i][0] <= frag_grain_mins[i] <= frag_grain_min_bnds[i][1] and frag_grain_max_bnds[i][0] <= frag_grain_maxs[i] <= frag_grain_max_bnds[i][1] and frag_grain_mins[i] <= frag_grain_maxs[i]):\n",
    "            return -np.inf\n",
    "    # otherwise return 0\n",
    "    return 0.0\n",
    "\n",
    "def log_likelihood(particle, metsim_obj=metsim_obj):\n",
    "    \"\"\"\n",
    "    similar to the get_lc_cost_function function but with positive instead of negative log-likelihood\n",
    "    \"\"\"\n",
    "    # observed LC intensity, this doesn't change\n",
    "    obs_lc_intensity = 3030 * (10 ** (metsim_obj.usg_data.absolute_magnitudes/(-2.5)))\n",
    "\n",
    "    # get simulated LC intensity onthe object\n",
    "    simulation_results = sim_lc(particle, metsim_obj)\n",
    "    # compute simulated LC intensity\n",
    "    # find where height starts increasing if it does at any point\n",
    "    # print(np.diff(simulation_results.leading_frag_height_arr))\n",
    "    if np.sum(np.diff(simulation_results.leading_frag_height_arr) > 0) > 0:\n",
    "        first_increasing_height_arr = np.where(np.diff(simulation_results.leading_frag_height_arr) > 0)[0][0] - 1\n",
    "        # print('increasing height')\n",
    "    else:\n",
    "        first_increasing_height_arr = -1\n",
    "    # interpolate to make sure they are the same length and discard points after height starts increasing if it does at any point\n",
    "    simulated_lc_intensity = np.interp(metsim_obj.traj.observations[0].model_ht, \n",
    "                                       np.flip(simulation_results.leading_frag_height_arr[:first_increasing_height_arr]), \n",
    "                                       np.flip(simulation_results.luminosity_arr[:first_increasing_height_arr]))\n",
    "    # return the negative log-likelihood (negative residual sum of square difference between the two)\n",
    "    # assuming there is no error for the observed LC data\n",
    "    # print(len(obs_lc_intensity), len(simulated_lc_intensity))\n",
    "    log_likelihood = (-1/2 * np.nansum((obs_lc_intensity - simulated_lc_intensity) ** 2))/1e24  # scale this\n",
    "    # print(f'negative logL: {-log_likelihood}')\n",
    "    # positive log lieklihood unlike get_lc_cost_function\n",
    "    return log_likelihood\n",
    "\n",
    "# LOG PROBABILITY\n",
    "def log_probability(particle):\n",
    "    lp = log_prior(particle)\n",
    "    if not np.isfinite(lp):\n",
    "        return -np.inf\n",
    "    # time out if takes too long\n",
    "    try:\n",
    "        ll = log_likelihood(particle)\n",
    "    except TimeoutError:\n",
    "        warnings.warn(f'Timed out', RuntimeWarning)\n",
    "        return -np.inf\n",
    "    return lp + log_likelihood(particle)"
   ]
  },
  {
   "cell_type": "markdown",
   "id": "06e72330-9ac1-4f1c-832e-d88ccf2a0ca5",
   "metadata": {},
   "source": [
    "Run MCMC:"
   ]
  },
  {
   "cell_type": "code",
   "execution_count": null,
   "id": "efcf40e5-b77c-49a9-a71f-e0f0a8b6082b",
   "metadata": {},
   "outputs": [],
   "source": [
    "import emcee\n",
    "from emcee.interruptible_pool import InterruptiblePool\n",
    "steps = 50000  # try 50000 steps with multiprocessing on the cluster\n",
    "\n",
    "# bounds = []\n",
    "n_walkers = 100\n",
    "\n",
    "# # Set up hyperparameters\n",
    "# options = {'c1': 0.6, 'c2': 0.3, 'w': 0.9}  # global\n",
    "options = {'c1': 0.6, 'c2': 0.3, 'w': 0.9, 'k': 10, 'p': 1}  # local\n",
    "bounds_pso = tuple(np.array(bounds).T)\n",
    "initial_guess_pso = initial_guess.reshape(1, len(initial_guess))\n",
    "\n",
    "# generate particles in a gaussian ball around the initial guess\n",
    "cov_factor = 1.e-20\n",
    "cov = np.float64(np.diag(np.ones(len(initial_guess_pso.T)) * (initial_guess ** 2)))# + 1.e-16)\n",
    "cov += np.eye(len(cov), len(cov)) * cov_factor\n",
    "\n",
    "rng = np.random.default_rng(seed=1234)\n",
    "### SVD DOESN'T WORK\n",
    "### cholesky also doesn't work with exactly zero eigenvalues but does when adding epsilon to the covariance matrix\n",
    "### eigendecomposition seems to always work here...\n",
    "init_pos = rng.multivariate_normal(initial_guess_pso.flatten(), cov, size = n_walkers, method='eigh')  # clip in case some of the starting positions are beyond the bounds\n",
    "# init_pos = np.clip(init_pos, *bounds_pso)\n",
    "\n",
    "filename = \"1994_mcmc.h5\"  # this has everything: rv offset, sin(i), and jitter\n",
    "backend = emcee.backends.HDFBackend(filename)\n",
    "backend.reset(n_walkers, len(initial_guess))\n",
    "\n",
    "with InterruptiblePool(processes=multiprocessing.cpu_count() - 1) as pool:\n",
    "    sampler = emcee.EnsembleSampler(n_walkers, len(initial_guess), log_probability, pool = pool, backend = backend)\n",
    "    sampler.run_mcmc(init_pos, steps, progress=True)\n",
    "\n",
    "samples = sampler.get_chain()"
   ]
  },
  {
   "cell_type": "code",
   "execution_count": null,
   "id": "9a8a822c-6501-40de-b67a-a92dfe54bfa4",
   "metadata": {},
   "outputs": [],
   "source": []
  }
 ],
 "metadata": {
  "kernelspec": {
   "display_name": "Python 3 (ipykernel)",
   "language": "python",
   "name": "python3"
  },
  "language_info": {
   "codemirror_mode": {
    "name": "ipython",
    "version": 3
   },
   "file_extension": ".py",
   "mimetype": "text/x-python",
   "name": "python",
   "nbconvert_exporter": "python",
   "pygments_lexer": "ipython3",
   "version": "3.10.15"
  }
 },
 "nbformat": 4,
 "nbformat_minor": 5
}
