{
 "cells": [
  {
   "cell_type": "code",
   "execution_count": 1,
   "id": "21fdbff0-60f0-4af4-a602-1ead544f7909",
   "metadata": {},
   "outputs": [],
   "source": [
    "import numpy as np\n",
    "import pandas as pd\n",
    "import sys\n",
    "import json\n",
    "import os\n",
    "import copy\n",
    "import matplotlib.pyplot as plt\n",
    "import scipy\n",
    "import multiprocessing\n",
    "import h5py\n",
    "import corner"
   ]
  },
  {
   "cell_type": "markdown",
   "id": "885fe6f0-35f7-4afc-b904-e2144eac389b",
   "metadata": {},
   "source": [
    "Make `WMPL` directory visible:"
   ]
  },
  {
   "cell_type": "code",
   "execution_count": 2,
   "id": "fe6406fd-08fe-417b-a641-b49809b493cf",
   "metadata": {},
   "outputs": [],
   "source": [
    "sys.path.append('../../')"
   ]
  },
  {
   "cell_type": "markdown",
   "id": "ca075672-9085-4975-b81c-dc4a6a243d4e",
   "metadata": {},
   "source": [
    "Import WMPL files:"
   ]
  },
  {
   "cell_type": "code",
   "execution_count": 3,
   "id": "0c521053-823a-4a65-97d0-5da495985d60",
   "metadata": {},
   "outputs": [],
   "source": [
    "import source.WesternMeteorPyLib.wmpl.MetSim.MetSim as metsim\n",
    "import source.WesternMeteorPyLib.wmpl.MetSim.FitSim as fitsim\n",
    "import source.WesternMeteorPyLib.wmpl.MetSim.GUI as gui\n",
    "import source.WesternMeteorPyLib.wmpl.MetSim.MetSimErosion as erosion"
   ]
  },
  {
   "cell_type": "markdown",
   "id": "72670f9e-b782-45db-aaa1-6c4319b44d0a",
   "metadata": {},
   "source": [
    "Modified version to run with the optimization routine:"
   ]
  },
  {
   "cell_type": "code",
   "execution_count": 4,
   "id": "9ae450a2-8934-4606-b0b0-cb54ab147538",
   "metadata": {},
   "outputs": [],
   "source": [
    "class MetSimObj():\n",
    "    def __init__(self, traj_path, const_json_file, fixed_frag_indices, free_frag_indices, er_frag_indices):\n",
    "        # Init an axis for the electron line density\n",
    "        # self.electronDensityPlot = self.magnitudePlot.canvas.axes.twiny()\n",
    "        self.electron_density_plot_show = False\n",
    "        ### Wake parameters ###\n",
    "        self.wake_on = False\n",
    "        self.wake_show_mass_bins = False\n",
    "        self.wake_ht_current_index = 0\n",
    "        self.current_wake_container = None\n",
    "        # if self.wake_heights is not None:\n",
    "        #     self.wake_plot_ht, self.current_wake_container = self.wake_heights[self.wake_ht_current_index]\n",
    "        # else:\n",
    "        #     self.wake_plot_ht = self.traj.rbeg_ele # m\n",
    "        self.wake_normalization_method = 'area'\n",
    "        self.wake_align_method = 'none'\n",
    "        self.magnitudePlotWakeLines = None\n",
    "        self.magnitudePlotWakeLineLabels = None\n",
    "        self.velocityPlotWakeLines = None\n",
    "        self.lagPlotWakeLines = None\n",
    "        self.usg_data, self.traj = gui.loadUSGInputFile(*os.path.split(traj_path))\n",
    "        self.dir_path = os.path.dirname(traj_path)\n",
    "        # Disable different density after erosion change\n",
    "        self.erosion_different_rho = False\n",
    "        # Disable different ablation coeff after erosion change\n",
    "        self.erosion_different_sigma = False\n",
    "        # Disable different erosion coeff after disruption at the beginning\n",
    "        self.disruption_different_erosion_coeff = False\n",
    "        # Fragmentation object\n",
    "        self.fragmentation = None\n",
    "        self.simulation_results = None\n",
    "        self.const_prev = None\n",
    "        self.simulation_results_prev = None\n",
    "        self.const = erosion.Constants()  # initialize this, these will be replaced later\n",
    "        self.const.P_0m = self.usg_data.P_0m_bolo\n",
    "        # If a JSON file with constant was given, load them instead of initing from scratch\n",
    "        if const_json_file is not None:\n",
    "            # Load the constants from the JSON files\n",
    "            self.const, const_json = gui.loadConstants(const_json_file)\n",
    "            # Init the fragmentation container for the GUI\n",
    "            if len(self.const.fragmentation_entries):\n",
    "                self.fragmentation = gui.FragmentationContainer(self, \\\n",
    "                    os.path.join(self.dir_path, self.const.fragmentation_file_name))\n",
    "                self.fragmentation.fragmentation_entries = self.const.fragmentation_entries\n",
    "                # Overwrite the existing fragmentatinon file\n",
    "                # self.fragmentation.writeFragmentationFile()\n",
    "            # Check if the disruption erosion coefficient is different than the main erosion coeff\n",
    "            if const_json['disruption_erosion_coeff'] != const_json['erosion_coeff']:\n",
    "                self.disruption_different_erosion_coeff = True\n",
    "            # Check if the density is changed after Hchange\n",
    "            if 'erosion_rho_change' in const_json:\n",
    "                if const_json['erosion_rho_change'] != const_json['rho']:\n",
    "                    self.erosion_different_rho = True\n",
    "            # Check if the ablation coeff is changed after Hchange\n",
    "            if 'erosion_sigma_change' in const_json:\n",
    "                if const_json['erosion_sigma_change'] != const_json['sigma']:\n",
    "                    self.erosion_different_sigma = True\n",
    "        else:\n",
    "            raise('no json file!')\n",
    "\n",
    "        ### Calculate atmosphere density coeffs (down to the bottom observed height, limit to 15 km) ###\n",
    "\n",
    "        # Determine the height range for fitting the density\n",
    "        self.dens_fit_ht_beg = self.const.h_init\n",
    "        self.dens_fit_ht_end = self.traj.rend_ele - 5000\n",
    "        if self.dens_fit_ht_end < 14000:\n",
    "            self.dens_fit_ht_end = 14000\n",
    "\n",
    "        # Fit the polynomail describing the density\n",
    "        dens_co = gui.MetSimGUI.fitAtmosphereDensity(self, self.dens_fit_ht_beg, self.dens_fit_ht_end)\n",
    "        self.const.dens_co = dens_co\n",
    "\n",
    "        # get global parameters from json file, everything other than params marked \"free\" are fixed\n",
    "        dt = const_json.get('dt')\n",
    "        P_0m = const_json.get('P_0m')\n",
    "        h_init = const_json.get('h_init')\n",
    "        m_kill = const_json.get('m_kill')\n",
    "        v_kill = const_json.get('v_kill')\n",
    "        h_kill = const_json.get('h_kill')\n",
    "        len_kill = const_json.get('len_kill') \n",
    "        rho = const_json.get('rho')  # free\n",
    "        rho_grain = const_json.get('rho_grain')  # free\n",
    "        m_init = const_json.get('m_init')  # free\n",
    "        sigma = const_json.get('sigma')  # free\n",
    "        v_init = const_json.get('v_init')\n",
    "        shape_factor = const_json.get('shape_factor')\n",
    "        gamma = const_json.get('gamma')\n",
    "        zenith_angle = const_json.get('zenith_angle')\n",
    "        lum_eff = const_json.get('lum_eff')\n",
    "        lum_eff_type = const_json.get('lum_eff_type')\n",
    "        erosion_height_start = const_json.get('erosion_height_start')\n",
    "        erosion_bins_per_10mass = const_json.get('erosion_bins_per_10mass')\n",
    "        erosion_coeff = const_json.get('erosion_coeff')\n",
    "        erosion_height_change = const_json.get('erosion_height_change')\n",
    "        erosion_coeff_change = const_json.get('erosion_coeff_change')\n",
    "        erosion_mass_index = const_json.get('erosion_mass_index')\n",
    "        erosion_mass_min = const_json.get('erosion_mass_min')\n",
    "        erosion_mass_max = const_json.get('erosion_mass_max')\n",
    "        erosion_rho_change = const_json.get('rho')\n",
    "        erosion_sigma_change = const_json.get('sigma')\n",
    "        compressive_strength = const_json.get('compressive_strength')\n",
    "        disruption_erosion_coeff = const_json.get('erosion_coeff')\n",
    "        disruption_mass_grain_ratio = const_json.get('disruption_mass_grain_ratio')\n",
    "        disruption_mass_index = const_json.get('disruption_mass_index')\n",
    "        disruption_mass_min_ratio = const_json.get('disruption_mass_min_ratio')\n",
    "        disruption_mass_max_ratio = const_json.get('disruption_mass_max_ratio')\n",
    "\n",
    "        # get fragmentation parameters from json file\n",
    "        # type, height, number, gamma, mass index are fixed, \n",
    "        # mass, ablation coefficient, erosion coefficient, grain min, grain max are not fixed\n",
    "        num_frags = len(const_json.get('fragmentation_entries'))\n",
    "        # fixed\n",
    "        frag_types = []\n",
    "        frag_heights = []\n",
    "        frag_numbers = []\n",
    "        frag_ab_coeffs = []\n",
    "        frag_gammas = []\n",
    "        frag_mis = []\n",
    "        # free\n",
    "        frag_masses = []\n",
    "        frag_er_coeffs = []\n",
    "        frag_grain_mins = []\n",
    "        frag_grain_maxs = []\n",
    "\n",
    "        # set free and fixed params\n",
    "        #### CHANGE THESE LINES TO TEST DIFFERENT COMBINATIONS OF FREE PARAMETERS\n",
    "        self.fixed_frag_indices = fixed_frag_indices\n",
    "        self.free_frag_indices = free_frag_indices\n",
    "        self.er_frag_indices = er_frag_indices\n",
    "        # set up masks for free and fixed indices\n",
    "        # free\n",
    "        free_frag_mask = np.zeros(num_frags, bool)\n",
    "        free_frag_mask[free_frag_indices] = True  # only free frags\n",
    "        # fixed\n",
    "        fixed_frag_mask = np.ones(num_frags, bool)\n",
    "        fixed_frag_mask[free_frag_indices] = False  # everything EXCEPT free frags (i.e. fixed frags)\n",
    "        # erosion\n",
    "        er_frag_mask = np.zeros(num_frags, bool)\n",
    "        er_frag_mask[er_frag_indices] = True  # only frags that have erosion coefficients (i.e. all free fragments excluding dust)\n",
    "\n",
    "        for i, frag in enumerate(const_json.get('fragmentation_entries')):\n",
    "            ### If sigma, gamma and erosiion coefficient are none, convert to whatever the default value is \n",
    "            # fixed\n",
    "            frag_types.append(frag['frag_type'])\n",
    "            frag_heights.append(frag['height'])\n",
    "            frag_numbers.append(frag['number'])\n",
    "            if frag['gamma'] == None:\n",
    "                frag_gammas.append(gamma)\n",
    "            else:\n",
    "                frag_gammas.append(frag['gamma'])\n",
    "            frag_mis.append(frag['mass_index'])\n",
    "            if frag['sigma'] == None:\n",
    "                frag_ab_coeffs.append(sigma) \n",
    "            else:\n",
    "                frag_ab_coeffs.append(frag['sigma'])\n",
    "            # free\n",
    "            frag_masses.append(frag['mass_percent'])\n",
    "            if frag['erosion_coeff'] == None:  # this means that the fragment is dust\n",
    "                frag_er_coeffs.append(0.)  # erosion coefficient of zero\n",
    "            else:\n",
    "                frag_er_coeffs.append(frag['erosion_coeff'])\n",
    "            frag_grain_mins.append(frag['grain_mass_min'])\n",
    "            frag_grain_maxs.append(frag['grain_mass_max'])\n",
    "\n",
    "        # fixed_frag_mask = np.argsort(fixed_frag_mask)\n",
    "        # assign free fixed parameters to object\n",
    "        self.free_params = [m_init, \n",
    "                            list(np.array(frag_masses)[free_frag_mask]), \n",
    "                            list(np.array(frag_er_coeffs)[er_frag_mask]),  # use er frag mask for this one! \n",
    "                            list(np.array(frag_grain_mins)[free_frag_mask]), \n",
    "                            list(np.array(frag_grain_maxs)[free_frag_mask])\n",
    "                           ]\n",
    "        self.fixed_params = [dt, P_0m, h_init, m_kill, v_kill, h_kill, len_kill, rho, rho_grain, sigma, \n",
    "                             v_init, shape_factor, \n",
    "                            gamma, zenith_angle, lum_eff, lum_eff_type, erosion_height_start, \n",
    "                            erosion_bins_per_10mass, erosion_coeff, erosion_height_change, \n",
    "                            erosion_coeff_change, erosion_mass_index, erosion_mass_min, erosion_mass_max, \n",
    "                            erosion_rho_change, erosion_sigma_change, compressive_strength, \n",
    "                            disruption_erosion_coeff, disruption_mass_grain_ratio, disruption_mass_index, \n",
    "                            disruption_mass_min_ratio, disruption_mass_max_ratio, \n",
    "                            frag_types, frag_heights, frag_numbers, \n",
    "                            frag_ab_coeffs, frag_gammas, frag_mis,\n",
    "                            list(np.array(frag_masses)[fixed_frag_mask]), \n",
    "                            list(np.array(frag_er_coeffs)[~er_frag_mask]),  # and inverse of er frag mask \n",
    "                            list(np.array(frag_grain_mins)[fixed_frag_mask]), \n",
    "                            list(np.array(frag_grain_maxs)[fixed_frag_mask])\n",
    "                            ]\n",
    "        \n",
    "        # load all the global parameters into the object\n",
    "        consts = dt, P_0m, h_init, m_kill, v_kill, h_kill, len_kill, rho, rho_grain, m_init, sigma, v_init, shape_factor, gamma, zenith_angle, lum_eff, lum_eff_type, erosion_height_start, erosion_bins_per_10mass, erosion_coeff, erosion_height_change, erosion_coeff_change, erosion_mass_index, erosion_mass_min, erosion_mass_max, erosion_rho_change, erosion_sigma_change, compressive_strength, disruption_erosion_coeff, disruption_mass_grain_ratio, disruption_mass_index, disruption_mass_min_ratio, disruption_mass_max_ratio\n",
    "        self.loadGlobalParameters(consts)\n",
    "\n",
    "        # get all parameters\n",
    "        self.all_params = (self.free_params, self.fixed_params)\n",
    "        \n",
    "        # self.initializeSimulation(all_params)\n",
    "        # self.initializeSimulation(const_json)\n",
    "    \n",
    "    def loadGlobalParameters(self, consts):\n",
    "            \"\"\"\n",
    "            Loads the global parameters (constants) into the object\n",
    "            \"\"\"\n",
    "            dt, P_0m, h_init, m_kill, v_kill, h_kill, len_kill, rho, rho_grain, m_init, sigma, v_init, shape_factor, gamma, zenith_angle, lum_eff, lum_eff_type, erosion_height_start, erosion_bins_per_10mass, erosion_coeff, erosion_height_change, erosion_coeff_change, erosion_mass_index, erosion_mass_min, erosion_mass_max, erosion_rho_change, erosion_sigma_change, compressive_strength, disruption_erosion_coeff, disruption_mass_grain_ratio, disruption_mass_index, disruption_mass_min_ratio, disruption_mass_max_ratio = consts\n",
    "            # load all the non-fragmentation parameters into the object\n",
    "            # 33 parameters\n",
    "            self.const.dt = dt\n",
    "            self.const.P_0m = P_0m\n",
    "            self.const.h_init = h_init\n",
    "            self.const.m_kill = m_kill\n",
    "            self.const.v_kill = v_kill\n",
    "            self.const.h_kill = h_kill\n",
    "            self.const.len_kill = len_kill\n",
    "            self.const.rho = rho\n",
    "            self.const.rho_grain = rho_grain\n",
    "            self.const.m_init = m_init\n",
    "            self.const.sigma = sigma\n",
    "            self.const.v_init = v_init\n",
    "            self.const.shape_factor = shape_factor\n",
    "            self.const.gamma = gamma\n",
    "            self.const.zenith_angle = zenith_angle\n",
    "            self.const.lum_eff = lum_eff\n",
    "            self.const.lum_eff_type = lum_eff_type\n",
    "            self.const.erosion_height_start = erosion_height_start\n",
    "            self.const.erosion_bins_per_10mass = erosion_bins_per_10mass\n",
    "            self.const.erosion_coeff = erosion_coeff\n",
    "            self.const.erosion_height_change = erosion_height_change\n",
    "            self.const.erosion_coeff_change = erosion_coeff_change\n",
    "            self.const.erosion_mass_index = erosion_mass_index\n",
    "            self.const.erosion_mass_min = erosion_mass_min\n",
    "            self.const.erosion_mass_max = erosion_mass_max\n",
    "            self.const.erosion_rho_change = erosion_rho_change\n",
    "            self.const.erosion_sigma_change = erosion_sigma_change\n",
    "            self.const.compressive_strength = compressive_strength\n",
    "            self.const.disruption_erosion_coeff = disruption_erosion_coeff\n",
    "            self.const.disruption_mass_grain_ratio = disruption_mass_grain_ratio\n",
    "            self.const.disruption_mass_index = disruption_mass_index\n",
    "            self.const.disruption_mass_min_ratio = disruption_mass_min_ratio\n",
    "            self.const.disruption_mass_max_ratio = disruption_mass_max_ratio\n",
    "\n",
    "    def initializeSimulation(self, all_params):\n",
    "            \"\"\" Run the simulation and show the results. \"\"\"\n",
    "            # If the fragmentation is turned on and no fragmentation data is given, notify the user\n",
    "            # if self.const.fragmentation_on and (self.fragmentation is None):\n",
    "            #     frag_error_message = QMessageBox(QMessageBox.Critical, \"Fragmentation file error\", \\\n",
    "            #         \"Fragmentation is enabled but no fragmentation file is set.\")\n",
    "            #     frag_error_message.setInformativeText(\"Either load an existing fragmentation file or create a new one.\")\n",
    "            #     frag_error_message.exec_()\n",
    "            #     return None   \n",
    "\n",
    "            # unpack all params\n",
    "            free_params, fixed_params = all_params\n",
    "            # unpack again\n",
    "            #### CHANGE THESE NEXT TWO LINES TO TEST DIFFERENT COMBINATIONS OF FREE PARAMETERS\n",
    "            m_init, frag_masses_free, frag_er_coeffs_free, frag_grain_mins_free, frag_grain_maxs_free = free_params \n",
    "            dt, P_0m, h_init, m_kill, v_kill, h_kill, len_kill, rho, rho_grain, sigma, v_init, shape_factor, gamma, zenith_angle, lum_eff, lum_eff_type, erosion_height_start, erosion_bins_per_10mass, erosion_coeff, erosion_height_change, erosion_coeff_change, erosion_mass_index, erosion_mass_min, erosion_mass_max, erosion_rho_change, erosion_sigma_change, compressive_strength, disruption_erosion_coeff, disruption_mass_grain_ratio, disruption_mass_index, disruption_mass_min_ratio, disruption_mass_max_ratio, frag_types, frag_heights, frag_numbers, frag_ab_coeffs, frag_gammas, frag_mis, frag_masses_fixed, frag_er_coeffs_fixed, frag_grain_mins_fixed, frag_grain_maxs_fixed = fixed_params\n",
    "            # load all the global parameters into the object\n",
    "            consts = dt, P_0m, h_init, m_kill, v_kill, h_kill, len_kill, rho, rho_grain, m_init, sigma, v_init, shape_factor, gamma, zenith_angle, lum_eff, lum_eff_type, erosion_height_start, erosion_bins_per_10mass, erosion_coeff, erosion_height_change, erosion_coeff_change, erosion_mass_index, erosion_mass_min, erosion_mass_max, erosion_rho_change, erosion_sigma_change, compressive_strength, disruption_erosion_coeff, disruption_mass_grain_ratio, disruption_mass_index, disruption_mass_min_ratio, disruption_mass_max_ratio\n",
    "            self.loadGlobalParameters(consts)\n",
    "            # combine free fixed fragmentation parameters\n",
    "            frag_order = np.argsort(self.fixed_frag_indices + self.free_frag_indices)\n",
    "            frag_masses = np.concatenate((frag_masses_fixed, frag_masses_free))[frag_order]\n",
    "            frag_er_coeffs = np.zeros(len(frag_masses))  # number of fragments\n",
    "            frag_er_coeffs[self.er_frag_indices] = frag_er_coeffs_free  # set all erosion fragments to their values, everything else is zero\n",
    "            frag_grain_mins = np.concatenate((frag_grain_mins_fixed, frag_grain_mins_free))[frag_order]\n",
    "            frag_grain_maxs = np.concatenate((frag_grain_maxs_fixed, frag_grain_maxs_free))[frag_order]\n",
    "\n",
    "            # print(frag_order, np.concatenate((frag_masses_fixed, frag_masses_free)), frag_masses)\n",
    "            \n",
    "            # Load fragmentation entries\n",
    "            self.fragmentation_entries = []\n",
    "            for i in range(0, len(frag_masses)):  # pick any frag entry to iterate over\n",
    "                frag_entry = gui.FragmentationEntry(frag_types[i], frag_heights[i], frag_numbers[i], frag_masses[i], \n",
    "                                                    frag_ab_coeffs[i], frag_gammas[i], frag_er_coeffs[i], frag_grain_mins[i], frag_grain_maxs[i], frag_mis[i])\n",
    "                self.fragmentation_entries.append(frag_entry)\n",
    "            # set the fragmentation entries to constants\n",
    "            self.const.fragmentation_entries = self.fragmentation_entries\n",
    "    \n",
    "            # Sort entries by height\n",
    "            self.fragmentation.sortByHeight()\n",
    "\n",
    "            # Reset the status of all fragmentations\n",
    "            self.fragmentation.resetAll()\n",
    "        \n",
    "            # fragmentation\n",
    "            self.const.fragmentation_on = True\n",
    "\n",
    "            # print(self.const.fragmentation_on)\n",
    "    \n",
    "            # Run the simulation\n",
    "            frag_main, results_list, wake_results = erosion.runSimulation(self.const, compute_wake=self.wake_on)\n",
    "            # print(results_list)\n",
    "\n",
    "            # Store simulation results\n",
    "            self.simulation_results = gui.SimulationResults(self.const, frag_main, results_list, wake_results)\n"
   ]
  },
  {
   "cell_type": "markdown",
   "id": "7e464e84-5ada-4cab-bb54-41d6de7d00f3",
   "metadata": {},
   "source": [
    "Test with event:"
   ]
  },
  {
   "cell_type": "code",
   "execution_count": 5,
   "id": "f0419014-bad4-4c19-88ef-fba92567369f",
   "metadata": {},
   "outputs": [],
   "source": [
    "# metsim_obj_old = MetSimObj_old(traj_path='../usg_metsim_files/1999-01-14/usg_input_jan_1999.txt', \n",
    "#                        const_json_file='../usg_metsim_files/1999-01-14/usg_input_jan_1999_sim_fit_latest.json')"
   ]
  },
  {
   "cell_type": "code",
   "execution_count": 91,
   "id": "bf0e98e1-3262-489a-b8a5-002e7595cb1b",
   "metadata": {},
   "outputs": [],
   "source": [
    "event_path = '../usg_metsim_files/2013-04-30/usg_input_apr_2013'\n",
    "\n",
    "FIXED_FRAG_INDICES = []\n",
    "FREE_FRAG_INDICES = [0, 1]#, 2,]# 3]#, 4]#, 5]#, 6, 7, 8]  # fragments with free parameters\n",
    "ER_FRAG_INDICES = [0, 1]#, 2,]# 3]#, 4]  # free fragments that have erosion coefficients (i.e. all free fragments excluding dust)\n",
    "\n",
    "metsim_obj = MetSimObj(traj_path=event_path + '.txt', \n",
    "                       const_json_file=event_path + '_sim_fit_latest.json',\n",
    "                       fixed_frag_indices = FIXED_FRAG_INDICES,\n",
    "                       free_frag_indices = FREE_FRAG_INDICES,\n",
    "                       er_frag_indices = ER_FRAG_INDICES\n",
    "                      )\n",
    "# initialize simulation, run with all parameters\n",
    "metsim_obj.initializeSimulation(metsim_obj.all_params)"
   ]
  },
  {
   "cell_type": "code",
   "execution_count": 92,
   "id": "4ace06e0-1f43-4e19-8ad4-522d6b099bdc",
   "metadata": {},
   "outputs": [
    {
     "data": {
      "text/plain": [
       "(10.0, 80.0)"
      ]
     },
     "execution_count": 92,
     "metadata": {},
     "output_type": "execute_result"
    },
    {
     "data": {
      "image/png": "[encoded data removed]",
      "text/plain": [
       "<Figure size 1200x800 with 1 Axes>"
      ]
     },
     "metadata": {},
     "output_type": "display_data"
    }
   ],
   "source": [
    "plt.figure(figsize = (12, 8))\n",
    "plt.plot(3030 * (10 ** (metsim_obj.usg_data.absolute_magnitudes/(-2.5))), metsim_obj.traj.observations[0].model_ht/1000., label = 'observed')\n",
    "plt.plot(metsim_obj.simulation_results.luminosity_arr, metsim_obj.simulation_results.leading_frag_height_arr/1000., label = 'simulated')\n",
    "plt.legend()\n",
    "plt.ylim(10., 80.)"
   ]
  },
  {
   "cell_type": "code",
   "execution_count": 93,
   "id": "b4ec2950-bcb9-4f46-aa46-c263479194e2",
   "metadata": {},
   "outputs": [],
   "source": [
    "# plt.figure(figsize = (12, 8))\n",
    "# plt.plot(metsim_obj_old.usg_data.time_data + 11.9, metsim_obj_old.usg_data.absolute_magnitudes, label = 'observed')\n",
    "# plt.plot(metsim_obj_old.simulation_results.time_arr, metsim_obj_old.simulation_results.abs_magnitude, label = 'simulated')\n",
    "# plt.legend()"
   ]
  },
  {
   "cell_type": "code",
   "execution_count": 94,
   "id": "27d01c8f-5768-4078-bc8a-2894d02f7543",
   "metadata": {},
   "outputs": [],
   "source": [
    "# plt.figure(figsize = (12, 8))\n",
    "# plt.plot(metsim_obj_old.usg_data.time_data + 11.9, 3030 * (10 ** (metsim_obj_old.usg_data.absolute_magnitudes/(-2.5))), label = 'observed')\n",
    "# plt.plot(metsim_obj_old.simulation_results.time_arr, metsim_obj_old.simulation_results.luminosity_arr, label = 'simulated')\n",
    "# plt.legend()\n",
    "# plt.plot()"
   ]
  },
  {
   "cell_type": "code",
   "execution_count": 95,
   "id": "db086e6a-7fae-45a5-93f1-0ff12951cc33",
   "metadata": {},
   "outputs": [
    {
     "data": {
      "text/plain": [
       "(4980897321108.871, 3927680490944.9375)"
      ]
     },
     "execution_count": 95,
     "metadata": {},
     "output_type": "execute_result"
    }
   ],
   "source": [
    "# check observed - simulated integrated intensity\n",
    "\n",
    "obs_integrated_intensity = np.nansum(np.diff(metsim_obj.usg_data.time_data) * 3030 * (10 ** (metsim_obj.usg_data.absolute_magnitudes/(-2.5)))[1:])\n",
    "sim_integrated_intensity = np.nansum(np.diff(metsim_obj.simulation_results.time_arr) * metsim_obj.simulation_results.luminosity_arr[1:])\n",
    "\n",
    "obs_integrated_intensity, sim_integrated_intensity"
   ]
  },
  {
   "cell_type": "code",
   "execution_count": 96,
   "id": "2bdefafc-1088-472e-8e04-9cbce3cea734",
   "metadata": {},
   "outputs": [
    {
     "data": {
      "text/plain": [
       "1053216830163.9336"
      ]
     },
     "execution_count": 96,
     "metadata": {},
     "output_type": "execute_result"
    }
   ],
   "source": [
    "obs_integrated_intensity - sim_integrated_intensity"
   ]
  },
  {
   "cell_type": "markdown",
   "id": "62355110-10f1-40ae-be7f-1f3888ec3576",
   "metadata": {},
   "source": [
    "### Optimization:"
   ]
  },
  {
   "cell_type": "markdown",
   "id": "912dc6c4-08dd-404a-a083-64212d69a1ed",
   "metadata": {},
   "source": [
    "Note that sometimes MetSim returns a simulated LC in which the height of the leading fragment increases after the end of the LC"
   ]
  },
  {
   "cell_type": "code",
   "execution_count": 97,
   "id": "e33ed660-4811-4466-bfee-5b1a65b93fa3",
   "metadata": {},
   "outputs": [],
   "source": [
    "# helper nested function to flatten a list\n",
    "\n",
    "def flatten_list(nested_list):\n",
    "    def flatten(lst):\n",
    "        for item in lst:\n",
    "            if isinstance(item, list):\n",
    "                flatten(item)\n",
    "            else:\n",
    "                flat_list.append(item)\n",
    "\n",
    "    flat_list = []\n",
    "    flatten(nested_list)\n",
    "    return flat_list\n",
    "\n",
    "# helper function to unflatten the list\n",
    "#### CHANGE THE NUMBER OF GLOBAL/FRAGMENT PARAMETERS TO TEST DIFFERENT COMBINATIONS\n",
    "def unflatten_list(lst, num_global_params=1, num_frag_params=4, er_frag_indices=ER_FRAG_INDICES):\n",
    "    \"\"\"\n",
    "    change number of global parameters and frag parameters based on the structure of the free parameters object\n",
    "    passed into the get_lc_cost_function() function\n",
    "    \"\"\"\n",
    "    # print(lst[:num_global_params], list(zip(*[iter(lst[num_global_params:])]*(len(lst[num_global_params:])//num_frag_params))))\n",
    "    num_frag_params = max(1, num_frag_params)\n",
    "    sizes = list(np.repeat('k', num_frag_params - 1))\n",
    "    sizes.insert(0, int(num_global_params))\n",
    "    sizes.insert(2, int(len(er_frag_indices)))  # CHANGE THESE INDICES IF STRUCTURE CHANGES\n",
    "    k = (len(lst) - sum(s for s in sizes if s != 'k')) // sizes.count('k') if 'k' in sizes else 0\n",
    "    result, index = [], 0\n",
    "    for size in sizes:\n",
    "        group_size = k if size == 'k' else size\n",
    "        if group_size == 1:\n",
    "            result.append(lst[index])\n",
    "        else:\n",
    "            result.append(lst[index:index + group_size])\n",
    "        index += group_size\n",
    "    return result\n",
    "       \n",
    "    # else:\n",
    "    #     return list(lst[:num_global_params]) + list(zip(*[iter(lst[num_global_params:])]*(len(lst[num_global_params:])//num_frag_params)))\n",
    "\n",
    "\n",
    "### define residuals for the optimization routine\n",
    "# TODO: make sure the two are the same size\n",
    "\n",
    "\n",
    "# def get_lc_residuals(free_params_flattened, metsim_obj):\n",
    "#     \"\"\"\n",
    "#     Gets the residuals for the integrated intensity given a flattened list of free parameters and a metsim object\n",
    "\n",
    "#     Flattened list of free parameters has the form\n",
    "#     free_params = [rho, rho_grain, m_init, sigma, *frag_masses, *frag_ab_coeffs, *frag_er_coeffs, *frag_grain_mins, *frag_grain_maxs]\n",
    "\n",
    "#     Global parameters:\n",
    "#     rho: float\n",
    "#     rho_grain: float\n",
    "#     m_init: float\n",
    "#     sigma: float\n",
    "\n",
    "#     Fragment parameters (for n total fragments):\n",
    "#     *frag_masses: n fragment masses\n",
    "#     *frag_ab_coeffs: n ablation coefficients\n",
    "#     *frag_er_coeffs: n erosion coefficients\n",
    "#     *frag_grain_mins: n grain mins\n",
    "#     *frag_grain_maxs: n grain maxs\n",
    "#     \"\"\"\n",
    "#     # observed integrated intensity, this doesn't change\n",
    "#     obs_integrated_intensity = np.nansum(np.diff(metsim_obj.usg_data.time_data) * \n",
    "#                                          3030 * (10 ** (metsim_obj.usg_data.absolute_magnitudes/(-2.5)))[1:])\n",
    "#     # compute the simulated integrated intensity for the given set of free parameters\n",
    "#     # unflatten the list of free parameters to pass into the initializeSimulation() function\n",
    "#     free_params = unflatten_list(free_params_flattened)\n",
    "#     # construct all params to pass into intiializeSimulation function\n",
    "#     all_params = (free_params, metsim_obj.fixed_params)  # set of all params to use\n",
    "#     # run simulation\n",
    "#     metsim_obj.initializeSimulation(all_params)\n",
    "    \n",
    "#     # get simulated integrated intensity\n",
    "#     sim_integrated_intensity = np.nansum(np.diff(metsim_obj.simulation_results.time_arr) * \n",
    "#                                          metsim_obj.simulation_results.luminosity_arr[1:])\n",
    "#     # return the difference between the two\n",
    "#     return (obs_integrated_intensity - sim_integrated_intensity)\n",
    "\n",
    "### get the simulated light curve for a given set of free parameters and metsim object\n",
    "\n",
    "def sim_lc(flattened_free_params, metsim_obj):\n",
    "    \"\"\"\n",
    "    Same format as function below\n",
    "    \"\"\"\n",
    "    # compute the simulated integrated intensity for the given set of free parameters\n",
    "    # unflatten the list of free parameters to pass into the initializeSimulation() function\n",
    "    free_params = unflatten_list(list(flattened_free_params))\n",
    "    # construct all params to pass into intiializeSimulation function\n",
    "    # print(free_params)\n",
    "    all_params = (free_params, metsim_obj.fixed_params)  # set of all params to use\n",
    "    # run simulation on the object, copying it\n",
    "    # obj_copy = copy.copy(metsim_obj)\n",
    "    # obj_copy.initializeSimulation(all_params)\n",
    "    metsim_obj.initializeSimulation(all_params)\n",
    "    # return the simulation results\n",
    "    # return obj_copy.simulation_results\n",
    "    return metsim_obj.simulation_results\n",
    "\n",
    "\n",
    "### define cost function for the opitmization routine\n",
    "\n",
    "def get_lc_cost_function(flattened_free_params, metsim_obj, pso=False):\n",
    "    \"\"\"\n",
    "    Gets the residuals for the integrated intensity given\n",
    "    a metsim object and a list/tuple of an initial guess of free parameters\n",
    "    \n",
    "    metsim_obj is an MetSim() object\n",
    "    flattened_free_params is an initial guess flattened list of free parameters with the form\n",
    "    flattened_free_params = [rho, rho_grain, m_init, sigma, *frag_masses, \n",
    "    *frag_ab_coeffs, *frag_er_coeffs, *frag_grain_mins, *frag_grain_maxs]\n",
    "    pso is a boolean for if pso is being used\n",
    "\n",
    "    Global parameters:\n",
    "    rho: float\n",
    "    rho_grain: float\n",
    "    m_init: float\n",
    "    sigma: float\n",
    "\n",
    "    Fragment parameters (for n total fragments):\n",
    "    *frag_masses: n fragment masses\n",
    "    *frag_ab_coeffs: n ablation coefficients\n",
    "    *frag_er_coeffs: n - nd erosion coefficients where nd is the number of dust fragments\n",
    "    (as dust fragments do not have a nassociated erosion coefficient)\n",
    "    *frag_grain_mins: n grain mins\n",
    "    *frag_grain_maxs: n grain maxs\n",
    "    \"\"\"\n",
    "    # print(f'parameters: {flattened_free_params}')\n",
    "    # observed LC intensity, this doesn't change\n",
    "    obs_lc_intensity = 3030 * (10 ** (metsim_obj.usg_data.absolute_magnitudes/(-2.5)))\n",
    "\n",
    "    # get simulated LC intensity onthe object\n",
    "    # flatten if pso is being used\n",
    "    if pso:\n",
    "        flattened_free_params = flattened_free_params.flatten()\n",
    "    simulation_results = sim_lc(flattened_free_params, metsim_obj)\n",
    "    # compute simulated LC intensity\n",
    "    # find where height starts increasing if it does at any point\n",
    "    # print(np.diff(simulation_results.leading_frag_height_arr))\n",
    "    if np.sum(np.diff(simulation_results.leading_frag_height_arr) > 0) > 0:\n",
    "        first_increasing_height_arr = np.where(np.diff(simulation_results.leading_frag_height_arr) > 0)[0][0] - 1\n",
    "        # print('increasing height')\n",
    "    else:\n",
    "        first_increasing_height_arr = -1\n",
    "    # interpolate to make sure they are the same length and discard points after height starts increasing if it does at any point\n",
    "    simulated_lc_intensity = np.interp(metsim_obj.traj.observations[0].model_ht, \n",
    "                                       np.flip(simulation_results.leading_frag_height_arr[:first_increasing_height_arr]), \n",
    "                                       np.flip(simulation_results.luminosity_arr[:first_increasing_height_arr]))\n",
    "    # return the negative log-likelihood (negative residual sum of square difference between the two)\n",
    "    # assuming there is no error for the observed LC data\n",
    "    # print(len(obs_lc_intensity), len(simulated_lc_intensity))\n",
    "    log_likelihood = (-1/2 * np.nansum((obs_lc_intensity - simulated_lc_intensity) ** 2))/1e24  # scale this\n",
    "    # print(f'negative logL: {-log_likelihood}')\n",
    "    # negative log lieklihood\n",
    "    return -log_likelihood"
   ]
  },
  {
   "cell_type": "markdown",
   "id": "89868ec0-f438-46a1-877a-fe388fe3e85c",
   "metadata": {},
   "source": [
    "Also need to make sure that the loss function to minimize (currently computed as the **negative** log-likelihood equivalent to negative RSS/$\\chi^2$) is correct, since if there are errors then these need to be accounted for in the computation of the loss function\n",
    "\n",
    "Also probably want to make `sim_lc` returns the interpolated LC:"
   ]
  },
  {
   "cell_type": "markdown",
   "id": "72731301-b213-4ab4-a9c8-26e6d90a003b",
   "metadata": {},
   "source": [
    "Test to make sure changing the parameters affects the logL and the LCs:"
   ]
  },
  {
   "cell_type": "code",
   "execution_count": 98,
   "id": "cdd4a37a-ffd6-4e03-a883-15a3450e203d",
   "metadata": {},
   "outputs": [],
   "source": [
    "# # USE FOLLOWING LINE TO SAVE NEW SET OF TEST PARAMETERS WHEN TESTING DIFFERENT COMBINATIONS OF PARAMETERS\n",
    "# np.save('initial_guess_2013_04_30_TEST.npy', np.array(flatten_list(metsim_obj.free_params)))\n",
    "# # and to save\n",
    "# # np.save('initial_guess_2004_10_07_TEST_edited.npy', pos)"
   ]
  },
  {
   "cell_type": "code",
   "execution_count": 100,
   "id": "04c43c1e-24d5-40ec-8bbb-e767b830e27c",
   "metadata": {},
   "outputs": [
    {
     "data": {
      "text/plain": [
       "334.6728236948841"
      ]
     },
     "execution_count": 100,
     "metadata": {},
     "output_type": "execute_result"
    }
   ],
   "source": [
    "initial_guess = np.load('initial_guess_2013_04_30_TEST.npy')  # initial pre-saved guess\n",
    "# initial_guess\n",
    "\n",
    "lamb_func = lambda free_params_flattened: get_lc_cost_function(free_params_flattened, metsim_obj=metsim_obj, pso=False)\n",
    "lamb_func(initial_guess)"
   ]
  },
  {
   "cell_type": "code",
   "execution_count": 102,
   "id": "c6ad4661-2de7-48bc-90f0-b3cda7787719",
   "metadata": {},
   "outputs": [],
   "source": [
    "#### USE THIS TO TEST DIFFERENT COMBINATIONS OF TEST PARAMETERS\n",
    "\n",
    "initial_guess_mod = initial_guess.copy()\n",
    "# fiddle with global mass\n",
    "initial_guess_mod[0] = initial_guess[0]\n",
    "# fiddle with frag masses\n",
    "initial_guess_mod = initial_guess + [0., # total mass\n",
    "                                     0., 0.,# 0.,# 0.,# 0.,# 0.,# 0., 0., 0.,  # frag mass pcts\n",
    "                                     0., 1.e-6,# 1.e-6,# 0.,# 0.,# 0., 1.e-8, # erosion coeffs\n",
    "                                     0., 0.,# 0.,# 0.,# 0.,# 0.,# 0., 0., 0., # grain mins\n",
    "                                     0., 0.,# 0.,# 0.,# 0.,# 0.,# 0., 0., 0.  # grain maxs\n",
    "                                    ] \n",
    "# initial_guess_mod = initial_guess + np.zeros(1 + 4 * len(FREE_FRAG_INDICES))"
   ]
  },
  {
   "cell_type": "code",
   "execution_count": 103,
   "id": "c542e755-3e77-4b50-8884-fa71bb114d69",
   "metadata": {},
   "outputs": [
    {
     "data": {
      "text/plain": [
       "340.54182486123403"
      ]
     },
     "execution_count": 103,
     "metadata": {},
     "output_type": "execute_result"
    }
   ],
   "source": [
    "lamb_func(initial_guess_mod)"
   ]
  },
  {
   "cell_type": "code",
   "execution_count": 104,
   "id": "0a2b6056-b3b2-4f68-9575-96c3dc07e31c",
   "metadata": {},
   "outputs": [],
   "source": [
    "results_initial = sim_lc(initial_guess, metsim_obj)\n",
    "results_initial_mod = sim_lc(initial_guess_mod, metsim_obj)"
   ]
  },
  {
   "cell_type": "code",
   "execution_count": 105,
   "id": "1a2ad309-e1b0-4f7c-94da-3a5bfe29b49a",
   "metadata": {},
   "outputs": [
    {
     "data": {
      "text/plain": [
       "<matplotlib.legend.Legend at 0x7f99365519c0>"
      ]
     },
     "execution_count": 105,
     "metadata": {},
     "output_type": "execute_result"
    },
    {
     "data": {
      "image/png": "[encoded data removed]",
      "text/plain": [
       "<Figure size 1200x800 with 1 Axes>"
      ]
     },
     "metadata": {},
     "output_type": "display_data"
    }
   ],
   "source": [
    "plt.figure(figsize = (12, 8))\n",
    "plt.plot(results_initial.luminosity_arr, results_initial.leading_frag_height_arr/1000., label = 'leading simulated')\n",
    "# plt.plot(results_bf.luminosity_arr, results_bf.leading_frag_height_arr/1000., label = 'best fit')\n",
    "# plt.plot(interpolated_bf_intensity, metsim_obj.traj.observations[0].model_ht/1000., label = 'best fit')\n",
    "plt.plot(results_initial_mod.luminosity_arr, results_initial_mod.leading_frag_height_arr/1000., label = 'leading simulated mod')\n",
    "plt.ylim(10., 80.)\n",
    "plt.legend()"
   ]
  },
  {
   "cell_type": "markdown",
   "id": "057fa4a0-49f2-46ab-abfe-78a84936b058",
   "metadata": {},
   "source": [
    "Compute observed LC and simulated initial guess:"
   ]
  },
  {
   "cell_type": "code",
   "execution_count": 106,
   "id": "4695d136-8e69-48cb-9d7c-3b6c360c5b19",
   "metadata": {},
   "outputs": [],
   "source": [
    "# observed LC intensity\n",
    "obs_lc_intensity = 3030 * (10 ** (metsim_obj.usg_data.absolute_magnitudes/(-2.5)))\n",
    "# simulated LC intensities\n",
    "# initial\n",
    "results_initial = sim_lc(initial_guess, metsim_obj)"
   ]
  },
  {
   "cell_type": "markdown",
   "id": "cfe3cce5-230f-4540-93d0-412c953d50d4",
   "metadata": {},
   "source": [
    "Plot simulated initial guess versus observed magnitudes and intensities:"
   ]
  },
  {
   "cell_type": "code",
   "execution_count": 107,
   "id": "9313bf8b-3013-4db5-83b5-a4ca0315ba04",
   "metadata": {},
   "outputs": [
    {
     "data": {
      "text/plain": [
       "<matplotlib.legend.Legend at 0x7f9935fc6e90>"
      ]
     },
     "execution_count": 107,
     "metadata": {},
     "output_type": "execute_result"
    },
    {
     "data": {
      "image/png": "[encoded data removed]",
      "text/plain": [
       "<Figure size 1200x800 with 1 Axes>"
      ]
     },
     "metadata": {},
     "output_type": "display_data"
    }
   ],
   "source": [
    "plt.figure(figsize = (12, 8))\n",
    "plt.plot(results_initial.abs_magnitude, results_initial.leading_frag_height_arr/1000., label = 'leading simulated')\n",
    "plt.plot(metsim_obj.usg_data.absolute_magnitudes, metsim_obj.traj.observations[0].model_ht/1000., label = 'observed')\n",
    "plt.ylim(10., 80.)\n",
    "plt.legend()"
   ]
  },
  {
   "cell_type": "code",
   "execution_count": 108,
   "id": "61ed54fc-059f-4440-9ddb-46879940c677",
   "metadata": {},
   "outputs": [
    {
     "data": {
      "text/plain": [
       "<matplotlib.legend.Legend at 0x7f9935ff0ac0>"
      ]
     },
     "execution_count": 108,
     "metadata": {},
     "output_type": "execute_result"
    },
    {
     "data": {
      "image/png": "[encoded data removed]",
      "text/plain": [
       "<Figure size 1200x800 with 1 Axes>"
      ]
     },
     "metadata": {},
     "output_type": "display_data"
    }
   ],
   "source": [
    "plt.figure(figsize = (12, 8))\n",
    "# plt.plot(results_initial.luminosity_arr, results_initial.main_height_arr/1000., label = 'main')\n",
    "# plt.plot(results_initial.luminosity_arr, results_initial.brightest_height_arr/1000., label = 'brightest')\n",
    "plt.plot(results_initial.luminosity_arr, results_initial.leading_frag_height_arr/1000., label = 'leading simulated')\n",
    "plt.plot(obs_lc_intensity, metsim_obj.traj.observations[0].model_ht/1000., label = 'observed')\n",
    "plt.ylim(10., 80.)\n",
    "plt.legend()"
   ]
  },
  {
   "cell_type": "markdown",
   "id": "8c367a14-62b5-4a02-88e7-b4d68e0af224",
   "metadata": {},
   "source": [
    "NS comparison:"
   ]
  },
  {
   "cell_type": "code",
   "execution_count": 33,
   "id": "0601c080-3c8c-4010-bf6e-5ba29366fd6d",
   "metadata": {},
   "outputs": [
    {
     "data": {
      "text/plain": [
       "<matplotlib.legend.Legend at 0x7f9936592290>"
      ]
     },
     "execution_count": 33,
     "metadata": {},
     "output_type": "execute_result"
    },
    {
     "data": {
      "image/png": "[encoded data removed]",
      "text/plain": [
       "<Figure size 1200x800 with 1 Axes>"
      ]
     },
     "metadata": {},
     "output_type": "display_data"
    }
   ],
   "source": [
    "ns_best = np.array([2.79491864e+06, 3.39459016e+00, 4.43595868e+01, 2.30448810e+01,\n",
    "       4.73563292e+01, 9.95408021e+01, 1.53215818e-06, 3.29180188e-06,\n",
    "       3.47758754e-06, 9.78012622e-07, 1.03178469e-02, 1.20472123e-04,\n",
    "       2.96424765e-03, 3.47041755e-01, 8.56338941e-03, 5.03314966e-02,\n",
    "       5.64072385e-01, 4.03018658e-01, 6.64112175e-01, 4.92696755e-02])\n",
    "# ns\n",
    "results_ns = sim_lc(ns_best, metsim_obj)\n",
    "\n",
    "# Plot\n",
    "plt.figure(figsize = (12, 8))\n",
    "plt.plot(results_initial.luminosity_arr, results_initial.leading_frag_height_arr/1000., label = 'leading initial', color = 'dodgerblue')\n",
    "plt.plot(results_ns.luminosity_arr, results_ns.leading_frag_height_arr/1000., label = 'leading ns', color = 'black')\n",
    "plt.plot(obs_lc_intensity, metsim_obj.traj.observations[0].model_ht/1000., label = 'observed', color = 'red')\n",
    "plt.ylim(20., 50.)\n",
    "plt.legend()"
   ]
  },
  {
   "cell_type": "code",
   "execution_count": 31,
   "id": "de416b2b-b594-4dca-95b4-8e7136ef1683",
   "metadata": {},
   "outputs": [
    {
     "data": {
      "text/plain": [
       "<matplotlib.legend.Legend at 0x7f56b710dae0>"
      ]
     },
     "execution_count": 31,
     "metadata": {},
     "output_type": "execute_result"
    },
    {
     "data": {
      "image/png": "[encoded data removed]",
      "text/plain": [
       "<Figure size 1200x800 with 1 Axes>"
      ]
     },
     "metadata": {},
     "output_type": "display_data"
    }
   ],
   "source": [
    "plt.figure(figsize = (12, 8))\n",
    "plt.plot(results_initial.abs_magnitude, results_initial.leading_frag_height_arr/1000., label = 'leading initial', color = 'dodgerblue')\n",
    "plt.plot(results_ns.abs_magnitude, results_ns.leading_frag_height_arr/1000., label = 'leading ns', color = 'black')\n",
    "plt.plot(metsim_obj.usg_data.absolute_magnitudes, metsim_obj.traj.observations[0].model_ht/1000., label = 'observed', color = 'red')\n",
    "plt.ylim(10., 80.)\n",
    "plt.legend()"
   ]
  },
  {
   "cell_type": "code",
   "execution_count": 41,
   "id": "6e418316-cf8d-4894-84f8-28bb1894f75e",
   "metadata": {},
   "outputs": [
    {
     "data": {
      "text/plain": [
       "(-1.9404565175001293e+17, -15.108404095219393)"
      ]
     },
     "execution_count": 41,
     "metadata": {},
     "output_type": "execute_result"
    }
   ],
   "source": [
    "log_likelihood(ns_best), log_likelihood(initial_guess)"
   ]
  },
  {
   "cell_type": "markdown",
   "id": "5afd96c6-858d-4aa7-8bec-831443bf56f6",
   "metadata": {},
   "source": [
    "## NS:"
   ]
  },
  {
   "cell_type": "markdown",
   "id": "426dfe90-6654-4c7a-8839-ca9984b51a41",
   "metadata": {},
   "source": [
    "Uniform bounds:"
   ]
  },
  {
   "cell_type": "code",
   "execution_count": 84,
   "id": "90b864de-73f3-4858-9195-333006222446",
   "metadata": {},
   "outputs": [],
   "source": [
    "# Generate the tuples based on the length of free fragments\n",
    "fragmentation_count = len(FREE_FRAG_INDICES)\n",
    "# Fragment mass percents\n",
    "frag_mass_percents = tuple((0., 100.) for _ in range(fragmentation_count))\n",
    "# Frag ablation coeffs\n",
    "# these are 0.01 for dust and between (0.002 * 1e-6, 0.025 * 1e-6) for eroding fragments\n",
    "# frag_ablation_coeffs = tuple((0.002 * 1e-6, 0.025 * 1e-6) for _ in range(fragmentation_count))\n",
    "# frag_ablation_coeffs = tuple([(0.01 * 1e-6, 0.01 * 1e-6) if entry.frag_type == 'D'\n",
    "#                               else (0.002 * 1e-6, 0.025 * 1e-6) for entry in metsim_obj.fragmentation_entries])\n",
    "# Frag erosion coeffs\n",
    "# these are fixed at zero for dust and between (0.23 * 1e-6, 6.0 * 1e-6) for eroding fragments\n",
    "# frag_erosion_coeffs = tuple([(0., 0.) if entry.frag_type == 'D' \n",
    "#                              else (0.23 * 1e-6, 6.0 * 1e-6) for entry in metsim_obj.fragmentation_entries])\n",
    "# keep lower bound above 0.1e6 because that's where the initial guess is\n",
    "frag_erosion_coeffs = tuple([(0.05 * 1e-6, 10.0 * 1e-6) for entry in \n",
    "                             [metsim_obj.fragmentation_entries[i] for i in ER_FRAG_INDICES]])\n",
    "# frag_erosion_coeffs = tuple((0.23 * 1e-6, 6.0 * 1e-6) for _ in range(fragmentation_count))\n",
    "# Frag grain mins\n",
    "# frag_grain_mins = tuple((1e-8, 1e-2) for _ in range(fragmentation_count))\n",
    "frag_grain_mins = tuple((1e-4, 1e2) for _ in range(fragmentation_count))\n",
    "# Frag grain maxs\n",
    "frag_grain_maxs = tuple((1e-3, 1e4) for _ in range(fragmentation_count))\n",
    "# Combine them into a single flat tuple\n",
    "#### CHANGE THE RESULTS/BOUNDS DEPENDING ON WHAT COMBINATION IS BEING USED!\n",
    "result = frag_mass_percents + frag_erosion_coeffs + frag_grain_mins + frag_grain_maxs\n",
    "# Print the result to check the output\n",
    "hard_bounds = np.array(((1.e4, 1.e7), ) + result)"
   ]
  },
  {
   "cell_type": "markdown",
   "id": "04b890db-9fab-42bc-bd82-b1d8165d3be6",
   "metadata": {},
   "source": [
    "More restrictive bounds"
   ]
  },
  {
   "cell_type": "code",
   "execution_count": 85,
   "id": "c2f01179-8c7f-4280-9543-706cffde76ac",
   "metadata": {},
   "outputs": [],
   "source": [
    "# initialize particles\n",
    "cov_factor = 1.e-1  # CHANGE THIS DEPENDING ON THE EVENT\n",
    "cov = np.float64(np.diag(np.ones(len(initial_guess)) * (initial_guess ** 2))) * cov_factor\n",
    "# cov = np.eye(len(initial_guess), len(initial_guess)) * cov_factor\n",
    "mu = initial_guess\n",
    "bounds = tuple([tuple(np.clip((mu[i] - 2. * np.diag(np.sqrt(cov))[i], mu[i] + 2. * np.diag(np.sqrt(cov))[i]), \n",
    "                        hard_bounds[i][0], hard_bounds[i][1])) for i in range(0, len(mu))])\n",
    "\n",
    "# manually change certain bounds\n",
    "bounds = np.array(bounds)\n",
    "bounds[0] = (1.e4, 1.e7)\n",
    "bounds[1:len(frag_mass_percents) + 1] = np.repeat([(0., 100.)], len(frag_mass_percents), axis=0)\n",
    "bounds = tuple([tuple(bound) for bound in bounds])"
   ]
  },
  {
   "cell_type": "code",
   "execution_count": 86,
   "id": "131c7bc9-08e4-4ca3-b562-6b13d46281fd",
   "metadata": {},
   "outputs": [
    {
     "data": {
      "text/plain": [
       "((10000.0, 10000000.0),\n",
       " (0.0, 100.0),\n",
       " (0.0, 100.0),\n",
       " (0.0, 100.0),\n",
       " (2.6941009501931553e-06, 9.999999999999999e-06),\n",
       " (1.1026334038989723e-06, 4.897366596101028e-06),\n",
       " (3.307900211696917e-07, 1.4692099788303085e-06),\n",
       " (0.03675444679663241, 0.1632455532033676),\n",
       " (0.0036754446796632414, 0.016324555320336758),\n",
       " (0.0036754446796632414, 0.016324555320336758),\n",
       " (1.8377223398316205, 8.16227766016838),\n",
       " (0.3675444679663241, 1.632455532033676),\n",
       " (0.18377223398316206, 0.816227766016838))"
      ]
     },
     "execution_count": 86,
     "metadata": {},
     "output_type": "execute_result"
    }
   ],
   "source": [
    "bounds"
   ]
  },
  {
   "cell_type": "markdown",
   "id": "4dda9123-6522-4a7e-941c-9b85547b7093",
   "metadata": {},
   "source": [
    "Run the optimization procedure on each segment of the light curve:"
   ]
  },
  {
   "cell_type": "markdown",
   "id": "b5423c37-a598-4f4b-9e56-e79a152f6391",
   "metadata": {},
   "source": [
    "Set up NS with a uniform prior over all parameters (uses prior instead of log-prior, the log-likelihood is still the same):"
   ]
  },
  {
   "cell_type": "code",
   "execution_count": 87,
   "id": "385a7d47-ba6e-4545-8303-a26d535463bb",
   "metadata": {},
   "outputs": [],
   "source": [
    "import concurrent.futures\n",
    "import signal\n",
    "\n",
    "class TimeoutException(Exception):\n",
    "    \"\"\"Custom exception for timeouts.\"\"\"\n",
    "    pass\n",
    "\n",
    "def timeout_handler(signum, frame):\n",
    "    raise TimeoutException(\"Function execution timed out\")\n",
    "\n",
    "\n",
    "def gaussian_prior(cube, mu=mu, cov=cov, metsim_obj=metsim_obj, n_frags=fragmentation_count, er_frags=len(ER_FRAG_INDICES)):\n",
    "    \"\"\"\n",
    "    Transform the unit cube to a multivariate Gaussian prior like the ball for MCMC\n",
    "\n",
    "    mu is the vector of mean values\n",
    "    cov is a covariance matrix\n",
    "    \"\"\"\n",
    "    t = scipy.stats.norm.ppf(cube)  # transform cube to standard normal\n",
    "    cube = mu + np.dot(np.sqrt(cov), t)  # correlate with appropriate mean and covariance\n",
    "    \n",
    "\n",
    "# PRIOR\n",
    "def prior(cube, tup_bounds=bounds, metsim_obj=metsim_obj, n_frags=fragmentation_count, er_frags=len(ER_FRAG_INDICES)):\n",
    "    \"\"\"\n",
    "    Transform the unit cube to a uniform prior\n",
    "    \"\"\"\n",
    "    # bounds\n",
    "    bounds = np.array(tup_bounds)\n",
    "    mass_bnds = bounds[0]\n",
    "    frag_mass_pct_bnds = bounds[1:n_frags + 1]\n",
    "    frag_er_coeff_bnds = bounds[n_frags + 1: n_frags + er_frags + 1]\n",
    "    frag_grain_min_bnds = bounds[n_frags + er_frags + 1: 2 * n_frags + er_frags + 1]\n",
    "    frag_grain_max_bnds = bounds[2 * n_frags + er_frags + 1: 3 * n_frags + er_frags + 1]\n",
    "    # particle params\n",
    "    cube[0] = cube[0] * (mass_bnds[1] - mass_bnds[0]) + mass_bnds[0] # transform [0, 1] unit cube to [mass_lower, mass_uper]\n",
    "    cube[1:n_frags + 1] = cube[1:n_frags + 1] * (frag_mass_pct_bnds[:, 1] - frag_mass_pct_bnds[:, 0]) + frag_mass_pct_bnds[:, 0]  # transform [0, 1] unit cube\n",
    "    cube[n_frags + 1: n_frags + er_frags + 1] = cube[n_frags + 1: n_frags + er_frags + 1] * (frag_er_coeff_bnds[:, 1] - frag_er_coeff_bnds[:, 0]) + frag_er_coeff_bnds[:, 0]\n",
    "    cube[n_frags + er_frags + 1: 2 * n_frags + er_frags + 1] = cube[n_frags + er_frags + 1: 2 * n_frags + er_frags + 1] * (frag_grain_min_bnds[:, 1] - frag_grain_min_bnds[:, 0]) + frag_grain_min_bnds[:, 0]\n",
    "    cube[2 * n_frags + er_frags + 1: 3 * n_frags + er_frags + 1] = cube[2 * n_frags + er_frags + 1: 3 * n_frags + er_frags + 1] * (frag_grain_max_bnds[:, 1] - cube[n_frags + er_frags + 1: 2 * n_frags + er_frags + 1]) + cube[n_frags + er_frags + 1: 2 * n_frags + er_frags + 1]\n",
    "    return cube\n",
    "\n",
    "def run_with_timeout(func, timeout, *args, **kwargs):\n",
    "    \"\"\"\n",
    "    Runs a function with a timeout using signal.\n",
    "    Returns `nan` if the function exceeds the timeout.\n",
    "\n",
    "    :param func: The function to execute.\n",
    "    :param timeout: The maximum allowed execution time (in seconds).\n",
    "    :param args: Positional arguments for the function.\n",
    "    :param kwargs: Keyword arguments for the function.\n",
    "    :return: The function's return value, or `nan` if it times out.\n",
    "    \"\"\"\n",
    "    # Set the timeout handler\n",
    "    signal.signal(signal.SIGALRM, timeout_handler)\n",
    "    signal.alarm(timeout)  # Start the timer\n",
    "    try:\n",
    "        result = func(*args, **kwargs)\n",
    "    except TimeoutException:\n",
    "        result = math.nan  # Return `nan` on timeout\n",
    "    finally:\n",
    "        signal.alarm(0)  # Cancel the alarm\n",
    "    return result\n",
    "\n",
    "\n",
    "def log_likelihood(particle, metsim_obj=metsim_obj, timeout=10):\n",
    "    \"\"\"\n",
    "    similar to the get_lc_cost_function function but with positive instead of negative log-likelihood\n",
    "    \"\"\"\n",
    "    # observed LC intensity, this doesn't change\n",
    "    obs_lc_intensity = 3030 * (10 ** (metsim_obj.usg_data.absolute_magnitudes/(-2.5)))\n",
    "\n",
    "    # Set timeout handler\n",
    "    signal.signal(signal.SIGALRM, timeout_handler)\n",
    "    signal.alarm(timeout)  # Start the timer for timeout\n",
    "    # get simulated LC intensity onthe object\n",
    "    try: \n",
    "        simulation_results = sim_lc(particle, metsim_obj)\n",
    "    except TimeoutException:\n",
    "        print('timeout')\n",
    "        return -np.inf  # immediately return -np.inf if times out\n",
    "    finally:\n",
    "        signal.alarm(0)  # Cancel alarm\n",
    "    # compute simulated LC intensity\n",
    "    # find where height starts increasing if it does at any point\n",
    "    # print(np.diff(simulation_results.leading_frag_height_arr))\n",
    "    if np.sum(np.diff(simulation_results.leading_frag_height_arr) > 0) > 0:\n",
    "        first_increasing_height_arr = np.where(np.diff(simulation_results.leading_frag_height_arr) > 0)[0][0] - 1\n",
    "        # print('increasing height')\n",
    "    else:\n",
    "        first_increasing_height_arr = -1\n",
    "    # interpolate to make sure they are the same length and discard points after height starts increasing if it does at any point\n",
    "    simulated_lc_intensity = np.interp(metsim_obj.traj.observations[0].model_ht, \n",
    "                                       np.flip(simulation_results.leading_frag_height_arr[:first_increasing_height_arr]), \n",
    "                                       np.flip(simulation_results.luminosity_arr[:first_increasing_height_arr]))\n",
    "    # return the negative log-likelihood (negative residual sum of square difference between the two)\n",
    "    # assuming there is no error for the observed LC data\n",
    "    # print(len(obs_lc_intensity), len(simulated_lc_intensity))\n",
    "    log_likelihood = (-1/2 * np.nansum((obs_lc_intensity - simulated_lc_intensity) ** 2))/1.e24  # scale this\n",
    "    # print(f'negative logL: {-log_likelihood}')\n",
    "    # positive log lieklihood unlike get_lc_cost_function\n",
    "    return log_likelihood\n"
   ]
  },
  {
   "cell_type": "markdown",
   "id": "a7c659d6-2aaa-44fd-83f4-a3925cb9f1ba",
   "metadata": {},
   "source": [
    "Set up NS:"
   ]
  },
  {
   "cell_type": "code",
   "execution_count": 88,
   "id": "b76341ca-f194-4f06-bd3b-4429e0536682",
   "metadata": {},
   "outputs": [],
   "source": [
    "n_params = len(initial_guess)"
   ]
  },
  {
   "cell_type": "markdown",
   "id": "f1185444-78ac-47cf-9813-95f7c0b64787",
   "metadata": {},
   "source": [
    "Run NS:"
   ]
  },
  {
   "cell_type": "code",
   "execution_count": null,
   "id": "027f5640-178c-475d-9ee5-57260a6df1ab",
   "metadata": {
    "scrolled": true
   },
   "outputs": [
    {
     "name": "stderr",
     "output_type": "stream",
     "text": [
      "0it [00:00, ?it/s]/home/ichow9/Thesis/physical/../../source/WesternMeteorPyLib/wmpl/MetSim/GUI.py:95: RuntimeWarning: divide by zero encountered in log10\n",
      "  self.abs_magnitude_main = -2.5*np.log10(self.luminosity_main_arr/self.const.P_0m)\n",
      "/home/ichow9/Thesis/physical/../../source/WesternMeteorPyLib/wmpl/MetSim/GUI.py:99: RuntimeWarning: divide by zero encountered in log10\n",
      "  self.abs_magnitude_eroded = -2.5*np.log10(self.luminosity_eroded_arr/self.const.P_0m)\n",
      "/home/ichow9/Thesis/physical/../../source/WesternMeteorPyLib/wmpl/MetSim/GUI.py:95: RuntimeWarning: divide by zero encountered in log10\n",
      "  self.abs_magnitude_main = -2.5*np.log10(self.luminosity_main_arr/self.const.P_0m)\n",
      "/home/ichow9/Thesis/physical/../../source/WesternMeteorPyLib/wmpl/MetSim/GUI.py:99: RuntimeWarning: divide by zero encountered in log10\n",
      "  self.abs_magnitude_eroded = -2.5*np.log10(self.luminosity_eroded_arr/self.const.P_0m)\n",
      "/home/ichow9/Thesis/physical/../../source/WesternMeteorPyLib/wmpl/MetSim/GUI.py:95: RuntimeWarning: divide by zero encountered in log10\n",
      "  self.abs_magnitude_main = -2.5*np.log10(self.luminosity_main_arr/self.const.P_0m)\n",
      "/home/ichow9/Thesis/physical/../../source/WesternMeteorPyLib/wmpl/MetSim/GUI.py:99: RuntimeWarning: divide by zero encountered in log10\n",
      "  self.abs_magnitude_eroded = -2.5*np.log10(self.luminosity_eroded_arr/self.const.P_0m)\n",
      "/home/ichow9/Thesis/physical/../../source/WesternMeteorPyLib/wmpl/MetSim/GUI.py:95: RuntimeWarning: divide by zero encountered in log10\n",
      "  self.abs_magnitude_main = -2.5*np.log10(self.luminosity_main_arr/self.const.P_0m)\n",
      "/home/ichow9/Thesis/physical/../../source/WesternMeteorPyLib/wmpl/MetSim/GUI.py:99: RuntimeWarning: divide by zero encountered in log10\n",
      "  self.abs_magnitude_eroded = -2.5*np.log10(self.luminosity_eroded_arr/self.const.P_0m)\n",
      "/home/ichow9/Thesis/physical/../../source/WesternMeteorPyLib/wmpl/MetSim/GUI.py:95: RuntimeWarning: divide by zero encountered in log10\n",
      "  self.abs_magnitude_main = -2.5*np.log10(self.luminosity_main_arr/self.const.P_0m)\n",
      "/home/ichow9/Thesis/physical/../../source/WesternMeteorPyLib/wmpl/MetSim/GUI.py:99: RuntimeWarning: divide by zero encountered in log10\n",
      "  self.abs_magnitude_eroded = -2.5*np.log10(self.luminosity_eroded_arr/self.const.P_0m)\n",
      "/home/ichow9/Thesis/physical/../../source/WesternMeteorPyLib/wmpl/MetSim/GUI.py:95: RuntimeWarning: divide by zero encountered in log10\n",
      "  self.abs_magnitude_main = -2.5*np.log10(self.luminosity_main_arr/self.const.P_0m)\n",
      "/home/ichow9/Thesis/physical/../../source/WesternMeteorPyLib/wmpl/MetSim/GUI.py:99: RuntimeWarning: divide by zero encountered in log10\n",
      "  self.abs_magnitude_eroded = -2.5*np.log10(self.luminosity_eroded_arr/self.const.P_0m)\n",
      "/home/ichow9/Thesis/physical/../../source/WesternMeteorPyLib/wmpl/MetSim/GUI.py:95: RuntimeWarning: divide by zero encountered in log10\n",
      "  self.abs_magnitude_main = -2.5*np.log10(self.luminosity_main_arr/self.const.P_0m)\n",
      "/home/ichow9/Thesis/physical/../../source/WesternMeteorPyLib/wmpl/MetSim/GUI.py:99: RuntimeWarning: divide by zero encountered in log10\n",
      "  self.abs_magnitude_eroded = -2.5*np.log10(self.luminosity_eroded_arr/self.const.P_0m)\n",
      "/home/ichow9/Thesis/physical/../../source/WesternMeteorPyLib/wmpl/MetSim/GUI.py:95: RuntimeWarning: divide by zero encountered in log10\n",
      "  self.abs_magnitude_main = -2.5*np.log10(self.luminosity_main_arr/self.const.P_0m)\n",
      "/home/ichow9/Thesis/physical/../../source/WesternMeteorPyLib/wmpl/MetSim/GUI.py:99: RuntimeWarning: divide by zero encountered in log10\n",
      "  self.abs_magnitude_eroded = -2.5*np.log10(self.luminosity_eroded_arr/self.const.P_0m)\n",
      "/home/ichow9/Thesis/physical/../../source/WesternMeteorPyLib/wmpl/MetSim/GUI.py:95: RuntimeWarning: divide by zero encountered in log10\n",
      "  self.abs_magnitude_main = -2.5*np.log10(self.luminosity_main_arr/self.const.P_0m)\n",
      "/home/ichow9/Thesis/physical/../../source/WesternMeteorPyLib/wmpl/MetSim/GUI.py:99: RuntimeWarning: divide by zero encountered in log10\n",
      "  self.abs_magnitude_eroded = -2.5*np.log10(self.luminosity_eroded_arr/self.const.P_0m)\n",
      "/home/ichow9/Thesis/physical/../../source/WesternMeteorPyLib/wmpl/MetSim/GUI.py:95: RuntimeWarning: divide by zero encountered in log10\n",
      "  self.abs_magnitude_main = -2.5*np.log10(self.luminosity_main_arr/self.const.P_0m)\n",
      "/home/ichow9/Thesis/physical/../../source/WesternMeteorPyLib/wmpl/MetSim/GUI.py:99: RuntimeWarning: divide by zero encountered in log10\n",
      "  self.abs_magnitude_eroded = -2.5*np.log10(self.luminosity_eroded_arr/self.const.P_0m)\n",
      "/home/ichow9/Thesis/physical/../../source/WesternMeteorPyLib/wmpl/MetSim/GUI.py:95: RuntimeWarning: divide by zero encountered in log10\n",
      "  self.abs_magnitude_main = -2.5*np.log10(self.luminosity_main_arr/self.const.P_0m)\n",
      "/home/ichow9/Thesis/physical/../../source/WesternMeteorPyLib/wmpl/MetSim/GUI.py:99: RuntimeWarning: divide by zero encountered in log10\n",
      "  self.abs_magnitude_eroded = -2.5*np.log10(self.luminosity_eroded_arr/self.const.P_0m)\n",
      "/home/ichow9/Thesis/physical/../../source/WesternMeteorPyLib/wmpl/MetSim/GUI.py:95: RuntimeWarning: divide by zero encountered in log10\n",
      "  self.abs_magnitude_main = -2.5*np.log10(self.luminosity_main_arr/self.const.P_0m)\n",
      "/home/ichow9/Thesis/physical/../../source/WesternMeteorPyLib/wmpl/MetSim/GUI.py:99: RuntimeWarning: divide by zero encountered in log10\n",
      "  self.abs_magnitude_eroded = -2.5*np.log10(self.luminosity_eroded_arr/self.const.P_0m)\n",
      "/home/ichow9/Thesis/physical/../../source/WesternMeteorPyLib/wmpl/MetSim/GUI.py:95: RuntimeWarning: divide by zero encountered in log10\n",
      "  self.abs_magnitude_main = -2.5*np.log10(self.luminosity_main_arr/self.const.P_0m)\n",
      "/home/ichow9/Thesis/physical/../../source/WesternMeteorPyLib/wmpl/MetSim/GUI.py:95: RuntimeWarning: divide by zero encountered in log10\n",
      "  self.abs_magnitude_main = -2.5*np.log10(self.luminosity_main_arr/self.const.P_0m)\n",
      "/home/ichow9/Thesis/physical/../../source/WesternMeteorPyLib/wmpl/MetSim/GUI.py:99: RuntimeWarning: divide by zero encountered in log10\n",
      "  self.abs_magnitude_eroded = -2.5*np.log10(self.luminosity_eroded_arr/self.const.P_0m)\n",
      "/home/ichow9/Thesis/physical/../../source/WesternMeteorPyLib/wmpl/MetSim/GUI.py:99: RuntimeWarning: divide by zero encountered in log10\n",
      "  self.abs_magnitude_eroded = -2.5*np.log10(self.luminosity_eroded_arr/self.const.P_0m)\n",
      "/home/ichow9/Thesis/physical/../../source/WesternMeteorPyLib/wmpl/MetSim/GUI.py:95: RuntimeWarning: divide by zero encountered in log10\n",
      "  self.abs_magnitude_main = -2.5*np.log10(self.luminosity_main_arr/self.const.P_0m)\n",
      "/home/ichow9/Thesis/physical/../../source/WesternMeteorPyLib/wmpl/MetSim/GUI.py:99: RuntimeWarning: divide by zero encountered in log10\n",
      "  self.abs_magnitude_eroded = -2.5*np.log10(self.luminosity_eroded_arr/self.const.P_0m)\n",
      "/home/ichow9/Thesis/physical/../../source/WesternMeteorPyLib/wmpl/MetSim/GUI.py:95: RuntimeWarning: divide by zero encountered in log10\n",
      "  self.abs_magnitude_main = -2.5*np.log10(self.luminosity_main_arr/self.const.P_0m)\n",
      "/home/ichow9/Thesis/physical/../../source/WesternMeteorPyLib/wmpl/MetSim/GUI.py:99: RuntimeWarning: divide by zero encountered in log10\n",
      "  self.abs_magnitude_eroded = -2.5*np.log10(self.luminosity_eroded_arr/self.const.P_0m)\n",
      "/home/ichow9/Thesis/physical/../../source/WesternMeteorPyLib/wmpl/MetSim/GUI.py:95: RuntimeWarning: divide by zero encountered in log10\n",
      "  self.abs_magnitude_main = -2.5*np.log10(self.luminosity_main_arr/self.const.P_0m)\n",
      "/home/ichow9/Thesis/physical/../../source/WesternMeteorPyLib/wmpl/MetSim/GUI.py:99: RuntimeWarning: divide by zero encountered in log10\n",
      "  self.abs_magnitude_eroded = -2.5*np.log10(self.luminosity_eroded_arr/self.const.P_0m)\n",
      "/home/ichow9/Thesis/physical/../../source/WesternMeteorPyLib/wmpl/MetSim/GUI.py:95: RuntimeWarning: divide by zero encountered in log10\n",
      "  self.abs_magnitude_main = -2.5*np.log10(self.luminosity_main_arr/self.const.P_0m)\n",
      "/home/ichow9/Thesis/physical/../../source/WesternMeteorPyLib/wmpl/MetSim/GUI.py:99: RuntimeWarning: divide by zero encountered in log10\n",
      "  self.abs_magnitude_eroded = -2.5*np.log10(self.luminosity_eroded_arr/self.const.P_0m)\n",
      "/home/ichow9/Thesis/physical/../../source/WesternMeteorPyLib/wmpl/MetSim/GUI.py:95: RuntimeWarning: divide by zero encountered in log10\n",
      "  self.abs_magnitude_main = -2.5*np.log10(self.luminosity_main_arr/self.const.P_0m)\n",
      "/home/ichow9/Thesis/physical/../../source/WesternMeteorPyLib/wmpl/MetSim/GUI.py:99: RuntimeWarning: divide by zero encountered in log10\n",
      "  self.abs_magnitude_eroded = -2.5*np.log10(self.luminosity_eroded_arr/self.const.P_0m)\n",
      "/home/ichow9/Thesis/physical/../../source/WesternMeteorPyLib/wmpl/MetSim/GUI.py:95: RuntimeWarning: divide by zero encountered in log10\n",
      "  self.abs_magnitude_main = -2.5*np.log10(self.luminosity_main_arr/self.const.P_0m)\n",
      "/home/ichow9/Thesis/physical/../../source/WesternMeteorPyLib/wmpl/MetSim/GUI.py:99: RuntimeWarning: divide by zero encountered in log10\n",
      "  self.abs_magnitude_eroded = -2.5*np.log10(self.luminosity_eroded_arr/self.const.P_0m)\n",
      "/home/ichow9/Thesis/physical/../../source/WesternMeteorPyLib/wmpl/MetSim/GUI.py:95: RuntimeWarning: divide by zero encountered in log10\n",
      "  self.abs_magnitude_main = -2.5*np.log10(self.luminosity_main_arr/self.const.P_0m)\n",
      "/home/ichow9/Thesis/physical/../../source/WesternMeteorPyLib/wmpl/MetSim/GUI.py:99: RuntimeWarning: divide by zero encountered in log10\n",
      "  self.abs_magnitude_eroded = -2.5*np.log10(self.luminosity_eroded_arr/self.const.P_0m)\n",
      "/home/ichow9/Thesis/physical/../../source/WesternMeteorPyLib/wmpl/MetSim/GUI.py:95: RuntimeWarning: divide by zero encountered in log10\n",
      "  self.abs_magnitude_main = -2.5*np.log10(self.luminosity_main_arr/self.const.P_0m)\n",
      "/home/ichow9/Thesis/physical/../../source/WesternMeteorPyLib/wmpl/MetSim/GUI.py:99: RuntimeWarning: divide by zero encountered in log10\n",
      "  self.abs_magnitude_eroded = -2.5*np.log10(self.luminosity_eroded_arr/self.const.P_0m)\n",
      "/home/ichow9/Thesis/physical/../../source/WesternMeteorPyLib/wmpl/MetSim/GUI.py:95: RuntimeWarning: divide by zero encountered in log10\n",
      "  self.abs_magnitude_main = -2.5*np.log10(self.luminosity_main_arr/self.const.P_0m)\n",
      "/home/ichow9/Thesis/physical/../../source/WesternMeteorPyLib/wmpl/MetSim/GUI.py:99: RuntimeWarning: divide by zero encountered in log10\n",
      "  self.abs_magnitude_eroded = -2.5*np.log10(self.luminosity_eroded_arr/self.const.P_0m)\n",
      "/home/ichow9/Thesis/physical/../../source/WesternMeteorPyLib/wmpl/MetSim/GUI.py:95: RuntimeWarning: divide by zero encountered in log10\n",
      "  self.abs_magnitude_main = -2.5*np.log10(self.luminosity_main_arr/self.const.P_0m)\n",
      "/home/ichow9/Thesis/physical/../../source/WesternMeteorPyLib/wmpl/MetSim/GUI.py:99: RuntimeWarning: divide by zero encountered in log10\n",
      "  self.abs_magnitude_eroded = -2.5*np.log10(self.luminosity_eroded_arr/self.const.P_0m)\n",
      "/home/ichow9/Thesis/physical/../../source/WesternMeteorPyLib/wmpl/MetSim/GUI.py:95: RuntimeWarning: divide by zero encountered in log10\n",
      "  self.abs_magnitude_main = -2.5*np.log10(self.luminosity_main_arr/self.const.P_0m)\n",
      "/home/ichow9/Thesis/physical/../../source/WesternMeteorPyLib/wmpl/MetSim/GUI.py:99: RuntimeWarning: divide by zero encountered in log10\n",
      "  self.abs_magnitude_eroded = -2.5*np.log10(self.luminosity_eroded_arr/self.const.P_0m)\n",
      "/home/ichow9/Thesis/physical/../../source/WesternMeteorPyLib/wmpl/MetSim/GUI.py:95: RuntimeWarning: divide by zero encountered in log10\n",
      "  self.abs_magnitude_main = -2.5*np.log10(self.luminosity_main_arr/self.const.P_0m)\n",
      "/home/ichow9/Thesis/physical/../../source/WesternMeteorPyLib/wmpl/MetSim/GUI.py:99: RuntimeWarning: divide by zero encountered in log10\n",
      "  self.abs_magnitude_eroded = -2.5*np.log10(self.luminosity_eroded_arr/self.const.P_0m)\n",
      "/home/ichow9/Thesis/physical/../../source/WesternMeteorPyLib/wmpl/MetSim/GUI.py:95: RuntimeWarning: divide by zero encountered in log10\n",
      "  self.abs_magnitude_main = -2.5*np.log10(self.luminosity_main_arr/self.const.P_0m)\n",
      "/home/ichow9/Thesis/physical/../../source/WesternMeteorPyLib/wmpl/MetSim/GUI.py:99: RuntimeWarning: divide by zero encountered in log10\n",
      "  self.abs_magnitude_eroded = -2.5*np.log10(self.luminosity_eroded_arr/self.const.P_0m)\n",
      "/home/ichow9/Thesis/physical/../../source/WesternMeteorPyLib/wmpl/MetSim/GUI.py:95: RuntimeWarning: divide by zero encountered in log10\n",
      "  self.abs_magnitude_main = -2.5*np.log10(self.luminosity_main_arr/self.const.P_0m)\n",
      "/home/ichow9/Thesis/physical/../../source/WesternMeteorPyLib/wmpl/MetSim/GUI.py:99: RuntimeWarning: divide by zero encountered in log10\n",
      "  self.abs_magnitude_eroded = -2.5*np.log10(self.luminosity_eroded_arr/self.const.P_0m)\n",
      "/home/ichow9/Thesis/physical/../../source/WesternMeteorPyLib/wmpl/MetSim/GUI.py:95: RuntimeWarning: divide by zero encountered in log10\n",
      "  self.abs_magnitude_main = -2.5*np.log10(self.luminosity_main_arr/self.const.P_0m)\n",
      "/home/ichow9/Thesis/physical/../../source/WesternMeteorPyLib/wmpl/MetSim/GUI.py:99: RuntimeWarning: divide by zero encountered in log10\n",
      "  self.abs_magnitude_eroded = -2.5*np.log10(self.luminosity_eroded_arr/self.const.P_0m)\n",
      "/home/ichow9/Thesis/physical/../../source/WesternMeteorPyLib/wmpl/MetSim/GUI.py:95: RuntimeWarning: divide by zero encountered in log10\n",
      "  self.abs_magnitude_main = -2.5*np.log10(self.luminosity_main_arr/self.const.P_0m)\n",
      "/home/ichow9/Thesis/physical/../../source/WesternMeteorPyLib/wmpl/MetSim/GUI.py:99: RuntimeWarning: divide by zero encountered in log10\n",
      "  self.abs_magnitude_eroded = -2.5*np.log10(self.luminosity_eroded_arr/self.const.P_0m)\n"
     ]
    },
    {
     "name": "stdout",
     "output_type": "stream",
     "text": [
      "timeout\n",
      "timeout\n",
      "timeout\n"
     ]
    },
    {
     "name": "stderr",
     "output_type": "stream",
     "text": [
      "/home/ichow9/Thesis/physical/../../source/WesternMeteorPyLib/wmpl/MetSim/GUI.py:95: RuntimeWarning: divide by zero encountered in log10\n",
      "  self.abs_magnitude_main = -2.5*np.log10(self.luminosity_main_arr/self.const.P_0m)\n",
      "/home/ichow9/Thesis/physical/../../source/WesternMeteorPyLib/wmpl/MetSim/GUI.py:99: RuntimeWarning: divide by zero encountered in log10\n",
      "  self.abs_magnitude_eroded = -2.5*np.log10(self.luminosity_eroded_arr/self.const.P_0m)\n"
     ]
    },
    {
     "name": "stdout",
     "output_type": "stream",
     "text": [
      "timeout\n"
     ]
    },
    {
     "name": "stderr",
     "output_type": "stream",
     "text": [
      "/home/ichow9/Thesis/physical/../../source/WesternMeteorPyLib/wmpl/MetSim/GUI.py:95: RuntimeWarning: divide by zero encountered in log10\n",
      "  self.abs_magnitude_main = -2.5*np.log10(self.luminosity_main_arr/self.const.P_0m)\n",
      "/home/ichow9/Thesis/physical/../../source/WesternMeteorPyLib/wmpl/MetSim/GUI.py:99: RuntimeWarning: divide by zero encountered in log10\n",
      "  self.abs_magnitude_eroded = -2.5*np.log10(self.luminosity_eroded_arr/self.const.P_0m)\n"
     ]
    },
    {
     "name": "stdout",
     "output_type": "stream",
     "text": [
      "timeout\n",
      "timeout\n",
      "timeout\n",
      "timeout\n",
      "timeout\n",
      "timeout\n",
      "timeout\n",
      "timeout\n",
      "timeout\n"
     ]
    },
    {
     "name": "stderr",
     "output_type": "stream",
     "text": [
      "33it [01:46,  2.37s/it, batch: 0 | bound: 0 | nc: 1 | ncall: 33 | eff(%):  6.191 | loglstar:   -inf < -182912.731 <    inf | logz: -182919.705 +/-    nan | dlogz: 180379.536 >  0.010]"
     ]
    },
    {
     "name": "stdout",
     "output_type": "stream",
     "text": [
      "timeout\n"
     ]
    },
    {
     "name": "stderr",
     "output_type": "stream",
     "text": [
      "62it [01:57,  1.24s/it, batch: 0 | bound: 0 | nc: 1 | ncall: 65 | eff(%): 10.973 | loglstar:   -inf < -156168.996 <    inf | logz: -156176.027 +/-    nan | dlogz: 155111.638 >  0.010]"
     ]
    },
    {
     "name": "stdout",
     "output_type": "stream",
     "text": [
      "timeout\n"
     ]
    },
    {
     "name": "stderr",
     "output_type": "stream",
     "text": [
      "89it [02:07,  1.15it/s, batch: 0 | bound: 0 | nc: 1 | ncall: 97 | eff(%): 14.908 | loglstar:   -inf < -139975.814 <    inf | logz: -139982.900 +/-    nan | dlogz: 137693.710 >  0.010]"
     ]
    },
    {
     "name": "stdout",
     "output_type": "stream",
     "text": [
      "timeout\n"
     ]
    },
    {
     "name": "stderr",
     "output_type": "stream",
     "text": [
      "116it [02:17,  1.46it/s, batch: 0 | bound: 0 | nc: 1 | ncall: 129 | eff(%): 18.442 | loglstar:   -inf < -125490.369 <    inf | logz: -125497.509 +/-    nan | dlogz: 124440.673 >  0.010]"
     ]
    },
    {
     "name": "stdout",
     "output_type": "stream",
     "text": [
      "timeout\n"
     ]
    },
    {
     "name": "stderr",
     "output_type": "stream",
     "text": [
      "210it [02:54,  2.14it/s, batch: 0 | bound: 0 | nc: 1 | ncall: 257 | eff(%): 27.741 | loglstar:   -inf < -77237.324 <    inf | logz: -77244.652 +/-    nan | dlogz: 74359.565 >  0.010]   "
     ]
    },
    {
     "name": "stdout",
     "output_type": "stream",
     "text": [
      "timeout\n"
     ]
    },
    {
     "name": "stderr",
     "output_type": "stream",
     "text": [
      "403it [04:42,  1.75it/s, batch: 0 | bound: 0 | nc: 2 | ncall: 641 | eff(%): 35.320 | loglstar:   -inf < -26133.027 <    inf | logz: -26140.741 +/-    nan | dlogz: 23201.796 >  0.010]"
     ]
    },
    {
     "name": "stdout",
     "output_type": "stream",
     "text": [
      "timeout\n"
     ]
    },
    {
     "name": "stderr",
     "output_type": "stream",
     "text": [
      "456it [05:18,  1.57it/s, batch: 0 | bound: 0 | nc: 5 | ncall: 772 | eff(%): 35.849 | loglstar:   -inf < -20518.056 <    inf | logz: -20525.875 +/-    nan | dlogz: 17593.860 >  0.010]"
     ]
    },
    {
     "name": "stdout",
     "output_type": "stream",
     "text": [
      "timeout\n"
     ]
    },
    {
     "name": "stderr",
     "output_type": "stream",
     "text": [
      "490it [05:46,  1.42it/s, batch: 0 | bound: 0 | nc: 2 | ncall: 865 | eff(%): 35.897 | loglstar:   -inf < -17291.617 <    inf | logz: -17299.504 +/-    nan | dlogz: 14357.974 >  0.010] "
     ]
    },
    {
     "name": "stdout",
     "output_type": "stream",
     "text": [
      "timeout\n"
     ]
    },
    {
     "name": "stderr",
     "output_type": "stream",
     "text": [
      "503it [05:56,  1.37it/s, batch: 0 | bound: 0 | nc: 3 | ncall: 899 | eff(%): 35.954 | loglstar:   -inf < -16024.416 <    inf | logz: -16032.329 +/-    nan | dlogz: 13081.416 >  0.010]"
     ]
    },
    {
     "name": "stdout",
     "output_type": "stream",
     "text": [
      "timeout\n"
     ]
    },
    {
     "name": "stderr",
     "output_type": "stream",
     "text": [
      "657it [08:16,  1.16s/it, batch: 0 | bound: 0 | nc: 4 | ncall: 1411 | eff(%): 34.380 | loglstar:   -inf < -9102.981 <    inf | logz: -9111.165 +/-    nan | dlogz: 6088.703 >  0.010]   Process ForkPoolWorker-287:\n",
      "Process ForkPoolWorker-283:\n",
      "Process ForkPoolWorker-274:\n",
      "665it [08:24,  1.32it/s, batch: 0 | bound: 0 | nc: 1 | ncall: 1437 | eff(%): 34.331 | loglstar:   -inf < -8985.271 <    inf | logz: -8993.508 +/-    nan | dlogz: 5986.686 >  0.010]Process ForkPoolWorker-281:\n"
     ]
    },
    {
     "name": "stdout",
     "output_type": "stream",
     "text": [
      "Exception while calling loglikelihood function:"
     ]
    },
    {
     "name": "stderr",
     "output_type": "stream",
     "text": [
      "Process ForkPoolWorker-277:\n",
      "Process ForkPoolWorker-264:\n",
      "Process ForkPoolWorker-286:\n",
      "Process ForkPoolWorker-280:\n",
      "Process ForkPoolWorker-275:\n",
      "Process ForkPoolWorker-272:\n",
      "Process ForkPoolWorker-285:\n",
      "Process ForkPoolWorker-270:\n",
      "Process ForkPoolWorker-267:\n",
      "Process ForkPoolWorker-276:\n",
      "Process ForkPoolWorker-261:\n",
      "Process ForkPoolWorker-256:\n",
      "Process ForkPoolWorker-262:\n",
      "Process ForkPoolWorker-263:\n",
      "Process ForkPoolWorker-271:\n",
      "Process ForkPoolWorker-257:\n",
      "Process ForkPoolWorker-268:\n",
      "Process ForkPoolWorker-269:\n",
      "Process ForkPoolWorker-265:\n",
      "Process ForkPoolWorker-278:\n",
      "Process ForkPoolWorker-260:\n"
     ]
    },
    {
     "name": "stdout",
     "output_type": "stream",
     "text": [
      "\n"
     ]
    },
    {
     "name": "stderr",
     "output_type": "stream",
     "text": [
      "Process ForkPoolWorker-259:\n",
      "Process ForkPoolWorker-279:\n",
      "Process ForkPoolWorker-284:\n",
      "Process ForkPoolWorker-273:\n"
     ]
    },
    {
     "name": "stdout",
     "output_type": "stream",
     "text": [
      "Exception while calling loglikelihood function:"
     ]
    },
    {
     "name": "stderr",
     "output_type": "stream",
     "text": [
      "Process ForkPoolWorker-258:\n"
     ]
    },
    {
     "name": "stdout",
     "output_type": "stream",
     "text": [
      "  params:\n",
      "   params: [4.88939762e+06 2.75468806e+01 4.21345799e+01 4.56195331e-01\n",
      " 7.85647396e+01 3.53786187e+01 2.04580337e+01 3.71094145e-06\n",
      " 4.26930143e-06 8.43685471e-06 3.90502165e-06 6.67856393e+00\n",
      " 4.95718756e+00 6.79910757e+01 7.94949042e+01 2.29958928e+00\n",
      " 5.86289722e+00 5.67770359e+03 8.85409340e+03 5.35535903e+03\n",
      " 8.24397822e+03 3.67786982e+02 2.36994461e+03]\n",
      "[6.68650659e+06 2.91467540e+01 8.70390521e+01 8.52042223e+00\n",
      " 8.48964342e+00 5.36881514e+01 6.87585194e+01 3.02100483e-06\n",
      " 1.40752489e-06 8.02964029e-06 4.71052692e-06 9.69262809e+00\n",
      " 2.77630594e+01 9.30935809e+01 4.51445656e+01 1.70276869e+01\n",
      " 2.33154595e+01 8.63267273e+03 7.32363089e+03 8.09570607e+03\n",
      " 4.30321159e+02 6.89613871e+03 4.49251153e+02]  args:\n",
      "   args:[] \n",
      "[]  kwargs:\n",
      "   kwargs:{} \n",
      "{}  exception:\n",
      "\n",
      "  exception:\n"
     ]
    },
    {
     "name": "stderr",
     "output_type": "stream",
     "text": [
      "Traceback (most recent call last):\n",
      "Traceback (most recent call last):\n",
      "  File \"/home/ichow9/.conda/envs/wmpl/lib/python3.10/site-packages/dynesty/dynesty.py\", line 913, in __call__\n",
      "    return self.func(np.asarray(x).copy(), *self.args, **self.kwargs)\n",
      "  File \"/home/ichow9/.conda/envs/wmpl/lib/python3.10/site-packages/dynesty/dynesty.py\", line 913, in __call__\n",
      "    return self.func(np.asarray(x).copy(), *self.args, **self.kwargs)\n",
      "  File \"/home/ichow9/.conda/envs/wmpl/lib/python3.10/site-packages/dynesty/pool.py\", line 38, in loglike_cache\n",
      "    return FunctionCache.loglike(x, *FunctionCache.logl_args, *args,\n",
      "  File \"/home/ichow9/.conda/envs/wmpl/lib/python3.10/site-packages/dynesty/pool.py\", line 38, in loglike_cache\n",
      "    return FunctionCache.loglike(x, *FunctionCache.logl_args, *args,\n",
      "  File \"/tmp/ipykernel_67754/2937150037.py\", line 67, in log_likelihood\n",
      "    simulation_results = sim_lc(particle, metsim_obj)\n",
      "  File \"/tmp/ipykernel_67754/2937150037.py\", line 67, in log_likelihood\n",
      "    simulation_results = sim_lc(particle, metsim_obj)\n",
      "  File \"/tmp/ipykernel_67754/2127192578.py\", line 98, in sim_lc\n",
      "    metsim_obj.initializeSimulation(all_params)\n",
      "  File \"/tmp/ipykernel_67754/2127192578.py\", line 98, in sim_lc\n",
      "    metsim_obj.initializeSimulation(all_params)\n",
      "  File \"/tmp/ipykernel_67754/881954825.py\", line 290, in initializeSimulation\n",
      "    frag_main, results_list, wake_results = erosion.runSimulation(self.const, compute_wake=self.wake_on)\n",
      "  File \"/tmp/ipykernel_67754/881954825.py\", line 290, in initializeSimulation\n",
      "    frag_main, results_list, wake_results = erosion.runSimulation(self.const, compute_wake=self.wake_on)\n",
      "  File \"/home/ichow9/Thesis/physical/../../source/WesternMeteorPyLib/wmpl/MetSim/MetSimErosion.py\", line 1257, in runSimulation\n",
      "    wake = ablateAll(fragments, const, compute_wake=compute_wake)\n",
      "  File \"/home/ichow9/Thesis/physical/../../source/WesternMeteorPyLib/wmpl/MetSim/MetSimErosion.py\", line 1257, in runSimulation\n",
      "    wake = ablateAll(fragments, const, compute_wake=compute_wake)\n",
      "  File \"/home/ichow9/Thesis/physical/../../source/WesternMeteorPyLib/wmpl/MetSim/MetSimErosion.py\", line 724, in ablateAll\n",
      "    frag.h = heightCurvature(const.h_init, const.zenith_angle, frag.length, const.r_earth)\n",
      "  File \"/home/ichow9/Thesis/physical/../../source/WesternMeteorPyLib/wmpl/MetSim/MetSimErosion.py\", line 704, in ablateAll\n",
      "    frag.v = math.sqrt(frag.vh**2 + frag.vv**2)\n",
      "  File \"/home/ichow9/Thesis/physical/../../source/WesternMeteorPyLib/wmpl/MetSim/MetSimErosion.py\", line 445, in heightCurvature\n",
      "    h = np.sqrt(h0**2 - 2*l*np.cos(zc)*(h0 + r_earth) + 2*h0*r_earth + l**2 + r_earth**2) - r_earth\n",
      "KeyboardInterrupt\n",
      "KeyboardInterrupt\n",
      "Process ForkPoolWorker-266:\n",
      "Process ForkPoolWorker-282:\n",
      "Traceback (most recent call last):\n",
      "Traceback (most recent call last):\n",
      "  File \"/home/ichow9/.conda/envs/wmpl/lib/python3.10/multiprocessing/process.py\", line 314, in _bootstrap\n",
      "    self.run()\n",
      "  File \"/home/ichow9/.conda/envs/wmpl/lib/python3.10/multiprocessing/process.py\", line 314, in _bootstrap\n",
      "    self.run()\n",
      "  File \"/home/ichow9/.conda/envs/wmpl/lib/python3.10/multiprocessing/process.py\", line 108, in run\n",
      "    self._target(*self._args, **self._kwargs)\n",
      "  File \"/home/ichow9/.conda/envs/wmpl/lib/python3.10/multiprocessing/process.py\", line 108, in run\n",
      "    self._target(*self._args, **self._kwargs)\n",
      "  File \"/home/ichow9/.conda/envs/wmpl/lib/python3.10/multiprocessing/pool.py\", line 125, in worker\n",
      "    result = (True, func(*args, **kwds))\n",
      "  File \"/home/ichow9/.conda/envs/wmpl/lib/python3.10/multiprocessing/pool.py\", line 125, in worker\n",
      "    result = (True, func(*args, **kwds))\n",
      "  File \"/home/ichow9/.conda/envs/wmpl/lib/python3.10/multiprocessing/pool.py\", line 48, in mapstar\n",
      "    return list(map(*args))\n",
      "  File \"/home/ichow9/.conda/envs/wmpl/lib/python3.10/multiprocessing/pool.py\", line 48, in mapstar\n",
      "    return list(map(*args))\n",
      "  File \"/home/ichow9/.conda/envs/wmpl/lib/python3.10/site-packages/dynesty/sampling.py\", line 88, in sample_unif\n",
      "    logl = args.loglikelihood(np.asarray(v))\n",
      "  File \"/home/ichow9/.conda/envs/wmpl/lib/python3.10/site-packages/dynesty/sampling.py\", line 88, in sample_unif\n",
      "    logl = args.loglikelihood(np.asarray(v))\n",
      "  File \"/home/ichow9/.conda/envs/wmpl/lib/python3.10/site-packages/dynesty/utils.py\", line 187, in __call__\n",
      "    ret = LoglOutput(self.loglikelihood(x), self.blob)\n",
      "  File \"/home/ichow9/.conda/envs/wmpl/lib/python3.10/site-packages/dynesty/dynesty.py\", line 913, in __call__\n",
      "    return self.func(np.asarray(x).copy(), *self.args, **self.kwargs)\n",
      "  File \"/home/ichow9/.conda/envs/wmpl/lib/python3.10/site-packages/dynesty/utils.py\", line 187, in __call__\n",
      "    ret = LoglOutput(self.loglikelihood(x), self.blob)\n",
      "  File \"/home/ichow9/.conda/envs/wmpl/lib/python3.10/site-packages/dynesty/pool.py\", line 38, in loglike_cache\n",
      "    return FunctionCache.loglike(x, *FunctionCache.logl_args, *args,\n",
      "  File \"/home/ichow9/.conda/envs/wmpl/lib/python3.10/site-packages/dynesty/dynesty.py\", line 913, in __call__\n",
      "    return self.func(np.asarray(x).copy(), *self.args, **self.kwargs)\n",
      "  File \"/tmp/ipykernel_67754/2937150037.py\", line 67, in log_likelihood\n",
      "    simulation_results = sim_lc(particle, metsim_obj)\n",
      "  File \"/home/ichow9/.conda/envs/wmpl/lib/python3.10/site-packages/dynesty/pool.py\", line 38, in loglike_cache\n",
      "    return FunctionCache.loglike(x, *FunctionCache.logl_args, *args,\n",
      "  File \"/tmp/ipykernel_67754/2127192578.py\", line 98, in sim_lc\n",
      "    metsim_obj.initializeSimulation(all_params)\n",
      "  File \"/tmp/ipykernel_67754/2937150037.py\", line 67, in log_likelihood\n",
      "    simulation_results = sim_lc(particle, metsim_obj)\n",
      "  File \"/tmp/ipykernel_67754/881954825.py\", line 290, in initializeSimulation\n",
      "    frag_main, results_list, wake_results = erosion.runSimulation(self.const, compute_wake=self.wake_on)\n",
      "  File \"/tmp/ipykernel_67754/2127192578.py\", line 98, in sim_lc\n",
      "    metsim_obj.initializeSimulation(all_params)\n",
      "  File \"/home/ichow9/Thesis/physical/../../source/WesternMeteorPyLib/wmpl/MetSim/MetSimErosion.py\", line 1257, in runSimulation\n",
      "    wake = ablateAll(fragments, const, compute_wake=compute_wake)\n",
      "  File \"/tmp/ipykernel_67754/881954825.py\", line 290, in initializeSimulation\n",
      "    frag_main, results_list, wake_results = erosion.runSimulation(self.const, compute_wake=self.wake_on)\n",
      "  File \"/home/ichow9/Thesis/physical/../../source/WesternMeteorPyLib/wmpl/MetSim/MetSimErosion.py\", line 704, in ablateAll\n",
      "    frag.v = math.sqrt(frag.vh**2 + frag.vv**2)\n",
      "KeyboardInterrupt\n",
      "  File \"/home/ichow9/Thesis/physical/../../source/WesternMeteorPyLib/wmpl/MetSim/MetSimErosion.py\", line 1257, in runSimulation\n",
      "    wake = ablateAll(fragments, const, compute_wake=compute_wake)\n",
      "  File \"/home/ichow9/Thesis/physical/../../source/WesternMeteorPyLib/wmpl/MetSim/MetSimErosion.py\", line 724, in ablateAll\n",
      "    frag.h = heightCurvature(const.h_init, const.zenith_angle, frag.length, const.r_earth)\n",
      "  File \"/home/ichow9/Thesis/physical/../../source/WesternMeteorPyLib/wmpl/MetSim/MetSimErosion.py\", line 445, in heightCurvature\n",
      "    h = np.sqrt(h0**2 - 2*l*np.cos(zc)*(h0 + r_earth) + 2*h0*r_earth + l**2 + r_earth**2) - r_earth\n",
      "KeyboardInterrupt\n",
      "Traceback (most recent call last):\n",
      "Traceback (most recent call last):\n",
      "Traceback (most recent call last):\n",
      "Traceback (most recent call last):\n",
      "Traceback (most recent call last):\n",
      "Traceback (most recent call last):\n",
      "Traceback (most recent call last):\n",
      "Traceback (most recent call last):\n",
      "Traceback (most recent call last):\n",
      "Traceback (most recent call last):\n",
      "Traceback (most recent call last):\n",
      "Traceback (most recent call last):\n",
      "Traceback (most recent call last):\n",
      "Traceback (most recent call last):\n",
      "Traceback (most recent call last):\n",
      "Traceback (most recent call last):\n",
      "  File \"/home/ichow9/.conda/envs/wmpl/lib/python3.10/multiprocessing/process.py\", line 314, in _bootstrap\n",
      "    self.run()\n",
      "Traceback (most recent call last):\n",
      "Traceback (most recent call last):\n",
      "  File \"/home/ichow9/.conda/envs/wmpl/lib/python3.10/multiprocessing/process.py\", line 314, in _bootstrap\n",
      "    self.run()\n",
      "Traceback (most recent call last):\n",
      "  File \"/home/ichow9/.conda/envs/wmpl/lib/python3.10/multiprocessing/process.py\", line 314, in _bootstrap\n",
      "    self.run()\n",
      "Traceback (most recent call last):\n",
      "Traceback (most recent call last):\n",
      "  File \"/home/ichow9/.conda/envs/wmpl/lib/python3.10/multiprocessing/process.py\", line 314, in _bootstrap\n",
      "    self.run()\n",
      "Traceback (most recent call last):\n",
      "Traceback (most recent call last):\n",
      "Traceback (most recent call last):\n",
      "Traceback (most recent call last):\n",
      "  File \"/home/ichow9/.conda/envs/wmpl/lib/python3.10/multiprocessing/process.py\", line 314, in _bootstrap\n",
      "    self.run()\n",
      "  File \"/home/ichow9/.conda/envs/wmpl/lib/python3.10/multiprocessing/process.py\", line 314, in _bootstrap\n",
      "    self.run()\n",
      "  File \"/home/ichow9/.conda/envs/wmpl/lib/python3.10/multiprocessing/process.py\", line 314, in _bootstrap\n",
      "    self.run()\n",
      "  File \"/home/ichow9/.conda/envs/wmpl/lib/python3.10/multiprocessing/process.py\", line 314, in _bootstrap\n",
      "    self.run()\n",
      "Traceback (most recent call last):\n",
      "Traceback (most recent call last):\n",
      "Traceback (most recent call last):\n",
      "Traceback (most recent call last):\n",
      "  File \"/home/ichow9/.conda/envs/wmpl/lib/python3.10/multiprocessing/process.py\", line 314, in _bootstrap\n",
      "    self.run()\n",
      "  File \"/home/ichow9/.conda/envs/wmpl/lib/python3.10/multiprocessing/process.py\", line 314, in _bootstrap\n",
      "    self.run()\n",
      "  File \"/home/ichow9/.conda/envs/wmpl/lib/python3.10/multiprocessing/process.py\", line 314, in _bootstrap\n",
      "    self.run()\n",
      "  File \"/home/ichow9/.conda/envs/wmpl/lib/python3.10/multiprocessing/process.py\", line 314, in _bootstrap\n",
      "    self.run()\n",
      "  File \"/home/ichow9/.conda/envs/wmpl/lib/python3.10/multiprocessing/process.py\", line 314, in _bootstrap\n",
      "    self.run()\n",
      "  File \"/home/ichow9/.conda/envs/wmpl/lib/python3.10/multiprocessing/process.py\", line 108, in run\n",
      "    self._target(*self._args, **self._kwargs)\n",
      "  File \"/home/ichow9/.conda/envs/wmpl/lib/python3.10/multiprocessing/process.py\", line 314, in _bootstrap\n",
      "    self.run()\n",
      "  File \"/home/ichow9/.conda/envs/wmpl/lib/python3.10/multiprocessing/process.py\", line 314, in _bootstrap\n",
      "    self.run()\n",
      "  File \"/home/ichow9/.conda/envs/wmpl/lib/python3.10/multiprocessing/process.py\", line 314, in _bootstrap\n",
      "    self.run()\n",
      "Traceback (most recent call last):\n",
      "  File \"/home/ichow9/.conda/envs/wmpl/lib/python3.10/multiprocessing/process.py\", line 108, in run\n",
      "    self._target(*self._args, **self._kwargs)\n",
      "  File \"/home/ichow9/.conda/envs/wmpl/lib/python3.10/multiprocessing/process.py\", line 314, in _bootstrap\n",
      "    self.run()\n",
      "  File \"/home/ichow9/.conda/envs/wmpl/lib/python3.10/multiprocessing/process.py\", line 314, in _bootstrap\n",
      "    self.run()\n",
      "  File \"/home/ichow9/.conda/envs/wmpl/lib/python3.10/multiprocessing/process.py\", line 314, in _bootstrap\n",
      "    self.run()\n",
      "  File \"/home/ichow9/.conda/envs/wmpl/lib/python3.10/multiprocessing/process.py\", line 314, in _bootstrap\n",
      "    self.run()\n",
      "  File \"/home/ichow9/.conda/envs/wmpl/lib/python3.10/multiprocessing/process.py\", line 108, in run\n",
      "    self._target(*self._args, **self._kwargs)\n",
      "  File \"/home/ichow9/.conda/envs/wmpl/lib/python3.10/multiprocessing/process.py\", line 108, in run\n",
      "    self._target(*self._args, **self._kwargs)\n",
      "  File \"/home/ichow9/.conda/envs/wmpl/lib/python3.10/multiprocessing/process.py\", line 314, in _bootstrap\n",
      "    self.run()\n",
      "  File \"/home/ichow9/.conda/envs/wmpl/lib/python3.10/multiprocessing/process.py\", line 314, in _bootstrap\n",
      "    self.run()\n",
      "  File \"/home/ichow9/.conda/envs/wmpl/lib/python3.10/multiprocessing/process.py\", line 314, in _bootstrap\n",
      "    self.run()\n",
      "  File \"/home/ichow9/.conda/envs/wmpl/lib/python3.10/multiprocessing/process.py\", line 314, in _bootstrap\n",
      "    self.run()\n",
      "  File \"/home/ichow9/.conda/envs/wmpl/lib/python3.10/multiprocessing/process.py\", line 108, in run\n",
      "    self._target(*self._args, **self._kwargs)\n",
      "  File \"/home/ichow9/.conda/envs/wmpl/lib/python3.10/multiprocessing/process.py\", line 314, in _bootstrap\n",
      "    self.run()\n",
      "  File \"/home/ichow9/.conda/envs/wmpl/lib/python3.10/multiprocessing/process.py\", line 108, in run\n",
      "    self._target(*self._args, **self._kwargs)\n",
      "  File \"/home/ichow9/.conda/envs/wmpl/lib/python3.10/multiprocessing/process.py\", line 108, in run\n",
      "    self._target(*self._args, **self._kwargs)\n",
      "  File \"/home/ichow9/.conda/envs/wmpl/lib/python3.10/multiprocessing/process.py\", line 108, in run\n",
      "    self._target(*self._args, **self._kwargs)\n",
      "  File \"/home/ichow9/.conda/envs/wmpl/lib/python3.10/multiprocessing/process.py\", line 314, in _bootstrap\n",
      "    self.run()\n",
      "  File \"/home/ichow9/.conda/envs/wmpl/lib/python3.10/multiprocessing/process.py\", line 314, in _bootstrap\n",
      "    self.run()\n",
      "  File \"/home/ichow9/.conda/envs/wmpl/lib/python3.10/multiprocessing/process.py\", line 314, in _bootstrap\n",
      "    self.run()\n",
      "  File \"/home/ichow9/.conda/envs/wmpl/lib/python3.10/multiprocessing/process.py\", line 108, in run\n",
      "    self._target(*self._args, **self._kwargs)\n",
      "  File \"/home/ichow9/.conda/envs/wmpl/lib/python3.10/multiprocessing/process.py\", line 314, in _bootstrap\n",
      "    self.run()\n",
      "  File \"/home/ichow9/.conda/envs/wmpl/lib/python3.10/multiprocessing/process.py\", line 108, in run\n",
      "    self._target(*self._args, **self._kwargs)\n",
      "  File \"/home/ichow9/.conda/envs/wmpl/lib/python3.10/multiprocessing/process.py\", line 108, in run\n",
      "    self._target(*self._args, **self._kwargs)\n",
      "  File \"/home/ichow9/.conda/envs/wmpl/lib/python3.10/multiprocessing/pool.py\", line 114, in worker\n",
      "    task = get()\n",
      "  File \"/home/ichow9/.conda/envs/wmpl/lib/python3.10/multiprocessing/process.py\", line 108, in run\n",
      "    self._target(*self._args, **self._kwargs)\n",
      "  File \"/home/ichow9/.conda/envs/wmpl/lib/python3.10/multiprocessing/process.py\", line 108, in run\n",
      "    self._target(*self._args, **self._kwargs)\n",
      "  File \"/home/ichow9/.conda/envs/wmpl/lib/python3.10/multiprocessing/process.py\", line 108, in run\n",
      "    self._target(*self._args, **self._kwargs)\n",
      "  File \"/home/ichow9/.conda/envs/wmpl/lib/python3.10/multiprocessing/process.py\", line 108, in run\n",
      "    self._target(*self._args, **self._kwargs)\n",
      "  File \"/home/ichow9/.conda/envs/wmpl/lib/python3.10/multiprocessing/process.py\", line 108, in run\n",
      "    self._target(*self._args, **self._kwargs)\n",
      "  File \"/home/ichow9/.conda/envs/wmpl/lib/python3.10/multiprocessing/pool.py\", line 114, in worker\n",
      "    task = get()\n",
      "  File \"/home/ichow9/.conda/envs/wmpl/lib/python3.10/multiprocessing/process.py\", line 314, in _bootstrap\n",
      "    self.run()\n",
      "  File \"/home/ichow9/.conda/envs/wmpl/lib/python3.10/multiprocessing/process.py\", line 108, in run\n",
      "    self._target(*self._args, **self._kwargs)\n",
      "  File \"/home/ichow9/.conda/envs/wmpl/lib/python3.10/multiprocessing/process.py\", line 108, in run\n",
      "    self._target(*self._args, **self._kwargs)\n",
      "  File \"/home/ichow9/.conda/envs/wmpl/lib/python3.10/multiprocessing/process.py\", line 108, in run\n",
      "    self._target(*self._args, **self._kwargs)\n",
      "  File \"/home/ichow9/.conda/envs/wmpl/lib/python3.10/multiprocessing/process.py\", line 108, in run\n",
      "    self._target(*self._args, **self._kwargs)\n",
      "  File \"/home/ichow9/.conda/envs/wmpl/lib/python3.10/multiprocessing/pool.py\", line 114, in worker\n",
      "    task = get()\n",
      "  File \"/home/ichow9/.conda/envs/wmpl/lib/python3.10/multiprocessing/pool.py\", line 114, in worker\n",
      "    task = get()\n",
      "  File \"/home/ichow9/.conda/envs/wmpl/lib/python3.10/multiprocessing/process.py\", line 108, in run\n",
      "    self._target(*self._args, **self._kwargs)\n",
      "  File \"/home/ichow9/.conda/envs/wmpl/lib/python3.10/multiprocessing/process.py\", line 108, in run\n",
      "    self._target(*self._args, **self._kwargs)\n",
      "  File \"/home/ichow9/.conda/envs/wmpl/lib/python3.10/multiprocessing/process.py\", line 108, in run\n",
      "    self._target(*self._args, **self._kwargs)\n",
      "  File \"/home/ichow9/.conda/envs/wmpl/lib/python3.10/multiprocessing/pool.py\", line 114, in worker\n",
      "    task = get()\n",
      "  File \"/home/ichow9/.conda/envs/wmpl/lib/python3.10/multiprocessing/process.py\", line 108, in run\n",
      "    self._target(*self._args, **self._kwargs)\n",
      "  File \"/home/ichow9/.conda/envs/wmpl/lib/python3.10/multiprocessing/process.py\", line 108, in run\n",
      "    self._target(*self._args, **self._kwargs)\n",
      "  File \"/home/ichow9/.conda/envs/wmpl/lib/python3.10/multiprocessing/pool.py\", line 114, in worker\n",
      "    task = get()\n",
      "  File \"/home/ichow9/.conda/envs/wmpl/lib/python3.10/multiprocessing/pool.py\", line 114, in worker\n",
      "    task = get()\n",
      "  File \"/home/ichow9/.conda/envs/wmpl/lib/python3.10/multiprocessing/pool.py\", line 114, in worker\n",
      "    task = get()\n",
      "  File \"/home/ichow9/.conda/envs/wmpl/lib/python3.10/multiprocessing/pool.py\", line 114, in worker\n",
      "    task = get()\n",
      "  File \"/home/ichow9/.conda/envs/wmpl/lib/python3.10/multiprocessing/process.py\", line 108, in run\n",
      "    self._target(*self._args, **self._kwargs)\n",
      "  File \"/home/ichow9/.conda/envs/wmpl/lib/python3.10/multiprocessing/process.py\", line 108, in run\n",
      "    self._target(*self._args, **self._kwargs)\n",
      "  File \"/home/ichow9/.conda/envs/wmpl/lib/python3.10/multiprocessing/pool.py\", line 114, in worker\n",
      "    task = get()\n",
      "  File \"/home/ichow9/.conda/envs/wmpl/lib/python3.10/multiprocessing/process.py\", line 108, in run\n",
      "    self._target(*self._args, **self._kwargs)\n",
      "  File \"/home/ichow9/.conda/envs/wmpl/lib/python3.10/multiprocessing/process.py\", line 108, in run\n",
      "    self._target(*self._args, **self._kwargs)\n",
      "  File \"/home/ichow9/.conda/envs/wmpl/lib/python3.10/multiprocessing/queues.py\", line 364, in get\n",
      "    with self._rlock:\n",
      "  File \"/home/ichow9/.conda/envs/wmpl/lib/python3.10/multiprocessing/pool.py\", line 114, in worker\n",
      "    task = get()\n",
      "  File \"/home/ichow9/.conda/envs/wmpl/lib/python3.10/multiprocessing/pool.py\", line 114, in worker\n",
      "    task = get()\n",
      "  File \"/home/ichow9/.conda/envs/wmpl/lib/python3.10/multiprocessing/pool.py\", line 114, in worker\n",
      "    task = get()\n",
      "  File \"/home/ichow9/.conda/envs/wmpl/lib/python3.10/multiprocessing/pool.py\", line 114, in worker\n",
      "    task = get()\n",
      "  File \"/home/ichow9/.conda/envs/wmpl/lib/python3.10/multiprocessing/pool.py\", line 114, in worker\n",
      "    task = get()\n",
      "  File \"/home/ichow9/.conda/envs/wmpl/lib/python3.10/multiprocessing/pool.py\", line 114, in worker\n",
      "    task = get()\n",
      "  File \"/home/ichow9/.conda/envs/wmpl/lib/python3.10/multiprocessing/process.py\", line 108, in run\n",
      "    self._target(*self._args, **self._kwargs)\n",
      "  File \"/home/ichow9/.conda/envs/wmpl/lib/python3.10/multiprocessing/pool.py\", line 114, in worker\n",
      "    task = get()\n",
      "  File \"/home/ichow9/.conda/envs/wmpl/lib/python3.10/multiprocessing/queues.py\", line 364, in get\n",
      "    with self._rlock:\n",
      "  File \"/home/ichow9/.conda/envs/wmpl/lib/python3.10/multiprocessing/pool.py\", line 114, in worker\n",
      "    task = get()\n",
      "  File \"/home/ichow9/.conda/envs/wmpl/lib/python3.10/multiprocessing/pool.py\", line 114, in worker\n",
      "    task = get()\n",
      "  File \"/home/ichow9/.conda/envs/wmpl/lib/python3.10/multiprocessing/queues.py\", line 364, in get\n",
      "    with self._rlock:\n",
      "  File \"/home/ichow9/.conda/envs/wmpl/lib/python3.10/multiprocessing/queues.py\", line 364, in get\n",
      "    with self._rlock:\n",
      "  File \"/home/ichow9/.conda/envs/wmpl/lib/python3.10/multiprocessing/pool.py\", line 114, in worker\n",
      "    task = get()\n",
      "  File \"/home/ichow9/.conda/envs/wmpl/lib/python3.10/multiprocessing/pool.py\", line 114, in worker\n",
      "    task = get()\n",
      "  File \"/home/ichow9/.conda/envs/wmpl/lib/python3.10/multiprocessing/pool.py\", line 114, in worker\n",
      "    task = get()\n",
      "  File \"/home/ichow9/.conda/envs/wmpl/lib/python3.10/multiprocessing/pool.py\", line 114, in worker\n",
      "    task = get()\n",
      "  File \"/home/ichow9/.conda/envs/wmpl/lib/python3.10/multiprocessing/queues.py\", line 364, in get\n",
      "    with self._rlock:\n",
      "  File \"/home/ichow9/.conda/envs/wmpl/lib/python3.10/multiprocessing/pool.py\", line 114, in worker\n",
      "    task = get()\n",
      "  File \"/home/ichow9/.conda/envs/wmpl/lib/python3.10/multiprocessing/pool.py\", line 114, in worker\n",
      "    task = get()\n",
      "  File \"/home/ichow9/.conda/envs/wmpl/lib/python3.10/multiprocessing/queues.py\", line 364, in get\n",
      "    with self._rlock:\n",
      "  File \"/home/ichow9/.conda/envs/wmpl/lib/python3.10/multiprocessing/queues.py\", line 364, in get\n",
      "    with self._rlock:\n",
      "  File \"/home/ichow9/.conda/envs/wmpl/lib/python3.10/multiprocessing/pool.py\", line 114, in worker\n",
      "    task = get()\n",
      "  File \"/home/ichow9/.conda/envs/wmpl/lib/python3.10/multiprocessing/queues.py\", line 364, in get\n",
      "    with self._rlock:\n",
      "  File \"/home/ichow9/.conda/envs/wmpl/lib/python3.10/multiprocessing/queues.py\", line 364, in get\n",
      "    with self._rlock:\n",
      "  File \"/home/ichow9/.conda/envs/wmpl/lib/python3.10/multiprocessing/pool.py\", line 114, in worker\n",
      "    task = get()\n",
      "  File \"/home/ichow9/.conda/envs/wmpl/lib/python3.10/multiprocessing/queues.py\", line 364, in get\n",
      "    with self._rlock:\n",
      "  File \"/home/ichow9/.conda/envs/wmpl/lib/python3.10/multiprocessing/pool.py\", line 114, in worker\n",
      "    task = get()\n",
      "  File \"/home/ichow9/.conda/envs/wmpl/lib/python3.10/multiprocessing/synchronize.py\", line 95, in __enter__\n",
      "    return self._semlock.__enter__()\n",
      "  File \"/home/ichow9/.conda/envs/wmpl/lib/python3.10/multiprocessing/pool.py\", line 114, in worker\n",
      "    task = get()\n",
      "  File \"/home/ichow9/.conda/envs/wmpl/lib/python3.10/multiprocessing/queues.py\", line 364, in get\n",
      "    with self._rlock:\n",
      "  File \"/home/ichow9/.conda/envs/wmpl/lib/python3.10/multiprocessing/queues.py\", line 364, in get\n",
      "    with self._rlock:\n",
      "  File \"/home/ichow9/.conda/envs/wmpl/lib/python3.10/multiprocessing/queues.py\", line 364, in get\n",
      "    with self._rlock:\n",
      "  File \"/home/ichow9/.conda/envs/wmpl/lib/python3.10/multiprocessing/queues.py\", line 364, in get\n",
      "    with self._rlock:\n",
      "  File \"/home/ichow9/.conda/envs/wmpl/lib/python3.10/multiprocessing/queues.py\", line 364, in get\n",
      "    with self._rlock:\n",
      "  File \"/home/ichow9/.conda/envs/wmpl/lib/python3.10/multiprocessing/queues.py\", line 364, in get\n",
      "    with self._rlock:\n",
      "  File \"/home/ichow9/.conda/envs/wmpl/lib/python3.10/multiprocessing/queues.py\", line 364, in get\n",
      "    with self._rlock:\n",
      "  File \"/home/ichow9/.conda/envs/wmpl/lib/python3.10/multiprocessing/synchronize.py\", line 95, in __enter__\n",
      "    return self._semlock.__enter__()\n",
      "  File \"/home/ichow9/.conda/envs/wmpl/lib/python3.10/multiprocessing/pool.py\", line 114, in worker\n",
      "    task = get()\n",
      "  File \"/home/ichow9/.conda/envs/wmpl/lib/python3.10/multiprocessing/queues.py\", line 364, in get\n",
      "    with self._rlock:\n",
      "  File \"/home/ichow9/.conda/envs/wmpl/lib/python3.10/multiprocessing/queues.py\", line 364, in get\n",
      "    with self._rlock:\n",
      "  File \"/home/ichow9/.conda/envs/wmpl/lib/python3.10/multiprocessing/queues.py\", line 364, in get\n",
      "    with self._rlock:\n",
      "  File \"/home/ichow9/.conda/envs/wmpl/lib/python3.10/multiprocessing/synchronize.py\", line 95, in __enter__\n",
      "    return self._semlock.__enter__()\n",
      "  File \"/home/ichow9/.conda/envs/wmpl/lib/python3.10/multiprocessing/queues.py\", line 364, in get\n",
      "    with self._rlock:\n",
      "  File \"/home/ichow9/.conda/envs/wmpl/lib/python3.10/multiprocessing/synchronize.py\", line 95, in __enter__\n",
      "    return self._semlock.__enter__()\n",
      "  File \"/home/ichow9/.conda/envs/wmpl/lib/python3.10/multiprocessing/queues.py\", line 364, in get\n",
      "    with self._rlock:\n",
      "  File \"/home/ichow9/.conda/envs/wmpl/lib/python3.10/multiprocessing/queues.py\", line 364, in get\n",
      "    with self._rlock:\n",
      "  File \"/home/ichow9/.conda/envs/wmpl/lib/python3.10/multiprocessing/synchronize.py\", line 95, in __enter__\n",
      "    return self._semlock.__enter__()\n",
      "  File \"/home/ichow9/.conda/envs/wmpl/lib/python3.10/multiprocessing/queues.py\", line 364, in get\n",
      "    with self._rlock:\n",
      "  File \"/home/ichow9/.conda/envs/wmpl/lib/python3.10/multiprocessing/synchronize.py\", line 95, in __enter__\n",
      "    return self._semlock.__enter__()\n",
      "  File \"/home/ichow9/.conda/envs/wmpl/lib/python3.10/multiprocessing/queues.py\", line 364, in get\n",
      "    with self._rlock:\n",
      "  File \"/home/ichow9/.conda/envs/wmpl/lib/python3.10/multiprocessing/synchronize.py\", line 95, in __enter__\n",
      "    return self._semlock.__enter__()\n",
      "  File \"/home/ichow9/.conda/envs/wmpl/lib/python3.10/multiprocessing/queues.py\", line 364, in get\n",
      "    with self._rlock:\n",
      "  File \"/home/ichow9/.conda/envs/wmpl/lib/python3.10/multiprocessing/synchronize.py\", line 95, in __enter__\n",
      "    return self._semlock.__enter__()\n",
      "  File \"/home/ichow9/.conda/envs/wmpl/lib/python3.10/multiprocessing/synchronize.py\", line 95, in __enter__\n",
      "    return self._semlock.__enter__()\n",
      "  File \"/home/ichow9/.conda/envs/wmpl/lib/python3.10/multiprocessing/synchronize.py\", line 95, in __enter__\n",
      "    return self._semlock.__enter__()\n",
      "  File \"/home/ichow9/.conda/envs/wmpl/lib/python3.10/multiprocessing/queues.py\", line 364, in get\n",
      "    with self._rlock:\n",
      "KeyboardInterrupt\n",
      "  File \"/home/ichow9/.conda/envs/wmpl/lib/python3.10/multiprocessing/queues.py\", line 364, in get\n",
      "    with self._rlock:\n",
      "  File \"/home/ichow9/.conda/envs/wmpl/lib/python3.10/multiprocessing/synchronize.py\", line 95, in __enter__\n",
      "    return self._semlock.__enter__()\n",
      "  File \"/home/ichow9/.conda/envs/wmpl/lib/python3.10/multiprocessing/synchronize.py\", line 95, in __enter__\n",
      "    return self._semlock.__enter__()\n",
      "  File \"/home/ichow9/.conda/envs/wmpl/lib/python3.10/multiprocessing/queues.py\", line 364, in get\n",
      "    with self._rlock:\n",
      "  File \"/home/ichow9/.conda/envs/wmpl/lib/python3.10/multiprocessing/synchronize.py\", line 95, in __enter__\n",
      "    return self._semlock.__enter__()\n",
      "  File \"/home/ichow9/.conda/envs/wmpl/lib/python3.10/multiprocessing/synchronize.py\", line 95, in __enter__\n",
      "    return self._semlock.__enter__()\n",
      "KeyboardInterrupt\n",
      "  File \"/home/ichow9/.conda/envs/wmpl/lib/python3.10/multiprocessing/synchronize.py\", line 95, in __enter__\n",
      "    return self._semlock.__enter__()\n",
      "  File \"/home/ichow9/.conda/envs/wmpl/lib/python3.10/multiprocessing/synchronize.py\", line 95, in __enter__\n",
      "    return self._semlock.__enter__()\n",
      "  File \"/home/ichow9/.conda/envs/wmpl/lib/python3.10/multiprocessing/synchronize.py\", line 95, in __enter__\n",
      "    return self._semlock.__enter__()\n",
      "  File \"/home/ichow9/.conda/envs/wmpl/lib/python3.10/multiprocessing/queues.py\", line 365, in get\n",
      "    res = self._reader.recv_bytes()\n",
      "  File \"/home/ichow9/.conda/envs/wmpl/lib/python3.10/multiprocessing/synchronize.py\", line 95, in __enter__\n",
      "    return self._semlock.__enter__()\n",
      "  File \"/home/ichow9/.conda/envs/wmpl/lib/python3.10/multiprocessing/synchronize.py\", line 95, in __enter__\n",
      "    return self._semlock.__enter__()\n",
      "KeyboardInterrupt\n",
      "  File \"/home/ichow9/.conda/envs/wmpl/lib/python3.10/multiprocessing/synchronize.py\", line 95, in __enter__\n",
      "    return self._semlock.__enter__()\n",
      "  File \"/home/ichow9/.conda/envs/wmpl/lib/python3.10/multiprocessing/synchronize.py\", line 95, in __enter__\n",
      "    return self._semlock.__enter__()\n",
      "KeyboardInterrupt\n",
      "  File \"/home/ichow9/.conda/envs/wmpl/lib/python3.10/multiprocessing/synchronize.py\", line 95, in __enter__\n",
      "    return self._semlock.__enter__()\n",
      "  File \"/home/ichow9/.conda/envs/wmpl/lib/python3.10/multiprocessing/synchronize.py\", line 95, in __enter__\n",
      "    return self._semlock.__enter__()\n",
      "KeyboardInterrupt\n",
      "  File \"/home/ichow9/.conda/envs/wmpl/lib/python3.10/multiprocessing/synchronize.py\", line 95, in __enter__\n",
      "    return self._semlock.__enter__()\n",
      "KeyboardInterrupt\n",
      "KeyboardInterrupt\n",
      "  File \"/home/ichow9/.conda/envs/wmpl/lib/python3.10/multiprocessing/synchronize.py\", line 95, in __enter__\n",
      "    return self._semlock.__enter__()\n",
      "KeyboardInterrupt\n",
      "KeyboardInterrupt\n",
      "  File \"/home/ichow9/.conda/envs/wmpl/lib/python3.10/multiprocessing/synchronize.py\", line 95, in __enter__\n",
      "    return self._semlock.__enter__()\n",
      "KeyboardInterrupt\n",
      "  File \"/home/ichow9/.conda/envs/wmpl/lib/python3.10/multiprocessing/synchronize.py\", line 95, in __enter__\n",
      "    return self._semlock.__enter__()\n",
      "  File \"/home/ichow9/.conda/envs/wmpl/lib/python3.10/multiprocessing/synchronize.py\", line 95, in __enter__\n",
      "    return self._semlock.__enter__()\n",
      "KeyboardInterrupt\n",
      "KeyboardInterrupt\n",
      "  File \"/home/ichow9/.conda/envs/wmpl/lib/python3.10/multiprocessing/synchronize.py\", line 95, in __enter__\n",
      "    return self._semlock.__enter__()\n",
      "KeyboardInterrupt\n",
      "KeyboardInterrupt\n",
      "  File \"/home/ichow9/.conda/envs/wmpl/lib/python3.10/multiprocessing/connection.py\", line 216, in recv_bytes\n",
      "    buf = self._recv_bytes(maxlength)\n",
      "KeyboardInterrupt\n",
      "KeyboardInterrupt\n",
      "KeyboardInterrupt\n",
      "KeyboardInterrupt\n",
      "KeyboardInterrupt\n",
      "KeyboardInterrupt\n",
      "KeyboardInterrupt\n",
      "KeyboardInterrupt\n",
      "KeyboardInterrupt\n",
      "  File \"/home/ichow9/.conda/envs/wmpl/lib/python3.10/multiprocessing/connection.py\", line 414, in _recv_bytes\n",
      "    buf = self._recv(4)\n",
      "KeyboardInterrupt\n",
      "KeyboardInterrupt\n",
      "KeyboardInterrupt\n",
      "  File \"/home/ichow9/.conda/envs/wmpl/lib/python3.10/multiprocessing/connection.py\", line 379, in _recv\n",
      "    chunk = read(handle, remaining)\n",
      "KeyboardInterrupt\n",
      "KeyboardInterrupt\n",
      "KeyboardInterrupt\n",
      "KeyboardInterrupt\n",
      "\n"
     ]
    }
   ],
   "source": [
    "# with dynesty.pool.Pool(32, log_likelihood, prior, \n",
    "#                        logl_args=(metsim_obj, 10), \n",
    "#                        ptform_args=(bounds, metsim_obj, fragmentation_count, len(ER_FRAG_INDICES))) as pool:\n",
    "#     sampler = dynesty.DynamicNestedSampler(pool.loglike, pool.prior_transform, n_params, pool = pool)\n",
    "#     sampler.run_nested()"
   ]
  }
 ],
 "metadata": {
  "kernelspec": {
   "display_name": "Python 3 (ipykernel)",
   "language": "python",
   "name": "python3"
  },
  "language_info": {
   "codemirror_mode": {
    "name": "ipython",
    "version": 3
   },
   "file_extension": ".py",
   "mimetype": "text/x-python",
   "name": "python",
   "nbconvert_exporter": "python",
   "pygments_lexer": "ipython3",
   "version": "3.10.15"
  }
 },
 "nbformat": 4,
 "nbformat_minor": 5
}
