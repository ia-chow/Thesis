{
 "cells": [
  {
   "cell_type": "code",
   "execution_count": 1,
   "id": "21fdbff0-60f0-4af4-a602-1ead544f7909",
   "metadata": {},
   "outputs": [],
   "source": [
    "import numpy as np\n",
    "import pandas as pd\n",
    "import sys\n",
    "import json\n",
    "import os\n",
    "import copy\n",
    "import matplotlib.pyplot as plt\n",
    "import scipy\n",
    "import multiprocessing\n",
    "import h5py\n",
    "import corner"
   ]
  },
  {
   "cell_type": "markdown",
   "id": "885fe6f0-35f7-4afc-b904-e2144eac389b",
   "metadata": {},
   "source": [
    "Make `WMPL` directory visible:"
   ]
  },
  {
   "cell_type": "code",
   "execution_count": 2,
   "id": "fe6406fd-08fe-417b-a641-b49809b493cf",
   "metadata": {},
   "outputs": [],
   "source": [
    "sys.path.append('../../')"
   ]
  },
  {
   "cell_type": "markdown",
   "id": "ca075672-9085-4975-b81c-dc4a6a243d4e",
   "metadata": {},
   "source": [
    "Import WMPL files:"
   ]
  },
  {
   "cell_type": "code",
   "execution_count": 3,
   "id": "0c521053-823a-4a65-97d0-5da495985d60",
   "metadata": {},
   "outputs": [],
   "source": [
    "import source.WesternMeteorPyLib.wmpl.MetSim.MetSim as metsim\n",
    "import source.WesternMeteorPyLib.wmpl.MetSim.FitSim as fitsim\n",
    "import source.WesternMeteorPyLib.wmpl.MetSim.GUI as gui\n",
    "import source.WesternMeteorPyLib.wmpl.MetSim.MetSimErosion as erosion"
   ]
  },
  {
   "cell_type": "markdown",
   "id": "72670f9e-b782-45db-aaa1-6c4319b44d0a",
   "metadata": {},
   "source": [
    "Modified version to run with the optimization routine:"
   ]
  },
  {
   "cell_type": "code",
   "execution_count": 4,
   "id": "9ae450a2-8934-4606-b0b0-cb54ab147538",
   "metadata": {},
   "outputs": [],
   "source": [
    "class MetSimObj():\n",
    "    def __init__(self, traj_path, const_json_file, fixed_frag_indices, free_frag_indices, er_frag_indices):\n",
    "        # Init an axis for the electron line density\n",
    "        # self.electronDensityPlot = self.magnitudePlot.canvas.axes.twiny()\n",
    "        self.electron_density_plot_show = False\n",
    "        ### Wake parameters ###\n",
    "        self.wake_on = False\n",
    "        self.wake_show_mass_bins = False\n",
    "        self.wake_ht_current_index = 0\n",
    "        self.current_wake_container = None\n",
    "        # if self.wake_heights is not None:\n",
    "        #     self.wake_plot_ht, self.current_wake_container = self.wake_heights[self.wake_ht_current_index]\n",
    "        # else:\n",
    "        #     self.wake_plot_ht = self.traj.rbeg_ele # m\n",
    "        self.wake_normalization_method = 'area'\n",
    "        self.wake_align_method = 'none'\n",
    "        self.magnitudePlotWakeLines = None\n",
    "        self.magnitudePlotWakeLineLabels = None\n",
    "        self.velocityPlotWakeLines = None\n",
    "        self.lagPlotWakeLines = None\n",
    "        self.usg_data, self.traj = gui.loadUSGInputFile(*os.path.split(traj_path))\n",
    "        self.dir_path = os.path.dirname(traj_path)\n",
    "        # Disable different density after erosion change\n",
    "        self.erosion_different_rho = False\n",
    "        # Disable different ablation coeff after erosion change\n",
    "        self.erosion_different_sigma = False\n",
    "        # Disable different erosion coeff after disruption at the beginning\n",
    "        self.disruption_different_erosion_coeff = False\n",
    "        # Fragmentation object\n",
    "        self.fragmentation = None\n",
    "        self.simulation_results = None\n",
    "        self.const_prev = None\n",
    "        self.simulation_results_prev = None\n",
    "        self.const = erosion.Constants()  # initialize this, these will be replaced later\n",
    "        self.const.P_0m = self.usg_data.P_0m_bolo\n",
    "        # If a JSON file with constant was given, load them instead of initing from scratch\n",
    "        if const_json_file is not None:\n",
    "            # Load the constants from the JSON files\n",
    "            self.const, const_json = gui.loadConstants(const_json_file)\n",
    "            # Init the fragmentation container for the GUI\n",
    "            if len(self.const.fragmentation_entries):\n",
    "                self.fragmentation = gui.FragmentationContainer(self, \\\n",
    "                    os.path.join(self.dir_path, self.const.fragmentation_file_name))\n",
    "                self.fragmentation.fragmentation_entries = self.const.fragmentation_entries\n",
    "                # Overwrite the existing fragmentatinon file\n",
    "                # self.fragmentation.writeFragmentationFile()\n",
    "            # Check if the disruption erosion coefficient is different than the main erosion coeff\n",
    "            if const_json['disruption_erosion_coeff'] != const_json['erosion_coeff']:\n",
    "                self.disruption_different_erosion_coeff = True\n",
    "            # Check if the density is changed after Hchange\n",
    "            if 'erosion_rho_change' in const_json:\n",
    "                if const_json['erosion_rho_change'] != const_json['rho']:\n",
    "                    self.erosion_different_rho = True\n",
    "            # Check if the ablation coeff is changed after Hchange\n",
    "            if 'erosion_sigma_change' in const_json:\n",
    "                if const_json['erosion_sigma_change'] != const_json['sigma']:\n",
    "                    self.erosion_different_sigma = True\n",
    "        else:\n",
    "            raise('no json file!')\n",
    "\n",
    "        ### Calculate atmosphere density coeffs (down to the bottom observed height, limit to 15 km) ###\n",
    "\n",
    "        # Determine the height range for fitting the density\n",
    "        self.dens_fit_ht_beg = self.const.h_init\n",
    "        self.dens_fit_ht_end = self.traj.rend_ele - 5000\n",
    "        if self.dens_fit_ht_end < 14000:\n",
    "            self.dens_fit_ht_end = 14000\n",
    "\n",
    "        # Fit the polynomail describing the density\n",
    "        dens_co = gui.MetSimGUI.fitAtmosphereDensity(self, self.dens_fit_ht_beg, self.dens_fit_ht_end)\n",
    "        self.const.dens_co = dens_co\n",
    "\n",
    "        # get global parameters from json file, everything other than params marked \"free\" are fixed\n",
    "        dt = const_json.get('dt')\n",
    "        P_0m = const_json.get('P_0m')\n",
    "        h_init = const_json.get('h_init')\n",
    "        m_kill = const_json.get('m_kill')\n",
    "        v_kill = const_json.get('v_kill')\n",
    "        h_kill = const_json.get('h_kill')\n",
    "        len_kill = const_json.get('len_kill') \n",
    "        rho = const_json.get('rho')  # free\n",
    "        rho_grain = const_json.get('rho_grain')  # free\n",
    "        m_init = const_json.get('m_init')  # free\n",
    "        sigma = const_json.get('sigma')  # free\n",
    "        v_init = const_json.get('v_init')\n",
    "        shape_factor = const_json.get('shape_factor')\n",
    "        gamma = const_json.get('gamma')\n",
    "        zenith_angle = const_json.get('zenith_angle')\n",
    "        lum_eff = const_json.get('lum_eff')\n",
    "        lum_eff_type = const_json.get('lum_eff_type')\n",
    "        erosion_height_start = const_json.get('erosion_height_start')\n",
    "        erosion_bins_per_10mass = const_json.get('erosion_bins_per_10mass')\n",
    "        erosion_coeff = const_json.get('erosion_coeff')\n",
    "        erosion_height_change = const_json.get('erosion_height_change')\n",
    "        erosion_coeff_change = const_json.get('erosion_coeff_change')\n",
    "        erosion_mass_index = const_json.get('erosion_mass_index')\n",
    "        erosion_mass_min = const_json.get('erosion_mass_min')\n",
    "        erosion_mass_max = const_json.get('erosion_mass_max')\n",
    "        erosion_rho_change = const_json.get('rho')\n",
    "        erosion_sigma_change = const_json.get('sigma')\n",
    "        compressive_strength = const_json.get('compressive_strength')\n",
    "        disruption_erosion_coeff = const_json.get('erosion_coeff')\n",
    "        disruption_mass_grain_ratio = const_json.get('disruption_mass_grain_ratio')\n",
    "        disruption_mass_index = const_json.get('disruption_mass_index')\n",
    "        disruption_mass_min_ratio = const_json.get('disruption_mass_min_ratio')\n",
    "        disruption_mass_max_ratio = const_json.get('disruption_mass_max_ratio')\n",
    "\n",
    "        # get fragmentation parameters from json file\n",
    "        # type, height, number, gamma, mass index are fixed, \n",
    "        # mass, ablation coefficient, erosion coefficient, grain min, grain max are not fixed\n",
    "        num_frags = len(const_json.get('fragmentation_entries'))\n",
    "        # fixed\n",
    "        frag_types = []\n",
    "        frag_numbers = []\n",
    "        frag_ab_coeffs = []\n",
    "        frag_gammas = []\n",
    "        frag_mis = []\n",
    "        # free\n",
    "        frag_masses = []\n",
    "        frag_er_coeffs = []\n",
    "        frag_grain_mins = []\n",
    "        frag_grain_maxs = []\n",
    "        frag_heights = []\n",
    "\n",
    "        # set free and fixed params\n",
    "        #### CHANGE THESE LINES TO TEST DIFFERENT COMBINATIONS OF FREE PARAMETERS\n",
    "        self.fixed_frag_indices = fixed_frag_indices\n",
    "        self.free_frag_indices = free_frag_indices\n",
    "        self.er_frag_indices = er_frag_indices\n",
    "        # set up masks for free and fixed indices\n",
    "        # free\n",
    "        free_frag_mask = np.zeros(num_frags, bool)\n",
    "        free_frag_mask[free_frag_indices] = True  # only free frags\n",
    "        # fixed\n",
    "        fixed_frag_mask = np.ones(num_frags, bool)\n",
    "        fixed_frag_mask[free_frag_indices] = False  # everything EXCEPT free frags (i.e. fixed frags)\n",
    "        # erosion\n",
    "        er_frag_mask = np.zeros(num_frags, bool)\n",
    "        er_frag_mask[er_frag_indices] = True  # only frags that have erosion coefficients (i.e. all free fragments excluding dust)\n",
    "        \n",
    "        for i, frag in enumerate(const_json.get('fragmentation_entries')):\n",
    "            ### If sigma, gamma and erosiion coefficient are none, convert to whatever the default value is \n",
    "            # fixed\n",
    "            frag_types.append(frag['frag_type'])\n",
    "            frag_numbers.append(frag['number'])\n",
    "            if frag['gamma'] == None:\n",
    "                frag_gammas.append(gamma)\n",
    "            else:\n",
    "                frag_gammas.append(frag['gamma'])\n",
    "            frag_mis.append(frag['mass_index'])\n",
    "            if frag['sigma'] == None:\n",
    "                frag_ab_coeffs.append(sigma) \n",
    "            else:\n",
    "                frag_ab_coeffs.append(frag['sigma'])\n",
    "            # free\n",
    "            frag_masses.append(frag['mass_percent'])\n",
    "            if frag['erosion_coeff'] == None:  # this means that the fragment is dust\n",
    "                frag_er_coeffs.append(0.)  # erosion coefficient of zero\n",
    "            else:\n",
    "                frag_er_coeffs.append(frag['erosion_coeff'])\n",
    "            frag_grain_mins.append(frag['grain_mass_min'])\n",
    "            frag_grain_maxs.append(frag['grain_mass_max'])\n",
    "            frag_heights.append(frag['height'])\n",
    "\n",
    "        # fixed_frag_mask = np.argsort(fixed_frag_mask)\n",
    "        # assign free fixed parameters to object\n",
    "        self.free_params = [m_init, \n",
    "                            list(np.array(frag_masses)[free_frag_mask]), \n",
    "                            list(np.array(frag_er_coeffs)[er_frag_mask]),  # use er frag mask for this one! \n",
    "                            list(np.array(frag_grain_mins)[free_frag_mask]), \n",
    "                            list(np.array(frag_grain_maxs)[free_frag_mask]),\n",
    "                            list(np.array(frag_heights)[free_frag_mask])  # heights\n",
    "                           ]\n",
    "        self.fixed_params = [dt, P_0m, h_init, m_kill, v_kill, h_kill, len_kill, rho, rho_grain, sigma, \n",
    "                             v_init, shape_factor, \n",
    "                            gamma, zenith_angle, lum_eff, lum_eff_type, erosion_height_start, \n",
    "                            erosion_bins_per_10mass, erosion_coeff, erosion_height_change, \n",
    "                            erosion_coeff_change, erosion_mass_index, erosion_mass_min, erosion_mass_max, \n",
    "                            erosion_rho_change, erosion_sigma_change, compressive_strength, \n",
    "                            disruption_erosion_coeff, disruption_mass_grain_ratio, disruption_mass_index, \n",
    "                            disruption_mass_min_ratio, disruption_mass_max_ratio, \n",
    "                            frag_types, frag_numbers, \n",
    "                            frag_ab_coeffs, frag_gammas, frag_mis,\n",
    "                            list(np.array(frag_masses)[fixed_frag_mask]), \n",
    "                            list(np.array(frag_er_coeffs)[~er_frag_mask]),  # and inverse of er frag mask \n",
    "                            list(np.array(frag_grain_mins)[fixed_frag_mask]), \n",
    "                            list(np.array(frag_grain_maxs)[fixed_frag_mask]),\n",
    "                            list(np.array(frag_heights)[fixed_frag_mask])\n",
    "                            ]\n",
    "        \n",
    "        # load all the global parameters into the object\n",
    "        consts = dt, P_0m, h_init, m_kill, v_kill, h_kill, len_kill, rho, rho_grain, m_init, sigma, v_init, shape_factor, gamma, zenith_angle, lum_eff, lum_eff_type, erosion_height_start, erosion_bins_per_10mass, erosion_coeff, erosion_height_change, erosion_coeff_change, erosion_mass_index, erosion_mass_min, erosion_mass_max, erosion_rho_change, erosion_sigma_change, compressive_strength, disruption_erosion_coeff, disruption_mass_grain_ratio, disruption_mass_index, disruption_mass_min_ratio, disruption_mass_max_ratio\n",
    "        self.loadGlobalParameters(consts)\n",
    "\n",
    "        # get all parameters\n",
    "        self.all_params = (self.free_params, self.fixed_params)\n",
    "        \n",
    "        # self.initializeSimulation(all_params)\n",
    "        # self.initializeSimulation(const_json)\n",
    "    \n",
    "    def loadGlobalParameters(self, consts):\n",
    "            \"\"\"\n",
    "            Loads the global parameters (constants) into the object\n",
    "            \"\"\"\n",
    "            dt, P_0m, h_init, m_kill, v_kill, h_kill, len_kill, rho, rho_grain, m_init, sigma, v_init, shape_factor, gamma, zenith_angle, lum_eff, lum_eff_type, erosion_height_start, erosion_bins_per_10mass, erosion_coeff, erosion_height_change, erosion_coeff_change, erosion_mass_index, erosion_mass_min, erosion_mass_max, erosion_rho_change, erosion_sigma_change, compressive_strength, disruption_erosion_coeff, disruption_mass_grain_ratio, disruption_mass_index, disruption_mass_min_ratio, disruption_mass_max_ratio = consts\n",
    "            # load all the non-fragmentation parameters into the object\n",
    "            # 33 parameters\n",
    "            self.const.dt = dt\n",
    "            self.const.P_0m = P_0m\n",
    "            self.const.h_init = h_init\n",
    "            self.const.m_kill = m_kill\n",
    "            self.const.v_kill = v_kill\n",
    "            self.const.h_kill = h_kill\n",
    "            self.const.len_kill = len_kill\n",
    "            self.const.rho = rho\n",
    "            self.const.rho_grain = rho_grain\n",
    "            self.const.m_init = m_init\n",
    "            self.const.sigma = sigma\n",
    "            self.const.v_init = v_init\n",
    "            self.const.shape_factor = shape_factor\n",
    "            self.const.gamma = gamma\n",
    "            self.const.zenith_angle = zenith_angle\n",
    "            self.const.lum_eff = lum_eff\n",
    "            self.const.lum_eff_type = lum_eff_type\n",
    "            self.const.erosion_height_start = erosion_height_start\n",
    "            self.const.erosion_bins_per_10mass = erosion_bins_per_10mass\n",
    "            self.const.erosion_coeff = erosion_coeff\n",
    "            self.const.erosion_height_change = erosion_height_change\n",
    "            self.const.erosion_coeff_change = erosion_coeff_change\n",
    "            self.const.erosion_mass_index = erosion_mass_index\n",
    "            self.const.erosion_mass_min = erosion_mass_min\n",
    "            self.const.erosion_mass_max = erosion_mass_max\n",
    "            self.const.erosion_rho_change = erosion_rho_change\n",
    "            self.const.erosion_sigma_change = erosion_sigma_change\n",
    "            self.const.compressive_strength = compressive_strength\n",
    "            self.const.disruption_erosion_coeff = disruption_erosion_coeff\n",
    "            self.const.disruption_mass_grain_ratio = disruption_mass_grain_ratio\n",
    "            self.const.disruption_mass_index = disruption_mass_index\n",
    "            self.const.disruption_mass_min_ratio = disruption_mass_min_ratio\n",
    "            self.const.disruption_mass_max_ratio = disruption_mass_max_ratio\n",
    "\n",
    "    def initializeSimulation(self, all_params):\n",
    "            \"\"\" Run the simulation and show the results. \"\"\"\n",
    "            # If the fragmentation is turned on and no fragmentation data is given, notify the user\n",
    "            # if self.const.fragmentation_on and (self.fragmentation is None):\n",
    "            #     frag_error_message = QMessageBox(QMessageBox.Critical, \"Fragmentation file error\", \\\n",
    "            #         \"Fragmentation is enabled but no fragmentation file is set.\")\n",
    "            #     frag_error_message.setInformativeText(\"Either load an existing fragmentation file or create a new one.\")\n",
    "            #     frag_error_message.exec_()\n",
    "            #     return None   \n",
    "\n",
    "            # unpack all params\n",
    "            free_params, fixed_params = all_params\n",
    "            # unpack again\n",
    "            #### CHANGE THESE NEXT TWO LINES TO TEST DIFFERENT COMBINATIONS OF FREE PARAMETERS\n",
    "            m_init, frag_masses_free, frag_er_coeffs_free, frag_grain_mins_free, frag_grain_maxs_free, frag_heights_free = free_params \n",
    "            dt, P_0m, h_init, m_kill, v_kill, h_kill, len_kill, rho, rho_grain, sigma, v_init, shape_factor, gamma, zenith_angle, lum_eff, lum_eff_type, erosion_height_start, erosion_bins_per_10mass, erosion_coeff, erosion_height_change, erosion_coeff_change, erosion_mass_index, erosion_mass_min, erosion_mass_max, erosion_rho_change, erosion_sigma_change, compressive_strength, disruption_erosion_coeff, disruption_mass_grain_ratio, disruption_mass_index, disruption_mass_min_ratio, disruption_mass_max_ratio, frag_types, frag_numbers, frag_ab_coeffs, frag_gammas, frag_mis, frag_masses_fixed, frag_er_coeffs_fixed, frag_grain_mins_fixed, frag_grain_maxs_fixed, frag_heights_fixed = fixed_params\n",
    "            # load all the global parameters into the object\n",
    "            consts = dt, P_0m, h_init, m_kill, v_kill, h_kill, len_kill, rho, rho_grain, m_init, sigma, v_init, shape_factor, gamma, zenith_angle, lum_eff, lum_eff_type, erosion_height_start, erosion_bins_per_10mass, erosion_coeff, erosion_height_change, erosion_coeff_change, erosion_mass_index, erosion_mass_min, erosion_mass_max, erosion_rho_change, erosion_sigma_change, compressive_strength, disruption_erosion_coeff, disruption_mass_grain_ratio, disruption_mass_index, disruption_mass_min_ratio, disruption_mass_max_ratio\n",
    "            self.loadGlobalParameters(consts)\n",
    "            # combine free fixed fragmentation parameters\n",
    "            frag_order = np.argsort(self.fixed_frag_indices + self.free_frag_indices)\n",
    "            frag_masses = np.concatenate((frag_masses_fixed, frag_masses_free))[frag_order]\n",
    "            frag_er_coeffs = np.zeros(len(frag_masses))  # number of fragments\n",
    "            frag_er_coeffs[self.er_frag_indices] = frag_er_coeffs_free  # set all erosion fragments to their values, everything else is zero\n",
    "            frag_grain_mins = np.concatenate((frag_grain_mins_fixed, frag_grain_mins_free))[frag_order]\n",
    "            frag_grain_maxs = np.concatenate((frag_grain_maxs_fixed, frag_grain_maxs_free))[frag_order]\n",
    "            frag_heights = np.concatenate((frag_heights_fixed, frag_heights_free))[frag_order]\n",
    "\n",
    "            # print(frag_order, np.concatenate((frag_masses_fixed, frag_masses_free)), frag_masses)\n",
    "            \n",
    "            # Load fragmentation entries\n",
    "            self.fragmentation_entries = []\n",
    "            for i in range(0, len(frag_masses)):  # pick any frag entry to iterate over\n",
    "                frag_entry = gui.FragmentationEntry(frag_types[i], frag_heights[i], frag_numbers[i], frag_masses[i], \n",
    "                                                    frag_ab_coeffs[i], frag_gammas[i], frag_er_coeffs[i], frag_grain_mins[i], frag_grain_maxs[i], frag_mis[i])\n",
    "                self.fragmentation_entries.append(frag_entry)\n",
    "            # set the fragmentation entries to constants\n",
    "            self.const.fragmentation_entries = self.fragmentation_entries\n",
    "    \n",
    "            # Sort entries by height\n",
    "            self.fragmentation.sortByHeight()\n",
    "\n",
    "            # Reset the status of all fragmentations\n",
    "            self.fragmentation.resetAll()\n",
    "        \n",
    "            # fragmentation\n",
    "            self.const.fragmentation_on = True\n",
    "\n",
    "            # print(self.const.fragmentation_on)\n",
    "    \n",
    "            # Run the simulation\n",
    "            frag_main, results_list, wake_results = erosion.runSimulation(self.const, compute_wake=self.wake_on)\n",
    "            # print(results_list)\n",
    "\n",
    "            # Store simulation results\n",
    "            self.simulation_results = gui.SimulationResults(self.const, frag_main, results_list, wake_results)\n",
    "\n",
    "P0m = 3030.  # 3030 W for zero magntiude bolometric meteor"
   ]
  },
  {
   "cell_type": "markdown",
   "id": "7e464e84-5ada-4cab-bb54-41d6de7d00f3",
   "metadata": {},
   "source": [
    "Test with event:"
   ]
  },
  {
   "cell_type": "code",
   "execution_count": 5,
   "id": "f0419014-bad4-4c19-88ef-fba92567369f",
   "metadata": {},
   "outputs": [],
   "source": [
    "# metsim_obj_old = MetSimObj_old(traj_path='../usg_metsim_files/1999-01-14/usg_input_jan_1999.txt', \n",
    "#                        const_json_file='../usg_metsim_files/1999-01-14/usg_input_jan_1999_sim_fit_latest.json')"
   ]
  },
  {
   "cell_type": "code",
   "execution_count": 7,
   "id": "bf0e98e1-3262-489a-b8a5-002e7595cb1b",
   "metadata": {},
   "outputs": [
    {
     "name": "stderr",
     "output_type": "stream",
     "text": [
      "/home/ichow9/Thesis/physical/../../source/WesternMeteorPyLib/wmpl/MetSim/GUI.py:1563: RuntimeWarning: invalid value encountered in log10\n",
      "  data.absolute_magnitudes = -2.5*np.log10(data.usg_intensity_data[:, 1]/248)\n"
     ]
    }
   ],
   "source": [
    "event_path = '../usg_metsim_files/1994-02-01/usg_input_feb_1994'\n",
    "\n",
    "FIXED_FRAG_INDICES = []\n",
    "FREE_FRAG_INDICES = [0, 1, 2, 3, 4, 5, 6]#, 6, 7, 8]  # fragments with free parameters\n",
    "ER_FRAG_INDICES = [0, 1, 2, 3, 4, 5, 6]#, 2, 3, 4]  # free fragments that have erosion coefficients (i.e. all free fragments excluding dust)\n",
    "\n",
    "metsim_obj = MetSimObj(traj_path=event_path + '.txt', \n",
    "                       const_json_file=event_path + '_sim_fit_latest.json',\n",
    "                       fixed_frag_indices = FIXED_FRAG_INDICES,\n",
    "                       free_frag_indices = FREE_FRAG_INDICES,\n",
    "                       er_frag_indices = ER_FRAG_INDICES\n",
    "                      )\n",
    "# initialize simulation, run with all parameters\n",
    "metsim_obj.initializeSimulation(metsim_obj.all_params)"
   ]
  },
  {
   "cell_type": "code",
   "execution_count": 8,
   "id": "4ace06e0-1f43-4e19-8ad4-522d6b099bdc",
   "metadata": {},
   "outputs": [
    {
     "data": {
      "text/plain": [
       "(10.0, 80.0)"
      ]
     },
     "execution_count": 8,
     "metadata": {},
     "output_type": "execute_result"
    },
    {
     "data": {
      "image/png": "[encoded data removed]",
      "text/plain": [
       "<Figure size 1200x800 with 1 Axes>"
      ]
     },
     "metadata": {},
     "output_type": "display_data"
    }
   ],
   "source": [
    "plt.figure(figsize = (12, 8))\n",
    "plt.plot(3030 * (10 ** (metsim_obj.usg_data.absolute_magnitudes/(-2.5))), metsim_obj.traj.observations[0].model_ht/1000., label = 'observed')\n",
    "plt.plot(metsim_obj.simulation_results.luminosity_arr, metsim_obj.simulation_results.leading_frag_height_arr/1000., label = 'simulated')\n",
    "plt.legend()\n",
    "plt.ylim(10., 80.)"
   ]
  },
  {
   "cell_type": "code",
   "execution_count": 9,
   "id": "b4ec2950-bcb9-4f46-aa46-c263479194e2",
   "metadata": {},
   "outputs": [],
   "source": [
    "# plt.figure(figsize = (12, 8))\n",
    "# plt.plot(metsim_obj_old.usg_data.time_data + 11.9, metsim_obj_old.usg_data.absolute_magnitudes, label = 'observed')\n",
    "# plt.plot(metsim_obj_old.simulation_results.time_arr, metsim_obj_old.simulation_results.abs_magnitude, label = 'simulated')\n",
    "# plt.legend()"
   ]
  },
  {
   "cell_type": "code",
   "execution_count": 10,
   "id": "27d01c8f-5768-4078-bc8a-2894d02f7543",
   "metadata": {},
   "outputs": [],
   "source": [
    "# plt.figure(figsize = (12, 8))\n",
    "# plt.plot(metsim_obj_old.usg_data.time_data + 11.9, 3030 * (10 ** (metsim_obj_old.usg_data.absolute_magnitudes/(-2.5))), label = 'observed')\n",
    "# plt.plot(metsim_obj_old.simulation_results.time_arr, metsim_obj_old.simulation_results.luminosity_arr, label = 'simulated')\n",
    "# plt.legend()\n",
    "# plt.plot()"
   ]
  },
  {
   "cell_type": "code",
   "execution_count": 11,
   "id": "db086e6a-7fae-45a5-93f1-0ff12951cc33",
   "metadata": {},
   "outputs": [
    {
     "data": {
      "text/plain": [
       "(16731252519886.08, 16776953545632.39)"
      ]
     },
     "execution_count": 11,
     "metadata": {},
     "output_type": "execute_result"
    }
   ],
   "source": [
    "# check observed - simulated integrated intensity\n",
    "\n",
    "obs_integrated_intensity = np.nansum(np.diff(metsim_obj.usg_data.time_data) * 3030 * (10 ** (metsim_obj.usg_data.absolute_magnitudes/(-2.5)))[1:])\n",
    "sim_integrated_intensity = np.nansum(np.diff(metsim_obj.simulation_results.time_arr) * metsim_obj.simulation_results.luminosity_arr[1:])\n",
    "\n",
    "obs_integrated_intensity, sim_integrated_intensity"
   ]
  },
  {
   "cell_type": "code",
   "execution_count": 12,
   "id": "2bdefafc-1088-472e-8e04-9cbce3cea734",
   "metadata": {},
   "outputs": [
    {
     "data": {
      "text/plain": [
       "-45701025746.31055"
      ]
     },
     "execution_count": 12,
     "metadata": {},
     "output_type": "execute_result"
    }
   ],
   "source": [
    "obs_integrated_intensity - sim_integrated_intensity"
   ]
  },
  {
   "cell_type": "markdown",
   "id": "62355110-10f1-40ae-be7f-1f3888ec3576",
   "metadata": {},
   "source": [
    "### Optimization:"
   ]
  },
  {
   "cell_type": "markdown",
   "id": "912dc6c4-08dd-404a-a083-64212d69a1ed",
   "metadata": {},
   "source": [
    "Note that sometimes MetSim returns a simulated LC in which the height of the leading fragment increases after the end of the LC"
   ]
  },
  {
   "cell_type": "code",
   "execution_count": 13,
   "id": "e33ed660-4811-4466-bfee-5b1a65b93fa3",
   "metadata": {},
   "outputs": [],
   "source": [
    "# helper nested function to flatten a list\n",
    "\n",
    "def flatten_list(nested_list):\n",
    "    def flatten(lst):\n",
    "        for item in lst:\n",
    "            if isinstance(item, list):\n",
    "                flatten(item)\n",
    "            else:\n",
    "                flat_list.append(item)\n",
    "\n",
    "    flat_list = []\n",
    "    flatten(nested_list)\n",
    "    return flat_list\n",
    "\n",
    "# helper function to unflatten the list\n",
    "#### CHANGE THE NUMBER OF GLOBAL/FRAGMENT PARAMETERS TO TEST DIFFERENT COMBINATIONS\n",
    "def unflatten_list(lst, num_global_params=1, num_frag_params=5, er_frag_indices=ER_FRAG_INDICES):\n",
    "    \"\"\"\n",
    "    change number of global parameters and frag parameters based on the structure of the free parameters object\n",
    "    passed into the get_lc_cost_function() function\n",
    "    \"\"\"\n",
    "    # print(lst[:num_global_params], list(zip(*[iter(lst[num_global_params:])]*(len(lst[num_global_params:])//num_frag_params))))\n",
    "    num_frag_params = max(1, num_frag_params)\n",
    "    sizes = list(np.repeat('k', num_frag_params - 1))\n",
    "    for i in range(0, num_global_params):\n",
    "        sizes.insert(0, 1)\n",
    "    sizes.insert(3, int(len(er_frag_indices)))  # CHANGE THESE INDICES IF STRUCTURE CHANGES\n",
    "    k = (len(lst) - sum(s for s in sizes if s != 'k')) // sizes.count('k') if 'k' in sizes else 0\n",
    "    result, index = [], 0\n",
    "    for size in sizes:\n",
    "        group_size = k if size == 'k' else size\n",
    "        if group_size == 1:\n",
    "            result.append(lst[index])\n",
    "        else:\n",
    "            result.append(lst[index:index + group_size])\n",
    "        index += group_size\n",
    "    return result\n",
    "       \n",
    "    # else:\n",
    "    #     return list(lst[:num_global_params]) + list(zip(*[iter(lst[num_global_params:])]*(len(lst[num_global_params:])//num_frag_params)))\n",
    "\n",
    "\n",
    "### define residuals for the optimization routine\n",
    "# TODO: make sure the two are the same size\n",
    "\n",
    "\n",
    "# def get_lc_residuals(free_params_flattened, metsim_obj):\n",
    "#     \"\"\"\n",
    "#     Gets the residuals for the integrated intensity given a flattened list of free parameters and a metsim object\n",
    "\n",
    "#     Flattened list of free parameters has the form\n",
    "#     free_params = [rho, rho_grain, m_init, sigma, *frag_masses, *frag_ab_coeffs, *frag_er_coeffs, *frag_grain_mins, *frag_grain_maxs]\n",
    "\n",
    "#     Global parameters:\n",
    "#     rho: float\n",
    "#     rho_grain: float\n",
    "#     m_init: float\n",
    "#     sigma: float\n",
    "\n",
    "#     Fragment parameters (for n total fragments):\n",
    "#     *frag_masses: n fragment masses\n",
    "#     *frag_ab_coeffs: n ablation coefficients\n",
    "#     *frag_er_coeffs: n erosion coefficients\n",
    "#     *frag_grain_mins: n grain mins\n",
    "#     *frag_grain_maxs: n grain maxs\n",
    "#     \"\"\"\n",
    "#     # observed integrated intensity, this doesn't change\n",
    "#     obs_integrated_intensity = np.nansum(np.diff(metsim_obj.usg_data.time_data) * \n",
    "#                                          3030 * (10 ** (metsim_obj.usg_data.absolute_magnitudes/(-2.5)))[1:])\n",
    "#     # compute the simulated integrated intensity for the given set of free parameters\n",
    "#     # unflatten the list of free parameters to pass into the initializeSimulation() function\n",
    "#     free_params = unflatten_list(free_params_flattened)\n",
    "#     # construct all params to pass into intiializeSimulation function\n",
    "#     all_params = (free_params, metsim_obj.fixed_params)  # set of all params to use\n",
    "#     # run simulation\n",
    "#     metsim_obj.initializeSimulation(all_params)\n",
    "    \n",
    "#     # get simulated integrated intensity\n",
    "#     sim_integrated_intensity = np.nansum(np.diff(metsim_obj.simulation_results.time_arr) * \n",
    "#                                          metsim_obj.simulation_results.luminosity_arr[1:])\n",
    "#     # return the difference between the two\n",
    "#     return (obs_integrated_intensity - sim_integrated_intensity)\n",
    "\n",
    "### get the simulated light curve for a given set of free parameters and metsim object\n",
    "\n",
    "def sim_lc(flattened_free_params, metsim_obj):\n",
    "    \"\"\"\n",
    "    Same format as function below\n",
    "    \"\"\"\n",
    "    # compute the simulated integrated intensity for the given set of free parameters\n",
    "    # unflatten the list of free parameters to pass into the initializeSimulation() function\n",
    "    free_params = unflatten_list(list(flattened_free_params)[1:], num_global_params=1)\n",
    "    # construct all params to pass into intiializeSimulation function\n",
    "    # print(free_params)\n",
    "    all_params = (free_params, metsim_obj.fixed_params)  # set of all params to use\n",
    "    # run simulation on the object, copying it\n",
    "    # obj_copy = copy.copy(metsim_obj)\n",
    "    # obj_copy.initializeSimulation(all_params)\n",
    "    metsim_obj.initializeSimulation(all_params)\n",
    "    # return the simulation results\n",
    "    # return obj_copy.simulation_results\n",
    "    return metsim_obj.simulation_results\n",
    "\n",
    "\n",
    "### define cost function for the opitmization routine\n",
    "\n",
    "def get_lc_cost_function(flattened_free_params, metsim_obj, pso=False):\n",
    "    \"\"\"\n",
    "    Gets the residuals for the integrated intensity given\n",
    "    a metsim object and a list/tuple of an initial guess of free parameters\n",
    "    \n",
    "    metsim_obj is an MetSim() object\n",
    "    flattened_free_params is an initial guess flattened list of free parameters with the form\n",
    "    flattened_free_params = [rho, rho_grain, m_init, sigma, *frag_masses, \n",
    "    *frag_ab_coeffs, *frag_er_coeffs, *frag_grain_mins, *frag_grain_maxs]\n",
    "    pso is a boolean for if pso is being used\n",
    "\n",
    "    Global parameters:\n",
    "    rho: float\n",
    "    rho_grain: float\n",
    "    m_init: float\n",
    "    sigma: float\n",
    "\n",
    "    Fragment parameters (for n total fragments):\n",
    "    *frag_masses: n fragment masses\n",
    "    *frag_ab_coeffs: n ablation coefficients\n",
    "    *frag_er_coeffs: n - nd erosion coefficients where nd is the number of dust fragments\n",
    "    (as dust fragments do not have a nassociated erosion coefficient)\n",
    "    *frag_grain_mins: n grain mins\n",
    "    *frag_grain_maxs: n grain maxs\n",
    "    \"\"\"\n",
    "    # print(f'parameters: {flattened_free_params}')\n",
    "    # observed LC intensity, this doesn't change\n",
    "    obs_lc_intensity = 3030 * (10 ** (metsim_obj.usg_data.absolute_magnitudes/(-2.5)))\n",
    "\n",
    "    # get simulated LC intensity onthe object\n",
    "    # flatten if pso is being used\n",
    "    simulation_results = sim_lc(flattened_free_params, metsim_obj)\n",
    "    # compute simulated LC intensity\n",
    "    # find where height starts increasing if it does at any point\n",
    "    # print(np.diff(simulation_results.leading_frag_height_arr))\n",
    "    if np.sum(np.diff(simulation_results.leading_frag_height_arr) > 0) > 0:\n",
    "        first_increasing_height_arr = np.where(np.diff(simulation_results.leading_frag_height_arr) > 0)[0][0] - 1\n",
    "        # print('increasing height')\n",
    "    else:\n",
    "        first_increasing_height_arr = -1\n",
    "    # interpolate to make sure they are the same length and discard points after height starts increasing if it does at any point\n",
    "    simulated_lc_intensity = np.interp(metsim_obj.traj.observations[0].model_ht, \n",
    "                                       np.flip(simulation_results.leading_frag_height_arr[:first_increasing_height_arr]), \n",
    "                                       np.flip(simulation_results.luminosity_arr[:first_increasing_height_arr]))\n",
    "    # return the negative log-likelihood (negative residual sum of square difference between the two)\n",
    "    # assuming there is no error for the observed LC data\n",
    "    # print(len(obs_lc_intensity), len(simulated_lc_intensity))\n",
    "    sigma = np.exp(flattened_free_params[0])  # 0 is ln sigma\n",
    "    sse = np.nansum((obs_lc_intensity - simulated_lc_intensity) ** 2)  # sum of squared errors\n",
    "    N = np.count_nonzero(~np.isnan(obs_lc_intensity - simulated_lc_intensity))  # number of points used (all non-nan points)\n",
    "    print(sse, sigma, len(obs_lc_intensity), N)\n",
    "    # log likelihood based on josh's comments\n",
    "    log_likelihood = -1/2 * (sse/(sigma ** 2) + N * np.log(2 * np.pi * sigma ** 2))\n",
    "    # negative log lieklihood\n",
    "    return -log_likelihood"
   ]
  },
  {
   "cell_type": "markdown",
   "id": "be955069-9612-4342-a001-dc3f7d1b507e",
   "metadata": {},
   "source": [
    "Estimate log sigma:"
   ]
  },
  {
   "cell_type": "code",
   "execution_count": 14,
   "id": "614655c0-8ad5-4c5b-a316-6567659f5624",
   "metadata": {},
   "outputs": [
    {
     "name": "stdout",
     "output_type": "stream",
     "text": [
      "55.080431582395946 56.20774015030471 39.50863397638543 58.92233674268276\n"
     ]
    },
    {
     "data": {
      "image/png": "[encoded data removed]",
      "text/plain": [
       "<Figure size 1200x800 with 1 Axes>"
      ]
     },
     "metadata": {},
     "output_type": "display_data"
    }
   ],
   "source": [
    "simulated_lc_intensity = np.interp(metsim_obj.traj.observations[0].model_ht, \n",
    "                                   np.flip(metsim_obj.simulation_results.leading_frag_height_arr), \n",
    "                                   np.flip(metsim_obj.simulation_results.luminosity_arr))\n",
    "obs_lc_intensity = 3030 * (10 ** (metsim_obj.usg_data.absolute_magnitudes/(-2.5)))\n",
    "# plot\n",
    "plt.figure(figsize = (12, 8))\n",
    "plt.plot((obs_lc_intensity - simulated_lc_intensity) ** 2, metsim_obj.traj.observations[0].model_ht)\n",
    "# plt.ylim(40000., 50000.)\n",
    "# plt.xlim(0., 0.2e24)\n",
    "ln_sigma_mean, ln_sigma_median = np.nanmean(np.log((obs_lc_intensity - simulated_lc_intensity) ** 2)), np.nanmedian(np.log((obs_lc_intensity - simulated_lc_intensity) ** 2))\n",
    "ln_sigma_min, ln_sigma_max = np.nanmin(np.log((obs_lc_intensity - simulated_lc_intensity) ** 2)), np.nanmax(np.log((obs_lc_intensity - simulated_lc_intensity) ** 2))\n",
    "print(ln_sigma_mean, ln_sigma_median, ln_sigma_min, ln_sigma_max)"
   ]
  },
  {
   "cell_type": "markdown",
   "id": "89868ec0-f438-46a1-877a-fe388fe3e85c",
   "metadata": {},
   "source": [
    "Also need to make sure that the loss function to minimize (currently computed as the **negative** log-likelihood equivalent to negative RSS/$\\chi^2$) is correct, since if there are errors then these need to be accounted for in the computation of the loss function\n",
    "\n",
    "Also probably want to make `sim_lc` returns the interpolated LC:"
   ]
  },
  {
   "cell_type": "markdown",
   "id": "72731301-b213-4ab4-a9c8-26e6d90a003b",
   "metadata": {},
   "source": [
    "Test to make sure changing the parameters affects the logL and the LCs:"
   ]
  },
  {
   "cell_type": "code",
   "execution_count": 15,
   "id": "cdd4a37a-ffd6-4e03-a883-15a3450e203d",
   "metadata": {},
   "outputs": [],
   "source": [
    "# # # USE FOLLOWING LINE TO SAVE NEW SET OF TEST PARAMETERS WHEN TESTING DIFFERENT COMBINATIONS OF PARAMETERS\n",
    "# np.save('initial_guesses/initial_guess_2010_07_06_TEST_heights.npy', np.array([ln_sigma_mean] + flatten_list(metsim_obj.free_params)))\n",
    "# # # and to save\n",
    "# # # np.save('initial_guess_2004_10_07_TEST_edited.npy', pos)"
   ]
  },
  {
   "cell_type": "code",
   "execution_count": 16,
   "id": "04c43c1e-24d5-40ec-8bbb-e767b830e27c",
   "metadata": {},
   "outputs": [
    {
     "name": "stdout",
     "output_type": "stream",
     "text": [
      "1.9128152098136893e+27 5.184705528587073e+21 267 257\n"
     ]
    },
    {
     "name": "stderr",
     "output_type": "stream",
     "text": [
      "/home/ichow9/Thesis/physical/../../source/WesternMeteorPyLib/wmpl/MetSim/GUI.py:99: RuntimeWarning: divide by zero encountered in log10\n",
      "  self.abs_magnitude_eroded = -2.5*np.log10(self.luminosity_eroded_arr/self.const.P_0m)\n"
     ]
    },
    {
     "data": {
      "text/plain": [
       "13086.167203033601"
      ]
     },
     "execution_count": 16,
     "metadata": {},
     "output_type": "execute_result"
    }
   ],
   "source": [
    "initial_guess = np.load('initial_guesses/initial_guess_1994_02_01_TEST_heights.npy')  # initial pre-saved guess\n",
    "# initial_guess\n",
    "\n",
    "lamb_func = lambda free_params_flattened: get_lc_cost_function(free_params_flattened, metsim_obj=metsim_obj, pso=False)\n",
    "lamb_func(initial_guess)"
   ]
  },
  {
   "cell_type": "code",
   "execution_count": 17,
   "id": "8794e6a2-7257-4a42-bc61-20da4fcf881b",
   "metadata": {},
   "outputs": [
    {
     "data": {
      "text/plain": [
       "array([5.0000e+01, 4.3500e+05, 2.3490e+00, 8.9630e+00, 3.7010e+00,\n",
       "       6.0950e+00, 6.1848e+01, 3.9476e+01, 5.7543e+01, 5.7960e-07,\n",
       "       1.0695e-06, 9.2510e-07, 1.2660e-07, 5.2000e-08, 8.7400e-08,\n",
       "       1.0560e-07, 5.0000e-03, 1.1100e-02, 6.8100e-02, 1.0700e+00,\n",
       "       1.5400e-02, 1.5900e+00, 1.5000e-02, 5.1400e+00, 2.2400e+00,\n",
       "       4.6200e-01, 4.1900e+00, 4.2200e-02, 4.7100e+00, 4.6600e+00,\n",
       "       4.5879e+04, 4.0664e+04, 3.6157e+04, 3.3916e+04, 2.7000e+04,\n",
       "       2.3960e+04, 2.1950e+04])"
      ]
     },
     "execution_count": 17,
     "metadata": {},
     "output_type": "execute_result"
    }
   ],
   "source": [
    "initial_guess"
   ]
  },
  {
   "cell_type": "code",
   "execution_count": 18,
   "id": "c6ad4661-2de7-48bc-90f0-b3cda7787719",
   "metadata": {},
   "outputs": [],
   "source": [
    "#### USE THIS TO TEST DIFFERENT COMBINATIONS OF TEST PARAMETERS\n",
    "\n",
    "initial_guess_mod = initial_guess.copy()\n",
    "# fiddle with global mass\n",
    "initial_guess_mod[0] = initial_guess[0]\n",
    "# fiddle with frag masses\n",
    "initial_guess_mod = initial_guess + [0., # log-sigma\n",
    "                                     0., # total mass\n",
    "                                     0., 0., 10., 0., 0., 0., 0.,   # frag mass pcts\n",
    "                                     0., 0., 0., 0., 0., 0., 1.e-8,  # erosion coeffs\n",
    "                                     0., 0., 0., 0., 0., 0., 0.,  # grain mins\n",
    "                                     0., 0., 0., 0., 0., 0., 0.,   # grain maxs\n",
    "                                     0., 0., 1000., 0., 0., 0., 0., # heights\n",
    "                                    ] \n",
    "# initial_guess_mod = initial_guess + np.zeros(1 + 4 * len(FREE_FRAG_INDICES))"
   ]
  },
  {
   "cell_type": "code",
   "execution_count": 19,
   "id": "c542e755-3e77-4b50-8884-fa71bb114d69",
   "metadata": {},
   "outputs": [
    {
     "name": "stdout",
     "output_type": "stream",
     "text": [
      "3.8508247192960763e+27 5.184705528587073e+21 267 257\n"
     ]
    },
    {
     "data": {
      "text/plain": [
       "13086.167203033601"
      ]
     },
     "execution_count": 19,
     "metadata": {},
     "output_type": "execute_result"
    }
   ],
   "source": [
    "get_lc_cost_function(initial_guess_mod, metsim_obj)"
   ]
  },
  {
   "cell_type": "code",
   "execution_count": 20,
   "id": "1690a4d0-240c-42d2-860c-7993e2747f1e",
   "metadata": {},
   "outputs": [
    {
     "data": {
      "text/plain": [
       "7.152389085765531e-10"
      ]
     },
     "execution_count": 20,
     "metadata": {},
     "output_type": "execute_result"
    }
   ],
   "source": [
    "272717744e+26/(6.174917106686901e+21 ** 2)"
   ]
  },
  {
   "cell_type": "code",
   "execution_count": 21,
   "id": "731bdf89-5726-47da-a044-a7905061c88c",
   "metadata": {},
   "outputs": [
    {
     "data": {
      "text/plain": [
       "302781.3903170196"
      ]
     },
     "execution_count": 21,
     "metadata": {},
     "output_type": "execute_result"
    }
   ],
   "source": [
    "2963 * np.log(2 * np.pi * 6.174917106686901e+21 ** 2)"
   ]
  },
  {
   "cell_type": "code",
   "execution_count": 22,
   "id": "0a2b6056-b3b2-4f68-9575-96c3dc07e31c",
   "metadata": {},
   "outputs": [],
   "source": [
    "results_initial = sim_lc(initial_guess, metsim_obj)\n",
    "results_initial_mod = sim_lc(initial_guess_mod, metsim_obj)"
   ]
  },
  {
   "cell_type": "code",
   "execution_count": 23,
   "id": "1a2ad309-e1b0-4f7c-94da-3a5bfe29b49a",
   "metadata": {},
   "outputs": [
    {
     "data": {
      "text/plain": [
       "<matplotlib.legend.Legend at 0x7f71f826bdf0>"
      ]
     },
     "execution_count": 23,
     "metadata": {},
     "output_type": "execute_result"
    },
    {
     "data": {
      "image/png": "[encoded data removed]",
      "text/plain": [
       "<Figure size 1200x800 with 1 Axes>"
      ]
     },
     "metadata": {},
     "output_type": "display_data"
    }
   ],
   "source": [
    "plt.figure(figsize = (12, 8))\n",
    "plt.plot(results_initial.luminosity_arr, results_initial.leading_frag_height_arr/1000., label = 'leading simulated')\n",
    "# plt.plot(results_bf.luminosity_arr, results_bf.leading_frag_height_arr/1000., label = 'best fit')\n",
    "# plt.plot(interpolated_bf_intensity, metsim_obj.traj.observations[0].model_ht/1000., label = 'best fit')\n",
    "plt.plot(results_initial_mod.luminosity_arr, results_initial_mod.leading_frag_height_arr/1000., label = 'leading simulated mod')\n",
    "plt.ylim(10., 80.)\n",
    "plt.legend()"
   ]
  },
  {
   "cell_type": "markdown",
   "id": "057fa4a0-49f2-46ab-abfe-78a84936b058",
   "metadata": {},
   "source": [
    "Compute observed LC and simulated initial guess:"
   ]
  },
  {
   "cell_type": "code",
   "execution_count": 24,
   "id": "4695d136-8e69-48cb-9d7c-3b6c360c5b19",
   "metadata": {},
   "outputs": [],
   "source": [
    "# observed LC intensity\n",
    "obs_lc_intensity = 3030 * (10 ** (metsim_obj.usg_data.absolute_magnitudes/(-2.5)))\n",
    "# simulated LC intensities\n",
    "# initial\n",
    "results_initial = sim_lc(initial_guess, metsim_obj)"
   ]
  },
  {
   "cell_type": "markdown",
   "id": "cfe3cce5-230f-4540-93d0-412c953d50d4",
   "metadata": {},
   "source": [
    "Plot simulated initial guess versus observed magnitudes and intensities:"
   ]
  },
  {
   "cell_type": "code",
   "execution_count": 25,
   "id": "9313bf8b-3013-4db5-83b5-a4ca0315ba04",
   "metadata": {},
   "outputs": [
    {
     "data": {
      "text/plain": [
       "<matplotlib.legend.Legend at 0x7f71f81f6c20>"
      ]
     },
     "execution_count": 25,
     "metadata": {},
     "output_type": "execute_result"
    },
    {
     "data": {
      "image/png": "[encoded data removed]",
      "text/plain": [
       "<Figure size 1200x800 with 1 Axes>"
      ]
     },
     "metadata": {},
     "output_type": "display_data"
    }
   ],
   "source": [
    "plt.figure(figsize = (12, 8))\n",
    "plt.plot(results_initial.abs_magnitude, results_initial.leading_frag_height_arr/1000., label = 'leading simulated')\n",
    "plt.plot(metsim_obj.usg_data.absolute_magnitudes, metsim_obj.traj.observations[0].model_ht/1000., label = 'observed')\n",
    "plt.ylim(10., 80.)\n",
    "plt.legend()"
   ]
  },
  {
   "cell_type": "code",
   "execution_count": 26,
   "id": "024771ba-8543-48e7-8678-5c05429f18e8",
   "metadata": {},
   "outputs": [
    {
     "data": {
      "text/plain": [
       "<matplotlib.legend.Legend at 0x7f71e8173b20>"
      ]
     },
     "execution_count": 26,
     "metadata": {},
     "output_type": "execute_result"
    },
    {
     "data": {
      "image/png": "[encoded data removed]",
      "text/plain": [
       "<Figure size 640x480 with 1 Axes>"
      ]
     },
     "metadata": {},
     "output_type": "display_data"
    }
   ],
   "source": [
    "plt.plot(3030 * (10 ** (results_initial.abs_magnitude/(-2.5))), results_initial.leading_frag_height_arr/1000., label = 'abs mag conv')\n",
    "plt.plot(results_initial.luminosity_arr, results_initial.leading_frag_height_arr/1000., label = 'luminosity')\n",
    "plt.legend()"
   ]
  },
  {
   "cell_type": "code",
   "execution_count": 27,
   "id": "61ed54fc-059f-4440-9ddb-46879940c677",
   "metadata": {},
   "outputs": [
    {
     "data": {
      "text/plain": [
       "<matplotlib.legend.Legend at 0x7f71f81cdf90>"
      ]
     },
     "execution_count": 27,
     "metadata": {},
     "output_type": "execute_result"
    },
    {
     "data": {
      "image/png": "[encoded data removed]",
      "text/plain": [
       "<Figure size 1200x800 with 1 Axes>"
      ]
     },
     "metadata": {},
     "output_type": "display_data"
    }
   ],
   "source": [
    "plt.figure(figsize = (12, 8))\n",
    "# plt.plot(results_initial.luminosity_arr, results_initial.main_height_arr/1000., label = 'main')\n",
    "# plt.plot(results_initial.luminosity_arr, results_initial.brightest_height_arr/1000., label = 'brightest')\n",
    "plt.plot(results_initial.luminosity_arr, results_initial.leading_frag_height_arr/1000., label = 'leading simulated')\n",
    "plt.plot(obs_lc_intensity, metsim_obj.traj.observations[0].model_ht/1000., label = 'observed')\n",
    "plt.ylim(10., 80.)\n",
    "plt.legend()"
   ]
  },
  {
   "cell_type": "markdown",
   "id": "8c367a14-62b5-4a02-88e7-b4d68e0af224",
   "metadata": {},
   "source": [
    "NS comparison:"
   ]
  },
  {
   "cell_type": "code",
   "execution_count": 28,
   "id": "0601c080-3c8c-4010-bf6e-5ba29366fd6d",
   "metadata": {},
   "outputs": [
    {
     "name": "stderr",
     "output_type": "stream",
     "text": [
      "/home/ichow9/Thesis/physical/../../source/WesternMeteorPyLib/wmpl/MetSim/GUI.py:95: RuntimeWarning: divide by zero encountered in log10\n",
      "  self.abs_magnitude_main = -2.5*np.log10(self.luminosity_main_arr/self.const.P_0m)\n"
     ]
    },
    {
     "data": {
      "text/plain": [
       "<matplotlib.legend.Legend at 0x7f71e8230b20>"
      ]
     },
     "execution_count": 28,
     "metadata": {},
     "output_type": "execute_result"
    },
    {
     "data": {
      "image/png": "[encoded data removed]",
      "text/plain": [
       "<Figure size 1200x800 with 1 Axes>"
      ]
     },
     "metadata": {},
     "output_type": "display_data"
    }
   ],
   "source": [
    "ns_best = np.array([2.88568477e+01, 5.20382260e+05, 4.62302310e+00, 6.94135823e-01,\n",
    "        2.47556735e+01, 1.20903022e+01, 5.05190966e+01, 4.56457258e+01,\n",
    "        8.37683589e+01, 1.24860627e-06, 2.78891501e-06, 1.89329071e-08,\n",
    "        8.77353159e-06, 1.85892587e-06, 2.75872581e-06, 6.92144268e-06,\n",
    "        6.05983942e+02, 5.11153488e+02, 5.76256173e+02, 6.50990588e+02,\n",
    "        1.92324510e+02, 4.10393011e+02, 1.63850376e+00, 2.25436278e+03,\n",
    "        1.06610662e+03, 5.11132131e+03, 7.25346706e+03, 6.76496679e+03,\n",
    "        9.29992819e+03, 4.16636435e+02, 4.61266705e+04, 4.06167523e+04,\n",
    "        3.68908950e+04, 3.29548008e+04, 2.70347946e+04, 2.43784088e+04,\n",
    "        2.22919951e+04])\n",
    "# ns\n",
    "results_ns = sim_lc(ns_best, metsim_obj)\n",
    "\n",
    "# Plot\n",
    "plt.figure(figsize = (12, 8))\n",
    "plt.plot(results_initial.luminosity_arr, results_initial.leading_frag_height_arr/1000., label = 'leading initial', color = 'dodgerblue')\n",
    "plt.plot(results_ns.luminosity_arr, results_ns.leading_frag_height_arr/1000., label = 'leading ns', color = 'black')\n",
    "plt.plot(obs_lc_intensity, metsim_obj.traj.observations[0].model_ht/1000., label = 'observed', color = 'red')\n",
    "plt.ylim(10., 50.)\n",
    "plt.legend()"
   ]
  },
  {
   "cell_type": "code",
   "execution_count": 29,
   "id": "c2ead1b2-80d7-4029-9b85-9752e3d4c410",
   "metadata": {},
   "outputs": [
    {
     "name": "stdout",
     "output_type": "stream",
     "text": [
      "2.952437584594169e+27 3406981075505.221 267 257\n"
     ]
    },
    {
     "data": {
      "text/plain": [
       "7779.554855819319"
      ]
     },
     "execution_count": 29,
     "metadata": {},
     "output_type": "execute_result"
    }
   ],
   "source": [
    "get_lc_cost_function(ns_best, metsim_obj)"
   ]
  },
  {
   "cell_type": "code",
   "execution_count": 30,
   "id": "0e84249f-ccda-41d6-aa00-8fc6e0285276",
   "metadata": {},
   "outputs": [
    {
     "name": "stdout",
     "output_type": "stream",
     "text": [
      "1.9128152098136893e+27 5.184705528587073e+21 267 257\n"
     ]
    },
    {
     "data": {
      "text/plain": [
       "13086.167203033601"
      ]
     },
     "execution_count": 30,
     "metadata": {},
     "output_type": "execute_result"
    }
   ],
   "source": [
    "get_lc_cost_function(initial_guess, metsim_obj)"
   ]
  },
  {
   "cell_type": "code",
   "execution_count": 31,
   "id": "de416b2b-b594-4dca-95b4-8e7136ef1683",
   "metadata": {},
   "outputs": [
    {
     "data": {
      "text/plain": [
       "<matplotlib.legend.Legend at 0x7f71f81612a0>"
      ]
     },
     "execution_count": 31,
     "metadata": {},
     "output_type": "execute_result"
    },
    {
     "data": {
      "image/png": "[encoded data removed]",
      "text/plain": [
       "<Figure size 1200x800 with 1 Axes>"
      ]
     },
     "metadata": {},
     "output_type": "display_data"
    }
   ],
   "source": [
    "plt.figure(figsize = (12, 8))\n",
    "plt.plot(results_initial.abs_magnitude, results_initial.leading_frag_height_arr/1000., label = 'leading initial', color = 'dodgerblue')\n",
    "plt.plot(results_ns.abs_magnitude, results_ns.leading_frag_height_arr/1000., label = 'leading ns', color = 'black')\n",
    "plt.plot(metsim_obj.usg_data.absolute_magnitudes, metsim_obj.traj.observations[0].model_ht/1000., label = 'observed', color = 'red')\n",
    "plt.ylim(10., 50.)\n",
    "# plt.xlim(right=-20)\n",
    "plt.legend()"
   ]
  },
  {
   "cell_type": "markdown",
   "id": "5afd96c6-858d-4aa7-8bec-831443bf56f6",
   "metadata": {},
   "source": [
    "## NS:"
   ]
  },
  {
   "cell_type": "markdown",
   "id": "426dfe90-6654-4c7a-8839-ca9984b51a41",
   "metadata": {},
   "source": [
    "Uniform bounds:"
   ]
  },
  {
   "cell_type": "code",
   "execution_count": 161,
   "id": "90b864de-73f3-4858-9195-333006222446",
   "metadata": {},
   "outputs": [],
   "source": [
    "# Generate the tuples based on the length of free fragments\n",
    "fragmentation_count = len(FREE_FRAG_INDICES)\n",
    "# Fragment mass percents\n",
    "frag_mass_percents = tuple((0., 100.) for _ in range(fragmentation_count))\n",
    "# Frag ablation coeffs\n",
    "# these are 0.01 for dust and between (0.002 * 1e-6, 0.025 * 1e-6) for eroding fragments\n",
    "# frag_ablation_coeffs = tuple((0.002 * 1e-6, 0.025 * 1e-6) for _ in range(fragmentation_count))\n",
    "# frag_ablation_coeffs = tuple([(0.01 * 1e-6, 0.01 * 1e-6) if entry.frag_type == 'D'\n",
    "#                               else (0.002 * 1e-6, 0.025 * 1e-6) for entry in metsim_obj.fragmentation_entries])\n",
    "# Frag erosion coeffs\n",
    "# these are fixed at zero for dust and between (0.23 * 1e-6, 6.0 * 1e-6) for eroding fragments\n",
    "# frag_erosion_coeffs = tuple([(0., 0.) if entry.frag_type == 'D' \n",
    "#                              else (0.23 * 1e-6, 6.0 * 1e-6) for entry in metsim_obj.fragmentation_entries])\n",
    "# keep lower bound above 0.1e6 because that's where the initial guess is\n",
    "frag_erosion_coeffs = tuple([(0.05 * 1e-6, 10.0 * 1e-6) for entry in \n",
    "                             [metsim_obj.fragmentation_entries[i] for i in ER_FRAG_INDICES]])\n",
    "# frag_erosion_coeffs = tuple((0.23 * 1e-6, 6.0 * 1e-6) for _ in range(fragmentation_count))\n",
    "# Frag grain mins\n",
    "# frag_grain_mins = tuple((1e-8, 1e-2) for _ in range(fragmentation_count))\n",
    "frag_grain_mins = tuple((1e-4, 1e2) for _ in range(fragmentation_count))\n",
    "# Frag grain maxs\n",
    "frag_grain_maxs = tuple((1e-3, 1e4) for _ in range(fragmentation_count))\n",
    "# Frag heights\n",
    "frag_heights = tuple((20., 80.) for _ in range(fragmentation_count))\n",
    "# Combine them into a single flat tuple\n",
    "#### CHANGE THE RESULTS/BOUNDS DEPENDING ON WHAT COMBINATION IS BEING USED!\n",
    "result = frag_mass_percents + frag_erosion_coeffs + frag_grain_mins + frag_grain_maxs + frag_heights\n",
    "# Print the result to check the output\n",
    "hard_bounds = np.array(((ln_sigma_min - 20., ln_sigma_max + 20.), (1.e4, 1.e8), ) + result)"
   ]
  },
  {
   "cell_type": "markdown",
   "id": "04b890db-9fab-42bc-bd82-b1d8165d3be6",
   "metadata": {},
   "source": [
    "More restrictive bounds"
   ]
  },
  {
   "cell_type": "code",
   "execution_count": 162,
   "id": "c2f01179-8c7f-4280-9543-706cffde76ac",
   "metadata": {},
   "outputs": [],
   "source": [
    "bounds = hard_bounds\n",
    "\n",
    "# # initialize particles\n",
    "# cov_factor = 1.e-1  # CHANGE THIS DEPENDING ON THE EVENT\n",
    "# cov = np.float64(np.diag(np.ones(len(initial_guess)) * (initial_guess ** 2))) * cov_factor\n",
    "# # cov = np.eye(len(initial_guess), len(initial_guess)) * cov_factor\n",
    "# mu = initial_guess\n",
    "# bounds = tuple([tuple(np.clip((mu[i] - 2. * np.diag(np.sqrt(cov))[i], mu[i] + 2. * np.diag(np.sqrt(cov))[i]), \n",
    "#                         hard_bounds[i][0], hard_bounds[i][1])) for i in range(0, len(mu))])\n",
    "\n",
    "# manually change certain bounds\n",
    "bounds = np.array(bounds)\n",
    "bounds[0] = (20., 80.)\n",
    "bounds[1] = (1.e4, 1.e8)\n",
    "bounds[2:len(frag_mass_percents) + 2] = np.repeat([(0., 100.)], len(frag_mass_percents), axis=0)\n",
    "height_bounds = 1000.  # permissible values plus or minus the starting fragmentation height\n",
    "bounds[-fragmentation_count:] = np.array((initial_guess[-fragmentation_count:] - height_bounds, \n",
    "                                                         initial_guess[-fragmentation_count:] + height_bounds)).T\n",
    "bounds = tuple([tuple(bound) for bound in bounds])"
   ]
  },
  {
   "cell_type": "code",
   "execution_count": 163,
   "id": "f87d667c-737d-434a-b775-c9184d29ac1c",
   "metadata": {},
   "outputs": [
    {
     "data": {
      "text/plain": [
       "((20.0, 80.0),\n",
       " (10000.0, 100000000.0),\n",
       " (0.0, 100.0),\n",
       " (0.0, 100.0),\n",
       " (0.0, 100.0),\n",
       " (0.0, 100.0),\n",
       " (5e-08, 9.999999999999999e-06),\n",
       " (5e-08, 9.999999999999999e-06),\n",
       " (5e-08, 9.999999999999999e-06),\n",
       " (5e-08, 9.999999999999999e-06),\n",
       " (0.0001, 100.0),\n",
       " (0.0001, 100.0),\n",
       " (0.0001, 100.0),\n",
       " (0.0001, 100.0),\n",
       " (0.001, 10000.0),\n",
       " (0.001, 10000.0),\n",
       " (0.001, 10000.0),\n",
       " (0.001, 10000.0),\n",
       " (48000.0, 50000.0),\n",
       " (34000.0, 36000.0),\n",
       " (28500.0, 30500.0),\n",
       " (22000.0, 24000.0))"
      ]
     },
     "execution_count": 163,
     "metadata": {},
     "output_type": "execute_result"
    }
   ],
   "source": [
    "bounds"
   ]
  },
  {
   "cell_type": "markdown",
   "id": "4dda9123-6522-4a7e-941c-9b85547b7093",
   "metadata": {},
   "source": [
    "Run the optimization procedure on each segment of the light curve:"
   ]
  },
  {
   "cell_type": "markdown",
   "id": "b5423c37-a598-4f4b-9e56-e79a152f6391",
   "metadata": {},
   "source": [
    "Set up NS with a uniform prior over all parameters (uses prior instead of log-prior, the log-likelihood is still the same):"
   ]
  },
  {
   "cell_type": "code",
   "execution_count": 164,
   "id": "385a7d47-ba6e-4545-8303-a26d535463bb",
   "metadata": {},
   "outputs": [],
   "source": [
    "import concurrent.futures\n",
    "import signal\n",
    "\n",
    "class TimeoutException(Exception):\n",
    "    \"\"\"Custom exception for timeouts.\"\"\"\n",
    "    pass\n",
    "\n",
    "def timeout_handler(signum, frame):\n",
    "    raise TimeoutException(\"Function execution timed out\")\n",
    "\n",
    "\n",
    "# PRIOR\n",
    "def prior(cube, tup_bounds=bounds, n_frags=fragmentation_count, er_frags=len(ER_FRAG_INDICES)):\n",
    "    \"\"\"\n",
    "    Transform the unit cube to a uniform prior\n",
    "    \"\"\"\n",
    "    # bounds\n",
    "    bounds = np.array(tup_bounds)\n",
    "    ln_sigma_bnds = bounds[0]\n",
    "    mass_bnds = bounds[1]\n",
    "    # print(f'mass:{mass_bnds}')\n",
    "    frag_mass_pct_bnds = bounds[2:n_frags + 2]\n",
    "    # print(f'pct:{frag_mass_pct_bnds}')\n",
    "    frag_er_coeff_bnds = bounds[n_frags + 2: n_frags + er_frags + 2]\n",
    "    # print(f'er_coeff:{frag_er_coeff_bnds}')\n",
    "    frag_grain_min_bnds = bounds[n_frags + er_frags + 2: 2 * n_frags + er_frags + 2]\n",
    "    # print(f'grain min:{frag_er_coeff_bnds}')\n",
    "    frag_grain_max_bnds = bounds[2 * n_frags + er_frags + 2: 3 * n_frags + er_frags + 2]\n",
    "    # print(f'grain max:{frag_er_coeff_bnds}')\n",
    "    frag_height_bnds = bounds[3 * n_frags + er_frags + 2: 4 * n_frags + er_frags + 2]\n",
    "    # print(f'height:{frag_er_coeff_bnds}')\n",
    "    # particle params\n",
    "    cube[0] = cube[0] * (ln_sigma_bnds[1] - ln_sigma_bnds[0] + mass_bnds[0])  # transform [0, 1] unit cube to [ln_sigma_lower, ln_sigma_upper]\n",
    "    cube[1] = cube[1] * (mass_bnds[1] - mass_bnds[0]) + mass_bnds[0] # transform [0, 1] unit cube to [mass_lower, mass_upper]\n",
    "    cube[2:n_frags + 2] = cube[2:n_frags + 2] * (frag_mass_pct_bnds[:, 1] - frag_mass_pct_bnds[:, 0]) + frag_mass_pct_bnds[:, 0]  # transform [0, 1] unit cube\n",
    "    cube[n_frags + 2: n_frags + er_frags + 2] = cube[n_frags + 2: n_frags + er_frags + 2] * (frag_er_coeff_bnds[:, 1] - frag_er_coeff_bnds[:, 0]) + frag_er_coeff_bnds[:, 0]\n",
    "    cube[n_frags + er_frags + 2: 2 * n_frags + er_frags + 2] = cube[n_frags + er_frags + 2: 2 * n_frags + er_frags + 2] * (frag_grain_min_bnds[:, 1] - frag_grain_min_bnds[:, 0]) + frag_grain_min_bnds[:, 0]\n",
    "    cube[2 * n_frags + er_frags + 2: 3 * n_frags + er_frags + 2] = cube[2 * n_frags + er_frags + 2: 3 * n_frags + er_frags + 2] * (frag_grain_max_bnds[:, 1] - cube[n_frags + er_frags + 2: 2 * n_frags + er_frags + 2]) + cube[n_frags + er_frags + 2: 2 * n_frags + er_frags + 2]\n",
    "    cube[3 * n_frags + er_frags + 2: 4 * n_frags + er_frags + 2] = cube[3 * n_frags + er_frags + 2: 4 * n_frags + er_frags + 2] * (frag_height_bnds[:, 1] - frag_height_bnds[:, 0]) + frag_height_bnds[:, 0]\n",
    "    # print(f'cube:{cube[3 * n_frags + er_frags + 1: 4 * n_frags + er_frags + 1]}')\n",
    "    return cube\n",
    "\n",
    "def log_likelihood(particle, metsim_obj=metsim_obj, timeout=10):\n",
    "    \"\"\"\n",
    "    similar to the get_lc_cost_function function but with positive instead of negative log-likelihood\n",
    "    \"\"\"\n",
    "    # observed LC intensity, this doesn't change\n",
    "    obs_lc_intensity = P0m * (10 ** (metsim_obj.usg_data.absolute_magnitudes/(-2.5)))\n",
    "\n",
    "    # Set timeout handler\n",
    "    signal.signal(signal.SIGALRM, timeout_handler)\n",
    "    signal.alarm(timeout)  # Start the timer for timeout\n",
    "    # get simulated LC intensity onthe object\n",
    "    try: \n",
    "        simulation_results = sim_lc(particle, metsim_obj)\n",
    "    except TimeoutException:\n",
    "        print('timeout')\n",
    "        return -np.inf  # immediately return -np.inf if times out\n",
    "    finally:\n",
    "        signal.alarm(0)  # Cancel alarm\n",
    "    # compute simulated LC intensity\n",
    "    # find where height starts increasing if it does at any point\n",
    "    # print(np.diff(simulation_results.leading_frag_height_arr))\n",
    "    if np.sum(np.diff(simulation_results.leading_frag_height_arr) > 0) > 0:\n",
    "        first_increasing_height_arr = np.where(np.diff(simulation_results.leading_frag_height_arr) > 0)[0][0] - 1\n",
    "        # print('increasing height')\n",
    "    else:\n",
    "        first_increasing_height_arr = -1\n",
    "    # interpolate to make sure they are the same length and discard points after height starts increasing if it does at any point\n",
    "    simulated_lc_intensity = np.interp(metsim_obj.traj.observations[0].model_ht, \n",
    "                                       np.flip(simulation_results.leading_frag_height_arr[:first_increasing_height_arr]), \n",
    "                                       np.flip(simulation_results.luminosity_arr[:first_increasing_height_arr]))\n",
    "    # return the negative log-likelihood (negative residual sum of square difference between the two)\n",
    "    # assuming there is no error for the observed LC data\n",
    "    sigma = np.exp(particle[0])  # 0 is in sigma\n",
    "    sse = np.nansum((obs_lc_intensity - simulated_lc_intensity) ** 2)  # sum of squared errors\n",
    "    # log likelihood based on josh's comments\n",
    "    log_likelihood = -1/2 * (sse/(sigma ** 2) + len(obs_lc_intensity) * np.log(2 * np.pi * sigma ** 2))\n",
    "    # print(f'negative logL: {-log_likelihood}')\n",
    "    # positive log lieklihood unlike get_lc_cost_function\n",
    "    return log_likelihood"
   ]
  },
  {
   "cell_type": "code",
   "execution_count": 165,
   "id": "a53da08f-996e-4cc8-8a0c-b6f8325ab747",
   "metadata": {},
   "outputs": [
    {
     "data": {
      "text/plain": [
       "-151390.6951585098"
      ]
     },
     "execution_count": 165,
     "metadata": {},
     "output_type": "execute_result"
    }
   ],
   "source": [
    "log_likelihood(initial_guess)"
   ]
  },
  {
   "cell_type": "markdown",
   "id": "a7c659d6-2aaa-44fd-83f4-a3925cb9f1ba",
   "metadata": {},
   "source": [
    "Set up NS:"
   ]
  },
  {
   "cell_type": "markdown",
   "id": "f1185444-78ac-47cf-9813-95f7c0b64787",
   "metadata": {},
   "source": [
    "Run NS:"
   ]
  },
  {
   "cell_type": "code",
   "execution_count": 166,
   "id": "027f5640-178c-475d-9ee5-57260a6df1ab",
   "metadata": {},
   "outputs": [
    {
     "name": "stderr",
     "output_type": "stream",
     "text": [
      "0it [00:00, ?it/s]/tmp/ipykernel_140217/3348343184.py:75: RuntimeWarning: overflow encountered in exp\n",
      "  sigma = np.exp(particle[0])  # 0 is in sigma\n",
      "/tmp/ipykernel_140217/3348343184.py:75: RuntimeWarning: overflow encountered in exp\n",
      "  sigma = np.exp(particle[0])  # 0 is in sigma\n",
      "/tmp/ipykernel_140217/3348343184.py:75: RuntimeWarning: overflow encountered in exp\n",
      "  sigma = np.exp(particle[0])  # 0 is in sigma\n",
      "/tmp/ipykernel_140217/3348343184.py:75: RuntimeWarning: overflow encountered in exp\n",
      "  sigma = np.exp(particle[0])  # 0 is in sigma\n",
      "/tmp/ipykernel_140217/3348343184.py:75: RuntimeWarning: overflow encountered in exp\n",
      "  sigma = np.exp(particle[0])  # 0 is in sigma\n",
      "/tmp/ipykernel_140217/3348343184.py:78: RuntimeWarning: overflow encountered in scalar power\n",
      "  log_likelihood = -1/2 * (sse/(sigma ** 2) + len(obs_lc_intensity) * np.log(2 * np.pi * sigma ** 2))\n",
      "/tmp/ipykernel_140217/3348343184.py:75: RuntimeWarning: overflow encountered in exp\n",
      "  sigma = np.exp(particle[0])  # 0 is in sigma\n",
      "/tmp/ipykernel_140217/3348343184.py:75: RuntimeWarning: overflow encountered in exp\n",
      "  sigma = np.exp(particle[0])  # 0 is in sigma\n",
      "/tmp/ipykernel_140217/3348343184.py:75: RuntimeWarning: overflow encountered in exp\n",
      "  sigma = np.exp(particle[0])  # 0 is in sigma\n",
      "/tmp/ipykernel_140217/3348343184.py:75: RuntimeWarning: overflow encountered in exp\n",
      "  sigma = np.exp(particle[0])  # 0 is in sigma\n",
      "/tmp/ipykernel_140217/3348343184.py:75: RuntimeWarning: overflow encountered in exp\n",
      "  sigma = np.exp(particle[0])  # 0 is in sigma\n",
      "/tmp/ipykernel_140217/3348343184.py:75: RuntimeWarning: overflow encountered in exp\n",
      "  sigma = np.exp(particle[0])  # 0 is in sigma\n",
      "/tmp/ipykernel_140217/3348343184.py:75: RuntimeWarning: overflow encountered in exp\n",
      "  sigma = np.exp(particle[0])  # 0 is in sigma\n",
      "/tmp/ipykernel_140217/3348343184.py:75: RuntimeWarning: overflow encountered in exp\n",
      "  sigma = np.exp(particle[0])  # 0 is in sigma\n",
      "/tmp/ipykernel_140217/3348343184.py:75: RuntimeWarning: overflow encountered in exp\n",
      "  sigma = np.exp(particle[0])  # 0 is in sigma\n",
      "/tmp/ipykernel_140217/3348343184.py:75: RuntimeWarning: overflow encountered in exp\n",
      "  sigma = np.exp(particle[0])  # 0 is in sigma\n",
      "/tmp/ipykernel_140217/3348343184.py:75: RuntimeWarning: overflow encountered in exp\n",
      "  sigma = np.exp(particle[0])  # 0 is in sigma\n",
      "/tmp/ipykernel_140217/3348343184.py:75: RuntimeWarning: overflow encountered in exp\n",
      "  sigma = np.exp(particle[0])  # 0 is in sigma\n",
      "/tmp/ipykernel_140217/3348343184.py:75: RuntimeWarning: overflow encountered in exp\n",
      "  sigma = np.exp(particle[0])  # 0 is in sigma\n",
      "/tmp/ipykernel_140217/3348343184.py:75: RuntimeWarning: overflow encountered in exp\n",
      "  sigma = np.exp(particle[0])  # 0 is in sigma\n",
      "/tmp/ipykernel_140217/3348343184.py:75: RuntimeWarning: overflow encountered in exp\n",
      "  sigma = np.exp(particle[0])  # 0 is in sigma\n",
      "/tmp/ipykernel_140217/3348343184.py:78: RuntimeWarning: overflow encountered in scalar power\n",
      "  log_likelihood = -1/2 * (sse/(sigma ** 2) + len(obs_lc_intensity) * np.log(2 * np.pi * sigma ** 2))\n",
      "/tmp/ipykernel_140217/3348343184.py:75: RuntimeWarning: overflow encountered in exp\n",
      "  sigma = np.exp(particle[0])  # 0 is in sigma\n",
      "/tmp/ipykernel_140217/3348343184.py:75: RuntimeWarning: overflow encountered in exp\n",
      "  sigma = np.exp(particle[0])  # 0 is in sigma\n",
      "/tmp/ipykernel_140217/3348343184.py:75: RuntimeWarning: overflow encountered in exp\n",
      "  sigma = np.exp(particle[0])  # 0 is in sigma\n",
      "/tmp/ipykernel_140217/3348343184.py:75: RuntimeWarning: overflow encountered in exp\n",
      "  sigma = np.exp(particle[0])  # 0 is in sigma\n",
      "/tmp/ipykernel_140217/3348343184.py:75: RuntimeWarning: overflow encountered in exp\n",
      "  sigma = np.exp(particle[0])  # 0 is in sigma\n",
      "/tmp/ipykernel_140217/3348343184.py:75: RuntimeWarning: overflow encountered in exp\n",
      "  sigma = np.exp(particle[0])  # 0 is in sigma\n",
      "/tmp/ipykernel_140217/3348343184.py:75: RuntimeWarning: overflow encountered in exp\n",
      "  sigma = np.exp(particle[0])  # 0 is in sigma\n",
      "/tmp/ipykernel_140217/3348343184.py:75: RuntimeWarning: overflow encountered in exp\n",
      "  sigma = np.exp(particle[0])  # 0 is in sigma\n",
      "/tmp/ipykernel_140217/3348343184.py:75: RuntimeWarning: overflow encountered in exp\n",
      "  sigma = np.exp(particle[0])  # 0 is in sigma\n",
      "/tmp/ipykernel_140217/3348343184.py:75: RuntimeWarning: overflow encountered in exp\n",
      "  sigma = np.exp(particle[0])  # 0 is in sigma\n",
      "/tmp/ipykernel_140217/3348343184.py:75: RuntimeWarning: overflow encountered in exp\n",
      "  sigma = np.exp(particle[0])  # 0 is in sigma\n",
      "/tmp/ipykernel_140217/3348343184.py:78: RuntimeWarning: overflow encountered in scalar power\n",
      "  log_likelihood = -1/2 * (sse/(sigma ** 2) + len(obs_lc_intensity) * np.log(2 * np.pi * sigma ** 2))\n",
      "/tmp/ipykernel_140217/3348343184.py:75: RuntimeWarning: overflow encountered in exp\n",
      "  sigma = np.exp(particle[0])  # 0 is in sigma\n",
      "/tmp/ipykernel_140217/3348343184.py:78: RuntimeWarning: overflow encountered in scalar power\n",
      "  log_likelihood = -1/2 * (sse/(sigma ** 2) + len(obs_lc_intensity) * np.log(2 * np.pi * sigma ** 2))\n",
      "/tmp/ipykernel_140217/3348343184.py:78: RuntimeWarning: overflow encountered in scalar power\n",
      "  log_likelihood = -1/2 * (sse/(sigma ** 2) + len(obs_lc_intensity) * np.log(2 * np.pi * sigma ** 2))\n",
      "/tmp/ipykernel_140217/3348343184.py:78: RuntimeWarning: overflow encountered in scalar power\n",
      "  log_likelihood = -1/2 * (sse/(sigma ** 2) + len(obs_lc_intensity) * np.log(2 * np.pi * sigma ** 2))\n",
      "/tmp/ipykernel_140217/3348343184.py:78: RuntimeWarning: overflow encountered in scalar power\n",
      "  log_likelihood = -1/2 * (sse/(sigma ** 2) + len(obs_lc_intensity) * np.log(2 * np.pi * sigma ** 2))\n",
      "/tmp/ipykernel_140217/3348343184.py:78: RuntimeWarning: overflow encountered in scalar power\n",
      "  log_likelihood = -1/2 * (sse/(sigma ** 2) + len(obs_lc_intensity) * np.log(2 * np.pi * sigma ** 2))\n",
      "/tmp/ipykernel_140217/3348343184.py:78: RuntimeWarning: overflow encountered in scalar power\n",
      "  log_likelihood = -1/2 * (sse/(sigma ** 2) + len(obs_lc_intensity) * np.log(2 * np.pi * sigma ** 2))\n",
      "/tmp/ipykernel_140217/3348343184.py:78: RuntimeWarning: overflow encountered in scalar power\n",
      "  log_likelihood = -1/2 * (sse/(sigma ** 2) + len(obs_lc_intensity) * np.log(2 * np.pi * sigma ** 2))\n",
      "/tmp/ipykernel_140217/3348343184.py:78: RuntimeWarning: overflow encountered in scalar power\n",
      "  log_likelihood = -1/2 * (sse/(sigma ** 2) + len(obs_lc_intensity) * np.log(2 * np.pi * sigma ** 2))\n",
      "/tmp/ipykernel_140217/3348343184.py:78: RuntimeWarning: overflow encountered in scalar power\n",
      "  log_likelihood = -1/2 * (sse/(sigma ** 2) + len(obs_lc_intensity) * np.log(2 * np.pi * sigma ** 2))\n",
      "/tmp/ipykernel_140217/3348343184.py:78: RuntimeWarning: overflow encountered in scalar power\n",
      "  log_likelihood = -1/2 * (sse/(sigma ** 2) + len(obs_lc_intensity) * np.log(2 * np.pi * sigma ** 2))\n",
      "/tmp/ipykernel_140217/3348343184.py:78: RuntimeWarning: overflow encountered in scalar power\n",
      "  log_likelihood = -1/2 * (sse/(sigma ** 2) + len(obs_lc_intensity) * np.log(2 * np.pi * sigma ** 2))\n",
      "/tmp/ipykernel_140217/3348343184.py:78: RuntimeWarning: overflow encountered in scalar power\n",
      "  log_likelihood = -1/2 * (sse/(sigma ** 2) + len(obs_lc_intensity) * np.log(2 * np.pi * sigma ** 2))\n",
      "/tmp/ipykernel_140217/3348343184.py:78: RuntimeWarning: overflow encountered in scalar power\n",
      "  log_likelihood = -1/2 * (sse/(sigma ** 2) + len(obs_lc_intensity) * np.log(2 * np.pi * sigma ** 2))\n",
      "/tmp/ipykernel_140217/3348343184.py:78: RuntimeWarning: overflow encountered in scalar power\n",
      "  log_likelihood = -1/2 * (sse/(sigma ** 2) + len(obs_lc_intensity) * np.log(2 * np.pi * sigma ** 2))\n",
      "/tmp/ipykernel_140217/3348343184.py:78: RuntimeWarning: overflow encountered in scalar power\n",
      "  log_likelihood = -1/2 * (sse/(sigma ** 2) + len(obs_lc_intensity) * np.log(2 * np.pi * sigma ** 2))\n",
      "/tmp/ipykernel_140217/3348343184.py:78: RuntimeWarning: overflow encountered in scalar power\n",
      "  log_likelihood = -1/2 * (sse/(sigma ** 2) + len(obs_lc_intensity) * np.log(2 * np.pi * sigma ** 2))\n",
      "/tmp/ipykernel_140217/3348343184.py:78: RuntimeWarning: overflow encountered in scalar power\n",
      "  log_likelihood = -1/2 * (sse/(sigma ** 2) + len(obs_lc_intensity) * np.log(2 * np.pi * sigma ** 2))\n",
      "/tmp/ipykernel_140217/3348343184.py:78: RuntimeWarning: overflow encountered in scalar power\n",
      "  log_likelihood = -1/2 * (sse/(sigma ** 2) + len(obs_lc_intensity) * np.log(2 * np.pi * sigma ** 2))\n",
      "/tmp/ipykernel_140217/3348343184.py:78: RuntimeWarning: overflow encountered in scalar power\n",
      "  log_likelihood = -1/2 * (sse/(sigma ** 2) + len(obs_lc_intensity) * np.log(2 * np.pi * sigma ** 2))\n",
      "/tmp/ipykernel_140217/3348343184.py:78: RuntimeWarning: overflow encountered in scalar power\n",
      "  log_likelihood = -1/2 * (sse/(sigma ** 2) + len(obs_lc_intensity) * np.log(2 * np.pi * sigma ** 2))\n",
      "/tmp/ipykernel_140217/3348343184.py:78: RuntimeWarning: overflow encountered in scalar power\n",
      "  log_likelihood = -1/2 * (sse/(sigma ** 2) + len(obs_lc_intensity) * np.log(2 * np.pi * sigma ** 2))\n",
      "/tmp/ipykernel_140217/3348343184.py:78: RuntimeWarning: overflow encountered in scalar power\n",
      "  log_likelihood = -1/2 * (sse/(sigma ** 2) + len(obs_lc_intensity) * np.log(2 * np.pi * sigma ** 2))\n",
      "/tmp/ipykernel_140217/3348343184.py:78: RuntimeWarning: overflow encountered in scalar power\n",
      "  log_likelihood = -1/2 * (sse/(sigma ** 2) + len(obs_lc_intensity) * np.log(2 * np.pi * sigma ** 2))\n",
      "/tmp/ipykernel_140217/3348343184.py:78: RuntimeWarning: overflow encountered in scalar power\n",
      "  log_likelihood = -1/2 * (sse/(sigma ** 2) + len(obs_lc_intensity) * np.log(2 * np.pi * sigma ** 2))\n",
      "/tmp/ipykernel_140217/3348343184.py:78: RuntimeWarning: overflow encountered in scalar power\n",
      "  log_likelihood = -1/2 * (sse/(sigma ** 2) + len(obs_lc_intensity) * np.log(2 * np.pi * sigma ** 2))\n",
      "/tmp/ipykernel_140217/3348343184.py:78: RuntimeWarning: overflow encountered in scalar power\n",
      "  log_likelihood = -1/2 * (sse/(sigma ** 2) + len(obs_lc_intensity) * np.log(2 * np.pi * sigma ** 2))\n",
      "/tmp/ipykernel_140217/3348343184.py:78: RuntimeWarning: overflow encountered in scalar power\n",
      "  log_likelihood = -1/2 * (sse/(sigma ** 2) + len(obs_lc_intensity) * np.log(2 * np.pi * sigma ** 2))\n",
      "0it [01:51, ?it/s]"
     ]
    },
    {
     "name": "stdout",
     "output_type": "stream",
     "text": [
      "Exception while calling loglikelihood function:"
     ]
    },
    {
     "name": "stderr",
     "output_type": "stream",
     "text": [
      "Process ForkPoolWorker-7:\n",
      "Process ForkPoolWorker-5:\n",
      "Process ForkPoolWorker-14:\n",
      "Process ForkPoolWorker-4:\n",
      "Process ForkPoolWorker-16:\n",
      "Process ForkPoolWorker-17:\n",
      "Process ForkPoolWorker-24:\n",
      "Process ForkPoolWorker-20:\n",
      "Process ForkPoolWorker-6:\n"
     ]
    },
    {
     "name": "stdout",
     "output_type": "stream",
     "text": [
      "Exception while calling loglikelihood function:"
     ]
    },
    {
     "name": "stderr",
     "output_type": "stream",
     "text": [
      "Process ForkPoolWorker-27:\n",
      "Process ForkPoolWorker-29:\n",
      "Process ForkPoolWorker-30:\n",
      "Process ForkPoolWorker-21:\n",
      "Process ForkPoolWorker-13:\n",
      "Process ForkPoolWorker-9:\n",
      "Process ForkPoolWorker-23:\n",
      "Process ForkPoolWorker-18:\n",
      "Process ForkPoolWorker-28:\n",
      "Process ForkPoolWorker-12:\n",
      "Process ForkPoolWorker-8:\n"
     ]
    },
    {
     "name": "stdout",
     "output_type": "stream",
     "text": [
      "Exception while calling loglikelihood function:"
     ]
    },
    {
     "name": "stderr",
     "output_type": "stream",
     "text": [
      "Process ForkPoolWorker-26:\n",
      "Process ForkPoolWorker-31:\n",
      "Process ForkPoolWorker-1:\n",
      "Process ForkPoolWorker-19:\n"
     ]
    },
    {
     "name": "stdout",
     "output_type": "stream",
     "text": [
      "\n"
     ]
    },
    {
     "name": "stderr",
     "output_type": "stream",
     "text": [
      "Traceback (most recent call last):\n",
      "Traceback (most recent call last):\n",
      "Traceback (most recent call last):\n",
      "Traceback (most recent call last):\n",
      "Traceback (most recent call last):\n"
     ]
    },
    {
     "name": "stdout",
     "output_type": "stream",
     "text": [
      "\n"
     ]
    },
    {
     "name": "stderr",
     "output_type": "stream",
     "text": [
      "Traceback (most recent call last):\n",
      "Process ForkPoolWorker-22:\n",
      "Traceback (most recent call last):\n",
      "Traceback (most recent call last):\n",
      "Traceback (most recent call last):\n",
      "Traceback (most recent call last):\n"
     ]
    },
    {
     "name": "stdout",
     "output_type": "stream",
     "text": [
      "  params:"
     ]
    },
    {
     "name": "stderr",
     "output_type": "stream",
     "text": [
      "Traceback (most recent call last):\n",
      "Traceback (most recent call last):\n",
      "  File \"/home/ichow9/.conda/envs/wmpl/lib/python3.10/multiprocessing/process.py\", line 314, in _bootstrap\n",
      "    self.run()\n",
      "  File \"/home/ichow9/.conda/envs/wmpl/lib/python3.10/multiprocessing/process.py\", line 314, in _bootstrap\n",
      "    self.run()\n",
      "Process ForkPoolWorker-10:\n",
      "Traceback (most recent call last):\n",
      "  File \"/home/ichow9/.conda/envs/wmpl/lib/python3.10/multiprocessing/process.py\", line 314, in _bootstrap\n",
      "    self.run()\n",
      "  File \"/home/ichow9/.conda/envs/wmpl/lib/python3.10/multiprocessing/process.py\", line 314, in _bootstrap\n",
      "    self.run()\n",
      "Traceback (most recent call last):\n",
      "  File \"/home/ichow9/.conda/envs/wmpl/lib/python3.10/multiprocessing/process.py\", line 314, in _bootstrap\n",
      "    self.run()\n",
      "  File \"/home/ichow9/.conda/envs/wmpl/lib/python3.10/multiprocessing/process.py\", line 314, in _bootstrap\n",
      "    self.run()\n",
      "Traceback (most recent call last):\n",
      "  File \"/home/ichow9/.conda/envs/wmpl/lib/python3.10/multiprocessing/process.py\", line 314, in _bootstrap\n",
      "    self.run()\n",
      "  File \"/home/ichow9/.conda/envs/wmpl/lib/python3.10/multiprocessing/process.py\", line 314, in _bootstrap\n",
      "    self.run()\n",
      "  File \"/home/ichow9/.conda/envs/wmpl/lib/python3.10/multiprocessing/process.py\", line 314, in _bootstrap\n",
      "    self.run()\n"
     ]
    },
    {
     "name": "stdout",
     "output_type": "stream",
     "text": [
      " "
     ]
    },
    {
     "name": "stderr",
     "output_type": "stream",
     "text": [
      "  File \"/home/ichow9/.conda/envs/wmpl/lib/python3.10/multiprocessing/process.py\", line 314, in _bootstrap\n",
      "    self.run()\n",
      "  File \"/home/ichow9/.conda/envs/wmpl/lib/python3.10/multiprocessing/process.py\", line 314, in _bootstrap\n",
      "    self.run()\n",
      "  File \"/home/ichow9/.conda/envs/wmpl/lib/python3.10/multiprocessing/process.py\", line 314, in _bootstrap\n",
      "    self.run()\n",
      "  File \"/home/ichow9/.conda/envs/wmpl/lib/python3.10/multiprocessing/process.py\", line 108, in run\n",
      "    self._target(*self._args, **self._kwargs)\n",
      "  File \"/home/ichow9/.conda/envs/wmpl/lib/python3.10/multiprocessing/process.py\", line 108, in run\n",
      "    self._target(*self._args, **self._kwargs)\n",
      "  File \"/home/ichow9/.conda/envs/wmpl/lib/python3.10/multiprocessing/process.py\", line 108, in run\n",
      "    self._target(*self._args, **self._kwargs)\n",
      "  File \"/home/ichow9/.conda/envs/wmpl/lib/python3.10/multiprocessing/process.py\", line 314, in _bootstrap\n",
      "    self.run()\n",
      "  File \"/home/ichow9/.conda/envs/wmpl/lib/python3.10/multiprocessing/process.py\", line 314, in _bootstrap\n",
      "    self.run()\n",
      "  File \"/home/ichow9/.conda/envs/wmpl/lib/python3.10/multiprocessing/process.py\", line 108, in run\n",
      "    self._target(*self._args, **self._kwargs)\n",
      "  File \"/home/ichow9/.conda/envs/wmpl/lib/python3.10/multiprocessing/process.py\", line 108, in run\n",
      "    self._target(*self._args, **self._kwargs)\n",
      "  File \"/home/ichow9/.conda/envs/wmpl/lib/python3.10/multiprocessing/process.py\", line 108, in run\n",
      "    self._target(*self._args, **self._kwargs)\n",
      "  File \"/home/ichow9/.conda/envs/wmpl/lib/python3.10/multiprocessing/process.py\", line 108, in run\n",
      "    self._target(*self._args, **self._kwargs)\n",
      "  File \"/home/ichow9/.conda/envs/wmpl/lib/python3.10/multiprocessing/process.py\", line 314, in _bootstrap\n",
      "    self.run()\n",
      "  File \"/home/ichow9/.conda/envs/wmpl/lib/python3.10/multiprocessing/process.py\", line 108, in run\n",
      "    self._target(*self._args, **self._kwargs)\n",
      "Traceback (most recent call last):\n",
      "  File \"/home/ichow9/.conda/envs/wmpl/lib/python3.10/multiprocessing/process.py\", line 108, in run\n",
      "    self._target(*self._args, **self._kwargs)\n",
      "Traceback (most recent call last):\n",
      "Process ForkPoolWorker-15:\n",
      "Process ForkPoolWorker-3:\n"
     ]
    },
    {
     "name": "stdout",
     "output_type": "stream",
     "text": [
      "Exception while calling loglikelihood function:"
     ]
    },
    {
     "name": "stderr",
     "output_type": "stream",
     "text": [
      "  File \"/home/ichow9/.conda/envs/wmpl/lib/python3.10/multiprocessing/process.py\", line 108, in run\n",
      "    self._target(*self._args, **self._kwargs)\n"
     ]
    },
    {
     "name": "stdout",
     "output_type": "stream",
     "text": [
      "[4.56455464e+03 2.15167653e+07 5.24877929e+00 4.84909046e+01\n",
      " 3.35059489e+01 9.59684836e+01 1.62758522e-06 7.55969337e-06\n",
      " 5.78990778e-06 6.52229579e-06 7.06429957e+01 3.11987693e+01\n",
      " 4.63656065e+01 7.90795930e+01 4.11084397e+03 9.88960602e+03\n",
      " 9.17213314e+02 5.72084254e+03 4.85148647e+04 3.41795478e+04\n",
      " 2.90756223e+04 2.22047362e+04]"
     ]
    },
    {
     "name": "stderr",
     "output_type": "stream",
     "text": [
      "Traceback (most recent call last):\n",
      "Traceback (most recent call last):\n",
      "Traceback (most recent call last):\n",
      "Traceback (most recent call last):\n",
      "  File \"/home/ichow9/.conda/envs/wmpl/lib/python3.10/multiprocessing/process.py\", line 108, in run\n",
      "    self._target(*self._args, **self._kwargs)\n",
      "  File \"/home/ichow9/.conda/envs/wmpl/lib/python3.10/multiprocessing/process.py\", line 108, in run\n",
      "    self._target(*self._args, **self._kwargs)\n",
      "  File \"/home/ichow9/.conda/envs/wmpl/lib/python3.10/multiprocessing/pool.py\", line 114, in worker\n",
      "    task = get()\n",
      "  File \"/home/ichow9/.conda/envs/wmpl/lib/python3.10/multiprocessing/pool.py\", line 114, in worker\n",
      "    task = get()\n",
      "  File \"/home/ichow9/.conda/envs/wmpl/lib/python3.10/multiprocessing/process.py\", line 108, in run\n",
      "    self._target(*self._args, **self._kwargs)\n",
      "  File \"/home/ichow9/.conda/envs/wmpl/lib/python3.10/multiprocessing/pool.py\", line 114, in worker\n",
      "    task = get()\n"
     ]
    },
    {
     "name": "stdout",
     "output_type": "stream",
     "text": [
      "\n"
     ]
    },
    {
     "name": "stderr",
     "output_type": "stream",
     "text": [
      "Traceback (most recent call last):\n",
      "  File \"/home/ichow9/.conda/envs/wmpl/lib/python3.10/multiprocessing/pool.py\", line 114, in worker\n",
      "    task = get()\n",
      "  File \"/home/ichow9/.conda/envs/wmpl/lib/python3.10/multiprocessing/pool.py\", line 114, in worker\n",
      "    task = get()\n"
     ]
    },
    {
     "name": "stdout",
     "output_type": "stream",
     "text": [
      "  params:"
     ]
    },
    {
     "name": "stderr",
     "output_type": "stream",
     "text": [
      "  File \"/home/ichow9/.conda/envs/wmpl/lib/python3.10/multiprocessing/pool.py\", line 114, in worker\n",
      "    task = get()\n",
      "  File \"/home/ichow9/.conda/envs/wmpl/lib/python3.10/multiprocessing/process.py\", line 108, in run\n",
      "    self._target(*self._args, **self._kwargs)\n",
      "  File \"/home/ichow9/.conda/envs/wmpl/lib/python3.10/multiprocessing/process.py\", line 108, in run\n",
      "    self._target(*self._args, **self._kwargs)\n",
      "  File \"/home/ichow9/.conda/envs/wmpl/lib/python3.10/multiprocessing/pool.py\", line 114, in worker\n",
      "    task = get()\n"
     ]
    },
    {
     "name": "stdout",
     "output_type": "stream",
     "text": [
      "\n"
     ]
    },
    {
     "name": "stderr",
     "output_type": "stream",
     "text": [
      "  File \"/home/ichow9/.conda/envs/wmpl/lib/python3.10/multiprocessing/process.py\", line 314, in _bootstrap\n",
      "    self.run()\n",
      "  File \"/home/ichow9/.conda/envs/wmpl/lib/python3.10/multiprocessing/process.py\", line 314, in _bootstrap\n",
      "    self.run()\n",
      "  File \"/home/ichow9/.conda/envs/wmpl/lib/python3.10/multiprocessing/process.py\", line 314, in _bootstrap\n",
      "    self.run()\n",
      "  File \"/home/ichow9/.conda/envs/wmpl/lib/python3.10/multiprocessing/pool.py\", line 114, in worker\n",
      "    task = get()\n",
      "  File \"/home/ichow9/.conda/envs/wmpl/lib/python3.10/multiprocessing/pool.py\", line 114, in worker\n",
      "    task = get()\n",
      "Traceback (most recent call last):\n",
      "Traceback (most recent call last):\n",
      "  File \"/home/ichow9/.conda/envs/wmpl/lib/python3.10/multiprocessing/queues.py\", line 364, in get\n",
      "    with self._rlock:\n",
      "  File \"/home/ichow9/.conda/envs/wmpl/lib/python3.10/multiprocessing/process.py\", line 314, in _bootstrap\n",
      "    self.run()\n",
      "  File \"/home/ichow9/.conda/envs/wmpl/lib/python3.10/multiprocessing/pool.py\", line 114, in worker\n",
      "    task = get()\n",
      "  File \"/home/ichow9/.conda/envs/wmpl/lib/python3.10/multiprocessing/pool.py\", line 114, in worker\n",
      "    task = get()\n",
      "Traceback (most recent call last):\n",
      "  File \"/home/ichow9/.conda/envs/wmpl/lib/python3.10/multiprocessing/process.py\", line 314, in _bootstrap\n",
      "    self.run()\n"
     ]
    },
    {
     "name": "stdout",
     "output_type": "stream",
     "text": [
      "  params:"
     ]
    },
    {
     "name": "stderr",
     "output_type": "stream",
     "text": [
      "  File \"/home/ichow9/.conda/envs/wmpl/lib/python3.10/multiprocessing/queues.py\", line 364, in get\n",
      "    with self._rlock:\n",
      "  File \"/home/ichow9/.conda/envs/wmpl/lib/python3.10/multiprocessing/queues.py\", line 364, in get\n",
      "    with self._rlock:\n",
      "  File \"/home/ichow9/.conda/envs/wmpl/lib/python3.10/multiprocessing/queues.py\", line 364, in get\n",
      "    with self._rlock:\n"
     ]
    },
    {
     "name": "stdout",
     "output_type": "stream",
     "text": [
      " "
     ]
    },
    {
     "name": "stderr",
     "output_type": "stream",
     "text": [
      "  File \"/home/ichow9/.conda/envs/wmpl/lib/python3.10/multiprocessing/pool.py\", line 114, in worker\n",
      "    task = get()\n",
      "  File \"/home/ichow9/.conda/envs/wmpl/lib/python3.10/multiprocessing/process.py\", line 314, in _bootstrap\n",
      "    self.run()\n"
     ]
    },
    {
     "name": "stdout",
     "output_type": "stream",
     "text": [
      "\n"
     ]
    },
    {
     "name": "stderr",
     "output_type": "stream",
     "text": [
      "  File \"/home/ichow9/.conda/envs/wmpl/lib/python3.10/multiprocessing/process.py\", line 314, in _bootstrap\n",
      "    self.run()\n",
      "  File \"/home/ichow9/.conda/envs/wmpl/lib/python3.10/multiprocessing/pool.py\", line 114, in worker\n",
      "    task = get()\n",
      "  File \"/home/ichow9/.conda/envs/wmpl/lib/python3.10/multiprocessing/pool.py\", line 114, in worker\n",
      "    task = get()\n"
     ]
    },
    {
     "name": "stdout",
     "output_type": "stream",
     "text": [
      "  params:"
     ]
    },
    {
     "name": "stderr",
     "output_type": "stream",
     "text": [
      "Traceback (most recent call last):\n",
      "  File \"/home/ichow9/.conda/envs/wmpl/lib/python3.10/multiprocessing/queues.py\", line 364, in get\n",
      "    with self._rlock:\n",
      "  File \"/home/ichow9/.conda/envs/wmpl/lib/python3.10/multiprocessing/process.py\", line 108, in run\n",
      "    self._target(*self._args, **self._kwargs)\n",
      "  File \"/home/ichow9/.conda/envs/wmpl/lib/python3.10/multiprocessing/process.py\", line 108, in run\n",
      "    self._target(*self._args, **self._kwargs)\n",
      "  File \"/home/ichow9/.conda/envs/wmpl/lib/python3.10/multiprocessing/process.py\", line 314, in _bootstrap\n",
      "    self.run()\n",
      "  File \"/home/ichow9/.conda/envs/wmpl/lib/python3.10/multiprocessing/synchronize.py\", line 95, in __enter__\n",
      "    return self._semlock.__enter__()\n",
      "  File \"/home/ichow9/.conda/envs/wmpl/lib/python3.10/multiprocessing/process.py\", line 314, in _bootstrap\n",
      "    self.run()\n",
      "  File \"/home/ichow9/.conda/envs/wmpl/lib/python3.10/multiprocessing/process.py\", line 108, in run\n",
      "    self._target(*self._args, **self._kwargs)\n",
      "  File \"/home/ichow9/.conda/envs/wmpl/lib/python3.10/multiprocessing/queues.py\", line 364, in get\n",
      "    with self._rlock:\n",
      "Traceback (most recent call last):\n",
      "  File \"/home/ichow9/.conda/envs/wmpl/lib/python3.10/multiprocessing/queues.py\", line 364, in get\n",
      "    with self._rlock:\n",
      "Traceback (most recent call last):\n",
      "  File \"/home/ichow9/.conda/envs/wmpl/lib/python3.10/multiprocessing/queues.py\", line 364, in get\n",
      "    with self._rlock:\n",
      "  File \"/home/ichow9/.conda/envs/wmpl/lib/python3.10/multiprocessing/pool.py\", line 114, in worker\n",
      "    task = get()\n",
      "  File \"/home/ichow9/.conda/envs/wmpl/lib/python3.10/multiprocessing/queues.py\", line 364, in get\n",
      "    with self._rlock:\n",
      "  File \"/home/ichow9/.conda/envs/wmpl/lib/python3.10/multiprocessing/process.py\", line 108, in run\n",
      "    self._target(*self._args, **self._kwargs)\n",
      "  File \"/home/ichow9/.conda/envs/wmpl/lib/python3.10/multiprocessing/synchronize.py\", line 95, in __enter__\n",
      "    return self._semlock.__enter__()\n",
      "  File \"/home/ichow9/.conda/envs/wmpl/lib/python3.10/multiprocessing/process.py\", line 314, in _bootstrap\n",
      "    self.run()\n",
      "  File \"/home/ichow9/.conda/envs/wmpl/lib/python3.10/multiprocessing/queues.py\", line 364, in get\n",
      "    with self._rlock:\n",
      "  File \"/home/ichow9/.conda/envs/wmpl/lib/python3.10/multiprocessing/queues.py\", line 364, in get\n",
      "    with self._rlock:\n"
     ]
    },
    {
     "name": "stdout",
     "output_type": "stream",
     "text": [
      " "
     ]
    },
    {
     "name": "stderr",
     "output_type": "stream",
     "text": [
      "  File \"/home/ichow9/.conda/envs/wmpl/lib/python3.10/multiprocessing/queues.py\", line 364, in get\n",
      "    with self._rlock:\n",
      "  File \"/home/ichow9/.conda/envs/wmpl/lib/python3.10/multiprocessing/synchronize.py\", line 95, in __enter__\n",
      "    return self._semlock.__enter__()\n",
      "  File \"/home/ichow9/.conda/envs/wmpl/lib/python3.10/multiprocessing/process.py\", line 108, in run\n",
      "    self._target(*self._args, **self._kwargs)\n",
      "  File \"/home/ichow9/.conda/envs/wmpl/lib/python3.10/multiprocessing/queues.py\", line 364, in get\n",
      "    with self._rlock:\n"
     ]
    },
    {
     "name": "stdout",
     "output_type": "stream",
     "text": [
      "  args:"
     ]
    },
    {
     "name": "stderr",
     "output_type": "stream",
     "text": [
      "  File \"/home/ichow9/.conda/envs/wmpl/lib/python3.10/multiprocessing/process.py\", line 108, in run\n",
      "    self._target(*self._args, **self._kwargs)\n",
      "  File \"/home/ichow9/.conda/envs/wmpl/lib/python3.10/multiprocessing/process.py\", line 108, in run\n",
      "    self._target(*self._args, **self._kwargs)\n",
      "  File \"/home/ichow9/.conda/envs/wmpl/lib/python3.10/multiprocessing/synchronize.py\", line 95, in __enter__\n",
      "    return self._semlock.__enter__()\n",
      "  File \"/home/ichow9/.conda/envs/wmpl/lib/python3.10/multiprocessing/queues.py\", line 364, in get\n",
      "    with self._rlock:\n"
     ]
    },
    {
     "name": "stdout",
     "output_type": "stream",
     "text": [
      " "
     ]
    },
    {
     "name": "stderr",
     "output_type": "stream",
     "text": [
      "  File \"/home/ichow9/.conda/envs/wmpl/lib/python3.10/multiprocessing/synchronize.py\", line 95, in __enter__\n",
      "    return self._semlock.__enter__()\n",
      "  File \"/home/ichow9/.conda/envs/wmpl/lib/python3.10/multiprocessing/process.py\", line 314, in _bootstrap\n",
      "    self.run()\n",
      "  File \"/home/ichow9/.conda/envs/wmpl/lib/python3.10/multiprocessing/pool.py\", line 114, in worker\n",
      "    task = get()\n"
     ]
    },
    {
     "name": "stdout",
     "output_type": "stream",
     "text": [
      "[3.23670236e+03 1.97400174e+07 2.87509584e+01 7.25339369e+00\n",
      " 1.27347951e+01 6.50161416e+01 1.33780572e-06 7.35882393e-06\n",
      " 2.39127658e-06 6.55529009e-06 3.36715444e+01 6.48221047e+01\n",
      " 4.31126947e+00 3.35455470e+01 8.14266562e+03 9.83625205e+03\n",
      " 5.65251444e+03 5.40147987e+03 4.91415003e+04 3.58854601e+04\n",
      " 2.86786824e+04 2.36021751e+04]"
     ]
    },
    {
     "name": "stderr",
     "output_type": "stream",
     "text": [
      "  File \"/home/ichow9/.conda/envs/wmpl/lib/python3.10/multiprocessing/process.py\", line 108, in run\n",
      "    self._target(*self._args, **self._kwargs)\n",
      "  File \"/home/ichow9/.conda/envs/wmpl/lib/python3.10/multiprocessing/pool.py\", line 114, in worker\n",
      "    task = get()\n",
      "KeyboardInterrupt\n",
      "  File \"/home/ichow9/.conda/envs/wmpl/lib/python3.10/multiprocessing/process.py\", line 314, in _bootstrap\n",
      "    self.run()\n",
      "  File \"/home/ichow9/.conda/envs/wmpl/lib/python3.10/multiprocessing/pool.py\", line 114, in worker\n",
      "    task = get()\n",
      "  File \"/home/ichow9/.conda/envs/wmpl/lib/python3.10/multiprocessing/synchronize.py\", line 95, in __enter__\n",
      "    return self._semlock.__enter__()\n",
      "  File \"/home/ichow9/.conda/envs/wmpl/lib/python3.10/multiprocessing/synchronize.py\", line 95, in __enter__\n",
      "    return self._semlock.__enter__()\n",
      "  File \"/home/ichow9/.conda/envs/wmpl/lib/python3.10/multiprocessing/pool.py\", line 114, in worker\n",
      "    task = get()\n",
      "KeyboardInterrupt\n",
      "  File \"/home/ichow9/.conda/envs/wmpl/lib/python3.10/multiprocessing/pool.py\", line 114, in worker\n",
      "    task = get()\n"
     ]
    },
    {
     "name": "stdout",
     "output_type": "stream",
     "text": [
      "[8.30946813e+03 8.72883614e+06 9.09947546e+01 3.73643869e-01\n",
      " 3.51849078e+01 6.86227837e+00 5.70003525e-06 9.48575149e-06\n",
      " 1.58695958e-06 4.21559054e-06 1.40157834e+01 8.49551577e+01\n",
      " 2.55666659e+01 6.40464318e+01 3.95857624e+03 7.04041640e+03\n",
      " 4.86725066e+03 9.31395545e+03 4.99353282e+04 3.56289396e+04\n",
      " 2.90509113e+04 2.28873416e+04] "
     ]
    },
    {
     "name": "stderr",
     "output_type": "stream",
     "text": [
      "  File \"/home/ichow9/.conda/envs/wmpl/lib/python3.10/multiprocessing/synchronize.py\", line 95, in __enter__\n",
      "    return self._semlock.__enter__()\n",
      "  File \"/home/ichow9/.conda/envs/wmpl/lib/python3.10/multiprocessing/process.py\", line 108, in run\n",
      "    self._target(*self._args, **self._kwargs)\n",
      "  File \"/home/ichow9/.conda/envs/wmpl/lib/python3.10/multiprocessing/synchronize.py\", line 95, in __enter__\n",
      "    return self._semlock.__enter__()\n",
      "  File \"/home/ichow9/.conda/envs/wmpl/lib/python3.10/multiprocessing/pool.py\", line 114, in worker\n",
      "    task = get()\n",
      "  File \"/home/ichow9/.conda/envs/wmpl/lib/python3.10/multiprocessing/synchronize.py\", line 95, in __enter__\n",
      "    return self._semlock.__enter__()\n",
      "  File \"/home/ichow9/.conda/envs/wmpl/lib/python3.10/multiprocessing/process.py\", line 108, in run\n",
      "    self._target(*self._args, **self._kwargs)\n",
      "  File \"/home/ichow9/.conda/envs/wmpl/lib/python3.10/multiprocessing/process.py\", line 108, in run\n",
      "    self._target(*self._args, **self._kwargs)\n"
     ]
    },
    {
     "name": "stdout",
     "output_type": "stream",
     "text": [
      "\n"
     ]
    },
    {
     "name": "stderr",
     "output_type": "stream",
     "text": [
      "  File \"/home/ichow9/.conda/envs/wmpl/lib/python3.10/multiprocessing/queues.py\", line 364, in get\n",
      "    with self._rlock:\n",
      "KeyboardInterrupt\n"
     ]
    },
    {
     "name": "stdout",
     "output_type": "stream",
     "text": [
      "[7.60929246e+03 6.92363648e+07 5.22011854e+01 3.65645514e+01\n",
      " 2.87222528e+01 5.47348886e+01 6.41998775e-06 9.83115618e-06\n",
      " 3.80202431e-06 8.60527972e-07 2.55237578e+01 6.83839227e+01\n",
      " 6.49992925e+01 8.23557749e+01 5.38659005e+03 2.07514885e+03\n",
      " 7.24717913e+03 7.06851346e+02 4.94085587e+04 3.53438043e+04\n",
      " 3.01457271e+04 2.38156073e+04]"
     ]
    },
    {
     "name": "stderr",
     "output_type": "stream",
     "text": [
      "KeyboardInterrupt\n",
      "  File \"/home/ichow9/.conda/envs/wmpl/lib/python3.10/multiprocessing/pool.py\", line 114, in worker\n",
      "    task = get()\n",
      "  File \"/home/ichow9/.conda/envs/wmpl/lib/python3.10/multiprocessing/queues.py\", line 364, in get\n",
      "    with self._rlock:\n",
      "KeyboardInterrupt\n",
      "  File \"/home/ichow9/.conda/envs/wmpl/lib/python3.10/multiprocessing/pool.py\", line 114, in worker\n",
      "    task = get()\n",
      "KeyboardInterrupt\n",
      "  File \"/home/ichow9/.conda/envs/wmpl/lib/python3.10/multiprocessing/queues.py\", line 364, in get\n",
      "    with self._rlock:\n"
     ]
    },
    {
     "name": "stdout",
     "output_type": "stream",
     "text": [
      "\n"
     ]
    },
    {
     "name": "stderr",
     "output_type": "stream",
     "text": [
      "  File \"/home/ichow9/.conda/envs/wmpl/lib/python3.10/multiprocessing/queues.py\", line 364, in get\n",
      "    with self._rlock:\n",
      "  File \"/home/ichow9/.conda/envs/wmpl/lib/python3.10/multiprocessing/synchronize.py\", line 95, in __enter__\n",
      "    return self._semlock.__enter__()\n",
      "  File \"/home/ichow9/.conda/envs/wmpl/lib/python3.10/multiprocessing/queues.py\", line 364, in get\n",
      "    with self._rlock:\n",
      "  File \"/home/ichow9/.conda/envs/wmpl/lib/python3.10/multiprocessing/synchronize.py\", line 95, in __enter__\n",
      "    return self._semlock.__enter__()\n",
      "  File \"/home/ichow9/.conda/envs/wmpl/lib/python3.10/multiprocessing/synchronize.py\", line 95, in __enter__\n",
      "    return self._semlock.__enter__()\n"
     ]
    },
    {
     "name": "stdout",
     "output_type": "stream",
     "text": [
      "  args:"
     ]
    },
    {
     "name": "stderr",
     "output_type": "stream",
     "text": [
      "KeyboardInterrupt\n",
      "KeyboardInterrupt\n"
     ]
    },
    {
     "name": "stdout",
     "output_type": "stream",
     "text": [
      " "
     ]
    },
    {
     "name": "stderr",
     "output_type": "stream",
     "text": [
      "KeyboardInterrupt\n"
     ]
    },
    {
     "name": "stdout",
     "output_type": "stream",
     "text": [
      "[]\n"
     ]
    },
    {
     "name": "stderr",
     "output_type": "stream",
     "text": [
      "  File \"/home/ichow9/.conda/envs/wmpl/lib/python3.10/multiprocessing/synchronize.py\", line 95, in __enter__\n",
      "    return self._semlock.__enter__()\n"
     ]
    },
    {
     "name": "stdout",
     "output_type": "stream",
     "text": [
      "  kwargs:"
     ]
    },
    {
     "name": "stderr",
     "output_type": "stream",
     "text": [
      "  File \"/home/ichow9/.conda/envs/wmpl/lib/python3.10/multiprocessing/synchronize.py\", line 95, in __enter__\n",
      "    return self._semlock.__enter__()\n"
     ]
    },
    {
     "name": "stdout",
     "output_type": "stream",
     "text": [
      " "
     ]
    },
    {
     "name": "stderr",
     "output_type": "stream",
     "text": [
      "  File \"/home/ichow9/.conda/envs/wmpl/lib/python3.10/multiprocessing/pool.py\", line 114, in worker\n",
      "    task = get()\n",
      "KeyboardInterrupt\n",
      "  File \"/home/ichow9/.conda/envs/wmpl/lib/python3.10/multiprocessing/process.py\", line 314, in _bootstrap\n",
      "    self.run()\n",
      "  File \"/home/ichow9/.conda/envs/wmpl/lib/python3.10/multiprocessing/queues.py\", line 364, in get\n",
      "    with self._rlock:\n",
      "  File \"/home/ichow9/.conda/envs/wmpl/lib/python3.10/multiprocessing/process.py\", line 108, in run\n",
      "    self._target(*self._args, **self._kwargs)\n",
      "  File \"/home/ichow9/.conda/envs/wmpl/lib/python3.10/multiprocessing/synchronize.py\", line 95, in __enter__\n",
      "    return self._semlock.__enter__()\n",
      "  File \"/home/ichow9/.conda/envs/wmpl/lib/python3.10/multiprocessing/pool.py\", line 114, in worker\n",
      "    task = get()\n",
      "  File \"/home/ichow9/.conda/envs/wmpl/lib/python3.10/multiprocessing/pool.py\", line 114, in worker\n",
      "    task = get()\n"
     ]
    },
    {
     "name": "stdout",
     "output_type": "stream",
     "text": [
      "{}"
     ]
    },
    {
     "name": "stderr",
     "output_type": "stream",
     "text": [
      "  File \"/home/ichow9/.conda/envs/wmpl/lib/python3.10/multiprocessing/synchronize.py\", line 95, in __enter__\n",
      "    return self._semlock.__enter__()\n",
      "KeyboardInterrupt\n"
     ]
    },
    {
     "name": "stdout",
     "output_type": "stream",
     "text": [
      "[]"
     ]
    },
    {
     "name": "stderr",
     "output_type": "stream",
     "text": [
      "  File \"/home/ichow9/.conda/envs/wmpl/lib/python3.10/multiprocessing/queues.py\", line 364, in get\n",
      "    with self._rlock:\n",
      "  File \"/home/ichow9/.conda/envs/wmpl/lib/python3.10/multiprocessing/synchronize.py\", line 95, in __enter__\n",
      "    return self._semlock.__enter__()\n",
      "KeyboardInterrupt\n",
      "KeyboardInterrupt\n",
      "  File \"/home/ichow9/.conda/envs/wmpl/lib/python3.10/multiprocessing/synchronize.py\", line 95, in __enter__\n",
      "    return self._semlock.__enter__()\n",
      "  File \"/home/ichow9/.conda/envs/wmpl/lib/python3.10/multiprocessing/queues.py\", line 364, in get\n",
      "    with self._rlock:\n"
     ]
    },
    {
     "name": "stdout",
     "output_type": "stream",
     "text": [
      "\n"
     ]
    },
    {
     "name": "stderr",
     "output_type": "stream",
     "text": [
      "KeyboardInterrupt\n",
      "  File \"/home/ichow9/.conda/envs/wmpl/lib/python3.10/multiprocessing/queues.py\", line 364, in get\n",
      "    with self._rlock:\n"
     ]
    },
    {
     "name": "stdout",
     "output_type": "stream",
     "text": [
      " \n"
     ]
    },
    {
     "name": "stderr",
     "output_type": "stream",
     "text": [
      "  File \"/home/ichow9/.conda/envs/wmpl/lib/python3.10/multiprocessing/queues.py\", line 364, in get\n",
      "    with self._rlock:\n",
      "  File \"/home/ichow9/.conda/envs/wmpl/lib/python3.10/multiprocessing/synchronize.py\", line 95, in __enter__\n",
      "    return self._semlock.__enter__()\n"
     ]
    },
    {
     "name": "stdout",
     "output_type": "stream",
     "text": [
      "\n"
     ]
    },
    {
     "name": "stderr",
     "output_type": "stream",
     "text": [
      "KeyboardInterrupt\n"
     ]
    },
    {
     "name": "stdout",
     "output_type": "stream",
     "text": [
      "  args:"
     ]
    },
    {
     "name": "stderr",
     "output_type": "stream",
     "text": [
      "  File \"/home/ichow9/.conda/envs/wmpl/lib/python3.10/multiprocessing/queues.py\", line 364, in get\n",
      "    with self._rlock:\n",
      "KeyboardInterrupt\n",
      "  File \"/home/ichow9/.conda/envs/wmpl/lib/python3.10/multiprocessing/process.py\", line 108, in run\n",
      "    self._target(*self._args, **self._kwargs)\n",
      "  File \"/home/ichow9/.conda/envs/wmpl/lib/python3.10/multiprocessing/synchronize.py\", line 95, in __enter__\n",
      "    return self._semlock.__enter__()\n",
      "KeyboardInterrupt\n"
     ]
    },
    {
     "name": "stdout",
     "output_type": "stream",
     "text": [
      "  kwargs:"
     ]
    },
    {
     "name": "stderr",
     "output_type": "stream",
     "text": [
      "  File \"/home/ichow9/.conda/envs/wmpl/lib/python3.10/multiprocessing/synchronize.py\", line 95, in __enter__\n",
      "    return self._semlock.__enter__()\n",
      "KeyboardInterrupt\n",
      "  File \"/home/ichow9/.conda/envs/wmpl/lib/python3.10/multiprocessing/synchronize.py\", line 95, in __enter__\n",
      "    return self._semlock.__enter__()\n",
      "KeyboardInterrupt\n",
      "  File \"/home/ichow9/.conda/envs/wmpl/lib/python3.10/multiprocessing/queues.py\", line 364, in get\n",
      "    with self._rlock:\n"
     ]
    },
    {
     "name": "stdout",
     "output_type": "stream",
     "text": [
      "  args:"
     ]
    },
    {
     "name": "stderr",
     "output_type": "stream",
     "text": [
      "KeyboardInterrupt\n",
      "  File \"/home/ichow9/.conda/envs/wmpl/lib/python3.10/multiprocessing/pool.py\", line 114, in worker\n",
      "    task = get()\n",
      "  File \"/home/ichow9/.conda/envs/wmpl/lib/python3.10/multiprocessing/queues.py\", line 364, in get\n",
      "    with self._rlock:\n",
      "KeyboardInterrupt\n"
     ]
    },
    {
     "name": "stdout",
     "output_type": "stream",
     "text": [
      " "
     ]
    },
    {
     "name": "stderr",
     "output_type": "stream",
     "text": [
      "  File \"/home/ichow9/.conda/envs/wmpl/lib/python3.10/multiprocessing/synchronize.py\", line 95, in __enter__\n",
      "    return self._semlock.__enter__()\n"
     ]
    },
    {
     "name": "stdout",
     "output_type": "stream",
     "text": [
      " "
     ]
    },
    {
     "name": "stderr",
     "output_type": "stream",
     "text": [
      "  File \"/home/ichow9/.conda/envs/wmpl/lib/python3.10/multiprocessing/synchronize.py\", line 95, in __enter__\n",
      "    return self._semlock.__enter__()\n"
     ]
    },
    {
     "name": "stdout",
     "output_type": "stream",
     "text": [
      "[]"
     ]
    },
    {
     "name": "stderr",
     "output_type": "stream",
     "text": [
      "KeyboardInterrupt\n",
      "KeyboardInterrupt\n"
     ]
    },
    {
     "name": "stdout",
     "output_type": "stream",
     "text": [
      "\n"
     ]
    },
    {
     "name": "stderr",
     "output_type": "stream",
     "text": [
      "  File \"/home/ichow9/.conda/envs/wmpl/lib/python3.10/multiprocessing/synchronize.py\", line 95, in __enter__\n",
      "    return self._semlock.__enter__()\n"
     ]
    },
    {
     "name": "stdout",
     "output_type": "stream",
     "text": [
      "  kwargs:"
     ]
    },
    {
     "name": "stderr",
     "output_type": "stream",
     "text": [
      "  File \"/home/ichow9/.conda/envs/wmpl/lib/python3.10/multiprocessing/pool.py\", line 114, in worker\n",
      "    task = get()\n",
      "KeyboardInterrupt\n",
      "  File \"/home/ichow9/.conda/envs/wmpl/lib/python3.10/multiprocessing/synchronize.py\", line 95, in __enter__\n",
      "    return self._semlock.__enter__()\n",
      "KeyboardInterrupt\n"
     ]
    },
    {
     "name": "stdout",
     "output_type": "stream",
     "text": [
      "{}"
     ]
    },
    {
     "name": "stderr",
     "output_type": "stream",
     "text": [
      "  File \"/home/ichow9/.conda/envs/wmpl/lib/python3.10/multiprocessing/queues.py\", line 364, in get\n",
      "    with self._rlock:\n",
      "KeyboardInterrupt\n"
     ]
    },
    {
     "name": "stdout",
     "output_type": "stream",
     "text": [
      "[]"
     ]
    },
    {
     "name": "stderr",
     "output_type": "stream",
     "text": [
      "  File \"/home/ichow9/.conda/envs/wmpl/lib/python3.10/multiprocessing/synchronize.py\", line 95, in __enter__\n",
      "    return self._semlock.__enter__()\n"
     ]
    },
    {
     "name": "stdout",
     "output_type": "stream",
     "text": [
      "\n"
     ]
    },
    {
     "name": "stderr",
     "output_type": "stream",
     "text": [
      "KeyboardInterrupt\n"
     ]
    },
    {
     "name": "stdout",
     "output_type": "stream",
     "text": [
      "  kwargs: {}\n",
      "\n",
      "  exception:\n",
      "  exception: "
     ]
    },
    {
     "name": "stderr",
     "output_type": "stream",
     "text": [
      "KeyboardInterrupt\n"
     ]
    },
    {
     "name": "stdout",
     "output_type": "stream",
     "text": [
      "  exception:\n",
      "\n",
      "{}\n"
     ]
    },
    {
     "name": "stderr",
     "output_type": "stream",
     "text": [
      "Traceback (most recent call last):\n"
     ]
    },
    {
     "name": "stdout",
     "output_type": "stream",
     "text": [
      "  exception:"
     ]
    },
    {
     "name": "stderr",
     "output_type": "stream",
     "text": [
      "Traceback (most recent call last):\n"
     ]
    },
    {
     "name": "stdout",
     "output_type": "stream",
     "text": [
      "\n"
     ]
    },
    {
     "name": "stderr",
     "output_type": "stream",
     "text": [
      "  File \"/home/ichow9/.conda/envs/wmpl/lib/python3.10/site-packages/dynesty/dynesty.py\", line 913, in __call__\n",
      "    return self.func(np.asarray(x).copy(), *self.args, **self.kwargs)\n",
      "  File \"/home/ichow9/.conda/envs/wmpl/lib/python3.10/site-packages/dynesty/dynesty.py\", line 913, in __call__\n",
      "    return self.func(np.asarray(x).copy(), *self.args, **self.kwargs)\n",
      "  File \"/home/ichow9/.conda/envs/wmpl/lib/python3.10/site-packages/dynesty/pool.py\", line 38, in loglike_cache\n",
      "    return FunctionCache.loglike(x, *FunctionCache.logl_args, *args,\n",
      "Traceback (most recent call last):\n",
      "Traceback (most recent call last):\n",
      "  File \"/home/ichow9/.conda/envs/wmpl/lib/python3.10/site-packages/dynesty/dynesty.py\", line 913, in __call__\n",
      "    return self.func(np.asarray(x).copy(), *self.args, **self.kwargs)\n",
      "  File \"/home/ichow9/.conda/envs/wmpl/lib/python3.10/site-packages/dynesty/dynesty.py\", line 913, in __call__\n",
      "    return self.func(np.asarray(x).copy(), *self.args, **self.kwargs)\n",
      "  File \"/home/ichow9/.conda/envs/wmpl/lib/python3.10/site-packages/dynesty/pool.py\", line 38, in loglike_cache\n",
      "    return FunctionCache.loglike(x, *FunctionCache.logl_args, *args,\n",
      "  File \"/home/ichow9/.conda/envs/wmpl/lib/python3.10/site-packages/dynesty/pool.py\", line 38, in loglike_cache\n",
      "    return FunctionCache.loglike(x, *FunctionCache.logl_args, *args,\n",
      "  File \"/tmp/ipykernel_140217/3348343184.py\", line 55, in log_likelihood\n",
      "    simulation_results = sim_lc(particle, metsim_obj)\n",
      "  File \"/tmp/ipykernel_140217/3348343184.py\", line 55, in log_likelihood\n",
      "    simulation_results = sim_lc(particle, metsim_obj)\n",
      "  File \"/tmp/ipykernel_140217/3348343184.py\", line 55, in log_likelihood\n",
      "    simulation_results = sim_lc(particle, metsim_obj)\n",
      "  File \"/tmp/ipykernel_140217/2550234417.py\", line 99, in sim_lc\n",
      "    metsim_obj.initializeSimulation(all_params)\n",
      "  File \"/tmp/ipykernel_140217/2550234417.py\", line 99, in sim_lc\n",
      "    metsim_obj.initializeSimulation(all_params)\n",
      "  File \"/tmp/ipykernel_140217/3494527788.py\", line 293, in initializeSimulation\n",
      "    frag_main, results_list, wake_results = erosion.runSimulation(self.const, compute_wake=self.wake_on)\n",
      "  File \"/tmp/ipykernel_140217/2550234417.py\", line 99, in sim_lc\n",
      "    metsim_obj.initializeSimulation(all_params)\n",
      "  File \"/tmp/ipykernel_140217/3494527788.py\", line 293, in initializeSimulation\n",
      "    frag_main, results_list, wake_results = erosion.runSimulation(self.const, compute_wake=self.wake_on)\n",
      "  File \"/home/ichow9/Thesis/physical/../../source/WesternMeteorPyLib/wmpl/MetSim/MetSimErosion.py\", line 1281, in runSimulation\n",
      "    wake = ablateAll(fragments, const, compute_wake=compute_wake)\n",
      "  File \"/home/ichow9/Thesis/physical/../../source/WesternMeteorPyLib/wmpl/MetSim/MetSimErosion.py\", line 1281, in runSimulation\n",
      "    wake = ablateAll(fragments, const, compute_wake=compute_wake)\n",
      "  File \"/tmp/ipykernel_140217/3494527788.py\", line 293, in initializeSimulation\n",
      "    frag_main, results_list, wake_results = erosion.runSimulation(self.const, compute_wake=self.wake_on)\n",
      "  File \"/home/ichow9/.conda/envs/wmpl/lib/python3.10/site-packages/dynesty/pool.py\", line 38, in loglike_cache\n",
      "    return FunctionCache.loglike(x, *FunctionCache.logl_args, *args,\n",
      "  File \"/home/ichow9/Thesis/physical/../../source/WesternMeteorPyLib/wmpl/MetSim/MetSimErosion.py\", line 1197, in ablateAll\n",
      "    mass_total_active = np.sum(active_fragments)\n",
      "  File \"/tmp/ipykernel_140217/3348343184.py\", line 55, in log_likelihood\n",
      "    simulation_results = sim_lc(particle, metsim_obj)\n",
      "  File \"<__array_function__ internals>\", line 200, in sum\n",
      "  File \"/tmp/ipykernel_140217/2550234417.py\", line 99, in sim_lc\n",
      "    metsim_obj.initializeSimulation(all_params)\n",
      "KeyboardInterrupt\n",
      "  File \"/tmp/ipykernel_140217/3494527788.py\", line 293, in initializeSimulation\n",
      "    frag_main, results_list, wake_results = erosion.runSimulation(self.const, compute_wake=self.wake_on)\n",
      "  File \"/home/ichow9/Thesis/physical/../../source/WesternMeteorPyLib/wmpl/MetSim/MetSimErosion.py\", line 1281, in runSimulation\n",
      "    wake = ablateAll(fragments, const, compute_wake=compute_wake)\n",
      "Process ForkPoolWorker-25:\n",
      "  File \"/home/ichow9/Thesis/physical/../../source/WesternMeteorPyLib/wmpl/MetSim/MetSimErosion.py\", line 581, in ablateAll\n",
      "    def ablateAll(fragments, const, compute_wake=False):\n",
      "KeyboardInterrupt\n",
      "Traceback (most recent call last):\n",
      "  File \"/home/ichow9/.conda/envs/wmpl/lib/python3.10/multiprocessing/process.py\", line 314, in _bootstrap\n",
      "    self.run()\n",
      "Process ForkPoolWorker-32:\n",
      "  File \"/home/ichow9/.conda/envs/wmpl/lib/python3.10/multiprocessing/process.py\", line 108, in run\n",
      "    self._target(*self._args, **self._kwargs)\n",
      "  File \"/home/ichow9/.conda/envs/wmpl/lib/python3.10/multiprocessing/pool.py\", line 125, in worker\n",
      "    result = (True, func(*args, **kwds))\n",
      "Traceback (most recent call last):\n",
      "  File \"/home/ichow9/.conda/envs/wmpl/lib/python3.10/multiprocessing/pool.py\", line 48, in mapstar\n",
      "    return list(map(*args))\n",
      "  File \"/home/ichow9/Thesis/physical/../../source/WesternMeteorPyLib/wmpl/MetSim/MetSimErosion.py\", line 1197, in ablateAll\n",
      "    mass_total_active = np.sum(active_fragments)\n",
      "  File \"/home/ichow9/.conda/envs/wmpl/lib/python3.10/multiprocessing/process.py\", line 314, in _bootstrap\n",
      "    self.run()\n",
      "  File \"<__array_function__ internals>\", line 200, in sum\n",
      "  File \"/home/ichow9/.conda/envs/wmpl/lib/python3.10/multiprocessing/process.py\", line 108, in run\n",
      "    self._target(*self._args, **self._kwargs)\n",
      "  File \"/home/ichow9/.conda/envs/wmpl/lib/python3.10/site-packages/dynesty/dynesty.py\", line 913, in __call__\n",
      "    return self.func(np.asarray(x).copy(), *self.args, **self.kwargs)\n",
      "  File \"/home/ichow9/.conda/envs/wmpl/lib/python3.10/site-packages/dynesty/pool.py\", line 38, in loglike_cache\n",
      "    return FunctionCache.loglike(x, *FunctionCache.logl_args, *args,\n",
      "  File \"/home/ichow9/Thesis/physical/../../source/WesternMeteorPyLib/wmpl/MetSim/MetSimErosion.py\", line 1281, in runSimulation\n",
      "    wake = ablateAll(fragments, const, compute_wake=compute_wake)\n",
      "  File \"/home/ichow9/.conda/envs/wmpl/lib/python3.10/multiprocessing/pool.py\", line 125, in worker\n",
      "    result = (True, func(*args, **kwds))\n",
      "  File \"/home/ichow9/.conda/envs/wmpl/lib/python3.10/site-packages/numpy/core/fromnumeric.py\", line 2324, in sum\n",
      "    return _wrapreduction(a, np.add, 'sum', axis, dtype, out, keepdims=keepdims,\n",
      "  File \"/home/ichow9/Thesis/physical/../../source/WesternMeteorPyLib/wmpl/MetSim/MetSimErosion.py\", line 809, in ablateAll\n",
      "    or ((const.len_kill > 0) and (frag.length > const.len_kill))\n",
      "  File \"/tmp/ipykernel_140217/3348343184.py\", line 55, in log_likelihood\n",
      "    simulation_results = sim_lc(particle, metsim_obj)\n",
      "  File \"/home/ichow9/.conda/envs/wmpl/lib/python3.10/site-packages/numpy/core/fromnumeric.py\", line 86, in _wrapreduction\n",
      "    return ufunc.reduce(obj, axis, dtype, out, **passkwargs)\n",
      "  File \"/tmp/ipykernel_140217/2550234417.py\", line 99, in sim_lc\n",
      "    metsim_obj.initializeSimulation(all_params)\n",
      "KeyboardInterrupt\n",
      "KeyboardInterrupt\n",
      "  File \"/home/ichow9/.conda/envs/wmpl/lib/python3.10/multiprocessing/pool.py\", line 48, in mapstar\n",
      "    return list(map(*args))\n",
      "  File \"/tmp/ipykernel_140217/3494527788.py\", line 293, in initializeSimulation\n",
      "    frag_main, results_list, wake_results = erosion.runSimulation(self.const, compute_wake=self.wake_on)\n",
      "Process ForkPoolWorker-11:\n",
      "Traceback (most recent call last):\n",
      "  File \"/home/ichow9/Thesis/physical/../../source/WesternMeteorPyLib/wmpl/MetSim/MetSimErosion.py\", line 1281, in runSimulation\n",
      "    wake = ablateAll(fragments, const, compute_wake=compute_wake)\n",
      "  File \"/home/ichow9/.conda/envs/wmpl/lib/python3.10/site-packages/dynesty/dynesty.py\", line 913, in __call__\n",
      "    return self.func(np.asarray(x).copy(), *self.args, **self.kwargs)\n",
      "  File \"/home/ichow9/.conda/envs/wmpl/lib/python3.10/multiprocessing/process.py\", line 314, in _bootstrap\n",
      "    self.run()\n",
      "  File \"/home/ichow9/Thesis/physical/../../source/WesternMeteorPyLib/wmpl/MetSim/MetSimErosion.py\", line 1197, in ablateAll\n",
      "    mass_total_active = np.sum(active_fragments)\n",
      "Process ForkPoolWorker-2:\n",
      "  File \"/home/ichow9/.conda/envs/wmpl/lib/python3.10/multiprocessing/process.py\", line 108, in run\n",
      "    self._target(*self._args, **self._kwargs)\n",
      "  File \"/home/ichow9/.conda/envs/wmpl/lib/python3.10/site-packages/dynesty/pool.py\", line 38, in loglike_cache\n",
      "    return FunctionCache.loglike(x, *FunctionCache.logl_args, *args,\n",
      "  File \"<__array_function__ internals>\", line 200, in sum\n",
      "  File \"/home/ichow9/.conda/envs/wmpl/lib/python3.10/multiprocessing/pool.py\", line 125, in worker\n",
      "    result = (True, func(*args, **kwds))\n",
      "  File \"/tmp/ipykernel_140217/3348343184.py\", line 55, in log_likelihood\n",
      "    simulation_results = sim_lc(particle, metsim_obj)\n",
      "KeyboardInterrupt\n",
      "  File \"/tmp/ipykernel_140217/2550234417.py\", line 99, in sim_lc\n",
      "    metsim_obj.initializeSimulation(all_params)\n",
      "  File \"/home/ichow9/.conda/envs/wmpl/lib/python3.10/multiprocessing/pool.py\", line 48, in mapstar\n",
      "    return list(map(*args))\n",
      "Traceback (most recent call last):\n",
      "  File \"/tmp/ipykernel_140217/3494527788.py\", line 293, in initializeSimulation\n",
      "    frag_main, results_list, wake_results = erosion.runSimulation(self.const, compute_wake=self.wake_on)\n",
      "  File \"/home/ichow9/.conda/envs/wmpl/lib/python3.10/site-packages/dynesty/dynesty.py\", line 913, in __call__\n",
      "    return self.func(np.asarray(x).copy(), *self.args, **self.kwargs)\n",
      "  File \"/home/ichow9/.conda/envs/wmpl/lib/python3.10/multiprocessing/process.py\", line 314, in _bootstrap\n",
      "    self.run()\n",
      "  File \"/home/ichow9/Thesis/physical/../../source/WesternMeteorPyLib/wmpl/MetSim/MetSimErosion.py\", line 1281, in runSimulation\n",
      "    wake = ablateAll(fragments, const, compute_wake=compute_wake)\n",
      "  File \"/home/ichow9/.conda/envs/wmpl/lib/python3.10/multiprocessing/process.py\", line 108, in run\n",
      "    self._target(*self._args, **self._kwargs)\n",
      "  File \"/home/ichow9/.conda/envs/wmpl/lib/python3.10/site-packages/dynesty/pool.py\", line 38, in loglike_cache\n",
      "    return FunctionCache.loglike(x, *FunctionCache.logl_args, *args,\n",
      "  File \"/home/ichow9/Thesis/physical/../../source/WesternMeteorPyLib/wmpl/MetSim/MetSimErosion.py\", line 581, in ablateAll\n",
      "    def ablateAll(fragments, const, compute_wake=False):\n",
      "  File \"/tmp/ipykernel_140217/3348343184.py\", line 55, in log_likelihood\n",
      "    simulation_results = sim_lc(particle, metsim_obj)\n",
      "  File \"/home/ichow9/.conda/envs/wmpl/lib/python3.10/multiprocessing/pool.py\", line 125, in worker\n",
      "    result = (True, func(*args, **kwds))\n",
      "KeyboardInterrupt\n",
      "  File \"/home/ichow9/.conda/envs/wmpl/lib/python3.10/multiprocessing/pool.py\", line 48, in mapstar\n",
      "    return list(map(*args))\n",
      "  File \"/tmp/ipykernel_140217/2550234417.py\", line 99, in sim_lc\n",
      "    metsim_obj.initializeSimulation(all_params)\n",
      "  File \"/home/ichow9/.conda/envs/wmpl/lib/python3.10/site-packages/dynesty/dynesty.py\", line 913, in __call__\n",
      "    return self.func(np.asarray(x).copy(), *self.args, **self.kwargs)\n",
      "  File \"/tmp/ipykernel_140217/3494527788.py\", line 293, in initializeSimulation\n",
      "    frag_main, results_list, wake_results = erosion.runSimulation(self.const, compute_wake=self.wake_on)\n",
      "  File \"/home/ichow9/.conda/envs/wmpl/lib/python3.10/site-packages/dynesty/pool.py\", line 38, in loglike_cache\n",
      "    return FunctionCache.loglike(x, *FunctionCache.logl_args, *args,\n",
      "  File \"/home/ichow9/Thesis/physical/../../source/WesternMeteorPyLib/wmpl/MetSim/MetSimErosion.py\", line 1281, in runSimulation\n",
      "    wake = ablateAll(fragments, const, compute_wake=compute_wake)\n",
      "  File \"/tmp/ipykernel_140217/3348343184.py\", line 55, in log_likelihood\n",
      "    simulation_results = sim_lc(particle, metsim_obj)\n",
      "  File \"/home/ichow9/Thesis/physical/../../source/WesternMeteorPyLib/wmpl/MetSim/MetSimErosion.py\", line 809, in ablateAll\n",
      "    or ((const.len_kill > 0) and (frag.length > const.len_kill))\n",
      "  File \"/tmp/ipykernel_140217/2550234417.py\", line 99, in sim_lc\n",
      "    metsim_obj.initializeSimulation(all_params)\n",
      "  File \"/tmp/ipykernel_140217/3494527788.py\", line 293, in initializeSimulation\n",
      "    frag_main, results_list, wake_results = erosion.runSimulation(self.const, compute_wake=self.wake_on)\n",
      "KeyboardInterrupt\n",
      "  File \"/home/ichow9/Thesis/physical/../../source/WesternMeteorPyLib/wmpl/MetSim/MetSimErosion.py\", line 1281, in runSimulation\n",
      "    wake = ablateAll(fragments, const, compute_wake=compute_wake)\n",
      "  File \"/home/ichow9/Thesis/physical/../../source/WesternMeteorPyLib/wmpl/MetSim/MetSimErosion.py\", line 1197, in ablateAll\n",
      "    mass_total_active = np.sum(active_fragments)\n",
      "  File \"<__array_function__ internals>\", line 200, in sum\n",
      "  File \"/home/ichow9/.conda/envs/wmpl/lib/python3.10/site-packages/numpy/core/fromnumeric.py\", line 2324, in sum\n",
      "    return _wrapreduction(a, np.add, 'sum', axis, dtype, out, keepdims=keepdims,\n",
      "  File \"/home/ichow9/.conda/envs/wmpl/lib/python3.10/site-packages/numpy/core/fromnumeric.py\", line 86, in _wrapreduction\n",
      "    return ufunc.reduce(obj, axis, dtype, out, **passkwargs)\n",
      "KeyboardInterrupt\n",
      "\n"
     ]
    },
    {
     "ename": "KeyboardInterrupt",
     "evalue": "",
     "output_type": "error",
     "traceback": [
      "\u001b[0;31m---------------------------------------------------------------------------\u001b[0m",
      "\u001b[0;31mKeyboardInterrupt\u001b[0m                         Traceback (most recent call last)",
      "Cell \u001b[0;32mIn[166], line 10\u001b[0m\n\u001b[1;32m      5\u001b[0m \u001b[38;5;28;01mwith\u001b[39;00m dynesty\u001b[38;5;241m.\u001b[39mpool\u001b[38;5;241m.\u001b[39mPool(\u001b[38;5;241m32\u001b[39m, log_likelihood, prior,\n\u001b[1;32m      6\u001b[0m                        logl_args\u001b[38;5;241m=\u001b[39m(metsim_obj, timeout), \n\u001b[1;32m      7\u001b[0m                        ptform_args\u001b[38;5;241m=\u001b[39m(bounds, fragmentation_count, \u001b[38;5;28mlen\u001b[39m(ER_FRAG_INDICES))) \u001b[38;5;28;01mas\u001b[39;00m pool:\n\u001b[1;32m      8\u001b[0m     \u001b[38;5;66;03m# NEW RUN\u001b[39;00m\n\u001b[1;32m      9\u001b[0m     dsampler \u001b[38;5;241m=\u001b[39m dynesty\u001b[38;5;241m.\u001b[39mDynamicNestedSampler(pool\u001b[38;5;241m.\u001b[39mloglike, pool\u001b[38;5;241m.\u001b[39mprior_transform, n_params, pool \u001b[38;5;241m=\u001b[39m pool)\n\u001b[0;32m---> 10\u001b[0m     \u001b[43mdsampler\u001b[49m\u001b[38;5;241;43m.\u001b[39;49m\u001b[43mrun_nested\u001b[49m\u001b[43m(\u001b[49m\u001b[43mprint_progress\u001b[49m\u001b[38;5;241;43m=\u001b[39;49m\u001b[38;5;28;43;01mTrue\u001b[39;49;00m\u001b[43m)\u001b[49m\u001b[38;5;66;03m#, checkpoint_file=filename)\u001b[39;00m\n",
      "File \u001b[0;32m~/.conda/envs/wmpl/lib/python3.10/site-packages/dynesty/dynamicsampler.py:2055\u001b[0m, in \u001b[0;36mDynamicSampler.run_nested\u001b[0;34m(self, nlive_init, maxiter_init, maxcall_init, dlogz_init, logl_max_init, n_effective_init, nlive_batch, wt_function, wt_kwargs, maxiter_batch, maxcall_batch, maxiter, maxcall, maxbatch, n_effective, stop_function, stop_kwargs, use_stop, save_bounds, print_progress, print_func, live_points, resume, checkpoint_file, checkpoint_every)\u001b[0m\n\u001b[1;32m   2053\u001b[0m \u001b[38;5;28;01mtry\u001b[39;00m:\n\u001b[1;32m   2054\u001b[0m     \u001b[38;5;28;01mif\u001b[39;00m \u001b[38;5;129;01mnot\u001b[39;00m \u001b[38;5;28mself\u001b[39m\u001b[38;5;241m.\u001b[39mbase:\n\u001b[0;32m-> 2055\u001b[0m         \u001b[38;5;28;01mfor\u001b[39;00m results \u001b[38;5;129;01min\u001b[39;00m \u001b[38;5;28mself\u001b[39m\u001b[38;5;241m.\u001b[39msample_initial(\n\u001b[1;32m   2056\u001b[0m                 nlive\u001b[38;5;241m=\u001b[39mnlive_init,\n\u001b[1;32m   2057\u001b[0m                 dlogz\u001b[38;5;241m=\u001b[39mdlogz_init,\n\u001b[1;32m   2058\u001b[0m                 maxcall\u001b[38;5;241m=\u001b[39mmaxcall_init,\n\u001b[1;32m   2059\u001b[0m                 maxiter\u001b[38;5;241m=\u001b[39mmaxiter_init,\n\u001b[1;32m   2060\u001b[0m                 logl_max\u001b[38;5;241m=\u001b[39mlogl_max_init,\n\u001b[1;32m   2061\u001b[0m                 live_points\u001b[38;5;241m=\u001b[39mlive_points,\n\u001b[1;32m   2062\u001b[0m                 n_effective\u001b[38;5;241m=\u001b[39mn_effective_init,\n\u001b[1;32m   2063\u001b[0m                 resume\u001b[38;5;241m=\u001b[39mresume,\n\u001b[1;32m   2064\u001b[0m                 save_samples\u001b[38;5;241m=\u001b[39m\u001b[38;5;28;01mTrue\u001b[39;00m):\n\u001b[1;32m   2065\u001b[0m             \u001b[38;5;28;01mif\u001b[39;00m resume:\n\u001b[1;32m   2066\u001b[0m                 resume \u001b[38;5;241m=\u001b[39m \u001b[38;5;28;01mFalse\u001b[39;00m\n",
      "File \u001b[0;32m~/.conda/envs/wmpl/lib/python3.10/site-packages/dynesty/dynamicsampler.py:1289\u001b[0m, in \u001b[0;36mDynamicSampler.sample_initial\u001b[0;34m(self, nlive, update_interval, first_update, maxiter, maxcall, logl_max, dlogz, n_effective, live_points, save_samples, resume)\u001b[0m\n\u001b[1;32m   1284\u001b[0m \u001b[38;5;28;01mif\u001b[39;00m \u001b[38;5;129;01mnot\u001b[39;00m resume:\n\u001b[1;32m   1285\u001b[0m     \u001b[38;5;66;03m# Reset saved results to avoid any possible conflicts.\u001b[39;00m\n\u001b[1;32m   1286\u001b[0m     \u001b[38;5;28mself\u001b[39m\u001b[38;5;241m.\u001b[39mreset()\n\u001b[1;32m   1288\u001b[0m     (\u001b[38;5;28mself\u001b[39m\u001b[38;5;241m.\u001b[39mlive_u, \u001b[38;5;28mself\u001b[39m\u001b[38;5;241m.\u001b[39mlive_v, \u001b[38;5;28mself\u001b[39m\u001b[38;5;241m.\u001b[39mlive_logl,\n\u001b[0;32m-> 1289\u001b[0m      blobs), logvol_init, init_ncalls \u001b[38;5;241m=\u001b[39m \u001b[43m_initialize_live_points\u001b[49m\u001b[43m(\u001b[49m\n\u001b[1;32m   1290\u001b[0m \u001b[43m         \u001b[49m\u001b[43mlive_points\u001b[49m\u001b[43m,\u001b[49m\n\u001b[1;32m   1291\u001b[0m \u001b[43m         \u001b[49m\u001b[38;5;28;43mself\u001b[39;49m\u001b[38;5;241;43m.\u001b[39;49m\u001b[43mprior_transform\u001b[49m\u001b[43m,\u001b[49m\n\u001b[1;32m   1292\u001b[0m \u001b[43m         \u001b[49m\u001b[38;5;28;43mself\u001b[39;49m\u001b[38;5;241;43m.\u001b[39;49m\u001b[43mloglikelihood\u001b[49m\u001b[43m,\u001b[49m\n\u001b[1;32m   1293\u001b[0m \u001b[43m         \u001b[49m\u001b[38;5;28;43mself\u001b[39;49m\u001b[38;5;241;43m.\u001b[39;49m\u001b[43mM\u001b[49m\u001b[43m,\u001b[49m\n\u001b[1;32m   1294\u001b[0m \u001b[43m         \u001b[49m\u001b[43mnlive\u001b[49m\u001b[38;5;241;43m=\u001b[39;49m\u001b[43mnlive\u001b[49m\u001b[43m,\u001b[49m\n\u001b[1;32m   1295\u001b[0m \u001b[43m         \u001b[49m\u001b[43mndim\u001b[49m\u001b[38;5;241;43m=\u001b[39;49m\u001b[38;5;28;43mself\u001b[39;49m\u001b[38;5;241;43m.\u001b[39;49m\u001b[43mndim\u001b[49m\u001b[43m,\u001b[49m\n\u001b[1;32m   1296\u001b[0m \u001b[43m         \u001b[49m\u001b[43mrstate\u001b[49m\u001b[38;5;241;43m=\u001b[39;49m\u001b[38;5;28;43mself\u001b[39;49m\u001b[38;5;241;43m.\u001b[39;49m\u001b[43mrstate\u001b[49m\u001b[43m,\u001b[49m\n\u001b[1;32m   1297\u001b[0m \u001b[43m         \u001b[49m\u001b[43mblob\u001b[49m\u001b[38;5;241;43m=\u001b[39;49m\u001b[38;5;28;43mself\u001b[39;49m\u001b[38;5;241;43m.\u001b[39;49m\u001b[43mblob\u001b[49m\u001b[43m,\u001b[49m\n\u001b[1;32m   1298\u001b[0m \u001b[43m         \u001b[49m\u001b[43muse_pool_ptform\u001b[49m\u001b[38;5;241;43m=\u001b[39;49m\u001b[38;5;28;43mself\u001b[39;49m\u001b[38;5;241;43m.\u001b[39;49m\u001b[43muse_pool_ptform\u001b[49m\u001b[43m)\u001b[49m\n\u001b[1;32m   1299\u001b[0m     \u001b[38;5;28;01mif\u001b[39;00m \u001b[38;5;28mself\u001b[39m\u001b[38;5;241m.\u001b[39mblob:\n\u001b[1;32m   1300\u001b[0m         \u001b[38;5;28mself\u001b[39m\u001b[38;5;241m.\u001b[39mlive_blobs \u001b[38;5;241m=\u001b[39m blobs\n",
      "File \u001b[0;32m~/.conda/envs/wmpl/lib/python3.10/site-packages/dynesty/dynamicsampler.py:438\u001b[0m, in \u001b[0;36m_initialize_live_points\u001b[0;34m(live_points, prior_transform, loglikelihood, M, nlive, ndim, rstate, blob, use_pool_ptform)\u001b[0m\n\u001b[1;32m    436\u001b[0m     cur_live_v \u001b[38;5;241m=\u001b[39m \u001b[38;5;28mmap\u001b[39m(prior_transform, np\u001b[38;5;241m.\u001b[39masarray(cur_live_u))\n\u001b[1;32m    437\u001b[0m cur_live_v \u001b[38;5;241m=\u001b[39m np\u001b[38;5;241m.\u001b[39marray(\u001b[38;5;28mlist\u001b[39m(cur_live_v))\n\u001b[0;32m--> 438\u001b[0m cur_live_logl \u001b[38;5;241m=\u001b[39m \u001b[43mloglikelihood\u001b[49m\u001b[38;5;241;43m.\u001b[39;49m\u001b[43mmap\u001b[49m\u001b[43m(\u001b[49m\u001b[43mnp\u001b[49m\u001b[38;5;241;43m.\u001b[39;49m\u001b[43masarray\u001b[49m\u001b[43m(\u001b[49m\u001b[43mcur_live_v\u001b[49m\u001b[43m)\u001b[49m\u001b[43m)\u001b[49m\n\u001b[1;32m    439\u001b[0m \u001b[38;5;28;01mif\u001b[39;00m blob:\n\u001b[1;32m    440\u001b[0m     cur_live_blobs \u001b[38;5;241m=\u001b[39m np\u001b[38;5;241m.\u001b[39marray([_\u001b[38;5;241m.\u001b[39mblob \u001b[38;5;28;01mfor\u001b[39;00m _ \u001b[38;5;129;01min\u001b[39;00m cur_live_logl])\n",
      "File \u001b[0;32m~/.conda/envs/wmpl/lib/python3.10/site-packages/dynesty/utils.py:177\u001b[0m, in \u001b[0;36mLogLikelihood.map\u001b[0;34m(self, pars)\u001b[0m\n\u001b[1;32m    171\u001b[0m     ret \u001b[38;5;241m=\u001b[39m \u001b[38;5;28mlist\u001b[39m([\n\u001b[1;32m    172\u001b[0m         LoglOutput(_, \u001b[38;5;28mself\u001b[39m\u001b[38;5;241m.\u001b[39mblob) \u001b[38;5;28;01mfor\u001b[39;00m _ \u001b[38;5;129;01min\u001b[39;00m \u001b[38;5;28mmap\u001b[39m(\u001b[38;5;28mself\u001b[39m\u001b[38;5;241m.\u001b[39mloglikelihood, pars)\n\u001b[1;32m    173\u001b[0m     ])\n\u001b[1;32m    174\u001b[0m \u001b[38;5;28;01melse\u001b[39;00m:\n\u001b[1;32m    175\u001b[0m     ret \u001b[38;5;241m=\u001b[39m [\n\u001b[1;32m    176\u001b[0m         LoglOutput(_, \u001b[38;5;28mself\u001b[39m\u001b[38;5;241m.\u001b[39mblob)\n\u001b[0;32m--> 177\u001b[0m         \u001b[38;5;28;01mfor\u001b[39;00m _ \u001b[38;5;129;01min\u001b[39;00m \u001b[38;5;28;43mself\u001b[39;49m\u001b[38;5;241;43m.\u001b[39;49m\u001b[43mpool\u001b[49m\u001b[38;5;241;43m.\u001b[39;49m\u001b[43mmap\u001b[49m\u001b[43m(\u001b[49m\u001b[38;5;28;43mself\u001b[39;49m\u001b[38;5;241;43m.\u001b[39;49m\u001b[43mloglikelihood\u001b[49m\u001b[43m,\u001b[49m\u001b[43m \u001b[49m\u001b[43mpars\u001b[49m\u001b[43m)\u001b[49m\n\u001b[1;32m    178\u001b[0m     ]\n\u001b[1;32m    179\u001b[0m \u001b[38;5;28;01mif\u001b[39;00m \u001b[38;5;28mself\u001b[39m\u001b[38;5;241m.\u001b[39msave:\n\u001b[1;32m    180\u001b[0m     \u001b[38;5;28mself\u001b[39m\u001b[38;5;241m.\u001b[39mhistory_append([_\u001b[38;5;241m.\u001b[39mval \u001b[38;5;28;01mfor\u001b[39;00m _ \u001b[38;5;129;01min\u001b[39;00m ret], pars)\n",
      "File \u001b[0;32m~/.conda/envs/wmpl/lib/python3.10/site-packages/dynesty/pool.py:156\u001b[0m, in \u001b[0;36mPool.map\u001b[0;34m(self, F, x)\u001b[0m\n\u001b[1;32m    147\u001b[0m \u001b[38;5;28;01mdef\u001b[39;00m \u001b[38;5;21mmap\u001b[39m(\u001b[38;5;28mself\u001b[39m, F, x):\n\u001b[1;32m    148\u001b[0m \u001b[38;5;250m    \u001b[39m\u001b[38;5;124;03m\"\"\" Apply the function F to the list x\u001b[39;00m\n\u001b[1;32m    149\u001b[0m \n\u001b[1;32m    150\u001b[0m \u001b[38;5;124;03m    Parameters\u001b[39;00m\n\u001b[0;32m   (...)\u001b[0m\n\u001b[1;32m    154\u001b[0m \u001b[38;5;124;03m    x: iterable\u001b[39;00m\n\u001b[1;32m    155\u001b[0m \u001b[38;5;124;03m    \"\"\"\u001b[39;00m\n\u001b[0;32m--> 156\u001b[0m     \u001b[38;5;28;01mreturn\u001b[39;00m \u001b[38;5;28;43mself\u001b[39;49m\u001b[38;5;241;43m.\u001b[39;49m\u001b[43mpool\u001b[49m\u001b[38;5;241;43m.\u001b[39;49m\u001b[43mmap\u001b[49m\u001b[43m(\u001b[49m\u001b[43mF\u001b[49m\u001b[43m,\u001b[49m\u001b[43m \u001b[49m\u001b[43mx\u001b[49m\u001b[43m)\u001b[49m\n",
      "File \u001b[0;32m~/.conda/envs/wmpl/lib/python3.10/multiprocessing/pool.py:367\u001b[0m, in \u001b[0;36mPool.map\u001b[0;34m(self, func, iterable, chunksize)\u001b[0m\n\u001b[1;32m    362\u001b[0m \u001b[38;5;28;01mdef\u001b[39;00m \u001b[38;5;21mmap\u001b[39m(\u001b[38;5;28mself\u001b[39m, func, iterable, chunksize\u001b[38;5;241m=\u001b[39m\u001b[38;5;28;01mNone\u001b[39;00m):\n\u001b[1;32m    363\u001b[0m \u001b[38;5;250m    \u001b[39m\u001b[38;5;124;03m'''\u001b[39;00m\n\u001b[1;32m    364\u001b[0m \u001b[38;5;124;03m    Apply `func` to each element in `iterable`, collecting the results\u001b[39;00m\n\u001b[1;32m    365\u001b[0m \u001b[38;5;124;03m    in a list that is returned.\u001b[39;00m\n\u001b[1;32m    366\u001b[0m \u001b[38;5;124;03m    '''\u001b[39;00m\n\u001b[0;32m--> 367\u001b[0m     \u001b[38;5;28;01mreturn\u001b[39;00m \u001b[38;5;28;43mself\u001b[39;49m\u001b[38;5;241;43m.\u001b[39;49m\u001b[43m_map_async\u001b[49m\u001b[43m(\u001b[49m\u001b[43mfunc\u001b[49m\u001b[43m,\u001b[49m\u001b[43m \u001b[49m\u001b[43miterable\u001b[49m\u001b[43m,\u001b[49m\u001b[43m \u001b[49m\u001b[43mmapstar\u001b[49m\u001b[43m,\u001b[49m\u001b[43m \u001b[49m\u001b[43mchunksize\u001b[49m\u001b[43m)\u001b[49m\u001b[38;5;241;43m.\u001b[39;49m\u001b[43mget\u001b[49m\u001b[43m(\u001b[49m\u001b[43m)\u001b[49m\n",
      "File \u001b[0;32m~/.conda/envs/wmpl/lib/python3.10/multiprocessing/pool.py:768\u001b[0m, in \u001b[0;36mApplyResult.get\u001b[0;34m(self, timeout)\u001b[0m\n\u001b[1;32m    767\u001b[0m \u001b[38;5;28;01mdef\u001b[39;00m \u001b[38;5;21mget\u001b[39m(\u001b[38;5;28mself\u001b[39m, timeout\u001b[38;5;241m=\u001b[39m\u001b[38;5;28;01mNone\u001b[39;00m):\n\u001b[0;32m--> 768\u001b[0m     \u001b[38;5;28;43mself\u001b[39;49m\u001b[38;5;241;43m.\u001b[39;49m\u001b[43mwait\u001b[49m\u001b[43m(\u001b[49m\u001b[43mtimeout\u001b[49m\u001b[43m)\u001b[49m\n\u001b[1;32m    769\u001b[0m     \u001b[38;5;28;01mif\u001b[39;00m \u001b[38;5;129;01mnot\u001b[39;00m \u001b[38;5;28mself\u001b[39m\u001b[38;5;241m.\u001b[39mready():\n\u001b[1;32m    770\u001b[0m         \u001b[38;5;28;01mraise\u001b[39;00m \u001b[38;5;167;01mTimeoutError\u001b[39;00m\n",
      "File \u001b[0;32m~/.conda/envs/wmpl/lib/python3.10/multiprocessing/pool.py:765\u001b[0m, in \u001b[0;36mApplyResult.wait\u001b[0;34m(self, timeout)\u001b[0m\n\u001b[1;32m    764\u001b[0m \u001b[38;5;28;01mdef\u001b[39;00m \u001b[38;5;21mwait\u001b[39m(\u001b[38;5;28mself\u001b[39m, timeout\u001b[38;5;241m=\u001b[39m\u001b[38;5;28;01mNone\u001b[39;00m):\n\u001b[0;32m--> 765\u001b[0m     \u001b[38;5;28;43mself\u001b[39;49m\u001b[38;5;241;43m.\u001b[39;49m\u001b[43m_event\u001b[49m\u001b[38;5;241;43m.\u001b[39;49m\u001b[43mwait\u001b[49m\u001b[43m(\u001b[49m\u001b[43mtimeout\u001b[49m\u001b[43m)\u001b[49m\n",
      "File \u001b[0;32m~/.conda/envs/wmpl/lib/python3.10/threading.py:607\u001b[0m, in \u001b[0;36mEvent.wait\u001b[0;34m(self, timeout)\u001b[0m\n\u001b[1;32m    605\u001b[0m signaled \u001b[38;5;241m=\u001b[39m \u001b[38;5;28mself\u001b[39m\u001b[38;5;241m.\u001b[39m_flag\n\u001b[1;32m    606\u001b[0m \u001b[38;5;28;01mif\u001b[39;00m \u001b[38;5;129;01mnot\u001b[39;00m signaled:\n\u001b[0;32m--> 607\u001b[0m     signaled \u001b[38;5;241m=\u001b[39m \u001b[38;5;28;43mself\u001b[39;49m\u001b[38;5;241;43m.\u001b[39;49m\u001b[43m_cond\u001b[49m\u001b[38;5;241;43m.\u001b[39;49m\u001b[43mwait\u001b[49m\u001b[43m(\u001b[49m\u001b[43mtimeout\u001b[49m\u001b[43m)\u001b[49m\n\u001b[1;32m    608\u001b[0m \u001b[38;5;28;01mreturn\u001b[39;00m signaled\n",
      "File \u001b[0;32m~/.conda/envs/wmpl/lib/python3.10/threading.py:320\u001b[0m, in \u001b[0;36mCondition.wait\u001b[0;34m(self, timeout)\u001b[0m\n\u001b[1;32m    318\u001b[0m \u001b[38;5;28;01mtry\u001b[39;00m:    \u001b[38;5;66;03m# restore state no matter what (e.g., KeyboardInterrupt)\u001b[39;00m\n\u001b[1;32m    319\u001b[0m     \u001b[38;5;28;01mif\u001b[39;00m timeout \u001b[38;5;129;01mis\u001b[39;00m \u001b[38;5;28;01mNone\u001b[39;00m:\n\u001b[0;32m--> 320\u001b[0m         \u001b[43mwaiter\u001b[49m\u001b[38;5;241;43m.\u001b[39;49m\u001b[43macquire\u001b[49m\u001b[43m(\u001b[49m\u001b[43m)\u001b[49m\n\u001b[1;32m    321\u001b[0m         gotit \u001b[38;5;241m=\u001b[39m \u001b[38;5;28;01mTrue\u001b[39;00m\n\u001b[1;32m    322\u001b[0m     \u001b[38;5;28;01melse\u001b[39;00m:\n",
      "\u001b[0;31mKeyboardInterrupt\u001b[0m: "
     ]
    }
   ],
   "source": [
    "import dynesty\n",
    "n_params = len(initial_guess)\n",
    "timeout=20\n",
    "\n",
    "with dynesty.pool.Pool(32, log_likelihood, prior,\n",
    "                       logl_args=(metsim_obj, timeout), \n",
    "                       ptform_args=(bounds, fragmentation_count, len(ER_FRAG_INDICES))) as pool:\n",
    "    # NEW RUN\n",
    "    dsampler = dynesty.DynamicNestedSampler(pool.loglike, pool.prior_transform, n_params, pool = pool)\n",
    "    dsampler.run_nested(print_progress=True)#, checkpoint_file=filename)"
   ]
  }
 ],
 "metadata": {
  "kernelspec": {
   "display_name": "Python 3 (ipykernel)",
   "language": "python",
   "name": "python3"
  },
  "language_info": {
   "codemirror_mode": {
    "name": "ipython",
    "version": 3
   },
   "file_extension": ".py",
   "mimetype": "text/x-python",
   "name": "python",
   "nbconvert_exporter": "python",
   "pygments_lexer": "ipython3",
   "version": "3.10.15"
  }
 },
 "nbformat": 4,
 "nbformat_minor": 5
}
