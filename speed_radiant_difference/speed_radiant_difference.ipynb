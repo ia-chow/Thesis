{
 "cells": [
  {
   "cell_type": "code",
   "execution_count": null,
   "id": "9261e6df",
   "metadata": {},
   "outputs": [],
   "source": [
    "import numpy as np\n",
    "import pandas as pd\n",
    "import scipy\n",
    "import matplotlib.pyplot as plt\n",
    "import os\n",
    "from glob import glob\n",
    "from sklearn.decomposition import PCA\n",
    "from sklearn.preprocessing import StandardScaler\n",
    "import umap.umap_ as umap"
   ]
  },
  {
   "cell_type": "markdown",
   "id": "78b7a06d-2029-455b-b8d9-bec7d1fb4561",
   "metadata": {},
   "source": [
    "Importing the USG-ground-based comparison data for large bolides and cleaning up the CSV file:"
   ]
  },
  {
   "cell_type": "code",
   "execution_count": null,
   "id": "7ff3e577-d51f-4db5-8946-ecc642f537bb",
   "metadata": {},
   "outputs": [],
   "source": [
    "usg_ground_based_comparison = pd.read_csv('usg-ground-based-comparison/usg-ground-based-comparison_EDITED.csv', sep = ',', skip_blank_lines=True).iloc[2:-3]  \n",
    "# skip the first two rows after header and the last three rows since those are garbage\n",
    "\n",
    "# forward fill Event and radiant, backward fill dv based on the xlsx file\n",
    "usg_ground_based_comparison['Event'] = usg_ground_based_comparison['Event'].fillna(method='ffill')\n",
    "usg_ground_based_comparison['Radiant Diff'] = usg_ground_based_comparison['Radiant Diff'].fillna(method='ffill')\n",
    "usg_ground_based_comparison['DV'] = usg_ground_based_comparison['DV'].fillna(method='bfill')\n",
    "\n",
    "# drop every other row since we don't need duplicate rows for event, radiant diff, or dv\n",
    "# however we want to keep the usg reported speed, zenith angle and other parameters (second row for each event), \n",
    "# so we start by dropping the first row rather than the second\n",
    "usg_ground_based_comparison = usg_ground_based_comparison.iloc[1::2]\n",
    "# strip whitespace from headers to avoid errors with indexing later\n",
    "usg_ground_based_comparison.columns = usg_ground_based_comparison.columns.str.strip()"
   ]
  },
  {
   "cell_type": "markdown",
   "id": "1a809053-1c3f-4b2b-81c2-849cf4a98638",
   "metadata": {},
   "source": [
    "Drop Queensland for now as it doesn't have LC (needed for duration and peak/integrated intensities)"
   ]
  },
  {
   "cell_type": "code",
   "execution_count": null,
   "id": "3574f041-88ae-4796-9869-ca9200742974",
   "metadata": {},
   "outputs": [],
   "source": [
    "usg_ground_based_comparison.drop(usg_ground_based_comparison[usg_ground_based_comparison['Event'] == 'Queensland'].index, inplace=True)"
   ]
  },
  {
   "cell_type": "markdown",
   "id": "732e49ac-0613-4953-ae33-b0451ab6d18d",
   "metadata": {},
   "source": [
    "Sort DataFrame alphabetically by the event name (to match the order in which csvs are read from the `event` directory and its subdirectories) in-place:"
   ]
  },
  {
   "cell_type": "code",
   "execution_count": null,
   "id": "f571fde2-bc94-4bbb-861a-1c2768de259f",
   "metadata": {},
   "outputs": [],
   "source": [
    "usg_ground_based_comparison.sort_values('Event', inplace=True)"
   ]
  },
  {
   "cell_type": "markdown",
   "id": "1c9d9da3-f91f-4a4f-9367-5757aecff1ae",
   "metadata": {},
   "source": [
    "Note that all parameters (e.g. azimuth, zenith angle, speed, height) in the `usg_ground_based_comparison` dataframe are the USG-reported data rather than ground-based. The LCs (with intensity and magnitude measurements) for all events **other than Chelyabinsk** are also USG LCs; Chelyabinsk instead uses ground-based data"
   ]
  },
  {
   "cell_type": "markdown",
   "id": "6a7e069d-b55b-4442-92fb-8af3c17ae4ef",
   "metadata": {},
   "source": [
    "Now plotting speed difference and radiant difference against speed, recreating Figs. $2$ and $3$ of Brown and Borovicka:"
   ]
  },
  {
   "cell_type": "code",
   "execution_count": null,
   "id": "9b069f04-8d29-4a5b-802d-1ece9d3e42ef",
   "metadata": {},
   "outputs": [],
   "source": [
    "# usg_ground_based_comparison = usg_ground_based_comparison[pd.to_numeric(usg_ground_based_comparison[['DV', 'Radiant Diff']], errors='coerce').notnull()].apply(pd.to_numeric, errors='coerce')\n",
    "# usg_ground_based_comparison_dv = usg_ground_based_comparison[pd.to_numeric(usg_ground_based_comparison['DV'], errors='coerce').notnull()].apply(pd.to_numeric, errors='coerce')\n",
    "# usg_ground_based_comparison_drad = usg_ground_based_comparison[pd.to_numeric(usg_ground_based_comparison['Radiant Diff'], errors='coerce').notnull()].apply(pd.to_numeric, errors='coerce')\n",
    "\n",
    "# convert Speed, DV, Radiant Diff, Radiant Zenith Angle, Height, Begin Height, End Height, Length to numeric to avoid errors\n",
    "cols_to_convert = ['Speed', 'DV', 'Radiant Diff', 'Radiant Zenith Angle', 'Height', 'Begin Height (km)', 'End Height (km)', 'Length (km)']\n",
    "usg_ground_based_comparison[cols_to_convert] = usg_ground_based_comparison[cols_to_convert].apply(pd.to_numeric, errors='coerce', axis=1)\n",
    "\n",
    "# convert date to datetime object\n",
    "usg_ground_based_comparison['Date'] = pd.to_datetime(usg_ground_based_comparison['Date'])\n",
    "\n",
    "# usg speed, dv, drad\n",
    "usg_speed = usg_ground_based_comparison['Speed']\n",
    "dv = usg_ground_based_comparison['DV']\n",
    "drad = usg_ground_based_comparison['Radiant Diff']"
   ]
  },
  {
   "cell_type": "markdown",
   "id": "bf140878-259e-4205-a966-1fee0eb63a82",
   "metadata": {},
   "source": [
    "Fig. $2$ of B&B:"
   ]
  },
  {
   "cell_type": "code",
   "execution_count": null,
   "id": "e760a3fc-7357-4380-87fb-feae32865895",
   "metadata": {},
   "outputs": [],
   "source": [
    "plt.figure(figsize = (10, 7))\n",
    "plt.scatter(usg_speed, dv)\n",
    "plt.xlabel('Speed (km/s)'), plt.ylabel('Speed difference (km/s)')"
   ]
  },
  {
   "cell_type": "markdown",
   "id": "7d0d4c45-ac14-4058-ac56-2a1f611f9c7b",
   "metadata": {},
   "source": [
    "Fig. $3$ of B&B:"
   ]
  },
  {
   "cell_type": "code",
   "execution_count": null,
   "id": "91c18f84-98c5-4962-a439-40ceb1a7d12c",
   "metadata": {},
   "outputs": [],
   "source": [
    "plt.figure(figsize = (10, 7))\n",
    "# note that we use the usg reported speed (which is in our processed df) rather tahn the ground based speed (which we dropped earlier)\n",
    "plt.scatter(usg_speed,drad)\n",
    "plt.xlabel('Speed (km/s)'), plt.ylabel('Radiant difference (deg)')\n",
    "plt.yscale('log')  # log y scale following B&B"
   ]
  },
  {
   "cell_type": "markdown",
   "id": "bbaff45c-3d8c-47bb-81ea-e2eb8a3437d8",
   "metadata": {},
   "source": [
    "Now plotting speed difference and radiant difference against peak intensity and lightcurve duration (from the LC data):"
   ]
  },
  {
   "cell_type": "markdown",
   "id": "8e14a99c-25d7-4959-9f68-569dc9684af5",
   "metadata": {},
   "source": [
    "Get all intensity and magnitude `.csv` files for all the events (check all subdirectories of 'events') for `.csv` files, then sort to make sure they are in alphabetical order by event folder name:"
   ]
  },
  {
   "cell_type": "code",
   "execution_count": null,
   "id": "4cd7a064-9366-4c2e-b9c9-fb47c95f1612",
   "metadata": {},
   "outputs": [],
   "source": [
    "# should get all the intensity and magnitude files in the event folder name\n",
    "int_files = [file for path, subdir, files in os.walk('events') for file in glob(os.path.join(path,'*_INT.csv'))]\n",
    "mag_files = [file for path, subdir, files in os.walk('events') for file in glob(os.path.join(path,'*_MAG.csv'))]\n",
    "# sort lists alphabetically, by the event folder name\n",
    "int_files.sort()\n",
    "mag_files.sort()"
   ]
  },
  {
   "cell_type": "markdown",
   "id": "518e1a87-85d0-4c57-9743-0af3878a62ef",
   "metadata": {},
   "source": [
    "Define functions to get the peak intensities and lightcurve durations from the LC data:"
   ]
  },
  {
   "cell_type": "code",
   "execution_count": null,
   "id": "cf383103-bd22-46d1-a58f-5cc0096e63c8",
   "metadata": {},
   "outputs": [],
   "source": [
    "def get_peak_intensity(intensity_csv_path):\n",
    "    \"\"\"\n",
    "    Gets the peak intensity of a fireball event from an intensity CSV generated by the CNEOS_LC_INT_MAY-format.py script, \n",
    "    given the path 'intensity_csv_path' to the event\n",
    "\n",
    "    param str: intensity_csv_path: file path to the intensity CSV for the fireball event\n",
    "\n",
    "    return float: returns peak intensity value as a float\n",
    "    \"\"\"\n",
    "    intensity_df = pd.read_csv(intensity_csv_path, header=None, names=['Time (s)', 'Intensity (W/sr)'])  # reading intensity data\n",
    "    return np.float64(intensity_df['Intensity (W/sr)'].max())  # get the maximum intensity \n",
    "    \n",
    "def get_lightcurve_duration(magnitude_csv_path, noise_threshold=-17.):\n",
    "    \"\"\"\n",
    "    Gets the lightcurve duration of a fireball event from a magnitude CSV generated by the CNEOS_LC_INT_MAY-format.py script, given the path\n",
    "    'magnitude_csv_path' to the event\n",
    "\n",
    "    param str magnitude_csv_path: file path to the magnitude CSV for the fireball event\n",
    "    default param float noise_threshold: noise threshold (anything below this is considered noise rather than a possible LC signal); \n",
    "    set to -17 by default\n",
    "\n",
    "    return float duration: returns lightcurve duration as a float\n",
    "    \"\"\"\n",
    "    # get the csv data, coerce any non numeric values to nans\n",
    "    magnitude_df = pd.read_csv(magnitude_csv_path, header=None, names=['Time (s)', 'Bolometric Magnitude']).apply(pd.to_numeric, errors='coerce')\n",
    "    # replace all nas with infinity, because np.inf < noise_threshold always evaluates to False (which we want)\n",
    "    magnitude_df.fillna(np.inf, inplace=True)\n",
    "    # get all indices for which the bolometric magnitude is less than the noise threshold\n",
    "    # (this is the actual light curve as anything below (greater than) that is noise)\n",
    "    filtered_magnitude_df = magnitude_df['Bolometric Magnitude'] < noise_threshold\n",
    "    # generate the dataframe for cumulative summation to detect changes from False to True in the column and vice versa\n",
    "    cumsum_df = filtered_magnitude_df != filtered_magnitude_df.shift()\n",
    "    # create dataframe with the count, start and end times of every consecutive sequence of either 'True' or 'False' in the data\n",
    "    start_end_time_df = magnitude_df.groupby(cumsum_df.cumsum()).agg({'Time (s)': ['count', 'min', 'max']}).reset_index()\n",
    "    start_end_time_df.columns = start_end_time_df.columns.droplevel()\n",
    "    # take the actual light curve to be the longest consecutive sequence of \"True\" in the data (consecutive sequence of values less than\n",
    "    # -17 bolometric magnitude)\n",
    "    # if first sequence is noise (below noise threshold), remove every other sequence starting with the first one, \n",
    "    # since the df alternates noise-signal-noise-signal etc\n",
    "    # otherwise remove every other sequence starting with the second one since the df alternates signal-noise-signal-noise etc.\n",
    "    # print(magnitude_df['Bolometric Magnitude'][0] >= noise_threshold)\n",
    "    if magnitude_df['Bolometric Magnitude'][0] >= noise_threshold:\n",
    "        start_end_time_df = start_end_time_df.iloc[1::2].reset_index()  # need to reset indices again because cut the file by iloc again\n",
    "    elif magnitude_df['Bolometric Magnitude'][0] < noise_threshold:\n",
    "        start_end_time_df = start_end_time_df.iloc[::2].reset_index() \n",
    "    # get the start and end times of the lcs\n",
    "    lc_start_time = start_end_time_df.iloc[start_end_time_df['count'].idxmax()]['min']\n",
    "    lc_end_time = start_end_time_df.iloc[start_end_time_df['count'].idxmax()]['max']\n",
    "    # print(lc_start_time, lc_end_time)\n",
    "    # duration is the end minus the start time\n",
    "    duration = lc_end_time - lc_start_time\n",
    "    # return duration\n",
    "    return duration"
   ]
  },
  {
   "cell_type": "markdown",
   "id": "ba711b81-5799-4e3a-8e8f-264a5958c4ad",
   "metadata": {},
   "source": [
    "Get the peak intensities and lightcurve durations above $-17$ and $-12$ magnitude for all the fireball intensity and magnitude `.csv` files:"
   ]
  },
  {
   "cell_type": "code",
   "execution_count": null,
   "id": "5b76060e-3638-4b8e-9862-9d29d04f8c08",
   "metadata": {},
   "outputs": [],
   "source": [
    "peak_intensities = np.array([get_peak_intensity(csv_file) for csv_file in int_files])\n",
    "lc_durations_17 = np.array([get_lightcurve_duration(csv_file) for csv_file in mag_files])\n",
    "lc_durations_12 = np.array([get_lightcurve_duration(csv_file, noise_threshold=-12.) for csv_file in mag_files])"
   ]
  },
  {
   "cell_type": "markdown",
   "id": "b2c49d76-9326-475a-9977-8c01203b82c4",
   "metadata": {},
   "source": [
    "Now plot them against the speed and radiant difference:"
   ]
  },
  {
   "cell_type": "markdown",
   "id": "9f566df7-db52-4a36-8f1e-50f887416ca6",
   "metadata": {},
   "source": [
    "Speed and Radiant differences vs. Peak intensity:"
   ]
  },
  {
   "cell_type": "code",
   "execution_count": null,
   "id": "0604fbc9-ef45-406a-937b-94fe836722b1",
   "metadata": {},
   "outputs": [],
   "source": [
    "fig = plt.figure(figsize = (8, 8))\n",
    "# make subplots\n",
    "ax = fig.add_subplot(111)    # The big subplot\n",
    "ax1 = fig.add_subplot(211)\n",
    "ax2 = fig.add_subplot(212)\n",
    "# Turn off axis lines and ticks of the big subplot\n",
    "ax.spines['top'].set_color('none')\n",
    "ax.spines['bottom'].set_color('none')\n",
    "ax.spines['left'].set_color('none')\n",
    "ax.spines['right'].set_color('none')\n",
    "ax.tick_params(labelcolor='w', top=False, bottom=False, left=False, right=False)\n",
    "# speed diff\n",
    "ax1.scatter(peak_intensities, dv)\n",
    "# radiant diff\n",
    "ax2.scatter(peak_intensities, drad)\n",
    "ax2.set_yscale('log')  # set yscale for radiant diff to log as in b&b\n",
    "# set logarithmic x scales for intensity for both\n",
    "ax1.set_xscale('log')\n",
    "ax2.set_xscale('log')\n",
    "# label\n",
    "ax.set_xlabel('Peak Intensity (W/sr)')\n",
    "ax1.set_ylabel('Speed Difference (km/s)')\n",
    "ax2.set_ylabel('Radiant Difference (deg)')\n",
    "# plt.tight_layout()"
   ]
  },
  {
   "cell_type": "markdown",
   "id": "716fac5f-2af5-4432-8d2a-482f232c6342",
   "metadata": {},
   "source": [
    "Speed and Radiant differences vs. LC duration:"
   ]
  },
  {
   "cell_type": "code",
   "execution_count": null,
   "id": "9f65dd5f-725c-4ab5-830d-21ec5e1dae28",
   "metadata": {},
   "outputs": [],
   "source": [
    "fig = plt.figure(figsize = (8, 8))\n",
    "# make subplots\n",
    "ax = fig.add_subplot(111)    # The big subplot\n",
    "ax1 = fig.add_subplot(211)\n",
    "ax2 = fig.add_subplot(212)\n",
    "# Turn off axis lines and ticks of the big subplot\n",
    "ax.spines['top'].set_color('none')\n",
    "ax.spines['bottom'].set_color('none')\n",
    "ax.spines['left'].set_color('none')\n",
    "ax.spines['right'].set_color('none')\n",
    "ax.tick_params(labelcolor='w', top=False, bottom=False, left=False, right=False)\n",
    "# speed diff\n",
    "ax1.scatter(lc_durations_17, dv, label = '-17 threshold')\n",
    "ax1.scatter(lc_durations_12, dv, label = '-12 threshold')\n",
    "# radiant diff\n",
    "ax2.scatter(lc_durations_17, drad, label = '-17 threshold')\n",
    "ax2.scatter(lc_durations_12, drad, label = '-12 threshold')\n",
    "ax2.set_yscale('log')  # set yscale for radiant diff to log as in b&b\n",
    "# label\n",
    "ax.set_xlabel('Lightcurve duration (s)')\n",
    "ax1.set_ylabel('Speed Difference (km/s)')\n",
    "ax2.set_ylabel('Radiant Difference (deg)')\n",
    "# legend\n",
    "ax1.legend(loc='upper right')\n",
    "ax2.legend(loc='upper right')\n",
    "# plt.tight_layout()"
   ]
  },
  {
   "cell_type": "markdown",
   "id": "2c617b07-f98b-4a9e-9d06-e625cbee9c20",
   "metadata": {},
   "source": [
    "Now plot the speed and radiant difference vs. the entry angle, colour-coding by duration, peak intensity, total energy (integrated intensity), and height of peak brightness respectively (for a total of $8$ plots):"
   ]
  },
  {
   "cell_type": "markdown",
   "id": "637d5269-cb14-4c17-8c46-67773dae6f77",
   "metadata": {},
   "source": [
    "Define function to compute the total energy (integrated intensity):"
   ]
  },
  {
   "cell_type": "code",
   "execution_count": null,
   "id": "49e5a2f7-5519-4185-a5ee-1ffd50bdf6f6",
   "metadata": {},
   "outputs": [],
   "source": [
    "def get_total_energy(intensity_csv_path):\n",
    "    \"\"\"\n",
    "    Gets the total energy of a fireball event from the intensity CSV generated by the CNEOS_LC_INT_MAY-format.py \n",
    "    script by numerically integrating over intensity, given the path 'intensity_csv_path' to the event\n",
    "\n",
    "    param str: intensity_csv_path: file path to the intensity CSV for the fireblal event\n",
    "\n",
    "    return float: returns peak intensity value as a float\n",
    "    \"\"\"\n",
    "    intensity_df = pd.read_csv(intensity_csv_path, header=None, names=['Time (s)', 'Intensity (W/sr)'])  # reading the intensity data\n",
    "    # numerically integrate over the intensity to get total energy using the trapezoid rule, since we have a dataframe of \n",
    "    # times and intensities at the time\n",
    "    # only take the positive intensities since negative intensities are unphysical\n",
    "    # could remove some of this code if it slows it down a lot later...\n",
    "    positive_intensity_df = intensity_df.copy()\n",
    "    negative_intensity_df = intensity_df.copy()\n",
    "    # split into positive and negative areas separately\n",
    "    positive_intensity_df['Intensity (W/sr)'].clip(lower=0., inplace=True)  # ignore negative intensities\n",
    "    negative_intensity_df['Intensity (W/sr)'].clip(upper=0., inplace=True)  # ignore positive intensities here\n",
    "    # perform numerical integration over the total intensity using scipy.integrate.trapezoid (trapezoid rule) to get the total energy\n",
    "    total_energy = scipy.integrate.trapezoid(y=positive_intensity_df['Intensity (W/sr)'], x=positive_intensity_df['Time (s)'])\n",
    "    # return the total energy\n",
    "    return total_energy"
   ]
  },
  {
   "cell_type": "markdown",
   "id": "66eeffc5-99f0-4e66-abfc-6af609509260",
   "metadata": {},
   "source": [
    "Get the integrated intensities (total energies) from the fireball `.csv` intensity files: "
   ]
  },
  {
   "cell_type": "code",
   "execution_count": null,
   "id": "39977495-e7b3-4c0b-93a6-97525ef7ecfd",
   "metadata": {},
   "outputs": [],
   "source": [
    "integrated_intensities = np.array([get_total_energy(csv_file) for csv_file in int_files])"
   ]
  },
  {
   "cell_type": "markdown",
   "id": "1066d400-b1dc-4365-8433-26d7ce102706",
   "metadata": {},
   "source": [
    "Getting the entry angles and heights of peak brightness:"
   ]
  },
  {
   "cell_type": "code",
   "execution_count": null,
   "id": "d2ec00a6-97ef-4374-b402-5e73f3d5f1b2",
   "metadata": {},
   "outputs": [],
   "source": [
    "# zenith/entry angles\n",
    "zenith_angle = usg_ground_based_comparison['Radiant Zenith Angle']\n",
    "entry_angle = 90 - zenith_angle  # entry angle is 90 degrees minus the radiant zenith angle\n",
    "# heights of peak brightness\n",
    "heights = usg_ground_based_comparison['Height']"
   ]
  },
  {
   "cell_type": "markdown",
   "id": "22d3f7dc-2e16-433d-bcf8-79e7635df821",
   "metadata": {},
   "source": [
    "Now plotting speed and radiant difference vs entry angle, colour-coding by duration at $\\geq -17$ magnitude, peak intensity, total energy and height of peak brightness. Take $\\log_{10}$ of duration, peak intensity, and total energy to scale the colourbar better:"
   ]
  },
  {
   "cell_type": "code",
   "execution_count": null,
   "id": "6205fb45-5a8a-4e76-9b00-48c0daf69052",
   "metadata": {},
   "outputs": [],
   "source": [
    "fig = plt.figure(figsize = (10, 16))\n",
    "# make the big subplots to put labels on\n",
    "ax_big1 = fig.add_subplot(411)\n",
    "ax_big2 = fig.add_subplot(412)\n",
    "ax_big3 = fig.add_subplot(413)\n",
    "ax_big4 = fig.add_subplot(414)\n",
    "# make the small plots to actually plot on\n",
    "ax1 = fig.add_subplot(421)\n",
    "ax2 = fig.add_subplot(422)\n",
    "ax3 = fig.add_subplot(423)\n",
    "ax4 = fig.add_subplot(424)\n",
    "ax5 = fig.add_subplot(425)\n",
    "ax6 = fig.add_subplot(426)\n",
    "ax7 = fig.add_subplot(427)\n",
    "ax8 = fig.add_subplot(428)\n",
    "# Turn off the axis lines and ticks of the big subplots\n",
    "ax_big1.spines['top'].set_color('none')\n",
    "ax_big1.spines['bottom'].set_color('none')\n",
    "ax_big1.spines['left'].set_color('none')\n",
    "ax_big1.spines['right'].set_color('none')\n",
    "ax_big1.tick_params(labelcolor='w', top=False, bottom=False, left=False, right=False)\n",
    "ax_big2.spines['top'].set_color('none')\n",
    "ax_big2.spines['bottom'].set_color('none')\n",
    "ax_big2.spines['left'].set_color('none')\n",
    "ax_big2.spines['right'].set_color('none')\n",
    "ax_big2.tick_params(labelcolor='w', top=False, bottom=False, left=False, right=False)\n",
    "ax_big3.spines['top'].set_color('none')\n",
    "ax_big3.spines['bottom'].set_color('none')\n",
    "ax_big3.spines['left'].set_color('none')\n",
    "ax_big3.spines['right'].set_color('none')\n",
    "ax_big3.tick_params(labelcolor='w', top=False, bottom=False, left=False, right=False)\n",
    "ax_big4.spines['top'].set_color('none')\n",
    "ax_big4.spines['bottom'].set_color('none')\n",
    "ax_big4.spines['left'].set_color('none')\n",
    "ax_big4.spines['right'].set_color('none')\n",
    "ax_big4.tick_params(labelcolor='w', top=False, bottom=False, left=False, right=False)\n",
    "# speed diff against entry angle, colour-coding by duration, peak intensity, total energy and height of peak brightness\n",
    "p1 = ax1.scatter(entry_angle, dv, c=np.log10(lc_durations_17), cmap='viridis')  # duration\n",
    "p3 = ax3.scatter(entry_angle, dv, c=np.log10(peak_intensities), cmap='viridis') # peak intensity\n",
    "p5 = ax5.scatter(entry_angle, dv, c=np.log10(integrated_intensities), cmap='viridis')  # total energy\n",
    "p7 = ax7.scatter(entry_angle, dv, c=heights, cmap='viridis')  # height of peak brightness\n",
    "# radiant diff against entry angle, colour-coding by duration, peak intensity, total energy and height of peak brightness\n",
    "p2 = ax2.scatter(entry_angle, drad, c=np.log10(lc_durations_17), cmap='viridis')  # duration\n",
    "p4 = ax4.scatter(entry_angle, drad, c=np.log10(peak_intensities), cmap='viridis')  # peak intensity\n",
    "p6 = ax6.scatter(entry_angle, drad, c=np.log10(integrated_intensities), cmap='viridis')  # total energy\n",
    "p8 = ax8.scatter(entry_angle, drad, c=heights, cmap='viridis')  # height of peak brightness\n",
    "ax2.set_yscale('log')  # set yscale for radiant diff to log as in b&b\n",
    "ax4.set_yscale('log')\n",
    "ax6.set_yscale('log')\n",
    "ax8.set_yscale('log')\n",
    "# colourbars for each of the plots\n",
    "cbar1 = fig.colorbar(p1, ax=ax1)\n",
    "cbar2 = fig.colorbar(p2, ax=ax2)\n",
    "cbar1.ax.set_ylabel(r'$\\log{10}$ Duration', rotation=270)\n",
    "cbar2.ax.set_ylabel(r'$\\log{10}$ Duration', rotation=270)\n",
    "cbar1.ax.get_yaxis().labelpad=20\n",
    "cbar2.ax.get_yaxis().labelpad=20\n",
    "cbar3 = fig.colorbar(p3, ax=ax3)\n",
    "cbar4 = fig.colorbar(p4, ax=ax4)\n",
    "cbar3.ax.set_ylabel(r'$\\log{10}$ Peak Intensity', rotation=270)\n",
    "cbar4.ax.set_ylabel(r'$\\log{10}$ Peak Intensity', rotation=270)\n",
    "cbar3.ax.get_yaxis().labelpad=20\n",
    "cbar4.ax.get_yaxis().labelpad=20\n",
    "cbar5 = fig.colorbar(p5, ax=ax5)\n",
    "cbar6 = fig.colorbar(p6, ax=ax6)\n",
    "cbar5.ax.set_ylabel(r'$\\log{10}$ Total Energy', rotation=270)\n",
    "cbar6.ax.set_ylabel(r'$\\log{10}$ Total Energy', rotation=270)\n",
    "cbar5.ax.get_yaxis().labelpad=20\n",
    "cbar6.ax.get_yaxis().labelpad=20\n",
    "cbar7 = fig.colorbar(p7, ax=ax7)\n",
    "cbar8 = fig.colorbar(p8, ax=ax8)\n",
    "cbar7.ax.set_ylabel('Peak Brightness Height', rotation=270)\n",
    "cbar8.ax.set_ylabel('Peak Brightness Height', rotation=270)\n",
    "cbar7.ax.get_yaxis().labelpad=20\n",
    "cbar8.ax.get_yaxis().labelpad=20\n",
    "\n",
    "# label\n",
    "ax_big1.set_title('$\\log{10}$ Duration', pad=15)\n",
    "# ax_big1.set_xlabel('Entry angle (deg)')\n",
    "ax_big2.set_title('$\\log{10}$ Peak Intensity', pad=15)\n",
    "# ax_big2.set_xlabel('Entry angle (deg)')\n",
    "ax_big3.set_title('$\\log{10}$ Total Energy', pad=15)\n",
    "# ax_big3.set_xlabel('Entry angle (deg)')\n",
    "ax_big4.set_title('Peak Brightness Height', pad=15)\n",
    "ax_big4.set_xlabel('Entry angle (deg)')\n",
    "ax1.set_ylabel('Speed Difference (km/s)')\n",
    "ax3.set_ylabel('Speed Difference (km/s)')\n",
    "ax5.set_ylabel('Speed Difference (km/s)')\n",
    "ax7.set_ylabel('Speed Difference (km/s)')\n",
    "ax2.set_ylabel('Radiant Difference (deg)')\n",
    "ax4.set_ylabel('Radiant Difference (deg)')\n",
    "ax6.set_ylabel('Radiant Difference (deg)')\n",
    "ax8.set_ylabel('Radiant Difference (deg)')\n",
    "plt.tight_layout()"
   ]
  },
  {
   "cell_type": "markdown",
   "id": "6ed44ec0-add3-4135-88b3-2cf8dfd1443a",
   "metadata": {},
   "source": [
    "Plot speed difference and radiant difference against trajectory length, begin height and end height:"
   ]
  },
  {
   "cell_type": "code",
   "execution_count": null,
   "id": "feb97266-e449-4fd2-9cbf-130b7ae72ae6",
   "metadata": {},
   "outputs": [],
   "source": [
    "lengths = usg_ground_based_comparison['Length (km)']\n",
    "begin_heights = usg_ground_based_comparison['Begin Height (km)']\n",
    "end_heights = usg_ground_based_comparison['End Height (km)']"
   ]
  },
  {
   "cell_type": "markdown",
   "id": "618bc46c-4c43-4bda-a4b1-5476db95a2c1",
   "metadata": {},
   "source": [
    "Length:"
   ]
  },
  {
   "cell_type": "code",
   "execution_count": null,
   "id": "5014dee7-9eed-440c-8672-eb80ff43360a",
   "metadata": {},
   "outputs": [],
   "source": [
    "fig = plt.figure(figsize = (8, 8))\n",
    "# make subplots\n",
    "ax = fig.add_subplot(111)    # The big subplot\n",
    "ax1 = fig.add_subplot(211)\n",
    "ax2 = fig.add_subplot(212)\n",
    "# Turn off axis lines and ticks of the big subplot\n",
    "ax.spines['top'].set_color('none')\n",
    "ax.spines['bottom'].set_color('none')\n",
    "ax.spines['left'].set_color('none')\n",
    "ax.spines['right'].set_color('none')\n",
    "ax.tick_params(labelcolor='w', top=False, bottom=False, left=False, right=False)\n",
    "# speed diff\n",
    "ax1.scatter(lengths, dv)\n",
    "# radiant diff\n",
    "ax2.scatter(lengths, drad)\n",
    "ax2.set_yscale('log')  # set yscale for radiant diff to log as in b&b\n",
    "# label\n",
    "ax.set_xlabel('Length (km)')\n",
    "ax1.set_ylabel('Speed Difference (km/s)')\n",
    "ax2.set_ylabel('Radiant Difference (deg)')\n",
    "# plt.tight_layout()"
   ]
  },
  {
   "cell_type": "markdown",
   "id": "ba66b6ee-d898-497e-8972-c426e2f67550",
   "metadata": {},
   "source": [
    "Begin/end height:"
   ]
  },
  {
   "cell_type": "code",
   "execution_count": null,
   "id": "256364c2-c9c4-4743-ae3a-b56a66300ec3",
   "metadata": {},
   "outputs": [],
   "source": [
    "fig = plt.figure(figsize = (10, 8))\n",
    "# make subplots\n",
    "ax_big1 = fig.add_subplot(211)    # The big subplot\n",
    "ax_big2 = fig.add_subplot(212)   # big suplot 2\n",
    "ax1 = fig.add_subplot(221)\n",
    "ax2 = fig.add_subplot(222)\n",
    "ax3 = fig.add_subplot(223)\n",
    "ax4 = fig.add_subplot(224)\n",
    "# Turn off axis lines and ticks of the big subplots\n",
    "ax_big1.spines['top'].set_color('none')\n",
    "ax_big1.spines['bottom'].set_color('none')\n",
    "ax_big1.spines['left'].set_color('none')\n",
    "ax_big1.spines['right'].set_color('none')\n",
    "ax_big1.tick_params(labelcolor='w', top=False, bottom=False, left=False, right=False)\n",
    "ax_big2.spines['top'].set_color('none')\n",
    "ax_big2.spines['bottom'].set_color('none')\n",
    "ax_big2.spines['left'].set_color('none')\n",
    "ax_big2.spines['right'].set_color('none')\n",
    "ax_big2.tick_params(labelcolor='w', top=False, bottom=False, left=False, right=False)\n",
    "# speed diff against begin/end heights\n",
    "ax1.scatter(begin_heights, dv)  # begin\n",
    "ax3.scatter(end_heights, dv)  # end\n",
    "# radiant diff against begin/end heights\n",
    "ax2.scatter(begin_heights, drad)  # begin\n",
    "ax4.scatter(end_heights, drad)  # end\n",
    "ax2.set_yscale('log')  # set yscale for radiant diff to log as in b&b\n",
    "ax4.set_yscale('log')\n",
    "# label\n",
    "ax_big1.set_xlabel('Begin height (km)')\n",
    "ax_big2.set_xlabel('End height (km)')\n",
    "ax1.set_ylabel('Speed Difference (km/s)')\n",
    "ax3.set_ylabel('Speed Difference (km/s)')\n",
    "ax2.set_ylabel('Radiant Difference (deg)')\n",
    "ax4.set_ylabel('Radiant Difference (deg)')\n",
    "plt.tight_layout()"
   ]
  },
  {
   "cell_type": "markdown",
   "id": "f2302850-9f0c-4581-950d-57e1f484d305",
   "metadata": {},
   "source": [
    "Now plot speed and radiant difference against event date:"
   ]
  },
  {
   "cell_type": "markdown",
   "id": "d26c709b-23a3-49b8-9393-b016868eef02",
   "metadata": {},
   "source": [
    "Get dates:"
   ]
  },
  {
   "cell_type": "code",
   "execution_count": null,
   "id": "984e460d-8ec7-4b02-9f08-921f68122482",
   "metadata": {},
   "outputs": [],
   "source": [
    "dates = usg_ground_based_comparison['Date']  # convert data to datetime"
   ]
  },
  {
   "cell_type": "markdown",
   "id": "1f2c42d0-7cac-422b-8cde-0584e5e77714",
   "metadata": {},
   "source": [
    "Plot:"
   ]
  },
  {
   "cell_type": "code",
   "execution_count": null,
   "id": "7e7506c8-66b1-49d6-b00c-55cbde299873",
   "metadata": {},
   "outputs": [],
   "source": [
    "fig = plt.figure(figsize = (8, 8))\n",
    "# make subplots\n",
    "ax = fig.add_subplot(111)    # The big subplot\n",
    "ax1 = fig.add_subplot(211)\n",
    "ax2 = fig.add_subplot(212)\n",
    "# Turn off axis lines and ticks of the big subplot\n",
    "ax.spines['top'].set_color('none')\n",
    "ax.spines['bottom'].set_color('none')\n",
    "ax.spines['left'].set_color('none')\n",
    "ax.spines['right'].set_color('none')\n",
    "ax.tick_params(labelcolor='w', top=False, bottom=False, left=False, right=False)\n",
    "# speed diff\n",
    "ax1.scatter(dates, dv)\n",
    "# radiant diff\n",
    "ax2.scatter(dates, drad)\n",
    "ax2.set_yscale('log')  # set yscale for radiant diff to log as in b&b\n",
    "# label\n",
    "ax.set_xlabel('Date')\n",
    "ax1.set_ylabel('Speed Difference (km/s)')\n",
    "ax2.set_ylabel('Radiant Difference (deg)')\n",
    "# plt.tight_layout()"
   ]
  },
  {
   "cell_type": "markdown",
   "id": "6d9e5a5f-45aa-495f-a2d6-dce1bca4c8c3",
   "metadata": {},
   "source": [
    "Plot CDF/histogram of the radiant/speed differences:"
   ]
  },
  {
   "cell_type": "code",
   "execution_count": null,
   "id": "dc81ddeb-f3a9-4896-96e8-aaf46a233461",
   "metadata": {},
   "outputs": [],
   "source": [
    "fig = plt.figure(figsize = (12, 10))\n",
    "# subplots\n",
    "ax_big1 = fig.add_subplot(211)  # big\n",
    "ax_big2 = fig.add_subplot(212)  # big\n",
    "ax1 = fig.add_subplot(221)\n",
    "ax2 = fig.add_subplot(222)\n",
    "ax3 = fig.add_subplot(223)\n",
    "ax4 = fig.add_subplot(224)\n",
    "# Turn off axis lines and ticks of the big subplot\n",
    "ax_big1.spines['top'].set_color('none')\n",
    "ax_big1.spines['bottom'].set_color('none')\n",
    "ax_big1.spines['left'].set_color('none')\n",
    "ax_big1.spines['right'].set_color('none')\n",
    "ax_big1.tick_params(labelcolor='w', top=False, bottom=False, left=False, right=False)\n",
    "ax_big2.spines['top'].set_color('none')\n",
    "ax_big2.spines['bottom'].set_color('none')\n",
    "ax_big2.spines['left'].set_color('none')\n",
    "ax_big2.spines['right'].set_color('none')\n",
    "ax_big2.tick_params(labelcolor='w', top=False, bottom=False, left=False, right=False)\n",
    "# plot CDF for dv\n",
    "ax1.hist(dv, density=True, cumulative=True, bins='fd')\n",
    "# plot CDF for radiant diff\n",
    "ax2.hist(drad, density=True, cumulative=True, bins='fd')\n",
    "# plot histogram for dv\n",
    "ax3.hist(dv, density=True, bins='fd')  # fd bins?\n",
    "ax3.plot(np.linspace(np.min(dv), np.max(dv), 1000), scipy.stats.gaussian_kde(dv)(np.linspace(np.min(dv), np.max(dv), 1000)))\n",
    "# plot for radiant diff\n",
    "ax4.hist(drad, density=True, bins='fd')  # fd bins?\n",
    "ax4.plot(np.linspace(np.min(drad), np.max(drad), 1000), scipy.stats.gaussian_kde(dv)(np.linspace(np.min(drad), np.max(drad), 1000)))\n",
    "# labels\n",
    "ax_big1.set_ylabel('Density')\n",
    "ax_big2.set_ylabel('Density')\n",
    "ax3.set_xlabel('Speed Difference (km/s)')\n",
    "ax4.set_xlabel('Radiant Difference (km/s)')\n",
    "plt.tight_layout()"
   ]
  },
  {
   "cell_type": "markdown",
   "id": "e49ac2dd-8879-4aa7-9c8d-963ea9369d46",
   "metadata": {},
   "source": [
    "#### Dimensionality reduction:"
   ]
  },
  {
   "cell_type": "markdown",
   "id": "f29b2bcf-f742-4f6e-8d40-e2dce7eea46a",
   "metadata": {},
   "source": [
    "Now make a dataframe for $X$ that has all the parameters we want to use in our dimensionality reduction methods (PCA, t-SNE/UMAP), which are:\n",
    "\n",
    "- Speed\n",
    "- Peak Intensity\n",
    "- LC Duration\n",
    "- Total Energy (integrated intensity)\n",
    "- Entry Angle\n",
    "- Height of peak brightness\n",
    "- Trail length\n",
    "- Begin Height\n",
    "- End Height\n",
    "- Date"
   ]
  },
  {
   "cell_type": "markdown",
   "id": "0a4a334f-a9b8-4653-a86b-30394df56693",
   "metadata": {},
   "source": [
    "And a dataframe for $Y$ which is what we want to predict; speed difference and radiant difference"
   ]
  },
  {
   "cell_type": "markdown",
   "id": "cbbdc6a6-b4c2-42ad-b276-84cac414c147",
   "metadata": {},
   "source": [
    "Also drop $2022$ EB$5$ as it contains NaN value:"
   ]
  },
  {
   "cell_type": "code",
   "execution_count": null,
   "id": "7cac967b-7b6a-4d65-90bf-39a266fe3e50",
   "metadata": {},
   "outputs": [],
   "source": [
    "# dataframe with all the parameters\n",
    "x_df = pd.concat([usg_ground_based_comparison[['Speed', 'Height', 'Date', \n",
    "                                               'Begin Height (km)', 'End Height (km)', 'Length (km)']].reset_index(drop=True), \n",
    "                 pd.DataFrame.transpose(pd.DataFrame(data=(peak_intensities, lc_durations_17, integrated_intensities, entry_angle)))], axis=1)\n",
    "# set column names as variables\n",
    "variables = ['Speed', 'Height', 'Date', 'Begin Height', 'End Height', 'Length', 'Peak Intensity', 'Duration', 'Total Energy', 'Entry Angle']\n",
    "x_df.columns = [variables]\n",
    "\n",
    "# convert date to log number of seconds after the first event\n",
    "x_df['Date'] = x_df['Date'].astype(int)  \n",
    "\n",
    "# x_df['Date'] = np.log10(x_df['Date']) # otherwise pca dominated by date\n",
    "# # convert peak intensities, total energy to log10 as well\n",
    "# x_df['Peak Intensity'] = np.log10(x_df['Peak Intensity'])\n",
    "# x_df['Total Energy'] = np.log10(x_df['Total Energy'])\n",
    "# # convert begin height, end height, length\n",
    "# x_df['Begin Height'] = x_df['Begin Height'] - np.min(x_df['Begin Height'])\n",
    "# x_df['End Height'] = x_df['End Height'] - np.min(x_df['End Height'])\n",
    "# x_df['Length'] = x_df['Length'] - np.min(x_df['Length'])\n",
    "\n",
    "# define y df\n",
    "y_df = usg_ground_based_comparison[['DV', 'Radiant Diff']].reset_index(drop=True)\n",
    "\n",
    "# drop 2022 EB5 as it contains NA value\n",
    "\n",
    "# x_df.drop(np.reshape(np.where(usg_ground_based_comparison['Event'].str.contains('2022 EB5')), -1), inplace=True)\n",
    "x_df.drop(x_df[usg_ground_based_comparison.reset_index(drop=True)['Event'] == '2022 EB5'].index, inplace=True)\n",
    "# y_df.drop(np.reshape(np.where(usg_ground_based_comparison['Event'].str.contains('2022 EB5')), -1), inplace=True)\n",
    "y_df.drop(y_df[usg_ground_based_comparison.reset_index(drop=True)['Event'] == '2022 EB5'].index, inplace=True)\n",
    "\n",
    "# transpose, since we want each row to be a variable and each column to be an observation\n",
    "x_df_transpose = pd.DataFrame.transpose(x_df)"
   ]
  },
  {
   "cell_type": "markdown",
   "id": "8203665e-5f85-436c-9d0f-b11cb86e7efc",
   "metadata": {},
   "source": [
    "Try manually standardizing the data:"
   ]
  },
  {
   "cell_type": "code",
   "execution_count": null,
   "id": "2311c6d9-f65b-4f3b-9599-a558672bdf86",
   "metadata": {},
   "outputs": [],
   "source": [
    "standardized_pca_array = []\n",
    "standardization_means = np.zeros(len(np.array(x_df_transpose)))\n",
    "standardization_sigmas = np.zeros(len(np.array(x_df_transpose)))\n",
    "\n",
    "for i, param in enumerate(np.array(x_df_transpose)):\n",
    "    mean, sigma = np.mean(param), np.std(param)\n",
    "    norm = (param - mean)/sigma\n",
    "    standardized_pca_array.append(norm)\n",
    "    standardization_means[i] = mean\n",
    "    standardization_sigmas[i] = sigma"
   ]
  },
  {
   "cell_type": "markdown",
   "id": "95424ae8-db93-4135-9436-3ba4b6d725b7",
   "metadata": {},
   "source": [
    "Performing the PCA (scaling data first):"
   ]
  },
  {
   "cell_type": "code",
   "execution_count": null,
   "id": "00b8cac3-f65c-46bf-9b7e-522acc82e349",
   "metadata": {},
   "outputs": [],
   "source": [
    "# scaling\n",
    "standardized_pca_array = StandardScaler().fit_transform(standardized_pca_array)\n",
    "\n",
    "# perform PCA\n",
    "pca = PCA(n_components = 4)\n",
    "all_pca = pca.fit_transform(standardized_pca_array)"
   ]
  },
  {
   "cell_type": "code",
   "execution_count": null,
   "id": "c1d2c724-4643-4e97-be28-1115b8a8dbe8",
   "metadata": {},
   "outputs": [],
   "source": [
    "def myplot(score,coeff,labels=None):\n",
    "    xs = score[:,0]\n",
    "    ys = score[:,1]\n",
    "    n = coeff.shape[0]\n",
    "\n",
    "    plt.scatter(xs,ys) #without scaling\n",
    "    for i in range(n):\n",
    "        plt.arrow(0, 0, coeff[i,0], coeff[i,1],color = 'r',alpha = 0.5)\n",
    "        if labels is None:\n",
    "            plt.text(coeff[i,0]* 1.15, coeff[i,1] * 1.15, \"Var\"+str(i+1), color = 'g', ha = 'center', va = 'center')\n",
    "        else:\n",
    "            plt.text(coeff[i,0]* 1.15, coeff[i,1] * 1.15, labels[i], color = 'g', ha = 'center', va = 'center')\n",
    "\n",
    "plt.xlabel(\"PC{}\".format(1))\n",
    "plt.ylabel(\"PC{}\".format(2))\n",
    "plt.grid()\n",
    "\n",
    "#Call the function. \n",
    "myplot(all_pca, pca.components_) \n",
    "plt.show()"
   ]
  },
  {
   "cell_type": "code",
   "execution_count": null,
   "id": "6e425153-fd47-4d8b-a414-96ade777d900",
   "metadata": {},
   "outputs": [],
   "source": [
    "all_pca, variables"
   ]
  },
  {
   "cell_type": "code",
   "execution_count": null,
   "id": "a2c06ce7-35c5-462c-8d52-29d2c881377e",
   "metadata": {},
   "outputs": [],
   "source": [
    "pca.explained_variance_ratio_"
   ]
  },
  {
   "cell_type": "markdown",
   "id": "bf6687b3-ce22-4b95-ad74-558c4439ca70",
   "metadata": {},
   "source": [
    "Doesn't look like there's anything that particularly stands out as being very important...\n",
    "\n",
    "PC1: Height, End Height, Entry Angle as highest contributors to variance...\n",
    "\n",
    "PC2: Date, Begin Height, Length (all weakly)"
   ]
  },
  {
   "cell_type": "markdown",
   "id": "ce5e1fe8-109b-4a80-b4f7-b0eb3c9dea21",
   "metadata": {},
   "source": [
    "Try UMAP/t-SNE next:"
   ]
  },
  {
   "cell_type": "code",
   "execution_count": null,
   "id": "a8a3a7c0-b368-4557-af02-77ba9dbe473b",
   "metadata": {},
   "outputs": [],
   "source": [
    "# umap takes in the array transposed\n",
    "standardized_pca_array_transpose = np.transpose(standardized_pca_array)\n",
    "\n",
    "# perfrom the reduction and UMAP\n",
    "reducer = umap.UMAP(n_neighbors=3, n_components=2)\n",
    "embedding = reducer.fit_transform(standardized_pca_array_transpose)\n",
    "\n",
    "umap_dimX = embedding[:, 0]\n",
    "umap_dimY = embedding[:, 1]\n",
    "\n",
    "# empirically determined clusters?\n",
    "indices_g1 = [2, 7, 12]\n",
    "indices_g2 = [0, 6, 11, 13, 14, 15]\n",
    "indices_g3 = [1, 3, 4, 5, 8, 9, 10]\n",
    "\n",
    "# plot\n",
    "# plt.scatter(umap_dimX, umap_dimY)#, s=1)\n",
    "plt.scatter(umap_dimX[indices_g1], umap_dimY[indices_g1], c='r')\n",
    "plt.scatter(umap_dimX[indices_g2], umap_dimY[indices_g2], c='g')\n",
    "plt.scatter(umap_dimX[indices_g3], umap_dimY[indices_g3], c='b')"
   ]
  },
  {
   "cell_type": "markdown",
   "id": "9da56760-e1d3-48d5-baa4-2c48c3291df6",
   "metadata": {},
   "source": [
    "green and blue not necessarily so distinct all the time, red is though..."
   ]
  },
  {
   "cell_type": "code",
   "execution_count": null,
   "id": "a4d438f5-d65f-48d7-998c-040c0f367997",
   "metadata": {},
   "outputs": [],
   "source": [
    "usg_ground_based_comparison_dimred = usg_ground_based_comparison.reset_index(drop=True).drop(1).reset_index(drop=True)\n",
    "\n",
    "names = usg_ground_based_comparison_dimred ['Event']\n",
    "names[indices_g1], names[indices_g2], names[indices_g3]"
   ]
  },
  {
   "cell_type": "markdown",
   "id": "410579fb-b2c9-4568-9119-444b6c4a0877",
   "metadata": {},
   "source": [
    "BB, Froslunda, Ozerski are the most distinct cluster in all of these..."
   ]
  },
  {
   "cell_type": "code",
   "execution_count": null,
   "id": "b4068707-a374-412d-9fda-305055642aba",
   "metadata": {},
   "outputs": [],
   "source": [
    "x_df.iloc[indices_g1][variables]"
   ]
  },
  {
   "cell_type": "code",
   "execution_count": null,
   "id": "e0fe2c6c-65a4-41ff-a0f7-96f25609b28c",
   "metadata": {},
   "outputs": [],
   "source": [
    "y_df.iloc[indices_g1]"
   ]
  }
 ],
 "metadata": {
  "kernelspec": {
   "display_name": "Python 3 (ipykernel)",
   "language": "python",
   "name": "python3"
  },
  "language_info": {
   "codemirror_mode": {
    "name": "ipython",
    "version": 3
   },
   "file_extension": ".py",
   "mimetype": "text/x-python",
   "name": "python",
   "nbconvert_exporter": "python",
   "pygments_lexer": "ipython3",
   "version": "3.8.18"
  }
 },
 "nbformat": 4,
 "nbformat_minor": 5
}
