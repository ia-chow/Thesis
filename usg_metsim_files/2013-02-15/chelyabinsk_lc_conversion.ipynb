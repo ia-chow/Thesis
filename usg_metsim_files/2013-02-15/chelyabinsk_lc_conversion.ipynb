{
 "cells": [
  {
   "cell_type": "code",
   "execution_count": 1,
   "id": "047e8f2c-a6c0-40e7-a51d-e79bcc646b89",
   "metadata": {},
   "outputs": [],
   "source": [
    "import pandas as pd\n",
    "import numpy as np"
   ]
  },
  {
   "cell_type": "markdown",
   "id": "4f2a3ceb-6d3c-4030-9cad-63849ee441bd",
   "metadata": {},
   "source": [
    "Short notebook to convert the chelyabinsk light curve to the USG-format light curve:"
   ]
  },
  {
   "cell_type": "code",
   "execution_count": 2,
   "id": "34e0ce91-2eab-420a-89be-2bc69905a09f",
   "metadata": {},
   "outputs": [],
   "source": [
    "chel_lc = pd.read_csv('../../dynamics/events/Chelyabinsk/chelyabinsk_lc_INT.csv', header=None)\n",
    "chel_lc.columns = [['time', 'int']]\n",
    "chel_lc.time = chel_lc.time.astype(str)\n",
    "chel_lc.int = chel_lc.int.astype(str)\n",
    "chel_lc.dropna(inplace=True)"
   ]
  },
  {
   "cell_type": "code",
   "execution_count": 3,
   "id": "75b980b4-2ef6-4065-8e3e-7857fb29549c",
   "metadata": {},
   "outputs": [],
   "source": [
    "text = ('(' + chel_lc[['time', 'int']].apply(lambda x: ', '.join(x), axis=1) + '),').astype(str)"
   ]
  },
  {
   "cell_type": "code",
   "execution_count": 4,
   "id": "7b958cc4-68c4-4ead-8624-1e4daf147777",
   "metadata": {},
   "outputs": [],
   "source": [
    "np.savetxt('chel_lc_text.txt', text, fmt='%s')"
   ]
  }
 ],
 "metadata": {
  "kernelspec": {
   "display_name": "Python 3 (ipykernel)",
   "language": "python",
   "name": "python3"
  },
  "language_info": {
   "codemirror_mode": {
    "name": "ipython",
    "version": 3
   },
   "file_extension": ".py",
   "mimetype": "text/x-python",
   "name": "python",
   "nbconvert_exporter": "python",
   "pygments_lexer": "ipython3",
   "version": "3.8.18"
  }
 },
 "nbformat": 4,
 "nbformat_minor": 5
}
