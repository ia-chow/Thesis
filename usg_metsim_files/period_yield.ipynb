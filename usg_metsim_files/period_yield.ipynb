{
 "cells": [
  {
   "cell_type": "code",
   "execution_count": 1,
   "id": "95cec570-8275-414b-8b4f-c227d7ebc2cb",
   "metadata": {},
   "outputs": [],
   "source": [
    "import numpy as np\n",
    "import pandas as pd"
   ]
  },
  {
   "cell_type": "markdown",
   "id": "a5aede53-92f1-4a93-8425-cdcc4316cf11",
   "metadata": {},
   "source": [
    "Define function to convert period to yield:"
   ]
  },
  {
   "cell_type": "code",
   "execution_count": 2,
   "id": "dc0c9f09-4d32-48c5-83e1-5ed890f7641f",
   "metadata": {},
   "outputs": [],
   "source": [
    "def period_yield(period, ab):\n",
    "    \"\"\"\n",
    "    Period-yield relation of the form log(E) = a * log10(tau) + b, where E is the energy yield in \n",
    "    kT of TNT equivalent and tau is the infrasound signal period in seconds,\n",
    "    with coefficients a, b = ab fit by various methods\n",
    "\n",
    "    param period: infrasound signal period in seconds\n",
    "    param ab: tuple of coefficients a, b fit using the form above\n",
    "\n",
    "    return E: energy yield in kT of TNT equivalent\n",
    "    \"\"\"\n",
    "    a, b = ab  # unpack\n",
    "    E = 10. ** (a * np.log10(period) + b)  # do 10^log10(E) to get E\n",
    "    return E\n",
    "\n",
    "# coefficients for the various fits listed in Gi and Brown 2017\n",
    "gi_single = (3.68, -1.99)  # empirical fits derived by Gi and Brown 2017\n",
    "gi_multi = (3.84, -2.21)\n",
    "aftac_200 = (3.34, -2.28)  # aftac fits produced by ReVelle 1997\n",
    "aftac_80 = (4.14, -3.31)\n",
    "ens_single = (3.75, 3.50)  # Ens et al. 2012\n",
    "ens_multi = (3.28, 3.71)"
   ]
  },
  {
   "cell_type": "markdown",
   "id": "df04e574-32fc-43a8-a0c8-85b880a50814",
   "metadata": {},
   "source": [
    "Import data:"
   ]
  },
  {
   "cell_type": "code",
   "execution_count": 3,
   "id": "8ee9ea94-30e9-42de-a24f-7619875a3da6",
   "metadata": {
    "scrolled": true
   },
   "outputs": [],
   "source": [
    "gi_infrasound = pd.read_csv('infrasound/decameter_events_infrasound_gi.csv').dropna(axis=1, how='all')\n",
    "ens_infrasound = pd.read_csv('infrasound/decameter_events_infrasound_ens.csv').dropna(axis=1, how='all')"
   ]
  },
  {
   "cell_type": "code",
   "execution_count": 4,
   "id": "a8dbd415-a70d-4ad3-920d-4495bb9094af",
   "metadata": {
    "scrolled": true
   },
   "outputs": [
    {
     "data": {
      "text/html": [
       "<div>\n",
       "<style scoped>\n",
       "    .dataframe tbody tr th:only-of-type {\n",
       "        vertical-align: middle;\n",
       "    }\n",
       "\n",
       "    .dataframe tbody tr th {\n",
       "        vertical-align: top;\n",
       "    }\n",
       "\n",
       "    .dataframe thead th {\n",
       "        text-align: right;\n",
       "    }\n",
       "</style>\n",
       "<table border=\"1\" class=\"dataframe\">\n",
       "  <thead>\n",
       "    <tr style=\"text-align: right;\">\n",
       "      <th></th>\n",
       "      <th>Energy(kt)</th>\n",
       "      <th>Period 1(s)</th>\n",
       "      <th>Period 2(s)</th>\n",
       "      <th>Period @Max Amp(s)</th>\n",
       "    </tr>\n",
       "    <tr>\n",
       "      <th>date / location  /  time</th>\n",
       "      <th></th>\n",
       "      <th></th>\n",
       "      <th></th>\n",
       "      <th></th>\n",
       "    </tr>\n",
       "  </thead>\n",
       "  <tbody>\n",
       "    <tr>\n",
       "      <th>06-Feb-16</th>\n",
       "      <td>13.0</td>\n",
       "      <td>5.111100</td>\n",
       "      <td>4.822733</td>\n",
       "      <td>4.966933</td>\n",
       "    </tr>\n",
       "    <tr>\n",
       "      <th>08-Oct-09</th>\n",
       "      <td>33.0</td>\n",
       "      <td>7.086167</td>\n",
       "      <td>6.752925</td>\n",
       "      <td>6.919492</td>\n",
       "    </tr>\n",
       "    <tr>\n",
       "      <th>09-Dec-06</th>\n",
       "      <td>14.0</td>\n",
       "      <td>3.684633</td>\n",
       "      <td>3.320900</td>\n",
       "      <td>3.502800</td>\n",
       "    </tr>\n",
       "    <tr>\n",
       "      <th>15-Feb-13</th>\n",
       "      <td>440.0</td>\n",
       "      <td>36.427667</td>\n",
       "      <td>37.033800</td>\n",
       "      <td>36.730733</td>\n",
       "    </tr>\n",
       "    <tr>\n",
       "      <th>25-Dec-10</th>\n",
       "      <td>33.0</td>\n",
       "      <td>8.307342</td>\n",
       "      <td>8.207992</td>\n",
       "      <td>8.257726</td>\n",
       "    </tr>\n",
       "    <tr>\n",
       "      <th>30-Apr-13</th>\n",
       "      <td>10.0</td>\n",
       "      <td>6.439700</td>\n",
       "      <td>7.109400</td>\n",
       "      <td>6.774500</td>\n",
       "    </tr>\n",
       "  </tbody>\n",
       "</table>\n",
       "</div>"
      ],
      "text/plain": [
       "                          Energy(kt)  Period 1(s)  Period 2(s)  \\\n",
       "date / location  /  time                                         \n",
       "06-Feb-16                       13.0     5.111100     4.822733   \n",
       "08-Oct-09                       33.0     7.086167     6.752925   \n",
       "09-Dec-06                       14.0     3.684633     3.320900   \n",
       "15-Feb-13                      440.0    36.427667    37.033800   \n",
       "25-Dec-10                       33.0     8.307342     8.207992   \n",
       "30-Apr-13                       10.0     6.439700     7.109400   \n",
       "\n",
       "                          Period @Max Amp(s)  \n",
       "date / location  /  time                      \n",
       "06-Feb-16                           4.966933  \n",
       "08-Oct-09                           6.919492  \n",
       "09-Dec-06                           3.502800  \n",
       "15-Feb-13                          36.730733  \n",
       "25-Dec-10                           8.257726  \n",
       "30-Apr-13                           6.774500  "
      ]
     },
     "execution_count": 4,
     "metadata": {},
     "output_type": "execute_result"
    }
   ],
   "source": [
    "# get columns with period and some other data, group by event and then compute average period\n",
    "gi_infrasound_mean_periods = gi_infrasound[['date / location  /  time', 'Energy(kt)', 'Period 1(s)', 'Period 2(s)', 'Period @Max Amp(s)']].groupby(['date / location  /  time']).mean()\n",
    "gi_infrasound_mean_periods"
   ]
  },
  {
   "cell_type": "code",
   "execution_count": 10,
   "id": "125430ad-4710-4117-a71b-1cf13e515238",
   "metadata": {},
   "outputs": [
    {
     "data": {
      "text/plain": [
       "date / location  /  time\n",
       "06-Feb-16    9.843957e+05\n",
       "08-Oct-09    2.920407e+06\n",
       "09-Dec-06    3.130995e+05\n",
       "15-Feb-13    6.971032e+08\n",
       "25-Dec-10    5.215576e+06\n",
       "30-Apr-13    2.724441e+06\n",
       "Name: Period @Max Amp(s), dtype: float64"
      ]
     },
     "execution_count": 10,
     "metadata": {},
     "output_type": "execute_result"
    }
   ],
   "source": [
    "period_yield((gi_infrasound_mean_periods['Period @Max Amp(s)']), ens_multi)"
   ]
  },
  {
   "cell_type": "code",
   "execution_count": 6,
   "id": "892c66f9-5e47-413e-9ba1-accbc93b41a4",
   "metadata": {},
   "outputs": [
    {
     "data": {
      "text/plain": [
       "['Period 1(s)', 'Period 2(s)', 'Period @Max Amp(s)']"
      ]
     },
     "execution_count": 6,
     "metadata": {},
     "output_type": "execute_result"
    }
   ],
   "source": [
    "[s for s in gi_infrasound.columns.tolist() if 'Period' in s]"
   ]
  }
 ],
 "metadata": {
  "kernelspec": {
   "display_name": "Python 3 (ipykernel)",
   "language": "python",
   "name": "python3"
  },
  "language_info": {
   "codemirror_mode": {
    "name": "ipython",
    "version": 3
   },
   "file_extension": ".py",
   "mimetype": "text/x-python",
   "name": "python",
   "nbconvert_exporter": "python",
   "pygments_lexer": "ipython3",
   "version": "3.8.18"
  }
 },
 "nbformat": 4,
 "nbformat_minor": 5
}
